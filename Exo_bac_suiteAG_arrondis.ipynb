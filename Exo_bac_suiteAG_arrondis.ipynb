{
  "nbformat": 4,
  "nbformat_minor": 0,
  "metadata": {
    "colab": {
      "name": "Exo_bac_suiteAG_arrondis.ipynb",
      "provenance": [],
      "authorship_tag": "ABX9TyM52jDWQVb4szVVB5ZyNUsS",
      "include_colab_link": true
    },
    "kernelspec": {
      "name": "python3",
      "display_name": "Python 3"
    },
    "language_info": {
      "name": "python"
    }
  },
  "cells": [
    {
      "cell_type": "markdown",
      "metadata": {
        "id": "view-in-github",
        "colab_type": "text"
      },
      "source": [
        "<a href=\"https://colab.research.google.com/github/othoni-hub/ECG1/blob/main/Exo_bac_suiteAG_arrondis.ipynb\" target=\"_parent\"><img src=\"https://colab.research.google.com/assets/colab-badge.svg\" alt=\"Open In Colab\"/></a>"
      ]
    },
    {
      "cell_type": "markdown",
      "metadata": {
        "id": "aoWL4U753Msl"
      },
      "source": [
        "# **CPGE-ECG1** \n",
        "<img src=\"https://drive.google.com/uc?id=12Wo3LubGGT4qOvYFAuLP4CyCuwjKNVuk\" width=\"230\" height=\"150\" align = \"right\"/>\n",
        "\n",
        "## **Ch7 - Notebook : Convergence d'une suite réelle : un modèle critiquable...**\n",
        "\n",
        "\n",
        "\n"
      ]
    },
    {
      "cell_type": "markdown",
      "metadata": {
        "id": "to9VkuKqku-e"
      },
      "source": [
        "\n",
        "https://www.annales2maths.com/bac-blanc-esl-fevrier-2018-enonce-et-corrige/ \n"
      ]
    },
    {
      "cell_type": "markdown",
      "metadata": {
        "id": "MOJBeTcDmcqS"
      },
      "source": [
        "Voici une belle suite arithmético-géométrique...\n",
        "\n",
        "Il s'agit d'une municipalité qui cherche à faire évoluer son parc de vélos en libre-service : chaque année, 15% du parc est HS, et la commune investit dans 42 nouvelles machines :\n",
        "\n",
        "$ \\left\\{\\begin{matrix}\n",
        "u_0 = 200\n",
        "\\\\ \n",
        "\\forall n \\in \\mathbb{N}, u_{n+1} = 0.85 \\times u_n + 42\n",
        "\\end{matrix}\\right. $\n",
        "\n",
        "Les futurs bacheliers de 2016 auront démontré que cette suite convergeait vers 280, ça leur était demandé, en tous cas...\n",
        "\n",
        "Faites de même..."
      ]
    },
    {
      "cell_type": "code",
      "metadata": {
        "id": "Pa1uC_xAiVvd"
      },
      "source": [
        "u = 200\n",
        "n = 0\n",
        "while u < 279 : \n",
        "    u = 0.85*u + 42\n",
        "    n = n+1\n",
        "print(u)\n",
        "print(n)"
      ],
      "execution_count": null,
      "outputs": []
    },
    {
      "cell_type": "markdown",
      "metadata": {
        "id": "i5GsWaGumvM5"
      },
      "source": [
        "...MAIS...\n",
        "\n",
        "Un nombre de vélo n'est pas un nombre décimal, que se passe-t-il si on prend la partie entière du nombre u obtenu avant de calculer le suivant ?"
      ]
    },
    {
      "cell_type": "code",
      "metadata": {
        "id": "4bM8z5hNjLzh"
      },
      "source": [
        "from math import floor\n",
        "u = 200\n",
        "n = 0\n",
        "while u < 275 and n < 50 : \n",
        "    u = floor(0.85*u + 42)\n",
        "    n = n+1\n",
        "    print(u)\n",
        "print(n)"
      ],
      "execution_count": null,
      "outputs": []
    },
    {
      "cell_type": "markdown",
      "metadata": {
        "id": "km5SFjwIuch3"
      },
      "source": [
        "On dirait bien que la suite ne converge pas vers 280 mais 274..."
      ]
    },
    {
      "cell_type": "markdown",
      "metadata": {
        "id": "fu8fSHoNoKrT"
      },
      "source": [
        "**preuve :**\n",
        "\n",
        "On cherche $l \\in \\mathbb{N}$ tel que $\\left \\lfloor 0.85 l + 42 \\right \\rfloor = l ~~(*)$\n",
        "\n",
        "$(*) \\Leftrightarrow \\left \\lfloor 0.85 l \\right \\rfloor + 42 = l$\n",
        "\n",
        "$(*) \\Leftrightarrow \\left \\lfloor 0.85 l \\right \\rfloor  = l - 42$\n",
        "\n",
        "$(*) \\Leftrightarrow  l - 42 \\leqslant 0.85 l  <   l - 42 + 1$\n",
        "\n",
        "$(*) \\Leftrightarrow   - 42 \\leqslant 0.85 l - l  <   l - 42 + 1$\n",
        "\n",
        "$(*) \\Leftrightarrow   - 42 \\leqslant -015 l   <   - 41$\n",
        "\n",
        "$(*) \\Leftrightarrow   \\dfrac  {41} {0.15}  < l   \\leqslant   \\dfrac  {42} {0.15} $\n"
      ]
    },
    {
      "cell_type": "code",
      "metadata": {
        "id": "_sjbEzqhrA4S"
      },
      "source": [
        "41/0.15"
      ],
      "execution_count": null,
      "outputs": []
    },
    {
      "cell_type": "code",
      "metadata": {
        "id": "mrEA8BRDri7v"
      },
      "source": [
        "42/0.15"
      ],
      "execution_count": null,
      "outputs": []
    },
    {
      "cell_type": "markdown",
      "metadata": {
        "id": "a306pk15rwkK"
      },
      "source": [
        "$l$ est un entier donc \n",
        "\n",
        "$(*) \\Leftrightarrow   274 < l   \\leqslant  280 $\n",
        "\n",
        "... et que se passe-t-il si l'on prend $u_n = 274$ ?\n",
        "\n",
        "$u_{n+1} = \\left \\lfloor 0.85 \\times 274 \\right \\rfloor$ + 42"
      ]
    },
    {
      "cell_type": "code",
      "metadata": {
        "id": "qCh63Jobtx6i"
      },
      "source": [
        "floor(0.85*274) + 42"
      ],
      "execution_count": null,
      "outputs": []
    },
    {
      "cell_type": "markdown",
      "metadata": {
        "id": "1SNib-AHuJ4C"
      },
      "source": [
        "**CQFD !!**"
      ]
    },
    {
      "cell_type": "markdown",
      "metadata": {
        "id": "W2iKgvPGnW7n"
      },
      "source": [
        "... Et si on essayait avec l'arrondi au lieu de la partie entière ?"
      ]
    },
    {
      "cell_type": "code",
      "metadata": {
        "id": "nJ2UoSO1l7Ne"
      },
      "source": [
        "u = 200\n",
        "n = 0\n",
        "while u < 279 and n < 50 : \n",
        "    u = round(0.85*u + 42)\n",
        "    n = n+1\n",
        "    print(u)\n",
        "print(n)"
      ],
      "execution_count": null,
      "outputs": []
    },
    {
      "cell_type": "markdown",
      "metadata": {
        "id": "kavYY0LhvGZW"
      },
      "source": [
        "$u_n = 277 \\Rightarrow u_{n+1} = arrondi(0.85 \\times 277) + 42$"
      ]
    },
    {
      "cell_type": "code",
      "metadata": {
        "id": "3LbqjuMPveM8"
      },
      "source": [
        "round(0.85*277) + 42"
      ],
      "execution_count": null,
      "outputs": []
    },
    {
      "cell_type": "markdown",
      "metadata": {
        "id": "OLTUVdcyvk9U"
      },
      "source": [
        "On comprend mieux ce qui se passe..."
      ]
    },
    {
      "cell_type": "markdown",
      "metadata": {
        "id": "gWreZYvFnmtS"
      },
      "source": [
        "**Moralité :**\n",
        "\n",
        "Voilà un modèle qui a ses ...*limites*..."
      ]
    }
  ]
}