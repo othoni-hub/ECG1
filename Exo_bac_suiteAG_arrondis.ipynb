{
  "nbformat": 4,
  "nbformat_minor": 0,
  "metadata": {
    "colab": {
      "name": "Exo_bac_suiteAG_arrondis.ipynb",
      "provenance": [],
      "authorship_tag": "ABX9TyPgjS2izy4WB2DKi6MVkfKy",
      "include_colab_link": true
    },
    "kernelspec": {
      "name": "python3",
      "display_name": "Python 3"
    },
    "language_info": {
      "name": "python"
    }
  },
  "cells": [
    {
      "cell_type": "markdown",
      "metadata": {
        "id": "view-in-github",
        "colab_type": "text"
      },
      "source": [
        "<a href=\"https://colab.research.google.com/github/othoni-hub/ECG1/blob/main/Exo_bac_suiteAG_arrondis.ipynb\" target=\"_parent\"><img src=\"https://colab.research.google.com/assets/colab-badge.svg\" alt=\"Open In Colab\"/></a>"
      ]
    },
    {
      "cell_type": "markdown",
      "metadata": {
        "id": "to9VkuKqku-e"
      },
      "source": [
        "\n",
        "https://www.annales2maths.com/bac-blanc-esl-fevrier-2018-enonce-et-corrige/ \n"
      ]
    },
    {
      "cell_type": "markdown",
      "metadata": {
        "id": "MOJBeTcDmcqS"
      },
      "source": [
        "Voici une belle suite arithmético-géométrique...\n",
        "\n",
        "Les futurs bacheliers de 2016 ont démontré qu'elle convergeait vers 280, ça leur était demandé, en tous cas..."
      ]
    },
    {
      "cell_type": "code",
      "metadata": {
        "id": "Pa1uC_xAiVvd"
      },
      "source": [
        "u = 200\n",
        "n = 0\n",
        "while u < 279 : \n",
        "    u = 0.85*u + 42\n",
        "    n = n+1\n",
        "print(u)\n",
        "print(n)"
      ],
      "execution_count": null,
      "outputs": []
    },
    {
      "cell_type": "markdown",
      "metadata": {
        "id": "i5GsWaGumvM5"
      },
      "source": [
        "...MAIS...\n",
        "\n",
        "Un nombre de vélo n'est pas un nombre décimal, que se passe-t-il si on prend la partie entière du nombre u obtenu avant de calculer le suivant ?"
      ]
    },
    {
      "cell_type": "code",
      "metadata": {
        "id": "4bM8z5hNjLzh"
      },
      "source": [
        "from math import floor\n",
        "u = 200\n",
        "n = 0\n",
        "while u < 275 : \n",
        "    u = floor(0.85*u + 42)\n",
        "    n = n+1\n",
        "    print(u)\n",
        "print(n)"
      ],
      "execution_count": null,
      "outputs": []
    },
    {
      "cell_type": "markdown",
      "metadata": {
        "id": "W2iKgvPGnW7n"
      },
      "source": [
        "... Et si on essayait avec l'arrondi au lieu de la partie entière ?"
      ]
    },
    {
      "cell_type": "code",
      "metadata": {
        "id": "nJ2UoSO1l7Ne"
      },
      "source": [
        "u = 200\n",
        "n = 0\n",
        "while u < 279 : \n",
        "    u = round(0.85*u + 42)\n",
        "    n = n+1\n",
        "    print(u)\n",
        "print(n)"
      ],
      "execution_count": null,
      "outputs": []
    },
    {
      "cell_type": "markdown",
      "metadata": {
        "id": "gWreZYvFnmtS"
      },
      "source": [
        "**Moralité :**\n",
        "\n",
        "Voilà un modèle qui a ses ...limites..."
      ]
    }
  ]
}