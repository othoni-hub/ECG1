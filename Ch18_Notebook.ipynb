{
  "nbformat": 4,
  "nbformat_minor": 0,
  "metadata": {
    "colab": {
      "provenance": [],
      "authorship_tag": "ABX9TyPf8OL5TqAmy0IEkMnU2wZT",
      "include_colab_link": true
    },
    "kernelspec": {
      "name": "python3",
      "display_name": "Python 3"
    },
    "language_info": {
      "name": "python"
    }
  },
  "cells": [
    {
      "cell_type": "markdown",
      "metadata": {
        "id": "view-in-github",
        "colab_type": "text"
      },
      "source": [
        "<a href=\"https://colab.research.google.com/github/othoni-hub/ECG1/blob/main/Ch18_Notebook.ipynb\" target=\"_parent\"><img src=\"https://colab.research.google.com/assets/colab-badge.svg\" alt=\"Open In Colab\"/></a>"
      ]
    },
    {
      "cell_type": "markdown",
      "metadata": {
        "id": "C-kCO5R9MCVv"
      },
      "source": [
        "# **CPGE-ECG1**\n",
        "<img src=\"https://drive.google.com/uc?id=12Wo3LubGGT4qOvYFAuLP4CyCuwjKNVuk\" width=\"230\" height=\"150\" align = \"right\"/>\n",
        "\n",
        "## **Ch18 - Notebook : Applications Linéaires de R<sup>n</sup> dans R<sup>m</sup>**\n",
        "\n",
        "\n",
        "\n",
        "\n",
        "**O.Thöni - Lycée Saint-Charles Sainte Croix - LE MANS**"
      ]
    },
    {
      "cell_type": "markdown",
      "source": [
        "https://www.geogebra.org/classic/cgna2mcs"
      ],
      "metadata": {
        "id": "C6hFy5nvbJSy"
      }
    },
    {
      "cell_type": "code",
      "metadata": {
        "id": "SWvIBU0PL-jy",
        "colab": {
          "base_uri": "https://localhost:8080/",
          "height": 623
        },
        "outputId": "54df98a5-29d7-4e73-ffe1-b3ae61dfbe4a"
      },
      "source": [
        "import IPython.display as display\n",
        "fig01 = \"\"\"\n",
        "<iframe width=\"800\" height=\"600\" src=\"https://www.geogebra.org/classic/cgna2mcs\" style=\"border: 1px solid black\"></iframe>\n",
        "\"\"\"\n",
        "display.HTML(fig01)"
      ],
      "execution_count": null,
      "outputs": [
        {
          "output_type": "execute_result",
          "data": {
            "text/plain": [
              "<IPython.core.display.HTML object>"
            ],
            "text/html": [
              "\n",
              "<iframe width=\"800\" height=\"600\" src=\"https://www.geogebra.org/classic/cgna2mcs\" style=\"border: 1px solid black\"></iframe>\n"
            ]
          },
          "metadata": {},
          "execution_count": 1
        }
      ]
    },
    {
      "cell_type": "code",
      "source": [],
      "metadata": {
        "id": "80rKw8yebyAi"
      },
      "execution_count": null,
      "outputs": []
    }
  ]
}