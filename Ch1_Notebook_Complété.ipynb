{
  "nbformat": 4,
  "nbformat_minor": 0,
  "metadata": {
    "colab": {
      "name": "Ch1-Notebook-Complété.ipynb",
      "provenance": [],
      "toc_visible": true,
      "authorship_tag": "ABX9TyPar4912+upDGHj0G3guy7p",
      "include_colab_link": true
    },
    "kernelspec": {
      "name": "python3",
      "display_name": "Python 3"
    },
    "language_info": {
      "name": "python"
    }
  },
  "cells": [
    {
      "cell_type": "markdown",
      "metadata": {
        "id": "view-in-github",
        "colab_type": "text"
      },
      "source": [
        "<a href=\"https://colab.research.google.com/github/othoni-hub/ECG1/blob/main/Ch1_Notebook_Compl%C3%A9t%C3%A9.ipynb\" target=\"_parent\"><img src=\"https://colab.research.google.com/assets/colab-badge.svg\" alt=\"Open In Colab\"/></a>"
      ]
    },
    {
      "cell_type": "markdown",
      "metadata": {
        "id": "9gRjJPolrmT_"
      },
      "source": [
        "# **CPGE-ECG1** \n"
      ]
    },
    {
      "cell_type": "markdown",
      "metadata": {
        "id": "Gprox7oVPE7W"
      },
      "source": [
        "\n",
        "\n",
        "## **Ch1 - Notebook : Logique**\n",
        "\n",
        "<img src=\"https://drive.google.com/uc?id=12Wo3LubGGT4qOvYFAuLP4CyCuwjKNVuk\" width=\"230\" height=\"150\" align = \"right\"/>\n",
        "\n",
        "\n",
        "\n",
        "\n",
        "**O.Thöni - Lycée Saint-Charles Sainte Croix - LE MANS**\n"
      ]
    },
    {
      "cell_type": "markdown",
      "metadata": {
        "id": "Zf_7dFWYrCpO"
      },
      "source": [
        "Aucune notion de ce notebook n'est exigible, mais il permet d'entraîner la réflexion algorithmique et le travail autour des ensembles.\n",
        "\n",
        "**Sauf toutefois, à mémoriser :**\n",
        "* | (\"ou\")\n",
        "* & (\"et\")\n",
        "* les \"dictionnaires\" (***dict***) et la liste de leurs clés et de leurs valeurs (***.keys()*** et ***.values()***)"
      ]
    },
    {
      "cell_type": "markdown",
      "metadata": {
        "id": "ICIVhirAsBpr"
      },
      "source": [
        "# **1. Ensembles**\n",
        "\n",
        "Python dispose d'un type de variables nommé ***set***, qui, comme sont nom l'indique, permet de modéliser très exactement la notion mathématique d'**ensembles**.\n",
        "\n",
        "\n",
        "\n",
        "\n",
        "\n",
        "Un *set*  s'écrit entre accolades, les éléments étant séparés par des vuigules, et le type dispose de \"méthodes\", c'est-à-dire de fonctions intrinsèques associées, et d'opérateurs qui sont les mêmes qu'en mathématiques : intersection, union, etc.\n"
      ]
    },
    {
      "cell_type": "code",
      "metadata": {
        "colab": {
          "base_uri": "https://localhost:8080/"
        },
        "id": "qPsSTFK_u8Ze",
        "outputId": "df522960-c5ae-4ef6-fa7d-99627e3d0cd3"
      },
      "source": [
        "A = {2,5,3,2,6,8,7,10}\n",
        "A"
      ],
      "execution_count": 1,
      "outputs": [
        {
          "output_type": "execute_result",
          "data": {
            "text/plain": [
              "{2, 3, 5, 6, 7, 8, 10}"
            ]
          },
          "metadata": {},
          "execution_count": 1
        }
      ]
    },
    {
      "cell_type": "code",
      "metadata": {
        "id": "4OC_h7kNO_OT",
        "colab": {
          "base_uri": "https://localhost:8080/"
        },
        "outputId": "558e038e-a4ad-4deb-aa35-ed0e238545f8"
      },
      "source": [
        "type(A)"
      ],
      "execution_count": 2,
      "outputs": [
        {
          "output_type": "execute_result",
          "data": {
            "text/plain": [
              "set"
            ]
          },
          "metadata": {},
          "execution_count": 2
        }
      ]
    },
    {
      "cell_type": "markdown",
      "metadata": {
        "id": "L-bTtNGwC-nc"
      },
      "source": [
        "Observer ce qu'il est advenu des doublons, et de l'ordre des éléments... :*\n",
        "\n",
        "**Un ensemble contient des éléments distincts, Python retire les doublons, \n",
        "Python range les éléments dans l'ordre alphabétique, mais l'ordre des éléments dans un ensemble n'a pas d'importance :**"
      ]
    },
    {
      "cell_type": "code",
      "metadata": {
        "colab": {
          "base_uri": "https://localhost:8080/"
        },
        "id": "AKTer6-_z3cO",
        "outputId": "150931d3-6ed9-4450-d38a-421fdd52a4f7"
      },
      "source": [
        "{1,2,3}=={2,3,1}"
      ],
      "execution_count": 3,
      "outputs": [
        {
          "output_type": "execute_result",
          "data": {
            "text/plain": [
              "True"
            ]
          },
          "metadata": {},
          "execution_count": 3
        }
      ]
    },
    {
      "cell_type": "code",
      "metadata": {
        "colab": {
          "base_uri": "https://localhost:8080/"
        },
        "id": "8_IrBpp-z-ty",
        "outputId": "ed285c35-b262-40a2-990c-305d91d443f9"
      },
      "source": [
        "{1,2,3}=={1,1,2,3}"
      ],
      "execution_count": 4,
      "outputs": [
        {
          "output_type": "execute_result",
          "data": {
            "text/plain": [
              "True"
            ]
          },
          "metadata": {},
          "execution_count": 4
        }
      ]
    },
    {
      "cell_type": "markdown",
      "metadata": {
        "id": "NlDfjE2uw78R"
      },
      "source": [
        "## **Cardinal**\n",
        "\n",
        "Le nombre d'éléments de l'ensemble A est donné par :\n"
      ]
    },
    {
      "cell_type": "code",
      "metadata": {
        "colab": {
          "base_uri": "https://localhost:8080/"
        },
        "id": "Bmwia188vmKl",
        "outputId": "1e8f981e-9b91-46fa-d8f2-3fb7b978505c"
      },
      "source": [
        "len(A)"
      ],
      "execution_count": 5,
      "outputs": [
        {
          "output_type": "execute_result",
          "data": {
            "text/plain": [
              "7"
            ]
          },
          "metadata": {},
          "execution_count": 5
        }
      ]
    },
    {
      "cell_type": "markdown",
      "metadata": {
        "id": "QLsgMuiLxNk5"
      },
      "source": [
        "## **Transformation d'une variable en *set* (\"transtypage\")**\n",
        "\n",
        " Un *set* peut être défini à partir d'une variable d'un autre type, par exemple ici, un \"*range*\", puis une liste définie par compréhension :"
      ]
    },
    {
      "cell_type": "code",
      "metadata": {
        "colab": {
          "base_uri": "https://localhost:8080/"
        },
        "id": "RAKlvsDexASF",
        "outputId": "5e32138f-8896-4ec9-8259-97e90cc4f0db"
      },
      "source": [
        "B = set(range(2,12,2)) #ensemble des nombres entiers, de 2 en 2, de 2 inclus à 12 exclu\n",
        "B"
      ],
      "execution_count": 6,
      "outputs": [
        {
          "output_type": "execute_result",
          "data": {
            "text/plain": [
              "{2, 4, 6, 8, 10}"
            ]
          },
          "metadata": {},
          "execution_count": 6
        }
      ]
    },
    {
      "cell_type": "code",
      "metadata": {
        "colab": {
          "base_uri": "https://localhost:8080/"
        },
        "id": "6BC1H3KMxgTx",
        "outputId": "9ee0f5c6-35a5-4432-a58c-875021c01987"
      },
      "source": [
        "C = set([2*i for i in range(1,6)]) # ensemble des 5 premiers nombres pairs non nuls\n",
        "C"
      ],
      "execution_count": 7,
      "outputs": [
        {
          "output_type": "execute_result",
          "data": {
            "text/plain": [
              "{2, 4, 6, 8, 10}"
            ]
          },
          "metadata": {},
          "execution_count": 7
        }
      ]
    },
    {
      "cell_type": "markdown",
      "metadata": {
        "id": "-NzhA23Fzf8p"
      },
      "source": [
        "##  **Test d'appartenance**"
      ]
    },
    {
      "cell_type": "code",
      "metadata": {
        "colab": {
          "base_uri": "https://localhost:8080/"
        },
        "id": "6F6sNsnLysXs",
        "outputId": "1f0607e3-78fb-4586-b7a1-5689ae15fca6"
      },
      "source": [
        "3 in A # booléen qui vaut vrai si 3 appartient à A"
      ],
      "execution_count": 8,
      "outputs": [
        {
          "output_type": "execute_result",
          "data": {
            "text/plain": [
              "True"
            ]
          },
          "metadata": {},
          "execution_count": 8
        }
      ]
    },
    {
      "cell_type": "code",
      "metadata": {
        "colab": {
          "base_uri": "https://localhost:8080/"
        },
        "id": "w3exsg0WzqG7",
        "outputId": "5bc17a6c-920f-49f3-e1be-d7b20db6d6f4"
      },
      "source": [
        "3 in B"
      ],
      "execution_count": 9,
      "outputs": [
        {
          "output_type": "execute_result",
          "data": {
            "text/plain": [
              "False"
            ]
          },
          "metadata": {},
          "execution_count": 9
        }
      ]
    },
    {
      "cell_type": "code",
      "metadata": {
        "colab": {
          "base_uri": "https://localhost:8080/"
        },
        "id": "kiEEtjlsHcjJ",
        "outputId": "cbd0dc00-d76f-4d4d-957f-3d8a0f09f82d"
      },
      "source": [
        "3 not in B"
      ],
      "execution_count": 10,
      "outputs": [
        {
          "output_type": "execute_result",
          "data": {
            "text/plain": [
              "True"
            ]
          },
          "metadata": {},
          "execution_count": 10
        }
      ]
    },
    {
      "cell_type": "markdown",
      "metadata": {
        "id": "hFQa64ujALty"
      },
      "source": [
        "## **Fabriquer un ensemble vide**"
      ]
    },
    {
      "cell_type": "code",
      "metadata": {
        "colab": {
          "base_uri": "https://localhost:8080/"
        },
        "id": "z2cSR4PMARX2",
        "outputId": "f13e538b-862a-4b81-a45f-8b7f886ebc13"
      },
      "source": [
        "V = set()\n",
        "V"
      ],
      "execution_count": 11,
      "outputs": [
        {
          "output_type": "execute_result",
          "data": {
            "text/plain": [
              "set()"
            ]
          },
          "metadata": {},
          "execution_count": 11
        }
      ]
    },
    {
      "cell_type": "markdown",
      "metadata": {
        "id": "XlA85hOUL3wf"
      },
      "source": [
        "## **Dupliquer un *set***"
      ]
    },
    {
      "cell_type": "code",
      "metadata": {
        "colab": {
          "base_uri": "https://localhost:8080/"
        },
        "id": "1ZLf0XmYL8Zu",
        "outputId": "f63b1dd7-3ab2-42ad-a098-5ce4edf8d0df"
      },
      "source": [
        "G = A.copy()\n",
        "G"
      ],
      "execution_count": 12,
      "outputs": [
        {
          "output_type": "execute_result",
          "data": {
            "text/plain": [
              "{2, 3, 5, 6, 7, 8, 10}"
            ]
          },
          "metadata": {},
          "execution_count": 12
        }
      ]
    },
    {
      "cell_type": "markdown",
      "metadata": {
        "id": "d5WBpUDI9YOA"
      },
      "source": [
        "## **Ajout/retrait d'un élément connu/retrait d'un élément non prédéfini**"
      ]
    },
    {
      "cell_type": "code",
      "metadata": {
        "colab": {
          "base_uri": "https://localhost:8080/"
        },
        "id": "-5R1iF8t9fBX",
        "outputId": "0fbf9758-c9bc-4d77-e9ba-d8a02bbcc97b"
      },
      "source": [
        "A.add(9)        # \"méthode\" qui ajoute l'élément 9 à l'ensemble A, s'il n'y est déjà\n",
        "A.discard(8)    # \"méthode\" qui retire l'élément 8 de A s'il y figure\n",
        "                # il existe aussi la méthode remove, mais elle provoque une erreur si l'élément est absent\n",
        "A"
      ],
      "execution_count": 13,
      "outputs": [
        {
          "output_type": "execute_result",
          "data": {
            "text/plain": [
              "{2, 3, 5, 6, 7, 9, 10}"
            ]
          },
          "metadata": {},
          "execution_count": 13
        }
      ]
    },
    {
      "cell_type": "code",
      "metadata": {
        "colab": {
          "base_uri": "https://localhost:8080/"
        },
        "id": "K4efBG6WIzXX",
        "outputId": "62af3051-0327-4cdd-a1da-7f2dc93161e8"
      },
      "source": [
        "A.pop() # .pop() retire le 1er élément par ordre alphabétique\n",
        "A"
      ],
      "execution_count": 14,
      "outputs": [
        {
          "output_type": "execute_result",
          "data": {
            "text/plain": [
              "{3, 5, 6, 7, 9, 10}"
            ]
          },
          "metadata": {},
          "execution_count": 14
        }
      ]
    },
    {
      "cell_type": "markdown",
      "metadata": {
        "id": "H2008FlWJNdX"
      },
      "source": [
        "# **2. Opérations sur les ensembles**"
      ]
    },
    {
      "cell_type": "markdown",
      "metadata": {
        "id": "xI4Nzuhg0uAd"
      },
      "source": [
        "## **Fonctions \"réunion\", \"intersection\", différence\", \"différence réciproque\"**\n"
      ]
    },
    {
      "cell_type": "markdown",
      "metadata": {
        "id": "s4Cos-9BIFCy"
      },
      "source": [
        "### **--> algorithmiquement**\n",
        "\n",
        "En utilisant les méthodes .copy(), .add() et .pop(), écrire les fonctions spécifiées ci-dessous...\n",
        "\n"
      ]
    },
    {
      "cell_type": "code",
      "metadata": {
        "colab": {
          "base_uri": "https://localhost:8080/"
        },
        "id": "ponfexPiKxz8",
        "outputId": "b2e9d312-8129-41ca-b6a8-a30dd9e05485"
      },
      "source": [
        "A"
      ],
      "execution_count": 15,
      "outputs": [
        {
          "output_type": "execute_result",
          "data": {
            "text/plain": [
              "{3, 5, 6, 7, 9, 10}"
            ]
          },
          "metadata": {},
          "execution_count": 15
        }
      ]
    },
    {
      "cell_type": "code",
      "metadata": {
        "colab": {
          "base_uri": "https://localhost:8080/"
        },
        "id": "0DSkRQsvLB7m",
        "outputId": "56b734d1-b988-483c-f2ff-1db4ccc82006"
      },
      "source": [
        "B"
      ],
      "execution_count": 16,
      "outputs": [
        {
          "output_type": "execute_result",
          "data": {
            "text/plain": [
              "{2, 4, 6, 8, 10}"
            ]
          },
          "metadata": {},
          "execution_count": 16
        }
      ]
    },
    {
      "cell_type": "markdown",
      "metadata": {
        "id": "IlIpZZyfjqxy"
      },
      "source": [
        "* **intersection**\n",
        "\n",
        "<img src=\"https://cdn.programiz.com/sites/tutorial2program/files/set-intersection.jpg\" width=\"175\" height=\"100\" />"
      ]
    },
    {
      "cell_type": "code",
      "metadata": {
        "id": "YrqBD3CbApBX"
      },
      "source": [
        "def intersection(E,F):\n",
        "    ''' Cette fonction reçoit deux ensembles E et F et renvoie l'ensemble I égal à leur intersection.'''\n",
        "    C = E.copy() # C est une copie de E, sans cela, l'ensemble entrant dans la fonction serait modifié dans le programme principal\n",
        "                 # C est une variable locale. Si une variable porte le même nom dans le programme principal, elle ne sera pas modifiée\n",
        "    I = set()\n",
        "    while len(C)>0:    # tant que D n'est pas vide\n",
        "        element = C.pop()  # on retire un élément indéterminé de D\n",
        "        if element in F :  # on regarde s'il est dans F\n",
        "            I.add(element) # si oui, on l'ajoute à l'ensemble intersection\n",
        "    return I\n"
      ],
      "execution_count": 17,
      "outputs": []
    },
    {
      "cell_type": "code",
      "metadata": {
        "colab": {
          "base_uri": "https://localhost:8080/"
        },
        "id": "8xhI1YZjErcJ",
        "outputId": "df2f50a3-5483-425e-ee3f-c88cf646cb10"
      },
      "source": [
        "# Test\n",
        "G = intersection(A,B)\n",
        "G"
      ],
      "execution_count": 18,
      "outputs": [
        {
          "output_type": "execute_result",
          "data": {
            "text/plain": [
              "{6, 10}"
            ]
          },
          "metadata": {},
          "execution_count": 18
        }
      ]
    },
    {
      "cell_type": "code",
      "metadata": {
        "colab": {
          "base_uri": "https://localhost:8080/"
        },
        "id": "BO-dd7uUK0oo",
        "outputId": "e89939d2-5f58-42d0-f234-710ff58e86d8"
      },
      "source": [
        "A # A ne devrait pas être modifié, c'est grâce au .copy() dans la fonction intersection"
      ],
      "execution_count": 19,
      "outputs": [
        {
          "output_type": "execute_result",
          "data": {
            "text/plain": [
              "{3, 5, 6, 7, 9, 10}"
            ]
          },
          "metadata": {},
          "execution_count": 19
        }
      ]
    },
    {
      "cell_type": "code",
      "metadata": {
        "colab": {
          "base_uri": "https://localhost:8080/"
        },
        "id": "cmrAeTD7NfKF",
        "outputId": "071bde47-6083-4316-81d0-036a2ac034b8"
      },
      "source": [
        "C # Dans la fonction, la variable C était locale, le contenu de la variable globale C n'a pas été modifié"
      ],
      "execution_count": 20,
      "outputs": [
        {
          "output_type": "execute_result",
          "data": {
            "text/plain": [
              "{2, 4, 6, 8, 10}"
            ]
          },
          "metadata": {},
          "execution_count": 20
        }
      ]
    },
    {
      "cell_type": "markdown",
      "metadata": {
        "id": "XUDPKRNCs829"
      },
      "source": [
        "**observation du déroulement de la fonction dans Python Tutor**"
      ]
    },
    {
      "cell_type": "code",
      "metadata": {
        "colab": {
          "base_uri": "https://localhost:8080/"
        },
        "id": "RxKd1SkjtEw1",
        "outputId": "859faae6-5e44-4c2b-c18b-7eef67fcc89a"
      },
      "source": [
        "!pip install metakernel\n",
        "\n",
        "from metakernel import register_ipython_magics\n",
        "register_ipython_magics()"
      ],
      "execution_count": 21,
      "outputs": [
        {
          "output_type": "stream",
          "name": "stdout",
          "text": [
            "Collecting metakernel\n",
            "  Downloading metakernel-0.27.5-py2.py3-none-any.whl (208 kB)\n",
            "\u001b[?25l\r\u001b[K     |█▋                              | 10 kB 16.0 MB/s eta 0:00:01\r\u001b[K     |███▏                            | 20 kB 19.7 MB/s eta 0:00:01\r\u001b[K     |████▊                           | 30 kB 19.2 MB/s eta 0:00:01\r\u001b[K     |██████▎                         | 40 kB 12.2 MB/s eta 0:00:01\r\u001b[K     |███████▉                        | 51 kB 4.9 MB/s eta 0:00:01\r\u001b[K     |█████████▍                      | 61 kB 5.0 MB/s eta 0:00:01\r\u001b[K     |███████████                     | 71 kB 4.9 MB/s eta 0:00:01\r\u001b[K     |████████████▌                   | 81 kB 5.3 MB/s eta 0:00:01\r\u001b[K     |██████████████▏                 | 92 kB 5.7 MB/s eta 0:00:01\r\u001b[K     |███████████████▊                | 102 kB 4.4 MB/s eta 0:00:01\r\u001b[K     |█████████████████▎              | 112 kB 4.4 MB/s eta 0:00:01\r\u001b[K     |██████████████████▉             | 122 kB 4.4 MB/s eta 0:00:01\r\u001b[K     |████████████████████▍           | 133 kB 4.4 MB/s eta 0:00:01\r\u001b[K     |██████████████████████          | 143 kB 4.4 MB/s eta 0:00:01\r\u001b[K     |███████████████████████▌        | 153 kB 4.4 MB/s eta 0:00:01\r\u001b[K     |█████████████████████████       | 163 kB 4.4 MB/s eta 0:00:01\r\u001b[K     |██████████████████████████▊     | 174 kB 4.4 MB/s eta 0:00:01\r\u001b[K     |████████████████████████████▎   | 184 kB 4.4 MB/s eta 0:00:01\r\u001b[K     |█████████████████████████████▉  | 194 kB 4.4 MB/s eta 0:00:01\r\u001b[K     |███████████████████████████████▍| 204 kB 4.4 MB/s eta 0:00:01\r\u001b[K     |████████████████████████████████| 208 kB 4.4 MB/s \n",
            "\u001b[?25hRequirement already satisfied: pexpect>=4.2 in /usr/local/lib/python3.7/dist-packages (from metakernel) (4.8.0)\n",
            "Requirement already satisfied: ipykernel in /usr/local/lib/python3.7/dist-packages (from metakernel) (4.10.1)\n",
            "Requirement already satisfied: ptyprocess>=0.5 in /usr/local/lib/python3.7/dist-packages (from pexpect>=4.2->metakernel) (0.7.0)\n",
            "Requirement already satisfied: jupyter-client in /usr/local/lib/python3.7/dist-packages (from ipykernel->metakernel) (5.3.5)\n",
            "Requirement already satisfied: ipython>=4.0.0 in /usr/local/lib/python3.7/dist-packages (from ipykernel->metakernel) (5.5.0)\n",
            "Requirement already satisfied: tornado>=4.0 in /usr/local/lib/python3.7/dist-packages (from ipykernel->metakernel) (5.1.1)\n",
            "Requirement already satisfied: traitlets>=4.1.0 in /usr/local/lib/python3.7/dist-packages (from ipykernel->metakernel) (5.1.0)\n",
            "Requirement already satisfied: prompt-toolkit<2.0.0,>=1.0.4 in /usr/local/lib/python3.7/dist-packages (from ipython>=4.0.0->ipykernel->metakernel) (1.0.18)\n",
            "Requirement already satisfied: pickleshare in /usr/local/lib/python3.7/dist-packages (from ipython>=4.0.0->ipykernel->metakernel) (0.7.5)\n",
            "Requirement already satisfied: decorator in /usr/local/lib/python3.7/dist-packages (from ipython>=4.0.0->ipykernel->metakernel) (4.4.2)\n",
            "Requirement already satisfied: setuptools>=18.5 in /usr/local/lib/python3.7/dist-packages (from ipython>=4.0.0->ipykernel->metakernel) (57.4.0)\n",
            "Requirement already satisfied: simplegeneric>0.8 in /usr/local/lib/python3.7/dist-packages (from ipython>=4.0.0->ipykernel->metakernel) (0.8.1)\n",
            "Requirement already satisfied: pygments in /usr/local/lib/python3.7/dist-packages (from ipython>=4.0.0->ipykernel->metakernel) (2.6.1)\n",
            "Requirement already satisfied: six>=1.9.0 in /usr/local/lib/python3.7/dist-packages (from prompt-toolkit<2.0.0,>=1.0.4->ipython>=4.0.0->ipykernel->metakernel) (1.15.0)\n",
            "Requirement already satisfied: wcwidth in /usr/local/lib/python3.7/dist-packages (from prompt-toolkit<2.0.0,>=1.0.4->ipython>=4.0.0->ipykernel->metakernel) (0.2.5)\n",
            "Requirement already satisfied: jupyter-core>=4.6.0 in /usr/local/lib/python3.7/dist-packages (from jupyter-client->ipykernel->metakernel) (4.8.1)\n",
            "Requirement already satisfied: pyzmq>=13 in /usr/local/lib/python3.7/dist-packages (from jupyter-client->ipykernel->metakernel) (22.3.0)\n",
            "Requirement already satisfied: python-dateutil>=2.1 in /usr/local/lib/python3.7/dist-packages (from jupyter-client->ipykernel->metakernel) (2.8.2)\n",
            "Installing collected packages: metakernel\n",
            "Successfully installed metakernel-0.27.5\n"
          ]
        }
      ]
    },
    {
      "cell_type": "code",
      "metadata": {
        "colab": {
          "base_uri": "https://localhost:8080/",
          "height": 521
        },
        "id": "nh3ndzk_tQJZ",
        "outputId": "601bc42d-8d36-49c7-ed52-f14d1732cfed"
      },
      "source": [
        "%%tutor # lancement de PythonTutor\n",
        "\n",
        "def intersection(E,F):\n",
        "    ''' Cette fonction reçoit deux ensembles E et F et renvoie l'ensemble I égal à leur intersection.'''\n",
        "    C = E.copy() # C est une copie de E, sans cela, l'ensemble entrant dans la fonction serait modifié dans le programme principal\n",
        "                 # C est une variable locale. Si une variable porte le même nom dans le programme principal, elle ne sera pas modifiée\n",
        "    I = set()\n",
        "    while len(C)>0:    # tant que D n'est pas vide\n",
        "        element = C.pop()  # on retire un élément indéterminé de D\n",
        "        if element in F :  # on regarde s'il est dans F\n",
        "            I.add(element) # si oui, on l'ajoute à l'ensemble intersection\n",
        "    return I\n",
        "\n",
        "A = {5,3,6,9,7,10}\n",
        "B = set(range(2,12,2))\n",
        "\n",
        "G = intersection(A,B)"
      ],
      "execution_count": 22,
      "outputs": [
        {
          "output_type": "display_data",
          "data": {
            "text/html": [
              "\n",
              "        <iframe\n",
              "            width=\"100%\"\n",
              "            height=\"500\"\n",
              "            src=\"https://pythontutor.com/iframe-embed.html#code=%0Adef%20intersection%28E%2CF%29%3A%0A%20%20%20%20%27%27%27%20Cette%20fonction%20re%C3%A7oit%20deux%20ensembles%20E%20et%20F%20et%20renvoie%20l%27ensemble%20I%20%C3%A9gal%20%C3%A0%20leur%20intersection.%27%27%27%0A%20%20%20%20C%20%3D%20E.copy%28%29%20%23%20C%20est%20une%20copie%20de%20E%2C%20sans%20cela%2C%20l%27ensemble%20entrant%20dans%20la%20fonction%20serait%20modifi%C3%A9%20dans%20le%20programme%20principal%0A%20%20%20%20%20%20%20%20%20%20%20%20%20%20%20%20%20%23%20C%20est%20une%20variable%20locale.%20Si%20une%20variable%20porte%20le%20m%C3%AAme%20nom%20dans%20le%20programme%20principal%2C%20elle%20ne%20sera%20pas%20modifi%C3%A9e%0A%20%20%20%20I%20%3D%20set%28%29%0A%20%20%20%20while%20len%28C%29%3E0%3A%20%20%20%20%23%20tant%20que%20D%20n%27est%20pas%20vide%0A%20%20%20%20%20%20%20%20element%20%3D%20C.pop%28%29%20%20%23%20on%20retire%20un%20%C3%A9l%C3%A9ment%20ind%C3%A9termin%C3%A9%20de%20D%0A%20%20%20%20%20%20%20%20if%20element%20in%20F%20%3A%20%20%23%20on%20regarde%20s%27il%20est%20dans%20F%0A%20%20%20%20%20%20%20%20%20%20%20%20I.add%28element%29%20%23%20si%20oui%2C%20on%20l%27ajoute%20%C3%A0%20l%27ensemble%20intersection%0A%20%20%20%20return%20I%0A%0AA%20%3D%20%7B5%2C3%2C6%2C9%2C7%2C10%7D%0AB%20%3D%20set%28range%282%2C12%2C2%29%29%0A%0AG%20%3D%20intersection%28A%2CB%29&origin=opt-frontend.js&cumulative=false&heapPrimitives=false&textReferences=false&py=3&rawInputLstJSON=%5B%5D&curInstr=0&codeDivWidth=350&codeDivHeight=400\"\n",
              "            frameborder=\"0\"\n",
              "            allowfullscreen\n",
              "        ></iframe>\n",
              "        "
            ],
            "text/plain": [
              "<IPython.lib.display.IFrame at 0x7ff5c04df390>"
            ]
          },
          "metadata": {}
        }
      ]
    },
    {
      "cell_type": "markdown",
      "metadata": {
        "id": "H99_BzTqx9Ti"
      },
      "source": [
        "**itération sur un ensemble**\n",
        "\n",
        "Plus simplement que ci-dessus, un ensemble Python est dit **\"itérable\"**, c'est-à-dire que l'on peut construire une boucle ***for*** directement sur ses éléments :"
      ]
    },
    {
      "cell_type": "code",
      "metadata": {
        "id": "pibw2FFNx8q0"
      },
      "source": [
        "def intersection(E,F):\n",
        "    ''' Cette fonction reçoit deux ensembles E et F et renvoie l'ensemble I égal à leur intersection.'''\n",
        "    \n",
        "    I = set()\n",
        "    for element in E : # Pour chaque éléments de E...\n",
        "        if element in F :  # on regarde s'il est dans F\n",
        "            I.add(element) # si oui, on l'ajoute à l'ensemble intersection\n",
        "    return I\n"
      ],
      "execution_count": 23,
      "outputs": []
    },
    {
      "cell_type": "code",
      "metadata": {
        "colab": {
          "base_uri": "https://localhost:8080/"
        },
        "id": "FKY4vC56ykdO",
        "outputId": "de88a7e5-4c1e-459f-e799-f30696309f07"
      },
      "source": [
        "# Test\n",
        "G = intersection(A,B)\n",
        "G"
      ],
      "execution_count": 24,
      "outputs": [
        {
          "output_type": "execute_result",
          "data": {
            "text/plain": [
              "{6, 10}"
            ]
          },
          "metadata": {},
          "execution_count": 24
        }
      ]
    },
    {
      "cell_type": "markdown",
      "metadata": {
        "id": "ZSIPL85ByqvC"
      },
      "source": [
        "**observation dans Python Tutor**"
      ]
    },
    {
      "cell_type": "code",
      "metadata": {
        "colab": {
          "base_uri": "https://localhost:8080/",
          "height": 521
        },
        "id": "swkofPIfytw1",
        "outputId": "97dfcc57-f83d-4760-82c1-9eb00723e78c"
      },
      "source": [
        "%%tutor # lancement de PythonTutor\n",
        "\n",
        "def intersection(E,F):\n",
        "    ''' Cette fonction reçoit deux ensembles E et F et renvoie l'ensemble I égal à leur intersection.'''\n",
        "    \n",
        "    I = set()\n",
        "    for element in E : # Pour chaque éléments de E...\n",
        "        if element in F :  # on regarde s'il est dans F\n",
        "            I.add(element) # si oui, on l'ajoute à l'ensemble intersection\n",
        "    return I\n",
        "\n",
        "A = {5,3,6,9,7,10}\n",
        "B = set(range(2,12,2))\n",
        "\n",
        "G = intersection(A,B)"
      ],
      "execution_count": 25,
      "outputs": [
        {
          "output_type": "display_data",
          "data": {
            "text/html": [
              "\n",
              "        <iframe\n",
              "            width=\"100%\"\n",
              "            height=\"500\"\n",
              "            src=\"https://pythontutor.com/iframe-embed.html#code=%0Adef%20intersection%28E%2CF%29%3A%0A%20%20%20%20%27%27%27%20Cette%20fonction%20re%C3%A7oit%20deux%20ensembles%20E%20et%20F%20et%20renvoie%20l%27ensemble%20I%20%C3%A9gal%20%C3%A0%20leur%20intersection.%27%27%27%0A%20%20%20%20%0A%20%20%20%20I%20%3D%20set%28%29%0A%20%20%20%20for%20element%20in%20E%20%3A%20%23%20Pour%20chaque%20%C3%A9l%C3%A9ments%20de%20E...%0A%20%20%20%20%20%20%20%20if%20element%20in%20F%20%3A%20%20%23%20on%20regarde%20s%27il%20est%20dans%20F%0A%20%20%20%20%20%20%20%20%20%20%20%20I.add%28element%29%20%23%20si%20oui%2C%20on%20l%27ajoute%20%C3%A0%20l%27ensemble%20intersection%0A%20%20%20%20return%20I%0A%0AA%20%3D%20%7B5%2C3%2C6%2C9%2C7%2C10%7D%0AB%20%3D%20set%28range%282%2C12%2C2%29%29%0A%0AG%20%3D%20intersection%28A%2CB%29&origin=opt-frontend.js&cumulative=false&heapPrimitives=false&textReferences=false&py=3&rawInputLstJSON=%5B%5D&curInstr=0&codeDivWidth=350&codeDivHeight=400\"\n",
              "            frameborder=\"0\"\n",
              "            allowfullscreen\n",
              "        ></iframe>\n",
              "        "
            ],
            "text/plain": [
              "<IPython.lib.display.IFrame at 0x7ff5c0f0d890>"
            ]
          },
          "metadata": {}
        }
      ]
    },
    {
      "cell_type": "markdown",
      "metadata": {
        "id": "vsCukDfBkM3D"
      },
      "source": [
        "* **union**\n",
        "\n",
        "<img src=\"https://cdn.programiz.com/sites/tutorial2program/files/set-union.jpg\" width=\"175\" height=\"100\" />"
      ]
    },
    {
      "cell_type": "code",
      "metadata": {
        "id": "X3ZMQchl1Io6"
      },
      "source": [
        "def reunion(E,F):\n",
        "    ''' Cette fonction reçoit deux ensembles E et F et renvoie l'ensemble U égal à leur réunion.'''\n",
        "    U = E.copy()\n",
        "    for element in F :\n",
        "        U.add(element)\n",
        "    return U"
      ],
      "execution_count": 26,
      "outputs": []
    },
    {
      "cell_type": "code",
      "metadata": {
        "id": "38g7acEDcrdT",
        "colab": {
          "base_uri": "https://localhost:8080/"
        },
        "outputId": "76d9bf59-6e69-4f55-9932-3ceb6887cf0f"
      },
      "source": [
        "# à quoi servent les DocStrings\n",
        "help(reunion)"
      ],
      "execution_count": 27,
      "outputs": [
        {
          "output_type": "stream",
          "name": "stdout",
          "text": [
            "Help on function reunion in module __main__:\n",
            "\n",
            "reunion(E, F)\n",
            "    Cette fonction reçoit deux ensembles E et F et renvoie l'ensemble U égal à leur réunion.\n",
            "\n"
          ]
        }
      ]
    },
    {
      "cell_type": "code",
      "metadata": {
        "id": "O1wwXq0qcnJV",
        "colab": {
          "base_uri": "https://localhost:8080/"
        },
        "outputId": "d29b175e-3b54-47a6-da5c-7a904d5ba242"
      },
      "source": [
        "A"
      ],
      "execution_count": 28,
      "outputs": [
        {
          "output_type": "execute_result",
          "data": {
            "text/plain": [
              "{3, 5, 6, 7, 9, 10}"
            ]
          },
          "metadata": {},
          "execution_count": 28
        }
      ]
    },
    {
      "cell_type": "code",
      "metadata": {
        "id": "1R93dTwRcn6j",
        "colab": {
          "base_uri": "https://localhost:8080/"
        },
        "outputId": "888a0ebd-d8aa-4cd0-a429-4813e9db149c"
      },
      "source": [
        "B"
      ],
      "execution_count": 29,
      "outputs": [
        {
          "output_type": "execute_result",
          "data": {
            "text/plain": [
              "{2, 4, 6, 8, 10}"
            ]
          },
          "metadata": {},
          "execution_count": 29
        }
      ]
    },
    {
      "cell_type": "code",
      "metadata": {
        "id": "MaRsiinvE5fS",
        "colab": {
          "base_uri": "https://localhost:8080/"
        },
        "outputId": "c29508a2-ac7c-4076-8614-9bddef1f0cc1"
      },
      "source": [
        "# Test\n",
        "G = reunion(A,B)\n",
        "G"
      ],
      "execution_count": 30,
      "outputs": [
        {
          "output_type": "execute_result",
          "data": {
            "text/plain": [
              "{2, 3, 4, 5, 6, 7, 8, 9, 10}"
            ]
          },
          "metadata": {},
          "execution_count": 30
        }
      ]
    },
    {
      "cell_type": "markdown",
      "metadata": {
        "id": "MVcWELclkaJG"
      },
      "source": [
        "* **différence**\n",
        "\n",
        "<img src=\"https://cdn.programiz.com/sites/tutorial2program/files/set-difference.jpg\" width=\"175\" height=\"100\" />"
      ]
    },
    {
      "cell_type": "code",
      "metadata": {
        "id": "_GcnQzUnDyEo"
      },
      "source": [
        "def difference(E,F):\n",
        "    ''' Cette fonction reçoit deux ensembles E et F et renvoie l'ensemble D égal à leur différence, \n",
        "    c'est-à-dire l'ensemble des éléments de E qui ne sont pas dans F.'''\n",
        "    D = E.copy()\n",
        "    for element in F :\n",
        "        D.discard(element)\n",
        "    return D\n",
        "        "
      ],
      "execution_count": 31,
      "outputs": []
    },
    {
      "cell_type": "code",
      "metadata": {
        "id": "ReMHrwSjFC7F",
        "colab": {
          "base_uri": "https://localhost:8080/"
        },
        "outputId": "5625afb8-273b-4659-bf65-3b9d654083b8"
      },
      "source": [
        "# Test\n",
        "G = difference(A,B)\n",
        "G"
      ],
      "execution_count": 32,
      "outputs": [
        {
          "output_type": "execute_result",
          "data": {
            "text/plain": [
              "{3, 5, 7, 9}"
            ]
          },
          "metadata": {},
          "execution_count": 32
        }
      ]
    },
    {
      "cell_type": "markdown",
      "metadata": {
        "id": "uIQW9OWhk129"
      },
      "source": [
        "* **différence réciproque**\n",
        "\n",
        "<img src=\"https://cdn.programiz.com/sites/tutorial2program/files/set-symmetric-difference.jpg\" width=\"175\" height=\"100\" />"
      ]
    },
    {
      "cell_type": "code",
      "metadata": {
        "id": "Zkt2M9iZGnk7"
      },
      "source": [
        "def difference_reciproque(E,F):\n",
        "    ''' Cette fonction reçoit deux ensembles E et F et renvoie l'ensemble D égal à leur différence réciproque, \n",
        "    c'est-à-dire l'ensemble des éléments de E qui ne sont pas dans F et des éléments de F qui ne sont pas dans E.'''\n",
        "    DR = reunion(difference(E,F),difference(F,E))\n",
        "    return DR"
      ],
      "execution_count": 33,
      "outputs": []
    },
    {
      "cell_type": "code",
      "metadata": {
        "id": "Zfe98YFaHAvM",
        "colab": {
          "base_uri": "https://localhost:8080/"
        },
        "outputId": "edecd245-f213-417c-987f-f02ea1cdef40"
      },
      "source": [
        "# Test\n",
        "G = difference_reciproque(A,B)\n",
        "G"
      ],
      "execution_count": 34,
      "outputs": [
        {
          "output_type": "execute_result",
          "data": {
            "text/plain": [
              "{2, 3, 4, 5, 7, 8, 9}"
            ]
          },
          "metadata": {},
          "execution_count": 34
        }
      ]
    },
    {
      "cell_type": "markdown",
      "metadata": {
        "id": "6wh58qRFFN7M"
      },
      "source": [
        "### **--> fonctions prédéfinies**\n",
        "\n",
        "Les fonctions précédentes existent évidemment déjà nativement dans Python..."
      ]
    },
    {
      "cell_type": "code",
      "metadata": {
        "colab": {
          "base_uri": "https://localhost:8080/"
        },
        "id": "fzKdEgFUHOzf",
        "outputId": "d73bc3ea-43f7-4d30-b8d4-e576afad920a"
      },
      "source": [
        "A"
      ],
      "execution_count": 35,
      "outputs": [
        {
          "output_type": "execute_result",
          "data": {
            "text/plain": [
              "{3, 5, 6, 7, 9, 10}"
            ]
          },
          "metadata": {},
          "execution_count": 35
        }
      ]
    },
    {
      "cell_type": "code",
      "metadata": {
        "colab": {
          "base_uri": "https://localhost:8080/"
        },
        "id": "1qdnAu7JHQYT",
        "outputId": "2b55ce64-25c9-4bcd-930c-b50ddddcbe9b"
      },
      "source": [
        "B"
      ],
      "execution_count": 36,
      "outputs": [
        {
          "output_type": "execute_result",
          "data": {
            "text/plain": [
              "{2, 4, 6, 8, 10}"
            ]
          },
          "metadata": {},
          "execution_count": 36
        }
      ]
    },
    {
      "cell_type": "markdown",
      "metadata": {
        "id": "hKsvhcStHVq7"
      },
      "source": [
        "* **union**\n",
        "\n",
        "En Python, le symbole opératoire de l'union est le \" **|** \" qui signifie **\"ou\"**. \n",
        "\n",
        "**Et ça, c'est à retenir !**\n"
      ]
    },
    {
      "cell_type": "code",
      "metadata": {
        "colab": {
          "base_uri": "https://localhost:8080/"
        },
        "id": "qjut5varFYYH",
        "outputId": "a8ab6f94-b0ac-4d6d-cc51-1281fde5a736"
      },
      "source": [
        "U = A | B\n",
        "U"
      ],
      "execution_count": 37,
      "outputs": [
        {
          "output_type": "execute_result",
          "data": {
            "text/plain": [
              "{2, 3, 4, 5, 6, 7, 8, 9, 10}"
            ]
          },
          "metadata": {},
          "execution_count": 37
        }
      ]
    },
    {
      "cell_type": "markdown",
      "metadata": {
        "id": "rRgTjFDYFnVB"
      },
      "source": [
        "* **intersection**\n",
        "\n",
        "En Python, le symbole opératoire de l'intersection est le \" **&** \" qui signifie **\"et\"**.\n",
        "\n",
        "**Et ça, c'est à retenir !**"
      ]
    },
    {
      "cell_type": "code",
      "metadata": {
        "colab": {
          "base_uri": "https://localhost:8080/"
        },
        "id": "VHKzX4tMFpWY",
        "outputId": "110e401c-2ac6-4722-ab8e-c11cc069dc2d"
      },
      "source": [
        "I = A & B\n",
        "I"
      ],
      "execution_count": 38,
      "outputs": [
        {
          "output_type": "execute_result",
          "data": {
            "text/plain": [
              "{6, 10}"
            ]
          },
          "metadata": {},
          "execution_count": 38
        }
      ]
    },
    {
      "cell_type": "markdown",
      "metadata": {
        "id": "9sGbzuDnFwEj"
      },
      "source": [
        "* **différence**\n",
        "\n",
        "En Python, le symbole opératoire de la différence est le \" **-** \", tout simplement."
      ]
    },
    {
      "cell_type": "code",
      "metadata": {
        "colab": {
          "base_uri": "https://localhost:8080/"
        },
        "id": "2VMhF6_2FyZE",
        "outputId": "bbaca9c5-d8e6-427f-c305-9d7c49a730cb"
      },
      "source": [
        "D = A - B\n",
        "D"
      ],
      "execution_count": 39,
      "outputs": [
        {
          "output_type": "execute_result",
          "data": {
            "text/plain": [
              "{3, 5, 7, 9}"
            ]
          },
          "metadata": {},
          "execution_count": 39
        }
      ]
    },
    {
      "cell_type": "markdown",
      "metadata": {
        "id": "4yD2RXeEHD9H"
      },
      "source": [
        "* **différence réciproque**\n",
        "\n",
        "En Python, le symbole opératoire de la différence réciproque est le \" **^** \"."
      ]
    },
    {
      "cell_type": "code",
      "metadata": {
        "colab": {
          "base_uri": "https://localhost:8080/"
        },
        "id": "c59Vqor9HHaw",
        "outputId": "58806843-9975-4fab-e50d-bdfe41a6ebbb"
      },
      "source": [
        "DR = A ^ B\n",
        "DR"
      ],
      "execution_count": 40,
      "outputs": [
        {
          "output_type": "execute_result",
          "data": {
            "text/plain": [
              "{2, 3, 4, 5, 7, 8, 9}"
            ]
          },
          "metadata": {},
          "execution_count": 40
        }
      ]
    },
    {
      "cell_type": "markdown",
      "metadata": {
        "id": "l-f9Rp5aI_6y"
      },
      "source": [
        "## **Produit cartésien de deux ensembles**\n",
        "\n",
        "Rappel : le produit cartésien de deux ensembles E et F est l'ensemble des couples constitués d'un élément de E et d'un élément de F (dans cet ordre)\n",
        "\n",
        "Le **couple** est un type qui existe en Python (dans la famille des ***tuples***, ou **p-uplets** en français)"
      ]
    },
    {
      "cell_type": "code",
      "metadata": {
        "id": "VZDWsaxiKCQ9"
      },
      "source": [
        "def produit_cartesien(E,F):\n",
        "    '''Fonction qui reçoit deux ensembles en entrée et renvoie leur produit cartésien P, \n",
        "    ensemble des couples constitués d'un élément de E et d'un élément de F.'''\n",
        "    P = set()\n",
        "\n",
        "    for element_de_E in E :\n",
        "        for element_de_F in F :\n",
        "            nouveau_couple = (element_de_E,element_de_F)    # chaque couple a pour 1ère composante l'élément de E \n",
        "                                                            # et pour 2ème composante l'élément de F\n",
        "            P = P | {nouveau_couple} # on ajoute le nouveau couple au produit cartésien\n",
        "    return P\n",
        "\n"
      ],
      "execution_count": 41,
      "outputs": []
    },
    {
      "cell_type": "code",
      "metadata": {
        "colab": {
          "base_uri": "https://localhost:8080/"
        },
        "id": "CwiM4mQqKr-S",
        "outputId": "9c997ec8-cadf-4f8f-ec3d-043655067cb8"
      },
      "source": [
        "A"
      ],
      "execution_count": 42,
      "outputs": [
        {
          "output_type": "execute_result",
          "data": {
            "text/plain": [
              "{3, 5, 6, 7, 9, 10}"
            ]
          },
          "metadata": {},
          "execution_count": 42
        }
      ]
    },
    {
      "cell_type": "code",
      "metadata": {
        "colab": {
          "base_uri": "https://localhost:8080/"
        },
        "id": "8L-nDiuYKwMp",
        "outputId": "8455cf22-4d69-437e-cdde-ed099248ab53"
      },
      "source": [
        "B"
      ],
      "execution_count": 43,
      "outputs": [
        {
          "output_type": "execute_result",
          "data": {
            "text/plain": [
              "{2, 4, 6, 8, 10}"
            ]
          },
          "metadata": {},
          "execution_count": 43
        }
      ]
    },
    {
      "cell_type": "code",
      "metadata": {
        "colab": {
          "base_uri": "https://localhost:8080/"
        },
        "id": "Dx-jO5dnKxXD",
        "outputId": "0ba8bfdd-5283-41c5-e14d-b6b66035cc26"
      },
      "source": [
        "G = produit_cartesien(A,B)\n",
        "G"
      ],
      "execution_count": 44,
      "outputs": [
        {
          "output_type": "execute_result",
          "data": {
            "text/plain": [
              "{(3, 2),\n",
              " (3, 4),\n",
              " (3, 6),\n",
              " (3, 8),\n",
              " (3, 10),\n",
              " (5, 2),\n",
              " (5, 4),\n",
              " (5, 6),\n",
              " (5, 8),\n",
              " (5, 10),\n",
              " (6, 2),\n",
              " (6, 4),\n",
              " (6, 6),\n",
              " (6, 8),\n",
              " (6, 10),\n",
              " (7, 2),\n",
              " (7, 4),\n",
              " (7, 6),\n",
              " (7, 8),\n",
              " (7, 10),\n",
              " (9, 2),\n",
              " (9, 4),\n",
              " (9, 6),\n",
              " (9, 8),\n",
              " (9, 10),\n",
              " (10, 2),\n",
              " (10, 4),\n",
              " (10, 6),\n",
              " (10, 8),\n",
              " (10, 10)}"
            ]
          },
          "metadata": {},
          "execution_count": 44
        }
      ]
    },
    {
      "cell_type": "code",
      "metadata": {
        "colab": {
          "base_uri": "https://localhost:8080/"
        },
        "id": "xMUXX_cnLHMv",
        "outputId": "92779dc4-2547-4ea7-a200-2f199387b875"
      },
      "source": [
        "len(G) == len(A)*len(B)"
      ],
      "execution_count": 45,
      "outputs": [
        {
          "output_type": "execute_result",
          "data": {
            "text/plain": [
              "True"
            ]
          },
          "metadata": {},
          "execution_count": 45
        }
      ]
    },
    {
      "cell_type": "markdown",
      "metadata": {
        "id": "QzzQEmelzOY7"
      },
      "source": [
        "## **Comparaison d'ensembles**"
      ]
    },
    {
      "cell_type": "markdown",
      "metadata": {
        "id": "wJChq_naMsOA"
      },
      "source": [
        "### **inclusion**"
      ]
    },
    {
      "cell_type": "code",
      "metadata": {
        "id": "cME_lzNAMvon"
      },
      "source": [
        "def Est_Inclus_Dans(E,F) :\n",
        "    '''fonction qui reçoit deux ensemble E et F et renvoie vrai si E est inclus dans F'''\n",
        "    Inclus = True\n",
        "    for element in E :\n",
        "        if element not in F :\n",
        "            Inclus = False\n",
        "    return Inclus"
      ],
      "execution_count": 46,
      "outputs": []
    },
    {
      "cell_type": "code",
      "metadata": {
        "colab": {
          "base_uri": "https://localhost:8080/"
        },
        "id": "fi21Iq8ONTQq",
        "outputId": "e4766ea3-9612-440b-b2ef-84bfac5d607b"
      },
      "source": [
        "# Test\n",
        "H = {1,3,5}\n",
        "D = set(range(7))\n",
        "\n",
        "Est_Inclus_Dans(H,D)"
      ],
      "execution_count": 47,
      "outputs": [
        {
          "output_type": "execute_result",
          "data": {
            "text/plain": [
              "True"
            ]
          },
          "metadata": {},
          "execution_count": 47
        }
      ]
    },
    {
      "cell_type": "markdown",
      "metadata": {
        "id": "cZZDFYjnN3hi"
      },
      "source": [
        "**opérateur Python prédéfini :**\n"
      ]
    },
    {
      "cell_type": "code",
      "metadata": {
        "colab": {
          "base_uri": "https://localhost:8080/"
        },
        "id": "3fww5dLeN8fU",
        "outputId": "9daf986e-e7f3-4634-9b35-c30c91c9c9c1"
      },
      "source": [
        "C <= D"
      ],
      "execution_count": 48,
      "outputs": [
        {
          "output_type": "execute_result",
          "data": {
            "text/plain": [
              "False"
            ]
          },
          "metadata": {},
          "execution_count": 48
        }
      ]
    },
    {
      "cell_type": "markdown",
      "metadata": {
        "id": "ikTbxsNfOVx3"
      },
      "source": [
        "**test d'égalité**\n",
        "\n",
        "avec notre fonction, double-inclusion :\n"
      ]
    },
    {
      "cell_type": "code",
      "metadata": {
        "colab": {
          "base_uri": "https://localhost:8080/"
        },
        "id": "SAJyGrO3OhbG",
        "outputId": "0bc4ba81-5548-490b-bf59-6fb10808b73e"
      },
      "source": [
        "Est_Inclus_Dans(B,C) & Est_Inclus_Dans(C,B)"
      ],
      "execution_count": 49,
      "outputs": [
        {
          "output_type": "execute_result",
          "data": {
            "text/plain": [
              "True"
            ]
          },
          "metadata": {},
          "execution_count": 49
        }
      ]
    },
    {
      "cell_type": "markdown",
      "metadata": {
        "id": "hAoxCXZ2O-Mz"
      },
      "source": [
        "ou plus simplement :"
      ]
    },
    {
      "cell_type": "code",
      "metadata": {
        "colab": {
          "base_uri": "https://localhost:8080/"
        },
        "id": "FGDtCz62yZtg",
        "outputId": "b80cc3b4-7edd-49f1-db97-732700742172"
      },
      "source": [
        "B == C"
      ],
      "execution_count": 50,
      "outputs": [
        {
          "output_type": "execute_result",
          "data": {
            "text/plain": [
              "True"
            ]
          },
          "metadata": {},
          "execution_count": 50
        }
      ]
    },
    {
      "cell_type": "markdown",
      "metadata": {
        "id": "Ueq6Wq0f0XQb"
      },
      "source": [
        "# **3. Ensemble des parties d'un ensemble**\n",
        "\n",
        "Ici, petit problème, il est impossible, en Python, de constituer des *sets* de *sets*. Nous allons donc travailler avec une liste de *sets*."
      ]
    },
    {
      "cell_type": "code",
      "metadata": {
        "id": "QpF4jNOq1IBx"
      },
      "source": [
        "def Ensemble_des_Parties(E):\n",
        "    '''Fonction qui reçoit un ensemble E en paramètre et renvoie l'ensemble P de ses parties'''\n",
        "    \n",
        "    P = [set()] # On initialise le résultat à la liste qui ne contient que l'ensemble vide\n",
        "    for element in E:               # Pour chaque élément de E\n",
        "        liste_ajouts = []                   # on va fabriquer une nouvellle liste de parties en ajoutant ce nouvel élément à chaque partie déjà existante\n",
        "        for partie in P :                   # Pour chaque partie existante, \n",
        "            liste_ajouts.append(partie | {element}) # on ajoute l'élément à chaque partie existante, on crée ainsi une nouvelle partie\n",
        "                                                    # qu'on ajoute à la liste d'ajouts\n",
        "        P = P + liste_ajouts                # on fusionne l'ancienne liste avec la nouvelle, la taille double donc à chaque itération\n",
        "    return P\n"
      ],
      "execution_count": 51,
      "outputs": []
    },
    {
      "cell_type": "code",
      "metadata": {
        "colab": {
          "base_uri": "https://localhost:8080/"
        },
        "id": "5oYyoWfw2fsn",
        "outputId": "d845ff89-d8c4-4259-ad76-ca2dbf8b016b"
      },
      "source": [
        "# test\n",
        "D = {1,2,3}\n",
        "G = Ensemble_des_Parties(D)\n",
        "G"
      ],
      "execution_count": 52,
      "outputs": [
        {
          "output_type": "execute_result",
          "data": {
            "text/plain": [
              "[set(), {1}, {2}, {1, 2}, {3}, {1, 3}, {2, 3}, {1, 2, 3}]"
            ]
          },
          "metadata": {},
          "execution_count": 52
        }
      ]
    },
    {
      "cell_type": "code",
      "metadata": {
        "colab": {
          "base_uri": "https://localhost:8080/"
        },
        "id": "yZyq6a6MA8vm",
        "outputId": "1c65e4dc-b304-4b4d-c8d1-eb62e261218e"
      },
      "source": [
        "len(G) == 2**len(D) "
      ],
      "execution_count": 53,
      "outputs": [
        {
          "output_type": "execute_result",
          "data": {
            "text/plain": [
              "True"
            ]
          },
          "metadata": {},
          "execution_count": 53
        }
      ]
    },
    {
      "cell_type": "code",
      "metadata": {
        "colab": {
          "base_uri": "https://localhost:8080/",
          "height": 521
        },
        "id": "1fgQu6r7Hw-B",
        "outputId": "a0fbb62f-62b1-4429-bb8e-8ae974a105cb"
      },
      "source": [
        "%%tutor # lancement de PythonTutor\n",
        "\n",
        "def Ensemble_des_Parties(E):\n",
        "    '''Fonction qui reçoit un ensemble E en paramètre et renvoie l'ensemble P de ses parties'''\n",
        "    \n",
        "    P = [set()] # On initialise le résultat à la liste qui ne contient que l'ensemble vide\n",
        "    for element in E:               # Pour chaque élément de E\n",
        "        liste_ajouts = []                   # on va fabriquer une nouvellle liste de parties en ajoutant ce nouvel élément à chaque partie déjà existante\n",
        "        for partie in P :                   # Pour chaque partie existante, \n",
        "            liste_ajouts.append(partie | {element}) # on ajoute l'élément à chaque partie existante, on crée ainsi une nouvelle partie\n",
        "                                                    # qu'on ajoute à la liste d'ajouts\n",
        "        P = P + liste_ajouts                # on fusionne l'ancienne liste avec la nouvelle, la taille double donc à chaque itération\n",
        "    return P\n",
        "\n",
        "# test\n",
        "D = {1,2,3}\n",
        "G = Ensemble_des_Parties(D)"
      ],
      "execution_count": 68,
      "outputs": [
        {
          "output_type": "display_data",
          "data": {
            "text/html": [
              "\n",
              "        <iframe\n",
              "            width=\"100%\"\n",
              "            height=\"500\"\n",
              "            src=\"https://pythontutor.com/iframe-embed.html#code=%0Adef%20Ensemble_des_Parties%28E%29%3A%0A%20%20%20%20%27%27%27Fonction%20qui%20re%C3%A7oit%20un%20ensemble%20E%20en%20param%C3%A8tre%20et%20renvoie%20l%27ensemble%20P%20de%20ses%20parties%27%27%27%0A%20%20%20%20%0A%20%20%20%20P%20%3D%20%5Bset%28%29%5D%20%23%20On%20initialise%20le%20r%C3%A9sultat%20%C3%A0%20la%20liste%20qui%20ne%20contient%20que%20l%27ensemble%20vide%0A%20%20%20%20for%20element%20in%20E%3A%20%20%20%20%20%20%20%20%20%20%20%20%20%20%20%23%20Pour%20chaque%20%C3%A9l%C3%A9ment%20de%20E%0A%20%20%20%20%20%20%20%20liste_ajouts%20%3D%20%5B%5D%20%20%20%20%20%20%20%20%20%20%20%20%20%20%20%20%20%20%20%23%20on%20va%20fabriquer%20une%20nouvellle%20liste%20de%20parties%20en%20ajoutant%20ce%20nouvel%20%C3%A9l%C3%A9ment%20%C3%A0%20chaque%20partie%20d%C3%A9j%C3%A0%20existante%0A%20%20%20%20%20%20%20%20for%20partie%20in%20P%20%3A%20%20%20%20%20%20%20%20%20%20%20%20%20%20%20%20%20%20%20%23%20Pour%20chaque%20partie%20existante%2C%20%0A%20%20%20%20%20%20%20%20%20%20%20%20liste_ajouts.append%28partie%20%7C%20%7Belement%7D%29%20%23%20on%20ajoute%20l%27%C3%A9l%C3%A9ment%20%C3%A0%20chaque%20partie%20existante%2C%20on%20cr%C3%A9e%20ainsi%20une%20nouvelle%20partie%0A%20%20%20%20%20%20%20%20%20%20%20%20%20%20%20%20%20%20%20%20%20%20%20%20%20%20%20%20%20%20%20%20%20%20%20%20%20%20%20%20%20%20%20%20%20%20%20%20%20%20%20%20%23%20qu%27on%20ajoute%20%C3%A0%20la%20liste%20d%27ajouts%0A%20%20%20%20%20%20%20%20P%20%3D%20P%20%2B%20liste_ajouts%20%20%20%20%20%20%20%20%20%20%20%20%20%20%20%20%23%20on%20fusionne%20l%27ancienne%20liste%20avec%20la%20nouvelle%2C%20la%20taille%20double%20donc%20%C3%A0%20chaque%20it%C3%A9ration%0A%20%20%20%20return%20P%0A%0A%23%20test%0AD%20%3D%20%7B1%2C2%2C3%7D%0AG%20%3D%20Ensemble_des_Parties%28D%29&origin=opt-frontend.js&cumulative=false&heapPrimitives=false&textReferences=false&py=3&rawInputLstJSON=%5B%5D&curInstr=0&codeDivWidth=350&codeDivHeight=400\"\n",
              "            frameborder=\"0\"\n",
              "            allowfullscreen\n",
              "        ></iframe>\n",
              "        "
            ],
            "text/plain": [
              "<IPython.lib.display.IFrame at 0x7ff5c07d0c50>"
            ]
          },
          "metadata": {}
        }
      ]
    },
    {
      "cell_type": "markdown",
      "metadata": {
        "id": "x6wikqL8r6Ph"
      },
      "source": [
        "# **4. Applications sur des ensembles finis**"
      ]
    },
    {
      "cell_type": "markdown",
      "metadata": {
        "id": "cDQhvM22Zwvp"
      },
      "source": [
        "## **Modélisation d'une application par un dictionnaire**\n",
        "\n",
        "**Rappel :**\n",
        "\n",
        "**Si E et F sont deux ensembles ayant chacun un nombre fini d'éléments, définir une application de E dans F consiste à mettre en correspondance, pour chaque élément de E, un élément de F et un seul.**\n",
        "\n",
        "Un outil adapté pour modéliser une application dans Python est le **dictionnaire (*dict*)**.\n",
        "Un dictionnaire Python va permettre de rassembler des éléments identifiés, non plus par leur position comme dans une liste, mais par une **clé** (***key*** en anglais). À chaque clé est associée une **valeur** (***value***) en anglais (qui peut elle-même être, pourquoi pas, d'un type construit, comme une liste ou un autre dictionnaire).\n",
        "\n",
        "Cette \"association\" est exactement ce qu'il nous faut pour définir une application (\"l'application f qui a x **associe** y = f(x)\").\n",
        "\n",
        "Par exemple, si E est l'ensemble des entiers de 1 à 12 et F celui des entiers de 1 à 6,\n"
      ]
    },
    {
      "cell_type": "code",
      "metadata": {
        "id": "M_y0vQEecLWy"
      },
      "source": [
        "E = {1,2,3,4,5,6,7,8,9,10} # ou E = range(1,11)\n",
        "F = {1,2,3,4,5,6}\n"
      ],
      "execution_count": 55,
      "outputs": []
    },
    {
      "cell_type": "markdown",
      "metadata": {
        "id": "oXHZXJ5icvKv"
      },
      "source": [
        "... on peut définir l'application f, qui, à chaque élément x de E associe l'élément y de F égal au nombre de diviseurs de x...\n"
      ]
    },
    {
      "cell_type": "markdown",
      "metadata": {
        "id": "yGJShEJVdgm2"
      },
      "source": [
        "<img src=\"https://drive.google.com/uc?id=12xC4OgFZuJYB2VP-0uuD5icisCFb5tLk\" width=\"400\" height=\"400\" align =  \"right\"/>"
      ]
    },
    {
      "cell_type": "markdown",
      "metadata": {
        "id": "sIX8GWI6k9aG"
      },
      "source": [
        "**Rappel vocabulaire :**\n",
        "\n",
        "* 6 a pour **image** 4\n",
        "* 4 est l'image de 6\n",
        "* 4 a pour **antécédents** 6, 8, et 10\n",
        "* l'**ensemble-image** de l'application f, noté $Im(f)$ est l'ensemble des éléments de F qui ont au moins un antécédent par f, ici, $Im(f) = \\{1,2,3,4,6\\}$\n",
        "* Si tout élément de F possède **au plus** un antécédent par f, on dit que f est une application **injective**\n",
        "* Si tout élément de F possède **au moins** un antécédent par f, on dit que f est une application **surjective**\n",
        "* Si tout élément de F possède **exactement** un antécédent par f, on dit que f est une application **bijective**\n",
        "\n",
        "\n",
        "\n",
        "---\n",
        "\n",
        "\n",
        "\n",
        "\n",
        "\n",
        "\n"
      ]
    },
    {
      "cell_type": "markdown",
      "metadata": {
        "id": "5-yzB-LHmoPF"
      },
      "source": [
        "Le **graphe** de notre application f, c'est-à-dire l'ensemble de toutes les associations d'un élément de E avec un élément unique de F, peut alors être **modélisée** par le **dictionnaire** suivant :\n"
      ]
    },
    {
      "cell_type": "code",
      "metadata": {
        "id": "a5IvoWHycoMQ"
      },
      "source": [
        "f = { 1: 1 , 2: 2 , 3: 2 , 4: 3 , 5: 2 , 6: 4 , 7: 2 , 8: 4 , 9: 3 , 10: 4 , 11: 2 , 12: 6 }"
      ],
      "execution_count": 56,
      "outputs": []
    },
    {
      "cell_type": "markdown",
      "metadata": {
        "id": "CsDamztpuRPn"
      },
      "source": [
        "... car 1 a 1 diviseur, 4 en a 3, 10 en a 4 et 12 en a 6, etc.\n",
        "\n",
        "\n",
        "\n",
        "---\n",
        "\n"
      ]
    },
    {
      "cell_type": "markdown",
      "metadata": {
        "id": "3KjRB-oPnIu7"
      },
      "source": [
        "**À retenir :**\n",
        "\n",
        "Comme on le voit, **un dictionnaire est délimité entre accolades, chaque \"entrée\" (élément) est définie par sa clé**, ici chaque élément de E, **suivie de \":\", puis la valeur associée à cette clé,** ici, le nombre de diviseurs de la clé, c'est donc un nombre de F, **les \"entrées\" sont séparées par des virgules.**\n",
        "\n",
        "La liste des clés peut être obtenue pas la méthode **\".keys()\"**,\n",
        "\n",
        "La liste des valeurs, par la méthode **.values()**"
      ]
    },
    {
      "cell_type": "code",
      "metadata": {
        "colab": {
          "base_uri": "https://localhost:8080/"
        },
        "id": "Pk5IyrISp91Y",
        "outputId": "a0a07924-7a99-4606-82d4-8aa0f7474be6"
      },
      "source": [
        "f.keys()"
      ],
      "execution_count": 57,
      "outputs": [
        {
          "output_type": "execute_result",
          "data": {
            "text/plain": [
              "dict_keys([1, 2, 3, 4, 5, 6, 7, 8, 9, 10, 11, 12])"
            ]
          },
          "metadata": {},
          "execution_count": 57
        }
      ]
    },
    {
      "cell_type": "code",
      "metadata": {
        "colab": {
          "base_uri": "https://localhost:8080/"
        },
        "id": "f8idHhGlqKTc",
        "outputId": "932f5af6-28b5-41bc-f0bf-58d8ac193228"
      },
      "source": [
        "f.values()"
      ],
      "execution_count": 58,
      "outputs": [
        {
          "output_type": "execute_result",
          "data": {
            "text/plain": [
              "dict_values([1, 2, 2, 3, 2, 4, 2, 4, 3, 4, 2, 6])"
            ]
          },
          "metadata": {},
          "execution_count": 58
        }
      ]
    },
    {
      "cell_type": "markdown",
      "metadata": {
        "id": "vKXzBDcyskl3"
      },
      "source": [
        "On accède à un élément par sa clé : (attention, entre crochets)"
      ]
    },
    {
      "cell_type": "code",
      "metadata": {
        "colab": {
          "base_uri": "https://localhost:8080/"
        },
        "id": "U0-qHvc1spdT",
        "outputId": "af70822d-9336-453b-ecb8-5b326b6d97c1"
      },
      "source": [
        "f[12] # valeur associée à la clé 12 dans le dictionnaire f"
      ],
      "execution_count": 59,
      "outputs": [
        {
          "output_type": "execute_result",
          "data": {
            "text/plain": [
              "6"
            ]
          },
          "metadata": {},
          "execution_count": 59
        }
      ]
    },
    {
      "cell_type": "markdown",
      "metadata": {
        "id": "3B0FYYx7m5qv"
      },
      "source": [
        "\n",
        "\n",
        "---\n",
        "\n",
        "\n",
        "\n",
        "\n",
        "\n",
        "Compléter les fonctions ainsi spécifiées ci-dessous :\n",
        "\n",
        "**Remarque :**\n",
        "\n",
        "Les clés étant regroupées dans une liste, on peut itérer sur la liste des clés :\n",
        "\n",
        "--> *for bidule in f.keys(): # pour chaque clé dans la liste des clés, faire...*\n",
        "\n",
        "\n"
      ]
    },
    {
      "cell_type": "code",
      "metadata": {
        "id": "qwB8Xv7YnCQR"
      },
      "source": [
        "def Im(f) : \n",
        "    '''Fonction qui reçoit en entrée un dictionnaire qui modélise le graphe d'une application f et qui retourne l'ensemble-image de f'''\n",
        "\n",
        "\n",
        "def EstSurjective(f):\n",
        "    '''Fonction qui reçoit en entrée le graphe d'une application f modélisé par un dictionnaire\n",
        "    et qui retourne vrai si l'application est surjective'''\n",
        "\n",
        "\n",
        "\n",
        "def EstInjective(f):\n",
        "    '''Fonction qui reçoit en entrée le graphe d'une application f modélisé par un dictionnaire\n",
        "    et qui retourne vrai si l'application est injective'''\n",
        "\n",
        "\n",
        "\n",
        "def EstBijective(f):\n",
        "    '''Fonction qui reçoit en entrée le graphe d'une application f modélisé par un dictionnaire\n",
        "    et qui retourne vrai si l'application est bijective'''"
      ],
      "execution_count": 60,
      "outputs": []
    },
    {
      "cell_type": "code",
      "metadata": {
        "id": "K795r2Yzucxb"
      },
      "source": [
        "G = Im(f)\n",
        "G"
      ],
      "execution_count": 61,
      "outputs": []
    },
    {
      "cell_type": "code",
      "metadata": {
        "id": "TWLnWdrBujBZ"
      },
      "source": [
        "EstSurjective(f)"
      ],
      "execution_count": 62,
      "outputs": []
    },
    {
      "cell_type": "code",
      "metadata": {
        "id": "XyP8rBgGuoxi"
      },
      "source": [
        "EstInjective(f)"
      ],
      "execution_count": 63,
      "outputs": []
    },
    {
      "cell_type": "code",
      "metadata": {
        "id": "u9j1_6_EuuS3"
      },
      "source": [
        "EstBijective(f)"
      ],
      "execution_count": 64,
      "outputs": []
    },
    {
      "cell_type": "markdown",
      "metadata": {
        "id": "U2RhyYavu2lG"
      },
      "source": [
        "## **Composition des applications**\n",
        "\n",
        "**Rappel :**\n",
        "si f est une application de E vers F, qui à un élément x de E associe l'élément y = f(x),\n",
        "\n",
        "et si g est une application de F vers G, qui, à un élément y de F associe l'élément z = g(y) dans G, \n",
        "\n",
        "alors l'application, de E vers G qui à x associe z = g(f(x)) est appelée l'**\"application composée de f suivie de g\", notée g o f** \n",
        "\n",
        "--> attention à l'ordre : g o f car (g o f)(x) = g(f(x))\n",
        "\n",
        "c'est bien f qui est appliquée d'abord, puis g\n"
      ]
    },
    {
      "cell_type": "markdown",
      "metadata": {
        "id": "_mPMOcOkwVF5"
      },
      "source": [
        "Écrire la fonction suivante, qui étant donnés les graphes de f et g, calcule celui de g o f :"
      ]
    },
    {
      "cell_type": "code",
      "metadata": {
        "id": "vuTC_Uzjux7M"
      },
      "source": [
        "def composee(f,g) : \n",
        "    '''Cette fonction reçoit les graphes de deux applications f et g, modélisés par des dictionnaires,\n",
        "    elle doit vérifier que les valeurs de l'image de f sont bien dans l'ensemble des clés de g\n",
        "    puis renvoie le graphe de g o f'''\n",
        "    h = {} # dictionnaire vide\n",
        "    for element in f.keys():    # pour chaque clé de f\n",
        "        h[element] = g[f[element]] # on ajoute au dictionnaire h l'entrée de clé \"element\", avec pour valeur l'image par g de l'image par f de cet élément.\n",
        "    return h"
      ],
      "execution_count": 65,
      "outputs": []
    },
    {
      "cell_type": "code",
      "metadata": {
        "id": "tedLHzbGxkHN",
        "colab": {
          "base_uri": "https://localhost:8080/"
        },
        "outputId": "823d64fc-1e2b-4427-e8d4-94ab4049e650"
      },
      "source": [
        "# Test\n",
        "f = { 1: 1 , 2: 2 , 3: 2 , 4: 3 , 5: 2 , 6: 4 , 7: 2 , 8: 4 , 9: 3 , 10: 4 , 11: 2 , 12: 6 } # f donne le nombre de diviseur de chaque clé\n",
        "g = { 1 : \"pas premier\" , 2 : \"premier\" , 3 : \"carré\", 4 : \"pas premier\", 5 : \"carré\", 6 : \"pas premier\"} # g indique, selon le nombre de diviseurs, si...\n",
        "\n",
        "h = composee(f,g)\n",
        "h"
      ],
      "execution_count": 66,
      "outputs": [
        {
          "output_type": "execute_result",
          "data": {
            "text/plain": [
              "{1: 'pas premier',\n",
              " 2: 'premier',\n",
              " 3: 'premier',\n",
              " 4: 'carré',\n",
              " 5: 'premier',\n",
              " 6: 'pas premier',\n",
              " 7: 'premier',\n",
              " 8: 'pas premier',\n",
              " 9: 'carré',\n",
              " 10: 'pas premier',\n",
              " 11: 'premier',\n",
              " 12: 'pas premier'}"
            ]
          },
          "metadata": {},
          "execution_count": 66
        }
      ]
    },
    {
      "cell_type": "code",
      "metadata": {
        "id": "BqlUikU6yJYA"
      },
      "source": [
        ""
      ],
      "execution_count": 66,
      "outputs": []
    }
  ]
}