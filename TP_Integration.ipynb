{
  "nbformat": 4,
  "nbformat_minor": 0,
  "metadata": {
    "colab": {
      "name": "TP-Integration.ipynb",
      "provenance": [],
      "authorship_tag": "ABX9TyMqkAPsnj+xXBZfYo/vwn4U",
      "include_colab_link": true
    },
    "kernelspec": {
      "name": "python3",
      "display_name": "Python 3"
    },
    "language_info": {
      "name": "python"
    }
  },
  "cells": [
    {
      "cell_type": "markdown",
      "metadata": {
        "id": "view-in-github",
        "colab_type": "text"
      },
      "source": [
        "<a href=\"https://colab.research.google.com/github/othoni-hub/ECG1/blob/main/TP_Integration.ipynb\" target=\"_parent\"><img src=\"https://colab.research.google.com/assets/colab-badge.svg\" alt=\"Open In Colab\"/></a>"
      ]
    },
    {
      "cell_type": "code",
      "metadata": {
        "id": "TcnuHU_isZj9"
      },
      "source": [
        ""
      ],
      "execution_count": null,
      "outputs": []
    },
    {
      "cell_type": "markdown",
      "metadata": {
        "id": "7KqEqysZsjLW"
      },
      "source": [
        "# **CPGE-ECG1** \n",
        "<img src=\"https://drive.google.com/uc?id=12Wo3LubGGT4qOvYFAuLP4CyCuwjKNVuk\" width=\"230\" height=\"150\" align = \"right\"/>\n",
        "\n",
        "## **Ch17 - Notebook : TP - Intégration et calculs approchés d'aires**\n",
        "\n",
        "\n",
        "\n",
        "\n",
        "**O.Thöni - Lycée Saint-Charles Sainte Croix - LE MANS**"
      ]
    },
    {
      "cell_type": "code",
      "metadata": {
        "id": "WOulo1VC_REm"
      },
      "source": [
        "import matplotlib.pyplot as plt\n",
        "import numpy as np\n",
        "from math import sqrt, log, exp\n",
        "\n",
        "def centrax() :\n",
        "    '''paramétrage esthétique des axes dans la représentation graphique d'une fonction'''\n",
        "    ax = plt.gca()\n",
        "    ax.spines['left'].set_position('zero')\n",
        "    ax.spines['right'].set_color('none')\n",
        "    ax.spines['bottom'].set_position('zero')\n",
        "    ax.spines['top'].set_color('none')\n",
        "    "
      ],
      "execution_count": 1,
      "outputs": []
    },
    {
      "cell_type": "markdown",
      "metadata": {
        "id": "F7wewfpq_RHR"
      },
      "source": [
        "On cherche une valeur approchée de l'aire sous la courbe de la fonction d'expression $f(x) = x^3 + x^2 + 6x + 5$, entre -3 et 3"
      ]
    },
    {
      "cell_type": "code",
      "metadata": {
        "id": "p0Inah71_RHV",
        "colab": {
          "base_uri": "https://localhost:8080/",
          "height": 284
        },
        "outputId": "3cbe0b9c-7525-4b6a-de01-ebbb184c4697"
      },
      "source": [
        "a = -3\n",
        "b = 3\n",
        "\n",
        "# Définition de la fonction\n",
        "def f(x):\n",
        "    y = x**3 + x**2 -6*x + 5\n",
        "    return y\n",
        "titre = ('$f(x) = x^3 + x^2 - 6x + 5$')\n",
        "\n",
        "# Représentation graphique\n",
        "def graph(f):\n",
        "    xx = np.arange(a,b+0.1,0.1) # liste numpy de a à b avec un pas de 0.1 (les listes natives avec range sont des listes d'entiers)\n",
        "    yy = []\n",
        "\n",
        "    for x in xx :\n",
        "        yy.append(f(x))\n",
        "    \n",
        "    p1 = plt.plot(xx,yy,'r',linewidth=1)\n",
        "\n",
        "    centrax()\n",
        "\n",
        "    plt.xlim(a-0.5,b+0.5)\n",
        "    plt.title(titre)\n",
        "    \n",
        "graph(f)\n",
        "plt.show()"
      ],
      "execution_count": 2,
      "outputs": [
        {
          "output_type": "display_data",
          "data": {
            "image/png": "[encoded data removed]",
            "text/plain": [
              "<Figure size 432x288 with 1 Axes>"
            ]
          },
          "metadata": {
            "tags": [],
            "needs_background": "light"
          }
        }
      ]
    },
    {
      "cell_type": "markdown",
      "metadata": {
        "id": "p7r8MC-x_RIA"
      },
      "source": [
        "### 1. méthode des rectangles\n",
        "\n",
        "**<span style=\"color: #D17460\">TSpé - TCompl </span>**\n",
        "\n",
        "**<span style=\"color: #26B260\">Python : listes par compréhension</span>**\n"
      ]
    },
    {
      "cell_type": "code",
      "metadata": {
        "id": "NAmkHq0M_RIE"
      },
      "source": [
        "titre = ('$f(x) = x^3 + x^2 - 6x + 5$')\n",
        "def rectangles(n):\n",
        "    pas = (b-a)/n\n",
        "    Aire = 0\n",
        "\n",
        "    x = [a + k*pas for k in range(n)] # liste définie par compréhension\n",
        "    Rectangles = [pas*f(x[k]) for k in range(n)]\n",
        "    S = sum(Rectangles) #somme des termes de la liste 'Rectangles'\n",
        "    return S\n"
      ],
      "execution_count": 3,
      "outputs": []
    },
    {
      "cell_type": "code",
      "metadata": {
        "id": "RZY-p6t8_RIS",
        "colab": {
          "base_uri": "https://localhost:8080/"
        },
        "outputId": "2be59645-cd46-4bce-f0ed-c9c441cc751b"
      },
      "source": [
        "rectangles((b-a)*5) #unité divisée en 5"
      ],
      "execution_count": 4,
      "outputs": [
        {
          "output_type": "execute_result",
          "data": {
            "text/plain": [
              "46.24000000000001"
            ]
          },
          "metadata": {
            "tags": []
          },
          "execution_count": 4
        }
      ]
    },
    {
      "cell_type": "code",
      "metadata": {
        "id": "xO6vAjrl_RIf",
        "colab": {
          "base_uri": "https://localhost:8080/"
        },
        "outputId": "6ced41a4-6c29-4b93-9c09-2279a897881d"
      },
      "source": [
        "rectangles((b-a)*100)"
      ],
      "execution_count": 5,
      "outputs": [
        {
          "output_type": "execute_result",
          "data": {
            "text/plain": [
              "47.910100000000035"
            ]
          },
          "metadata": {
            "tags": []
          },
          "execution_count": 5
        }
      ]
    },
    {
      "cell_type": "code",
      "metadata": {
        "id": "UnqCs5O2_RIz",
        "colab": {
          "base_uri": "https://localhost:8080/"
        },
        "outputId": "dbf319fe-5254-4067-d19d-491f7369b97b"
      },
      "source": [
        "rectangles((b-a)*100000) "
      ],
      "execution_count": 6,
      "outputs": [
        {
          "output_type": "execute_result",
          "data": {
            "text/plain": [
              "47.999910000102716"
            ]
          },
          "metadata": {
            "tags": []
          },
          "execution_count": 6
        }
      ]
    },
    {
      "cell_type": "markdown",
      "metadata": {
        "id": "stmQKhZC_RJD"
      },
      "source": [
        "**_illustration graphique pour l'unité subdivisée en 2_**"
      ]
    },
    {
      "cell_type": "code",
      "metadata": {
        "id": "ggmXeYGt_RJH",
        "colab": {
          "base_uri": "https://localhost:8080/",
          "height": 293
        },
        "outputId": "b5a5ef6e-38fd-40d9-fc53-0957bdb4aaf6"
      },
      "source": [
        "graph(f)\n",
        "\n",
        "n = (b-a)*2\n",
        "pas = (b-a)/n\n",
        "x = [a + k*pas for k in range(n)]\n",
        "\n",
        "for k in range(n-1) :\n",
        "    plt.plot([x[k],x[k]],[0,f(x[k])], 'b',linewidth = 1 )\n",
        "    if f(x[k]) > f(x[k+1]) :\n",
        "        plt.plot([x[k+1],x[k+1]],[0,f(x[k])], 'b',linewidth = 1 )\n",
        "    plt.plot([x[k],x[k+1]],[f(x[k]),f(x[k])], 'b',linewidth = 1)\n",
        "    \n",
        "plt.plot([x[-1],x[-1]],[0,f(x[-1])], 'b',linewidth = 1 ) \n",
        "plt.plot([x[-1],b],[f(x[-1]),f(x[-1])], 'b',linewidth = 1 )\n",
        "plt.plot([b,b],[0,f(b)], 'b',linewidth = 1 )  \n",
        "\n",
        "plt.show()\n",
        "\n",
        "print('Aire estimée : ', rectangles(n))\n"
      ],
      "execution_count": 7,
      "outputs": [
        {
          "output_type": "display_data",
          "data": {
            "image/png": "[encoded data removed]",
            "text/plain": [
              "<Figure size 432x288 with 1 Axes>"
            ]
          },
          "metadata": {
            "tags": [],
            "needs_background": "light"
          }
        },
        {
          "output_type": "stream",
          "text": [
            "Aire estimée :  43.75\n"
          ],
          "name": "stdout"
        }
      ]
    },
    {
      "cell_type": "markdown",
      "metadata": {
        "id": "W8W3CECH_RJT"
      },
      "source": [
        "### 2. méthode des trapèzes\n",
        "\n",
        "**<span style=\"color: #D17460\">TSpé </span>**\n"
      ]
    },
    {
      "cell_type": "code",
      "metadata": {
        "id": "vzrzcPmC_RJZ"
      },
      "source": [
        "def trapezes(n):\n",
        "    pas = (b-a)/n\n",
        "    Aire = 0\n",
        "\n",
        "    x = [a + k*pas for k in range(n+1)] # liste définie par compréhension\n",
        "    Trapezes = [pas*(f(x[k])+f(x[k+1]))/2 for k in range(n)]\n",
        "    S = sum(Trapezes) \n",
        "    return S"
      ],
      "execution_count": 8,
      "outputs": []
    },
    {
      "cell_type": "code",
      "metadata": {
        "id": "dvRjOKHD_RJr",
        "colab": {
          "base_uri": "https://localhost:8080/"
        },
        "outputId": "8ae0ca61-9ddd-49f3-b64f-dbb25b78b141"
      },
      "source": [
        "trapezes((b-a)*5)"
      ],
      "execution_count": 9,
      "outputs": [
        {
          "output_type": "execute_result",
          "data": {
            "text/plain": [
              "48.040000000000006"
            ]
          },
          "metadata": {
            "tags": []
          },
          "execution_count": 9
        }
      ]
    },
    {
      "cell_type": "code",
      "metadata": {
        "id": "bpcr7wb0_RJ3",
        "colab": {
          "base_uri": "https://localhost:8080/"
        },
        "outputId": "95523614-d1c4-484c-80e3-d0702479a210"
      },
      "source": [
        "trapezes((b-a)*100)"
      ],
      "execution_count": 10,
      "outputs": [
        {
          "output_type": "execute_result",
          "data": {
            "text/plain": [
              "48.0001"
            ]
          },
          "metadata": {
            "tags": []
          },
          "execution_count": 10
        }
      ]
    },
    {
      "cell_type": "code",
      "metadata": {
        "id": "UugwfwyQ_RKG",
        "colab": {
          "base_uri": "https://localhost:8080/"
        },
        "outputId": "f5a08c55-3f3b-45e7-9d39-610f408cc849"
      },
      "source": [
        "trapezes((b-a)*100000)"
      ],
      "execution_count": 11,
      "outputs": [
        {
          "output_type": "execute_result",
          "data": {
            "text/plain": [
              "48.00000000009952"
            ]
          },
          "metadata": {
            "tags": []
          },
          "execution_count": 11
        }
      ]
    },
    {
      "cell_type": "markdown",
      "metadata": {
        "id": "zxp4O2-X_RKP"
      },
      "source": [
        "**_illustration graphique pour l'unité subdivisée en 2_**"
      ]
    },
    {
      "cell_type": "code",
      "metadata": {
        "id": "yHZLvZRX_RKR",
        "colab": {
          "base_uri": "https://localhost:8080/",
          "height": 293
        },
        "outputId": "5eb13eca-9b07-49dc-83d1-e2774562de3a"
      },
      "source": [
        "graph(f)\n",
        "\n",
        "n = (b-a)*2\n",
        "pas = (b-a)/n\n",
        "x = [a + k*pas for k in range(n+1)]\n",
        "\n",
        "for k in range(n) :\n",
        "    plt.plot([x[k],x[k]],[0,f(x[k])], 'b',linewidth = 1 )\n",
        "    plt.plot([x[k],x[k+1]],[f(x[k]),f(x[k+1])], 'b',linewidth = 1)\n",
        "    \n",
        "#plt.plot([x[-1],x[-1]],[0,f(x[-1])], 'b',linewidth = 1 ) \n",
        "#plt.plot([x[-1],b],[f(x[-1]),f(x[-1])], 'b',linewidth = 1 )\n",
        "plt.plot([b,b],[0,f(b)], 'b',linewidth = 1 )  \n",
        "\n",
        "plt.show()\n",
        "\n",
        "print('Aire estimée : ', trapezes(n))"
      ],
      "execution_count": 12,
      "outputs": [
        {
          "output_type": "display_data",
          "data": {
            "image/png": "[encoded data removed]",
            "text/plain": [
              "<Figure size 432x288 with 1 Axes>"
            ]
          },
          "metadata": {
            "tags": [],
            "needs_background": "light"
          }
        },
        {
          "output_type": "stream",
          "text": [
            "Aire estimée :  48.25\n"
          ],
          "name": "stdout"
        }
      ]
    },
    {
      "cell_type": "markdown",
      "metadata": {
        "id": "rbysxINd_RKc"
      },
      "source": [
        "### 3. méthode des milieux\n",
        "\n",
        "**<span style=\"color: #D17460\">TSpé </span>**\n"
      ]
    },
    {
      "cell_type": "code",
      "metadata": {
        "id": "Stdh68m2_RKf"
      },
      "source": [
        "def milieux(n):\n",
        "    pas = (b-a)/n\n",
        "    Aire = 0\n",
        "\n",
        "    x = [a + k*pas for k in range(n+1)] # liste définie par compréhension\n",
        "    RectanglesMilieux = [pas*f((x[k]+x[k+1])/2) for k in range(n)]\n",
        "    S = sum(RectanglesMilieux) \n",
        "    return S"
      ],
      "execution_count": 13,
      "outputs": []
    },
    {
      "cell_type": "code",
      "metadata": {
        "id": "ioynG1GM_RKz",
        "colab": {
          "base_uri": "https://localhost:8080/"
        },
        "outputId": "c3c506d2-6f88-4e4e-995c-72cba6fd89e1"
      },
      "source": [
        "milieux((b-a)*5)"
      ],
      "execution_count": 14,
      "outputs": [
        {
          "output_type": "execute_result",
          "data": {
            "text/plain": [
              "47.98000000000002"
            ]
          },
          "metadata": {
            "tags": []
          },
          "execution_count": 14
        }
      ]
    },
    {
      "cell_type": "code",
      "metadata": {
        "id": "uw34cCFI_RK9",
        "colab": {
          "base_uri": "https://localhost:8080/"
        },
        "outputId": "6ae78180-18bc-4558-e1f0-e8c06d698b00"
      },
      "source": [
        "milieux((b-a)*100)"
      ],
      "execution_count": 15,
      "outputs": [
        {
          "output_type": "execute_result",
          "data": {
            "text/plain": [
              "47.99994999999999"
            ]
          },
          "metadata": {
            "tags": []
          },
          "execution_count": 15
        }
      ]
    },
    {
      "cell_type": "code",
      "metadata": {
        "id": "ko7JR4dm_RLG",
        "colab": {
          "base_uri": "https://localhost:8080/"
        },
        "outputId": "9bc12275-670f-48a5-926f-c0e54c009c81"
      },
      "source": [
        "milieux((b-a)*100000)"
      ],
      "execution_count": 16,
      "outputs": [
        {
          "output_type": "execute_result",
          "data": {
            "text/plain": [
              "47.99999999995055"
            ]
          },
          "metadata": {
            "tags": []
          },
          "execution_count": 16
        }
      ]
    },
    {
      "cell_type": "markdown",
      "metadata": {
        "id": "tD9INnoz_RLQ"
      },
      "source": [
        "**_illustration graphique pour l'unité subdivisée en 2_**"
      ]
    },
    {
      "cell_type": "code",
      "metadata": {
        "id": "j3KjEJ0b_RLS",
        "colab": {
          "base_uri": "https://localhost:8080/",
          "height": 293
        },
        "outputId": "10e82bdd-7a20-40cc-b033-310a78aad1d1"
      },
      "source": [
        "graph(f)\n",
        "\n",
        "n = (b-a)*2\n",
        "pas = (b-a)/n\n",
        "x = [a + k*pas for k in range(n+1)]\n",
        "\n",
        "for k in range(n) :\n",
        "    plt.plot([x[k],x[k]],[0,f((x[k]+x[k+1])/2)], 'b',linewidth = 1 )\n",
        "    plt.plot([x[k],x[k+1]],[f((x[k]+x[k+1])/2),f((x[k]+x[k+1])/2)], 'b',linewidth = 1)\n",
        "    \n",
        "#plt.plot([x[-1],x[-1]],[0,f(x[-1])], 'b',linewidth = 1 ) \n",
        "#plt.plot([x[-1],b],[f(x[-1]),f(x[-1])], 'b',linewidth = 1 )\n",
        "plt.plot([b,b],[0,f(b)], 'b',linewidth = 1 )  \n",
        "\n",
        "plt.show()\n",
        "\n",
        "print('Aire estimée : ', milieux(n))"
      ],
      "execution_count": 17,
      "outputs": [
        {
          "output_type": "display_data",
          "data": {
            "image/png": "[encoded data removed]",
            "text/plain": [
              "<Figure size 432x288 with 1 Axes>"
            ]
          },
          "metadata": {
            "tags": [],
            "needs_background": "light"
          }
        },
        {
          "output_type": "stream",
          "text": [
            "Aire estimée :  47.875\n"
          ],
          "name": "stdout"
        }
      ]
    },
    {
      "cell_type": "markdown",
      "metadata": {
        "id": "M1KJeWvN_RLg"
      },
      "source": [
        "### 4. Une méthode utilisant l'aléatoire : la méthode de Monte-Carlo\n",
        "\n",
        "**<span style=\"color: #D17460\">TSpé - TCompl </span>**\n",
        "\n",
        "**<span style=\"color: #26B260\">Python : aléatoire avec le module random, passage d'une fonction en parmamètre d'une fonction !!!</span>**\n",
        "\n",
        "On encadre la courbe par un rectangle (ici : abscisses entre -3 et 3, ordonnées entre 0 et la valeur maximale de f sur l'intervalle).\n",
        "\n",
        "On tire des \"fléchettes aléatoires\" dans ce rectangle, la proportion d'entre elles tombant en-dessous de la courbe donne une valeur approchée de la proportion de l'aire cherchée par rapport à celle du rectangle."
      ]
    },
    {
      "cell_type": "code",
      "metadata": {
        "id": "bQLq4hzN_RLj"
      },
      "source": [
        "from random import uniform\n",
        "\n",
        "# recherche du maximum de f sur [a;b]\n",
        "x_du_max = a\n",
        "xx = np.arange(a,b+0.1,0.1)\n",
        "\n",
        "for x in xx:\n",
        "    if f(x)>f(x_du_max):\n",
        "        x_du_max = x\n",
        "y_max = f(x_du_max)\n",
        "\n",
        "# définition de la fonction MonteCarlo et représenttion de la simulation\n",
        "def monte_carlo(f,N):\n",
        "    graph(f)\n",
        "    sous_la_courbe = 0\n",
        "    for k in range(N+1):\n",
        "        x_point = uniform(a,b) # effectue un tirage aléatoire selon la loi uniforme continue sur [a;b]\n",
        "        y_point = uniform(0,y_max)\n",
        "        if y_point < f(x_point):\n",
        "            sous_la_courbe = sous_la_courbe + 1\n",
        "            plt.plot(x_point,y_point,'g',marker = '+') # croix verte\n",
        "        else :\n",
        "            plt.plot(x_point,y_point,'r',marker = '+') # croix rouge\n",
        "       \n",
        "    plt.show()\n",
        "    return sous_la_courbe / N\n",
        "    \n"
      ],
      "execution_count": 18,
      "outputs": []
    },
    {
      "cell_type": "code",
      "metadata": {
        "id": "DObpOXUL_RL2",
        "colab": {
          "base_uri": "https://localhost:8080/",
          "height": 295
        },
        "outputId": "87c7bd33-6261-4dcf-8ed8-cceb1374c8ac"
      },
      "source": [
        "prop = monte_carlo(f,100)\n",
        "\n",
        "print('Aire estimée : ', prop * (b-a)*y_max)"
      ],
      "execution_count": 19,
      "outputs": [
        {
          "output_type": "display_data",
          "data": {
            "image/png": "[encoded data removed]",
            "text/plain": [
              "<Figure size 432x288 with 1 Axes>"
            ]
          },
          "metadata": {
            "tags": [],
            "needs_background": "light"
          }
        },
        {
          "output_type": "stream",
          "text": [
            "Aire estimée :  52.44000000000034\n"
          ],
          "name": "stdout"
        }
      ]
    },
    {
      "cell_type": "code",
      "metadata": {
        "id": "seO3YMOR_RL_",
        "colab": {
          "base_uri": "https://localhost:8080/",
          "height": 293
        },
        "outputId": "33279884-1c47-4833-a5f8-50bd6e700e88"
      },
      "source": [
        "prop = monte_carlo(f,1000)\n",
        "\n",
        "print('Aire estimée : ', prop * (b-a)*y_max)"
      ],
      "execution_count": 20,
      "outputs": [
        {
          "output_type": "display_data",
          "data": {
            "image/png": "[encoded data removed]",
            "text/plain": [
              "<Figure size 432x288 with 1 Axes>"
            ]
          },
          "metadata": {
            "tags": [],
            "needs_background": "light"
          }
        },
        {
          "output_type": "stream",
          "text": [
            "Aire estimée :  45.678000000000296\n"
          ],
          "name": "stdout"
        }
      ]
    },
    {
      "cell_type": "markdown",
      "metadata": {
        "id": "HYlU3UtY_RML"
      },
      "source": [
        "**_Exercice_**\n",
        "\n",
        "Adapter les méthodes ci-dessus au calcul de $\\int_{-1}^{1} \\sqrt{1-x^2} dx$ pour obtenir des valeurs approchées de $\\pi$\n",
        "\n",
        "**<span style=\"color: #D17460\">1Spé : aire sous la courbe, estimation de $\\pi$ par la méthode de Monte Carlo </span>**"
      ]
    },
    {
      "cell_type": "markdown",
      "metadata": {
        "id": "flVM9I8Y_RMO"
      },
      "source": [
        "**_Remarque_**\n",
        "\n",
        "**<span style=\"color: #26B260\">Python : lambda-fonction</span>**\n",
        "\n",
        "Comme on peut passer la fonction intégrée en paramètre, on peut faire usage d'une lamba-fonction :\n"
      ]
    },
    {
      "cell_type": "code",
      "metadata": {
        "id": "1BKdxJ32_RMR",
        "colab": {
          "base_uri": "https://localhost:8080/",
          "height": 291
        },
        "outputId": "9c36bf77-0a5e-4ab8-d1d3-008410d6e2c5"
      },
      "source": [
        "a = -1\n",
        "b = 1\n",
        "titre = 'y = $\\sqrt{1-x^2}$'\n",
        "g = lambda x: sqrt(1-x*x)\n",
        "plt.axis('equal') # repère orthonormé\n",
        "\n",
        "# recherche du maximum de f sur [a;b]\n",
        "x_du_max = a\n",
        "xx = np.arange(a,b+0.1,0.1)\n",
        "\n",
        "for x in xx:\n",
        "    if g(x)>g(x_du_max):\n",
        "        x_du_max = x\n",
        "y_max = g(x_du_max)\n",
        "\n",
        "prop = monte_carlo(lambda x: sqrt(1-x*x), 1000)\n",
        "\n",
        "print('Aire estimée : ', 2*prop * 2)"
      ],
      "execution_count": 21,
      "outputs": [
        {
          "output_type": "display_data",
          "data": {
            "image/png": "[encoded data removed]",
            "text/plain": [
              "<Figure size 432x288 with 1 Axes>"
            ]
          },
          "metadata": {
            "tags": [],
            "needs_background": "light"
          }
        },
        {
          "output_type": "stream",
          "text": [
            "Aire estimée :  3.216\n"
          ],
          "name": "stdout"
        }
      ]
    },
    {
      "cell_type": "code",
      "metadata": {
        "id": "cpEYCc9o41Ue"
      },
      "source": [
        ""
      ],
      "execution_count": null,
      "outputs": []
    }
  ]
}