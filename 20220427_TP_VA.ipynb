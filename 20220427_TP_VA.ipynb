{
  "nbformat": 4,
  "nbformat_minor": 0,
  "metadata": {
    "colab": {
      "provenance": [],
      "authorship_tag": "ABX9TyOuNA8YAMnBN05I/NlSFqdd",
      "include_colab_link": true
    },
    "kernelspec": {
      "name": "python3",
      "display_name": "Python 3"
    },
    "language_info": {
      "name": "python"
    }
  },
  "cells": [
    {
      "cell_type": "markdown",
      "metadata": {
        "id": "view-in-github",
        "colab_type": "text"
      },
      "source": [
        "<a href=\"https://colab.research.google.com/github/othoni-hub/ECG1/blob/main/20220427_TP_VA.ipynb\" target=\"_parent\"><img src=\"https://colab.research.google.com/assets/colab-badge.svg\" alt=\"Open In Colab\"/></a>"
      ]
    },
    {
      "cell_type": "markdown",
      "source": [
        "Écrire une fonction \"def nombre_diviseurs(n):\" qui reçoit un nombre entier et retourne le nombre de ses diviseurs.\n",
        "(on pourra utiliser la fonction % permettant de donner le reste de la division d'un entier par un autre.)"
      ],
      "metadata": {
        "id": "JJnmnKsxudCx"
      }
    },
    {
      "cell_type": "code",
      "execution_count": null,
      "metadata": {
        "id": "CIRjJm2ht8mz"
      },
      "outputs": [],
      "source": [
        "def nombre_diviseurs(n):\n",
        "    # on divise n par tous les entiers de 1 à n\n",
        "    # et on compte le nombre de fois où le reste est 0\n",
        "    compteur = 0\n",
        "    for i in range(1,n+1) :\n",
        "        if n%i == 0 :\n",
        "            compteur = compteur + 1\n",
        "    return compteur\n"
      ]
    },
    {
      "cell_type": "code",
      "source": [
        "nombre_diviseurs(10)"
      ],
      "metadata": {
        "colab": {
          "base_uri": "https://localhost:8080/"
        },
        "id": "2VFG5G-5yFZ1",
        "outputId": "d27c75ec-54b0-403b-eef9-94df150f0f4d"
      },
      "execution_count": null,
      "outputs": [
        {
          "output_type": "execute_result",
          "data": {
            "text/plain": [
              "4"
            ]
          },
          "metadata": {},
          "execution_count": 2
        }
      ]
    },
    {
      "cell_type": "markdown",
      "source": [
        "Lancer dé 20 faces : univers : ensemble des entiers de 1 à 20"
      ],
      "metadata": {
        "id": "OPXUI2HgyfWP"
      }
    },
    {
      "cell_type": "code",
      "source": [
        "Omega = set(range(1,21))\n",
        "Omega"
      ],
      "metadata": {
        "colab": {
          "base_uri": "https://localhost:8080/"
        },
        "id": "zM9-MOCYynkn",
        "outputId": "0e6a89d3-2990-4853-d284-5e622096a526"
      },
      "execution_count": null,
      "outputs": [
        {
          "output_type": "execute_result",
          "data": {
            "text/plain": [
              "{1, 2, 3, 4, 5, 6, 7, 8, 9, 10, 11, 12, 13, 14, 15, 16, 17, 18, 19, 20}"
            ]
          },
          "metadata": {},
          "execution_count": 3
        }
      ]
    },
    {
      "cell_type": "code",
      "source": [
        "len(Omega)"
      ],
      "metadata": {
        "colab": {
          "base_uri": "https://localhost:8080/"
        },
        "id": "AIMMlIws6RJF",
        "outputId": "38cbe591-834a-4db6-962b-092e41e3c471"
      },
      "execution_count": null,
      "outputs": [
        {
          "output_type": "execute_result",
          "data": {
            "text/plain": [
              "20"
            ]
          },
          "metadata": {},
          "execution_count": 4
        }
      ]
    },
    {
      "cell_type": "markdown",
      "source": [
        "* **événements**\n",
        "\n",
        "En choisissant le bon type de variables,\n",
        "- fabriquer l'événement A : \"La face est paire\"\n",
        "- fabriquer l'événement B : \"La face obtenue est un nombre premier\"\n",
        "(rappel : un nombre entier est \"premier\" lorsqu'il a exactement deux diviseurs : 1 et lui-même. 1 n'est pas premier.)"
      ],
      "metadata": {
        "id": "PJBDWwWBydtJ"
      }
    },
    {
      "cell_type": "code",
      "source": [
        "# ensemble des résultats pair : algorithmiquement\n",
        "A = set({})\n",
        "for element in Omega :\n",
        "    if element%2 == 0:\n",
        "        A.add(element)\n",
        "\n",
        "A"
      ],
      "metadata": {
        "colab": {
          "base_uri": "https://localhost:8080/"
        },
        "id": "aNmnLZXwyNGC",
        "outputId": "6b4aaadf-852f-48ea-b2cd-ba73037b34ca"
      },
      "execution_count": null,
      "outputs": [
        {
          "output_type": "execute_result",
          "data": {
            "text/plain": [
              "{2, 4, 6, 8, 10, 12, 14, 16, 18, 20}"
            ]
          },
          "metadata": {},
          "execution_count": 5
        }
      ]
    },
    {
      "cell_type": "code",
      "source": [
        "Omega.difference(A)"
      ],
      "metadata": {
        "colab": {
          "base_uri": "https://localhost:8080/"
        },
        "id": "e3w5ljuF1iSU",
        "outputId": "905694bc-15b0-448b-8ddf-413d65c6410f"
      },
      "execution_count": null,
      "outputs": [
        {
          "output_type": "execute_result",
          "data": {
            "text/plain": [
              "{1, 3, 5, 7, 9, 11, 13, 15, 17, 19}"
            ]
          },
          "metadata": {},
          "execution_count": 6
        }
      ]
    },
    {
      "cell_type": "code",
      "source": [
        "# ensemble des résultats pairs par compréhension\n",
        "\n",
        "A = set([element for element in Omega if element%2 == 0])\n",
        "A"
      ],
      "metadata": {
        "colab": {
          "base_uri": "https://localhost:8080/"
        },
        "id": "W9AwAdiC3RNp",
        "outputId": "c64d0dd1-55bf-4003-be45-7861cf0c4e1f"
      },
      "execution_count": null,
      "outputs": [
        {
          "output_type": "execute_result",
          "data": {
            "text/plain": [
              "{2, 4, 6, 8, 10, 12, 14, 16, 18, 20}"
            ]
          },
          "metadata": {},
          "execution_count": 7
        }
      ]
    },
    {
      "cell_type": "code",
      "source": [
        "# ensemble des nombres premiers\n",
        "\n",
        "B = set([element for element in Omega if nombre_diviseurs(element) == 2])\n",
        "B"
      ],
      "metadata": {
        "colab": {
          "base_uri": "https://localhost:8080/"
        },
        "id": "d9_2iuWJ2m86",
        "outputId": "395a89fd-d28a-4c79-fecc-07c629550370"
      },
      "execution_count": null,
      "outputs": [
        {
          "output_type": "execute_result",
          "data": {
            "text/plain": [
              "{2, 3, 5, 7, 11, 13, 17, 19}"
            ]
          },
          "metadata": {},
          "execution_count": 8
        }
      ]
    },
    {
      "cell_type": "markdown",
      "source": [
        "probabilité associée : **équiprobabilité** (chaque face a $\\frac {1}{20}$ chance d'apparaître)"
      ],
      "metadata": {
        "id": "5dbeYfBU5Sxp"
      }
    },
    {
      "cell_type": "markdown",
      "source": [
        "* **Probabilité d'un événement**\n",
        "Dans cette situation, comment se calcule la probabilité d'un événement ?\n",
        "Pourquoi ?\n",
        "--> nombre de cas favorables sur nombre de cas possibles"
      ],
      "metadata": {
        "id": "sE8LnDAG5xlD"
      }
    },
    {
      "cell_type": "markdown",
      "source": [
        "Écrire la fonction \"def P(E):\" recevant un événement E et retournant sa probablité."
      ],
      "metadata": {
        "id": "-rTSW3NG6IO2"
      }
    },
    {
      "cell_type": "code",
      "source": [
        "def P(E):\n",
        "    # retourne la probabilité d'un événement\n",
        "    return len(E)/len(Omega)"
      ],
      "metadata": {
        "id": "tSXN6qb36JJt"
      },
      "execution_count": null,
      "outputs": []
    },
    {
      "cell_type": "code",
      "source": [
        "P(A)"
      ],
      "metadata": {
        "colab": {
          "base_uri": "https://localhost:8080/"
        },
        "id": "KC7spjcC5CP4",
        "outputId": "e50d41f2-5c5f-45e0-cb34-bbce1299333d"
      },
      "execution_count": null,
      "outputs": [
        {
          "output_type": "execute_result",
          "data": {
            "text/plain": [
              "0.5"
            ]
          },
          "metadata": {},
          "execution_count": 10
        }
      ]
    },
    {
      "cell_type": "code",
      "source": [
        "P(B)"
      ],
      "metadata": {
        "colab": {
          "base_uri": "https://localhost:8080/"
        },
        "id": "MDqzBdHr6hgv",
        "outputId": "670c0356-3a21-4671-81d8-00d3783bfc84"
      },
      "execution_count": null,
      "outputs": [
        {
          "output_type": "execute_result",
          "data": {
            "text/plain": [
              "0.4"
            ]
          },
          "metadata": {},
          "execution_count": 11
        }
      ]
    },
    {
      "cell_type": "markdown",
      "source": [
        "* **Variable aléatoire**\n",
        "\n",
        "À chaque élément, on associe son nombre de diviseurs"
      ],
      "metadata": {
        "id": "TkIWc4V88pDc"
      }
    },
    {
      "cell_type": "code",
      "source": [
        "X = { element : nombre_diviseurs(element) for element in Omega}\n",
        "X"
      ],
      "metadata": {
        "colab": {
          "base_uri": "https://localhost:8080/"
        },
        "id": "emEqFbDg6lS_",
        "outputId": "8fd7bae2-a05c-4f6f-d972-4d561ad9e267"
      },
      "execution_count": null,
      "outputs": [
        {
          "output_type": "execute_result",
          "data": {
            "text/plain": [
              "{1: 1,\n",
              " 2: 2,\n",
              " 3: 2,\n",
              " 4: 3,\n",
              " 5: 2,\n",
              " 6: 4,\n",
              " 7: 2,\n",
              " 8: 4,\n",
              " 9: 3,\n",
              " 10: 4,\n",
              " 11: 2,\n",
              " 12: 6,\n",
              " 13: 2,\n",
              " 14: 4,\n",
              " 15: 4,\n",
              " 16: 5,\n",
              " 17: 2,\n",
              " 18: 6,\n",
              " 19: 2,\n",
              " 20: 6}"
            ]
          },
          "metadata": {},
          "execution_count": 12
        }
      ]
    },
    {
      "cell_type": "markdown",
      "source": [
        "Univers-image : ensemble des valeurs prises par X"
      ],
      "metadata": {
        "id": "Q97ypUKz9pTk"
      }
    },
    {
      "cell_type": "code",
      "source": [
        "X_Omega = set (X.values())\n",
        "X_Omega"
      ],
      "metadata": {
        "colab": {
          "base_uri": "https://localhost:8080/",
          "height": 190
        },
        "id": "-Qsuq13K9tfK",
        "outputId": "a12621a6-6b0f-4e2a-ba4e-e2f57af81099"
      },
      "execution_count": null,
      "outputs": [
        {
          "output_type": "error",
          "ename": "NameError",
          "evalue": "ignored",
          "traceback": [
            "\u001b[0;31m---------------------------------------------------------------------------\u001b[0m",
            "\u001b[0;31mNameError\u001b[0m                                 Traceback (most recent call last)",
            "\u001b[0;32m<ipython-input-3-93d26e577039>\u001b[0m in \u001b[0;36m<cell line: 1>\u001b[0;34m()\u001b[0m\n\u001b[0;32m----> 1\u001b[0;31m \u001b[0mX_Omega\u001b[0m \u001b[0;34m=\u001b[0m \u001b[0mset\u001b[0m \u001b[0;34m(\u001b[0m\u001b[0mX\u001b[0m\u001b[0;34m.\u001b[0m\u001b[0mvalues\u001b[0m\u001b[0;34m(\u001b[0m\u001b[0;34m)\u001b[0m\u001b[0;34m)\u001b[0m\u001b[0;34m\u001b[0m\u001b[0;34m\u001b[0m\u001b[0m\n\u001b[0m\u001b[1;32m      2\u001b[0m \u001b[0mX_Omega\u001b[0m\u001b[0;34m\u001b[0m\u001b[0;34m\u001b[0m\u001b[0m\n",
            "\u001b[0;31mNameError\u001b[0m: name 'X' is not defined"
          ]
        }
      ]
    },
    {
      "cell_type": "markdown",
      "source": [
        "* **événements associés à X**\n",
        "\n",
        "[X=k] :  ensemble des issues (de Omega) qui ont k diviseurs"
      ],
      "metadata": {
        "id": "cNfY5b2AAeLI"
      }
    },
    {
      "cell_type": "code",
      "source": [
        "def X_egal(k) :\n",
        "    return { element for element in Omega if nombre_diviseurs(element) == k}"
      ],
      "metadata": {
        "id": "SqXAbL8IAxyn"
      },
      "execution_count": null,
      "outputs": []
    },
    {
      "cell_type": "code",
      "source": [
        "X_egal(3)"
      ],
      "metadata": {
        "colab": {
          "base_uri": "https://localhost:8080/"
        },
        "id": "U-TfupQG85VF",
        "outputId": "4c24ad49-2029-4a98-d060-97b339770275"
      },
      "execution_count": null,
      "outputs": [
        {
          "output_type": "execute_result",
          "data": {
            "text/plain": [
              "{4, 9}"
            ]
          },
          "metadata": {},
          "execution_count": 15
        }
      ]
    },
    {
      "cell_type": "markdown",
      "source": [
        "* **loi de X**\n",
        "\n",
        "À chaque k de X_Omega (clé), on associe (dict) la probabilité de l'événement [X=k] (valeurs)"
      ],
      "metadata": {
        "id": "5U8v6FWbBrtX"
      }
    },
    {
      "cell_type": "code",
      "source": [],
      "metadata": {
        "id": "TSyfhkanC1rx"
      },
      "execution_count": null,
      "outputs": []
    },
    {
      "cell_type": "code",
      "source": [
        "loi_de_X = { k :  P(X_egal(k))   for k in X_Omega}\n",
        "loi_de_X"
      ],
      "metadata": {
        "colab": {
          "base_uri": "https://localhost:8080/",
          "height": 190
        },
        "id": "axk6IScpBk0n",
        "outputId": "d3163b39-c845-40e8-ce8b-1675a3ae1b33"
      },
      "execution_count": null,
      "outputs": [
        {
          "output_type": "error",
          "ename": "NameError",
          "evalue": "ignored",
          "traceback": [
            "\u001b[0;31m---------------------------------------------------------------------------\u001b[0m",
            "\u001b[0;31mNameError\u001b[0m                                 Traceback (most recent call last)",
            "\u001b[0;32m<ipython-input-2-7ffbadf77989>\u001b[0m in \u001b[0;36m<cell line: 1>\u001b[0;34m()\u001b[0m\n\u001b[0;32m----> 1\u001b[0;31m \u001b[0mloi_de_X\u001b[0m \u001b[0;34m=\u001b[0m \u001b[0;34m{\u001b[0m \u001b[0mk\u001b[0m \u001b[0;34m:\u001b[0m  \u001b[0mP\u001b[0m\u001b[0;34m(\u001b[0m\u001b[0mX_egal\u001b[0m\u001b[0;34m(\u001b[0m\u001b[0mk\u001b[0m\u001b[0;34m)\u001b[0m\u001b[0;34m)\u001b[0m   \u001b[0;32mfor\u001b[0m \u001b[0mk\u001b[0m \u001b[0;32min\u001b[0m \u001b[0mX_Omega\u001b[0m\u001b[0;34m}\u001b[0m\u001b[0;34m\u001b[0m\u001b[0;34m\u001b[0m\u001b[0m\n\u001b[0m\u001b[1;32m      2\u001b[0m \u001b[0mloi_de_X\u001b[0m\u001b[0;34m\u001b[0m\u001b[0;34m\u001b[0m\u001b[0m\n",
            "\u001b[0;31mNameError\u001b[0m: name 'X_Omega' is not defined"
          ]
        }
      ]
    },
    {
      "cell_type": "code",
      "source": [],
      "metadata": {
        "id": "A_-GKVcvDGQt"
      },
      "execution_count": null,
      "outputs": []
    },
    {
      "cell_type": "markdown",
      "source": [
        "* **représentation graphique**\n",
        "\n",
        "diagramme en bâtons, avec en abscisse les clés de loi_de_X et en valeurs les values"
      ],
      "metadata": {
        "id": "CGxI2jjnDihN"
      }
    },
    {
      "cell_type": "code",
      "source": [
        "import matplotlib.pyplot as plt\n",
        "plt.bar(loi_de_X.keys(),loi_de_X.values(), color = 'red')\n",
        "plt.show()"
      ],
      "metadata": {
        "colab": {
          "base_uri": "https://localhost:8080/",
          "height": 265
        },
        "id": "oEPBAYhSDO1c",
        "outputId": "d9244dcb-55cc-42b5-9e45-4802a01906b6"
      },
      "execution_count": null,
      "outputs": [
        {
          "output_type": "display_data",
          "data": {
            "text/plain": [
              "<Figure size 432x288 with 1 Axes>"
            ],
            "image/png": "[encoded data removed]"
          },
          "metadata": {
            "needs_background": "light"
          }
        }
      ]
    },
    {
      "cell_type": "markdown",
      "source": [
        "* **Espérance**\n",
        "\n",
        "somme des x_k . p_k\n",
        "les x_k sont dans X_Omega et les pk dans les values de loi_de_X, soit on les recalcule avec la fonction P"
      ],
      "metadata": {
        "id": "oXMvwAQSE57L"
      }
    },
    {
      "cell_type": "markdown",
      "source": [
        "algorithmiquement :"
      ],
      "metadata": {
        "id": "pwuX-xw7FSHL"
      }
    },
    {
      "cell_type": "code",
      "source": [
        "S = 0\n",
        "for k in X_Omega :\n",
        "    S = S + k*P(X_egal(k))\n",
        "\n",
        "S"
      ],
      "metadata": {
        "colab": {
          "base_uri": "https://localhost:8080/"
        },
        "id": "f5R64TE4DbTM",
        "outputId": "57d78817-c477-43e4-ee52-2549ee83a56f"
      },
      "execution_count": null,
      "outputs": [
        {
          "output_type": "execute_result",
          "data": {
            "text/plain": [
              "3.3000000000000003"
            ]
          },
          "metadata": {},
          "execution_count": 18
        }
      ]
    },
    {
      "cell_type": "code",
      "source": [
        "def E(X):\n",
        "    return sum({k*P(X_egal(k)) for k in X.values()})"
      ],
      "metadata": {
        "id": "D22GCSwaFlYa"
      },
      "execution_count": null,
      "outputs": []
    },
    {
      "cell_type": "code",
      "source": [
        "E(X)"
      ],
      "metadata": {
        "colab": {
          "base_uri": "https://localhost:8080/"
        },
        "id": "h9_d0G02BFTT",
        "outputId": "0d1989bd-0ff0-4fe1-e6ea-7f1e76a13d79"
      },
      "execution_count": null,
      "outputs": [
        {
          "output_type": "execute_result",
          "data": {
            "text/plain": [
              "3.3000000000000003"
            ]
          },
          "metadata": {},
          "execution_count": 20
        }
      ]
    },
    {
      "cell_type": "code",
      "source": [
        "def V(X):\n",
        "    X2 = { k:X[k]**2 for k in X.keys() }\n",
        "    return E(X2)-E(X)**2 # formule de Koenig-Huygens"
      ],
      "metadata": {
        "id": "hcv4yMC-BHVL"
      },
      "execution_count": null,
      "outputs": []
    },
    {
      "cell_type": "code",
      "source": [
        "V(X)"
      ],
      "metadata": {
        "colab": {
          "base_uri": "https://localhost:8080/"
        },
        "id": "RNaBNVPiBcrR",
        "outputId": "2352773e-17c6-4027-a467-ae988a473b9e"
      },
      "execution_count": null,
      "outputs": [
        {
          "output_type": "execute_result",
          "data": {
            "text/plain": [
              "-9.840000000000002"
            ]
          },
          "metadata": {},
          "execution_count": 22
        }
      ]
    },
    {
      "cell_type": "code",
      "source": [],
      "metadata": {
        "id": "QV6qWwMOBeUJ"
      },
      "execution_count": null,
      "outputs": []
    }
  ]
}