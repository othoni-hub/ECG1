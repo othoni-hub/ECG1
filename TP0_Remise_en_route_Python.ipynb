{
  "nbformat": 4,
  "nbformat_minor": 0,
  "metadata": {
    "colab": {
      "name": "TP0--Remise en route Python.ipynb",
      "provenance": [],
      "toc_visible": true,
      "authorship_tag": "ABX9TyPf9YQeAInSWlHt/Ao6SQIS",
      "include_colab_link": true
    },
    "kernelspec": {
      "name": "python3",
      "display_name": "Python 3"
    },
    "language_info": {
      "name": "python"
    }
  },
  "cells": [
    {
      "cell_type": "markdown",
      "metadata": {
        "id": "view-in-github",
        "colab_type": "text"
      },
      "source": [
        "<a href=\"https://colab.research.google.com/github/othoni-hub/ECG1/blob/main/TP0_Remise_en_route_Python.ipynb\" target=\"_parent\"><img src=\"https://colab.research.google.com/assets/colab-badge.svg\" alt=\"Open In Colab\"/></a>"
      ]
    },
    {
      "cell_type": "markdown",
      "metadata": {
        "id": "9gRjJPolrmT_"
      },
      "source": [
        "# **CPGE-ECG1** \n",
        "\n",
        "\n",
        "## **Python : ce qu'il est important de maîtriser à l'entrée en prépa**\n",
        "\n",
        "\n",
        "\n",
        "\n",
        "**O.Thöni**\n",
        "\n",
        "professeur agrégé de Mathématiques, CPGE-ECG1 et ECE2, Lycée Saint-Charles - LE MANS\n"
      ]
    },
    {
      "cell_type": "markdown",
      "metadata": {
        "id": "QBum6InZaBDh"
      },
      "source": [
        "# **Outils**"
      ]
    },
    {
      "cell_type": "markdown",
      "metadata": {
        "id": "BPvY5LF8EeGW"
      },
      "source": [
        "\n",
        "\n",
        "## **Thonny**\n",
        "\n",
        "***Thonny*** est un **IDE** (Interface de Développement Intégré) qui permet de travailler en Python sans gros souci technique, qui existe pour toutes les plate-formes (Windows, MacOS, Linux).\n",
        "\n",
        "Il est possible d'installer, directement depuis son interface, des modules complémentaires sans aucune difficulté, ce qui le distingue vraiment des autre IDE.\n",
        "\n",
        "**https://thonny.org/**\n",
        "\n",
        "<img src=\"https://drive.google.com/uc?id=1mkUDDDlNm2MynkD2i5sTsHE1TP0iYGDN\" width=\"620\" height=\"400\" align = \"center\"/>\n",
        "\n",
        "\n",
        "## **Console et éditeur en ligne**\n",
        "\n",
        "Il est possible d'utiliser une plateforme en ligne, nommée \"Basthon\" (BAc à Sable pour pyTHON), qui travaille directement dans le navigateur internet.\n",
        "\n",
        "**https://console.basthon.fr/** \n",
        "\n",
        "La partie droite de la fenêtre s'appelle la **\"console\"** : on peut y taper directement les commandes, derrière le *prompt* **>>>**, et on les exécute avec la touche \"Entrée\".\n",
        "\n",
        "<img src=\"https://drive.google.com/uc?id=1kaIe7bEKmgbKPKD15042-MuAVVQo6tmK\" width=\"820\" height=\"460\" align = \"center\"/>\n",
        "\n",
        "\n",
        "La partie gauche s'appelle l' **\"éditeur\"**. On y saisit les programmes et leurs fonctions, que l'on peut exécuter directement en appuyant sur le bouton \"Exécuter\", soit en les appelant dans la console.\n",
        "\n",
        "## **Les NoteBooks Jupyter**\n",
        "\n",
        "Les notebooks Jupyter sont un outil très intéressant pour apprendre à programmer, faire cours, ou faire un compte-rendu de TP.\n",
        "\n",
        "**https://notebook.basthon.fr/**\n",
        "\n",
        "Les notebooks permettent de mêler du texte (légèrement enrichi), du code Python, et des traces d'exécution.\n",
        "\n",
        "Que l'on soit en console ou dans un notebook, on peut (il faut...) enregistrer son travail sur son disque dur.\n",
        "\n",
        "Conseil pour nommer ses fichiers : donner un nom explicite, et le faire précéder de la date à l'envers : par exemple *20210826-TP1-Syracuse.ipynb* (\".ipynb\" est l'extension correspondant aux notebooks, \".py\" celle désignant les programmes Python)\n",
        "\n",
        "**À noter : les possesseurs d'un compte GMail peuvent utiliser leur Google Drive, et l'extension \"Colaboratory\", pour y écrire directement leurs notebooks. C'est TRÈS pratique !!!**\n",
        "\n",
        "## **Un outil complémentaire (pour Windows seulement) : Flowgorithm**\n",
        "\n",
        "À télécharger ici : http://www.flowgorithm.org/download/index.htm\n",
        "\n",
        "Ce logiciel permet de réaliser des organigrammes très visuels des algorithmes.\n",
        "\n",
        "<img src=\"https://drive.google.com/uc?id=1oK1gum4T30gBowJYOv43S4dwPoR0yZHW\" width=\"500\" height=\"460\" align = \"center\"/>\n",
        "\n",
        "Quand on veut réaliser un programme réalisant une tâche donnée, il est vivement conseillé de commencer par jeter ses idées sur un papier, en **décomposant** le problème initial en tâches plus petites et en les **ordonnant**.On peut même, dès ce stade de la réflexion, créer les **jeux de tests**,c'est-à-dire prévoir, avec quelques exemples de données d'entrée, ce que l'on s'attend à ce que le programme ou une de ses fonctions retourne.\n",
        "\n",
        "Puis, on formalise davantage l'**algorithme** en le mettant en forme, soit de manière linéaire (liste d'actions), soit de manière schématique comme dans Flowgorithm.\n",
        "\n",
        "Et seulement ensuite, on peut passer à la traduction dans un langage de programmation, le nôtre étant **Python**, d'ailleurs, Flowgorithm est doté d'une fonctionnalité permettant de traduire tout organigramme en un programme Python, exécutable et enregistrable !\n",
        "\n"
      ]
    },
    {
      "cell_type": "markdown",
      "metadata": {
        "id": "uGW15CmwDle8"
      },
      "source": [
        "# **TP n°1 : Algorithmique et programmation, fonctions**\n",
        "\n",
        "Le TP suivant est un classique, mais il permet de :\n",
        "* faire le point sur les principales structures algorithmiques et la programmation, \n",
        "* (re-?)mettre en place les bonnes pratiques (utilisation de fonctions, commentaires, etc.)\n",
        "* (re-)découvrir plusieurs outils pour la programmation Python (éditeur, console, notebook)\n",
        "\n",
        "\n",
        "\n"
      ]
    },
    {
      "cell_type": "markdown",
      "metadata": {
        "id": "RscO_6PwVlYC"
      },
      "source": [
        "## **La suite de Syracuse**"
      ]
    },
    {
      "cell_type": "markdown",
      "metadata": {
        "id": "Pky1JGgMEVhf"
      },
      "source": [
        "\n",
        "\n",
        "### **1. L'articulation**\n",
        "\n",
        "La suite de Syracuse, également appelée suite de Collatz, du nom de son inventeur en 1925 est encore l'objet d'études de nos jours.\n",
        "\n",
        "Voici la recette pour passer d'un nombre de la sute au suivant :\n",
        "\n",
        "*On choisit un nombre entier, s'il est pair, on le divise par deux, sinon, on le multiplie par 3 et on ajoute 1*\n",
        "\n",
        "--> Écrire l'algorithme sur papier\n",
        "\n",
        "--> Le schématiser dans Flowgorithm (ou sur papier)\n",
        "\n",
        "--> Traduire l'algorithme en Python\n",
        "\n",
        "--> Fabriquer une fonction Python, d'entête : \n",
        "\n",
        "    def syracuse(N) :\n",
        "\n",
        "qui reçoit un entier N en entrée et renvoie son successeur dans la suite de Syracuse.\n",
        "\n",
        "**tests** : On s'attend à ce que cette fonction retourne 10 si on y entre 3, et 4 si on y entre 8.\n",
        "\n",
        "***(notions travaillées : \"Si...alors...sinon\", Fonction)***\n",
        "\n"
      ]
    },
    {
      "cell_type": "code",
      "metadata": {
        "id": "MiASz8-tS5T0"
      },
      "source": [
        "def syracuse(N) :\n",
        "    if N%2 == 0 :   # l'opération % permet d'obtenir le reste dans la division entière\n",
        "                    # d'un entier par un autre entier. On l'appelle \"MODULO\"\n",
        "        r = N//2    # Le // est l'opérateur de division entière, par oppoistion avec /, division décimale\n",
        "    else :\n",
        "        r = 3*N + 1\n",
        "    return r"
      ],
      "execution_count": null,
      "outputs": []
    },
    {
      "cell_type": "code",
      "metadata": {
        "colab": {
          "base_uri": "https://localhost:8080/"
        },
        "id": "aO9RzDmGTO50",
        "outputId": "9f38ee5b-e940-4e87-80b4-1f21dcbcf2dd"
      },
      "source": [
        "syracuse(3)"
      ],
      "execution_count": null,
      "outputs": [
        {
          "output_type": "execute_result",
          "data": {
            "text/plain": [
              "10"
            ]
          },
          "metadata": {
            "tags": []
          },
          "execution_count": 2
        }
      ]
    },
    {
      "cell_type": "code",
      "metadata": {
        "colab": {
          "base_uri": "https://localhost:8080/"
        },
        "id": "vHz94iKATQ6p",
        "outputId": "d80293e3-f2d0-422e-ab4c-9e4c7d1a7267"
      },
      "source": [
        "syracuse(8.0)"
      ],
      "execution_count": null,
      "outputs": [
        {
          "output_type": "execute_result",
          "data": {
            "text/plain": [
              "4.0"
            ]
          },
          "metadata": {
            "tags": []
          },
          "execution_count": 3
        }
      ]
    },
    {
      "cell_type": "markdown",
      "metadata": {
        "id": "w_6wSG83xkv3"
      },
      "source": [
        "**Remarque :**\n",
        "\n",
        "Remplacer le N//2 par N/2 et comprendre la différence entre les deux résultats obtenus"
      ]
    },
    {
      "cell_type": "markdown",
      "metadata": {
        "id": "N5_UcDlfTbQ6"
      },
      "source": [
        "### **2. La suite et la conjecture de Syracuse**\n",
        "\n",
        "*Il paraît que, quel que soit l'entier N duquel on part, en réitérant le processus, on parvienne toujours à 1... (Cela n'a jamais été démontré, d'où le nom de \"conjecture\")*\n",
        "\n",
        "*Un entier N étant donné, écrire la suite des nombres menant jusqu'à 1*\n",
        "\n",
        "--> Écrire l'algorithme sur papier\n",
        "\n",
        "--> Le tester à la main, en prenant pour première valeur N = 7\n",
        "\n",
        "--> Le schématiser dans Flowgorithm\n",
        "\n",
        "--> Traduire l'algorithme en Python\n",
        "\n",
        "--> Fabriquer une fonction Python, nommée suite_syracuse(N), qui reçoit en entrée l'entier N, calcule et imprime les termes successifs de la suite correspndant, jusqu'à 1.\n",
        "\n",
        "--> Commenter la fonction ainsi obtenue\n",
        "\n",
        "***(notions travaillées : \"Tant que ...\")***"
      ]
    },
    {
      "cell_type": "code",
      "metadata": {
        "id": "xysqDjAKTSrf"
      },
      "source": [
        "def suite_syracuse(N) :\n",
        "    '''Fonction qui reçoit un entier N, calcule et imprime la suite de Syracuse de 1er terme ce nombre'''\n",
        "\n",
        "    print(N, end = \" \")\n",
        "    while N != 1 : # Tant que l'on n'a pas atteint 1\n",
        "        N = syracuse(N)     # on appelle la fonction \"syracuse\" pour calculer le terme suivant\n",
        "                            # on réaffecte N avec la nouvelle valeur\n",
        "        print(N, end = \" \")\n",
        "        # Cette fonction ne retourne rien pour l'instant...\n"
      ],
      "execution_count": null,
      "outputs": []
    },
    {
      "cell_type": "code",
      "metadata": {
        "colab": {
          "base_uri": "https://localhost:8080/"
        },
        "id": "m7ye2xlQVB46",
        "outputId": "c861757c-ad13-4ffc-c808-d6d9a2f090ea"
      },
      "source": [
        "suite_syracuse(7)"
      ],
      "execution_count": null,
      "outputs": [
        {
          "output_type": "stream",
          "text": [
            "7 22 11 34 17 52 26 13 40 20 10 5 16 8 4 2 1 "
          ],
          "name": "stdout"
        }
      ]
    },
    {
      "cell_type": "markdown",
      "metadata": {
        "id": "vTpCLNOdVad5"
      },
      "source": [
        "**Remarque : habituellement, il est déconseillé, voire interdit, de faire des \"*print*\" , sauf à des fins de tests**"
      ]
    },
    {
      "cell_type": "markdown",
      "metadata": {
        "id": "1xDoYqJnV5iz"
      },
      "source": [
        "### **3. Temps de vol**\n",
        "\n",
        "*À chaque suite correspond un certain nombre d'itérations avant d'arriver à 1, cela s'appelle le* ***temps de vol***. \n",
        "\n",
        "--> Compléter l'organigramme Flogorithm\n",
        "\n",
        "--> Compléter la fonction précédente pour qu'elle calcule et affiche le temps de vol de la suite pour un entier N donné en entrée"
      ]
    },
    {
      "cell_type": "code",
      "metadata": {
        "id": "TC0PdIZyVEpE"
      },
      "source": [
        "def suite_syracuse(N) :\n",
        "    '''Fonction qui reçoit un entier N, calcule et imprime la suite de Syracuse de 1er terme ce nombre, \n",
        "    ainsi que le temps de vol correspondant'''\n",
        "\n",
        "    temps_de_vol = 1 # la valeur initiale est comptée comme n°1\n",
        "    print(N, end = \" \")\n",
        "    while N != 1 : \n",
        "        N = syracuse(N)     \n",
        "        temps_de_vol = temps_de_vol + 1\n",
        "        print(N, end = \" \")\n",
        "    print()\n",
        "    print(\"Temps de vol :\" , temps_de_vol)"
      ],
      "execution_count": null,
      "outputs": []
    },
    {
      "cell_type": "code",
      "metadata": {
        "colab": {
          "base_uri": "https://localhost:8080/"
        },
        "id": "zv4KVMQKYNGX",
        "outputId": "e24f65c6-646a-4caa-d4ea-e273b2aede8e"
      },
      "source": [
        "suite_syracuse(7)"
      ],
      "execution_count": null,
      "outputs": [
        {
          "output_type": "stream",
          "text": [
            "7 22 11 34 17 52 26 13 40 20 10 5 16 8 4 2 1 \n",
            "Temps de vol : 17\n"
          ],
          "name": "stdout"
        }
      ]
    },
    {
      "cell_type": "code",
      "metadata": {
        "colab": {
          "base_uri": "https://localhost:8080/"
        },
        "id": "VYhUCKwEw0zL",
        "outputId": "b7a100c8-ddcf-4144-a96b-388be7917df7"
      },
      "source": [
        "suite_syracuse(3711)"
      ],
      "execution_count": null,
      "outputs": [
        {
          "output_type": "stream",
          "text": [
            "3711 11134 5567 16702 8351 25054 12527 37582 18791 56374 28187 84562 42281 126844 63422 31711 95134 47567 142702 71351 214054 107027 321082 160541 481624 240812 120406 60203 180610 90305 270916 135458 67729 203188 101594 50797 152392 76196 38098 19049 57148 28574 14287 42862 21431 64294 32147 96442 48221 144664 72332 36166 18083 54250 27125 81376 40688 20344 10172 5086 2543 7630 3815 11446 5723 17170 8585 25756 12878 6439 19318 9659 28978 14489 43468 21734 10867 32602 16301 48904 24452 12226 6113 18340 9170 4585 13756 6878 3439 10318 5159 15478 7739 23218 11609 34828 17414 8707 26122 13061 39184 19592 9796 4898 2449 7348 3674 1837 5512 2756 1378 689 2068 1034 517 1552 776 388 194 97 292 146 73 220 110 55 166 83 250 125 376 188 94 47 142 71 214 107 322 161 484 242 121 364 182 91 274 137 412 206 103 310 155 466 233 700 350 175 526 263 790 395 1186 593 1780 890 445 1336 668 334 167 502 251 754 377 1132 566 283 850 425 1276 638 319 958 479 1438 719 2158 1079 3238 1619 4858 2429 7288 3644 1822 911 2734 1367 4102 2051 6154 3077 9232 4616 2308 1154 577 1732 866 433 1300 650 325 976 488 244 122 61 184 92 46 23 70 35 106 53 160 80 40 20 10 5 16 8 4 2 1 \n",
            "Temps de vol : 238\n"
          ],
          "name": "stdout"
        }
      ]
    },
    {
      "cell_type": "markdown",
      "metadata": {
        "id": "drLM5FxYZJG1"
      },
      "source": [
        "### **4. Altitude**\n",
        "\n",
        "*Chaque suite comprend un maximum appelé l'* ***altitude***. \n",
        "\n",
        "--> Compléter l'organigramme Flogorithm\n",
        "\n",
        "--> Compléter la fonction précédente pour qu'elle calcule et affiche l'altitude de la suite pour un entier N donné en entrée\n",
        "\n",
        "***(notions travaillées : \"Si...alors\")***"
      ]
    },
    {
      "cell_type": "code",
      "metadata": {
        "id": "E-f70Fz4bSVn"
      },
      "source": [
        "def suite_syracuse(N) :\n",
        "    '''Fonction qui reçoit un entier N, calcule et imprime la suite de Syracuse de 1er terme ce nombre, \n",
        "    ainsi que le temps de vol et l'altitude correspondants'''\n",
        "\n",
        "    temps_de_vol = 1    # la valeur initiale est comptée comme n°1\n",
        "    altitude = N        # le plus haut pour l'instant est N lui-même\n",
        "    print(N, end = \" \")\n",
        "    while N != 1 : \n",
        "        N = syracuse(N)     \n",
        "        temps_de_vol = temps_de_vol + 1\n",
        "        if N > altitude : # on doit changer l'altitude actuelle\n",
        "            altitude = N\n",
        "        print(N, end = \" \")\n",
        "    print()\n",
        "    print(\"Temps de vol :\" , temps_de_vol)\n",
        "    print(\"Altitude :\" , altitude)"
      ],
      "execution_count": null,
      "outputs": []
    },
    {
      "cell_type": "code",
      "metadata": {
        "colab": {
          "base_uri": "https://localhost:8080/"
        },
        "id": "zPmpSUgEcDMU",
        "outputId": "e6d91c45-abc8-4708-d519-d8a2fb46b34c"
      },
      "source": [
        "suite_syracuse(7)"
      ],
      "execution_count": null,
      "outputs": [
        {
          "output_type": "stream",
          "text": [
            "7 22 11 34 17 52 26 13 40 20 10 5 16 8 4 2 1 \n",
            "Temps de vol : 17\n",
            "Altitude : 52\n"
          ],
          "name": "stdout"
        }
      ]
    },
    {
      "cell_type": "code",
      "metadata": {
        "colab": {
          "base_uri": "https://localhost:8080/"
        },
        "id": "u9ld--b9xH8J",
        "outputId": "fa36754a-0cbb-470e-b0c1-d1ffb0187e1b"
      },
      "source": [
        "suite_syracuse(4591)"
      ],
      "execution_count": null,
      "outputs": [
        {
          "output_type": "stream",
          "text": [
            "4591 13774 6887 20662 10331 30994 15497 46492 23246 11623 34870 17435 52306 26153 78460 39230 19615 58846 29423 88270 44135 132406 66203 198610 99305 297916 148958 74479 223438 111719 335158 167579 502738 251369 754108 377054 188527 565582 282791 848374 424187 1272562 636281 1908844 954422 477211 1431634 715817 2147452 1073726 536863 1610590 805295 2415886 1207943 3623830 1811915 5435746 2717873 8153620 4076810 2038405 6115216 3057608 1528804 764402 382201 1146604 573302 286651 859954 429977 1289932 644966 322483 967450 483725 1451176 725588 362794 181397 544192 272096 136048 68024 34012 17006 8503 25510 12755 38266 19133 57400 28700 14350 7175 21526 10763 32290 16145 48436 24218 12109 36328 18164 9082 4541 13624 6812 3406 1703 5110 2555 7666 3833 11500 5750 2875 8626 4313 12940 6470 3235 9706 4853 14560 7280 3640 1820 910 455 1366 683 2050 1025 3076 1538 769 2308 1154 577 1732 866 433 1300 650 325 976 488 244 122 61 184 92 46 23 70 35 106 53 160 80 40 20 10 5 16 8 4 2 1 \n",
            "Temps de vol : 171\n",
            "Altitude : 8153620\n"
          ],
          "name": "stdout"
        }
      ]
    },
    {
      "cell_type": "markdown",
      "metadata": {
        "id": "VEhJhIiJyCpE"
      },
      "source": [
        "**Observation de la circulation des variables à l'intérieur des fonctions à l'aide de *PythonTutor***\n",
        "\n",
        "*PythonTutor est un outil très pratique, pour observer le déroulement d'un programme, afin, éventuelleùent de le débuguer.\n",
        "On peut l'utiliser en ligne en lui apportant un programme Python ici :\n",
        "**http://pythontutor.com/visualize.html#mode=edit**\n",
        "\n",
        "ou bien directement depuis un notebook Jupyter..."
      ]
    },
    {
      "cell_type": "code",
      "metadata": {
        "colab": {
          "base_uri": "https://localhost:8080/"
        },
        "id": "nITVgiZqyIxT",
        "outputId": "a9f2e72d-1ee6-4bb5-a784-fb93f96bfba3"
      },
      "source": [
        "!pip install metakernel\n",
        "\n",
        "from metakernel import register_ipython_magics\n",
        "register_ipython_magics()"
      ],
      "execution_count": null,
      "outputs": [
        {
          "output_type": "stream",
          "text": [
            "Collecting metakernel\n",
            "\u001b[?25l  Downloading https://files.pythonhosted.org/packages/a4/3f/b4db994950bb1443228f097be3c0827f106641a18f0243f37bc1bd747a0a/metakernel-0.27.5-py2.py3-none-any.whl (208kB)\n",
            "\r\u001b[K     |█▋                              | 10kB 18.0MB/s eta 0:00:01\r\u001b[K     |███▏                            | 20kB 24.0MB/s eta 0:00:01\r\u001b[K     |████▊                           | 30kB 10.9MB/s eta 0:00:01\r\u001b[K     |██████▎                         | 40kB 8.3MB/s eta 0:00:01\r\u001b[K     |███████▉                        | 51kB 5.1MB/s eta 0:00:01\r\u001b[K     |█████████▍                      | 61kB 5.7MB/s eta 0:00:01\r\u001b[K     |███████████                     | 71kB 6.2MB/s eta 0:00:01\r\u001b[K     |████████████▌                   | 81kB 6.6MB/s eta 0:00:01\r\u001b[K     |██████████████▏                 | 92kB 6.4MB/s eta 0:00:01\r\u001b[K     |███████████████▊                | 102kB 5.0MB/s eta 0:00:01\r\u001b[K     |█████████████████▎              | 112kB 5.0MB/s eta 0:00:01\r\u001b[K     |██████████████████▉             | 122kB 5.0MB/s eta 0:00:01\r\u001b[K     |████████████████████▍           | 133kB 5.0MB/s eta 0:00:01\r\u001b[K     |██████████████████████          | 143kB 5.0MB/s eta 0:00:01\r\u001b[K     |███████████████████████▌        | 153kB 5.0MB/s eta 0:00:01\r\u001b[K     |█████████████████████████       | 163kB 5.0MB/s eta 0:00:01\r\u001b[K     |██████████████████████████▊     | 174kB 5.0MB/s eta 0:00:01\r\u001b[K     |████████████████████████████▎   | 184kB 5.0MB/s eta 0:00:01\r\u001b[K     |█████████████████████████████▉  | 194kB 5.0MB/s eta 0:00:01\r\u001b[K     |███████████████████████████████▍| 204kB 5.0MB/s eta 0:00:01\r\u001b[K     |████████████████████████████████| 215kB 5.0MB/s \n",
            "\u001b[?25hRequirement already satisfied: ipykernel in /usr/local/lib/python3.7/dist-packages (from metakernel) (4.10.1)\n",
            "Requirement already satisfied: pexpect>=4.2 in /usr/local/lib/python3.7/dist-packages (from metakernel) (4.8.0)\n",
            "Requirement already satisfied: tornado>=4.0 in /usr/local/lib/python3.7/dist-packages (from ipykernel->metakernel) (5.1.1)\n",
            "Requirement already satisfied: jupyter-client in /usr/local/lib/python3.7/dist-packages (from ipykernel->metakernel) (5.3.5)\n",
            "Requirement already satisfied: traitlets>=4.1.0 in /usr/local/lib/python3.7/dist-packages (from ipykernel->metakernel) (5.0.5)\n",
            "Requirement already satisfied: ipython>=4.0.0 in /usr/local/lib/python3.7/dist-packages (from ipykernel->metakernel) (5.5.0)\n",
            "Requirement already satisfied: ptyprocess>=0.5 in /usr/local/lib/python3.7/dist-packages (from pexpect>=4.2->metakernel) (0.7.0)\n",
            "Requirement already satisfied: jupyter-core>=4.6.0 in /usr/local/lib/python3.7/dist-packages (from jupyter-client->ipykernel->metakernel) (4.7.1)\n",
            "Requirement already satisfied: python-dateutil>=2.1 in /usr/local/lib/python3.7/dist-packages (from jupyter-client->ipykernel->metakernel) (2.8.1)\n",
            "Requirement already satisfied: pyzmq>=13 in /usr/local/lib/python3.7/dist-packages (from jupyter-client->ipykernel->metakernel) (22.1.0)\n",
            "Requirement already satisfied: ipython-genutils in /usr/local/lib/python3.7/dist-packages (from traitlets>=4.1.0->ipykernel->metakernel) (0.2.0)\n",
            "Requirement already satisfied: setuptools>=18.5 in /usr/local/lib/python3.7/dist-packages (from ipython>=4.0.0->ipykernel->metakernel) (57.0.0)\n",
            "Requirement already satisfied: pickleshare in /usr/local/lib/python3.7/dist-packages (from ipython>=4.0.0->ipykernel->metakernel) (0.7.5)\n",
            "Requirement already satisfied: prompt-toolkit<2.0.0,>=1.0.4 in /usr/local/lib/python3.7/dist-packages (from ipython>=4.0.0->ipykernel->metakernel) (1.0.18)\n",
            "Requirement already satisfied: simplegeneric>0.8 in /usr/local/lib/python3.7/dist-packages (from ipython>=4.0.0->ipykernel->metakernel) (0.8.1)\n",
            "Requirement already satisfied: decorator in /usr/local/lib/python3.7/dist-packages (from ipython>=4.0.0->ipykernel->metakernel) (4.4.2)\n",
            "Requirement already satisfied: pygments in /usr/local/lib/python3.7/dist-packages (from ipython>=4.0.0->ipykernel->metakernel) (2.6.1)\n",
            "Requirement already satisfied: six>=1.5 in /usr/local/lib/python3.7/dist-packages (from python-dateutil>=2.1->jupyter-client->ipykernel->metakernel) (1.15.0)\n",
            "Requirement already satisfied: wcwidth in /usr/local/lib/python3.7/dist-packages (from prompt-toolkit<2.0.0,>=1.0.4->ipython>=4.0.0->ipykernel->metakernel) (0.2.5)\n",
            "Installing collected packages: metakernel\n",
            "Successfully installed metakernel-0.27.5\n"
          ],
          "name": "stdout"
        }
      ]
    },
    {
      "cell_type": "code",
      "metadata": {
        "colab": {
          "base_uri": "https://localhost:8080/",
          "height": 521
        },
        "id": "MHcCSM48yZ_0",
        "outputId": "c2cf1979-6cf1-45d2-cf69-02f240246199"
      },
      "source": [
        "%%tutor # lancement de PythonTutor\n",
        "\n",
        "def syracuse(N) :\n",
        "    if N%2 == 0 :\n",
        "        r = N//2\n",
        "    else :\n",
        "        r = 3*N + 1\n",
        "    return r\n",
        "\n",
        "def suite_syracuse(N) :\n",
        "    temps_de_vol = 1    \n",
        "    altitude = N        \n",
        "\n",
        "    while N != 1 : \n",
        "        N = syracuse(N)     \n",
        "        temps_de_vol = temps_de_vol + 1\n",
        "        if N > altitude : \n",
        "            altitude = N\n",
        "    return temps_de_vol, altitude\n",
        "NN= 5        \n",
        "tdv, alt = suite_syracuse(NN)"
      ],
      "execution_count": null,
      "outputs": [
        {
          "output_type": "display_data",
          "data": {
            "text/html": [
              "\n",
              "        <iframe\n",
              "            width=\"100%\"\n",
              "            height=\"500\"\n",
              "            src=\"https://pythontutor.com/iframe-embed.html#code=%0Adef%20syracuse%28N%29%20%3A%0A%20%20%20%20if%20N%252%20%3D%3D%200%20%3A%0A%20%20%20%20%20%20%20%20r%20%3D%20N//2%0A%20%20%20%20else%20%3A%0A%20%20%20%20%20%20%20%20r%20%3D%203%2AN%20%2B%201%0A%20%20%20%20return%20r%0A%0Adef%20suite_syracuse%28N%29%20%3A%0A%20%20%20%20temps_de_vol%20%3D%201%20%20%20%20%0A%20%20%20%20altitude%20%3D%20N%20%20%20%20%20%20%20%20%0A%0A%20%20%20%20while%20N%20%21%3D%201%20%3A%20%0A%20%20%20%20%20%20%20%20N%20%3D%20syracuse%28N%29%20%20%20%20%20%0A%20%20%20%20%20%20%20%20temps_de_vol%20%3D%20temps_de_vol%20%2B%201%0A%20%20%20%20%20%20%20%20if%20N%20%3E%20altitude%20%3A%20%0A%20%20%20%20%20%20%20%20%20%20%20%20altitude%20%3D%20N%0A%20%20%20%20return%20temps_de_vol%2C%20altitude%0ANN%3D%205%20%20%20%20%20%20%20%20%0Atdv%2C%20alt%20%3D%20suite_syracuse%28NN%29&origin=opt-frontend.js&cumulative=false&heapPrimitives=false&textReferences=false&py=3&rawInputLstJSON=%5B%5D&curInstr=0&codeDivWidth=350&codeDivHeight=400\"\n",
              "            frameborder=\"0\"\n",
              "            allowfullscreen\n",
              "        ></iframe>\n",
              "        "
            ],
            "text/plain": [
              "<IPython.lib.display.IFrame at 0x7f8a322be450>"
            ]
          },
          "metadata": {
            "tags": []
          }
        }
      ]
    },
    {
      "cell_type": "markdown",
      "metadata": {
        "id": "Uy5zTWjVcoPR"
      },
      "source": [
        "### **5. Vérification de la conjecture pour tout N inférieur ou égal à 5000**\n",
        "\n",
        "--> Compléter l'organigramme dans Flowgorithm\n",
        "\n",
        "--> Réécrire la fonction suite_syracuse pour l'adapter à cette nouvelle tâche.\n",
        "(On retirera toutes les commandes d'affichage, mais on marquera le passage dans les entiers divisibles par 400) et vérifier la conjecture jusqu'à 5000.\n",
        "\n",
        "***(notions travaillées : \"Pour...\")***"
      ]
    },
    {
      "cell_type": "code",
      "metadata": {
        "id": "qr-sDtENcGj4"
      },
      "source": [
        "def suite_syracuse(N) :\n",
        "    '''Fonction qui teste si la suite de Syracusse atteint bien 1 pour l'entier N donné'''\n",
        "    \n",
        "    while N != 1 : \n",
        "        N = syracuse(N)     \n",
        "        "
      ],
      "execution_count": null,
      "outputs": []
    },
    {
      "cell_type": "code",
      "metadata": {
        "colab": {
          "base_uri": "https://localhost:8080/"
        },
        "id": "P9Pua8Olf2ep",
        "outputId": "dab96da4-b30f-45f3-a92e-0fb14d71a88b"
      },
      "source": [
        "for k in range(1,5001) :     # Pour k allant de 1 à 5000\n",
        "    suite_syracuse(k) \n",
        "    if k%400 == 0 :\n",
        "        print(k, \"OK,\", end = \" \")\n",
        "print()\n",
        "print(\"Conjecture vérifiée jusqu'à 5000\")"
      ],
      "execution_count": null,
      "outputs": [
        {
          "output_type": "stream",
          "text": [
            "400 OK, 800 OK, 1200 OK, 1600 OK, 2000 OK, 2400 OK, 2800 OK, 3200 OK, 3600 OK, 4000 OK, 4400 OK, 4800 OK, \n",
            "Conjecture vérifiée jusqu'à 5000\n"
          ],
          "name": "stdout"
        }
      ]
    },
    {
      "cell_type": "markdown",
      "metadata": {
        "id": "VAjENkJlgzZD"
      },
      "source": [
        "### **6. Défi**\n",
        "\n",
        "--> Modifier la fonction suite_syracuse pour qu'elle renvoie le temps de vol et l'altitude de chaque entier testé, et compléter le programme pour qu'il calcule le record des temps de vol et le record des altitudes\n",
        "\n",
        "--> Compléter le programme pour qu'il indique pour quelles valeurs de k on atteint le record des temps de vol, et le record des altitudes\n"
      ]
    },
    {
      "cell_type": "code",
      "metadata": {
        "id": "DvekOAXljENl"
      },
      "source": [
        "def suite_syracuse(N) :\n",
        "    '''Fonction qui reçoit un entier N, calcule la suite de Syracuse de 1er terme ce nombre, \n",
        "    ainsi que le temps de vol et l'altitude correspondants'''\n",
        "    \n",
        "    temps_de_vol = 1   \n",
        "    altitude = N        \n",
        "    \n",
        "    while N != 1 : \n",
        "        N = syracuse(N)     \n",
        "        temps_de_vol = temps_de_vol + 1\n",
        "        if N > altitude : \n",
        "            altitude = N\n",
        "    return temps_de_vol, altitude"
      ],
      "execution_count": null,
      "outputs": []
    },
    {
      "cell_type": "code",
      "metadata": {
        "id": "H7odhNP0f3ep",
        "colab": {
          "base_uri": "https://localhost:8080/"
        },
        "outputId": "67979d27-e071-4900-d3f2-1e29b52dd3c7"
      },
      "source": [
        "record_tdv = 1\n",
        "record_alt = 1\n",
        "indice_record_tdv = 1\n",
        "indice_record_alt = 1\n",
        "\n",
        "for k in range(1,5001) :     # Pour k allant de 1 à 5000\n",
        "    tdv, alt = suite_syracuse(k) \n",
        "    if tdv > record_tdv :\n",
        "        record_tdv = tdv\n",
        "        indice_record_tdv = k\n",
        "    if alt > record_alt :\n",
        "        record_alt = alt\n",
        "        indice_record_alt = k\n",
        "    if k%400 == 0 :\n",
        "        print(k, \"OK,\", end = \" \")\n",
        "print()\n",
        "print(\"Conjecture vérifiée jusqu'à 5000\")\n",
        "print(\"record temps de vol : \", record_tdv, \" pour k = \", indice_record_tdv)\n",
        "print(\"record d'altitude : \", record_alt, \" pour k = \", indice_record_alt)"
      ],
      "execution_count": null,
      "outputs": [
        {
          "output_type": "stream",
          "text": [
            "400 OK, 800 OK, 1200 OK, 1600 OK, 2000 OK, 2400 OK, 2800 OK, 3200 OK, 3600 OK, 4000 OK, 4400 OK, 4800 OK, \n",
            "Conjecture vérifiée jusqu'à 5000\n",
            "record temps de vol :  238  pour k =  3711\n",
            "record d'altitude :  8153620  pour k =  4591\n"
          ],
          "name": "stdout"
        }
      ]
    },
    {
      "cell_type": "markdown",
      "metadata": {
        "id": "OHjO39Kx1i8e"
      },
      "source": [
        "---"
      ]
    },
    {
      "cell_type": "markdown",
      "metadata": {
        "id": "hQ6QudU50c-R"
      },
      "source": [
        "# **TP n°2 : Hasard et probabilités**\n",
        "\n",
        "Le TP suivant permet de :\n",
        "* Faire le point sur la simulation du hasard en Python\n",
        "\n",
        "* Revoir la loi de Benoulli et la loi binomiale : calcul de probabilité, espérance, variance\n",
        "\n",
        "* Simuler ces lois (c'est-à-dire effectuer des tirages aléatoires répartis selon ces lois)\n",
        "\n",
        "* Représenter tout cela graphiquement (diagrammes en bâtons)\n",
        "\n",
        "## **La loi Binomiale**"
      ]
    },
    {
      "cell_type": "markdown",
      "metadata": {
        "id": "MZDtlY7i2Ou1"
      },
      "source": [
        "## **1. Simulation de la loi de Bernoulli**\n",
        "\n",
        "***(notions travaillées : import d'une bibliothèque, random())***\n",
        "\n",
        "Tout d'abord, importons le générateur de nombres aléatoires :\n"
      ]
    },
    {
      "cell_type": "code",
      "metadata": {
        "id": "ObH-0Gqy3Q0J"
      },
      "source": [
        "import numpy.random as rd"
      ],
      "execution_count": null,
      "outputs": []
    },
    {
      "cell_type": "markdown",
      "metadata": {
        "id": "qi6-LfIJ3RzT"
      },
      "source": [
        "Voici comment on générère un nombre aléatoire :"
      ]
    },
    {
      "cell_type": "code",
      "metadata": {
        "colab": {
          "base_uri": "https://localhost:8080/"
        },
        "id": "hTC9iWsU1fSj",
        "outputId": "098f6c9a-79c3-4315-e40a-5fae61afcb33"
      },
      "source": [
        "rd.random()"
      ],
      "execution_count": null,
      "outputs": [
        {
          "output_type": "execute_result",
          "data": {
            "text/plain": [
              "0.7522586468657042"
            ]
          },
          "metadata": {
            "tags": []
          },
          "execution_count": 19
        }
      ]
    },
    {
      "cell_type": "markdown",
      "metadata": {
        "id": "z_yznnzc36ER"
      },
      "source": [
        "En fait de nombres aléatoires, cela n'est pas tout à fait vrai...\n",
        "\n",
        "Je parie que le premier nombre que vous avez ainsi obtenu est : 0.8405710986295695\n",
        "\n",
        "On peut difficilement appeler cela du hasard, mais c'est simplement que si l'on fait un grand nombre de tirages, ceux-ci se répartiront à peu près uniformément dans l'intervalle [0 ; 1], et c'est largement suffisant pour nos besoins !"
      ]
    },
    {
      "cell_type": "markdown",
      "metadata": {
        "id": "y81E3f9b_2ta"
      },
      "source": [
        "* **Simulation d'un tirage de Bernoulli**\n",
        "\n",
        "Simuler un tirage de Bernoulli de probabilité p, c'est comme tirer au hasard une fléchette dans l'intervalle [0;1] : on met une marque à l'abscisse \"p\", si la fléchette atterrit à gauche de p, c'est un succès, sinon, c'est un échec :\n",
        "\n",
        "<img src=\"https://drive.google.com/uc?id=14cE2B4wbXHn9SpyDgVlCjG6NJuVFfq1h\" width=\"500\" height=\"200\" align = \"center\"/>\n",
        "\n",
        "Traduire cette idée dans une fonction d'en-tête :\n",
        "\n",
        "    def bernoulli(p) :\n",
        "\n",
        "qui reçoit en entrée la probabilité de succès p, et renvoie 1 si le tirage aléatoire est plus petit que p, 0 sinon."
      ]
    },
    {
      "cell_type": "code",
      "metadata": {
        "id": "c3I3j6n031-x"
      },
      "source": [
        "def bernoulli(p) : \n",
        "    flechette = rd.random()\n",
        "    if flechette < p :\n",
        "        b = 1\n",
        "    else :\n",
        "        b = 0\n",
        "    return b"
      ],
      "execution_count": null,
      "outputs": []
    },
    {
      "cell_type": "code",
      "metadata": {
        "colab": {
          "base_uri": "https://localhost:8080/"
        },
        "id": "gDuyEn4IBMax",
        "outputId": "50b334dc-24b7-4f2f-a308-c7aa0ceeea62"
      },
      "source": [
        "bernoulli(0.7)"
      ],
      "execution_count": null,
      "outputs": [
        {
          "output_type": "execute_result",
          "data": {
            "text/plain": [
              "0"
            ]
          },
          "metadata": {
            "tags": []
          },
          "execution_count": 21
        }
      ]
    },
    {
      "cell_type": "markdown",
      "metadata": {
        "id": "Vx-j4vomBWi9"
      },
      "source": [
        "Remarque : on aurait pu utiliser un raccourci, détaillons cela :"
      ]
    },
    {
      "cell_type": "code",
      "metadata": {
        "colab": {
          "base_uri": "https://localhost:8080/"
        },
        "id": "kpxjr7edBfXW",
        "outputId": "fbb45e0e-37eb-4c10-fb33-b8ffaa2a2fac"
      },
      "source": [
        "p = 0.7         # probabilité de succès\n",
        "r = rd.random() # tirage d'un nombre aléatoire selon la loi uniforme sur [0;1]\n",
        "b = (r < p)     # valeur booléenne : Vrai ou faux\n",
        "print(\"r = \", r)\n",
        "print(\"r < b : \", b)\n",
        "print(\"tirage de Bernoulli : \", b*1) # b*1 transforme la valeur booléenne en 1 pour Vrai (True) et 0 pour Faux (False)"
      ],
      "execution_count": null,
      "outputs": [
        {
          "output_type": "stream",
          "text": [
            "r =  0.40185397258011313\n",
            "r < b :  True\n",
            "tirage de Bernoulli :  1\n"
          ],
          "name": "stdout"
        }
      ]
    },
    {
      "cell_type": "markdown",
      "metadata": {
        "id": "l-KwN_M1Ckm7"
      },
      "source": [
        "ce qui donne, en une seule ligne :"
      ]
    },
    {
      "cell_type": "code",
      "metadata": {
        "colab": {
          "base_uri": "https://localhost:8080/"
        },
        "id": "9mtKel7ABP-O",
        "outputId": "9090242d-4dd3-4cf4-c008-0f936a6df42c"
      },
      "source": [
        "print(\"Voici un tirage de Bernoulli : \", (rd.random() < p )*1)"
      ],
      "execution_count": null,
      "outputs": [
        {
          "output_type": "stream",
          "text": [
            "Voici un tirage de Bernoulli :  1\n"
          ],
          "name": "stdout"
        }
      ]
    },
    {
      "cell_type": "markdown",
      "metadata": {
        "id": "GxNQpA1-C7Oq"
      },
      "source": [
        "... mais ce qui est plus facile à écrire est souvent moins facile à lire...\n",
        "\n",
        "Il faut trouver l'équilibre, et surtout, bien commenter ce genre de raccourcis."
      ]
    },
    {
      "cell_type": "markdown",
      "metadata": {
        "id": "2el7S13vEoTv"
      },
      "source": [
        "* **Échantillon de nombres aléatoires selon la loi de Bernoulli :**"
      ]
    },
    {
      "cell_type": "code",
      "metadata": {
        "colab": {
          "base_uri": "https://localhost:8080/"
        },
        "id": "zzoiFYoOFeNK",
        "outputId": "3cabc3b3-7c72-43c9-a909-c19f546f5176"
      },
      "source": [
        "p = 0.7 # probabilité de succès\n",
        "n = 100 # taille de l' échantillon\n",
        "\n",
        "echantillon = []        # on crée un eliste vide, qui va se rempli au fur et à mesue des tirages de Bernoulli\n",
        "# échantillon de B(p)\n",
        "for k in range(n) :     # n répétitions\n",
        "    b = bernoulli(p)    # on fait un tirage de Bernoulli, avec la fonction écrite plus haut\n",
        "    echantillon = echantillon + [b]     # on accole le nouveau résultat à droite de la liste déjà fabriquée\n",
        "\n",
        "print('Échantillon de',n, 'tirages selon la loi B(',p,')')\n",
        "print(echantillon)\n",
        "\n"
      ],
      "execution_count": null,
      "outputs": [
        {
          "output_type": "stream",
          "text": [
            "Échantillon de 100 tirages selon la loi B( 0.7 )\n",
            "[1, 1, 1, 0, 0, 1, 1, 1, 1, 1, 0, 1, 0, 0, 1, 1, 1, 1, 1, 1, 1, 1, 1, 1, 1, 1, 0, 0, 1, 0, 1, 1, 1, 1, 1, 0, 0, 1, 1, 1, 1, 0, 1, 1, 0, 1, 1, 1, 0, 1, 1, 1, 1, 1, 1, 1, 1, 0, 1, 1, 0, 1, 1, 0, 0, 0, 1, 0, 1, 0, 1, 1, 1, 0, 0, 1, 1, 0, 1, 1, 1, 1, 1, 1, 1, 1, 0, 1, 1, 1, 1, 0, 1, 1, 0, 0, 1, 1, 1, 0]\n"
          ],
          "name": "stdout"
        }
      ]
    },
    {
      "cell_type": "markdown",
      "metadata": {
        "id": "WFvkyonHGkSq"
      },
      "source": [
        " Calcul de la moyenne de l'échantillon, et comparaison avec l'espérance attendue :\n",
        " "
      ]
    },
    {
      "cell_type": "code",
      "metadata": {
        "colab": {
          "base_uri": "https://localhost:8080/"
        },
        "id": "Gp2EfSAwGr_e",
        "outputId": "89bf500a-3598-4436-8ff9-fe8932e2bcfa"
      },
      "source": [
        "S = sum(echantillon)\n",
        "\n",
        "print('Nombre de succès sur',n,'tirages de Bernoulli de probabilité',p,':',S)\n",
        "print(\"Moyenne de l'échantillon : \", S/n)\n",
        "print('Espérance théorique : ',p)"
      ],
      "execution_count": null,
      "outputs": [
        {
          "output_type": "stream",
          "text": [
            "Nombre de succès sur 100 tirages de Bernoulli de probabilité 0.7 : 72\n",
            "Moyenne de l'échantillon :  0.72\n",
            "Espérance théorique :  0.7\n"
          ],
          "name": "stdout"
        }
      ]
    },
    {
      "cell_type": "code",
      "metadata": {
        "id": "J5tFJOVxFSPB"
      },
      "source": [
        ""
      ],
      "execution_count": null,
      "outputs": []
    },
    {
      "cell_type": "markdown",
      "metadata": {
        "id": "WNY6Kal0HRe0"
      },
      "source": [
        "---"
      ]
    },
    {
      "cell_type": "markdown",
      "metadata": {
        "id": "Ev81SzO2Dw36"
      },
      "source": [
        "## **2. Simuler un tirage selon la loi binomiale**\n",
        "\n",
        "Que représente la loi binomiale ?\n",
        "\n",
        "* **Simulation d'un tirage aléatoire selon la loi binomiale**\n",
        "\n",
        "Simuler cela par une fonction d'en-tête :\n",
        "\n",
        "    def binomiale(n,p) :\n",
        "\n",
        "qui reçoit en entrée l'entier n, nombre de répétitions, et le *flottant* (*float* en anglais, décimal) p, probabilité de succès.\n",
        "\n",
        "*Indication : il suffit de reproduire les n tirages de Bernoulli que l'on a effectués ci-dessus et de totaliser le nombe de 1 obtenus (succès)*"
      ]
    },
    {
      "cell_type": "code",
      "metadata": {
        "id": "J8eIidsJC0op"
      },
      "source": [
        "def binomiale(n,p) :\n",
        "    '''Fonction qui reçoit en entrées un entier n et un flottant p\n",
        "    et qui renvoie un tirage aléatoire selon la loi binomiale de paramètres (n,p)'''\n",
        "    echantillon = []        # on crée une liste vide, qui va se remplir au fur et à mesure des tirages de Bernoulli\n",
        "    # échantillon de B(p)\n",
        "    for k in range(n) :     # n répétitions\n",
        "        b = bernoulli(p)    # on fait un tirage de Bernoulli, avec la fonction écrite plus haut\n",
        "        echantillon = echantillon + [b]     # on accole le nouveau résultat à droite de la liste déjà fabriquée\n",
        "\n",
        "    S = sum(echantillon)    # on comptabilise le nombre de succès, c'est un nombre aléatoire selon la loi B(n,p)\n",
        "    return S\n"
      ],
      "execution_count": null,
      "outputs": []
    },
    {
      "cell_type": "code",
      "metadata": {
        "colab": {
          "base_uri": "https://localhost:8080/"
        },
        "id": "h5vOWTH-Ij-3",
        "outputId": "f8ffcae5-daa1-4910-b2c6-6b6cd65ade90"
      },
      "source": [
        "binomiale(100,0.7)"
      ],
      "execution_count": null,
      "outputs": [
        {
          "output_type": "execute_result",
          "data": {
            "text/plain": [
              "72"
            ]
          },
          "metadata": {
            "tags": []
          },
          "execution_count": 27
        }
      ]
    },
    {
      "cell_type": "code",
      "metadata": {
        "id": "2-mEfuiCIn3H"
      },
      "source": [
        ""
      ],
      "execution_count": null,
      "outputs": []
    },
    {
      "cell_type": "markdown",
      "metadata": {
        "id": "XmNdLh45Jerq"
      },
      "source": [
        "* **Échantillon de nombres aléatoires selon la loi bibomiale :**"
      ]
    },
    {
      "cell_type": "code",
      "metadata": {
        "colab": {
          "base_uri": "https://localhost:8080/"
        },
        "id": "O0QF-q1oJerr",
        "outputId": "967be07f-a65a-42b3-8cce-e11fac75017e"
      },
      "source": [
        "p = 0.7 # probabilité de succès\n",
        "n = 100 # nombre de répétitions pour un tirage binomial\n",
        "N = 200 # taille de l'échantillon de nombres selon la loi binomiale\n",
        "\n",
        "echantillon = []            # on crée une liste vide, qui va se remplir au fur et à mesure des tirages binomiaux\n",
        "\n",
        "# échantillon de N tirages selon B(n,p)\n",
        "for k in range(N) :         # N tirages\n",
        "    b = binomiale(n,p)      # on fait un tirage binomial, avec la fonction écrite plus haut\n",
        "    echantillon = echantillon + [b]     # on accole le nouveau résultat à droite de la liste déjà fabriquée\n",
        "\n",
        "print('Échantillon de',N, 'tirages selon la loi B(', n, ',',p,')')\n",
        "print(echantillon)\n",
        "\n"
      ],
      "execution_count": null,
      "outputs": [
        {
          "output_type": "stream",
          "text": [
            "Échantillon de 200 tirages selon la loi B( 100 , 0.7 )\n",
            "[69, 68, 78, 73, 70, 76, 72, 67, 63, 76, 73, 60, 73, 72, 77, 70, 78, 67, 65, 67, 70, 77, 74, 71, 75, 74, 74, 74, 63, 71, 66, 77, 67, 72, 73, 75, 69, 69, 62, 65, 68, 71, 79, 65, 66, 72, 73, 76, 71, 70, 67, 72, 68, 68, 74, 70, 67, 75, 65, 70, 69, 63, 70, 76, 70, 68, 65, 77, 71, 74, 71, 69, 70, 68, 65, 72, 69, 78, 70, 68, 75, 69, 70, 71, 77, 62, 68, 69, 74, 64, 65, 77, 73, 72, 76, 75, 72, 74, 77, 62, 69, 71, 72, 68, 75, 72, 72, 69, 73, 69, 73, 63, 70, 65, 59, 63, 67, 75, 69, 69, 68, 66, 66, 76, 71, 72, 71, 72, 71, 74, 75, 70, 77, 65, 71, 73, 72, 71, 76, 71, 60, 69, 69, 67, 76, 76, 69, 74, 69, 72, 70, 74, 67, 68, 68, 69, 66, 71, 75, 64, 73, 71, 75, 63, 79, 69, 68, 66, 74, 62, 72, 62, 63, 64, 62, 75, 69, 72, 72, 67, 72, 64, 66, 75, 73, 72, 67, 67, 74, 71, 65, 67, 72, 69, 69, 69, 72, 65, 63, 64]\n"
          ],
          "name": "stdout"
        }
      ]
    },
    {
      "cell_type": "markdown",
      "metadata": {
        "id": "JwpZPIPgJerx"
      },
      "source": [
        " Calcul de la moyenne de l'échantillon, et comparaison avec l'espérance attendue :\n",
        " "
      ]
    },
    {
      "cell_type": "code",
      "metadata": {
        "colab": {
          "base_uri": "https://localhost:8080/"
        },
        "id": "XXHjiqi1Jerz",
        "outputId": "91958369-ccb5-4991-f533-b43c47fd8fb9"
      },
      "source": [
        "S = sum(echantillon)\n",
        "\n",
        "print('Nombre de succès sur',N,'tirages binomiaux B(',n,',',p,'):',S)\n",
        "print(\"Moyenne de l'échantillon : \", S/N)\n",
        "print('Espérance théorique : ',n*p)"
      ],
      "execution_count": null,
      "outputs": [
        {
          "output_type": "stream",
          "text": [
            "Nombre de succès sur 200 tirages binomiaux B( 100 , 0.7 ): 14022\n",
            "Moyenne de l'échantillon :  70.11\n",
            "Espérance théorique :  70.0\n"
          ],
          "name": "stdout"
        }
      ]
    },
    {
      "cell_type": "markdown",
      "metadata": {
        "id": "yXz2CBe1MC4f"
      },
      "source": [
        "## **3. Représentation graphique : diagrammes en bâtons**\n",
        "\n",
        "***(notions travaillées : import de la bibliothèque graphique, commande bar)***"
      ]
    },
    {
      "cell_type": "code",
      "metadata": {
        "id": "HrteiCeaNuF2"
      },
      "source": [
        "import matplotlib.pyplot as plt # import de la bibliothèque dédiée aux graphiques"
      ],
      "execution_count": null,
      "outputs": []
    },
    {
      "cell_type": "code",
      "metadata": {
        "id": "VTfUQDnxNGeP"
      },
      "source": [
        "# Univers-image\n",
        "X_Omega = [k for k in range(n+1)]   # en abscisses, l'univers image : [[0, n]] pour une loi binomiale\n",
        "                                    # défini ici par une liste par compréhension"
      ],
      "execution_count": null,
      "outputs": []
    },
    {
      "cell_type": "markdown",
      "metadata": {
        "id": "NZk1XTmTMKLr"
      },
      "source": [
        "### **Tabuler**\n",
        "\n",
        "Commençons par écrire une fonction qui va compter la fréquence d'apparitions (nombre d'apparitions / taille del'échantillon) de chaque valeurs dans l'échantillon obtenu plus haut..."
      ]
    },
    {
      "cell_type": "code",
      "metadata": {
        "id": "-lz7AS_4Jer1"
      },
      "source": [
        "def tabuler(X_Omega, echantillon):\n",
        "    '''Fonction qui reçoit l'univers-image et un échantillon expérimental\n",
        "    et calcule liste des fréquences d'apparition de chaque valeur dans l'échantillon'''\n",
        "\n",
        "    card = len(X_Omega)     #nombre de valeurs dans l'univers-image\n",
        "    frequences = [0]*card   # on crée une liste vide, prête à recevoir les fréquences\n",
        "\n",
        "    for k in echantillon :  # on passe en revue toutes les valeurs dans l'échantillon\n",
        "        if k <= X_Omega[-1]:    # pour certaines lois à univers infini, on prend cette précaution\n",
        "            frequences[k-X_Omega[0]] = frequences[k-X_Omega[0]] + 1/N\n",
        "                                # on augmente la fréquence de la valeur trouvée\n",
        "    \n",
        "    #print(frequences)\n",
        "    return(frequences)"
      ],
      "execution_count": null,
      "outputs": []
    },
    {
      "cell_type": "markdown",
      "metadata": {
        "id": "BUfXhfJVScAU"
      },
      "source": [
        "### **Tracer**"
      ]
    },
    {
      "cell_type": "code",
      "metadata": {
        "id": "lB0GNONcM4zo"
      },
      "source": [
        "def diagramme_batons(X_Omega,tabule):\n",
        "    '''Fonction qui reçoit un univers-image et la liste tabulée des fréquences\n",
        "    et qui trace le diagramme en bâtons correspondant'''\n",
        "\n",
        "    # tracer les diagrammes en bâtons\n",
        "    plt.grid(True)  # affichage de la grille\n",
        "    largeur = (X_Omega[-1] - X_Omega[0])/100    # on élargit un peu l'intervalle d'affichage, par souci d'esthétique\n",
        "\n",
        "    plt.bar(X_Omega, tabule, width = largeur, color = 'red', alpha = 1, label = 'Simulation')\n",
        "    # La commande bar, de matplotlib.pyplot est exigible dans le programme d'ECG\n",
        "    # mais rien n'est à retenir pour la mise en forme du graphique (axes, titres, etc.)\n",
        "\n",
        "    plt.xlabel('X_Omega')       # nom de l'axe des abscisses\n",
        "    plt.ylabel('Frequences')    # nom de l'axe des ordonnées\n",
        "    plt.legend()\n",
        "\n",
        "    ax = plt.gca()              # récupération du paramétrage des axes\n",
        "\n",
        "    ax.spines['left'].set_position('zero')      # positionnement de l'axe des ordonnées à x = 0\n",
        "    ax.spines['right'].set_color('none')\n",
        "    ax.spines['bottom'].set_position('zero')    # positionnement de l'axe des abscisses à y = 0\n",
        "    ax.spines['top'].set_color('none')"
      ],
      "execution_count": null,
      "outputs": []
    },
    {
      "cell_type": "code",
      "metadata": {
        "colab": {
          "base_uri": "https://localhost:8080/",
          "height": 314
        },
        "id": "TB-sxqKYNHSo",
        "outputId": "b6c40147-7bb2-4d49-fd5d-7de4c10daa97"
      },
      "source": [
        "# diagramme en bâtons loi Binomiale\n",
        "\n",
        "# tabulation de la simulation\n",
        "frequences = tabuler(X_Omega,echantillon)\n",
        "\n",
        "#représentation\n",
        "diagramme_batons(X_Omega, frequences)\n",
        "\n",
        "plt.title('Simulation de '+ str(N)+' tirages selon une loi B('+str(n)+' , '+ str(p)+')')"
      ],
      "execution_count": null,
      "outputs": [
        {
          "output_type": "execute_result",
          "data": {
            "text/plain": [
              "Text(0.5, 1.0, 'Simulation de 200 tirages selon une loi B(100 , 0.7)')"
            ]
          },
          "metadata": {
            "tags": []
          },
          "execution_count": 34
        },
        {
          "output_type": "display_data",
          "data": {
            "image/png": "[encoded data removed]",
            "text/plain": [
              "<Figure size 432x288 with 1 Axes>"
            ]
          },
          "metadata": {
            "tags": [],
            "needs_background": "light"
          }
        }
      ]
    },
    {
      "cell_type": "markdown",
      "metadata": {
        "id": "b2NYv9YGPKHE"
      },
      "source": [
        "## **4. Comparaison avec la loi théorique**\n",
        "\n",
        "Rappeler la définition de la **combinaison** \"k parmi n\" et son mode de calcul.\n",
        "\n",
        "Rappeler la probabilté P([X=k]) quand X suit une loi binomiale B(n,p)\n"
      ]
    },
    {
      "cell_type": "markdown",
      "metadata": {
        "id": "RmpT3oNLTNxP"
      },
      "source": [
        "*réponses :*\n",
        "* **combinaison** : $ \\binom{N}{k} = \\frac{N!}{k!(N - k)!} $ où N! désigne le produit de tous les entiers de 1 à N, appelé **\"factorielle\"** de N\n",
        "\n",
        "* **probabilité selon la loi binomiale** :\n",
        "\n",
        "    $ X(\\Omega) = [[O,n]] $\n",
        "\n",
        "    et pour tout k dans $ X(\\Omega), P([X=k]) = \\binom{N}{k} . p^k . (1-p)^{n-k} $"
      ]
    },
    {
      "cell_type": "code",
      "metadata": {
        "id": "SG_wnvYDU6h2"
      },
      "source": [
        "# loi théorique\n",
        "def factorielle(n):\n",
        "    f = 1\n",
        "    for k in range(1,n+1):\n",
        "        f = f * k\n",
        "    return f\n",
        "           \n",
        "def combinaison(k,n):\n",
        "    c = 1\n",
        "    for m in range(n,n-k,-1):\n",
        "        c = c * m\n",
        "    c = int(c / factorielle(k))\n",
        "    return c\n",
        "           \n",
        "           \n",
        "probabilites = [combinaison(k,n)*p**k*(1-p)**(n-k) for k in range(n+1)]"
      ],
      "execution_count": null,
      "outputs": []
    },
    {
      "cell_type": "markdown",
      "metadata": {
        "id": "EY-vGt6uU-wL"
      },
      "source": [
        "modification de la fonction d'affichage pour incorporer la loi théorique :"
      ]
    },
    {
      "cell_type": "code",
      "metadata": {
        "id": "keXx1WzNNbuU"
      },
      "source": [
        "def diagramme_batons(X_Omega,tabule,probabilites):\n",
        "    # tracer les diagrammes en bâtons\n",
        "    plt.grid(True)\n",
        "    largeur = (X_Omega[-1] - X_Omega[0])/100\n",
        "\n",
        "    \n",
        "    plt.bar(X_Omega, tabule, width = largeur, color = 'red', alpha = 1, label = 'Simulation')\n",
        "    plt.bar(X_Omega, probabilites, width = 3*largeur, color = 'blue', alpha = 0.3, label = 'Probabilites theoriques')\n",
        "\n",
        "    plt.xlabel('X_Omega')\n",
        "    plt.ylabel('Frequences')\n",
        "    plt.legend()\n",
        "\n",
        "    ax = plt.gca() # récupération du paramétrage des axes\n",
        "\n",
        "    ax.spines['left'].set_position('zero') # positionnement de l'axe des ordonnées à x = 0\n",
        "    ax.spines['right'].set_color('none')\n",
        "    ax.spines['bottom'].set_position('zero') # positionnement de l'axe des abscisses à y = 0\n",
        "    ax.spines['top'].set_color('none')"
      ],
      "execution_count": null,
      "outputs": []
    },
    {
      "cell_type": "code",
      "metadata": {
        "colab": {
          "base_uri": "https://localhost:8080/",
          "height": 314
        },
        "id": "SQfz-XyXVNJG",
        "outputId": "7d66bb7d-bf0f-4aaa-c5d7-1b40637798ee"
      },
      "source": [
        "diagramme_batons(X_Omega, frequences, probabilites)\n",
        "\n",
        "plt.title('Simulation de '+ str(N)+' tirages selon une loi B('+str(n)+' , '+ str(p)+')')"
      ],
      "execution_count": null,
      "outputs": [
        {
          "output_type": "execute_result",
          "data": {
            "text/plain": [
              "Text(0.5, 1.0, 'Simulation de 200 tirages selon une loi B(100 , 0.7)')"
            ]
          },
          "metadata": {
            "tags": []
          },
          "execution_count": 37
        },
        {
          "output_type": "display_data",
          "data": {
            "image/png": "[encoded data removed]",
            "text/plain": [
              "<Figure size 432x288 with 1 Axes>"
            ]
          },
          "metadata": {
            "tags": [],
            "needs_background": "light"
          }
        }
      ]
    },
    {
      "cell_type": "code",
      "metadata": {
        "id": "BSrUxOhZVVjV"
      },
      "source": [
        ""
      ],
      "execution_count": null,
      "outputs": []
    }
  ]
}