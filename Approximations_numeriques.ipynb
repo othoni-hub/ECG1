{
  "nbformat": 4,
  "nbformat_minor": 0,
  "metadata": {
    "kernelspec": {
      "display_name": "Python 3",
      "language": "python",
      "name": "python3"
    },
    "language_info": {
      "codemirror_mode": {
        "name": "ipython",
        "version": 3
      },
      "file_extension": ".py",
      "mimetype": "text/x-python",
      "name": "python",
      "nbconvert_exporter": "python",
      "pygments_lexer": "ipython3",
      "version": "3.7.1"
    },
    "colab": {
      "name": "Approximations_numeriques.ipynb",
      "provenance": [],
      "collapsed_sections": [],
      "include_colab_link": true
    }
  },
  "cells": [
    {
      "cell_type": "markdown",
      "metadata": {
        "id": "view-in-github",
        "colab_type": "text"
      },
      "source": [
        "<a href=\"https://colab.research.google.com/github/othoni-hub/ECG1/blob/main/Approximations_numeriques.ipynb\" target=\"_parent\"><img src=\"https://colab.research.google.com/assets/colab-badge.svg\" alt=\"Open In Colab\"/></a>"
      ]
    },
    {
      "cell_type": "markdown",
      "metadata": {
        "id": "Csu0yccfGMdy"
      },
      "source": [
        "# **CPGE-ECG1** \n",
        "<img src=\"https://drive.google.com/uc?id=12Wo3LubGGT4qOvYFAuLP4CyCuwjKNVuk\" width=\"230\" height=\"150\" align = \"right\"/>\n",
        "\n",
        "## **Ch9 - Notebook : Résolutions approchées d'équations**\n",
        "\n",
        "\n",
        "\n",
        "\n",
        "**O.Thöni - Lycée Saint-Charles Sainte Croix - LE MANS**"
      ]
    },
    {
      "cell_type": "code",
      "metadata": {
        "id": "RNQQKgnGOhNJ"
      },
      "source": [
        "import matplotlib.pyplot as plt\n",
        "import numpy as np"
      ],
      "execution_count": null,
      "outputs": []
    },
    {
      "cell_type": "markdown",
      "metadata": {
        "id": "_giwBMgUOhNO"
      },
      "source": [
        "**La fonction**\n",
        "\n",
        "Nous allons étudier les (un des) zéros de la fonction f dont l'expression est f(x) = x<sup>3</sup> + x<sup>2</sup> - 6x + 2.\n"
      ]
    },
    {
      "cell_type": "code",
      "metadata": {
        "id": "jEERkSYUOhNP",
        "colab": {
          "base_uri": "https://localhost:8080/",
          "height": 264
        },
        "outputId": "269090a9-3fde-473d-c2e9-3307da7aaaf4"
      },
      "source": [
        "# Définition de la fonction\n",
        "def f(x):\n",
        "    y = x**3 + x**2 -6*x + 2\n",
        "    return y\n",
        "    \n",
        "import numpy as np\n",
        "# Représentation graphique\n",
        "xx = np.arange(-4,3,0.1) # liste numpy de -4 à 3 avec un pas de 0.1 (les listes natives avec range sont des listes d'entiers)\n",
        "yy = []\n",
        "\n",
        "for x in xx :\n",
        "    yy.append(f(x))\n",
        "    \n",
        "p1 = plt.plot(xx,yy,'r',linewidth=1)\n",
        "\n",
        "ax = plt.gca()\n",
        "ax.spines['left'].set_position('zero')\n",
        "ax.spines['right'].set_color('none')\n",
        "ax.spines['bottom'].set_position('zero')\n",
        "ax.spines['top'].set_color('none')\n",
        "\n",
        "plt.xlim(-5,3)\n",
        "plt.title('y = x^3 + x^2 - 6x + 2')\n",
        "plt.show()"
      ],
      "execution_count": null,
      "outputs": [
        {
          "output_type": "display_data",
          "data": {
            "image/png": "[encoded data removed]",
            "text/plain": [
              "<Figure size 432x288 with 1 Axes>"
            ]
          },
          "metadata": {
            "tags": []
          }
        }
      ]
    },
    {
      "cell_type": "markdown",
      "metadata": {
        "id": "9dC5lugsOhNU"
      },
      "source": [
        "Nous allons chercher une valeur approchée du zéro qui, apparamment, est compris entre 1 et 3."
      ]
    },
    {
      "cell_type": "code",
      "metadata": {
        "id": "nTx-IDgMOhNV"
      },
      "source": [
        "# précision souhaitée\n",
        "nb_decimales = 5\n",
        "epsilon = 10**(-nb_decimales)\n",
        "\n",
        "#intervalle d'étude [1 ; 3]\n",
        "a = 1\n",
        "b = 3\n"
      ],
      "execution_count": null,
      "outputs": []
    },
    {
      "cell_type": "markdown",
      "metadata": {
        "id": "y4-um30xOhNZ"
      },
      "source": [
        "### 1. Par balayage###\n",
        "\n",
        "**<span style=\"color: #D17460\">TCompl : valeur approchée d'une solution d'équation par balayage</span>**\n",
        "\n",
        "\n",
        "Le principe est simple : on part de la borne gauche, 1 , où la fonction prend des valeurs négatives, et on avance pas à pas, avec un pas égal à la précision '*epsilon*' recherchée, jusqu'à ce que la fonction prenne sa première valeur positive, lieu de la valeur approchée par excès de la racine cherchée, à *epsilon* près. "
      ]
    },
    {
      "cell_type": "code",
      "metadata": {
        "id": "4Ik9eF7_OhNa",
        "colab": {
          "base_uri": "https://localhost:8080/",
          "height": 34
        },
        "outputId": "379859e0-8b21-42f6-c793-28ae85b6ca8d"
      },
      "source": [
        "u = a\n",
        "compteur = 0\n",
        "while f(u) < 0:\n",
        "    compteur = compteur + 1\n",
        "    u = u + epsilon\n",
        "    \n",
        "print('La valeur approchée par excès à ',epsilon,'près est : ',round(u,nb_decimales),'   après ',compteur,' itérations.')"
      ],
      "execution_count": null,
      "outputs": [
        {
          "output_type": "stream",
          "text": [
            "La valeur approchée par excès à  1e-05 près est :  1.76156    après  76156  itérations.\n"
          ],
          "name": "stdout"
        }
      ]
    },
    {
      "cell_type": "markdown",
      "metadata": {
        "id": "06w2sbrVOhNe"
      },
      "source": [
        "### 2. Par dichotomie###\n",
        "\n",
        "**<span style=\"color: #D17460\">TSpé - TCompl : valeur approchée d'une solution d'équation par dichotomie</span>**\n",
        "\n",
        "**<span style=\"color: #26B260\">Python : test *if... : else :*</span>**\n",
        "\n"
      ]
    },
    {
      "cell_type": "code",
      "metadata": {
        "id": "Fk4jnhpaOhNf",
        "colab": {
          "base_uri": "https://localhost:8080/",
          "height": 34
        },
        "outputId": "6b2b2ff1-dfd4-4415-c0a9-56a15dc0ee5a"
      },
      "source": [
        "compteur = 0\n",
        "u = a\n",
        "v = b\n",
        "while v-u > epsilon :\n",
        "    compteur = compteur + 1\n",
        "    c = (u+v)/2\n",
        "    if f(u)*f(c) < 0 :\n",
        "        v = c\n",
        "    else :\n",
        "        u = c\n",
        "        \n",
        "print('Une valeur approchée à ',epsilon,'près est : ',round(c,nb_decimales),'   après ',compteur,' itérations.')"
      ],
      "execution_count": null,
      "outputs": [
        {
          "output_type": "stream",
          "text": [
            "Une valeur approchée à  1e-05 près est :  1.76156    après  18  itérations.\n"
          ],
          "name": "stdout"
        }
      ]
    },
    {
      "cell_type": "markdown",
      "metadata": {
        "id": "pIYaHX2eOhNi"
      },
      "source": [
        "**_Exercice_**\n",
        "\n",
        "**<span style=\"color: #D17460\">TCompl </span>**\n",
        "\n",
        "Adapter la démarche précédente pour trouver une valeur approchée de ln(2) à l'aide de la fonction d'expression f(x) = e<sup>x</sup> - 2"
      ]
    }
  ]
}