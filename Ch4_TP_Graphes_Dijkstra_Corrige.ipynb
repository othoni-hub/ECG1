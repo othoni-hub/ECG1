{
  "nbformat": 4,
  "nbformat_minor": 0,
  "metadata": {
    "colab": {
      "name": "Ch4-TP-Graphes-Dijkstra-Corrige.ipynb",
      "provenance": [],
      "collapsed_sections": [],
      "authorship_tag": "ABX9TyP+E59wjX8vd6WWX6pzvwN/",
      "include_colab_link": true
    },
    "kernelspec": {
      "name": "python3",
      "display_name": "Python 3"
    },
    "language_info": {
      "name": "python"
    }
  },
  "cells": [
    {
      "cell_type": "markdown",
      "metadata": {
        "id": "view-in-github",
        "colab_type": "text"
      },
      "source": [
        "<a href=\"https://colab.research.google.com/github/othoni-hub/ECG1/blob/main/Ch4_TP_Graphes_Dijkstra_Corrige.ipynb\" target=\"_parent\"><img src=\"https://colab.research.google.com/assets/colab-badge.svg\" alt=\"Open In Colab\"/></a>"
      ]
    },
    {
      "cell_type": "markdown",
      "metadata": {
        "id": "YC7u6GrfSr41"
      },
      "source": [
        "# **CPGE-ECG1** \n",
        "<img src=\"https://drive.google.com/uc?id=12Wo3LubGGT4qOvYFAuLP4CyCuwjKNVuk\" width=\"230\" height=\"150\" align = \"right\"/>\n",
        "\n"
      ]
    },
    {
      "cell_type": "markdown",
      "metadata": {
        "id": "DRlX-WWfR28x"
      },
      "source": [
        "# **Ch4 - TP : Graphes : Algorithme de Dijkstra**\n",
        "\n",
        "\n",
        "\n",
        "\n",
        "**O.Thöni - Lycée Saint-Charles Sainte Croix - LE MANS**\n",
        "\n",
        "\n",
        "![]()\n",
        "<img src=\"https://images.itnewsinfo.com/lmi/articles/grande/000000051701.jpg\" width=\"350\" height=\"220\"/>"
      ]
    },
    {
      "cell_type": "markdown",
      "metadata": {
        "id": "1KxzisxIQTqY"
      },
      "source": [
        "## **Fonction de visualisation d'un graphe**\n",
        "\n",
        "Rien dans ce paragraphe n'est exigible.\n",
        "\n",
        "Inutile en 1<sup>ère</sup> lecture, on pourra essayer de comprendre en 2<sup>ème</sup> lecture"
      ]
    },
    {
      "cell_type": "code",
      "metadata": {
        "id": "XK7DCjpHMo0k"
      },
      "source": [
        "from graphviz import Digraph # bibliothèque hors programme d'ECG\n",
        "\n",
        "def show(gr):\n",
        "        \"\"\"Fonction qui reçoit en entrée un graphe gr, orienté ou non, pondéré ou non\n",
        "        modélisé par une liste de couples ou de listes,\n",
        "        et qui réalise la représentation graphique avec graphviz du graphe gr\"\"\"\n",
        "\n",
        "        dispo=\"circo\" # valeurs possibles \"neato\", \"circo\",\"dot\",\"fdp\"\n",
        "\n",
        "        dot = Digraph(comment=\"Graphe\", engine = dispo, format='svg') #Digraph est le module pour les graphes orientés ('Directed Graph')\n",
        "\n",
        "        # Attibuts graphiques, pour jouer\n",
        "        #dot.attr('graph', overlap = 'false', fontsize = '16', bgcolor = \"#ffffff00\",fontcolor=\"grey\")\n",
        "        #dot.attr('node', shape = 'circle', fixedsize = 'true', width = '0.4', fontsize = '14', style = \"filled\", color = 'grey')\n",
        "        #dot.attr('edge', arrowsize = '0.7', fontsize = '12',color=\"grey\",fontcolor=\"grey\")\n",
        "\n",
        "        for nd in liste_noeuds(gr):\n",
        "            dot.node(nd,nd)\n",
        "            for a in gr[nd]:\n",
        "                # Teste si l'arête est orientée\n",
        "                if arete(gr,a[0], nd) == arete(gr, nd, a[0]) :\n",
        "                    # dessin d'une arête non orientée\n",
        "                    if a[0]<= nd:\n",
        "                        # On ne dessine qu'une seule arête sur les 2\n",
        "                        if a[1] != 1:\n",
        "                            dot.edge(nd, a[0],label=str(a[1]), dir=\"none\")\n",
        "                        else:\n",
        "                            dot.edge(nd, a[0], dir=\"none\")\n",
        "                else:\n",
        "                    # dessin d'une arête orientée\n",
        "                    if a[1] != 1:\n",
        "                        dot.edge(nd, a[0],label=str(a[1]))\n",
        "                    else:\n",
        "                        dot.edge(nd, a[0])\n",
        "        return dot"
      ],
      "execution_count": null,
      "outputs": []
    },
    {
      "cell_type": "markdown",
      "metadata": {
        "id": "wXCkMlrmURIT"
      },
      "source": [
        "### **Obtenir la liste des noeuds**"
      ]
    },
    {
      "cell_type": "code",
      "metadata": {
        "id": "4E54aeW7UXCp"
      },
      "source": [
        " def liste_noeuds(gr):\n",
        "        \"\"\"Fonction qui reçoit en entrée un graphe gr \n",
        "        et renvoie la liste de ses noeuds\"\"\"\n",
        "        nds = list(gr.keys())   # les noeuds sont les clés du dictionnaire\n",
        "        nds.sort()              # on ordonne la liste des noeuds par ordre alphabétique\n",
        "        return nds"
      ],
      "execution_count": null,
      "outputs": []
    },
    {
      "cell_type": "markdown",
      "metadata": {
        "id": "WRg-k13WUydH"
      },
      "source": [
        "### **Obtenir le poids d'une arête dans un graphe valué (pondéré)**"
      ]
    },
    {
      "cell_type": "code",
      "metadata": {
        "id": "HH0VusUBVMZd"
      },
      "source": [
        " def arete(gr,nd1, nd2):\n",
        "        \"\"\"Fonction qui reçoit en entrées un graphe gr et deux noeuds nd1 et nd2,\n",
        "        et qui renvoie le poids de l'arête nd1->nd2 ou 0 si pas d'arête\"\"\"\n",
        "        if nd2 not in voisins(gr, nd1):\n",
        "            return 0\n",
        "        for a in gr[nd1]:\n",
        "            if a[0] == nd2:\n",
        "                return a[1]\n",
        "    "
      ],
      "execution_count": null,
      "outputs": []
    },
    {
      "cell_type": "markdown",
      "metadata": {
        "id": "Vxg0qGatUZcV"
      },
      "source": [
        "### **Liste des voisins d'un noeud donné**"
      ]
    },
    {
      "cell_type": "code",
      "metadata": {
        "id": "6dPPLG2oVblh"
      },
      "source": [
        " def voisins(gr, nd):\n",
        "        \"\"\"Fonction qui reçoit en entrées un graphe gr et un noeud nd\n",
        "        et renvoie la liste des noeuds voisins du noeud nd dans le graphe gr\"\"\"\n",
        "        if nd in liste_noeuds(gr):\n",
        "            return [a[0] for a in gr[nd]]\n",
        "        else:\n",
        "            return []"
      ],
      "execution_count": null,
      "outputs": []
    },
    {
      "cell_type": "markdown",
      "metadata": {
        "id": "Tkl8MxADdbQT"
      },
      "source": [
        "# **Algorithmes de parcours de graphes**"
      ]
    },
    {
      "cell_type": "markdown",
      "metadata": {
        "id": "dJLTI_qCNveb"
      },
      "source": [
        "###**Algorithme de Dijkstra : recherche d'un chemin de poids minimal dans un graphe valué**\n",
        "\n",
        "source : http://math.univ-lyon1.fr/irem/Formation_ISN/formation_parcours_graphes/dijkstra/dijkstra.py\n",
        "\n",
        "source vidéo : chaîne d'Yvan Monka :\n",
        "https://youtu.be/rHylCtXtdNs "
      ]
    },
    {
      "cell_type": "code",
      "metadata": {
        "colab": {
          "base_uri": "https://localhost:8080/",
          "height": 336
        },
        "id": "Zde2XR_6SIGc",
        "outputId": "d618f1c3-e997-405f-9b5c-39c453b7d2fb"
      },
      "source": [
        "from IPython.display import HTML\n",
        "\n",
        "HTML('<iframe width=\"560\" height=\"315\" src=\"https://www.youtube.com/embed/rHylCtXtdNs\" frameborder=\"0\" allow=\"accelerometer; autoplay; clipboard-write; encrypted-media; gyroscope; picture-in-picture\" allowfullscreen></iframe>')"
      ],
      "execution_count": null,
      "outputs": [
        {
          "output_type": "execute_result",
          "data": {
            "text/html": [
              "<iframe width=\"560\" height=\"315\" src=\"https://www.youtube.com/embed/rHylCtXtdNs\" frameborder=\"0\" allow=\"accelerometer; autoplay; clipboard-write; encrypted-media; gyroscope; picture-in-picture\" allowfullscreen></iframe>"
            ],
            "text/plain": [
              "<IPython.core.display.HTML object>"
            ]
          },
          "metadata": {
            "tags": []
          },
          "execution_count": 18
        }
      ]
    },
    {
      "cell_type": "markdown",
      "metadata": {
        "id": "oljtJR3YhJfg"
      },
      "source": [
        "### **Définition du graphe et recherche à la main du chemin minimal**\n",
        "\n",
        "Mettre en oeuvre sur papier l'algorithme de Dijkstra avec le graphe suivant"
      ]
    },
    {
      "cell_type": "code",
      "metadata": {
        "id": "j_K2x3CohrNR"
      },
      "source": [
        "Graphe = {\n",
        "\t'A':{'B':2, 'C':1},\n",
        "\t'B':{'A':2, 'C':2, 'D':1, 'E':3},\n",
        "\t'C':{'A':1, 'B':2, 'D':4, 'E':3, 'F':5},\n",
        "\t'D':{'B':1, 'C':4, 'E':3, 'F':6, 'G':5},\n",
        "\t'E':{'B':3, 'C':3, 'D':3, 'F':1},\n",
        "\t'F':{'C':5, 'D':6, 'E':1, 'G':2},\n",
        "\t'G':{'D':5, 'F':2}\n",
        "\t}"
      ],
      "execution_count": null,
      "outputs": []
    },
    {
      "cell_type": "code",
      "metadata": {
        "colab": {
          "base_uri": "https://localhost:8080/"
        },
        "id": "GnqhTZjTiPmd",
        "outputId": "632ddef9-ced5-48b7-941f-3e9fae3da23c"
      },
      "source": [
        "# Réécriture du Graphe en un format adapté pour la visulisation avec le fonction show\n",
        "for nd1 in Graphe:\n",
        "    Graphe[nd1] = list(Graphe[nd1].items())\n",
        "Graphe"
      ],
      "execution_count": null,
      "outputs": [
        {
          "output_type": "execute_result",
          "data": {
            "text/plain": [
              "{'A': [('B', 2), ('C', 1)],\n",
              " 'B': [('A', 2), ('C', 2), ('D', 1), ('E', 3)],\n",
              " 'C': [('A', 1), ('B', 2), ('D', 4), ('E', 3), ('F', 5)],\n",
              " 'D': [('B', 1), ('C', 4), ('E', 3), ('F', 6), ('G', 5)],\n",
              " 'E': [('B', 3), ('C', 3), ('D', 3), ('F', 1)],\n",
              " 'F': [('C', 5), ('D', 6), ('E', 1), ('G', 2)],\n",
              " 'G': [('D', 5), ('F', 2)]}"
            ]
          },
          "metadata": {
            "tags": []
          },
          "execution_count": 20
        }
      ]
    },
    {
      "cell_type": "code",
      "metadata": {
        "colab": {
          "base_uri": "https://localhost:8080/",
          "height": 445
        },
        "id": "sWZopXhUiemz",
        "outputId": "67b45d43-b88a-4f22-c82a-731ee20d06e1"
      },
      "source": [
        "show(Graphe)\n",
        "# rappel : les arêtes de poids 1 ne sont pas étiquetées"
      ],
      "execution_count": null,
      "outputs": [
        {
          "output_type": "execute_result",
          "data": {
            "text/plain": [
              "<graphviz.dot.Digraph at 0x7f98e2726390>"
            ],
            "image/svg+xml": "<?xml version=\"1.0\" encoding=\"UTF-8\" standalone=\"no\"?>\n<!DOCTYPE svg PUBLIC \"-//W3C//DTD SVG 1.1//EN\"\n \"http://www.w3.org/Graphics/SVG/1.1/DTD/svg11.dtd\">\n<!-- Generated by graphviz version 2.40.1 (20161225.0304)\n -->\n<!-- Title: %3 Pages: 1 -->\n<svg width=\"329pt\" height=\"318pt\"\n viewBox=\"0.00 0.00 328.85 317.71\" xmlns=\"http://www.w3.org/2000/svg\" xmlns:xlink=\"http://www.w3.org/1999/xlink\">\n<g id=\"graph0\" class=\"graph\" transform=\"scale(1 1) rotate(0) translate(4 313.7103)\">\n<title>%3</title>\n<polygon fill=\"#ffffff\" stroke=\"transparent\" points=\"-4,4 -4,-313.7103 324.8479,-313.7103 324.8479,4 -4,4\"/>\n<!-- A -->\n<g id=\"node1\" class=\"node\">\n<title>A</title>\n<ellipse fill=\"none\" stroke=\"#000000\" cx=\"240.9954\" cy=\"-45.1058\" rx=\"27\" ry=\"18\"/>\n<text text-anchor=\"middle\" x=\"240.9954\" y=\"-41.4058\" font-family=\"Times,serif\" font-size=\"14.00\" fill=\"#000000\">A</text>\n</g>\n<!-- B -->\n<g id=\"node2\" class=\"node\">\n<title>B</title>\n<ellipse fill=\"none\" stroke=\"#000000\" cx=\"122.2369\" cy=\"-18\" rx=\"27\" ry=\"18\"/>\n<text text-anchor=\"middle\" x=\"122.2369\" y=\"-14.3\" font-family=\"Times,serif\" font-size=\"14.00\" fill=\"#000000\">B</text>\n</g>\n<!-- B&#45;&gt;A -->\n<g id=\"edge1\" class=\"edge\">\n<title>B&#45;&gt;A</title>\n<path fill=\"none\" stroke=\"#000000\" d=\"M148.0057,-23.8816C167.9255,-28.4281 195.3697,-34.6921 215.2768,-39.2358\"/>\n<text text-anchor=\"middle\" x=\"177.6413\" y=\"-35.3587\" font-family=\"Times,serif\" font-size=\"14.00\" fill=\"#000000\">2</text>\n</g>\n<!-- C -->\n<g id=\"node3\" class=\"node\">\n<title>C</title>\n<ellipse fill=\"none\" stroke=\"#000000\" cx=\"27\" cy=\"-93.9489\" rx=\"27\" ry=\"18\"/>\n<text text-anchor=\"middle\" x=\"27\" y=\"-90.2489\" font-family=\"Times,serif\" font-size=\"14.00\" fill=\"#000000\">C</text>\n</g>\n<!-- C&#45;&gt;A -->\n<g id=\"edge2\" class=\"edge\">\n<title>C&#45;&gt;A</title>\n<path fill=\"none\" stroke=\"#000000\" d=\"M52.8128,-88.0573C94.0549,-78.6441 174.3351,-60.3206 215.4241,-50.9423\"/>\n</g>\n<!-- C&#45;&gt;B -->\n<g id=\"edge3\" class=\"edge\">\n<title>C&#45;&gt;B</title>\n<path fill=\"none\" stroke=\"#000000\" d=\"M44.4679,-80.0187C61.6517,-66.3151 87.7343,-45.5149 104.8797,-31.8419\"/>\n<text text-anchor=\"middle\" x=\"70.6738\" y=\"-59.7303\" font-family=\"Times,serif\" font-size=\"14.00\" fill=\"#000000\">2</text>\n</g>\n<!-- D -->\n<g id=\"node4\" class=\"node\">\n<title>D</title>\n<ellipse fill=\"none\" stroke=\"#000000\" cx=\"122.2369\" cy=\"-291.7103\" rx=\"27\" ry=\"18\"/>\n<text text-anchor=\"middle\" x=\"122.2369\" y=\"-288.0103\" font-family=\"Times,serif\" font-size=\"14.00\" fill=\"#000000\">D</text>\n</g>\n<!-- D&#45;&gt;B -->\n<g id=\"edge4\" class=\"edge\">\n<title>D&#45;&gt;B</title>\n<path fill=\"none\" stroke=\"#000000\" d=\"M122.2369,-273.3264C122.2369,-223.4639 122.2369,-86.0726 122.2369,-36.3039\"/>\n</g>\n<!-- D&#45;&gt;C -->\n<g id=\"edge5\" class=\"edge\">\n<title>D&#45;&gt;C</title>\n<path fill=\"none\" stroke=\"#000000\" d=\"M113.9519,-274.5063C95.9404,-237.105 53.3893,-148.7468 35.3337,-111.254\"/>\n<text text-anchor=\"middle\" x=\"70.6428\" y=\"-196.6801\" font-family=\"Times,serif\" font-size=\"14.00\" fill=\"#000000\">4</text>\n</g>\n<!-- E -->\n<g id=\"node5\" class=\"node\">\n<title>E</title>\n<ellipse fill=\"none\" stroke=\"#000000\" cx=\"27\" cy=\"-215.7615\" rx=\"27\" ry=\"18\"/>\n<text text-anchor=\"middle\" x=\"27\" y=\"-212.0615\" font-family=\"Times,serif\" font-size=\"14.00\" fill=\"#000000\">E</text>\n</g>\n<!-- E&#45;&gt;B -->\n<g id=\"edge6\" class=\"edge\">\n<title>E&#45;&gt;B</title>\n<path fill=\"none\" stroke=\"#000000\" d=\"M35.285,-198.5574C53.2965,-161.1561 95.8476,-72.7979 113.9032,-35.3051\"/>\n<text text-anchor=\"middle\" x=\"70.5941\" y=\"-120.7313\" font-family=\"Times,serif\" font-size=\"14.00\" fill=\"#000000\">3</text>\n</g>\n<!-- E&#45;&gt;C -->\n<g id=\"edge7\" class=\"edge\">\n<title>E&#45;&gt;C</title>\n<path fill=\"none\" stroke=\"#000000\" d=\"M27,-197.5249C27,-174.5607 27,-135.333 27,-112.3101\"/>\n<text text-anchor=\"middle\" x=\"23\" y=\"-158.7175\" font-family=\"Times,serif\" font-size=\"14.00\" fill=\"#000000\">3</text>\n</g>\n<!-- E&#45;&gt;D -->\n<g id=\"edge8\" class=\"edge\">\n<title>E&#45;&gt;D</title>\n<path fill=\"none\" stroke=\"#000000\" d=\"M44.4679,-229.6917C61.6517,-243.3953 87.7343,-264.1954 104.8797,-277.8685\"/>\n<text text-anchor=\"middle\" x=\"70.6738\" y=\"-257.5801\" font-family=\"Times,serif\" font-size=\"14.00\" fill=\"#000000\">3</text>\n</g>\n<!-- F -->\n<g id=\"node6\" class=\"node\">\n<title>F</title>\n<ellipse fill=\"none\" stroke=\"#000000\" cx=\"293.8479\" cy=\"-154.8552\" rx=\"27\" ry=\"18\"/>\n<text text-anchor=\"middle\" x=\"293.8479\" y=\"-151.1552\" font-family=\"Times,serif\" font-size=\"14.00\" fill=\"#000000\">F</text>\n</g>\n<!-- F&#45;&gt;C -->\n<g id=\"edge9\" class=\"edge\">\n<title>F&#45;&gt;C</title>\n<path fill=\"none\" stroke=\"#000000\" d=\"M268.2614,-149.0152C217.3863,-137.4033 104.0326,-111.5311 52.9011,-99.8607\"/>\n<text text-anchor=\"middle\" x=\"156.5812\" y=\"-128.2379\" font-family=\"Times,serif\" font-size=\"14.00\" fill=\"#000000\">5</text>\n</g>\n<!-- F&#45;&gt;D -->\n<g id=\"edge10\" class=\"edge\">\n<title>F&#45;&gt;D</title>\n<path fill=\"none\" stroke=\"#000000\" d=\"M276.4485,-168.7307C243.5567,-194.961 172.6096,-251.5395 139.6823,-277.7981\"/>\n<text text-anchor=\"middle\" x=\"204.0654\" y=\"-227.0644\" font-family=\"Times,serif\" font-size=\"14.00\" fill=\"#000000\">6</text>\n</g>\n<!-- F&#45;&gt;E -->\n<g id=\"edge11\" class=\"edge\">\n<title>F&#45;&gt;E</title>\n<path fill=\"none\" stroke=\"#000000\" d=\"M268.2614,-160.6951C217.3863,-172.307 104.0326,-198.1793 52.9011,-209.8497\"/>\n</g>\n<!-- G -->\n<g id=\"node7\" class=\"node\">\n<title>G</title>\n<ellipse fill=\"none\" stroke=\"#000000\" cx=\"240.9954\" cy=\"-264.6045\" rx=\"27\" ry=\"18\"/>\n<text text-anchor=\"middle\" x=\"240.9954\" y=\"-260.9045\" font-family=\"Times,serif\" font-size=\"14.00\" fill=\"#000000\">G</text>\n</g>\n<!-- G&#45;&gt;D -->\n<g id=\"edge12\" class=\"edge\">\n<title>G&#45;&gt;D</title>\n<path fill=\"none\" stroke=\"#000000\" d=\"M215.2265,-270.4861C195.3068,-275.0326 167.8625,-281.2966 147.9554,-285.8403\"/>\n<text text-anchor=\"middle\" x=\"177.591\" y=\"-281.9632\" font-family=\"Times,serif\" font-size=\"14.00\" fill=\"#000000\">5</text>\n</g>\n<!-- G&#45;&gt;F -->\n<g id=\"edge13\" class=\"edge\">\n<title>G&#45;&gt;F</title>\n<path fill=\"none\" stroke=\"#000000\" d=\"M249.2536,-247.4562C259.1247,-226.9586 275.5509,-192.8492 285.4732,-172.2453\"/>\n<text text-anchor=\"middle\" x=\"263.3634\" y=\"-213.6507\" font-family=\"Times,serif\" font-size=\"14.00\" fill=\"#000000\">2</text>\n</g>\n</g>\n</svg>\n"
          },
          "metadata": {
            "tags": []
          },
          "execution_count": 21
        }
      ]
    },
    {
      "cell_type": "code",
      "metadata": {
        "id": "0aUdXF6FN4q7"
      },
      "source": [
        "# ici, le graphe est implémenté sous forme d'un dictionnaire de dictionnaires au lieu d'un dictionnaire de listes\n",
        "\n",
        "Graphe = {\n",
        "\t'A':{'B':2, 'C':1},\n",
        "\t'B':{'A':2, 'C':2, 'D':1, 'E':3},\n",
        "\t'C':{'A':1, 'B':2, 'D':4, 'E':3, 'F':5},\n",
        "\t'D':{'B':1, 'C':4, 'E':3, 'F':6, 'G':5},\n",
        "\t'E':{'B':3, 'C':3, 'D':3, 'F':1},\n",
        "\t'F':{'C':5, 'D':6, 'E':1, 'G':2},\n",
        "\t'G':{'D':5, 'F':2}\n",
        "\t}\n"
      ],
      "execution_count": null,
      "outputs": []
    },
    {
      "cell_type": "code",
      "metadata": {
        "colab": {
          "base_uri": "https://localhost:8080/"
        },
        "id": "Wnhl9fkUjgSn",
        "outputId": "81edb222-b987-4952-b2eb-370787345a52"
      },
      "source": [
        "from math import inf # inf désigne l'infini\n",
        "\n",
        "def mini(listeSommets, marque):\n",
        "\t\"\"\"\n",
        "\tRenvoie le sommet de listeSommets\n",
        "\tayant la plus petite marque.\n",
        "\t\"\"\"\n",
        "\tmarquePlusPetite = inf # infini est plus grand que n'importe quel flottant\n",
        "\tfor s in listeSommets:                  # \n",
        "\t\tif marque[s] < marquePlusPetite:    #\n",
        "\t\t\tmarquePlusPetite = marque[s]    #\n",
        "\t\t\tsommetPlusPetit = s             #\n",
        "\treturn sommetPlusPetit                  #\n",
        "\t\n",
        "\t\n",
        "def dijkstra(graphe, depart, arrivee):\n",
        "    ''' entrées :\n",
        "        sorties :\n",
        "        rôle :\n",
        "    '''\n",
        "    # initialisation\n",
        "    marque = {}\n",
        "    for sommet in graphe:       #\n",
        "        marque[sommet] = inf    #\n",
        "    marque[depart] = 0          #\n",
        "\n",
        "    non_selectionnes = [sommet for sommet in graphe] # non_selectionnes est...\n",
        "\n",
        "    pere = {}\n",
        "    pere[depart] = None\n",
        "\n",
        "    # boucle principale:\n",
        "    while non_selectionnes:\n",
        "        # sélection:\n",
        "        s = mini(non_selectionnes, marque)  #\n",
        "        if s == arrivee: break              # Ceci est un artifice Python permettant de ne pas aller jusqu'au bout des boucles \n",
        "                                            # quand on sait que ce n'est pas utile\n",
        "        non_selectionnes.remove(s)          #\n",
        "\n",
        "        # mise à  jour des voisins du sommet sélectionné:\n",
        "        VoisinsAVisiter = [sommet for sommet in graphe[s] if sommet in non_selectionnes]    # liste définie par compréhension\n",
        "                                                                                            # contenu : ...\n",
        "        for sommet in VoisinsAVisiter:          #\n",
        "            p = marque[s] + graphe[s][sommet]   #\n",
        "            if p < marque[sommet]:              #\n",
        "                marque[sommet] = p\n",
        "                pere[sommet] = s\n",
        "    return marque, pere\n",
        "\t \n",
        "\t\n",
        "def affichageCheminMin(graphe, depart, arrivee):\n",
        "    '''\n",
        "    entrée :\n",
        "    sorties :\n",
        "    rôle :\n",
        "    '''\n",
        "\tdistance, pere = dijkstra(Graphe, depart, arrivee)  #\n",
        "\tprint(\"La distance de {} à {} est de longueur {}.\".format(depart, arrivee, distance[arrivee]))\n",
        "\tchemin = arrivee\n",
        "\tsommet = arrivee\n",
        "\twhile pere[sommet] != None:                         #\n",
        "\t\tchemin = pere[sommet] + chemin                  #\n",
        "\t\tsommet = pere[sommet]                           #\n",
        "\tprint()\n",
        "\tprint(\"Le chemin de {} à {} est : {}.\".format(depart, arrivee,chemin))\n",
        " \n",
        "\n",
        "affichageCheminMin(Graphe, 'A', 'G')"
      ],
      "execution_count": null,
      "outputs": [
        {
          "output_type": "stream",
          "text": [
            "La distance de A à G est de longueur 7.\n",
            "\n",
            "Le chemin de A à G est : ACEFG.\n"
          ],
          "name": "stdout"
        }
      ]
    },
    {
      "cell_type": "markdown",
      "metadata": {
        "id": "M0zlbQSMxGvX"
      },
      "source": [
        "### **Schématisation de l'algorithme**\n",
        "\n",
        "Représenter l'algorithme de Dijkstra complet par un organigramme."
      ]
    },
    {
      "cell_type": "code",
      "metadata": {
        "id": "IcS_1bjrZPwN",
        "colab": {
          "base_uri": "https://localhost:8080/"
        },
        "outputId": "c857a4a4-e3a6-4f80-dbae-9d073986ebdc"
      },
      "source": [
        "# Réécriture du Graphe en un format adapté pour la visulisation avec le fonction show\n",
        "for nd1 in Graphe:\n",
        "    Graphe[nd1] = list(Graphe[nd1].items())\n",
        "Graphe"
      ],
      "execution_count": null,
      "outputs": [
        {
          "output_type": "execute_result",
          "data": {
            "text/plain": [
              "{'A': [('B', 2), ('C', 1)],\n",
              " 'B': [('A', 2), ('C', 2), ('D', 1), ('E', 3)],\n",
              " 'C': [('A', 1), ('B', 2), ('D', 4), ('E', 3), ('F', 5)],\n",
              " 'D': [('B', 1), ('C', 4), ('E', 3), ('F', 6), ('G', 5)],\n",
              " 'E': [('B', 3), ('C', 3), ('D', 3), ('F', 1)],\n",
              " 'F': [('C', 5), ('D', 6), ('E', 1), ('G', 2)],\n",
              " 'G': [('D', 5), ('F', 2)]}"
            ]
          },
          "metadata": {
            "tags": []
          },
          "execution_count": 25
        }
      ]
    },
    {
      "cell_type": "code",
      "metadata": {
        "colab": {
          "base_uri": "https://localhost:8080/",
          "height": 445
        },
        "id": "NxXL07UDBM0S",
        "outputId": "c95fb49d-7862-497c-94a4-90d9ccd6f962"
      },
      "source": [
        "show(Graphe)"
      ],
      "execution_count": null,
      "outputs": [
        {
          "output_type": "execute_result",
          "data": {
            "text/plain": [
              "<graphviz.dot.Digraph at 0x7f98e26d3dd0>"
            ],
            "image/svg+xml": "<?xml version=\"1.0\" encoding=\"UTF-8\" standalone=\"no\"?>\n<!DOCTYPE svg PUBLIC \"-//W3C//DTD SVG 1.1//EN\"\n \"http://www.w3.org/Graphics/SVG/1.1/DTD/svg11.dtd\">\n<!-- Generated by graphviz version 2.40.1 (20161225.0304)\n -->\n<!-- Title: %3 Pages: 1 -->\n<svg width=\"329pt\" height=\"318pt\"\n viewBox=\"0.00 0.00 328.85 317.71\" xmlns=\"http://www.w3.org/2000/svg\" xmlns:xlink=\"http://www.w3.org/1999/xlink\">\n<g id=\"graph0\" class=\"graph\" transform=\"scale(1 1) rotate(0) translate(4 313.7103)\">\n<title>%3</title>\n<polygon fill=\"#ffffff\" stroke=\"transparent\" points=\"-4,4 -4,-313.7103 324.8479,-313.7103 324.8479,4 -4,4\"/>\n<!-- A -->\n<g id=\"node1\" class=\"node\">\n<title>A</title>\n<ellipse fill=\"none\" stroke=\"#000000\" cx=\"240.9954\" cy=\"-45.1058\" rx=\"27\" ry=\"18\"/>\n<text text-anchor=\"middle\" x=\"240.9954\" y=\"-41.4058\" font-family=\"Times,serif\" font-size=\"14.00\" fill=\"#000000\">A</text>\n</g>\n<!-- B -->\n<g id=\"node2\" class=\"node\">\n<title>B</title>\n<ellipse fill=\"none\" stroke=\"#000000\" cx=\"122.2369\" cy=\"-18\" rx=\"27\" ry=\"18\"/>\n<text text-anchor=\"middle\" x=\"122.2369\" y=\"-14.3\" font-family=\"Times,serif\" font-size=\"14.00\" fill=\"#000000\">B</text>\n</g>\n<!-- B&#45;&gt;A -->\n<g id=\"edge1\" class=\"edge\">\n<title>B&#45;&gt;A</title>\n<path fill=\"none\" stroke=\"#000000\" d=\"M148.0057,-23.8816C167.9255,-28.4281 195.3697,-34.6921 215.2768,-39.2358\"/>\n<text text-anchor=\"middle\" x=\"177.6413\" y=\"-35.3587\" font-family=\"Times,serif\" font-size=\"14.00\" fill=\"#000000\">2</text>\n</g>\n<!-- C -->\n<g id=\"node3\" class=\"node\">\n<title>C</title>\n<ellipse fill=\"none\" stroke=\"#000000\" cx=\"27\" cy=\"-93.9489\" rx=\"27\" ry=\"18\"/>\n<text text-anchor=\"middle\" x=\"27\" y=\"-90.2489\" font-family=\"Times,serif\" font-size=\"14.00\" fill=\"#000000\">C</text>\n</g>\n<!-- C&#45;&gt;A -->\n<g id=\"edge2\" class=\"edge\">\n<title>C&#45;&gt;A</title>\n<path fill=\"none\" stroke=\"#000000\" d=\"M52.8128,-88.0573C94.0549,-78.6441 174.3351,-60.3206 215.4241,-50.9423\"/>\n</g>\n<!-- C&#45;&gt;B -->\n<g id=\"edge3\" class=\"edge\">\n<title>C&#45;&gt;B</title>\n<path fill=\"none\" stroke=\"#000000\" d=\"M44.4679,-80.0187C61.6517,-66.3151 87.7343,-45.5149 104.8797,-31.8419\"/>\n<text text-anchor=\"middle\" x=\"70.6738\" y=\"-59.7303\" font-family=\"Times,serif\" font-size=\"14.00\" fill=\"#000000\">2</text>\n</g>\n<!-- D -->\n<g id=\"node4\" class=\"node\">\n<title>D</title>\n<ellipse fill=\"none\" stroke=\"#000000\" cx=\"122.2369\" cy=\"-291.7103\" rx=\"27\" ry=\"18\"/>\n<text text-anchor=\"middle\" x=\"122.2369\" y=\"-288.0103\" font-family=\"Times,serif\" font-size=\"14.00\" fill=\"#000000\">D</text>\n</g>\n<!-- D&#45;&gt;B -->\n<g id=\"edge4\" class=\"edge\">\n<title>D&#45;&gt;B</title>\n<path fill=\"none\" stroke=\"#000000\" d=\"M122.2369,-273.3264C122.2369,-223.4639 122.2369,-86.0726 122.2369,-36.3039\"/>\n</g>\n<!-- D&#45;&gt;C -->\n<g id=\"edge5\" class=\"edge\">\n<title>D&#45;&gt;C</title>\n<path fill=\"none\" stroke=\"#000000\" d=\"M113.9519,-274.5063C95.9404,-237.105 53.3893,-148.7468 35.3337,-111.254\"/>\n<text text-anchor=\"middle\" x=\"70.6428\" y=\"-196.6801\" font-family=\"Times,serif\" font-size=\"14.00\" fill=\"#000000\">4</text>\n</g>\n<!-- E -->\n<g id=\"node5\" class=\"node\">\n<title>E</title>\n<ellipse fill=\"none\" stroke=\"#000000\" cx=\"27\" cy=\"-215.7615\" rx=\"27\" ry=\"18\"/>\n<text text-anchor=\"middle\" x=\"27\" y=\"-212.0615\" font-family=\"Times,serif\" font-size=\"14.00\" fill=\"#000000\">E</text>\n</g>\n<!-- E&#45;&gt;B -->\n<g id=\"edge6\" class=\"edge\">\n<title>E&#45;&gt;B</title>\n<path fill=\"none\" stroke=\"#000000\" d=\"M35.285,-198.5574C53.2965,-161.1561 95.8476,-72.7979 113.9032,-35.3051\"/>\n<text text-anchor=\"middle\" x=\"70.5941\" y=\"-120.7313\" font-family=\"Times,serif\" font-size=\"14.00\" fill=\"#000000\">3</text>\n</g>\n<!-- E&#45;&gt;C -->\n<g id=\"edge7\" class=\"edge\">\n<title>E&#45;&gt;C</title>\n<path fill=\"none\" stroke=\"#000000\" d=\"M27,-197.5249C27,-174.5607 27,-135.333 27,-112.3101\"/>\n<text text-anchor=\"middle\" x=\"23\" y=\"-158.7175\" font-family=\"Times,serif\" font-size=\"14.00\" fill=\"#000000\">3</text>\n</g>\n<!-- E&#45;&gt;D -->\n<g id=\"edge8\" class=\"edge\">\n<title>E&#45;&gt;D</title>\n<path fill=\"none\" stroke=\"#000000\" d=\"M44.4679,-229.6917C61.6517,-243.3953 87.7343,-264.1954 104.8797,-277.8685\"/>\n<text text-anchor=\"middle\" x=\"70.6738\" y=\"-257.5801\" font-family=\"Times,serif\" font-size=\"14.00\" fill=\"#000000\">3</text>\n</g>\n<!-- F -->\n<g id=\"node6\" class=\"node\">\n<title>F</title>\n<ellipse fill=\"none\" stroke=\"#000000\" cx=\"293.8479\" cy=\"-154.8552\" rx=\"27\" ry=\"18\"/>\n<text text-anchor=\"middle\" x=\"293.8479\" y=\"-151.1552\" font-family=\"Times,serif\" font-size=\"14.00\" fill=\"#000000\">F</text>\n</g>\n<!-- F&#45;&gt;C -->\n<g id=\"edge9\" class=\"edge\">\n<title>F&#45;&gt;C</title>\n<path fill=\"none\" stroke=\"#000000\" d=\"M268.2614,-149.0152C217.3863,-137.4033 104.0326,-111.5311 52.9011,-99.8607\"/>\n<text text-anchor=\"middle\" x=\"156.5812\" y=\"-128.2379\" font-family=\"Times,serif\" font-size=\"14.00\" fill=\"#000000\">5</text>\n</g>\n<!-- F&#45;&gt;D -->\n<g id=\"edge10\" class=\"edge\">\n<title>F&#45;&gt;D</title>\n<path fill=\"none\" stroke=\"#000000\" d=\"M276.4485,-168.7307C243.5567,-194.961 172.6096,-251.5395 139.6823,-277.7981\"/>\n<text text-anchor=\"middle\" x=\"204.0654\" y=\"-227.0644\" font-family=\"Times,serif\" font-size=\"14.00\" fill=\"#000000\">6</text>\n</g>\n<!-- F&#45;&gt;E -->\n<g id=\"edge11\" class=\"edge\">\n<title>F&#45;&gt;E</title>\n<path fill=\"none\" stroke=\"#000000\" d=\"M268.2614,-160.6951C217.3863,-172.307 104.0326,-198.1793 52.9011,-209.8497\"/>\n</g>\n<!-- G -->\n<g id=\"node7\" class=\"node\">\n<title>G</title>\n<ellipse fill=\"none\" stroke=\"#000000\" cx=\"240.9954\" cy=\"-264.6045\" rx=\"27\" ry=\"18\"/>\n<text text-anchor=\"middle\" x=\"240.9954\" y=\"-260.9045\" font-family=\"Times,serif\" font-size=\"14.00\" fill=\"#000000\">G</text>\n</g>\n<!-- G&#45;&gt;D -->\n<g id=\"edge12\" class=\"edge\">\n<title>G&#45;&gt;D</title>\n<path fill=\"none\" stroke=\"#000000\" d=\"M215.2265,-270.4861C195.3068,-275.0326 167.8625,-281.2966 147.9554,-285.8403\"/>\n<text text-anchor=\"middle\" x=\"177.591\" y=\"-281.9632\" font-family=\"Times,serif\" font-size=\"14.00\" fill=\"#000000\">5</text>\n</g>\n<!-- G&#45;&gt;F -->\n<g id=\"edge13\" class=\"edge\">\n<title>G&#45;&gt;F</title>\n<path fill=\"none\" stroke=\"#000000\" d=\"M249.2536,-247.4562C259.1247,-226.9586 275.5509,-192.8492 285.4732,-172.2453\"/>\n<text text-anchor=\"middle\" x=\"263.3634\" y=\"-213.6507\" font-family=\"Times,serif\" font-size=\"14.00\" fill=\"#000000\">2</text>\n</g>\n</g>\n</svg>\n"
          },
          "metadata": {
            "tags": []
          },
          "execution_count": 26
        }
      ]
    },
    {
      "cell_type": "code",
      "metadata": {
        "id": "KX3pFS4Q4FY8"
      },
      "source": [
        ""
      ],
      "execution_count": null,
      "outputs": []
    }
  ]
}