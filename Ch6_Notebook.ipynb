{
  "nbformat": 4,
  "nbformat_minor": 0,
  "metadata": {
    "colab": {
      "name": "Ch6-Notebook.ipynb",
      "provenance": [],
      "collapsed_sections": [],
      "toc_visible": true,
      "authorship_tag": "ABX9TyMK5yNL45BE7b+4WFKOjCO0",
      "include_colab_link": true
    },
    "kernelspec": {
      "name": "python3",
      "display_name": "Python 3"
    },
    "language_info": {
      "name": "python"
    }
  },
  "cells": [
    {
      "cell_type": "markdown",
      "metadata": {
        "id": "view-in-github",
        "colab_type": "text"
      },
      "source": [
        "<a href=\"https://colab.research.google.com/github/othoni-hub/ECG1/blob/main/Ch6_Notebook.ipynb\" target=\"_parent\"><img src=\"https://colab.research.google.com/assets/colab-badge.svg\" alt=\"Open In Colab\"/></a>"
      ]
    },
    {
      "cell_type": "markdown",
      "metadata": {
        "id": "eNXADXXZAGvh"
      },
      "source": [
        "# **CPGE-ECG1** \n",
        "<img src=\"https://drive.google.com/uc?id=12Wo3LubGGT4qOvYFAuLP4CyCuwjKNVuk\" width=\"230\" height=\"150\" align = \"right\"/>\n",
        "\n",
        "## **Ch6 - Notebook : Statistiques**\n",
        "\n",
        "\n",
        "\n",
        "\n",
        "**O.Thöni - Lycée Saint-Charles Sainte Croix - LE MANS**"
      ]
    },
    {
      "cell_type": "markdown",
      "metadata": {
        "id": "t5pP6sscRWjo"
      },
      "source": [
        "# **Découverte de la bibliothèque pandas**\n",
        "\n",
        "<img src=\"https://mymltalks.com/wp-content/uploads/2021/01/pandas.jpg\" width=\"280\" height=\"150\" align = \"right\"/>\n",
        "\n",
        "Pandas est une bibliothèque conçue pour les traitements statistiques.\n",
        "\n",
        "Elle vient avec deux nouveau types de données construits :\n",
        "* la **\"série\"**, uni-dimensionnelle, c'est-à-dire, à une seule variable\n",
        "* le **\"DataFrame\"**, multi-dimensionnel : pour les mêmes modalités, on observe plusieurs variables.\n",
        "\n",
        "Ces nouveaux objets sont accompagnés de leur lot de fonctions et de méthodes, en voici quelques une, à l'occasion du traitement des exemples du cours."
      ]
    },
    {
      "cell_type": "markdown",
      "metadata": {
        "id": "Z_jRUFAjKaHZ"
      },
      "source": [
        "# **Étude d'une série qualitative nominale**\n",
        "## **Exemple 1 du cours : état civil d'une population de 20 personnes**"
      ]
    },
    {
      "cell_type": "markdown",
      "metadata": {
        "id": "OdB3cu6y_x5L"
      },
      "source": [
        "**à retenir :**\n",
        "* **Constitution des colonnes du tableau statistique :**\n",
        "    * **Effectifs**\n",
        "    * **Fréquences**\n",
        "* **Fabrication du DataFrame *Pandas* récapitulant ces variables en colonnes, indexé par les modalités**\n",
        "* **représentations graphiques :**\n",
        "    * **Diagramme en barres**\n",
        "    * **Camembert**"
      ]
    },
    {
      "cell_type": "code",
      "metadata": {
        "id": "UmZQ7msnSG1B"
      },
      "source": [
        "import numpy as np\n",
        "import pandas as pd\n",
        "import matplotlib.pyplot as plt"
      ],
      "execution_count": 1,
      "outputs": []
    },
    {
      "cell_type": "code",
      "metadata": {
        "colab": {
          "base_uri": "https://localhost:8080/"
        },
        "id": "8VBbOqnwRszL",
        "outputId": "6bcf7f02-9d67-4936-f815-6c8ac8c759f5"
      },
      "source": [
        "X = [\"M\", \"M\", \"D\", \"C\", \"C\", \"M\", \"C\", \"C\", \"C\", \"M\", \"C\", \"M\", \"V\", \"M\", \"V\", \"D\", \"C\", \"C\", \"C\", \"M\"]\n",
        "n = len(X)\n",
        "\n",
        "Omega = set([ x for x in X])\n",
        "Liste_Omega = list(Omega)\n",
        "\n",
        "Effectifs = [X.count(k) for k in Omega] # liste des effectifs de chaque modalité\n",
        "\n",
        "data = dict({}) # création d'un dictionnaire clés : modalités, valeurs : effectifs\n",
        "for i in range(len(Omega)) :\n",
        "    data[Liste_Omega[i]] = Effectifs[i]\n",
        "data # data est un dictionnaire dont les clés sont les valeurs de X et les valeurs leur effectif dans X\n",
        "\n",
        "# autre commande possible :\n",
        "# data = dict(zip(Omega,Effectifs))"
      ],
      "execution_count": 2,
      "outputs": [
        {
          "output_type": "execute_result",
          "data": {
            "text/plain": [
              "{'C': 9, 'D': 2, 'M': 7, 'V': 2}"
            ]
          },
          "metadata": {
            "tags": []
          },
          "execution_count": 2
        }
      ]
    },
    {
      "cell_type": "code",
      "metadata": {
        "colab": {
          "base_uri": "https://localhost:8080/",
          "height": 81
        },
        "id": "2nG4u9coXRzR",
        "outputId": "0fd37772-b86d-43d8-8219-200a6934e6be"
      },
      "source": [
        "df = pd.DataFrame([data]) # transformation du dictionnaire en DataFrame pandas\n",
        "df"
      ],
      "execution_count": 3,
      "outputs": [
        {
          "output_type": "execute_result",
          "data": {
            "text/html": [
              "<div>\n",
              "<style scoped>\n",
              "    .dataframe tbody tr th:only-of-type {\n",
              "        vertical-align: middle;\n",
              "    }\n",
              "\n",
              "    .dataframe tbody tr th {\n",
              "        vertical-align: top;\n",
              "    }\n",
              "\n",
              "    .dataframe thead th {\n",
              "        text-align: right;\n",
              "    }\n",
              "</style>\n",
              "<table border=\"1\" class=\"dataframe\">\n",
              "  <thead>\n",
              "    <tr style=\"text-align: right;\">\n",
              "      <th></th>\n",
              "      <th>D</th>\n",
              "      <th>M</th>\n",
              "      <th>V</th>\n",
              "      <th>C</th>\n",
              "    </tr>\n",
              "  </thead>\n",
              "  <tbody>\n",
              "    <tr>\n",
              "      <th>0</th>\n",
              "      <td>2</td>\n",
              "      <td>7</td>\n",
              "      <td>2</td>\n",
              "      <td>9</td>\n",
              "    </tr>\n",
              "  </tbody>\n",
              "</table>\n",
              "</div>"
            ],
            "text/plain": [
              "   D  M  V  C\n",
              "0  2  7  2  9"
            ]
          },
          "metadata": {
            "tags": []
          },
          "execution_count": 3
        }
      ]
    },
    {
      "cell_type": "code",
      "metadata": {
        "id": "xRO2AvgEADVv",
        "colab": {
          "base_uri": "https://localhost:8080/"
        },
        "outputId": "6ec87e96-617d-42dd-c6f5-19fef26d5230"
      },
      "source": [
        "serie = pd.Series(Effectifs, index = Omega) # format plus adapté à notre exemple\n",
        "serie"
      ],
      "execution_count": 4,
      "outputs": [
        {
          "output_type": "execute_result",
          "data": {
            "text/plain": [
              "D    2\n",
              "M    7\n",
              "V    2\n",
              "C    9\n",
              "dtype: int64"
            ]
          },
          "metadata": {
            "tags": []
          },
          "execution_count": 4
        }
      ]
    },
    {
      "cell_type": "markdown",
      "metadata": {
        "id": "Ag3axusH2DYI"
      },
      "source": [
        "## **tableau statistique**"
      ]
    },
    {
      "cell_type": "code",
      "metadata": {
        "colab": {
          "base_uri": "https://localhost:8080/",
          "height": 175
        },
        "id": "gF3BP6ybe2SC",
        "outputId": "13d57bcd-e99d-4c66-f828-68dc96bb64c0"
      },
      "source": [
        "df2 = pd.DataFrame(serie)\n",
        "df2"
      ],
      "execution_count": 5,
      "outputs": [
        {
          "output_type": "execute_result",
          "data": {
            "text/html": [
              "<div>\n",
              "<style scoped>\n",
              "    .dataframe tbody tr th:only-of-type {\n",
              "        vertical-align: middle;\n",
              "    }\n",
              "\n",
              "    .dataframe tbody tr th {\n",
              "        vertical-align: top;\n",
              "    }\n",
              "\n",
              "    .dataframe thead th {\n",
              "        text-align: right;\n",
              "    }\n",
              "</style>\n",
              "<table border=\"1\" class=\"dataframe\">\n",
              "  <thead>\n",
              "    <tr style=\"text-align: right;\">\n",
              "      <th></th>\n",
              "      <th>0</th>\n",
              "    </tr>\n",
              "  </thead>\n",
              "  <tbody>\n",
              "    <tr>\n",
              "      <th>D</th>\n",
              "      <td>2</td>\n",
              "    </tr>\n",
              "    <tr>\n",
              "      <th>M</th>\n",
              "      <td>7</td>\n",
              "    </tr>\n",
              "    <tr>\n",
              "      <th>V</th>\n",
              "      <td>2</td>\n",
              "    </tr>\n",
              "    <tr>\n",
              "      <th>C</th>\n",
              "      <td>9</td>\n",
              "    </tr>\n",
              "  </tbody>\n",
              "</table>\n",
              "</div>"
            ],
            "text/plain": [
              "   0\n",
              "D  2\n",
              "M  7\n",
              "V  2\n",
              "C  9"
            ]
          },
          "metadata": {
            "tags": []
          },
          "execution_count": 5
        }
      ]
    },
    {
      "cell_type": "code",
      "metadata": {
        "colab": {
          "base_uri": "https://localhost:8080/",
          "height": 175
        },
        "id": "dnRzOCO6gHRQ",
        "outputId": "63c4d6da-6976-4901-f6c3-fba13023bd82"
      },
      "source": [
        "df2.columns = ['Eff']\n",
        "df2"
      ],
      "execution_count": 6,
      "outputs": [
        {
          "output_type": "execute_result",
          "data": {
            "text/html": [
              "<div>\n",
              "<style scoped>\n",
              "    .dataframe tbody tr th:only-of-type {\n",
              "        vertical-align: middle;\n",
              "    }\n",
              "\n",
              "    .dataframe tbody tr th {\n",
              "        vertical-align: top;\n",
              "    }\n",
              "\n",
              "    .dataframe thead th {\n",
              "        text-align: right;\n",
              "    }\n",
              "</style>\n",
              "<table border=\"1\" class=\"dataframe\">\n",
              "  <thead>\n",
              "    <tr style=\"text-align: right;\">\n",
              "      <th></th>\n",
              "      <th>Eff</th>\n",
              "    </tr>\n",
              "  </thead>\n",
              "  <tbody>\n",
              "    <tr>\n",
              "      <th>D</th>\n",
              "      <td>2</td>\n",
              "    </tr>\n",
              "    <tr>\n",
              "      <th>M</th>\n",
              "      <td>7</td>\n",
              "    </tr>\n",
              "    <tr>\n",
              "      <th>V</th>\n",
              "      <td>2</td>\n",
              "    </tr>\n",
              "    <tr>\n",
              "      <th>C</th>\n",
              "      <td>9</td>\n",
              "    </tr>\n",
              "  </tbody>\n",
              "</table>\n",
              "</div>"
            ],
            "text/plain": [
              "   Eff\n",
              "D    2\n",
              "M    7\n",
              "V    2\n",
              "C    9"
            ]
          },
          "metadata": {
            "tags": []
          },
          "execution_count": 6
        }
      ]
    },
    {
      "cell_type": "markdown",
      "metadata": {
        "id": "pJK8tw7Xhl2X"
      },
      "source": [
        "* **Complément du tableau statistique avec les fréquences**"
      ]
    },
    {
      "cell_type": "code",
      "metadata": {
        "colab": {
          "base_uri": "https://localhost:8080/",
          "height": 175
        },
        "id": "ULHpZsNUggS0",
        "outputId": "02a0dae8-3826-4f5d-a5a6-fb21ce33f2d1"
      },
      "source": [
        "Frequences = [e / n for e in Effectifs]\n",
        "df2.insert(1,\"Freq\" , Frequences)\n",
        "df2"
      ],
      "execution_count": 7,
      "outputs": [
        {
          "output_type": "execute_result",
          "data": {
            "text/html": [
              "<div>\n",
              "<style scoped>\n",
              "    .dataframe tbody tr th:only-of-type {\n",
              "        vertical-align: middle;\n",
              "    }\n",
              "\n",
              "    .dataframe tbody tr th {\n",
              "        vertical-align: top;\n",
              "    }\n",
              "\n",
              "    .dataframe thead th {\n",
              "        text-align: right;\n",
              "    }\n",
              "</style>\n",
              "<table border=\"1\" class=\"dataframe\">\n",
              "  <thead>\n",
              "    <tr style=\"text-align: right;\">\n",
              "      <th></th>\n",
              "      <th>Eff</th>\n",
              "      <th>Freq</th>\n",
              "    </tr>\n",
              "  </thead>\n",
              "  <tbody>\n",
              "    <tr>\n",
              "      <th>D</th>\n",
              "      <td>2</td>\n",
              "      <td>0.10</td>\n",
              "    </tr>\n",
              "    <tr>\n",
              "      <th>M</th>\n",
              "      <td>7</td>\n",
              "      <td>0.35</td>\n",
              "    </tr>\n",
              "    <tr>\n",
              "      <th>V</th>\n",
              "      <td>2</td>\n",
              "      <td>0.10</td>\n",
              "    </tr>\n",
              "    <tr>\n",
              "      <th>C</th>\n",
              "      <td>9</td>\n",
              "      <td>0.45</td>\n",
              "    </tr>\n",
              "  </tbody>\n",
              "</table>\n",
              "</div>"
            ],
            "text/plain": [
              "   Eff  Freq\n",
              "D    2  0.10\n",
              "M    7  0.35\n",
              "V    2  0.10\n",
              "C    9  0.45"
            ]
          },
          "metadata": {
            "tags": []
          },
          "execution_count": 7
        }
      ]
    },
    {
      "cell_type": "markdown",
      "metadata": {
        "id": "LU2i_K2gMyIy"
      },
      "source": [
        "**Écriture directe du DataFrame**\n"
      ]
    },
    {
      "cell_type": "code",
      "metadata": {
        "colab": {
          "base_uri": "https://localhost:8080/",
          "height": 175
        },
        "id": "7j2W1QndM4de",
        "outputId": "c2034340-ab77-46eb-900e-347488e22f4b"
      },
      "source": [
        "X = [\"M\", \"M\", \"D\", \"C\", \"C\", \"M\", \"C\", \"C\", \"C\", \"M\", \"C\", \"M\", \"V\", \"M\", \"V\", \"D\", \"C\", \"C\", \"C\", \"M\"]\n",
        "n = len(X)\n",
        "\n",
        "Omega = set([ x for x in X])\n",
        "Liste_Omega = list(Omega)\n",
        "\n",
        "Effectifs = np.array([X.count(k) for k in Omega]) # liste des effectifs de chaque modalité,transformée en tableau numpy, pour pouvoir calculer dessus\n",
        "Frequences = Effectifs / n\n",
        "\n",
        "df = pd.DataFrame({ \"Eff\" : Effectifs, \"Freq\" : Frequences}, index = Omega)\n",
        "df"
      ],
      "execution_count": 8,
      "outputs": [
        {
          "output_type": "execute_result",
          "data": {
            "text/html": [
              "<div>\n",
              "<style scoped>\n",
              "    .dataframe tbody tr th:only-of-type {\n",
              "        vertical-align: middle;\n",
              "    }\n",
              "\n",
              "    .dataframe tbody tr th {\n",
              "        vertical-align: top;\n",
              "    }\n",
              "\n",
              "    .dataframe thead th {\n",
              "        text-align: right;\n",
              "    }\n",
              "</style>\n",
              "<table border=\"1\" class=\"dataframe\">\n",
              "  <thead>\n",
              "    <tr style=\"text-align: right;\">\n",
              "      <th></th>\n",
              "      <th>Eff</th>\n",
              "      <th>Freq</th>\n",
              "    </tr>\n",
              "  </thead>\n",
              "  <tbody>\n",
              "    <tr>\n",
              "      <th>D</th>\n",
              "      <td>2</td>\n",
              "      <td>0.10</td>\n",
              "    </tr>\n",
              "    <tr>\n",
              "      <th>M</th>\n",
              "      <td>7</td>\n",
              "      <td>0.35</td>\n",
              "    </tr>\n",
              "    <tr>\n",
              "      <th>V</th>\n",
              "      <td>2</td>\n",
              "      <td>0.10</td>\n",
              "    </tr>\n",
              "    <tr>\n",
              "      <th>C</th>\n",
              "      <td>9</td>\n",
              "      <td>0.45</td>\n",
              "    </tr>\n",
              "  </tbody>\n",
              "</table>\n",
              "</div>"
            ],
            "text/plain": [
              "   Eff  Freq\n",
              "D    2  0.10\n",
              "M    7  0.35\n",
              "V    2  0.10\n",
              "C    9  0.45"
            ]
          },
          "metadata": {
            "tags": []
          },
          "execution_count": 8
        }
      ]
    },
    {
      "cell_type": "markdown",
      "metadata": {
        "id": "7mf1ZlAh1-Qd"
      },
      "source": [
        "## **diagrammes**"
      ]
    },
    {
      "cell_type": "markdown",
      "metadata": {
        "id": "S0XD9Mq32XPh"
      },
      "source": [
        "### **diagramme en barres**"
      ]
    },
    {
      "cell_type": "code",
      "metadata": {
        "colab": {
          "base_uri": "https://localhost:8080/",
          "height": 264
        },
        "id": "2d-lKRjo4bJS",
        "outputId": "5b2d9148-5a72-48bd-a847-4fcf926e5ca4"
      },
      "source": [
        "diagramme_en_barres = df2['Eff'].plot.bar(color = \"deepskyblue\", edgecolor = \"black\")"
      ],
      "execution_count": 9,
      "outputs": [
        {
          "output_type": "display_data",
          "data": {
            "image/png": "[encoded data removed]",
            "text/plain": [
              "<Figure size 432x288 with 1 Axes>"
            ]
          },
          "metadata": {
            "tags": [],
            "needs_background": "light"
          }
        }
      ]
    },
    {
      "cell_type": "markdown",
      "metadata": {
        "id": "cT270vOZ2a0j"
      },
      "source": [
        "### **diagramme en camembert**"
      ]
    },
    {
      "cell_type": "code",
      "metadata": {
        "colab": {
          "base_uri": "https://localhost:8080/",
          "height": 248
        },
        "id": "5_Dh2qhE3yRT",
        "outputId": "25c6d7b3-654a-427d-fdff-d0313c8561da"
      },
      "source": [
        "camembert = df2['Eff'].plot.pie()"
      ],
      "execution_count": 10,
      "outputs": [
        {
          "output_type": "display_data",
          "data": {
            "image/png": "[encoded data removed]",
            "text/plain": [
              "<Figure size 432x288 with 1 Axes>"
            ]
          },
          "metadata": {
            "tags": []
          }
        }
      ]
    },
    {
      "cell_type": "markdown",
      "metadata": {
        "id": "2D8YUYiXKyGV"
      },
      "source": [
        "# **Étude d'une série qualitative ordinale**\n",
        "\n",
        "## **Exemple 2 du cours : \"niveau de diplôme dans une population de 50 personnes\".**"
      ]
    },
    {
      "cell_type": "markdown",
      "metadata": {
        "id": "B6mLpzzK_m0H"
      },
      "source": [
        "**à retenir :**\n",
        "* **Constitution des colonnes du tableau statistique :**\n",
        "    * **Effectifs**\n",
        "    * **Fréquences**\n",
        "    * **Effectifs cumulés**\n",
        "    * **Fréquences cumulées**\n",
        "* **Fabrication du DataFrame *Pandas* récapitulant ces variables en colonnes, indexé par les modalités**"
      ]
    },
    {
      "cell_type": "markdown",
      "metadata": {
        "id": "EA8JYyFsJqmn"
      },
      "source": [
        "## **Tableau statistique**"
      ]
    },
    {
      "cell_type": "code",
      "metadata": {
        "id": "82F-SwqW4Kh8"
      },
      "source": [
        "X = [\"Sd\",\"Sd\",\"Sd\",\"Sd\",\"P\",\"P\",\"P\",\"P\",\"P\",\"P\",\"P\",\"P\",\"P\",\"P\",\"P\",\"Se\",\"Se\",\"Se\",\"Se\",\"Se\",\"Se\",\"Se\",\"Se\",\"Se\",\"Se\",\"Se\",\"Se\",\"Se\",\"Se\",\n",
        "\"Su\",\"Su\",\"Su\",\"Su\",\"Su\",\"Su\",\"Su\",\"Su\",\"Su\",\"U\",\"U\",\"U\",\"U\",\"U\",\"U\",\"U\",\"U\",\"U\",\"U\",\"U\",\"U\"]"
      ],
      "execution_count": 11,
      "outputs": []
    },
    {
      "cell_type": "code",
      "metadata": {
        "id": "Y0bc-1zn6U9i"
      },
      "source": [
        "n = len(X)\n",
        "\n",
        "Omega = [ \"Sd\",\"P\",\"Se\",\"Su\",\"U\"] # en raison des \"prédecesseurs\", le caractère ordonné d'une liste est préférable au dictionnaire\n",
        "\n",
        "Effectifs = np.array([X.count(k) for k in Omega]) # liste des effectifs de chaque modalité,transformée en tableau numpy, pour pouvoir calculer dessus\n",
        "Frequences = Effectifs / n\n",
        "Effectifs_cumules = np.cumsum(Effectifs)\n",
        "Frequences_cumulees = np.cumsum(Frequences)\n",
        "\n"
      ],
      "execution_count": 12,
      "outputs": []
    },
    {
      "cell_type": "code",
      "metadata": {
        "colab": {
          "base_uri": "https://localhost:8080/"
        },
        "id": "VHBMjuXG-D_N",
        "outputId": "d4e1ff52-f54e-405b-92a0-7245c66055d6"
      },
      "source": [
        "Effectifs_cumules"
      ],
      "execution_count": 13,
      "outputs": [
        {
          "output_type": "execute_result",
          "data": {
            "text/plain": [
              "array([ 4, 15, 29, 38, 50])"
            ]
          },
          "metadata": {
            "tags": []
          },
          "execution_count": 13
        }
      ]
    },
    {
      "cell_type": "code",
      "metadata": {
        "colab": {
          "base_uri": "https://localhost:8080/"
        },
        "id": "csSq3OAQ-Ljt",
        "outputId": "2f0cf648-fc39-435d-d361-cccf0fa342e8"
      },
      "source": [
        "Frequences_cumulees"
      ],
      "execution_count": 14,
      "outputs": [
        {
          "output_type": "execute_result",
          "data": {
            "text/plain": [
              "array([0.08, 0.3 , 0.58, 0.76, 1.  ])"
            ]
          },
          "metadata": {
            "tags": []
          },
          "execution_count": 14
        }
      ]
    },
    {
      "cell_type": "code",
      "metadata": {
        "colab": {
          "base_uri": "https://localhost:8080/",
          "height": 206
        },
        "id": "VOdh_zLH7X3U",
        "outputId": "14dfd15c-99aa-4f94-f439-18eb847fd3ca"
      },
      "source": [
        "df = pd.DataFrame({ \"Eff\" : Effectifs, \"Freq\" : Frequences, \"EffCum\" : Effectifs_cumules, \"FreqCum\" : Frequences_cumulees} , index = Omega)\n",
        "df"
      ],
      "execution_count": 15,
      "outputs": [
        {
          "output_type": "execute_result",
          "data": {
            "text/html": [
              "<div>\n",
              "<style scoped>\n",
              "    .dataframe tbody tr th:only-of-type {\n",
              "        vertical-align: middle;\n",
              "    }\n",
              "\n",
              "    .dataframe tbody tr th {\n",
              "        vertical-align: top;\n",
              "    }\n",
              "\n",
              "    .dataframe thead th {\n",
              "        text-align: right;\n",
              "    }\n",
              "</style>\n",
              "<table border=\"1\" class=\"dataframe\">\n",
              "  <thead>\n",
              "    <tr style=\"text-align: right;\">\n",
              "      <th></th>\n",
              "      <th>Eff</th>\n",
              "      <th>Freq</th>\n",
              "      <th>EffCum</th>\n",
              "      <th>FreqCum</th>\n",
              "    </tr>\n",
              "  </thead>\n",
              "  <tbody>\n",
              "    <tr>\n",
              "      <th>Sd</th>\n",
              "      <td>4</td>\n",
              "      <td>0.08</td>\n",
              "      <td>4</td>\n",
              "      <td>0.08</td>\n",
              "    </tr>\n",
              "    <tr>\n",
              "      <th>P</th>\n",
              "      <td>11</td>\n",
              "      <td>0.22</td>\n",
              "      <td>15</td>\n",
              "      <td>0.30</td>\n",
              "    </tr>\n",
              "    <tr>\n",
              "      <th>Se</th>\n",
              "      <td>14</td>\n",
              "      <td>0.28</td>\n",
              "      <td>29</td>\n",
              "      <td>0.58</td>\n",
              "    </tr>\n",
              "    <tr>\n",
              "      <th>Su</th>\n",
              "      <td>9</td>\n",
              "      <td>0.18</td>\n",
              "      <td>38</td>\n",
              "      <td>0.76</td>\n",
              "    </tr>\n",
              "    <tr>\n",
              "      <th>U</th>\n",
              "      <td>12</td>\n",
              "      <td>0.24</td>\n",
              "      <td>50</td>\n",
              "      <td>1.00</td>\n",
              "    </tr>\n",
              "  </tbody>\n",
              "</table>\n",
              "</div>"
            ],
            "text/plain": [
              "    Eff  Freq  EffCum  FreqCum\n",
              "Sd    4  0.08       4     0.08\n",
              "P    11  0.22      15     0.30\n",
              "Se   14  0.28      29     0.58\n",
              "Su    9  0.18      38     0.76\n",
              "U    12  0.24      50     1.00"
            ]
          },
          "metadata": {
            "tags": []
          },
          "execution_count": 15
        }
      ]
    },
    {
      "cell_type": "markdown",
      "metadata": {
        "id": "3JOfDAIkJuuv"
      },
      "source": [
        "## **Diagrammes**"
      ]
    },
    {
      "cell_type": "markdown",
      "metadata": {
        "id": "sULLyFvCJxvZ"
      },
      "source": [
        "### **diagramme semi-circulaire**"
      ]
    },
    {
      "cell_type": "code",
      "metadata": {
        "colab": {
          "base_uri": "https://localhost:8080/",
          "height": 323
        },
        "id": "G1uCX3Il8GPZ",
        "outputId": "53fec046-740d-43d4-92b6-c97ec7494088"
      },
      "source": [
        "x = pd.DataFrame(reversed(Effectifs / 100))# 50 valeurs, comptées comme 100 pour faire un demi-camembert...ruse\n",
        "\n",
        "demicamembert = plt.pie(x, labels = Omega, colors = [\"saddlebrown\", \"sienna\", \"chocolate\", \"sandybrown\", \"moccasin\"])\n",
        "plt.legend()"
      ],
      "execution_count": 16,
      "outputs": [
        {
          "output_type": "stream",
          "text": [
            "/usr/local/lib/python3.7/dist-packages/ipykernel_launcher.py:3: MatplotlibDeprecationWarning: Non-1D inputs to pie() are currently squeeze()d, but this behavior is deprecated since 3.1 and will be removed in 3.3; pass a 1D array instead.\n",
            "  This is separate from the ipykernel package so we can avoid doing imports until\n"
          ],
          "name": "stderr"
        },
        {
          "output_type": "execute_result",
          "data": {
            "text/plain": [
              "<matplotlib.legend.Legend at 0x7f249a6e7a10>"
            ]
          },
          "metadata": {
            "tags": []
          },
          "execution_count": 16
        },
        {
          "output_type": "display_data",
          "data": {
            "image/png": "[encoded data removed]",
            "text/plain": [
              "<Figure size 432x288 with 1 Axes>"
            ]
          },
          "metadata": {
            "tags": []
          }
        }
      ]
    },
    {
      "cell_type": "markdown",
      "metadata": {
        "id": "xIvqsOPXJ2vW"
      },
      "source": [
        "### **Diagramme en barres**"
      ]
    },
    {
      "cell_type": "code",
      "metadata": {
        "colab": {
          "base_uri": "https://localhost:8080/",
          "height": 284
        },
        "id": "600YoQcxKGR9",
        "outputId": "936c40ae-6e3d-404c-a618-e25c8517e90b"
      },
      "source": [
        "diagramme_en_barres = df['FreqCum'].plot.bar(color = \"sandybrown\", edgecolor = \"black\" )\n",
        "Diag_freqCum = plt.title('Diagramme en barres des Fréquences Cumulées')"
      ],
      "execution_count": 17,
      "outputs": [
        {
          "output_type": "display_data",
          "data": {
            "image/png": "[encoded data removed]",
            "text/plain": [
              "<Figure size 432x288 with 1 Axes>"
            ]
          },
          "metadata": {
            "tags": [],
            "needs_background": "light"
          }
        }
      ]
    },
    {
      "cell_type": "markdown",
      "metadata": {
        "id": "fviUNMQPK-4r"
      },
      "source": [
        "# **Étude d'une série quantitative discrète**\n",
        "\n",
        "## **Nombre de personnes par foyer**"
      ]
    },
    {
      "cell_type": "code",
      "metadata": {
        "id": "Qke_Aqt2MKIn"
      },
      "source": [
        "import numpy as np\n",
        "import pandas as pd\n",
        "import matplotlib.pyplot as plt\n"
      ],
      "execution_count": 18,
      "outputs": []
    },
    {
      "cell_type": "code",
      "metadata": {
        "id": "IyXXOCC3KWkU"
      },
      "source": [
        "X = [1,1,1,1,1,2,2,2,2,2,2,2,2,2,3,3,3,3,3,3,3,3,3,3,3,3,3,3,3,4,4,4,4,4,4,4,4,4,4,5,5,5,5,5,5,6,6,6,8,8]\n",
        "\n",
        "n = len(X)\n",
        "Omega = set(x for x in X)\n",
        "\n",
        "# calcul des effectifs pour chaque modalité\n",
        "Effectifs = np.array([len([x for x in X if x == i]) for i in Omega])\n",
        "# calcul des fréquences pour chaque modalité\n",
        "Frequences = Effectifs / n\n",
        "\n",
        "# Calcul des effectifs cumulés pour chaque modalité (nombre de foyers comptant moins (au sens large) de ... personnes)\n",
        "Effectifs_cumules = np.cumsum(Effectifs)\n",
        "# Calcul des fréquences cumulées\n",
        "Frequences_cumulees = np.cumsum(Frequences)"
      ],
      "execution_count": 19,
      "outputs": []
    },
    {
      "cell_type": "code",
      "metadata": {
        "colab": {
          "base_uri": "https://localhost:8080/"
        },
        "id": "rRDdTkCSLI8S",
        "outputId": "7f5bdc5d-384b-48ac-c002-987468b38265"
      },
      "source": [
        "Omega"
      ],
      "execution_count": 20,
      "outputs": [
        {
          "output_type": "execute_result",
          "data": {
            "text/plain": [
              "{1, 2, 3, 4, 5, 6, 8}"
            ]
          },
          "metadata": {
            "tags": []
          },
          "execution_count": 20
        }
      ]
    },
    {
      "cell_type": "code",
      "metadata": {
        "colab": {
          "base_uri": "https://localhost:8080/"
        },
        "id": "fzLQn_k4Legb",
        "outputId": "ee0ac096-efaa-4b24-df46-f5fb1013b33a"
      },
      "source": [
        "Effectifs"
      ],
      "execution_count": 21,
      "outputs": [
        {
          "output_type": "execute_result",
          "data": {
            "text/plain": [
              "array([ 5,  9, 15, 10,  6,  3,  2])"
            ]
          },
          "metadata": {
            "tags": []
          },
          "execution_count": 21
        }
      ]
    },
    {
      "cell_type": "code",
      "metadata": {
        "colab": {
          "base_uri": "https://localhost:8080/"
        },
        "id": "U1v1mUH5MArg",
        "outputId": "76a7b7e4-3965-4ab1-8628-20e35cd8d347"
      },
      "source": [
        "n"
      ],
      "execution_count": 22,
      "outputs": [
        {
          "output_type": "execute_result",
          "data": {
            "text/plain": [
              "50"
            ]
          },
          "metadata": {
            "tags": []
          },
          "execution_count": 22
        }
      ]
    },
    {
      "cell_type": "code",
      "metadata": {
        "colab": {
          "base_uri": "https://localhost:8080/"
        },
        "id": "4Gd7-bMMMe_c",
        "outputId": "ab32aef7-0e34-40b2-e7ad-8e6f3cd386fd"
      },
      "source": [
        "Frequences"
      ],
      "execution_count": 23,
      "outputs": [
        {
          "output_type": "execute_result",
          "data": {
            "text/plain": [
              "array([0.1 , 0.18, 0.3 , 0.2 , 0.12, 0.06, 0.04])"
            ]
          },
          "metadata": {
            "tags": []
          },
          "execution_count": 23
        }
      ]
    },
    {
      "cell_type": "code",
      "metadata": {
        "colab": {
          "base_uri": "https://localhost:8080/"
        },
        "id": "e7JjhN4fMpaD",
        "outputId": "77d4e52e-821d-4668-ee58-95981788c99f"
      },
      "source": [
        "Effectifs_cumules"
      ],
      "execution_count": 24,
      "outputs": [
        {
          "output_type": "execute_result",
          "data": {
            "text/plain": [
              "array([ 5, 14, 29, 39, 45, 48, 50])"
            ]
          },
          "metadata": {
            "tags": []
          },
          "execution_count": 24
        }
      ]
    },
    {
      "cell_type": "code",
      "metadata": {
        "colab": {
          "base_uri": "https://localhost:8080/"
        },
        "id": "BjwuaoYGNCZN",
        "outputId": "6deb956a-5ea3-4a49-8647-6360aa1887ae"
      },
      "source": [
        "Frequences_cumulees"
      ],
      "execution_count": 25,
      "outputs": [
        {
          "output_type": "execute_result",
          "data": {
            "text/plain": [
              "array([0.1 , 0.28, 0.58, 0.78, 0.9 , 0.96, 1.  ])"
            ]
          },
          "metadata": {
            "tags": []
          },
          "execution_count": 25
        }
      ]
    },
    {
      "cell_type": "markdown",
      "metadata": {
        "id": "v0sCUna8Nm55"
      },
      "source": [
        "## **Tableau statistique**"
      ]
    },
    {
      "cell_type": "code",
      "metadata": {
        "colab": {
          "base_uri": "https://localhost:8080/",
          "height": 269
        },
        "id": "6Oy6f7ARNbJ7",
        "outputId": "3e35cb4c-9cf5-49cd-eec0-145f352db00d"
      },
      "source": [
        "df = pd.DataFrame({ \"Eff\" : Effectifs, \"Freq\" : Frequences, \"EffCum\" : Effectifs_cumules, \"FreqCum\" : Frequences_cumulees} , index = Omega)\n",
        "df"
      ],
      "execution_count": 26,
      "outputs": [
        {
          "output_type": "execute_result",
          "data": {
            "text/html": [
              "<div>\n",
              "<style scoped>\n",
              "    .dataframe tbody tr th:only-of-type {\n",
              "        vertical-align: middle;\n",
              "    }\n",
              "\n",
              "    .dataframe tbody tr th {\n",
              "        vertical-align: top;\n",
              "    }\n",
              "\n",
              "    .dataframe thead th {\n",
              "        text-align: right;\n",
              "    }\n",
              "</style>\n",
              "<table border=\"1\" class=\"dataframe\">\n",
              "  <thead>\n",
              "    <tr style=\"text-align: right;\">\n",
              "      <th></th>\n",
              "      <th>Eff</th>\n",
              "      <th>Freq</th>\n",
              "      <th>EffCum</th>\n",
              "      <th>FreqCum</th>\n",
              "    </tr>\n",
              "  </thead>\n",
              "  <tbody>\n",
              "    <tr>\n",
              "      <th>1</th>\n",
              "      <td>5</td>\n",
              "      <td>0.10</td>\n",
              "      <td>5</td>\n",
              "      <td>0.10</td>\n",
              "    </tr>\n",
              "    <tr>\n",
              "      <th>2</th>\n",
              "      <td>9</td>\n",
              "      <td>0.18</td>\n",
              "      <td>14</td>\n",
              "      <td>0.28</td>\n",
              "    </tr>\n",
              "    <tr>\n",
              "      <th>3</th>\n",
              "      <td>15</td>\n",
              "      <td>0.30</td>\n",
              "      <td>29</td>\n",
              "      <td>0.58</td>\n",
              "    </tr>\n",
              "    <tr>\n",
              "      <th>4</th>\n",
              "      <td>10</td>\n",
              "      <td>0.20</td>\n",
              "      <td>39</td>\n",
              "      <td>0.78</td>\n",
              "    </tr>\n",
              "    <tr>\n",
              "      <th>5</th>\n",
              "      <td>6</td>\n",
              "      <td>0.12</td>\n",
              "      <td>45</td>\n",
              "      <td>0.90</td>\n",
              "    </tr>\n",
              "    <tr>\n",
              "      <th>6</th>\n",
              "      <td>3</td>\n",
              "      <td>0.06</td>\n",
              "      <td>48</td>\n",
              "      <td>0.96</td>\n",
              "    </tr>\n",
              "    <tr>\n",
              "      <th>8</th>\n",
              "      <td>2</td>\n",
              "      <td>0.04</td>\n",
              "      <td>50</td>\n",
              "      <td>1.00</td>\n",
              "    </tr>\n",
              "  </tbody>\n",
              "</table>\n",
              "</div>"
            ],
            "text/plain": [
              "   Eff  Freq  EffCum  FreqCum\n",
              "1    5  0.10       5     0.10\n",
              "2    9  0.18      14     0.28\n",
              "3   15  0.30      29     0.58\n",
              "4   10  0.20      39     0.78\n",
              "5    6  0.12      45     0.90\n",
              "6    3  0.06      48     0.96\n",
              "8    2  0.04      50     1.00"
            ]
          },
          "metadata": {
            "tags": []
          },
          "execution_count": 26
        }
      ]
    },
    {
      "cell_type": "markdown",
      "metadata": {
        "id": "0mNEt_hiWZlT"
      },
      "source": [
        "## **Diagrammes en bâtons**"
      ]
    },
    {
      "cell_type": "markdown",
      "metadata": {
        "id": "7krC_pAjCGGh"
      },
      "source": [
        "Dans le cadre d'une série statistique quantitative discrète, le diagramme adapté pour les effectifs et fréquences, cumulé(e)s ou non, est le **diagramme en bâtons**"
      ]
    },
    {
      "cell_type": "code",
      "metadata": {
        "colab": {
          "base_uri": "https://localhost:8080/",
          "height": 281
        },
        "id": "Z7BttxF7N3ms",
        "outputId": "04267e30-9acd-478f-b004-9a61ea716707"
      },
      "source": [
        "\n",
        "plt.bar(list(Omega),Effectifs, width = 0.05, color = 'red')\n",
        "plt.title('nombre de personnes par foyer : diagramme en bâtons des Effectifs')\n",
        "plt.show()"
      ],
      "execution_count": 27,
      "outputs": [
        {
          "output_type": "display_data",
          "data": {
            "image/png": "[encoded data removed]",
            "text/plain": [
              "<Figure size 432x288 with 1 Axes>"
            ]
          },
          "metadata": {
            "tags": [],
            "needs_background": "light"
          }
        }
      ]
    },
    {
      "cell_type": "code",
      "metadata": {
        "colab": {
          "base_uri": "https://localhost:8080/",
          "height": 281
        },
        "id": "fl8VbSABPeUz",
        "outputId": "6f56dedb-3499-4c75-a75a-8bb80f2fdea9"
      },
      "source": [
        "plt.bar(list(Omega),Frequences_cumulees, width = 0.05, color = 'blue')\n",
        "plt.title('nombre de personnes par foyer : diagramme en bâtons des fréquences cumulées')\n",
        "plt.show()"
      ],
      "execution_count": 28,
      "outputs": [
        {
          "output_type": "display_data",
          "data": {
            "image/png": "[encoded data removed]",
            "text/plain": [
              "<Figure size 432x288 with 1 Axes>"
            ]
          },
          "metadata": {
            "tags": [],
            "needs_background": "light"
          }
        }
      ]
    },
    {
      "cell_type": "markdown",
      "metadata": {
        "id": "LLVaXSUiWffS"
      },
      "source": [
        "## **Fonction de répartition**"
      ]
    },
    {
      "cell_type": "code",
      "metadata": {
        "id": "bdXMSGZzFWM2"
      },
      "source": [
        "def reaxe() :\n",
        "    ax = plt.gca()\n",
        "    ax.spines['left'].set_position('zero')\n",
        "    ax.spines['right'].set_color('none')\n",
        "    ax.spines['bottom'].set_position('zero')\n",
        "    ax.spines['top'].set_color('none')\n"
      ],
      "execution_count": 29,
      "outputs": []
    },
    {
      "cell_type": "code",
      "metadata": {
        "id": "V8qLfWtLRW_K",
        "colab": {
          "base_uri": "https://localhost:8080/",
          "height": 271
        },
        "outputId": "71237c60-925c-49b0-dfae-f53461f97c72"
      },
      "source": [
        "xx = np.arange(min(Omega) -  2 , max(Omega)+2, 0.01)\n",
        "FF = []\n",
        "liste_Omega = list(Omega)\n",
        "J = len(Omega)\n",
        "\n",
        "# Tracé vrai d'une fonction numérique\n",
        "for x in xx :\n",
        "    rang = 0\n",
        "    if x < liste_Omega[0] :\n",
        "        FF.append(0)\n",
        "    elif x < liste_Omega[J-1] :\n",
        "        while rang < len(Omega)  and liste_Omega[rang] < x : # on cherche le plus grand j tel que x_j < x, alors, F(x) = F_j\n",
        "            rang = rang + 1\n",
        "        FF.append(Frequences_cumulees[rang-1])\n",
        "    else :\n",
        "        FF.append(1)\n",
        "\n",
        "plt.plot(xx,FF,'r',linewidth=1)\n",
        "plt.title(\"Fonction de répartition empirique\")\n",
        "reaxe()\n",
        "\n",
        "plt.show()"
      ],
      "execution_count": 30,
      "outputs": [
        {
          "output_type": "display_data",
          "data": {
            "image/png": "[encoded data removed]",
            "text/plain": [
              "<Figure size 432x288 with 1 Axes>"
            ]
          },
          "metadata": {
            "tags": [],
            "needs_background": "light"
          }
        }
      ]
    },
    {
      "cell_type": "markdown",
      "metadata": {
        "id": "uT9DUi-tDDLS"
      },
      "source": [
        "... ou mieux, pour faire disparaître les segments verticaux"
      ]
    },
    {
      "cell_type": "code",
      "metadata": {
        "colab": {
          "base_uri": "https://localhost:8080/",
          "height": 271
        },
        "id": "3tV2xgl_-pRr",
        "outputId": "58a407cf-35fd-48fe-ff32-fc2ad93876fb"
      },
      "source": [
        "liste_Omega = list(Omega)\n",
        "J = len(Omega)\n",
        "\n",
        "# On trace la fonction de répartition discrète segment par segment\n",
        "xx = [liste_Omega[0] - 2, liste_Omega[0]]\n",
        "FF = [0,0]\n",
        "plt.plot(xx,FF,'r',linewidth=2)\n",
        "\n",
        "for i in range(J-1) :\n",
        "    xx = [liste_Omega[i], liste_Omega[i+1]]\n",
        "    FF = [Frequences_cumulees[i],Frequences_cumulees[i]]\n",
        "    plt.plot(xx,FF,'r',linewidth=1)\n",
        "    plt.plot(liste_Omega[i],Frequences_cumulees[i],'or')\n",
        "\n",
        "xx = [liste_Omega[J-1], liste_Omega[J-1] + 2]\n",
        "FF = [1,1]\n",
        "plt.plot(xx,FF,'r',linewidth=1)\n",
        "plt.plot(liste_Omega[J-1],Frequences_cumulees[J-1],'or')\n",
        "\n",
        "reaxe()\n",
        "plt.title(\"Fonction de répartition empirique\")\n",
        "plt.show()"
      ],
      "execution_count": 31,
      "outputs": [
        {
          "output_type": "display_data",
          "data": {
            "image/png": "[encoded data removed]",
            "text/plain": [
              "<Figure size 432x288 with 1 Axes>"
            ]
          },
          "metadata": {
            "tags": [],
            "needs_background": "light"
          }
        }
      ]
    },
    {
      "cell_type": "markdown",
      "metadata": {
        "id": "y9RjH2T2DrTd"
      },
      "source": [
        "## **Éléments caractéristiques**"
      ]
    },
    {
      "cell_type": "code",
      "metadata": {
        "colab": {
          "base_uri": "https://localhost:8080/"
        },
        "id": "z7B4HMNdGta5",
        "outputId": "a481148f-6174-40a3-d6f0-191c05d924a9"
      },
      "source": [
        "Omega"
      ],
      "execution_count": 32,
      "outputs": [
        {
          "output_type": "execute_result",
          "data": {
            "text/plain": [
              "{1, 2, 3, 4, 5, 6, 8}"
            ]
          },
          "metadata": {
            "tags": []
          },
          "execution_count": 32
        }
      ]
    },
    {
      "cell_type": "code",
      "metadata": {
        "colab": {
          "base_uri": "https://localhost:8080/"
        },
        "id": "QTwqHR4oHnfz",
        "outputId": "e5692265-2bfc-4b86-c200-ede521e5ad01"
      },
      "source": [
        "liste_Omega"
      ],
      "execution_count": 33,
      "outputs": [
        {
          "output_type": "execute_result",
          "data": {
            "text/plain": [
              "[1, 2, 3, 4, 5, 6, 8]"
            ]
          },
          "metadata": {
            "tags": []
          },
          "execution_count": 33
        }
      ]
    },
    {
      "cell_type": "code",
      "metadata": {
        "colab": {
          "base_uri": "https://localhost:8080/"
        },
        "id": "25fHNgNnGv8S",
        "outputId": "2c2e7afd-7ec1-4c07-d5b7-ec4e8301520c"
      },
      "source": [
        "Effectifs"
      ],
      "execution_count": 34,
      "outputs": [
        {
          "output_type": "execute_result",
          "data": {
            "text/plain": [
              "array([ 5,  9, 15, 10,  6,  3,  2])"
            ]
          },
          "metadata": {
            "tags": []
          },
          "execution_count": 34
        }
      ]
    },
    {
      "cell_type": "markdown",
      "metadata": {
        "id": "oiYg-4tPDzMk"
      },
      "source": [
        "### **Mode**"
      ]
    },
    {
      "cell_type": "code",
      "metadata": {
        "colab": {
          "base_uri": "https://localhost:8080/"
        },
        "id": "t89kvdjtDygg",
        "outputId": "aac5089b-3c82-4a7d-88f8-ce9a760a6b98"
      },
      "source": [
        "mode = liste_Omega[0]\n",
        "rang_mode = 0\n",
        "for i in range(len(Omega)) :\n",
        "    if Effectifs[i] > Effectifs[mode] :\n",
        "        mode = liste_Omega[i]\n",
        "        rang_mode = i\n",
        "\n",
        "print('La valeur modale est : ', mode, ', avec un effectif de ', Effectifs[rang_mode])\n"
      ],
      "execution_count": 35,
      "outputs": [
        {
          "output_type": "stream",
          "text": [
            "La valeur modale est :  3 , avec un effectif de  15\n"
          ],
          "name": "stdout"
        }
      ]
    },
    {
      "cell_type": "markdown",
      "metadata": {
        "id": "i-Y4v5gWWftN"
      },
      "source": [
        "### **Moyenne**"
      ]
    },
    {
      "cell_type": "markdown",
      "metadata": {
        "id": "yyvH9-C3kcVI"
      },
      "source": [
        "* à partir des données tabulées (utilisation de la formule du cours) :"
      ]
    },
    {
      "cell_type": "code",
      "metadata": {
        "colab": {
          "base_uri": "https://localhost:8080/"
        },
        "id": "XJ7J7L6SjJAn",
        "outputId": "93f2e6b6-ce5a-4e8f-deb2-8fe9a03b18ad"
      },
      "source": [
        "X_bar = 1/n * sum([liste_Omega[i]*Effectifs[i] for i in range(len(Omega))])\n",
        "\n",
        "print('Il y a en moyenne ', X_bar , ' personnes par foyer.')"
      ],
      "execution_count": 36,
      "outputs": [
        {
          "output_type": "stream",
          "text": [
            "Il y a en moyenne  3.44  personnes par foyer.\n"
          ],
          "name": "stdout"
        }
      ]
    },
    {
      "cell_type": "markdown",
      "metadata": {
        "id": "cmrv6FkckkDv"
      },
      "source": [
        "* à partir des données brutes... c'est plus direct...\n",
        "\n",
        "**commande *mean( )* de NumPy (à connaître)**"
      ]
    },
    {
      "cell_type": "code",
      "metadata": {
        "colab": {
          "base_uri": "https://localhost:8080/"
        },
        "id": "YU_iRRwCkrIV",
        "outputId": "e5daa15b-2db8-442e-e65f-f54c5112bc7c"
      },
      "source": [
        "X_bar = np.mean(X)\n",
        "X_bar"
      ],
      "execution_count": 37,
      "outputs": [
        {
          "output_type": "execute_result",
          "data": {
            "text/plain": [
              "3.44"
            ]
          },
          "metadata": {
            "tags": []
          },
          "execution_count": 37
        }
      ]
    },
    {
      "cell_type": "markdown",
      "metadata": {
        "id": "jmjSLgBWWzjD"
      },
      "source": [
        "### **Variance**"
      ]
    },
    {
      "cell_type": "markdown",
      "metadata": {
        "id": "VoBQ7blLl_LO"
      },
      "source": [
        "* à partir des données tabulées (utilisation de la formule du cours) :"
      ]
    },
    {
      "cell_type": "code",
      "metadata": {
        "colab": {
          "base_uri": "https://localhost:8080/"
        },
        "id": "hqsmZYHbmNOE",
        "outputId": "47117fd0-79b2-49d4-9410-abab6430f8d7"
      },
      "source": [
        "Variance_X = 1/n * sum([((liste_Omega[i] - X_bar))**2*Effectifs[i] for i in range(len(Omega))])\n",
        "\n",
        "print('Variance : ', Variance_X )"
      ],
      "execution_count": 38,
      "outputs": [
        {
          "output_type": "stream",
          "text": [
            "Variance :  2.6064\n"
          ],
          "name": "stdout"
        }
      ]
    },
    {
      "cell_type": "markdown",
      "metadata": {
        "id": "lEG5rthJm2xr"
      },
      "source": [
        "* à partir des données brutes"
      ]
    },
    {
      "cell_type": "code",
      "metadata": {
        "colab": {
          "base_uri": "https://localhost:8080/"
        },
        "id": "xUf_Fkx2m6y3",
        "outputId": "4a5c6c7f-e8f7-4e7c-85c9-a2896383812a"
      },
      "source": [
        "Variance_X = np.var(X)\n",
        "Variance_X"
      ],
      "execution_count": 39,
      "outputs": [
        {
          "output_type": "execute_result",
          "data": {
            "text/plain": [
              "2.6064"
            ]
          },
          "metadata": {
            "tags": []
          },
          "execution_count": 39
        }
      ]
    },
    {
      "cell_type": "markdown",
      "metadata": {
        "id": "uR7_j2WbW6Gq"
      },
      "source": [
        "### **Écart-type**"
      ]
    },
    {
      "cell_type": "code",
      "metadata": {
        "colab": {
          "base_uri": "https://localhost:8080/"
        },
        "id": "B_6F-EaInWZw",
        "outputId": "174bd803-2d59-437b-efbc-95922d42b160"
      },
      "source": [
        "ecart_type_X = np.sqrt(Variance_X)\n",
        "ecart_type_X"
      ],
      "execution_count": 40,
      "outputs": [
        {
          "output_type": "execute_result",
          "data": {
            "text/plain": [
              "1.614434885648845"
            ]
          },
          "metadata": {
            "tags": []
          },
          "execution_count": 40
        }
      ]
    },
    {
      "cell_type": "markdown",
      "metadata": {
        "id": "Pm9ZS7r1ng2I"
      },
      "source": [
        "...ou encore..."
      ]
    },
    {
      "cell_type": "code",
      "metadata": {
        "colab": {
          "base_uri": "https://localhost:8080/"
        },
        "id": "8ldDXCy2njvK",
        "outputId": "ac06fca4-d44e-4aa4-c9d4-3e42ba49934f"
      },
      "source": [
        "ecart_type_X = np.std(X)\n",
        "ecart_type_X"
      ],
      "execution_count": 41,
      "outputs": [
        {
          "output_type": "execute_result",
          "data": {
            "text/plain": [
              "1.614434885648845"
            ]
          },
          "metadata": {
            "tags": []
          },
          "execution_count": 41
        }
      ]
    },
    {
      "cell_type": "markdown",
      "metadata": {
        "id": "aL4mOA-LW-G7"
      },
      "source": [
        "### **Quartiles**"
      ]
    },
    {
      "cell_type": "code",
      "metadata": {
        "colab": {
          "base_uri": "https://localhost:8080/"
        },
        "id": "xCpn2m1woWwW",
        "outputId": "60872e5b-fe13-4ea5-f883-1f4c3fa439a4"
      },
      "source": [
        "[q1,q3] = np.quantile(X,[0.25,0.75])\n",
        "print('1er quartile : ', q1, ' , 3ème quartile : ',q3)"
      ],
      "execution_count": 42,
      "outputs": [
        {
          "output_type": "stream",
          "text": [
            "1er quartile :  2.0  , 3ème quartile :  4.0\n"
          ],
          "name": "stdout"
        }
      ]
    },
    {
      "cell_type": "markdown",
      "metadata": {
        "id": "FqDkb0eEom5o"
      },
      "source": [
        "### **1<sup>er</sup> et 9<sup>ème</sup> déciles**"
      ]
    },
    {
      "cell_type": "code",
      "metadata": {
        "colab": {
          "base_uri": "https://localhost:8080/"
        },
        "id": "kB874dXNomQb",
        "outputId": "631e3e03-8856-434f-e312-f1055ae324a2"
      },
      "source": [
        "[d1,d9] = np.quantile(X,[0.10,0.90])\n",
        "print('1er décile : ', d1, ' , 9ème décile : ',d9)"
      ],
      "execution_count": 43,
      "outputs": [
        {
          "output_type": "stream",
          "text": [
            "1er décile :  1.9000000000000004  , 9ème décile :  5.100000000000001\n"
          ],
          "name": "stdout"
        }
      ]
    },
    {
      "cell_type": "markdown",
      "metadata": {
        "id": "tfrSZ5KeXBzv"
      },
      "source": [
        "### **Boîte à moustaches (*box-plot*)**"
      ]
    },
    {
      "cell_type": "code",
      "metadata": {
        "colab": {
          "base_uri": "https://localhost:8080/",
          "height": 281
        },
        "id": "YRJJu31_YYgV",
        "outputId": "c742c593-3068-4342-a6d1-95d3817f1276"
      },
      "source": [
        "BoiteAMoustaches = plt.boxplot(X, vert = False)\n",
        "plt.title('Boite à moustaches')\n",
        "plt.show()"
      ],
      "execution_count": 44,
      "outputs": [
        {
          "output_type": "display_data",
          "data": {
            "image/png": "[encoded data removed]",
            "text/plain": [
              "<Figure size 432x288 with 1 Axes>"
            ]
          },
          "metadata": {
            "tags": [],
            "needs_background": "light"
          }
        }
      ]
    },
    {
      "cell_type": "markdown",
      "metadata": {
        "id": "j-cYq9ZsQXK5"
      },
      "source": [
        "# **Étude d'une série statistique continue**\n",
        "## **Taille en cm de 50 élèves d'un niveau de classe d'un lycée**"
      ]
    },
    {
      "cell_type": "code",
      "metadata": {
        "id": "xpF7aqqj5-Gv"
      },
      "source": [
        "import numpy as np\n",
        "import pandas as pd\n",
        "import matplotlib.pyplot as plt"
      ],
      "execution_count": 45,
      "outputs": []
    },
    {
      "cell_type": "code",
      "metadata": {
        "id": "SB_HdcN1CZze"
      },
      "source": [
        "# série statistique\n",
        "X = [152, 152, 152, 153, 153, 154, 154, 154, 155, 155, \n",
        "     156, 156, 156, 156, 156, 157, 157, 157, 158, 158, \n",
        "     159, 159, 160, 160, 160, 161, 160, 160, 161, 162,\n",
        "     162, 162, 163, 164, 164, 164, 164, 165, 166, 167,\n",
        "     168, 168, 168, 169, 169, 170, 171, 171, 171, 171 ]\n",
        "\n",
        "n = len(X) # nombre d'individus"
      ],
      "execution_count": 46,
      "outputs": []
    },
    {
      "cell_type": "code",
      "metadata": {
        "id": "_WpcVvaYQnRj"
      },
      "source": [
        "# classes\n",
        "bins = [151.5 , 155.5 , 159.5 , 163.5 , 167.5 , 171.5 ] # bins = \"boites\"\n"
      ],
      "execution_count": 47,
      "outputs": []
    },
    {
      "cell_type": "code",
      "metadata": {
        "id": "s8O-nC69SBYr"
      },
      "source": [
        "# calcul des effectifs dans chaque classe\n",
        "effectifs = np.array([len([x for x in X if bins[i] <= x < bins[i+1]]) for i in range(len(bins)-1)]) \n",
        "    # compte combien de valeurs figurent dans chaque classe\n",
        "effectifs[-1] = effectifs[-1] + len([x for x in X if x == bins[-1]]) \n",
        "    # pour le cas où des valeurs seraient égales à la borne sup de la dernière classe\n",
        "    \n",
        "# largeurs et centres de classes, étendue\n",
        "amplitudes = [bins[i+1] - bins[i] for i in range(len(bins)-1)]\n",
        "centres_de_classes = [(bins[i+1] + bins[i])/2 for i in range(len(bins)-1)]\n",
        "etendue = bins[-1] - bins[0]\n",
        "\n",
        "# fréquences et densités de fréquence (nécessaires pour un histogramme vrai)\n",
        "frequences = effectifs / n\n",
        "densites_de_frequences = frequences / amplitudes \n",
        "    # indispensables pour tracer un histogramme vrai quand les classes sont d'amplitudes inégales\n",
        "\n",
        "\n",
        "# effectifs et fréquences et densités de fréquence cumulées\n",
        "effectifs_cumules = np.cumsum(effectifs)\n",
        "frequences_cumulees = np.cumsum(frequences)\n",
        "densites_de_frequences_cumulees = densites_de_frequences / amplitudes"
      ],
      "execution_count": 48,
      "outputs": []
    },
    {
      "cell_type": "code",
      "metadata": {
        "colab": {
          "base_uri": "https://localhost:8080/",
          "height": 206
        },
        "id": "T_yLaWsZSP5M",
        "outputId": "7be9dcd0-9cd7-4940-9cea-5f4499c8f957"
      },
      "source": [
        "Index = [\"[ 151.5 ; 155.5 [\", \"[ 155.5 ; 159.5[\", \"[ 159.5 ; 163,5 [\", \"[ 163,5 ; 167,5 [\", \"[ 167,5 ; 171,5 [\" ]\n",
        "df = pd.DataFrame({ \"Eff\" : effectifs, \"Freq\" : frequences, \"DensFreq\" : densites_de_frequences, \"EffCum\" : effectifs_cumules, \"FreqCum\" : frequences_cumulees, \"DensFreqCum\" :densites_de_frequences_cumulees} , index = Index )\n",
        "df"
      ],
      "execution_count": 49,
      "outputs": [
        {
          "output_type": "execute_result",
          "data": {
            "text/html": [
              "<div>\n",
              "<style scoped>\n",
              "    .dataframe tbody tr th:only-of-type {\n",
              "        vertical-align: middle;\n",
              "    }\n",
              "\n",
              "    .dataframe tbody tr th {\n",
              "        vertical-align: top;\n",
              "    }\n",
              "\n",
              "    .dataframe thead th {\n",
              "        text-align: right;\n",
              "    }\n",
              "</style>\n",
              "<table border=\"1\" class=\"dataframe\">\n",
              "  <thead>\n",
              "    <tr style=\"text-align: right;\">\n",
              "      <th></th>\n",
              "      <th>Eff</th>\n",
              "      <th>Freq</th>\n",
              "      <th>DensFreq</th>\n",
              "      <th>EffCum</th>\n",
              "      <th>FreqCum</th>\n",
              "      <th>DensFreqCum</th>\n",
              "    </tr>\n",
              "  </thead>\n",
              "  <tbody>\n",
              "    <tr>\n",
              "      <th>[ 151.5 ; 155.5 [</th>\n",
              "      <td>10</td>\n",
              "      <td>0.20</td>\n",
              "      <td>0.050</td>\n",
              "      <td>10</td>\n",
              "      <td>0.20</td>\n",
              "      <td>0.01250</td>\n",
              "    </tr>\n",
              "    <tr>\n",
              "      <th>[ 155.5 ; 159.5[</th>\n",
              "      <td>12</td>\n",
              "      <td>0.24</td>\n",
              "      <td>0.060</td>\n",
              "      <td>22</td>\n",
              "      <td>0.44</td>\n",
              "      <td>0.01500</td>\n",
              "    </tr>\n",
              "    <tr>\n",
              "      <th>[ 159.5 ; 163,5 [</th>\n",
              "      <td>11</td>\n",
              "      <td>0.22</td>\n",
              "      <td>0.055</td>\n",
              "      <td>33</td>\n",
              "      <td>0.66</td>\n",
              "      <td>0.01375</td>\n",
              "    </tr>\n",
              "    <tr>\n",
              "      <th>[ 163,5 ; 167,5 [</th>\n",
              "      <td>7</td>\n",
              "      <td>0.14</td>\n",
              "      <td>0.035</td>\n",
              "      <td>40</td>\n",
              "      <td>0.80</td>\n",
              "      <td>0.00875</td>\n",
              "    </tr>\n",
              "    <tr>\n",
              "      <th>[ 167,5 ; 171,5 [</th>\n",
              "      <td>10</td>\n",
              "      <td>0.20</td>\n",
              "      <td>0.050</td>\n",
              "      <td>50</td>\n",
              "      <td>1.00</td>\n",
              "      <td>0.01250</td>\n",
              "    </tr>\n",
              "  </tbody>\n",
              "</table>\n",
              "</div>"
            ],
            "text/plain": [
              "                   Eff  Freq  DensFreq  EffCum  FreqCum  DensFreqCum\n",
              "[ 151.5 ; 155.5 [   10  0.20     0.050      10     0.20      0.01250\n",
              "[ 155.5 ; 159.5[    12  0.24     0.060      22     0.44      0.01500\n",
              "[ 159.5 ; 163,5 [   11  0.22     0.055      33     0.66      0.01375\n",
              "[ 163,5 ; 167,5 [    7  0.14     0.035      40     0.80      0.00875\n",
              "[ 167,5 ; 171,5 [   10  0.20     0.050      50     1.00      0.01250"
            ]
          },
          "metadata": {
            "tags": []
          },
          "execution_count": 49
        }
      ]
    },
    {
      "cell_type": "code",
      "metadata": {
        "id": "BxK891HwU3Wf",
        "colab": {
          "base_uri": "https://localhost:8080/",
          "height": 281
        },
        "outputId": "dd87657d-162d-4f87-cc45-12887dba25b3"
      },
      "source": [
        "plt.bar(centres_de_classes,densites_de_frequences,width = amplitudes, color =\"mediumblue\", edgecolor = 'black')\n",
        "plt.title('Histogramme des fréquences')\n",
        "plt.show()"
      ],
      "execution_count": 50,
      "outputs": [
        {
          "output_type": "display_data",
          "data": {
            "image/png": "[encoded data removed]",
            "text/plain": [
              "<Figure size 432x288 with 1 Axes>"
            ]
          },
          "metadata": {
            "tags": [],
            "needs_background": "light"
          }
        }
      ]
    },
    {
      "cell_type": "markdown",
      "metadata": {
        "id": "r5ZBUfCBpu8f"
      },
      "source": [
        "## **Calcul manuel de la médiane**"
      ]
    },
    {
      "cell_type": "code",
      "metadata": {
        "colab": {
          "base_uri": "https://localhost:8080/",
          "height": 281
        },
        "id": "F3Ak-0LMqJb7",
        "outputId": "dd048e1d-9257-4e7f-c6ad-8a534b4dfaef"
      },
      "source": [
        "plt.bar(centres_de_classes,frequences_cumulees,width = amplitudes, color =\"aquamarine\", edgecolor = 'black')\n",
        "plt.title('Histogramme et polygone des fréquences cumulées croissantes')\n",
        "plt.plot([bins[0],bins[-1]],[0.5,0.5], color = \"blue\")\n",
        "plt.plot([bins[0],bins[1]], [0,frequences_cumulees[0]], color = \"red\")\n",
        "plt.plot(bins[1:], frequences_cumulees, color = \"red\")\n",
        "plt.show()"
      ],
      "execution_count": 51,
      "outputs": [
        {
          "output_type": "display_data",
          "data": {
            "image/png": "[encoded data removed]",
            "text/plain": [
              "<Figure size 432x288 with 1 Axes>"
            ]
          },
          "metadata": {
            "tags": [],
            "needs_background": "light"
          }
        }
      ]
    },
    {
      "cell_type": "markdown",
      "metadata": {
        "id": "D2y3d3inp3WX"
      },
      "source": [
        "## **Point de vigilance sur les histogrammes**"
      ]
    },
    {
      "cell_type": "markdown",
      "metadata": {
        "id": "3QVmk3s46o1G"
      },
      "source": [
        "**Histogramme : importance de la proportionnalité des fréquences à la surface des rectangles et non à leur hauteur**\n",
        "\n",
        "Rappel : dans Python \"hist\" tabule les données, et crée un vulgaire diagramme en barres :"
      ]
    },
    {
      "cell_type": "code",
      "metadata": {
        "colab": {
          "base_uri": "https://localhost:8080/",
          "height": 299
        },
        "id": "7zGjzf7n6IuE",
        "outputId": "71e073cb-4101-43e1-fcc7-aa2e634acc2c"
      },
      "source": [
        "histo = plt.hist(X,bins, color = \"darksalmon\", edgecolor = \"black\") \n",
        "    # plt.hist renvoie 2 arrays, les effectifs et les bins, \n",
        "    # et trace... un bête diagramme en barre, pas un histogramme\n",
        "plt.title('Histogramme faux (diagramme en barres larges)')"
      ],
      "execution_count": 52,
      "outputs": [
        {
          "output_type": "execute_result",
          "data": {
            "text/plain": [
              "Text(0.5, 1.0, 'Histogramme faux (diagramme en barres larges)')"
            ]
          },
          "metadata": {
            "tags": []
          },
          "execution_count": 52
        },
        {
          "output_type": "display_data",
          "data": {
            "image/png": "[encoded data removed]",
            "text/plain": [
              "<Figure size 432x288 with 1 Axes>"
            ]
          },
          "metadata": {
            "tags": [],
            "needs_background": "light"
          }
        }
      ]
    },
    {
      "cell_type": "markdown",
      "metadata": {
        "id": "LNhWx-zB7o9R"
      },
      "source": [
        "Jusque-là, le diagramme est identique, puisque les \"bins\" sont de largeurs égales...\n",
        "Modifions les \"bins\" n°2 et 3 :\n"
      ]
    },
    {
      "cell_type": "code",
      "metadata": {
        "colab": {
          "base_uri": "https://localhost:8080/",
          "height": 299
        },
        "id": "2_D4dtNh7Sex",
        "outputId": "728c7c5d-59ba-4432-fc16-8cc5c1e78fdb"
      },
      "source": [
        "bins = [151.5 , 155.5 , 163.5 , 167.5 , 171.5 ] # bins = \"boites\"\n",
        "histo = plt.hist(X,bins, color = \"darksalmon\", edgecolor = \"black\") \n",
        "plt.title('Histogramme faux (diagramme en barres larges)')"
      ],
      "execution_count": 53,
      "outputs": [
        {
          "output_type": "execute_result",
          "data": {
            "text/plain": [
              "Text(0.5, 1.0, 'Histogramme faux (diagramme en barres larges)')"
            ]
          },
          "metadata": {
            "tags": []
          },
          "execution_count": 53
        },
        {
          "output_type": "display_data",
          "data": {
            "image/png": "[encoded data removed]",
            "text/plain": [
              "<Figure size 432x288 with 1 Axes>"
            ]
          },
          "metadata": {
            "tags": [],
            "needs_background": "light"
          }
        }
      ]
    },
    {
      "cell_type": "markdown",
      "metadata": {
        "id": "KlH23rYj8LfE"
      },
      "source": [
        "Et là, c'est une catastrophe, la hauteur du rectangle est proportionnelle à l'effectif, on a une très mauvaise idée de la répartition des valeurs de la série.\n",
        "\n",
        "Reprenons nos deux graphiques, en faisant figurer cette fois les densités de fréquences. Remarquez qu'on n'utilise pas la commande *hist*, mais *bar*, bien paramétrée... (en donnant à chaque barre la largeur de sa classe, et pour hauteur la densité de probabilité.)"
      ]
    },
    {
      "cell_type": "code",
      "metadata": {
        "colab": {
          "base_uri": "https://localhost:8080/",
          "height": 281
        },
        "id": "xQquFiW_8Bx_",
        "outputId": "d42ea445-6eff-4257-9dee-2e5ca80bd5cc"
      },
      "source": [
        "# calcul des effectifs dans chaque classe\n",
        "effectifs = np.array([len([x for x in X if bins[i] <= x < bins[i+1]]) for i in range(len(bins)-1)]) \n",
        "    # compte combien de valeurs figurent dans chaque classe\n",
        "effectifs[-1] = effectifs[-1] + len([x for x in X if x == bins[-1]]) \n",
        "    # pour le cas où des valeurs seraient égales à la borne sup de la dernière classe\n",
        "    \n",
        "# largeurs et centres de classes\n",
        "amplitudes = [bins[i+1] - bins[i] for i in range(len(bins)-1)]\n",
        "centres_de_classes = [(bins[i+1] + bins[i])/2 for i in range(len(bins)-1)]\n",
        "\n",
        "# fréquences et densités de fréquence (nécessaires pour un histogramme vrai)\n",
        "frequences = effectifs / n\n",
        "densites_de_frequences = frequences / amplitudes \n",
        "    # indispensables pour tracer un histogramme vrai quand les classes sont d'amplitudes inégales\n",
        "\n",
        "\n",
        "# effectifs et fréquences et densités de fréquence cumulées\n",
        "effectifs_cumules = np.cumsum(effectifs)\n",
        "frequences_cumulees = np.cumsum(frequences)\n",
        "densites_de_frequences_cumulees = np.cumsum(densites_de_frequences)\n",
        "\n",
        "plt.bar(centres_de_classes,densites_de_frequences,width = amplitudes, color =\"mediumblue\", edgecolor = 'black')\n",
        "plt.title('Histogramme vrai des fréquences')\n",
        "plt.show()"
      ],
      "execution_count": 54,
      "outputs": [
        {
          "output_type": "display_data",
          "data": {
            "image/png": "[encoded data removed]",
            "text/plain": [
              "<Figure size 432x288 with 1 Axes>"
            ]
          },
          "metadata": {
            "tags": [],
            "needs_background": "light"
          }
        }
      ]
    },
    {
      "cell_type": "markdown",
      "metadata": {
        "id": "y6EHiZ8P9ENf"
      },
      "source": [
        "Le diagramme obtenu est bien plus proche de la réalité de la répartition des données : c'est cette fois la **surface** des rectangles qui est proportionnelle à la fréquence ou à l'effectif"
      ]
    },
    {
      "cell_type": "markdown",
      "metadata": {
        "id": "WErUielo-5f1"
      },
      "source": [
        "Un autre procédé est d'ajouter un paramètre à la commande *hist* : *\"density = True\"*"
      ]
    },
    {
      "cell_type": "code",
      "metadata": {
        "colab": {
          "base_uri": "https://localhost:8080/",
          "height": 281
        },
        "id": "Xo_fcNxw8x54",
        "outputId": "b554b4e8-c4a2-4d28-e69d-8632a885f1d3"
      },
      "source": [
        "histo = plt.hist(X,bins, color = \"darksalmon\", edgecolor = \"black\", density = True) \n",
        "plt.title('Histogramme vrai')\n",
        "plt.show()"
      ],
      "execution_count": 55,
      "outputs": [
        {
          "output_type": "display_data",
          "data": {
            "image/png": "[encoded data removed]",
            "text/plain": [
              "<Figure size 432x288 with 1 Axes>"
            ]
          },
          "metadata": {
            "tags": [],
            "needs_background": "light"
          }
        }
      ]
    },
    {
      "cell_type": "markdown",
      "metadata": {
        "id": "gatPudKR_Kbc"
      },
      "source": [
        "**La commande *hist* s'utilise sur les données brutes, ne pas oublier \"*density = True*\", l'autre procédé sur les données déjà tabulées, en utilisant les densités de fréquence.**"
      ]
    },
    {
      "cell_type": "code",
      "metadata": {
        "id": "bkEp1sSD-2_P"
      },
      "source": [
        ""
      ],
      "execution_count": 55,
      "outputs": []
    }
  ]
}