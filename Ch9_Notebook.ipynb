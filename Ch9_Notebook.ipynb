{
  "nbformat": 4,
  "nbformat_minor": 0,
  "metadata": {
    "kernelspec": {
      "display_name": "Python 3",
      "language": "python",
      "name": "python3"
    },
    "language_info": {
      "codemirror_mode": {
        "name": "ipython",
        "version": 3
      },
      "file_extension": ".py",
      "mimetype": "text/x-python",
      "name": "python",
      "nbconvert_exporter": "python",
      "pygments_lexer": "ipython3",
      "version": "3.7.1"
    },
    "colab": {
      "name": "Ch9-Notebook.ipynb",
      "provenance": [],
      "include_colab_link": true
    }
  },
  "cells": [
    {
      "cell_type": "markdown",
      "metadata": {
        "id": "view-in-github",
        "colab_type": "text"
      },
      "source": [
        "<a href=\"https://colab.research.google.com/github/othoni-hub/ECG1/blob/main/Ch9_Notebook.ipynb\" target=\"_parent\"><img src=\"https://colab.research.google.com/assets/colab-badge.svg\" alt=\"Open In Colab\"/></a>"
      ]
    },
    {
      "cell_type": "markdown",
      "metadata": {
        "id": "pUUIRRJjAg-Y"
      },
      "source": [
        "# **CPGE-ECG1** \n",
        "<img src=\"https://drive.google.com/uc?id=12Wo3LubGGT4qOvYFAuLP4CyCuwjKNVuk\" width=\"230\" height=\"150\" align = \"right\"/>\n",
        "\n",
        "## Notebook du Chapitre 9 : COMBINATOIRE\n",
        "\n",
        "\n",
        "\n",
        "\n",
        "**O.Thöni - Lycée Saint-Charles Sainte Croix - LE MANS**\n"
      ]
    },
    {
      "cell_type": "markdown",
      "metadata": {
        "id": "X11pVUmNAg-f"
      },
      "source": [
        "### 1. Calcul des combinaisons, triangle de Pascal\n",
        "\n",
        "\n",
        "**_1.1. Factorielle_**\n"
      ]
    },
    {
      "cell_type": "code",
      "metadata": {
        "id": "K4E1RpY1Ag-5"
      },
      "source": [
        "def factorielle(n):\n",
        "    ''' cette fonction reçoit un entier n et retourne factorielle de n'''\n",
        "    f = 1\n",
        "    for k in range(1,n+1):\n",
        "        f = f * k\n",
        "    return f"
      ],
      "execution_count": 3,
      "outputs": []
    },
    {
      "cell_type": "code",
      "metadata": {
        "id": "V6AxmjR0Ag_D",
        "colab": {
          "base_uri": "https://localhost:8080/"
        },
        "outputId": "4fb5b65d-6db0-4783-cf2e-ebca99dd87fe"
      },
      "source": [
        "factorielle(6)"
      ],
      "execution_count": 4,
      "outputs": [
        {
          "output_type": "execute_result",
          "data": {
            "text/plain": [
              "720"
            ]
          },
          "metadata": {
            "tags": []
          },
          "execution_count": 4
        }
      ]
    },
    {
      "cell_type": "code",
      "metadata": {
        "id": "f3Ms8dhFhQ69",
        "colab": {
          "base_uri": "https://localhost:8080/"
        },
        "outputId": "dac5f648-34ea-4d97-d470-802cc278482e"
      },
      "source": [
        "factorielle(5)"
      ],
      "execution_count": 5,
      "outputs": [
        {
          "output_type": "execute_result",
          "data": {
            "text/plain": [
              "120"
            ]
          },
          "metadata": {
            "tags": []
          },
          "execution_count": 5
        }
      ]
    },
    {
      "cell_type": "markdown",
      "metadata": {
        "id": "eqrIVTy7Ag_O"
      },
      "source": [
        "On peut aussi utiliser une fonction récursive, c'est-à-dire une fonction qui s'appelle elle-même. Cela permet de s'approcher au plus près de la notion de suite récurrente...\n",
        "\n",
        "**<span style=\"color: #26B260\">Python : fonction récursive</span>**"
      ]
    },
    {
      "cell_type": "code",
      "metadata": {
        "id": "tR5zDcW1Ag_R"
      },
      "source": [
        "def factorielle_rec(n):\n",
        "    ''' cette fonction reçoit un entier n et retourne factorielle de n'''\n",
        "    f = 1\n",
        "    if n == 0:\n",
        "        return f\n",
        "    else :\n",
        "        return n * factorielle_rec(n-1)\n",
        "        "
      ],
      "execution_count": 6,
      "outputs": []
    },
    {
      "cell_type": "code",
      "metadata": {
        "id": "KPNu-0o5Ag_d",
        "colab": {
          "base_uri": "https://localhost:8080/"
        },
        "outputId": "67e77cd6-b6fb-45a3-85d4-a9bdab64a852"
      },
      "source": [
        "factorielle_rec(5)"
      ],
      "execution_count": 7,
      "outputs": [
        {
          "output_type": "execute_result",
          "data": {
            "text/plain": [
              "120"
            ]
          },
          "metadata": {
            "tags": []
          },
          "execution_count": 7
        }
      ]
    },
    {
      "cell_type": "markdown",
      "metadata": {
        "id": "5GZiqwa1Ag_m"
      },
      "source": [
        "**_Utilisation de Python Tutor_**\n",
        "\n",
        "**<span style=\"color: #26B260\">Complément Python : mode pas à pas</span>**\n",
        "\n",
        "Python tutor est une fonction du module \"metakernell\" qui permet d'exécuter un bout de script en mode pas à pas.\n",
        "\n",
        "Ici, cela peut être intéressant d'observer le déroulé de la fonction *factorielle* ainsi que de la fonction *factorielle_rec*"
      ]
    },
    {
      "cell_type": "code",
      "metadata": {
        "id": "ELHLMkxwAg_q",
        "colab": {
          "base_uri": "https://localhost:8080/",
          "height": 454
        },
        "outputId": "828bcab7-8b47-47fd-90e4-e5743f24f991"
      },
      "source": [
        "!pip install metakernel\n",
        "\n",
        "from metakernel import register_ipython_magics\n",
        "register_ipython_magics()"
      ],
      "execution_count": null,
      "outputs": [
        {
          "output_type": "stream",
          "text": [
            "Collecting metakernel\n",
            "\u001b[?25l  Downloading https://files.pythonhosted.org/packages/37/e4/37e22713e465dab274252e8dea1243079200ceb9f2380865cadff6cafc88/metakernel-0.27.0-py2.py3-none-any.whl (208kB)\n",
            "\r\u001b[K     |█▋                              | 10kB 14.2MB/s eta 0:00:01\r\u001b[K     |███▏                            | 20kB 6.6MB/s eta 0:00:01\r\u001b[K     |████▊                           | 30kB 8.0MB/s eta 0:00:01\r\u001b[K     |██████▎                         | 40kB 8.5MB/s eta 0:00:01\r\u001b[K     |███████▉                        | 51kB 7.0MB/s eta 0:00:01\r\u001b[K     |█████████▍                      | 61kB 7.3MB/s eta 0:00:01\r\u001b[K     |███████████                     | 71kB 7.8MB/s eta 0:00:01\r\u001b[K     |████████████▋                   | 81kB 8.3MB/s eta 0:00:01\r\u001b[K     |██████████████▏                 | 92kB 7.5MB/s eta 0:00:01\r\u001b[K     |███████████████▊                | 102kB 8.1MB/s eta 0:00:01\r\u001b[K     |█████████████████▎              | 112kB 8.1MB/s eta 0:00:01\r\u001b[K     |██████████████████▉             | 122kB 8.1MB/s eta 0:00:01\r\u001b[K     |████████████████████▍           | 133kB 8.1MB/s eta 0:00:01\r\u001b[K     |██████████████████████          | 143kB 8.1MB/s eta 0:00:01\r\u001b[K     |███████████████████████▌        | 153kB 8.1MB/s eta 0:00:01\r\u001b[K     |█████████████████████████▏      | 163kB 8.1MB/s eta 0:00:01\r\u001b[K     |██████████████████████████▊     | 174kB 8.1MB/s eta 0:00:01\r\u001b[K     |████████████████████████████▎   | 184kB 8.1MB/s eta 0:00:01\r\u001b[K     |█████████████████████████████▉  | 194kB 8.1MB/s eta 0:00:01\r\u001b[K     |███████████████████████████████▍| 204kB 8.1MB/s eta 0:00:01\r\u001b[K     |████████████████████████████████| 215kB 8.1MB/s \n",
            "\u001b[?25hRequirement already satisfied: pexpect>=4.2 in /usr/local/lib/python3.6/dist-packages (from metakernel) (4.8.0)\n",
            "Requirement already satisfied: ipykernel in /usr/local/lib/python3.6/dist-packages (from metakernel) (4.10.1)\n",
            "Requirement already satisfied: ptyprocess>=0.5 in /usr/local/lib/python3.6/dist-packages (from pexpect>=4.2->metakernel) (0.6.0)\n",
            "Requirement already satisfied: ipython>=4.0.0 in /usr/local/lib/python3.6/dist-packages (from ipykernel->metakernel) (5.5.0)\n",
            "Requirement already satisfied: jupyter-client in /usr/local/lib/python3.6/dist-packages (from ipykernel->metakernel) (5.3.5)\n",
            "Requirement already satisfied: tornado>=4.0 in /usr/local/lib/python3.6/dist-packages (from ipykernel->metakernel) (5.1.1)\n",
            "Requirement already satisfied: traitlets>=4.1.0 in /usr/local/lib/python3.6/dist-packages (from ipykernel->metakernel) (4.3.3)\n",
            "Requirement already satisfied: prompt-toolkit<2.0.0,>=1.0.4 in /usr/local/lib/python3.6/dist-packages (from ipython>=4.0.0->ipykernel->metakernel) (1.0.18)\n",
            "Requirement already satisfied: decorator in /usr/local/lib/python3.6/dist-packages (from ipython>=4.0.0->ipykernel->metakernel) (4.4.2)\n",
            "Requirement already satisfied: simplegeneric>0.8 in /usr/local/lib/python3.6/dist-packages (from ipython>=4.0.0->ipykernel->metakernel) (0.8.1)\n",
            "Requirement already satisfied: pickleshare in /usr/local/lib/python3.6/dist-packages (from ipython>=4.0.0->ipykernel->metakernel) (0.7.5)\n",
            "Requirement already satisfied: pygments in /usr/local/lib/python3.6/dist-packages (from ipython>=4.0.0->ipykernel->metakernel) (2.6.1)\n",
            "Requirement already satisfied: setuptools>=18.5 in /usr/local/lib/python3.6/dist-packages (from ipython>=4.0.0->ipykernel->metakernel) (50.3.0)\n",
            "Requirement already satisfied: jupyter-core>=4.6.0 in /usr/local/lib/python3.6/dist-packages (from jupyter-client->ipykernel->metakernel) (4.6.3)\n",
            "Requirement already satisfied: python-dateutil>=2.1 in /usr/local/lib/python3.6/dist-packages (from jupyter-client->ipykernel->metakernel) (2.8.1)\n",
            "Requirement already satisfied: pyzmq>=13 in /usr/local/lib/python3.6/dist-packages (from jupyter-client->ipykernel->metakernel) (19.0.2)\n",
            "Requirement already satisfied: six in /usr/local/lib/python3.6/dist-packages (from traitlets>=4.1.0->ipykernel->metakernel) (1.15.0)\n",
            "Requirement already satisfied: ipython-genutils in /usr/local/lib/python3.6/dist-packages (from traitlets>=4.1.0->ipykernel->metakernel) (0.2.0)\n",
            "Requirement already satisfied: wcwidth in /usr/local/lib/python3.6/dist-packages (from prompt-toolkit<2.0.0,>=1.0.4->ipython>=4.0.0->ipykernel->metakernel) (0.2.5)\n",
            "Installing collected packages: metakernel\n",
            "Successfully installed metakernel-0.27.0\n"
          ],
          "name": "stdout"
        }
      ]
    },
    {
      "cell_type": "code",
      "metadata": {
        "id": "fGU81uXeAg_y",
        "colab": {
          "base_uri": "https://localhost:8080/",
          "height": 520
        },
        "outputId": "4f5376db-9ecc-40e6-a54e-adba381aae1f"
      },
      "source": [
        "%%tutor\n",
        "\n",
        "def factorielle(n):\n",
        "    f = 1\n",
        "    for k in range(1,n+1):\n",
        "        f = f * k\n",
        "    return f\n",
        "\n",
        "factorielle(6)"
      ],
      "execution_count": null,
      "outputs": [
        {
          "output_type": "display_data",
          "data": {
            "text/html": [
              "\n",
              "        <iframe\n",
              "            width=\"100%\"\n",
              "            height=\"500\"\n",
              "            src=\"https://pythontutor.com/iframe-embed.html#code=%0Adef%20factorielle%28n%29%3A%0A%20%20%20%20f%20%3D%201%0A%20%20%20%20for%20k%20in%20range%281%2Cn%2B1%29%3A%0A%20%20%20%20%20%20%20%20f%20%3D%20f%20%2A%20k%0A%20%20%20%20return%20f%0A%0Afactorielle%286%29&origin=opt-frontend.js&cumulative=false&heapPrimitives=false&textReferences=false&py=3&rawInputLstJSON=%5B%5D&curInstr=0&codeDivWidth=350&codeDivHeight=400\"\n",
              "            frameborder=\"0\"\n",
              "            allowfullscreen\n",
              "        ></iframe>\n",
              "        "
            ],
            "text/plain": [
              "<IPython.lib.display.IFrame at 0x7f4f7729a7f0>"
            ]
          },
          "metadata": {
            "tags": []
          }
        }
      ]
    },
    {
      "cell_type": "code",
      "metadata": {
        "id": "Nl7q6sLMAg_8",
        "colab": {
          "base_uri": "https://localhost:8080/",
          "height": 521
        },
        "outputId": "829853c1-c8d8-49bf-e8bc-28ade4061df6"
      },
      "source": [
        "%%tutor\n",
        "\n",
        "def factorielle_rec(n):\n",
        "    f = 1\n",
        "    if n == 1:\n",
        "        return f\n",
        "    else :\n",
        "        return n * factorielle_rec(n-1)\n",
        "\n",
        "factorielle_rec(6)"
      ],
      "execution_count": null,
      "outputs": [
        {
          "output_type": "display_data",
          "data": {
            "text/html": [
              "\n",
              "        <iframe\n",
              "            width=\"100%\"\n",
              "            height=\"500\"\n",
              "            src=\"https://pythontutor.com/iframe-embed.html#code=%0Adef%20factorielle_rec%28n%29%3A%0A%20%20%20%20f%20%3D%201%0A%20%20%20%20if%20n%20%3D%3D%201%3A%0A%20%20%20%20%20%20%20%20return%20f%0A%20%20%20%20else%20%3A%0A%20%20%20%20%20%20%20%20return%20n%20%2A%20factorielle_rec%28n-1%29%0A%0Afactorielle_rec%286%29&origin=opt-frontend.js&cumulative=false&heapPrimitives=false&textReferences=false&py=3&rawInputLstJSON=%5B%5D&curInstr=0&codeDivWidth=350&codeDivHeight=400\"\n",
              "            frameborder=\"0\"\n",
              "            allowfullscreen\n",
              "        ></iframe>\n",
              "        "
            ],
            "text/plain": [
              "<IPython.lib.display.IFrame at 0x7f64d124e3c8>"
            ]
          },
          "metadata": {
            "tags": []
          }
        }
      ]
    },
    {
      "cell_type": "markdown",
      "metadata": {
        "id": "_5ec97kAAhAL"
      },
      "source": [
        "**_1.2. Combinaisons_**"
      ]
    },
    {
      "cell_type": "code",
      "metadata": {
        "id": "lG1KOL7wAhAN"
      },
      "source": [
        "def combinaison_def(k,n):\n",
        "    return int(factorielle(n)/(factorielle(k) * factorielle(n-k)))"
      ],
      "execution_count": 8,
      "outputs": []
    },
    {
      "cell_type": "code",
      "metadata": {
        "id": "1Eu3Ak4UAhAU",
        "colab": {
          "base_uri": "https://localhost:8080/"
        },
        "outputId": "17cd20d0-24a8-4646-a05e-6d3bce62a1b8"
      },
      "source": [
        "combinaison_def(3,6)"
      ],
      "execution_count": 9,
      "outputs": [
        {
          "output_type": "execute_result",
          "data": {
            "text/plain": [
              "20"
            ]
          },
          "metadata": {
            "tags": []
          },
          "execution_count": 9
        }
      ]
    },
    {
      "cell_type": "markdown",
      "metadata": {
        "id": "u9OygnnKAhAd"
      },
      "source": [
        "Cette première méthode, directement issue de la définition, fait trop de calculs.\n",
        "\n",
        "Simplifions un peu tout ça..."
      ]
    },
    {
      "cell_type": "code",
      "metadata": {
        "id": "WOBfIxZfAhAr"
      },
      "source": [
        "def combinaison(k,n):\n",
        "    c = 1\n",
        "    for m in range(n,n-k,-1):\n",
        "        c = c * m\n",
        "    c = int(c / factorielle(k))\n",
        "    return c"
      ],
      "execution_count": 10,
      "outputs": []
    },
    {
      "cell_type": "code",
      "metadata": {
        "id": "5u-qkAr2AhAz",
        "colab": {
          "base_uri": "https://localhost:8080/"
        },
        "outputId": "3fb741bb-a3d9-495b-c4b9-5ff8a8b3538f"
      },
      "source": [
        "combinaison(3,6)"
      ],
      "execution_count": 11,
      "outputs": [
        {
          "output_type": "execute_result",
          "data": {
            "text/plain": [
              "20"
            ]
          },
          "metadata": {
            "tags": []
          },
          "execution_count": 11
        }
      ]
    },
    {
      "cell_type": "markdown",
      "metadata": {
        "id": "jsyRRyMvAhA9"
      },
      "source": [
        "**_1.3. Triangle de Pascal_**"
      ]
    },
    {
      "cell_type": "code",
      "metadata": {
        "id": "4R3vohM1AhBA"
      },
      "source": [
        "def triangle_Pascal1(num_ligne) :\n",
        "    tp = [] # ligne n°0\n",
        "\n",
        "    for n in range (num_ligne + 1):\n",
        "        ligne_n = [combinaison(k,n) for k in range (n+1)] \n",
        "        tp.append(ligne_n)\n",
        "        #print(ligne_n)\n",
        "    return(tp)"
      ],
      "execution_count": 12,
      "outputs": []
    },
    {
      "cell_type": "code",
      "metadata": {
        "id": "dfTDAB_-AhBH",
        "colab": {
          "base_uri": "https://localhost:8080/"
        },
        "outputId": "58b77413-f3da-4d75-b579-bf0eda5dafb7"
      },
      "source": [
        "triangle_Pascal1(6)"
      ],
      "execution_count": 13,
      "outputs": [
        {
          "output_type": "execute_result",
          "data": {
            "text/plain": [
              "[[1],\n",
              " [1, 1],\n",
              " [1, 2, 1],\n",
              " [1, 3, 3, 1],\n",
              " [1, 4, 6, 4, 1],\n",
              " [1, 5, 10, 10, 5, 1],\n",
              " [1, 6, 15, 20, 15, 6, 1]]"
            ]
          },
          "metadata": {
            "tags": []
          },
          "execution_count": 13
        }
      ]
    },
    {
      "cell_type": "markdown",
      "metadata": {
        "id": "MGV7xtoPAhBP"
      },
      "source": [
        "Ce procédé est correct, mais calcule les combinaisons à chaque étape.\n",
        "\n",
        "La formule de Pascal donne un procédé plus rapide : \n",
        "\n",
        "![Formule de Pascal](https://wikimedia.org/api/rest_v1/media/math/render/svg/203b128a098e18cbb8cf36d004bd7282b28461bf)"
      ]
    },
    {
      "cell_type": "code",
      "metadata": {
        "id": "AQGH2c2XAhBR"
      },
      "source": [
        "def triangle_Pascal(num_ligne) :\n",
        "    tp = [[1]]\n",
        "    for n in range(1,num_ligne + 1 ):\n",
        "        l = tp[n-1][:]+[0]\n",
        "        ligne_n = [1]\n",
        "        for k in range(1,n+1):\n",
        "            ligne_n = ligne_n +[l[k-1] + l[k]]\n",
        "        tp = tp + [ligne_n]\n",
        "    return(tp)\n"
      ],
      "execution_count": 14,
      "outputs": []
    },
    {
      "cell_type": "code",
      "metadata": {
        "id": "IKftWDepAhBX",
        "colab": {
          "base_uri": "https://localhost:8080/"
        },
        "outputId": "8e71575b-8f4f-4ad4-fc59-4b7a020668d4"
      },
      "source": [
        "triangle_Pascal(6)\n"
      ],
      "execution_count": 15,
      "outputs": [
        {
          "output_type": "execute_result",
          "data": {
            "text/plain": [
              "[[1],\n",
              " [1, 1],\n",
              " [1, 2, 1],\n",
              " [1, 3, 3, 1],\n",
              " [1, 4, 6, 4, 1],\n",
              " [1, 5, 10, 10, 5, 1],\n",
              " [1, 6, 15, 20, 15, 6, 1]]"
            ]
          },
          "metadata": {
            "tags": []
          },
          "execution_count": 15
        }
      ]
    },
    {
      "cell_type": "markdown",
      "metadata": {
        "id": "CnBbsy4GAhBe"
      },
      "source": [
        "### 2. Permutations d'une liste et parties d'un ensemble\n",
        "\n",
        "**<span style=\"color: #D17460\">TSpé </span>**\n",
        "\n",
        "**_2.1. Transposition dans une liste_**\n",
        "\n",
        "Une transposition consiste à échanger deux éléments"
      ]
    },
    {
      "cell_type": "code",
      "metadata": {
        "id": "t-c-d8GKAhBg"
      },
      "source": [
        "def transpose(liste,i,j) : # numérotation démarre à 0\n",
        "    liste[i], liste[j] = liste[j], liste[i]\n",
        "    return liste"
      ],
      "execution_count": 16,
      "outputs": []
    },
    {
      "cell_type": "code",
      "metadata": {
        "id": "N55epjbzAhBu",
        "colab": {
          "base_uri": "https://localhost:8080/"
        },
        "outputId": "6d0ec457-51fd-414a-809a-e854add31793"
      },
      "source": [
        "l = [k+1 for k in range(6)]\n",
        "print(l)\n",
        "transpose(l,2,4)"
      ],
      "execution_count": 17,
      "outputs": [
        {
          "output_type": "stream",
          "text": [
            "[1, 2, 3, 4, 5, 6]\n"
          ],
          "name": "stdout"
        },
        {
          "output_type": "execute_result",
          "data": {
            "text/plain": [
              "[1, 2, 5, 4, 3, 6]"
            ]
          },
          "metadata": {
            "tags": []
          },
          "execution_count": 17
        }
      ]
    },
    {
      "cell_type": "markdown",
      "metadata": {
        "id": "brOgDMYRAhB1"
      },
      "source": [
        "**<span style=\"color: #26B260\">Python : fonction *randint* du module *random*</span>**"
      ]
    },
    {
      "cell_type": "code",
      "metadata": {
        "id": "7GrqMF8oAhB4"
      },
      "source": [
        "def permutation_aleatoire(liste):\n",
        "    from random import randint\n",
        "    N = len(liste)**2\n",
        "    k = 1\n",
        "    \n",
        "    while k < N:\n",
        "        n1 = randint(0,len(liste)-1)\n",
        "        n2 = randint(0,len(liste)-1)\n",
        "        if n1 != n2:\n",
        "            k = k+1\n",
        "            transpose(liste,n1,n2)\n",
        "            #print(liste)\n",
        "    return(liste)\n",
        "    \n",
        "        "
      ],
      "execution_count": 18,
      "outputs": []
    },
    {
      "cell_type": "code",
      "metadata": {
        "id": "pr6jPC7EAhB-",
        "colab": {
          "base_uri": "https://localhost:8080/"
        },
        "outputId": "ba0d5a47-c458-45fd-b39b-cc7ff72e0272"
      },
      "source": [
        "permutation_aleatoire(l)"
      ],
      "execution_count": 19,
      "outputs": [
        {
          "output_type": "execute_result",
          "data": {
            "text/plain": [
              "[6, 4, 2, 1, 5, 3]"
            ]
          },
          "metadata": {
            "tags": []
          },
          "execution_count": 19
        }
      ]
    },
    {
      "cell_type": "code",
      "metadata": {
        "id": "5f7o92fqAhCE"
      },
      "source": [
        ""
      ],
      "execution_count": 19,
      "outputs": []
    },
    {
      "cell_type": "markdown",
      "metadata": {
        "id": "O3KnPd77AhCK"
      },
      "source": [
        "### 3. Couples ou paires (parties à 2 éléments), triplets ou parties à 3 éléments d'un ensemble à N éléments \n",
        "\n",
        "**<span style=\"color: #26B260\">Python : *set* (ensemble)</span>**"
      ]
    },
    {
      "cell_type": "code",
      "metadata": {
        "id": "j9JQ6ehUAhCN"
      },
      "source": [
        "def couples(E):\n",
        "    C2 = {(a,b) for a in E for b in E if a!=b} # (1,2) != (2,1)\n",
        "    return C2\n",
        "\n",
        "def paires(E):\n",
        "    P2 = {(a,b) for a in E for b in E if a<b} # (1,2) = (2,1)\n",
        "    return P2\n"
      ],
      "execution_count": 65,
      "outputs": []
    },
    {
      "cell_type": "markdown",
      "metadata": {
        "id": "6tG-QLASaxFL"
      },
      "source": [
        "**remarque :** En Python, un ensemble ne peut pas contenir ni d'autres ensembles, ni des listes, c'est bien dommage ici. Les couples et les paires sont donc représentés par des \"tuples\"."
      ]
    },
    {
      "cell_type": "code",
      "metadata": {
        "id": "0vdoKR1CAhCU",
        "colab": {
          "base_uri": "https://localhost:8080/"
        },
        "outputId": "da5f97f3-1495-4ec7-f4d8-f8b4c334f583"
      },
      "source": [
        "N = 4\n",
        "E = set(range(N))\n",
        "print('E = ',E)\n",
        "print('E permet de générer', int(factorielle(N)/factorielle(N-2)),'couples :')\n",
        "print(couples(E))\n",
        "print()\n",
        "\n",
        "print('E permet de générer', combinaison(2,N),'paires :')\n",
        "print(paires(E))"
      ],
      "execution_count": 66,
      "outputs": [
        {
          "output_type": "stream",
          "text": [
            "E =  {0, 1, 2, 3}\n",
            "E permet de générer 12 couples :\n",
            "{(0, 1), (1, 2), (3, 2), (1, 3), (3, 0), (3, 1), (2, 1), (2, 0), (2, 3), (1, 0), (0, 2), (0, 3)}\n",
            "\n",
            "E permet de générer 6 paires :\n",
            "{(0, 1), (1, 2), (1, 3), (2, 3), (0, 3), (0, 2)}\n"
          ],
          "name": "stdout"
        }
      ]
    },
    {
      "cell_type": "code",
      "metadata": {
        "colab": {
          "base_uri": "https://localhost:8080/"
        },
        "id": "mk1qivqKZaBM",
        "outputId": "cb1e9926-1a82-46cc-fcc4-9b2b5d2fcad4"
      },
      "source": [
        "{0,1} in paires(E)"
      ],
      "execution_count": 58,
      "outputs": [
        {
          "output_type": "stream",
          "text": [
            "<class 'tuple'>\n",
            "<class 'set'>\n",
            "<class 'tuple'>\n",
            "<class 'set'>\n",
            "<class 'tuple'>\n",
            "<class 'set'>\n",
            "<class 'tuple'>\n",
            "<class 'set'>\n",
            "<class 'tuple'>\n",
            "<class 'set'>\n",
            "<class 'tuple'>\n",
            "<class 'set'>\n"
          ],
          "name": "stdout"
        },
        {
          "output_type": "execute_result",
          "data": {
            "text/plain": [
              "False"
            ]
          },
          "metadata": {
            "tags": []
          },
          "execution_count": 58
        }
      ]
    },
    {
      "cell_type": "code",
      "metadata": {
        "id": "1VP-0It1AhCa",
        "colab": {
          "base_uri": "https://localhost:8080/"
        },
        "outputId": "f341fd11-c16a-4d02-ffd3-ccafb75c6e42"
      },
      "source": [
        "print('E = ',E)\n",
        "print('E permet de générer', int(factorielle(N)/factorielle(N-3)),'triplets :')\n",
        "\n",
        "print({(a,b,c) for a in E for b in E for c in E if a!=b!=c!=a} )\n",
        "# tests de comparaisons enchaînés... fonctionnalité de Python bien pratique\n",
        "\n",
        "print()\n",
        "\n",
        "print('E permet de générer', combinaison(3,N),'parties à 3 éléments :')\n",
        "print({(a,b,c) for a in E for b in E for c in E if a<b<c}) "
      ],
      "execution_count": 37,
      "outputs": [
        {
          "output_type": "stream",
          "text": [
            "E =  {0, 1, 2, 3}\n",
            "E permet de générer 24 triplets :\n",
            "{(3, 0, 2), (1, 0, 3), (1, 3, 2), (0, 1, 2), (0, 1, 3), (1, 3, 0), (2, 3, 0), (0, 2, 1), (2, 3, 1), (0, 2, 3), (2, 0, 1), (0, 3, 2), (1, 2, 0), (3, 1, 2), (3, 2, 0), (2, 0, 3), (3, 2, 1), (3, 1, 0), (0, 3, 1), (1, 2, 3), (2, 1, 3), (2, 1, 0), (3, 0, 1), (1, 0, 2)}\n",
            "\n",
            "E permet de générer 4 parties à 3 éléments :\n",
            "{(0, 1, 2), (0, 2, 3), (1, 2, 3), (0, 1, 3)}\n"
          ],
          "name": "stdout"
        }
      ]
    },
    {
      "cell_type": "code",
      "metadata": {
        "id": "m0ZJ0cq1AhCi"
      },
      "source": [
        ""
      ],
      "execution_count": 37,
      "outputs": []
    },
    {
      "cell_type": "code",
      "metadata": {
        "id": "XwkzbGVQAhCp"
      },
      "source": [
        ""
      ],
      "execution_count": null,
      "outputs": []
    }
  ]
}