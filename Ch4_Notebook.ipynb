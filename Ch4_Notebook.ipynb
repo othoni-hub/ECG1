{
  "nbformat": 4,
  "nbformat_minor": 0,
  "metadata": {
    "colab": {
      "name": "Ch4_Notebook.ipynb",
      "provenance": [],
      "collapsed_sections": [],
      "toc_visible": true,
      "authorship_tag": "ABX9TyO/o12VJDml12LFqexilV7v",
      "include_colab_link": true
    },
    "kernelspec": {
      "name": "python3",
      "display_name": "Python 3"
    }
  },
  "cells": [
    {
      "cell_type": "markdown",
      "metadata": {
        "id": "view-in-github",
        "colab_type": "text"
      },
      "source": [
        "<a href=\"https://colab.research.google.com/github/othoni-hub/ECG1/blob/main/Ch4_Notebook.ipynb\" target=\"_parent\"><img src=\"https://colab.research.google.com/assets/colab-badge.svg\" alt=\"Open In Colab\"/></a>"
      ]
    },
    {
      "cell_type": "markdown",
      "metadata": {
        "id": "YC7u6GrfSr41"
      },
      "source": [
        "# **CPGE-ECG1** \n",
        "<img src=\"https://drive.google.com/uc?id=12Wo3LubGGT4qOvYFAuLP4CyCuwjKNVuk\" width=\"230\" height=\"150\" align = \"right\"/>\n",
        "\n"
      ]
    },
    {
      "cell_type": "markdown",
      "metadata": {
        "id": "DRlX-WWfR28x"
      },
      "source": [
        "# **Ch4 - Notebook : Graphes**\n",
        "\n",
        "\n",
        "\n",
        "\n",
        "**O.Thöni - Lycée Saint-Charles Sainte Croix - LE MANS**\n",
        "\n",
        "\n",
        "![]()\n",
        "<img src=\"http://www-igm.univ-mlv.fr/~dr/XPOSE2012/visualisation_de_graphes/images/graphe.png\" width=\"350\" height=\"220\"/>"
      ]
    },
    {
      "cell_type": "markdown",
      "metadata": {
        "id": "4baaQrXiO-EF"
      },
      "source": [
        "## **À retenir dans ce notebook :**\n",
        "\n",
        "* **Les différents modes d'implémentation des graphes :**\n",
        "    * **par matrice d'adjacence**\n",
        "    * **par un dictionnaire dont les clés sont les noms des sommets et les valeurs la liste de leurs sommets adjacents**\n",
        "    * **par un dictionnaire dont les clés sont les noms des sommets et les valeurs la liste des dictionnaires de leurs sommets adjacents pondérés**\n",
        "* **Les algorithmes de base relatifs aux graphes (liste des sommets, liste des voisins d'un sommet, ajout/suppression d'une arête, d'un sommet de de toutes les arêtes qui lui sont asociées, etc.)**\n",
        "\n",
        "Les aspects graphiques sont hors programme.\n",
        "\n"
      ]
    },
    {
      "cell_type": "markdown",
      "metadata": {
        "id": "1KxzisxIQTqY"
      },
      "source": [
        "## **Visualisation d'un graphe**\n",
        "\n"
      ]
    },
    {
      "cell_type": "markdown",
      "metadata": {
        "id": "niYzG6SHdEjr"
      },
      "source": [
        "### **Visualisation rapide, dans *Wims***\n",
        "\n",
        "* Entrer la matrice d'adjacence\n",
        "\n",
        "    Exemple : \n",
        "\n",
        "1,1,2 ; 1,0,1 ; 2,1,0\n",
        "\n",
        "* Entrer la liste des sommets\n",
        "\n",
        "A,B,C\n",
        "    \n",
        "* Précisez les paramètres\n",
        "\n",
        "* et c'est tout."
      ]
    },
    {
      "cell_type": "code",
      "metadata": {
        "colab": {
          "base_uri": "https://localhost:8080/",
          "height": 525
        },
        "id": "5gKiRE5Rdz0U",
        "outputId": "23cd91b7-8c7d-46c5-9f9c-ee747f5ac6a4"
      },
      "source": [
        "%%html\n",
        "<iframe src=\"https://wims.univ-cotedazur.fr/wims/fr_tool~geometry~graphviz.fr.html\" width=\"800\" height=\"500\"></iframe>"
      ],
      "execution_count": null,
      "outputs": [
        {
          "output_type": "display_data",
          "data": {
            "text/html": [
              "<iframe src=\"https://wims.univ-cotedazur.fr/wims/fr_tool~geometry~graphviz.fr.html\" width=\"800\" height=\"500\"></iframe>"
            ],
            "text/plain": [
              "<IPython.core.display.HTML object>"
            ]
          },
          "metadata": {
            "tags": []
          }
        }
      ]
    },
    {
      "cell_type": "markdown",
      "metadata": {
        "id": "pNck5X8Wcyo2"
      },
      "source": [
        "### **Fonction de visualisation (utilisation du module *Graphviz*)**\n",
        "\n",
        "Rien dans ce paragraphe n'est exigible.\n",
        "\n",
        "Inutile en 1<sup>ère</sup> lecture, on pourra essayer de comprendre en 2<sup>ème</sup> lecture"
      ]
    },
    {
      "cell_type": "code",
      "metadata": {
        "id": "xMvwe8B4iG1i"
      },
      "source": [
        " def liste_noeuds(gr):\n",
        "        \"\"\"Fonction qui reçoit en entrée un graphe gr \n",
        "        et renvoie la liste de ses noeuds\"\"\"\n",
        "        nds = list(gr.keys())   # les noeuds sont les clés du dictionnaire\n",
        "        nds.sort()              # on ordonne la liste des noeuds par ordre alphabétique\n",
        "        return nds"
      ],
      "execution_count": null,
      "outputs": []
    },
    {
      "cell_type": "code",
      "metadata": {
        "id": "UO0asPc6iWeq"
      },
      "source": [
        "def arete(gr,nd1, nd2):\n",
        "        \"\"\"Fonction qui reçoit en entrées un graphe gr et deux noeuds nd1 et nd2,\n",
        "        et qui renvoie le poids de l'arête nd1->nd2 ou 0 si pas d'arête\"\"\"\n",
        "        if nd2 not in voisins(gr, nd1):\n",
        "            return 0\n",
        "        for a in gr[nd1]:\n",
        "            if a[0] == nd2:\n",
        "                return a[1]"
      ],
      "execution_count": null,
      "outputs": []
    },
    {
      "cell_type": "code",
      "metadata": {
        "id": "Mtx1Ll9WifIE"
      },
      "source": [
        "def voisins(gr, nd):\n",
        "        \"\"\"Fonction qui reçoit en entrées un graphe gr et un noeud nd\n",
        "        et renvoie la liste des noeuds voisins du noeud nd dans le graphe gr\"\"\"\n",
        "        if nd in liste_noeuds(gr):\n",
        "            return [a[0] for a in gr[nd]]\n",
        "        else:\n",
        "            return []"
      ],
      "execution_count": null,
      "outputs": []
    },
    {
      "cell_type": "code",
      "metadata": {
        "id": "XK7DCjpHMo0k"
      },
      "source": [
        "from graphviz import Digraph # bibliothèque hors programme d'ECG\n",
        "\n",
        "def show(gr):\n",
        "        \"\"\"Fonction qui reçoit en entrée un graphe gr, orienté ou non, pondéré ou non\n",
        "        modélisé par une liste de couples ou de listes,\n",
        "        et qui réalise la représentation graphique avec graphviz du graphe gr\"\"\"\n",
        "\n",
        "        dispo=\"circo\" # valeurs possibles \"neato\", \"circo\",\"dot\",\"fdp\"\n",
        "\n",
        "        dot = Digraph(comment=\"Graphe\", engine = dispo, format='svg') #Digraph est le module pour les graphes orientés ('Directed Graph')\n",
        "\n",
        "        # Attibuts graphiques, pour jouer\n",
        "        #dot.attr('graph', overlap = 'false', fontsize = '16', bgcolor = \"#ffffff00\",fontcolor=\"grey\")\n",
        "        #dot.attr('node', shape = 'circle', fixedsize = 'true', width = '0.4', fontsize = '14', style = \"filled\", color = 'grey')\n",
        "        #dot.attr('edge', arrowsize = '0.7', fontsize = '12',color=\"grey\",fontcolor=\"grey\")\n",
        "\n",
        "        for nd in liste_noeuds(gr):\n",
        "            dot.node(nd,nd)\n",
        "            for a in gr[nd]:\n",
        "                # Teste si l'arête est orientée\n",
        "                if arete(gr,a[0], nd) == arete(gr, nd, a[0]) :\n",
        "                    # dessin d'une arête non orientée\n",
        "                    if a[0]<= nd:\n",
        "                        # On ne dessine qu'une seule arête sur les 2\n",
        "                        if a[1] != 1:\n",
        "                            dot.edge(nd, a[0],label=str(a[1]), dir=\"none\")\n",
        "                        else:\n",
        "                            dot.edge(nd, a[0], dir=\"none\")\n",
        "                else:\n",
        "                    # dessin d'une arête orientée\n",
        "                    if a[1] != 1:\n",
        "                        dot.edge(nd, a[0],label=str(a[1]))\n",
        "                    else:\n",
        "                        dot.edge(nd, a[0])\n",
        "        return dot"
      ],
      "execution_count": null,
      "outputs": []
    },
    {
      "cell_type": "markdown",
      "metadata": {
        "id": "58fNRX9ISNBJ"
      },
      "source": [
        "## **diverses natures de graphes et implémentations**\n",
        "\n"
      ]
    },
    {
      "cell_type": "markdown",
      "metadata": {
        "id": "N9e1PjPWeWkR"
      },
      "source": [
        "### **graphe non orienté, non pondéré**\n",
        "\n",
        "Ici, le graphe est implémenté par un **dictionnaire**, dont les **clés** sont les noms des sommets, et les **valeurs** la liste de sommets adjacents, eux-mêmes présentés comme une liste groupant le nom du sommet adjacent et la valeur de l'arête entre ces deux sommets.\n",
        "\n",
        "C'est ce que l'on appelle un type... **\"complexe\"** (...pour le moins...) ou **\"construit\"**"
      ]
    },
    {
      "cell_type": "code",
      "metadata": {
        "colab": {
          "base_uri": "https://localhost:8080/"
        },
        "id": "_fIlJaWsSbL-",
        "outputId": "2d0aca68-d2c6-445f-a907-040fa64b4bb4"
      },
      "source": [
        "graphe =    {'A': [['B', 1], ['C', 1],['D',1]],             \n",
        "            'B': [['A', 1], ['C', 1]], \n",
        "            'C': [['A', 1], ['B', 1], ['D', 1]],\n",
        "            'D': [['A',1],['C', 1]] }\n",
        "            \n",
        "graphe"
      ],
      "execution_count": null,
      "outputs": [
        {
          "output_type": "execute_result",
          "data": {
            "text/plain": [
              "{'A': [['B', 1], ['C', 1], ['D', 1]],\n",
              " 'B': [['A', 1], ['C', 1]],\n",
              " 'C': [['A', 1], ['B', 1], ['D', 1]],\n",
              " 'D': [['A', 1], ['C', 1]]}"
            ]
          },
          "metadata": {
            "tags": []
          },
          "execution_count": 20
        }
      ]
    },
    {
      "cell_type": "code",
      "metadata": {
        "colab": {
          "base_uri": "https://localhost:8080/",
          "height": 293
        },
        "id": "3ma2ZTwqTRH-",
        "outputId": "e548a7c7-b5c3-4f6f-f08c-324b76cc87bb"
      },
      "source": [
        "show(graphe)"
      ],
      "execution_count": null,
      "outputs": [
        {
          "output_type": "execute_result",
          "data": {
            "text/plain": [
              "<graphviz.dot.Digraph at 0x7f28a14451d0>"
            ],
            "image/svg+xml": "<?xml version=\"1.0\" encoding=\"UTF-8\" standalone=\"no\"?>\n<!DOCTYPE svg PUBLIC \"-//W3C//DTD SVG 1.1//EN\"\n \"http://www.w3.org/Graphics/SVG/1.1/DTD/svg11.dtd\">\n<!-- Generated by graphviz version 2.40.1 (20161225.0304)\n -->\n<!-- Title: %3 Pages: 1 -->\n<svg width=\"222pt\" height=\"204pt\"\n viewBox=\"0.00 0.00 222.43 204.43\" xmlns=\"http://www.w3.org/2000/svg\" xmlns:xlink=\"http://www.w3.org/1999/xlink\">\n<g id=\"graph0\" class=\"graph\" transform=\"scale(1 1) rotate(0) translate(4 200.4282)\">\n<title>%3</title>\n<polygon fill=\"#ffffff\" stroke=\"transparent\" points=\"-4,4 -4,-200.4282 218.4282,-200.4282 218.4282,4 -4,4\"/>\n<!-- A -->\n<g id=\"node1\" class=\"node\">\n<title>A</title>\n<ellipse fill=\"none\" stroke=\"#000000\" cx=\"107.2141\" cy=\"-18\" rx=\"27\" ry=\"18\"/>\n<text text-anchor=\"middle\" x=\"107.2141\" y=\"-14.3\" font-family=\"Times,serif\" font-size=\"14.00\" fill=\"#000000\">A</text>\n</g>\n<!-- B -->\n<g id=\"node2\" class=\"node\">\n<title>B</title>\n<ellipse fill=\"none\" stroke=\"#000000\" cx=\"27\" cy=\"-98.2141\" rx=\"27\" ry=\"18\"/>\n<text text-anchor=\"middle\" x=\"27\" y=\"-94.5141\" font-family=\"Times,serif\" font-size=\"14.00\" fill=\"#000000\">B</text>\n</g>\n<!-- B&#45;&gt;A -->\n<g id=\"edge1\" class=\"edge\">\n<title>B&#45;&gt;A</title>\n<path fill=\"none\" stroke=\"#000000\" d=\"M42.0877,-83.1264C56.4287,-68.7854 77.8755,-47.3386 92.1941,-33.02\"/>\n</g>\n<!-- C -->\n<g id=\"node3\" class=\"node\">\n<title>C</title>\n<ellipse fill=\"none\" stroke=\"#000000\" cx=\"107.2141\" cy=\"-178.4282\" rx=\"27\" ry=\"18\"/>\n<text text-anchor=\"middle\" x=\"107.2141\" y=\"-174.7282\" font-family=\"Times,serif\" font-size=\"14.00\" fill=\"#000000\">C</text>\n</g>\n<!-- C&#45;&gt;A -->\n<g id=\"edge2\" class=\"edge\">\n<title>C&#45;&gt;A</title>\n<path fill=\"none\" stroke=\"#000000\" d=\"M107.2141,-160.3369C107.2141,-129.5254 107.2141,-67.2051 107.2141,-36.2713\"/>\n</g>\n<!-- C&#45;&gt;B -->\n<g id=\"edge3\" class=\"edge\">\n<title>C&#45;&gt;B</title>\n<path fill=\"none\" stroke=\"#000000\" d=\"M92.1264,-163.3405C77.7854,-148.9995 56.3386,-127.5527 42.02,-113.2341\"/>\n</g>\n<!-- D -->\n<g id=\"node4\" class=\"node\">\n<title>D</title>\n<ellipse fill=\"none\" stroke=\"#000000\" cx=\"187.4282\" cy=\"-98.2141\" rx=\"27\" ry=\"18\"/>\n<text text-anchor=\"middle\" x=\"187.4282\" y=\"-94.5141\" font-family=\"Times,serif\" font-size=\"14.00\" fill=\"#000000\">D</text>\n</g>\n<!-- D&#45;&gt;A -->\n<g id=\"edge4\" class=\"edge\">\n<title>D&#45;&gt;A</title>\n<path fill=\"none\" stroke=\"#000000\" d=\"M172.3405,-83.1264C157.9995,-68.7854 136.5527,-47.3386 122.2341,-33.02\"/>\n</g>\n<!-- D&#45;&gt;C -->\n<g id=\"edge5\" class=\"edge\">\n<title>D&#45;&gt;C</title>\n<path fill=\"none\" stroke=\"#000000\" d=\"M172.3405,-113.3017C157.9995,-127.6428 136.5527,-149.0896 122.2341,-163.4082\"/>\n</g>\n</g>\n</svg>\n"
          },
          "metadata": {
            "tags": []
          },
          "execution_count": 21
        }
      ]
    },
    {
      "cell_type": "markdown",
      "metadata": {
        "id": "kjn8WR_SZf83"
      },
      "source": [
        "remarque : \n",
        "* lorsque le graphe est non pondéré (ou lorsque le poids d'une arête est de 1), rien n'est indiqué sur l'arête par notre fonction *show*\n",
        "* lorsque une arête est non orientée (en fait quand une arête relie un noeud à un autre et que l'arête réciproque existe aussi, elle est représentée par notre fonction *show* par un segment sans flèche."
      ]
    },
    {
      "cell_type": "markdown",
      "metadata": {
        "id": "iOc4odK7UnaD"
      },
      "source": [
        "### **graphe non orienté, pondéré**"
      ]
    },
    {
      "cell_type": "code",
      "metadata": {
        "colab": {
          "base_uri": "https://localhost:8080/"
        },
        "id": "_n4GyKNqU19L",
        "outputId": "06853723-f03e-47b2-c625-cbada4e363df"
      },
      "source": [
        "graphe =    {'A': [['B', 2], ['C', 4],['D',7]],             \n",
        "            'B': [['A', 2], ['C', 1]], \n",
        "            'C': [['A', 4], ['B', 1], ['D', 3]],\n",
        "            'D': [['A',7],['C', 3]] }\n",
        "            \n",
        "graphe"
      ],
      "execution_count": null,
      "outputs": [
        {
          "output_type": "execute_result",
          "data": {
            "text/plain": [
              "{'A': [['B', 2], ['C', 4], ['D', 7]],\n",
              " 'B': [['A', 2], ['C', 1]],\n",
              " 'C': [['A', 4], ['B', 1], ['D', 3]],\n",
              " 'D': [['A', 7], ['C', 3]]}"
            ]
          },
          "metadata": {
            "tags": []
          },
          "execution_count": 22
        }
      ]
    },
    {
      "cell_type": "code",
      "metadata": {
        "colab": {
          "base_uri": "https://localhost:8080/",
          "height": 293
        },
        "id": "op3NNGMcVC2M",
        "outputId": "899d4615-20b1-4aa9-b573-fb8a89322294"
      },
      "source": [
        "show(graphe)"
      ],
      "execution_count": null,
      "outputs": [
        {
          "output_type": "execute_result",
          "data": {
            "text/plain": [
              "<graphviz.dot.Digraph at 0x7f28a1430510>"
            ],
            "image/svg+xml": "<?xml version=\"1.0\" encoding=\"UTF-8\" standalone=\"no\"?>\n<!DOCTYPE svg PUBLIC \"-//W3C//DTD SVG 1.1//EN\"\n \"http://www.w3.org/Graphics/SVG/1.1/DTD/svg11.dtd\">\n<!-- Generated by graphviz version 2.40.1 (20161225.0304)\n -->\n<!-- Title: %3 Pages: 1 -->\n<svg width=\"222pt\" height=\"204pt\"\n viewBox=\"0.00 0.00 222.43 204.43\" xmlns=\"http://www.w3.org/2000/svg\" xmlns:xlink=\"http://www.w3.org/1999/xlink\">\n<g id=\"graph0\" class=\"graph\" transform=\"scale(1 1) rotate(0) translate(4 200.4282)\">\n<title>%3</title>\n<polygon fill=\"#ffffff\" stroke=\"transparent\" points=\"-4,4 -4,-200.4282 218.4282,-200.4282 218.4282,4 -4,4\"/>\n<!-- A -->\n<g id=\"node1\" class=\"node\">\n<title>A</title>\n<ellipse fill=\"none\" stroke=\"#000000\" cx=\"107.2141\" cy=\"-18\" rx=\"27\" ry=\"18\"/>\n<text text-anchor=\"middle\" x=\"107.2141\" y=\"-14.3\" font-family=\"Times,serif\" font-size=\"14.00\" fill=\"#000000\">A</text>\n</g>\n<!-- B -->\n<g id=\"node2\" class=\"node\">\n<title>B</title>\n<ellipse fill=\"none\" stroke=\"#000000\" cx=\"27\" cy=\"-98.2141\" rx=\"27\" ry=\"18\"/>\n<text text-anchor=\"middle\" x=\"27\" y=\"-94.5141\" font-family=\"Times,serif\" font-size=\"14.00\" fill=\"#000000\">B</text>\n</g>\n<!-- B&#45;&gt;A -->\n<g id=\"edge1\" class=\"edge\">\n<title>B&#45;&gt;A</title>\n<path fill=\"none\" stroke=\"#000000\" d=\"M42.0877,-83.1264C56.4287,-68.7854 77.8755,-47.3386 92.1941,-33.02\"/>\n<text text-anchor=\"middle\" x=\"63.1409\" y=\"-61.8732\" font-family=\"Times,serif\" font-size=\"14.00\" fill=\"#000000\">2</text>\n</g>\n<!-- C -->\n<g id=\"node3\" class=\"node\">\n<title>C</title>\n<ellipse fill=\"none\" stroke=\"#000000\" cx=\"107.2141\" cy=\"-178.4282\" rx=\"27\" ry=\"18\"/>\n<text text-anchor=\"middle\" x=\"107.2141\" y=\"-174.7282\" font-family=\"Times,serif\" font-size=\"14.00\" fill=\"#000000\">C</text>\n</g>\n<!-- C&#45;&gt;A -->\n<g id=\"edge2\" class=\"edge\">\n<title>C&#45;&gt;A</title>\n<path fill=\"none\" stroke=\"#000000\" d=\"M107.2141,-160.3369C107.2141,-129.5254 107.2141,-67.2051 107.2141,-36.2713\"/>\n<text text-anchor=\"middle\" x=\"103.2141\" y=\"-102.1041\" font-family=\"Times,serif\" font-size=\"14.00\" fill=\"#000000\">4</text>\n</g>\n<!-- C&#45;&gt;B -->\n<g id=\"edge3\" class=\"edge\">\n<title>C&#45;&gt;B</title>\n<path fill=\"none\" stroke=\"#000000\" d=\"M92.1264,-163.3405C77.7854,-148.9995 56.3386,-127.5527 42.02,-113.2341\"/>\n</g>\n<!-- D -->\n<g id=\"node4\" class=\"node\">\n<title>D</title>\n<ellipse fill=\"none\" stroke=\"#000000\" cx=\"187.4282\" cy=\"-98.2141\" rx=\"27\" ry=\"18\"/>\n<text text-anchor=\"middle\" x=\"187.4282\" y=\"-94.5141\" font-family=\"Times,serif\" font-size=\"14.00\" fill=\"#000000\">D</text>\n</g>\n<!-- D&#45;&gt;A -->\n<g id=\"edge4\" class=\"edge\">\n<title>D&#45;&gt;A</title>\n<path fill=\"none\" stroke=\"#000000\" d=\"M172.3405,-83.1264C157.9995,-68.7854 136.5527,-47.3386 122.2341,-33.02\"/>\n<text text-anchor=\"middle\" x=\"143.2873\" y=\"-61.8732\" font-family=\"Times,serif\" font-size=\"14.00\" fill=\"#000000\">7</text>\n</g>\n<!-- D&#45;&gt;C -->\n<g id=\"edge5\" class=\"edge\">\n<title>D&#45;&gt;C</title>\n<path fill=\"none\" stroke=\"#000000\" d=\"M172.3405,-113.3017C157.9995,-127.6428 136.5527,-149.0896 122.2341,-163.4082\"/>\n<text text-anchor=\"middle\" x=\"143.2873\" y=\"-142.155\" font-family=\"Times,serif\" font-size=\"14.00\" fill=\"#000000\">3</text>\n</g>\n</g>\n</svg>\n"
          },
          "metadata": {
            "tags": []
          },
          "execution_count": 23
        }
      ]
    },
    {
      "cell_type": "markdown",
      "metadata": {
        "id": "G6ZMq5BBVVVv"
      },
      "source": [
        "### **graphe orienté, non pondéré**"
      ]
    },
    {
      "cell_type": "code",
      "metadata": {
        "colab": {
          "base_uri": "https://localhost:8080/"
        },
        "id": "PHg4N3x5VbW5",
        "outputId": "68f165b8-c41b-4195-eefb-9ee76bec3ddb"
      },
      "source": [
        "graphe =    {'A': [['B', 1], ['C', 1],['D',1]],             \n",
        "            'B': [['A', 1], ['C', 1]], \n",
        "            'C': [['B', 1], ['D', 1]] }\n",
        "            \n",
        "graphe"
      ],
      "execution_count": null,
      "outputs": [
        {
          "output_type": "execute_result",
          "data": {
            "text/plain": [
              "{'A': [['B', 1], ['C', 1], ['D', 1]],\n",
              " 'B': [['A', 1], ['C', 1]],\n",
              " 'C': [['B', 1], ['D', 1]]}"
            ]
          },
          "metadata": {
            "tags": []
          },
          "execution_count": 24
        }
      ]
    },
    {
      "cell_type": "code",
      "metadata": {
        "colab": {
          "base_uri": "https://localhost:8080/",
          "height": 293
        },
        "id": "eFabupXMVwvk",
        "outputId": "6751e605-a4f2-45f7-eb43-ff975295e661"
      },
      "source": [
        "show(graphe)"
      ],
      "execution_count": null,
      "outputs": [
        {
          "output_type": "execute_result",
          "data": {
            "text/plain": [
              "<graphviz.dot.Digraph at 0x7f28a1454a10>"
            ],
            "image/svg+xml": "<?xml version=\"1.0\" encoding=\"UTF-8\" standalone=\"no\"?>\n<!DOCTYPE svg PUBLIC \"-//W3C//DTD SVG 1.1//EN\"\n \"http://www.w3.org/Graphics/SVG/1.1/DTD/svg11.dtd\">\n<!-- Generated by graphviz version 2.40.1 (20161225.0304)\n -->\n<!-- Title: %3 Pages: 1 -->\n<svg width=\"222pt\" height=\"204pt\"\n viewBox=\"0.00 0.00 222.43 204.43\" xmlns=\"http://www.w3.org/2000/svg\" xmlns:xlink=\"http://www.w3.org/1999/xlink\">\n<g id=\"graph0\" class=\"graph\" transform=\"scale(1 1) rotate(0) translate(4 200.4282)\">\n<title>%3</title>\n<polygon fill=\"#ffffff\" stroke=\"transparent\" points=\"-4,4 -4,-200.4282 218.4282,-200.4282 218.4282,4 -4,4\"/>\n<!-- A -->\n<g id=\"node1\" class=\"node\">\n<title>A</title>\n<ellipse fill=\"none\" stroke=\"#000000\" cx=\"107.2141\" cy=\"-18\" rx=\"27\" ry=\"18\"/>\n<text text-anchor=\"middle\" x=\"107.2141\" y=\"-14.3\" font-family=\"Times,serif\" font-size=\"14.00\" fill=\"#000000\">A</text>\n</g>\n<!-- C -->\n<g id=\"node2\" class=\"node\">\n<title>C</title>\n<ellipse fill=\"none\" stroke=\"#000000\" cx=\"107.2141\" cy=\"-178.4282\" rx=\"27\" ry=\"18\"/>\n<text text-anchor=\"middle\" x=\"107.2141\" y=\"-174.7282\" font-family=\"Times,serif\" font-size=\"14.00\" fill=\"#000000\">C</text>\n</g>\n<!-- A&#45;&gt;C -->\n<g id=\"edge1\" class=\"edge\">\n<title>A&#45;&gt;C</title>\n<path fill=\"none\" stroke=\"#000000\" d=\"M107.2141,-36.0913C107.2141,-63.7735 107.2141,-116.8893 107.2141,-149.8264\"/>\n<polygon fill=\"#000000\" stroke=\"#000000\" points=\"103.7142,-150.1568 107.2141,-160.1569 110.7142,-150.1569 103.7142,-150.1568\"/>\n</g>\n<!-- D -->\n<g id=\"node3\" class=\"node\">\n<title>D</title>\n<ellipse fill=\"none\" stroke=\"#000000\" cx=\"27\" cy=\"-98.2141\" rx=\"27\" ry=\"18\"/>\n<text text-anchor=\"middle\" x=\"27\" y=\"-94.5141\" font-family=\"Times,serif\" font-size=\"14.00\" fill=\"#000000\">D</text>\n</g>\n<!-- A&#45;&gt;D -->\n<g id=\"edge2\" class=\"edge\">\n<title>A&#45;&gt;D</title>\n<path fill=\"none\" stroke=\"#000000\" d=\"M92.1264,-33.0877C80.0262,-45.1879 62.8673,-62.3468 49.1996,-76.0145\"/>\n<polygon fill=\"#000000\" stroke=\"#000000\" points=\"46.6162,-73.6481 42.02,-83.1941 51.566,-78.5979 46.6162,-73.6481\"/>\n</g>\n<!-- C&#45;&gt;D -->\n<g id=\"edge5\" class=\"edge\">\n<title>C&#45;&gt;D</title>\n<path fill=\"none\" stroke=\"#000000\" d=\"M92.1264,-163.3405C80.0262,-151.2403 62.8673,-134.0814 49.1996,-120.4137\"/>\n<polygon fill=\"#000000\" stroke=\"#000000\" points=\"51.566,-117.8303 42.02,-113.2341 46.6162,-122.7801 51.566,-117.8303\"/>\n</g>\n<!-- B -->\n<g id=\"node4\" class=\"node\">\n<title>B</title>\n<ellipse fill=\"none\" stroke=\"#000000\" cx=\"187.4282\" cy=\"-98.2141\" rx=\"27\" ry=\"18\"/>\n<text text-anchor=\"middle\" x=\"187.4282\" y=\"-94.5141\" font-family=\"Times,serif\" font-size=\"14.00\" fill=\"#000000\">B</text>\n</g>\n<!-- C&#45;&gt;B -->\n<g id=\"edge4\" class=\"edge\">\n<title>C&#45;&gt;B</title>\n<path fill=\"none\" stroke=\"#000000\" d=\"M122.3017,-163.3405C136.6428,-148.9995 158.0896,-127.5527 172.4082,-113.2341\"/>\n</g>\n<!-- B&#45;&gt;A -->\n<g id=\"edge3\" class=\"edge\">\n<title>B&#45;&gt;A</title>\n<path fill=\"none\" stroke=\"#000000\" d=\"M172.3405,-83.1264C157.9995,-68.7854 136.5527,-47.3386 122.2341,-33.02\"/>\n</g>\n</g>\n</svg>\n"
          },
          "metadata": {
            "tags": []
          },
          "execution_count": 25
        }
      ]
    },
    {
      "cell_type": "markdown",
      "metadata": {
        "id": "LpEztQ_JWvhr"
      },
      "source": [
        "source : https://notebooks.lecluse.fr/python/nsi/terminale/graphes/algorithmique/poo/tp/2020/08/17/nsi_t_algo_graphes.html"
      ]
    },
    {
      "cell_type": "markdown",
      "metadata": {
        "id": "gw5vqeFYT33m"
      },
      "source": [
        "## **Actions de base sur les graphes**"
      ]
    },
    {
      "cell_type": "code",
      "metadata": {
        "id": "uxw0yKDyMOrZ"
      },
      "source": [
        "graphe =    {'A': [['M', 65], ['R', 90], ['T', 80]],            \n",
        "            'L': [['P', 230], ['T', 260]],\n",
        "            'M': [['A', 65], ['P', 95], ['R', 90], ['T', 55]],\n",
        "            'P': [['L', 230], ['M', 95], ['T', 130]],\n",
        "            'R': [['A', 90], ['M', 90]],\n",
        "            'T': [['A', 80], ['L', 260], ['M', 55], ['P', 130]]}\n",
        "                "
      ],
      "execution_count": null,
      "outputs": []
    },
    {
      "cell_type": "markdown",
      "metadata": {
        "id": "4r0lhQkQTrAK"
      },
      "source": [
        "**Note** : les valeurs de ce dictionnaire sont des listes de listes. Dans le programme officiel, les listes sont utilisées uniquement pour représenter des tableaux à une dimension, SAUF dans ce cas de la modélisation d'un graphe par un dictionnaire dont les valeurs sont des listes de listes."
      ]
    },
    {
      "cell_type": "code",
      "metadata": {
        "colab": {
          "base_uri": "https://localhost:8080/"
        },
        "id": "J2ZkcSbvMf7j",
        "outputId": "84b0a42e-22b9-457d-c49d-ead8e5278b89"
      },
      "source": [
        "graphe"
      ],
      "execution_count": null,
      "outputs": [
        {
          "output_type": "execute_result",
          "data": {
            "text/plain": [
              "{'A': [['M', 65], ['R', 90], ['T', 80]],\n",
              " 'L': [['P', 230], ['T', 260]],\n",
              " 'M': [['A', 65], ['P', 95], ['R', 90], ['T', 55]],\n",
              " 'P': [['L', 230], ['M', 95], ['T', 130]],\n",
              " 'R': [['A', 90], ['M', 90]],\n",
              " 'T': [['A', 80], ['L', 260], ['M', 55], ['P', 130]]}"
            ]
          },
          "metadata": {
            "tags": []
          },
          "execution_count": 27
        }
      ]
    },
    {
      "cell_type": "code",
      "metadata": {
        "colab": {
          "base_uri": "https://localhost:8080/",
          "height": 357
        },
        "id": "LBoFKc8sXiST",
        "outputId": "defd87e0-8a87-4656-8813-5a7c8ef8ca76"
      },
      "source": [
        "show(graphe)"
      ],
      "execution_count": null,
      "outputs": [
        {
          "output_type": "execute_result",
          "data": {
            "text/plain": [
              "<graphviz.dot.Digraph at 0x7f28a13d9c10>"
            ],
            "image/svg+xml": "<?xml version=\"1.0\" encoding=\"UTF-8\" standalone=\"no\"?>\n<!DOCTYPE svg PUBLIC \"-//W3C//DTD SVG 1.1//EN\"\n \"http://www.w3.org/Graphics/SVG/1.1/DTD/svg11.dtd\">\n<!-- Generated by graphviz version 2.40.1 (20161225.0304)\n -->\n<!-- Title: %3 Pages: 1 -->\n<svg width=\"303pt\" height=\"252pt\"\n viewBox=\"0.00 0.00 302.64 252.40\" xmlns=\"http://www.w3.org/2000/svg\" xmlns:xlink=\"http://www.w3.org/1999/xlink\">\n<g id=\"graph0\" class=\"graph\" transform=\"scale(1 1) rotate(0) translate(4 248.4023)\">\n<title>%3</title>\n<polygon fill=\"#ffffff\" stroke=\"transparent\" points=\"-4,4 -4,-248.4023 298.6423,-248.4023 298.6423,4 -4,4\"/>\n<!-- A -->\n<g id=\"node1\" class=\"node\">\n<title>A</title>\n<ellipse fill=\"none\" stroke=\"#000000\" cx=\"207.4817\" cy=\"-18\" rx=\"27\" ry=\"18\"/>\n<text text-anchor=\"middle\" x=\"207.4817\" y=\"-14.3\" font-family=\"Times,serif\" font-size=\"14.00\" fill=\"#000000\">A</text>\n</g>\n<!-- L -->\n<g id=\"node2\" class=\"node\">\n<title>L</title>\n<ellipse fill=\"none\" stroke=\"#000000\" cx=\"267.6423\" cy=\"-122.2012\" rx=\"27\" ry=\"18\"/>\n<text text-anchor=\"middle\" x=\"267.6423\" y=\"-118.5012\" font-family=\"Times,serif\" font-size=\"14.00\" fill=\"#000000\">L</text>\n</g>\n<!-- M -->\n<g id=\"node3\" class=\"node\">\n<title>M</title>\n<ellipse fill=\"none\" stroke=\"#000000\" cx=\"27\" cy=\"-122.2012\" rx=\"27\" ry=\"18\"/>\n<text text-anchor=\"middle\" x=\"27\" y=\"-118.5012\" font-family=\"Times,serif\" font-size=\"14.00\" fill=\"#000000\">M</text>\n</g>\n<!-- M&#45;&gt;A -->\n<g id=\"edge1\" class=\"edge\">\n<title>M&#45;&gt;A</title>\n<path fill=\"none\" stroke=\"#000000\" d=\"M47.7035,-110.248C82.5178,-90.1479 152.3681,-49.8199 187.0196,-29.8138\"/>\n<text text-anchor=\"middle\" x=\"109.3616\" y=\"-73.8309\" font-family=\"Times,serif\" font-size=\"14.00\" fill=\"#000000\">65</text>\n</g>\n<!-- P -->\n<g id=\"node4\" class=\"node\">\n<title>P</title>\n<ellipse fill=\"none\" stroke=\"#000000\" cx=\"207.4817\" cy=\"-226.4023\" rx=\"27\" ry=\"18\"/>\n<text text-anchor=\"middle\" x=\"207.4817\" y=\"-222.7023\" font-family=\"Times,serif\" font-size=\"14.00\" fill=\"#000000\">P</text>\n</g>\n<!-- P&#45;&gt;L -->\n<g id=\"edge2\" class=\"edge\">\n<title>P&#45;&gt;L</title>\n<path fill=\"none\" stroke=\"#000000\" d=\"M217.416,-209.1956C228.6295,-189.7732 246.756,-158.3773 257.8928,-139.0877\"/>\n<text text-anchor=\"middle\" x=\"226.1544\" y=\"-177.9417\" font-family=\"Times,serif\" font-size=\"14.00\" fill=\"#000000\">230</text>\n</g>\n<!-- P&#45;&gt;M -->\n<g id=\"edge3\" class=\"edge\">\n<title>P&#45;&gt;M</title>\n<path fill=\"none\" stroke=\"#000000\" d=\"M186.7782,-214.4491C151.9639,-194.3491 82.1136,-154.021 47.4621,-134.015\"/>\n<text text-anchor=\"middle\" x=\"109.1201\" y=\"-178.032\" font-family=\"Times,serif\" font-size=\"14.00\" fill=\"#000000\">95</text>\n</g>\n<!-- R -->\n<g id=\"node5\" class=\"node\">\n<title>R</title>\n<ellipse fill=\"none\" stroke=\"#000000\" cx=\"87.1606\" cy=\"-18\" rx=\"27\" ry=\"18\"/>\n<text text-anchor=\"middle\" x=\"87.1606\" y=\"-14.3\" font-family=\"Times,serif\" font-size=\"14.00\" fill=\"#000000\">R</text>\n</g>\n<!-- R&#45;&gt;A -->\n<g id=\"edge4\" class=\"edge\">\n<title>R&#45;&gt;A</title>\n<path fill=\"none\" stroke=\"#000000\" d=\"M114.163,-18C133.8403,-18 160.4003,-18 180.1531,-18\"/>\n<text text-anchor=\"middle\" x=\"139.158\" y=\"-21.8\" font-family=\"Times,serif\" font-size=\"14.00\" fill=\"#000000\">90</text>\n</g>\n<!-- R&#45;&gt;M -->\n<g id=\"edge5\" class=\"edge\">\n<title>R&#45;&gt;M</title>\n<path fill=\"none\" stroke=\"#000000\" d=\"M77.2263,-35.2067C66.0127,-54.6291 47.8863,-86.025 36.7494,-105.3146\"/>\n<text text-anchor=\"middle\" x=\"48.9879\" y=\"-74.0607\" font-family=\"Times,serif\" font-size=\"14.00\" fill=\"#000000\">90</text>\n</g>\n<!-- T -->\n<g id=\"node6\" class=\"node\">\n<title>T</title>\n<ellipse fill=\"none\" stroke=\"#000000\" cx=\"87.1606\" cy=\"-226.4023\" rx=\"27\" ry=\"18\"/>\n<text text-anchor=\"middle\" x=\"87.1606\" y=\"-222.7023\" font-family=\"Times,serif\" font-size=\"14.00\" fill=\"#000000\">T</text>\n</g>\n<!-- T&#45;&gt;A -->\n<g id=\"edge6\" class=\"edge\">\n<title>T&#45;&gt;A</title>\n<path fill=\"none\" stroke=\"#000000\" d=\"M97.007,-209.3479C119.6255,-170.1714 175.0812,-74.1194 197.668,-34.9978\"/>\n<text text-anchor=\"middle\" x=\"139.3375\" y=\"-125.9728\" font-family=\"Times,serif\" font-size=\"14.00\" fill=\"#000000\">80</text>\n</g>\n<!-- T&#45;&gt;L -->\n<g id=\"edge7\" class=\"edge\">\n<title>T&#45;&gt;L</title>\n<path fill=\"none\" stroke=\"#000000\" d=\"M107.8641,-214.4491C142.6784,-194.3491 212.5286,-154.021 247.1802,-134.015\"/>\n<text text-anchor=\"middle\" x=\"166.0221\" y=\"-178.032\" font-family=\"Times,serif\" font-size=\"14.00\" fill=\"#000000\">260</text>\n</g>\n<!-- T&#45;&gt;M -->\n<g id=\"edge8\" class=\"edge\">\n<title>T&#45;&gt;M</title>\n<path fill=\"none\" stroke=\"#000000\" d=\"M77.2263,-209.1956C66.0127,-189.7732 47.8863,-158.3773 36.7494,-139.0877\"/>\n<text text-anchor=\"middle\" x=\"48.9879\" y=\"-177.9417\" font-family=\"Times,serif\" font-size=\"14.00\" fill=\"#000000\">55</text>\n</g>\n<!-- T&#45;&gt;P -->\n<g id=\"edge9\" class=\"edge\">\n<title>T&#45;&gt;P</title>\n<path fill=\"none\" stroke=\"#000000\" d=\"M114.163,-226.4023C133.8403,-226.4023 160.4003,-226.4023 180.1531,-226.4023\"/>\n<text text-anchor=\"middle\" x=\"135.658\" y=\"-230.2023\" font-family=\"Times,serif\" font-size=\"14.00\" fill=\"#000000\">130</text>\n</g>\n</g>\n</svg>\n"
          },
          "metadata": {
            "tags": []
          },
          "execution_count": 28
        }
      ]
    },
    {
      "cell_type": "markdown",
      "metadata": {
        "id": "edWr-HA4T_LJ"
      },
      "source": [
        "\n",
        "\n",
        "### **Ajouter un noeud**"
      ]
    },
    {
      "cell_type": "code",
      "metadata": {
        "id": "PjflpFuUN_a6"
      },
      "source": [
        "def ajouter_noeud(gr, nd):\n",
        "        \"\"\"Fonction qui reçoit un graphe gr et un noeud nd\n",
        "        et qui ajoute le nouveau noeud nd au graphe gr\"\"\"\n",
        "        \n",
        "        if not nd in gr.keys():\n",
        "            gr[nd] = []"
      ],
      "execution_count": null,
      "outputs": []
    },
    {
      "cell_type": "code",
      "metadata": {
        "id": "PTCNFDBISl8p"
      },
      "source": [
        "ajouter_noeud(graphe,'G')"
      ],
      "execution_count": null,
      "outputs": []
    },
    {
      "cell_type": "code",
      "metadata": {
        "colab": {
          "base_uri": "https://localhost:8080/"
        },
        "id": "UWpz8Vv_S9j7",
        "outputId": "6d88ea06-8b20-4dfc-a55b-3a14a6532b62"
      },
      "source": [
        "graphe"
      ],
      "execution_count": null,
      "outputs": [
        {
          "output_type": "execute_result",
          "data": {
            "text/plain": [
              "{'A': [['M', 65], ['R', 90], ['T', 80]],\n",
              " 'G': [],\n",
              " 'L': [['P', 230], ['T', 260]],\n",
              " 'M': [['A', 65], ['P', 95], ['R', 90], ['T', 55]],\n",
              " 'P': [['L', 230], ['M', 95], ['T', 130]],\n",
              " 'R': [['A', 90], ['M', 90]],\n",
              " 'T': [['A', 80], ['L', 260], ['M', 55], ['P', 130]]}"
            ]
          },
          "metadata": {
            "tags": []
          },
          "execution_count": 31
        }
      ]
    },
    {
      "cell_type": "code",
      "metadata": {
        "colab": {
          "base_uri": "https://localhost:8080/",
          "height": 357
        },
        "id": "njj-jnJsXew_",
        "outputId": "6a2e9f9d-21ad-465b-90b1-2b2f1bfdf823"
      },
      "source": [
        "show(graphe)"
      ],
      "execution_count": null,
      "outputs": [
        {
          "output_type": "execute_result",
          "data": {
            "text/plain": [
              "<graphviz.dot.Digraph at 0x7f28a1afeb10>"
            ],
            "image/svg+xml": "<?xml version=\"1.0\" encoding=\"UTF-8\" standalone=\"no\"?>\n<!DOCTYPE svg PUBLIC \"-//W3C//DTD SVG 1.1//EN\"\n \"http://www.w3.org/Graphics/SVG/1.1/DTD/svg11.dtd\">\n<!-- Generated by graphviz version 2.40.1 (20161225.0304)\n -->\n<!-- Title: %3 Pages: 1 -->\n<svg width=\"348pt\" height=\"252pt\"\n viewBox=\"0.00 0.00 348.32 252.40\" xmlns=\"http://www.w3.org/2000/svg\" xmlns:xlink=\"http://www.w3.org/1999/xlink\">\n<g id=\"graph0\" class=\"graph\" transform=\"scale(1 1) rotate(0) translate(4 248.4023)\">\n<title>%3</title>\n<polygon fill=\"#ffffff\" stroke=\"transparent\" points=\"-4,4 -4,-248.4023 344.3211,-248.4023 344.3211,4 -4,4\"/>\n<!-- A -->\n<g id=\"node1\" class=\"node\">\n<title>A</title>\n<ellipse fill=\"none\" stroke=\"#000000\" cx=\"207.4817\" cy=\"-18\" rx=\"27\" ry=\"18\"/>\n<text text-anchor=\"middle\" x=\"207.4817\" y=\"-14.3\" font-family=\"Times,serif\" font-size=\"14.00\" fill=\"#000000\">A</text>\n</g>\n<!-- G -->\n<g id=\"node2\" class=\"node\">\n<title>G</title>\n<ellipse fill=\"none\" stroke=\"#000000\" cx=\"313.3211\" cy=\"-18.2012\" rx=\"27\" ry=\"18\"/>\n<text text-anchor=\"middle\" x=\"313.3211\" y=\"-14.5012\" font-family=\"Times,serif\" font-size=\"14.00\" fill=\"#000000\">G</text>\n</g>\n<!-- L -->\n<g id=\"node3\" class=\"node\">\n<title>L</title>\n<ellipse fill=\"none\" stroke=\"#000000\" cx=\"267.6423\" cy=\"-122.2012\" rx=\"27\" ry=\"18\"/>\n<text text-anchor=\"middle\" x=\"267.6423\" y=\"-118.5012\" font-family=\"Times,serif\" font-size=\"14.00\" fill=\"#000000\">L</text>\n</g>\n<!-- M -->\n<g id=\"node4\" class=\"node\">\n<title>M</title>\n<ellipse fill=\"none\" stroke=\"#000000\" cx=\"27\" cy=\"-122.2012\" rx=\"27\" ry=\"18\"/>\n<text text-anchor=\"middle\" x=\"27\" y=\"-118.5012\" font-family=\"Times,serif\" font-size=\"14.00\" fill=\"#000000\">M</text>\n</g>\n<!-- M&#45;&gt;A -->\n<g id=\"edge1\" class=\"edge\">\n<title>M&#45;&gt;A</title>\n<path fill=\"none\" stroke=\"#000000\" d=\"M47.7035,-110.248C82.5178,-90.1479 152.3681,-49.8199 187.0196,-29.8138\"/>\n<text text-anchor=\"middle\" x=\"109.3616\" y=\"-73.8309\" font-family=\"Times,serif\" font-size=\"14.00\" fill=\"#000000\">65</text>\n</g>\n<!-- P -->\n<g id=\"node5\" class=\"node\">\n<title>P</title>\n<ellipse fill=\"none\" stroke=\"#000000\" cx=\"207.4817\" cy=\"-226.4023\" rx=\"27\" ry=\"18\"/>\n<text text-anchor=\"middle\" x=\"207.4817\" y=\"-222.7023\" font-family=\"Times,serif\" font-size=\"14.00\" fill=\"#000000\">P</text>\n</g>\n<!-- P&#45;&gt;L -->\n<g id=\"edge2\" class=\"edge\">\n<title>P&#45;&gt;L</title>\n<path fill=\"none\" stroke=\"#000000\" d=\"M217.416,-209.1956C228.6295,-189.7732 246.756,-158.3773 257.8928,-139.0877\"/>\n<text text-anchor=\"middle\" x=\"226.1544\" y=\"-177.9417\" font-family=\"Times,serif\" font-size=\"14.00\" fill=\"#000000\">230</text>\n</g>\n<!-- P&#45;&gt;M -->\n<g id=\"edge3\" class=\"edge\">\n<title>P&#45;&gt;M</title>\n<path fill=\"none\" stroke=\"#000000\" d=\"M186.7782,-214.4491C151.9639,-194.3491 82.1136,-154.021 47.4621,-134.015\"/>\n<text text-anchor=\"middle\" x=\"109.1201\" y=\"-178.032\" font-family=\"Times,serif\" font-size=\"14.00\" fill=\"#000000\">95</text>\n</g>\n<!-- R -->\n<g id=\"node6\" class=\"node\">\n<title>R</title>\n<ellipse fill=\"none\" stroke=\"#000000\" cx=\"87.1606\" cy=\"-18\" rx=\"27\" ry=\"18\"/>\n<text text-anchor=\"middle\" x=\"87.1606\" y=\"-14.3\" font-family=\"Times,serif\" font-size=\"14.00\" fill=\"#000000\">R</text>\n</g>\n<!-- R&#45;&gt;A -->\n<g id=\"edge4\" class=\"edge\">\n<title>R&#45;&gt;A</title>\n<path fill=\"none\" stroke=\"#000000\" d=\"M114.163,-18C133.8403,-18 160.4003,-18 180.1531,-18\"/>\n<text text-anchor=\"middle\" x=\"139.158\" y=\"-21.8\" font-family=\"Times,serif\" font-size=\"14.00\" fill=\"#000000\">90</text>\n</g>\n<!-- R&#45;&gt;M -->\n<g id=\"edge5\" class=\"edge\">\n<title>R&#45;&gt;M</title>\n<path fill=\"none\" stroke=\"#000000\" d=\"M77.2263,-35.2067C66.0127,-54.6291 47.8863,-86.025 36.7494,-105.3146\"/>\n<text text-anchor=\"middle\" x=\"48.9879\" y=\"-74.0607\" font-family=\"Times,serif\" font-size=\"14.00\" fill=\"#000000\">90</text>\n</g>\n<!-- T -->\n<g id=\"node7\" class=\"node\">\n<title>T</title>\n<ellipse fill=\"none\" stroke=\"#000000\" cx=\"87.1606\" cy=\"-226.4023\" rx=\"27\" ry=\"18\"/>\n<text text-anchor=\"middle\" x=\"87.1606\" y=\"-222.7023\" font-family=\"Times,serif\" font-size=\"14.00\" fill=\"#000000\">T</text>\n</g>\n<!-- T&#45;&gt;A -->\n<g id=\"edge6\" class=\"edge\">\n<title>T&#45;&gt;A</title>\n<path fill=\"none\" stroke=\"#000000\" d=\"M97.007,-209.3479C119.6255,-170.1714 175.0812,-74.1194 197.668,-34.9978\"/>\n<text text-anchor=\"middle\" x=\"139.3375\" y=\"-125.9728\" font-family=\"Times,serif\" font-size=\"14.00\" fill=\"#000000\">80</text>\n</g>\n<!-- T&#45;&gt;L -->\n<g id=\"edge7\" class=\"edge\">\n<title>T&#45;&gt;L</title>\n<path fill=\"none\" stroke=\"#000000\" d=\"M107.8641,-214.4491C142.6784,-194.3491 212.5286,-154.021 247.1802,-134.015\"/>\n<text text-anchor=\"middle\" x=\"166.0221\" y=\"-178.032\" font-family=\"Times,serif\" font-size=\"14.00\" fill=\"#000000\">260</text>\n</g>\n<!-- T&#45;&gt;M -->\n<g id=\"edge8\" class=\"edge\">\n<title>T&#45;&gt;M</title>\n<path fill=\"none\" stroke=\"#000000\" d=\"M77.2263,-209.1956C66.0127,-189.7732 47.8863,-158.3773 36.7494,-139.0877\"/>\n<text text-anchor=\"middle\" x=\"48.9879\" y=\"-177.9417\" font-family=\"Times,serif\" font-size=\"14.00\" fill=\"#000000\">55</text>\n</g>\n<!-- T&#45;&gt;P -->\n<g id=\"edge9\" class=\"edge\">\n<title>T&#45;&gt;P</title>\n<path fill=\"none\" stroke=\"#000000\" d=\"M114.163,-226.4023C133.8403,-226.4023 160.4003,-226.4023 180.1531,-226.4023\"/>\n<text text-anchor=\"middle\" x=\"135.658\" y=\"-230.2023\" font-family=\"Times,serif\" font-size=\"14.00\" fill=\"#000000\">130</text>\n</g>\n</g>\n</svg>\n"
          },
          "metadata": {
            "tags": []
          },
          "execution_count": 32
        }
      ]
    },
    {
      "cell_type": "markdown",
      "metadata": {
        "id": "wXCkMlrmURIT"
      },
      "source": [
        "### **Obtenir la liste des noeuds**"
      ]
    },
    {
      "cell_type": "code",
      "metadata": {
        "id": "4E54aeW7UXCp"
      },
      "source": [
        " def liste_noeuds(gr):\n",
        "        \"\"\"Fonction qui reçoit en entrée un graphe gr \n",
        "        et renvoie la liste de ses noeuds\"\"\"\n",
        "        nds = list(gr.keys())   # les noeuds sont les clés du dictionnaire\n",
        "        nds.sort()              # on ordonne la liste des noeuds par ordre alphabétique\n",
        "        return nds"
      ],
      "execution_count": null,
      "outputs": []
    },
    {
      "cell_type": "code",
      "metadata": {
        "colab": {
          "base_uri": "https://localhost:8080/"
        },
        "id": "llPZRX5OUgjI",
        "outputId": "d7c03a40-b7be-441f-c484-8ff343c125a9"
      },
      "source": [
        "liste_noeuds(graphe)"
      ],
      "execution_count": null,
      "outputs": [
        {
          "output_type": "execute_result",
          "data": {
            "text/plain": [
              "['A', 'G', 'L', 'M', 'P', 'R', 'T']"
            ]
          },
          "metadata": {
            "tags": []
          },
          "execution_count": 34
        }
      ]
    },
    {
      "cell_type": "markdown",
      "metadata": {
        "id": "Vxg0qGatUZcV"
      },
      "source": [
        "### **Liste des voisins d'un noeud donné**"
      ]
    },
    {
      "cell_type": "code",
      "metadata": {
        "id": "6dPPLG2oVblh"
      },
      "source": [
        " def voisins(gr, nd):\n",
        "        \"\"\"Fonction qui reçoit en entrées un graphe gr et un noeud nd\n",
        "        et renvoie la liste des noeuds voisins du noeud nd dans le graphe gr\"\"\"\n",
        "        if nd in liste_noeuds(gr):\n",
        "            return [a[0] for a in gr[nd]]\n",
        "        else:\n",
        "            return []"
      ],
      "execution_count": null,
      "outputs": []
    },
    {
      "cell_type": "code",
      "metadata": {
        "colab": {
          "base_uri": "https://localhost:8080/"
        },
        "id": "s-Sj2GxeVuNC",
        "outputId": "6d14d8c9-2ecd-40db-b199-bcb8de684b82"
      },
      "source": [
        "voisins(graphe,'T')"
      ],
      "execution_count": null,
      "outputs": [
        {
          "output_type": "execute_result",
          "data": {
            "text/plain": [
              "['A', 'L', 'M', 'P']"
            ]
          },
          "metadata": {
            "tags": []
          },
          "execution_count": 36
        }
      ]
    },
    {
      "cell_type": "markdown",
      "metadata": {
        "id": "g50K3w4iUqmZ"
      },
      "source": [
        "### **Ajouter une arête ou un arc entre deux noeuds existants**"
      ]
    },
    {
      "cell_type": "code",
      "metadata": {
        "id": "LDHWZQc9TFjx"
      },
      "source": [
        "def ajouter_arete(gr, nd1, nd2, poids=1):\n",
        "        \"\"\"Fonction qui reçoit en entrée un graphe gr et deux noeuds nd1 et nd2, ainsi qu'un poids (par défaut 1)\n",
        "        et qui ajoute l'arête [nd1,nd2] au graphe gr\n",
        "        si poids n'est pas renseigné, il prendra la valeur 1\"\"\"\n",
        "        # On s'assure que les sommets existent\n",
        "        ajouter_noeud(gr,nd1)\n",
        "        ajouter_noeud(gr,nd2)\n",
        "        # On crée la connexion nd1 -> nd2\n",
        "        if nd2 not in voisins(gr,nd1):\n",
        "             gr[nd1].append([nd2, poids])"
      ],
      "execution_count": null,
      "outputs": []
    },
    {
      "cell_type": "code",
      "metadata": {
        "id": "GlTHK_PZTZQS"
      },
      "source": [
        "ajouter_arete(graphe,'G','L',70)"
      ],
      "execution_count": null,
      "outputs": []
    },
    {
      "cell_type": "code",
      "metadata": {
        "colab": {
          "base_uri": "https://localhost:8080/"
        },
        "id": "sAoYX9Z1Th7E",
        "outputId": "bb76e015-9250-4579-927b-376afdffad5e"
      },
      "source": [
        "graphe"
      ],
      "execution_count": null,
      "outputs": [
        {
          "output_type": "execute_result",
          "data": {
            "text/plain": [
              "{'A': [['M', 65], ['R', 90], ['T', 80]],\n",
              " 'G': [['L', 70]],\n",
              " 'L': [['P', 230], ['T', 260]],\n",
              " 'M': [['A', 65], ['P', 95], ['R', 90], ['T', 55]],\n",
              " 'P': [['L', 230], ['M', 95], ['T', 130]],\n",
              " 'R': [['A', 90], ['M', 90]],\n",
              " 'T': [['A', 80], ['L', 260], ['M', 55], ['P', 130]]}"
            ]
          },
          "metadata": {
            "tags": []
          },
          "execution_count": 39
        }
      ]
    },
    {
      "cell_type": "code",
      "metadata": {
        "colab": {
          "base_uri": "https://localhost:8080/",
          "height": 357
        },
        "id": "Wr_puIu6Ycog",
        "outputId": "64cc6c0f-7f67-40bb-88a6-b3dc26e4eacd"
      },
      "source": [
        "show(graphe)"
      ],
      "execution_count": null,
      "outputs": [
        {
          "output_type": "execute_result",
          "data": {
            "text/plain": [
              "<graphviz.dot.Digraph at 0x7f28a143a190>"
            ],
            "image/svg+xml": "<?xml version=\"1.0\" encoding=\"UTF-8\" standalone=\"no\"?>\n<!DOCTYPE svg PUBLIC \"-//W3C//DTD SVG 1.1//EN\"\n \"http://www.w3.org/Graphics/SVG/1.1/DTD/svg11.dtd\">\n<!-- Generated by graphviz version 2.40.1 (20161225.0304)\n -->\n<!-- Title: %3 Pages: 1 -->\n<svg width=\"402pt\" height=\"252pt\"\n viewBox=\"0.00 0.00 401.64 252.40\" xmlns=\"http://www.w3.org/2000/svg\" xmlns:xlink=\"http://www.w3.org/1999/xlink\">\n<g id=\"graph0\" class=\"graph\" transform=\"scale(1 1) rotate(0) translate(4 248.4023)\">\n<title>%3</title>\n<polygon fill=\"#ffffff\" stroke=\"transparent\" points=\"-4,4 -4,-248.4023 397.6423,-248.4023 397.6423,4 -4,4\"/>\n<!-- A -->\n<g id=\"node1\" class=\"node\">\n<title>A</title>\n<ellipse fill=\"none\" stroke=\"#000000\" cx=\"207.4817\" cy=\"-18\" rx=\"27\" ry=\"18\"/>\n<text text-anchor=\"middle\" x=\"207.4817\" y=\"-14.3\" font-family=\"Times,serif\" font-size=\"14.00\" fill=\"#000000\">A</text>\n</g>\n<!-- G -->\n<g id=\"node2\" class=\"node\">\n<title>G</title>\n<ellipse fill=\"none\" stroke=\"#000000\" cx=\"366.6423\" cy=\"-122.2012\" rx=\"27\" ry=\"18\"/>\n<text text-anchor=\"middle\" x=\"366.6423\" y=\"-118.5012\" font-family=\"Times,serif\" font-size=\"14.00\" fill=\"#000000\">G</text>\n</g>\n<!-- L -->\n<g id=\"node3\" class=\"node\">\n<title>L</title>\n<ellipse fill=\"none\" stroke=\"#000000\" cx=\"267.6423\" cy=\"-122.2012\" rx=\"27\" ry=\"18\"/>\n<text text-anchor=\"middle\" x=\"267.6423\" y=\"-118.5012\" font-family=\"Times,serif\" font-size=\"14.00\" fill=\"#000000\">L</text>\n</g>\n<!-- G&#45;&gt;L -->\n<g id=\"edge1\" class=\"edge\">\n<title>G&#45;&gt;L</title>\n<path fill=\"none\" stroke=\"#000000\" d=\"M339.5901,-122.2012C328.895,-122.2012 316.4262,-122.2012 304.9019,-122.2012\"/>\n<polygon fill=\"#000000\" stroke=\"#000000\" points=\"304.6618,-118.7013 294.6618,-122.2012 304.6617,-125.7013 304.6618,-118.7013\"/>\n<text text-anchor=\"middle\" x=\"314.246\" y=\"-126.0012\" font-family=\"Times,serif\" font-size=\"14.00\" fill=\"#000000\">70</text>\n</g>\n<!-- M -->\n<g id=\"node4\" class=\"node\">\n<title>M</title>\n<ellipse fill=\"none\" stroke=\"#000000\" cx=\"27\" cy=\"-122.2012\" rx=\"27\" ry=\"18\"/>\n<text text-anchor=\"middle\" x=\"27\" y=\"-118.5012\" font-family=\"Times,serif\" font-size=\"14.00\" fill=\"#000000\">M</text>\n</g>\n<!-- M&#45;&gt;A -->\n<g id=\"edge2\" class=\"edge\">\n<title>M&#45;&gt;A</title>\n<path fill=\"none\" stroke=\"#000000\" d=\"M47.7035,-110.248C82.5178,-90.1479 152.3681,-49.8199 187.0196,-29.8138\"/>\n<text text-anchor=\"middle\" x=\"109.3616\" y=\"-73.8309\" font-family=\"Times,serif\" font-size=\"14.00\" fill=\"#000000\">65</text>\n</g>\n<!-- P -->\n<g id=\"node5\" class=\"node\">\n<title>P</title>\n<ellipse fill=\"none\" stroke=\"#000000\" cx=\"207.4817\" cy=\"-226.4023\" rx=\"27\" ry=\"18\"/>\n<text text-anchor=\"middle\" x=\"207.4817\" y=\"-222.7023\" font-family=\"Times,serif\" font-size=\"14.00\" fill=\"#000000\">P</text>\n</g>\n<!-- P&#45;&gt;L -->\n<g id=\"edge3\" class=\"edge\">\n<title>P&#45;&gt;L</title>\n<path fill=\"none\" stroke=\"#000000\" d=\"M217.416,-209.1956C228.6295,-189.7732 246.756,-158.3773 257.8928,-139.0877\"/>\n<text text-anchor=\"middle\" x=\"226.1544\" y=\"-177.9417\" font-family=\"Times,serif\" font-size=\"14.00\" fill=\"#000000\">230</text>\n</g>\n<!-- P&#45;&gt;M -->\n<g id=\"edge4\" class=\"edge\">\n<title>P&#45;&gt;M</title>\n<path fill=\"none\" stroke=\"#000000\" d=\"M186.7782,-214.4491C151.9639,-194.3491 82.1136,-154.021 47.4621,-134.015\"/>\n<text text-anchor=\"middle\" x=\"109.1201\" y=\"-178.032\" font-family=\"Times,serif\" font-size=\"14.00\" fill=\"#000000\">95</text>\n</g>\n<!-- R -->\n<g id=\"node6\" class=\"node\">\n<title>R</title>\n<ellipse fill=\"none\" stroke=\"#000000\" cx=\"87.1606\" cy=\"-18\" rx=\"27\" ry=\"18\"/>\n<text text-anchor=\"middle\" x=\"87.1606\" y=\"-14.3\" font-family=\"Times,serif\" font-size=\"14.00\" fill=\"#000000\">R</text>\n</g>\n<!-- R&#45;&gt;A -->\n<g id=\"edge5\" class=\"edge\">\n<title>R&#45;&gt;A</title>\n<path fill=\"none\" stroke=\"#000000\" d=\"M114.163,-18C133.8403,-18 160.4003,-18 180.1531,-18\"/>\n<text text-anchor=\"middle\" x=\"139.158\" y=\"-21.8\" font-family=\"Times,serif\" font-size=\"14.00\" fill=\"#000000\">90</text>\n</g>\n<!-- R&#45;&gt;M -->\n<g id=\"edge6\" class=\"edge\">\n<title>R&#45;&gt;M</title>\n<path fill=\"none\" stroke=\"#000000\" d=\"M77.2263,-35.2067C66.0127,-54.6291 47.8863,-86.025 36.7494,-105.3146\"/>\n<text text-anchor=\"middle\" x=\"48.9879\" y=\"-74.0607\" font-family=\"Times,serif\" font-size=\"14.00\" fill=\"#000000\">90</text>\n</g>\n<!-- T -->\n<g id=\"node7\" class=\"node\">\n<title>T</title>\n<ellipse fill=\"none\" stroke=\"#000000\" cx=\"87.1606\" cy=\"-226.4023\" rx=\"27\" ry=\"18\"/>\n<text text-anchor=\"middle\" x=\"87.1606\" y=\"-222.7023\" font-family=\"Times,serif\" font-size=\"14.00\" fill=\"#000000\">T</text>\n</g>\n<!-- T&#45;&gt;A -->\n<g id=\"edge7\" class=\"edge\">\n<title>T&#45;&gt;A</title>\n<path fill=\"none\" stroke=\"#000000\" d=\"M97.007,-209.3479C119.6255,-170.1714 175.0812,-74.1194 197.668,-34.9978\"/>\n<text text-anchor=\"middle\" x=\"139.3375\" y=\"-125.9728\" font-family=\"Times,serif\" font-size=\"14.00\" fill=\"#000000\">80</text>\n</g>\n<!-- T&#45;&gt;L -->\n<g id=\"edge8\" class=\"edge\">\n<title>T&#45;&gt;L</title>\n<path fill=\"none\" stroke=\"#000000\" d=\"M107.8641,-214.4491C142.6784,-194.3491 212.5286,-154.021 247.1802,-134.015\"/>\n<text text-anchor=\"middle\" x=\"166.0221\" y=\"-178.032\" font-family=\"Times,serif\" font-size=\"14.00\" fill=\"#000000\">260</text>\n</g>\n<!-- T&#45;&gt;M -->\n<g id=\"edge9\" class=\"edge\">\n<title>T&#45;&gt;M</title>\n<path fill=\"none\" stroke=\"#000000\" d=\"M77.2263,-209.1956C66.0127,-189.7732 47.8863,-158.3773 36.7494,-139.0877\"/>\n<text text-anchor=\"middle\" x=\"48.9879\" y=\"-177.9417\" font-family=\"Times,serif\" font-size=\"14.00\" fill=\"#000000\">55</text>\n</g>\n<!-- T&#45;&gt;P -->\n<g id=\"edge10\" class=\"edge\">\n<title>T&#45;&gt;P</title>\n<path fill=\"none\" stroke=\"#000000\" d=\"M114.163,-226.4023C133.8403,-226.4023 160.4003,-226.4023 180.1531,-226.4023\"/>\n<text text-anchor=\"middle\" x=\"135.658\" y=\"-230.2023\" font-family=\"Times,serif\" font-size=\"14.00\" fill=\"#000000\">130</text>\n</g>\n</g>\n</svg>\n"
          },
          "metadata": {
            "tags": []
          },
          "execution_count": 40
        }
      ]
    },
    {
      "cell_type": "markdown",
      "metadata": {
        "id": "WRg-k13WUydH"
      },
      "source": [
        "### **Obtenir le poids d'une arête dans un graphe valué (pondéré)**"
      ]
    },
    {
      "cell_type": "code",
      "metadata": {
        "id": "HH0VusUBVMZd"
      },
      "source": [
        " def arete(gr,nd1, nd2):\n",
        "        \"\"\"Fonction qui reçoit en entrées un graphe gr et deux noeuds nd1 et nd2,\n",
        "        et qui renvoie le poids de l'arête nd1->nd2 ou 0 si pas d'arête\"\"\"\n",
        "        if nd2 not in voisins(gr, nd1):\n",
        "            return 0\n",
        "        for a in gr[nd1]:\n",
        "            if a[0] == nd2:\n",
        "                return a[1]\n",
        "    "
      ],
      "execution_count": null,
      "outputs": []
    },
    {
      "cell_type": "code",
      "metadata": {
        "colab": {
          "base_uri": "https://localhost:8080/"
        },
        "id": "qWy-z2fRV1nZ",
        "outputId": "16837194-6672-4bac-d99f-92ae2e1ad409"
      },
      "source": [
        "arete(graphe,'T','L')"
      ],
      "execution_count": null,
      "outputs": [
        {
          "output_type": "execute_result",
          "data": {
            "text/plain": [
              "260"
            ]
          },
          "metadata": {
            "tags": []
          },
          "execution_count": 42
        }
      ]
    },
    {
      "cell_type": "code",
      "metadata": {
        "colab": {
          "base_uri": "https://localhost:8080/",
          "height": 357
        },
        "id": "mNbWMuOtU56m",
        "outputId": "ef6248de-f481-4c0c-afb4-e7f20156048c"
      },
      "source": [
        "from graphviz import Digraph\n",
        "show(graphe)"
      ],
      "execution_count": null,
      "outputs": [
        {
          "output_type": "execute_result",
          "data": {
            "text/plain": [
              "<graphviz.dot.Digraph at 0x7f28a14c9e90>"
            ],
            "image/svg+xml": "<?xml version=\"1.0\" encoding=\"UTF-8\" standalone=\"no\"?>\n<!DOCTYPE svg PUBLIC \"-//W3C//DTD SVG 1.1//EN\"\n \"http://www.w3.org/Graphics/SVG/1.1/DTD/svg11.dtd\">\n<!-- Generated by graphviz version 2.40.1 (20161225.0304)\n -->\n<!-- Title: %3 Pages: 1 -->\n<svg width=\"402pt\" height=\"252pt\"\n viewBox=\"0.00 0.00 401.64 252.40\" xmlns=\"http://www.w3.org/2000/svg\" xmlns:xlink=\"http://www.w3.org/1999/xlink\">\n<g id=\"graph0\" class=\"graph\" transform=\"scale(1 1) rotate(0) translate(4 248.4023)\">\n<title>%3</title>\n<polygon fill=\"#ffffff\" stroke=\"transparent\" points=\"-4,4 -4,-248.4023 397.6423,-248.4023 397.6423,4 -4,4\"/>\n<!-- A -->\n<g id=\"node1\" class=\"node\">\n<title>A</title>\n<ellipse fill=\"none\" stroke=\"#000000\" cx=\"207.4817\" cy=\"-18\" rx=\"27\" ry=\"18\"/>\n<text text-anchor=\"middle\" x=\"207.4817\" y=\"-14.3\" font-family=\"Times,serif\" font-size=\"14.00\" fill=\"#000000\">A</text>\n</g>\n<!-- G -->\n<g id=\"node2\" class=\"node\">\n<title>G</title>\n<ellipse fill=\"none\" stroke=\"#000000\" cx=\"366.6423\" cy=\"-122.2012\" rx=\"27\" ry=\"18\"/>\n<text text-anchor=\"middle\" x=\"366.6423\" y=\"-118.5012\" font-family=\"Times,serif\" font-size=\"14.00\" fill=\"#000000\">G</text>\n</g>\n<!-- L -->\n<g id=\"node3\" class=\"node\">\n<title>L</title>\n<ellipse fill=\"none\" stroke=\"#000000\" cx=\"267.6423\" cy=\"-122.2012\" rx=\"27\" ry=\"18\"/>\n<text text-anchor=\"middle\" x=\"267.6423\" y=\"-118.5012\" font-family=\"Times,serif\" font-size=\"14.00\" fill=\"#000000\">L</text>\n</g>\n<!-- G&#45;&gt;L -->\n<g id=\"edge1\" class=\"edge\">\n<title>G&#45;&gt;L</title>\n<path fill=\"none\" stroke=\"#000000\" d=\"M339.5901,-122.2012C328.895,-122.2012 316.4262,-122.2012 304.9019,-122.2012\"/>\n<polygon fill=\"#000000\" stroke=\"#000000\" points=\"304.6618,-118.7013 294.6618,-122.2012 304.6617,-125.7013 304.6618,-118.7013\"/>\n<text text-anchor=\"middle\" x=\"314.246\" y=\"-126.0012\" font-family=\"Times,serif\" font-size=\"14.00\" fill=\"#000000\">70</text>\n</g>\n<!-- M -->\n<g id=\"node4\" class=\"node\">\n<title>M</title>\n<ellipse fill=\"none\" stroke=\"#000000\" cx=\"27\" cy=\"-122.2012\" rx=\"27\" ry=\"18\"/>\n<text text-anchor=\"middle\" x=\"27\" y=\"-118.5012\" font-family=\"Times,serif\" font-size=\"14.00\" fill=\"#000000\">M</text>\n</g>\n<!-- M&#45;&gt;A -->\n<g id=\"edge2\" class=\"edge\">\n<title>M&#45;&gt;A</title>\n<path fill=\"none\" stroke=\"#000000\" d=\"M47.7035,-110.248C82.5178,-90.1479 152.3681,-49.8199 187.0196,-29.8138\"/>\n<text text-anchor=\"middle\" x=\"109.3616\" y=\"-73.8309\" font-family=\"Times,serif\" font-size=\"14.00\" fill=\"#000000\">65</text>\n</g>\n<!-- P -->\n<g id=\"node5\" class=\"node\">\n<title>P</title>\n<ellipse fill=\"none\" stroke=\"#000000\" cx=\"207.4817\" cy=\"-226.4023\" rx=\"27\" ry=\"18\"/>\n<text text-anchor=\"middle\" x=\"207.4817\" y=\"-222.7023\" font-family=\"Times,serif\" font-size=\"14.00\" fill=\"#000000\">P</text>\n</g>\n<!-- P&#45;&gt;L -->\n<g id=\"edge3\" class=\"edge\">\n<title>P&#45;&gt;L</title>\n<path fill=\"none\" stroke=\"#000000\" d=\"M217.416,-209.1956C228.6295,-189.7732 246.756,-158.3773 257.8928,-139.0877\"/>\n<text text-anchor=\"middle\" x=\"226.1544\" y=\"-177.9417\" font-family=\"Times,serif\" font-size=\"14.00\" fill=\"#000000\">230</text>\n</g>\n<!-- P&#45;&gt;M -->\n<g id=\"edge4\" class=\"edge\">\n<title>P&#45;&gt;M</title>\n<path fill=\"none\" stroke=\"#000000\" d=\"M186.7782,-214.4491C151.9639,-194.3491 82.1136,-154.021 47.4621,-134.015\"/>\n<text text-anchor=\"middle\" x=\"109.1201\" y=\"-178.032\" font-family=\"Times,serif\" font-size=\"14.00\" fill=\"#000000\">95</text>\n</g>\n<!-- R -->\n<g id=\"node6\" class=\"node\">\n<title>R</title>\n<ellipse fill=\"none\" stroke=\"#000000\" cx=\"87.1606\" cy=\"-18\" rx=\"27\" ry=\"18\"/>\n<text text-anchor=\"middle\" x=\"87.1606\" y=\"-14.3\" font-family=\"Times,serif\" font-size=\"14.00\" fill=\"#000000\">R</text>\n</g>\n<!-- R&#45;&gt;A -->\n<g id=\"edge5\" class=\"edge\">\n<title>R&#45;&gt;A</title>\n<path fill=\"none\" stroke=\"#000000\" d=\"M114.163,-18C133.8403,-18 160.4003,-18 180.1531,-18\"/>\n<text text-anchor=\"middle\" x=\"139.158\" y=\"-21.8\" font-family=\"Times,serif\" font-size=\"14.00\" fill=\"#000000\">90</text>\n</g>\n<!-- R&#45;&gt;M -->\n<g id=\"edge6\" class=\"edge\">\n<title>R&#45;&gt;M</title>\n<path fill=\"none\" stroke=\"#000000\" d=\"M77.2263,-35.2067C66.0127,-54.6291 47.8863,-86.025 36.7494,-105.3146\"/>\n<text text-anchor=\"middle\" x=\"48.9879\" y=\"-74.0607\" font-family=\"Times,serif\" font-size=\"14.00\" fill=\"#000000\">90</text>\n</g>\n<!-- T -->\n<g id=\"node7\" class=\"node\">\n<title>T</title>\n<ellipse fill=\"none\" stroke=\"#000000\" cx=\"87.1606\" cy=\"-226.4023\" rx=\"27\" ry=\"18\"/>\n<text text-anchor=\"middle\" x=\"87.1606\" y=\"-222.7023\" font-family=\"Times,serif\" font-size=\"14.00\" fill=\"#000000\">T</text>\n</g>\n<!-- T&#45;&gt;A -->\n<g id=\"edge7\" class=\"edge\">\n<title>T&#45;&gt;A</title>\n<path fill=\"none\" stroke=\"#000000\" d=\"M97.007,-209.3479C119.6255,-170.1714 175.0812,-74.1194 197.668,-34.9978\"/>\n<text text-anchor=\"middle\" x=\"139.3375\" y=\"-125.9728\" font-family=\"Times,serif\" font-size=\"14.00\" fill=\"#000000\">80</text>\n</g>\n<!-- T&#45;&gt;L -->\n<g id=\"edge8\" class=\"edge\">\n<title>T&#45;&gt;L</title>\n<path fill=\"none\" stroke=\"#000000\" d=\"M107.8641,-214.4491C142.6784,-194.3491 212.5286,-154.021 247.1802,-134.015\"/>\n<text text-anchor=\"middle\" x=\"166.0221\" y=\"-178.032\" font-family=\"Times,serif\" font-size=\"14.00\" fill=\"#000000\">260</text>\n</g>\n<!-- T&#45;&gt;M -->\n<g id=\"edge9\" class=\"edge\">\n<title>T&#45;&gt;M</title>\n<path fill=\"none\" stroke=\"#000000\" d=\"M77.2263,-209.1956C66.0127,-189.7732 47.8863,-158.3773 36.7494,-139.0877\"/>\n<text text-anchor=\"middle\" x=\"48.9879\" y=\"-177.9417\" font-family=\"Times,serif\" font-size=\"14.00\" fill=\"#000000\">55</text>\n</g>\n<!-- T&#45;&gt;P -->\n<g id=\"edge10\" class=\"edge\">\n<title>T&#45;&gt;P</title>\n<path fill=\"none\" stroke=\"#000000\" d=\"M114.163,-226.4023C133.8403,-226.4023 160.4003,-226.4023 180.1531,-226.4023\"/>\n<text text-anchor=\"middle\" x=\"135.658\" y=\"-230.2023\" font-family=\"Times,serif\" font-size=\"14.00\" fill=\"#000000\">130</text>\n</g>\n</g>\n</svg>\n"
          },
          "metadata": {
            "tags": []
          },
          "execution_count": 43
        }
      ]
    },
    {
      "cell_type": "markdown",
      "metadata": {
        "id": "ZZBSC-NxVQ6H"
      },
      "source": [
        "### **Supprimer une arête**"
      ]
    },
    {
      "cell_type": "code",
      "metadata": {
        "id": "FC5NIybvZNoa"
      },
      "source": [
        "def supprime_arete(gr,nd1,nd2) :\n",
        "    ''' Fonction qui supprime du graphe gr l'arête orientée reliant nd1 à nd2, si elle existait.\n",
        "        Si l'arête existait et était non orientée, ses deux instances sont supprimées du dictionnaire gr'''\n",
        "    if nd2 in voisins(gr,nd1) :\n",
        "        r1 = voisins(gr,nd1).index(nd2)        \n",
        "        if nd1 in voisins(gr,nd2) :\n",
        "            r2 = voisins(gr,nd2).index(nd1)\n",
        "            if arete(gr,nd2,nd1) == arete(gr,nd1,nd2): #arête non orientée\n",
        "                gr[nd2].pop(r2)\n",
        "        gr[nd1].pop(r1)"
      ],
      "execution_count": null,
      "outputs": []
    },
    {
      "cell_type": "code",
      "metadata": {
        "id": "fXB-Csx4ZzGk"
      },
      "source": [
        "supprime_arete(graphe,\"T\",\"L\")\n"
      ],
      "execution_count": null,
      "outputs": []
    },
    {
      "cell_type": "code",
      "metadata": {
        "colab": {
          "base_uri": "https://localhost:8080/"
        },
        "id": "J_9NaWNEdnjh",
        "outputId": "14b83eeb-531a-46b3-d96e-07d2f5224093"
      },
      "source": [
        "graphe"
      ],
      "execution_count": null,
      "outputs": [
        {
          "output_type": "execute_result",
          "data": {
            "text/plain": [
              "{'A': [['M', 65], ['R', 90], ['T', 80]],\n",
              " 'G': [['L', 70]],\n",
              " 'L': [['P', 230]],\n",
              " 'M': [['A', 65], ['P', 95], ['R', 90], ['T', 55]],\n",
              " 'P': [['L', 230], ['M', 95], ['T', 130]],\n",
              " 'R': [['A', 90], ['M', 90]],\n",
              " 'T': [['A', 80], ['M', 55], ['P', 130]]}"
            ]
          },
          "metadata": {
            "tags": []
          },
          "execution_count": 46
        }
      ]
    },
    {
      "cell_type": "markdown",
      "metadata": {
        "id": "z6v5mda5VggY"
      },
      "source": [
        "### **Supprimer un noeud et toutes les arêtes qui le concernent**"
      ]
    },
    {
      "cell_type": "code",
      "metadata": {
        "id": "zLMKf_LBeIv0"
      },
      "source": [
        "def supprime_noeud(gr,nd):\n",
        "    '''Fonction qui supprime le noeud nd du graphe gr'''\n",
        "\n",
        "    if nd in liste_noeuds(gr):\n",
        "        for s in voisins(gr,nd):\n",
        "            supprime_arete(gr,s, nd)\n",
        "        l=[s for s in gr[nd]] # car on ne peut pas parcourir une liste qu'on modifie\n",
        "        for s in l:\n",
        "            supprime_arete(gr,nd,s)\n",
        "                   \n",
        "        \n",
        "        del gr[nd]"
      ],
      "execution_count": null,
      "outputs": []
    },
    {
      "cell_type": "code",
      "metadata": {
        "colab": {
          "base_uri": "https://localhost:8080/"
        },
        "id": "Gm12py8bfPpD",
        "outputId": "8d1ff7db-ec4e-4533-8344-5bf9e21775da"
      },
      "source": [
        "supprime_noeud(graphe,\"T\")\n",
        "graphe"
      ],
      "execution_count": null,
      "outputs": [
        {
          "output_type": "execute_result",
          "data": {
            "text/plain": [
              "{'A': [['M', 65], ['R', 90]],\n",
              " 'G': [['L', 70]],\n",
              " 'L': [['P', 230]],\n",
              " 'M': [['A', 65], ['P', 95], ['R', 90]],\n",
              " 'P': [['L', 230], ['M', 95]],\n",
              " 'R': [['A', 90], ['M', 90]]}"
            ]
          },
          "metadata": {
            "tags": []
          },
          "execution_count": 48
        }
      ]
    },
    {
      "cell_type": "code",
      "metadata": {
        "colab": {
          "base_uri": "https://localhost:8080/",
          "height": 218
        },
        "id": "3aLgCECVfnw2",
        "outputId": "b367e802-c13a-4c7c-c0a1-8f774cb27783"
      },
      "source": [
        "ajouter_arete(graphe,\"L\",\"L\",10)\n",
        "show(graphe)"
      ],
      "execution_count": null,
      "outputs": [
        {
          "output_type": "execute_result",
          "data": {
            "text/plain": [
              "<graphviz.dot.Digraph at 0x7f28a13e2b50>"
            ],
            "image/svg+xml": "<?xml version=\"1.0\" encoding=\"UTF-8\" standalone=\"no\"?>\n<!DOCTYPE svg PUBLIC \"-//W3C//DTD SVG 1.1//EN\"\n \"http://www.w3.org/Graphics/SVG/1.1/DTD/svg11.dtd\">\n<!-- Generated by graphviz version 2.40.1 (20161225.0304)\n -->\n<!-- Title: %3 Pages: 1 -->\n<svg width=\"503pt\" height=\"148pt\"\n viewBox=\"0.00 0.00 503.24 148.20\" xmlns=\"http://www.w3.org/2000/svg\" xmlns:xlink=\"http://www.w3.org/1999/xlink\">\n<g id=\"graph0\" class=\"graph\" transform=\"scale(1 1) rotate(0) translate(4 144.2012)\">\n<title>%3</title>\n<polygon fill=\"#ffffff\" stroke=\"transparent\" points=\"-4,4 -4,-144.2012 499.2409,-144.2012 499.2409,4 -4,4\"/>\n<!-- A -->\n<g id=\"node1\" class=\"node\">\n<title>A</title>\n<ellipse fill=\"none\" stroke=\"#000000\" cx=\"27\" cy=\"-122.2012\" rx=\"27\" ry=\"18\"/>\n<text text-anchor=\"middle\" x=\"27\" y=\"-118.5012\" font-family=\"Times,serif\" font-size=\"14.00\" fill=\"#000000\">A</text>\n</g>\n<!-- G -->\n<g id=\"node2\" class=\"node\">\n<title>G</title>\n<ellipse fill=\"none\" stroke=\"#000000\" cx=\"468.2409\" cy=\"-70.1006\" rx=\"27\" ry=\"18\"/>\n<text text-anchor=\"middle\" x=\"468.2409\" y=\"-66.4006\" font-family=\"Times,serif\" font-size=\"14.00\" fill=\"#000000\">G</text>\n</g>\n<!-- L -->\n<g id=\"node3\" class=\"node\">\n<title>L</title>\n<ellipse fill=\"none\" stroke=\"#000000\" cx=\"342.2409\" cy=\"-70.1006\" rx=\"27\" ry=\"18\"/>\n<text text-anchor=\"middle\" x=\"342.2409\" y=\"-66.4006\" font-family=\"Times,serif\" font-size=\"14.00\" fill=\"#000000\">L</text>\n</g>\n<!-- G&#45;&gt;L -->\n<g id=\"edge1\" class=\"edge\">\n<title>G&#45;&gt;L</title>\n<path fill=\"none\" stroke=\"#000000\" d=\"M441.2107,-70.1006C423.3127,-70.1006 399.5899,-70.1006 379.8569,-70.1006\"/>\n<polygon fill=\"#000000\" stroke=\"#000000\" points=\"379.6611,-66.6007 369.6611,-70.1006 379.661,-73.6007 379.6611,-66.6007\"/>\n<text text-anchor=\"middle\" x=\"418.5338\" y=\"-73.9006\" font-family=\"Times,serif\" font-size=\"14.00\" fill=\"#000000\">70</text>\n</g>\n<!-- L&#45;&gt;L -->\n<g id=\"edge2\" class=\"edge\">\n<title>L&#45;&gt;L</title>\n<path fill=\"none\" stroke=\"#000000\" d=\"M367.6843,-76.7913C378.2687,-77.2527 387.2409,-75.0225 387.2409,-70.1006 387.2409,-65.1787 378.2687,-62.9485 367.6843,-63.4099\"/>\n<text text-anchor=\"middle\" x=\"395.2409\" y=\"-66.4006\" font-family=\"Times,serif\" font-size=\"14.00\" fill=\"#000000\">10</text>\n</g>\n<!-- M -->\n<g id=\"node4\" class=\"node\">\n<title>M</title>\n<ellipse fill=\"none\" stroke=\"#000000\" cx=\"117.2409\" cy=\"-70.1006\" rx=\"27\" ry=\"18\"/>\n<text text-anchor=\"middle\" x=\"117.2409\" y=\"-66.4006\" font-family=\"Times,serif\" font-size=\"14.00\" fill=\"#000000\">M</text>\n</g>\n<!-- M&#45;&gt;A -->\n<g id=\"edge3\" class=\"edge\">\n<title>M&#45;&gt;A</title>\n<path fill=\"none\" stroke=\"#000000\" d=\"M96.7638,-81.923C82.0993,-90.3895 62.4252,-101.7484 47.7084,-110.2452\"/>\n<text text-anchor=\"middle\" x=\"64.2361\" y=\"-99.8841\" font-family=\"Times,serif\" font-size=\"14.00\" fill=\"#000000\">65</text>\n</g>\n<!-- P -->\n<g id=\"node5\" class=\"node\">\n<title>P</title>\n<ellipse fill=\"none\" stroke=\"#000000\" cx=\"216.2409\" cy=\"-70.1006\" rx=\"27\" ry=\"18\"/>\n<text text-anchor=\"middle\" x=\"216.2409\" y=\"-66.4006\" font-family=\"Times,serif\" font-size=\"14.00\" fill=\"#000000\">P</text>\n</g>\n<!-- P&#45;&gt;L -->\n<g id=\"edge4\" class=\"edge\">\n<title>P&#45;&gt;L</title>\n<path fill=\"none\" stroke=\"#000000\" d=\"M243.271,-70.1006C264.3857,-70.1006 293.607,-70.1006 314.8206,-70.1006\"/>\n<text text-anchor=\"middle\" x=\"267.5458\" y=\"-73.9006\" font-family=\"Times,serif\" font-size=\"14.00\" fill=\"#000000\">230</text>\n</g>\n<!-- P&#45;&gt;M -->\n<g id=\"edge5\" class=\"edge\">\n<title>P&#45;&gt;M</title>\n<path fill=\"none\" stroke=\"#000000\" d=\"M189.1887,-70.1006C175.2196,-70.1006 158.2246,-70.1006 144.2603,-70.1006\"/>\n<text text-anchor=\"middle\" x=\"158.7245\" y=\"-73.9006\" font-family=\"Times,serif\" font-size=\"14.00\" fill=\"#000000\">95</text>\n</g>\n<!-- R -->\n<g id=\"node6\" class=\"node\">\n<title>R</title>\n<ellipse fill=\"none\" stroke=\"#000000\" cx=\"27\" cy=\"-18\" rx=\"27\" ry=\"18\"/>\n<text text-anchor=\"middle\" x=\"27\" y=\"-14.3\" font-family=\"Times,serif\" font-size=\"14.00\" fill=\"#000000\">R</text>\n</g>\n<!-- R&#45;&gt;A -->\n<g id=\"edge6\" class=\"edge\">\n<title>R&#45;&gt;A</title>\n<path fill=\"none\" stroke=\"#000000\" d=\"M27,-36.1505C27,-55.1593 27,-84.8474 27,-103.9091\"/>\n<text text-anchor=\"middle\" x=\"19\" y=\"-73.8298\" font-family=\"Times,serif\" font-size=\"14.00\" fill=\"#000000\">90</text>\n</g>\n<!-- R&#45;&gt;M -->\n<g id=\"edge7\" class=\"edge\">\n<title>R&#45;&gt;M</title>\n<path fill=\"none\" stroke=\"#000000\" d=\"M47.477,-29.8224C62.1415,-38.289 81.8157,-49.6479 96.5325,-58.1446\"/>\n<text text-anchor=\"middle\" x=\"64.0048\" y=\"-47.7835\" font-family=\"Times,serif\" font-size=\"14.00\" fill=\"#000000\">90</text>\n</g>\n</g>\n</svg>\n"
          },
          "metadata": {
            "tags": []
          },
          "execution_count": 49
        }
      ]
    },
    {
      "cell_type": "code",
      "metadata": {
        "colab": {
          "base_uri": "https://localhost:8080/"
        },
        "id": "N17EU0DZng_G",
        "outputId": "6a7bbc3d-0851-41fc-b8bb-4344f13b418f"
      },
      "source": [
        "graphe"
      ],
      "execution_count": null,
      "outputs": [
        {
          "output_type": "execute_result",
          "data": {
            "text/plain": [
              "{'A': [['M', 65], ['R', 90]],\n",
              " 'G': [['L', 70]],\n",
              " 'L': [['P', 230], ['L', 10]],\n",
              " 'M': [['A', 65], ['P', 95], ['R', 90]],\n",
              " 'P': [['L', 230], ['M', 95]],\n",
              " 'R': [['A', 90], ['M', 90]]}"
            ]
          },
          "metadata": {
            "tags": []
          },
          "execution_count": 50
        }
      ]
    },
    {
      "cell_type": "markdown",
      "metadata": {
        "id": "9NLKvlIlet2c"
      },
      "source": [
        "## **Implémentation d'un graphe par une matrice et passage d'une implémentation à une autre**"
      ]
    },
    {
      "cell_type": "markdown",
      "metadata": {
        "id": "HTGbBpWnVqHs"
      },
      "source": [
        "### **Passer de la matrice d'adjacences d'un graphe, au dictionnaire d'adjacences**"
      ]
    },
    {
      "cell_type": "code",
      "metadata": {
        "id": "zHts4_trM_-m"
      },
      "source": [
        "def importe_matrice(matrice, noms):\n",
        "        \"\"\"Fonction qui reçoit une matrice d'adjacence(liste de listes), et la liste des noms des sommets, \n",
        "        et renvoie le dictionnaire d'adjacence gr\"\"\"\n",
        "        \n",
        "        longueur = len(matrice)\n",
        "        gr = {}\n",
        "        for i in range(longueur): \n",
        "            ajouter_noeud(gr,noms[i])           \n",
        "            \n",
        "            for j in range(longueur):\n",
        "                if matrice[i][j] != 0:\n",
        "                    ajouter_arete(gr, noms[i], noms[j], matrice[i][j])\n",
        "                    \n",
        "        return gr"
      ],
      "execution_count": null,
      "outputs": []
    },
    {
      "cell_type": "code",
      "metadata": {
        "colab": {
          "base_uri": "https://localhost:8080/"
        },
        "id": "ZTABmLngEfCW",
        "outputId": "124781c4-232f-4af1-88c2-74d4b96de040"
      },
      "source": [
        "matrice = [[0,1,1,0,0,0,0,0],\n",
        "          [1,0,0,1,1,0,0,0],\n",
        "          [1,0,0,1,0,0,0,0],\n",
        "          [0,1,1,0,1,0,0,0],\n",
        "          [0,1,0,1,0,1,1,0],\n",
        "          [0,0,0,0,1,0,1,0],\n",
        "          [0,0,0,0,1,1,0,1],\n",
        "          [0,0,0,0,0,0,1,0]]\n",
        "\n",
        "graphe2 = importe_matrice(matrice, [\"A\", \"B\", \"C\", \"D\", \"E\", \"F\", \"G\", \"H\"])\n",
        "graphe2"
      ],
      "execution_count": null,
      "outputs": [
        {
          "output_type": "execute_result",
          "data": {
            "text/plain": [
              "{'A': [['B', 1], ['C', 1]],\n",
              " 'B': [['A', 1], ['D', 1], ['E', 1]],\n",
              " 'C': [['A', 1], ['D', 1]],\n",
              " 'D': [['B', 1], ['C', 1], ['E', 1]],\n",
              " 'E': [['B', 1], ['D', 1], ['F', 1], ['G', 1]],\n",
              " 'F': [['E', 1], ['G', 1]],\n",
              " 'G': [['E', 1], ['F', 1], ['H', 1]],\n",
              " 'H': [['G', 1]]}"
            ]
          },
          "metadata": {
            "tags": []
          },
          "execution_count": 52
        }
      ]
    },
    {
      "cell_type": "code",
      "metadata": {
        "colab": {
          "base_uri": "https://localhost:8080/",
          "height": 293
        },
        "id": "TKzk55bOWXjD",
        "outputId": "35e1b7f5-4858-4347-9501-16f00ebfd0e0"
      },
      "source": [
        "show(graphe2)"
      ],
      "execution_count": null,
      "outputs": [
        {
          "output_type": "execute_result",
          "data": {
            "text/plain": [
              "<graphviz.dot.Digraph at 0x7f28a1445290>"
            ],
            "image/svg+xml": "<?xml version=\"1.0\" encoding=\"UTF-8\" standalone=\"no\"?>\n<!DOCTYPE svg PUBLIC \"-//W3C//DTD SVG 1.1//EN\"\n \"http://www.w3.org/Graphics/SVG/1.1/DTD/svg11.dtd\">\n<!-- Generated by graphviz version 2.40.1 (20161225.0304)\n -->\n<!-- Title: %3 Pages: 1 -->\n<svg width=\"514pt\" height=\"204pt\"\n viewBox=\"0.00 0.00 513.75 204.43\" xmlns=\"http://www.w3.org/2000/svg\" xmlns:xlink=\"http://www.w3.org/1999/xlink\">\n<g id=\"graph0\" class=\"graph\" transform=\"scale(1 1) rotate(0) translate(4 200.4282)\">\n<title>%3</title>\n<polygon fill=\"#ffffff\" stroke=\"transparent\" points=\"-4,4 -4,-200.4282 509.7493,-200.4282 509.7493,4 -4,4\"/>\n<!-- A -->\n<g id=\"node1\" class=\"node\">\n<title>A</title>\n<ellipse fill=\"none\" stroke=\"#000000\" cx=\"27\" cy=\"-98.2141\" rx=\"27\" ry=\"18\"/>\n<text text-anchor=\"middle\" x=\"27\" y=\"-94.5141\" font-family=\"Times,serif\" font-size=\"14.00\" fill=\"#000000\">A</text>\n</g>\n<!-- B -->\n<g id=\"node2\" class=\"node\">\n<title>B</title>\n<ellipse fill=\"none\" stroke=\"#000000\" cx=\"107.2141\" cy=\"-178.4282\" rx=\"27\" ry=\"18\"/>\n<text text-anchor=\"middle\" x=\"107.2141\" y=\"-174.7282\" font-family=\"Times,serif\" font-size=\"14.00\" fill=\"#000000\">B</text>\n</g>\n<!-- B&#45;&gt;A -->\n<g id=\"edge1\" class=\"edge\">\n<title>B&#45;&gt;A</title>\n<path fill=\"none\" stroke=\"#000000\" d=\"M92.1264,-163.3405C77.7854,-148.9995 56.3386,-127.5527 42.02,-113.2341\"/>\n</g>\n<!-- C -->\n<g id=\"node3\" class=\"node\">\n<title>C</title>\n<ellipse fill=\"none\" stroke=\"#000000\" cx=\"107.2141\" cy=\"-18\" rx=\"27\" ry=\"18\"/>\n<text text-anchor=\"middle\" x=\"107.2141\" y=\"-14.3\" font-family=\"Times,serif\" font-size=\"14.00\" fill=\"#000000\">C</text>\n</g>\n<!-- C&#45;&gt;A -->\n<g id=\"edge2\" class=\"edge\">\n<title>C&#45;&gt;A</title>\n<path fill=\"none\" stroke=\"#000000\" d=\"M92.1264,-33.0877C77.7854,-47.4287 56.3386,-68.8755 42.02,-83.1941\"/>\n</g>\n<!-- D -->\n<g id=\"node4\" class=\"node\">\n<title>D</title>\n<ellipse fill=\"none\" stroke=\"#000000\" cx=\"187.4282\" cy=\"-98.2141\" rx=\"27\" ry=\"18\"/>\n<text text-anchor=\"middle\" x=\"187.4282\" y=\"-94.5141\" font-family=\"Times,serif\" font-size=\"14.00\" fill=\"#000000\">D</text>\n</g>\n<!-- D&#45;&gt;B -->\n<g id=\"edge3\" class=\"edge\">\n<title>D&#45;&gt;B</title>\n<path fill=\"none\" stroke=\"#000000\" d=\"M172.3405,-113.3017C157.9995,-127.6428 136.5527,-149.0896 122.2341,-163.4082\"/>\n</g>\n<!-- D&#45;&gt;C -->\n<g id=\"edge4\" class=\"edge\">\n<title>D&#45;&gt;C</title>\n<path fill=\"none\" stroke=\"#000000\" d=\"M172.3405,-83.1264C157.9995,-68.7854 136.5527,-47.3386 122.2341,-33.02\"/>\n</g>\n<!-- E -->\n<g id=\"node5\" class=\"node\">\n<title>E</title>\n<ellipse fill=\"none\" stroke=\"#000000\" cx=\"289.5085\" cy=\"-46.1135\" rx=\"27\" ry=\"18\"/>\n<text text-anchor=\"middle\" x=\"289.5085\" y=\"-42.4135\" font-family=\"Times,serif\" font-size=\"14.00\" fill=\"#000000\">E</text>\n</g>\n<!-- E&#45;&gt;B -->\n<g id=\"edge5\" class=\"edge\">\n<title>E&#45;&gt;B</title>\n<path fill=\"none\" stroke=\"#000000\" d=\"M271.0259,-59.5287C236.0865,-84.8888 160.7227,-139.5901 125.7456,-164.9775\"/>\n</g>\n<!-- E&#45;&gt;D -->\n<g id=\"edge6\" class=\"edge\">\n<title>E&#45;&gt;D</title>\n<path fill=\"none\" stroke=\"#000000\" d=\"M267.8599,-57.1627C250.5365,-66.0043 226.3607,-78.3434 209.0456,-87.1808\"/>\n</g>\n<!-- F -->\n<g id=\"node6\" class=\"node\">\n<title>F</title>\n<ellipse fill=\"none\" stroke=\"#000000\" cx=\"289.5085\" cy=\"-150.3147\" rx=\"27\" ry=\"18\"/>\n<text text-anchor=\"middle\" x=\"289.5085\" y=\"-146.6147\" font-family=\"Times,serif\" font-size=\"14.00\" fill=\"#000000\">F</text>\n</g>\n<!-- F&#45;&gt;E -->\n<g id=\"edge7\" class=\"edge\">\n<title>F&#45;&gt;E</title>\n<path fill=\"none\" stroke=\"#000000\" d=\"M289.5085,-132.1642C289.5085,-113.1554 289.5085,-83.4672 289.5085,-64.4056\"/>\n</g>\n<!-- G -->\n<g id=\"node7\" class=\"node\">\n<title>G</title>\n<ellipse fill=\"none\" stroke=\"#000000\" cx=\"379.7493\" cy=\"-98.2141\" rx=\"27\" ry=\"18\"/>\n<text text-anchor=\"middle\" x=\"379.7493\" y=\"-94.5141\" font-family=\"Times,serif\" font-size=\"14.00\" fill=\"#000000\">G</text>\n</g>\n<!-- G&#45;&gt;E -->\n<g id=\"edge8\" class=\"edge\">\n<title>G&#45;&gt;E</title>\n<path fill=\"none\" stroke=\"#000000\" d=\"M359.2723,-86.3917C344.6078,-77.9251 324.9336,-66.5662 310.2168,-58.0695\"/>\n</g>\n<!-- G&#45;&gt;F -->\n<g id=\"edge9\" class=\"edge\">\n<title>G&#45;&gt;F</title>\n<path fill=\"none\" stroke=\"#000000\" d=\"M359.2723,-110.0365C344.6078,-118.503 324.9336,-129.8619 310.2168,-138.3587\"/>\n</g>\n<!-- H -->\n<g id=\"node8\" class=\"node\">\n<title>H</title>\n<ellipse fill=\"none\" stroke=\"#000000\" cx=\"478.7493\" cy=\"-98.2141\" rx=\"27\" ry=\"18\"/>\n<text text-anchor=\"middle\" x=\"478.7493\" y=\"-94.5141\" font-family=\"Times,serif\" font-size=\"14.00\" fill=\"#000000\">H</text>\n</g>\n<!-- H&#45;&gt;G -->\n<g id=\"edge10\" class=\"edge\">\n<title>H&#45;&gt;G</title>\n<path fill=\"none\" stroke=\"#000000\" d=\"M451.6971,-98.2141C437.7281,-98.2141 420.7331,-98.2141 406.7688,-98.2141\"/>\n</g>\n</g>\n</svg>\n"
          },
          "metadata": {
            "tags": []
          },
          "execution_count": 53
        }
      ]
    },
    {
      "cell_type": "markdown",
      "metadata": {
        "id": "V_kaC-ucV_PP"
      },
      "source": [
        "### **Passer du dictionnaire d'adjacences d'un graphe à sa matrice d'adjacences**"
      ]
    },
    {
      "cell_type": "code",
      "metadata": {
        "id": "_9rLKiBMNe0F"
      },
      "source": [
        "def exporte_matrice(gr):\n",
        "    '''Fonction qui reçoit un graphe gr \n",
        "    et renvoie sa matrice d'adjacences au format liste de listes'''\n",
        "\n",
        "    noms = liste_noeuds(gr)\n",
        "    longueur = len(noms)\n",
        "    M = [[0 for j in range(longueur)]for i in range(longueur)]\n",
        "    for i in range(longueur):\n",
        "        for j in range(longueur):\n",
        "            if noms[j] in voisins(gr,noms[i]):\n",
        "                M[i][j] = arete(gr,noms[i],noms[j])\n",
        "    return M\n"
      ],
      "execution_count": null,
      "outputs": []
    },
    {
      "cell_type": "code",
      "metadata": {
        "colab": {
          "base_uri": "https://localhost:8080/"
        },
        "id": "m5swJmogPhMy",
        "outputId": "8264bfb4-967c-4206-e7b1-57466a968174"
      },
      "source": [
        "mat_graphe = exporte_matrice(graphe)\n",
        "mat_graphe"
      ],
      "execution_count": null,
      "outputs": [
        {
          "output_type": "execute_result",
          "data": {
            "text/plain": [
              "[[0, 0, 0, 65, 0, 90],\n",
              " [0, 0, 70, 0, 0, 0],\n",
              " [0, 0, 10, 0, 230, 0],\n",
              " [65, 0, 0, 0, 95, 90],\n",
              " [0, 0, 230, 95, 0, 0],\n",
              " [90, 0, 0, 90, 0, 0]]"
            ]
          },
          "metadata": {
            "tags": []
          },
          "execution_count": 55
        }
      ]
    },
    {
      "cell_type": "code",
      "metadata": {
        "id": "2EresigiA_Jw"
      },
      "source": [
        ""
      ],
      "execution_count": null,
      "outputs": []
    }
  ]
}