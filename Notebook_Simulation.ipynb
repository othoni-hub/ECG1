{
  "nbformat": 4,
  "nbformat_minor": 0,
  "metadata": {
    "colab": {
      "name": "Notebook_Simulation.ipynb",
      "provenance": [],
      "authorship_tag": "ABX9TyPSC+UXNl0EgTd/5OBGrfp8",
      "include_colab_link": true
    },
    "kernelspec": {
      "name": "python3",
      "display_name": "Python 3"
    },
    "language_info": {
      "name": "python"
    }
  },
  "cells": [
    {
      "cell_type": "markdown",
      "metadata": {
        "id": "view-in-github",
        "colab_type": "text"
      },
      "source": [
        "<a href=\"https://colab.research.google.com/github/othoni-hub/ECG1/blob/main/Notebook_Simulation.ipynb\" target=\"_parent\"><img src=\"https://colab.research.google.com/assets/colab-badge.svg\" alt=\"Open In Colab\"/></a>"
      ]
    },
    {
      "cell_type": "markdown",
      "metadata": {
        "id": "JolBzGxsQ2Pl"
      },
      "source": [
        "# **CPGE-ECG1** \n",
        "<img src=\"https://drive.google.com/uc?id=12Wo3LubGGT4qOvYFAuLP4CyCuwjKNVuk\" width=\"230\" height=\"150\" align = \"right\"/>\n",
        "\n",
        "## **Ch10 - Notebook : Simulation d'expériences aléatoires avec Python**\n",
        "\n",
        "\n",
        "\n",
        "\n",
        "**O.Thöni - Lycée Saint-Charles Sainte Croix - LE MANS**"
      ]
    },
    {
      "cell_type": "markdown",
      "metadata": {
        "id": "1f_X8wg01WdB"
      },
      "source": [
        "# **Simulation de l'expérience de l'exercice n°13**"
      ]
    },
    {
      "cell_type": "markdown",
      "metadata": {
        "id": "PjhKdAhgNuID"
      },
      "source": [
        "**à retenir :**\n",
        "* **Fonction *randint* du module NumPy.Random**\n",
        "* **Simulation d'expériences aléatoires**\n",
        "* **représentations graphiques**"
      ]
    },
    {
      "cell_type": "code",
      "metadata": {
        "id": "jTQJ-4jp2CUl"
      },
      "source": [
        "import numpy as np\n",
        "import numpy.random as rd\n",
        "import matplotlib.pyplot as plt"
      ],
      "execution_count": null,
      "outputs": []
    },
    {
      "cell_type": "markdown",
      "metadata": {
        "id": "e1cygCz31rxd"
      },
      "source": [
        "## **Lancer du dé**"
      ]
    },
    {
      "cell_type": "markdown",
      "metadata": {
        "id": "eEV9Bgm1Hn9T"
      },
      "source": [
        "Cette fonction va utiliser le générateur de nombres entiers aléatoires, issu du module *NumPy.Random*, et se nomme ***randint***.\n",
        "\n",
        "randint(k) génère un nombre au hasard entre 0 inclus et k exclu."
      ]
    },
    {
      "cell_type": "code",
      "metadata": {
        "colab": {
          "base_uri": "https://localhost:8080/"
        },
        "id": "_o7tzuLKMVdC",
        "outputId": "68330e0a-3e49-423f-cb2b-1fd8b04b1cea"
      },
      "source": [
        "rd.randint(1001)"
      ],
      "execution_count": null,
      "outputs": [
        {
          "output_type": "execute_result",
          "data": {
            "text/plain": [
              "375"
            ]
          },
          "metadata": {
            "tags": []
          },
          "execution_count": 2
        }
      ]
    },
    {
      "cell_type": "markdown",
      "metadata": {
        "id": "5qeVppS9M7Ks"
      },
      "source": [
        "**Simulation du dé**"
      ]
    },
    {
      "cell_type": "code",
      "metadata": {
        "id": "6SqMfX1a0lpk"
      },
      "source": [
        "def lancer_de() :\n",
        "    return rd.randint(6) + 1"
      ],
      "execution_count": null,
      "outputs": []
    },
    {
      "cell_type": "code",
      "metadata": {
        "colab": {
          "base_uri": "https://localhost:8080/"
        },
        "id": "vUI8pJBa3SDg",
        "outputId": "fa13eb1e-a3e0-4ff0-e223-91bc22ae315b"
      },
      "source": [
        "lancer_de()"
      ],
      "execution_count": null,
      "outputs": [
        {
          "output_type": "execute_result",
          "data": {
            "text/plain": [
              "1"
            ]
          },
          "metadata": {
            "tags": []
          },
          "execution_count": 4
        }
      ]
    },
    {
      "cell_type": "markdown",
      "metadata": {
        "id": "NTP9R_2aI5B8"
      },
      "source": [
        "**Visualisation du caractère uniforme du générateur pseudo-aléatoire *randint*** : \n",
        "\n",
        "sur un grand nombre de lancers d'un dé, on compte le nombre d'apparition de chaque face...\n"
      ]
    },
    {
      "cell_type": "code",
      "metadata": {
        "colab": {
          "base_uri": "https://localhost:8080/",
          "height": 265
        },
        "id": "mVwBfei0Jtny",
        "outputId": "b663d5c9-878b-4e33-a798-a81177905484"
      },
      "source": [
        "N = 10000\n",
        "effectifs = [0 for i in range(6)]\n",
        "\n",
        "for k in range(N): #initialisation des 6 effectifs à 00\n",
        "    de = lancer_de()\n",
        "    effectifs[de-1] = effectifs[de-1] + 1 # on incrémente l'effectif de la face sortie\n",
        "\n",
        "#On calcule les fréquences\n",
        "effectifs = np.array(effectifs)\n",
        "frequences = effectifs / N\n",
        "\n",
        "#graphiques\n",
        "plt.bar([1,2,3,4,5,6],frequences, color = 'moccasin', edgecolor = \"black\")\n",
        "plt.show()"
      ],
      "execution_count": null,
      "outputs": [
        {
          "output_type": "display_data",
          "data": {
            "image/png": "[encoded data removed]",
            "text/plain": [
              "<Figure size 432x288 with 1 Axes>"
            ]
          },
          "metadata": {
            "tags": [],
            "needs_background": "light"
          }
        }
      ]
    },
    {
      "cell_type": "markdown",
      "metadata": {
        "id": "tP8kQrA9NAyU"
      },
      "source": [
        "Tout tourne autour de $\\dfrac{1}{6} \\approx 0.1667$ et plus le nombre de lancers augmente, plus les valeurs sont proches de cette... probabilité..."
      ]
    },
    {
      "cell_type": "markdown",
      "metadata": {
        "id": "UfZyEKNo39pC"
      },
      "source": [
        "## **Action sur les pieces**"
      ]
    },
    {
      "cell_type": "code",
      "metadata": {
        "id": "KtfMC_tP3UUj"
      },
      "source": [
        "def retourner(piece):\n",
        "    if piece == \"pile\" :\n",
        "        piece = \"face\"\n",
        "    else :\n",
        "        piece = \"pile\"\n",
        "    return piece"
      ],
      "execution_count": null,
      "outputs": []
    },
    {
      "cell_type": "code",
      "metadata": {
        "colab": {
          "base_uri": "https://localhost:8080/",
          "height": 36
        },
        "id": "Ywzv7oou4JOF",
        "outputId": "0e3dad24-fed3-4c67-f0e9-7139c731e3d8"
      },
      "source": [
        "A = \"face\"\n",
        "A = retourner(A)\n",
        "A"
      ],
      "execution_count": null,
      "outputs": [
        {
          "output_type": "execute_result",
          "data": {
            "application/vnd.google.colaboratory.intrinsic+json": {
              "type": "string"
            },
            "text/plain": [
              "'pile'"
            ]
          },
          "metadata": {
            "tags": []
          },
          "execution_count": 7
        }
      ]
    },
    {
      "cell_type": "markdown",
      "metadata": {
        "id": "ZzrnvSsN8lV7"
      },
      "source": [
        "## **Comptage des pièces**"
      ]
    },
    {
      "cell_type": "code",
      "metadata": {
        "id": "66i6Nok58uGw"
      },
      "source": [
        "def compte(A,B) :\n",
        "    if A==\"pile\" and B==\"pile\":\n",
        "        return 0\n",
        "    elif A==\"face\" and B==\"face\" :\n",
        "        return 2\n",
        "    else :\n",
        "        return 1 "
      ],
      "execution_count": null,
      "outputs": []
    },
    {
      "cell_type": "code",
      "metadata": {
        "colab": {
          "base_uri": "https://localhost:8080/"
        },
        "id": "xE7YosmC9Ypd",
        "outputId": "2f54f4b1-e2d1-4097-b6da-1bf510eca163"
      },
      "source": [
        "compte(\"pile\",\"pile\")"
      ],
      "execution_count": null,
      "outputs": [
        {
          "output_type": "execute_result",
          "data": {
            "text/plain": [
              "0"
            ]
          },
          "metadata": {
            "tags": []
          },
          "execution_count": 9
        }
      ]
    },
    {
      "cell_type": "code",
      "metadata": {
        "colab": {
          "base_uri": "https://localhost:8080/"
        },
        "id": "jMHcTtUe9fOD",
        "outputId": "2c22b251-f507-479d-86d9-8316a4321cf6"
      },
      "source": [
        "compte(\"pile\",\"face\")"
      ],
      "execution_count": null,
      "outputs": [
        {
          "output_type": "execute_result",
          "data": {
            "text/plain": [
              "1"
            ]
          },
          "metadata": {
            "tags": []
          },
          "execution_count": 10
        }
      ]
    },
    {
      "cell_type": "code",
      "metadata": {
        "colab": {
          "base_uri": "https://localhost:8080/"
        },
        "id": "ztGdB2V59kIU",
        "outputId": "8db55049-3687-458f-efdf-a0964fd290da"
      },
      "source": [
        "compte(\"face\",\"face\")"
      ],
      "execution_count": null,
      "outputs": [
        {
          "output_type": "execute_result",
          "data": {
            "text/plain": [
              "2"
            ]
          },
          "metadata": {
            "tags": []
          },
          "execution_count": 11
        }
      ]
    },
    {
      "cell_type": "markdown",
      "metadata": {
        "id": "uCAkhCfr775Q"
      },
      "source": [
        "## **Répétition de l'expérience**"
      ]
    },
    {
      "cell_type": "code",
      "metadata": {
        "id": "znfnErnG35K5"
      },
      "source": [
        "# initialisation\n",
        "A = \"face\"\n",
        "B = \"face\"\n",
        "x = 1\n",
        "y = 0\n",
        "z = 0\n",
        "N = 500\n",
        "\n",
        "px = 1\n",
        "py = 0\n",
        "pz = 0"
      ],
      "execution_count": null,
      "outputs": []
    },
    {
      "cell_type": "code",
      "metadata": {
        "colab": {
          "base_uri": "https://localhost:8080/",
          "height": 297
        },
        "id": "diPpxtwj4K6l",
        "outputId": "39620a29-bb11-49b1-e7b2-bcf95bf671bc"
      },
      "source": [
        "for k in range(1,N+1 ) :\n",
        "    de = lancer_de()\n",
        "    if de == 1 or de == 2 :\n",
        "        A = retourner(A)\n",
        "    if de == 3 or de == 4 :\n",
        "        B = retourner(B)\n",
        "    c = compte(A,B)\n",
        "    if c == 0 :\n",
        "        x = x+1\n",
        "        px = x/k\n",
        "    elif c == 1 :\n",
        "        y = y+1\n",
        "        py = y/k\n",
        "    else :\n",
        "        z = z+1\n",
        "        pz = z/k\n",
        "\n",
        "# Représentation graphique\n",
        "    plt.plot(k,px, \"g+\")\n",
        "    plt.plot(k,py, \"r+\")\n",
        "    plt.plot(k,pz, \"b+\")\n",
        "    plt.legend(['x','y','z'])\n",
        "    plt.xlabel(\"nombre d'expériences\")\n",
        "    plt.ylabel(\"fréquences\")\n",
        "    plt.title('Évolution des fréquences de x, y et z')\n",
        "    "
      ],
      "execution_count": null,
      "outputs": [
        {
          "output_type": "display_data",
          "data": {
            "image/png": "[encoded data removed]",
            "text/plain": [
              "<Figure size 432x288 with 1 Axes>"
            ]
          },
          "metadata": {
            "tags": [],
            "needs_background": "light"
          }
        }
      ]
    },
    {
      "cell_type": "code",
      "metadata": {
        "colab": {
          "base_uri": "https://localhost:8080/"
        },
        "id": "4FSdqpzN94C3",
        "outputId": "c7f50f3a-6c08-4ccf-c71a-56418dcc5626"
      },
      "source": [
        "x"
      ],
      "execution_count": null,
      "outputs": [
        {
          "output_type": "execute_result",
          "data": {
            "text/plain": [
              "128"
            ]
          },
          "metadata": {
            "tags": []
          },
          "execution_count": 14
        }
      ]
    },
    {
      "cell_type": "code",
      "metadata": {
        "colab": {
          "base_uri": "https://localhost:8080/"
        },
        "id": "lUW0Ejn4BnXJ",
        "outputId": "80690189-d6a1-414f-b8e4-d1312fddf6ad"
      },
      "source": [
        "px"
      ],
      "execution_count": null,
      "outputs": [
        {
          "output_type": "execute_result",
          "data": {
            "text/plain": [
              "0.2575452716297787"
            ]
          },
          "metadata": {
            "tags": []
          },
          "execution_count": 15
        }
      ]
    },
    {
      "cell_type": "code",
      "metadata": {
        "id": "laqSNm19BoWS",
        "colab": {
          "base_uri": "https://localhost:8080/"
        },
        "outputId": "00160a35-4d35-416b-bc85-204d1cfb3128"
      },
      "source": [
        "py"
      ],
      "execution_count": null,
      "outputs": [
        {
          "output_type": "execute_result",
          "data": {
            "text/plain": [
              "0.496"
            ]
          },
          "metadata": {
            "tags": []
          },
          "execution_count": 16
        }
      ]
    },
    {
      "cell_type": "code",
      "metadata": {
        "colab": {
          "base_uri": "https://localhost:8080/"
        },
        "id": "h-az_uCNIfwB",
        "outputId": "0278c4b0-ce46-4498-e590-301432df22c0"
      },
      "source": [
        "pz"
      ],
      "execution_count": null,
      "outputs": [
        {
          "output_type": "execute_result",
          "data": {
            "text/plain": [
              "0.250501002004008"
            ]
          },
          "metadata": {
            "tags": []
          },
          "execution_count": 17
        }
      ]
    },
    {
      "cell_type": "code",
      "metadata": {
        "id": "AdejnjPrIjvA"
      },
      "source": [
        ""
      ],
      "execution_count": null,
      "outputs": []
    }
  ]
}