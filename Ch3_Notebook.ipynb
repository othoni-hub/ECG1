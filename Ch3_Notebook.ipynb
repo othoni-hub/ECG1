{
  "nbformat": 4,
  "nbformat_minor": 0,
  "metadata": {
    "colab": {
      "name": "Ch3-Notebook.ipynb",
      "provenance": [],
      "collapsed_sections": [
        "AVNYRNjRvTLC",
        "F8Re_fJo2Owv",
        "aevjh5Ik1IBk",
        "etK3ti2T2JBd",
        "LOORFKft3I0F",
        "ZGai6KosDObZ",
        "tUF6yYvWFYEv",
        "sGY_c4lFH8D_",
        "TSBGho9MG2L9",
        "tr8ybfXcJTQs",
        "eq_Rxf-6JjAj",
        "SEpurJISKMCJ",
        "g4y7VpT9NWum",
        "6N_imemVP1TR",
        "-bfUSfYHSOqA"
      ],
      "toc_visible": true,
      "authorship_tag": "ABX9TyPoRrO31tEHR+/GflVl4olP",
      "include_colab_link": true
    },
    "kernelspec": {
      "name": "python3",
      "display_name": "Python 3"
    },
    "language_info": {
      "name": "python"
    }
  },
  "cells": [
    {
      "cell_type": "markdown",
      "metadata": {
        "id": "view-in-github",
        "colab_type": "text"
      },
      "source": [
        "<a href=\"https://colab.research.google.com/github/othoni-hub/ECG1/blob/main/Ch3_Notebook.ipynb\" target=\"_parent\"><img src=\"https://colab.research.google.com/assets/colab-badge.svg\" alt=\"Open In Colab\"/></a>"
      ]
    },
    {
      "cell_type": "markdown",
      "metadata": {
        "id": "m7dzZzaL91bd"
      },
      "source": [
        "# **CPGE-ECG1** \n",
        "<img src=\"https://drive.google.com/uc?id=12Wo3LubGGT4qOvYFAuLP4CyCuwjKNVuk\" width=\"230\" height=\"150\" align = \"right\"/>\n",
        "\n",
        "## **Ch3 - Notebook : Calcul Matriciel et Résolution de Systèmes**\n",
        "\n",
        "\n",
        "\n",
        "\n",
        "**O.Thöni - Lycée Saint-Charles Sainte Croix - LE MANS**"
      ]
    },
    {
      "cell_type": "markdown",
      "metadata": {
        "id": "AVNYRNjRvTLC"
      },
      "source": [
        "# **1. Calcul matriciel en Python natif**\n",
        "\n",
        "... Pas idéal, mais bon...\n",
        "\n",
        "Au programme officiel de la classe d'ECG1 ne figurent que les listes Python uni-dimensionnelles, mais on  n'est jamais à l'abri d'un concepteur de sujet n'ayant qu'une idée partielle desdits programmes.\n",
        "\n",
        "C'est pourquoi nous allons passer quelques minutes pour voir combien cela n'est pas pratique de travailler avec des listes de listes pour modéliser des matrices..."
      ]
    },
    {
      "cell_type": "code",
      "metadata": {
        "id": "gDIFCdlJ9wMC",
        "colab": {
          "base_uri": "https://localhost:8080/"
        },
        "outputId": "65c7dc4f-4585-4db0-80ea-72b0e897c9f7"
      },
      "source": [
        "M = [[0,1,2],[10,11,12]]\n",
        "M"
      ],
      "execution_count": 1,
      "outputs": [
        {
          "output_type": "execute_result",
          "data": {
            "text/plain": [
              "[[0, 1, 2], [10, 11, 12]]"
            ]
          },
          "metadata": {
            "tags": []
          },
          "execution_count": 1
        }
      ]
    },
    {
      "cell_type": "markdown",
      "metadata": {
        "id": "VCkSttAAbAfO"
      },
      "source": [
        "Voici une \"matrice\" 2 lignes x 3 colonnes :"
      ]
    },
    {
      "cell_type": "code",
      "metadata": {
        "colab": {
          "base_uri": "https://localhost:8080/"
        },
        "id": "gDNSHPDW04bh",
        "outputId": "061f2a9a-1f87-43c2-c7c9-518c2e5d577c"
      },
      "source": [
        "M[1][2] # élément de la 2ème ligne (n°1) et 3ème colonne (n°2)"
      ],
      "execution_count": 2,
      "outputs": [
        {
          "output_type": "execute_result",
          "data": {
            "text/plain": [
              "12"
            ]
          },
          "metadata": {
            "tags": []
          },
          "execution_count": 2
        }
      ]
    },
    {
      "cell_type": "markdown",
      "metadata": {
        "id": "N9S2OS-ObHC5"
      },
      "source": [
        "Le nombre de lignes est le nombre de listes que contient la liste principale"
      ]
    },
    {
      "cell_type": "code",
      "metadata": {
        "colab": {
          "base_uri": "https://localhost:8080/"
        },
        "id": "GJCsSiSFAlC9",
        "outputId": "a97d817a-f260-49c8-d518-88ad098e16a6"
      },
      "source": [
        "len(M)"
      ],
      "execution_count": 3,
      "outputs": [
        {
          "output_type": "execute_result",
          "data": {
            "text/plain": [
              "2"
            ]
          },
          "metadata": {
            "tags": []
          },
          "execution_count": 3
        }
      ]
    },
    {
      "cell_type": "markdown",
      "metadata": {
        "id": "pLgP1CL2bNK-"
      },
      "source": [
        "Le nombre de colonne est le nombre d'éléments de n'importe laquelle des listes éléments de la liste principale"
      ]
    },
    {
      "cell_type": "code",
      "metadata": {
        "colab": {
          "base_uri": "https://localhost:8080/"
        },
        "id": "CwPPuA_eAqC8",
        "outputId": "136fb9b8-fabf-4d6d-cee1-6c1a0f45daf1"
      },
      "source": [
        "len(M[0])"
      ],
      "execution_count": 4,
      "outputs": [
        {
          "output_type": "execute_result",
          "data": {
            "text/plain": [
              "3"
            ]
          },
          "metadata": {
            "tags": []
          },
          "execution_count": 4
        }
      ]
    },
    {
      "cell_type": "markdown",
      "metadata": {
        "id": "H72Njgdxbacs"
      },
      "source": [
        "**Rappelons qu'en Python, les éléments des listes sont numérotés en partant de 0.**"
      ]
    },
    {
      "cell_type": "markdown",
      "metadata": {
        "id": "F8Re_fJo2Owv"
      },
      "source": [
        "### **1.1 Transposée d'une matrice**"
      ]
    },
    {
      "cell_type": "markdown",
      "metadata": {
        "id": "RnI9U9gFbkuY"
      },
      "source": [
        "***Idée algorithmique :***\n",
        "\n",
        "*Pour chaque numéro de ligne i, et chaque numéro de colonne j de A, on affecte à l'élément t<sub>j,i</sub> de la matrice transposée T l'émément  a<sub>i,j</sub> de A.*"
      ]
    },
    {
      "cell_type": "code",
      "metadata": {
        "id": "0g-fQHX02SpS"
      },
      "source": [
        "def transposee(A) :\n",
        "    '''Cette fonction reçoit une matrice rectangulaire et renvoie sa transposée'''\n",
        "\n",
        "    nb_lignes_A = len(A)\n",
        "    nb_colonnes_A = len(A[0])\n",
        "\n",
        "    T = [[ 0 for i in range(nb_lignes_A ) ] for j in range(nb_colonnes_A )]\n",
        "    \n",
        "    for i in range(nb_lignes_A) :\n",
        "        for j in range(nb_colonnes_A) :\n",
        "            T[j][i] = A[i][j] \n",
        "    return T"
      ],
      "execution_count": 5,
      "outputs": []
    },
    {
      "cell_type": "code",
      "metadata": {
        "colab": {
          "base_uri": "https://localhost:8080/"
        },
        "id": "bfpVOWPr2ufm",
        "outputId": "c7eac6c0-359d-40a9-8b87-99a2c3aa43d7"
      },
      "source": [
        "transposee(M)"
      ],
      "execution_count": 6,
      "outputs": [
        {
          "output_type": "execute_result",
          "data": {
            "text/plain": [
              "[[0, 10], [1, 11], [2, 12]]"
            ]
          },
          "metadata": {
            "tags": []
          },
          "execution_count": 6
        }
      ]
    },
    {
      "cell_type": "markdown",
      "metadata": {
        "id": "aevjh5Ik1IBk"
      },
      "source": [
        "### **1.2 Somme de deux matrices compatibles**"
      ]
    },
    {
      "cell_type": "markdown",
      "metadata": {
        "id": "AxkXyr40cQOj"
      },
      "source": [
        "***Idée algorithmique :***\n",
        "\n",
        "*On teste si les deux matrices ont la même taille, puis, pour chaque numéro de ligne i, et chaque numéro de colonne j de A et B, on affecte l'élément s<sub>i,j</sub> de la matrice somme S avec la somme des éléments a<sub>i,j</sub> et b<sub>i,j</sub>.*"
      ]
    },
    {
      "cell_type": "code",
      "metadata": {
        "id": "mhgmVkLNvi_V"
      },
      "source": [
        "def somme(A,B) :\n",
        "    ''' reçoit de matrices A et B, s'assure qu'elles sont compatibles pour la somme et renvoie cette somme.'''\n",
        "    nb_lignes_A = len(A)\n",
        "    nb_colonnes_A = len(A[0])\n",
        "    nb_lignes_B = len(B)\n",
        "    nb_colonnes_B = len(B[0])\n",
        "\n",
        "    try :\n",
        "        assert nb_lignes_A == nb_lignes_B and nb_colonnes_A == nb_colonnes_B\n",
        "    except :\n",
        "        print('Matrices non compatibles pour la somme')\n",
        "    \n",
        "    S = [[ 0 for j in range(nb_colonnes_A)]for i in range(nb_lignes_A)] \n",
        "    for j in range(nb_colonnes_A) :\n",
        "        for i in range(nb_lignes_A) :\n",
        "            S[i][j] = A[i][j] + B[i][j]\n",
        "    return S\n",
        "    "
      ],
      "execution_count": 7,
      "outputs": []
    },
    {
      "cell_type": "code",
      "metadata": {
        "id": "vGipa4tEytIn"
      },
      "source": [
        "M = [[0,1,2],[10,11,12]]\n",
        "N = [[12,11,10],[2,1,0]]"
      ],
      "execution_count": 8,
      "outputs": []
    },
    {
      "cell_type": "code",
      "metadata": {
        "colab": {
          "base_uri": "https://localhost:8080/"
        },
        "id": "tMMA88A0y5s-",
        "outputId": "5f023996-9669-4727-834e-0787b8d66ce2"
      },
      "source": [
        "somme(M,N)"
      ],
      "execution_count": 9,
      "outputs": [
        {
          "output_type": "execute_result",
          "data": {
            "text/plain": [
              "[[12, 12, 12], [12, 12, 12]]"
            ]
          },
          "metadata": {
            "tags": []
          },
          "execution_count": 9
        }
      ]
    },
    {
      "cell_type": "markdown",
      "metadata": {
        "id": "etK3ti2T2JBd"
      },
      "source": [
        "### **1.3 Produit d'une matrice par un réel**"
      ]
    },
    {
      "cell_type": "markdown",
      "metadata": {
        "id": "3LukuWFbcy8-"
      },
      "source": [
        "***Idée algorithmique :***\n",
        "\n",
        "*Pour chaque numéro de ligne i, et chaque numéro de colonne j de A, on affecte l'élément p<sub>i,j</sub> de la matrice P résultante avec le produit de chaque éléments a<sub>i,j</sub> par le réel Lambda*"
      ]
    },
    {
      "cell_type": "code",
      "metadata": {
        "id": "s-8HXU0zzJUd"
      },
      "source": [
        "def produit_par_un_reel(Lambda,A) :\n",
        "    ''' fonction qui reçoit un réel (flottant) et une matrice\n",
        "    et effectue le produit de la matrice par le réel'''\n",
        "\n",
        "    nb_lignes_A = len(A)\n",
        "    nb_colonnes_A = len(A[0])\n",
        "\n",
        "    P = [[ 0 for j in range(nb_colonnes_A)]for i in range(nb_lignes_A) ]\n",
        "    for i in range(nb_lignes_A) :\n",
        "        for j in range(nb_colonnes_A) :\n",
        "            P[i][j] = Lambda * A[i][j] \n",
        "    return P"
      ],
      "execution_count": 10,
      "outputs": []
    },
    {
      "cell_type": "code",
      "metadata": {
        "colab": {
          "base_uri": "https://localhost:8080/"
        },
        "id": "-pjlMMtV1rTb",
        "outputId": "455ec424-ea98-4625-f6e8-6cc6629d87d7"
      },
      "source": [
        "produit_par_un_reel(-2,M)"
      ],
      "execution_count": 11,
      "outputs": [
        {
          "output_type": "execute_result",
          "data": {
            "text/plain": [
              "[[0, -2, -4], [-20, -22, -24]]"
            ]
          },
          "metadata": {
            "tags": []
          },
          "execution_count": 11
        }
      ]
    },
    {
      "cell_type": "markdown",
      "metadata": {
        "id": "LOORFKft3I0F"
      },
      "source": [
        "### **1.4  Produit d'un vecteur ligne par un vecteur colonne de même taille**"
      ]
    },
    {
      "cell_type": "markdown",
      "metadata": {
        "id": "X9JNPHvQdLTT"
      },
      "source": [
        "***Idée algorithmique :***\n",
        "\n",
        "*Pour calculer le produit d'un vecteur ligne L par un vecteur colonne C de même taille, on fait la somme, pour chaque indice k, des produits l<sub>0,j</sub> et c<sub>k,0</sub>. (les numérotations commencent à 0...)*"
      ]
    },
    {
      "cell_type": "code",
      "metadata": {
        "id": "c6GBs1v51tlH"
      },
      "source": [
        "def ligne_par_colonne(L,C) : \n",
        "    '''Fonction qui reçoit un vecteur ligne et un autre vecteur ligne de même taille, le transforme en colonne \n",
        "    et renvoie le flottant égal à leur  LxtC'''\n",
        "\n",
        "    nb_elements = len(L[0])\n",
        "    \n",
        "    p = 0\n",
        "    for k in range(nb_elements) :\n",
        "        p = p + L[0][k]*C[k][0]\n",
        "\n",
        "    return p\n",
        "\n"
      ],
      "execution_count": 12,
      "outputs": []
    },
    {
      "cell_type": "code",
      "metadata": {
        "colab": {
          "base_uri": "https://localhost:8080/"
        },
        "id": "B3sBd1LT48vw",
        "outputId": "228e2b75-0147-44b2-a1a9-b24319691407"
      },
      "source": [
        " L = [[1,2,3]]\n",
        " C = [[4],[5],[6]]\n",
        " ligne_par_colonne(L,C)"
      ],
      "execution_count": 13,
      "outputs": [
        {
          "output_type": "execute_result",
          "data": {
            "text/plain": [
              "32"
            ]
          },
          "metadata": {
            "tags": []
          },
          "execution_count": 13
        }
      ]
    },
    {
      "cell_type": "markdown",
      "metadata": {
        "id": "ZGai6KosDObZ"
      },
      "source": [
        "### **1.5 Produit de deux matrices**"
      ]
    },
    {
      "cell_type": "code",
      "metadata": {
        "id": "ZirDK7HW7e5O"
      },
      "source": [
        "def produit(A,B) :\n",
        "    '''Cette fonction, après s'être assurée de la compatibilité des deux matrices d'entrée A et B\n",
        "    pour le produit AxB calcule ce produit'''\n",
        "\n",
        "    nb_lignes_A = len(A)\n",
        "    nb_colonnes_A = len(A[0])\n",
        "    nb_lignes_B = len(B)\n",
        "    nb_colonnes_B = len(B[0])\n",
        "\n",
        "    try :\n",
        "        assert nb_colonnes_A == nb_lignes_B \n",
        "    except :\n",
        "        print('Matrices non compatibles pour le produit')"
      ],
      "execution_count": 14,
      "outputs": []
    },
    {
      "cell_type": "markdown",
      "metadata": {
        "id": "6DxlcpN9d9kc"
      },
      "source": [
        "Vérification des compatibilités :"
      ]
    },
    {
      "cell_type": "code",
      "metadata": {
        "colab": {
          "base_uri": "https://localhost:8080/"
        },
        "id": "QHQJcOk-eCO_",
        "outputId": "4dad3641-0b76-4caa-b37d-0aaf8eb69768"
      },
      "source": [
        "M,N"
      ],
      "execution_count": 15,
      "outputs": [
        {
          "output_type": "execute_result",
          "data": {
            "text/plain": [
              "([[0, 1, 2], [10, 11, 12]], [[12, 11, 10], [2, 1, 0]])"
            ]
          },
          "metadata": {
            "tags": []
          },
          "execution_count": 15
        }
      ]
    },
    {
      "cell_type": "code",
      "metadata": {
        "colab": {
          "base_uri": "https://localhost:8080/"
        },
        "id": "erPsPm5oDuIf",
        "outputId": "5706b35f-6a44-46e4-c89a-f30dcba493cd"
      },
      "source": [
        "produit(M,N)\n"
      ],
      "execution_count": 16,
      "outputs": [
        {
          "output_type": "stream",
          "text": [
            "Matrices non compatibles pour le produit\n"
          ],
          "name": "stdout"
        }
      ]
    },
    {
      "cell_type": "code",
      "metadata": {
        "id": "njnK_B2BDyX0"
      },
      "source": [
        "produit(M,transposee(N))"
      ],
      "execution_count": 17,
      "outputs": []
    },
    {
      "cell_type": "markdown",
      "metadata": {
        "id": "c5JYrN4MeW_O"
      },
      "source": [
        "...pas de réaction, produit compatible"
      ]
    },
    {
      "cell_type": "markdown",
      "metadata": {
        "id": "TJTOt_033DQn"
      },
      "source": [
        "***Idée algorithmique :***\n",
        "\n",
        "*Une fois qu'on a testé si les deux matrices A et B étaient compatibles pour le produit,  pour chaque numéro de ligne i, et chaque numéro de colonne j de A et B, on affecte l'élément p<sub>i,j</sub> de la matrice produit P avec le produit du vecteur ligne n°i de A par le vecteur colonne n°j de B*"
      ]
    },
    {
      "cell_type": "code",
      "metadata": {
        "id": "ktPnePw-D31S"
      },
      "source": [
        "def produit(A,B) :\n",
        "    '''Cette fonction, après s'être assurée de la compatibilité des deux matrices d'entrée A et B\n",
        "    pour le produit AxB calcule ce produit'''\n",
        "\n",
        "    nb_lignes_A = len(A)\n",
        "    nb_colonnes_A = len(A[0])\n",
        "    nb_lignes_B = len(B)\n",
        "    nb_colonnes_B = len(B[0])\n",
        "\n",
        "    try :\n",
        "        assert nb_colonnes_A == nb_lignes_B \n",
        "    except :\n",
        "        print('Matrices non compatibles pour le produit')\n",
        "    \n",
        "    P = [[ 0 for j in range(nb_colonnes_B)]for i in range(nb_lignes_A)] \n",
        "    for i in range(nb_lignes_A) :\n",
        "        for j in range(nb_colonnes_B) :\n",
        "            p = 0\n",
        "            for k in range(nb_colonnes_A) :\n",
        "                p = p + A[i][k]*B[k][j]\n",
        "            P[i][j] = p\n",
        "    return P"
      ],
      "execution_count": 18,
      "outputs": []
    },
    {
      "cell_type": "code",
      "metadata": {
        "id": "aL_H-hpY5JsU"
      },
      "source": [
        "M = [[0,1,2],[10,11,12]]\n",
        "N = transposee([[12,11,10],[2,1,0]])"
      ],
      "execution_count": 19,
      "outputs": []
    },
    {
      "cell_type": "code",
      "metadata": {
        "colab": {
          "base_uri": "https://localhost:8080/"
        },
        "id": "caMT8ERf5ggi",
        "outputId": "d433a92a-d037-40f3-9a2c-ee01bb38686a"
      },
      "source": [
        "M"
      ],
      "execution_count": 20,
      "outputs": [
        {
          "output_type": "execute_result",
          "data": {
            "text/plain": [
              "[[0, 1, 2], [10, 11, 12]]"
            ]
          },
          "metadata": {
            "tags": []
          },
          "execution_count": 20
        }
      ]
    },
    {
      "cell_type": "code",
      "metadata": {
        "colab": {
          "base_uri": "https://localhost:8080/"
        },
        "id": "zg4wZ9kL5hc2",
        "outputId": "c5c99b09-7698-4dad-c0dd-cbc01a1d041b"
      },
      "source": [
        "N"
      ],
      "execution_count": 21,
      "outputs": [
        {
          "output_type": "execute_result",
          "data": {
            "text/plain": [
              "[[12, 2], [11, 1], [10, 0]]"
            ]
          },
          "metadata": {
            "tags": []
          },
          "execution_count": 21
        }
      ]
    },
    {
      "cell_type": "code",
      "metadata": {
        "colab": {
          "base_uri": "https://localhost:8080/"
        },
        "id": "Y6fWGour5iRJ",
        "outputId": "ee932231-9272-4bd5-bb29-adc8db7ea946"
      },
      "source": [
        "produit(M,N)"
      ],
      "execution_count": 22,
      "outputs": [
        {
          "output_type": "execute_result",
          "data": {
            "text/plain": [
              "[[31, 1], [361, 31]]"
            ]
          },
          "metadata": {
            "tags": []
          },
          "execution_count": 22
        }
      ]
    },
    {
      "cell_type": "code",
      "metadata": {
        "colab": {
          "base_uri": "https://localhost:8080/"
        },
        "id": "5woWPeOR5lhA",
        "outputId": "a3e5bd46-1680-42b9-80f0-014b9d2ed2ce"
      },
      "source": [
        "produit(N,M)"
      ],
      "execution_count": 23,
      "outputs": [
        {
          "output_type": "execute_result",
          "data": {
            "text/plain": [
              "[[20, 34, 48], [10, 22, 34], [0, 10, 20]]"
            ]
          },
          "metadata": {
            "tags": []
          },
          "execution_count": 23
        }
      ]
    },
    {
      "cell_type": "markdown",
      "metadata": {
        "id": "5rTAFVwX90ee"
      },
      "source": [
        "... 3 boucles \"pour\" imbriquées, mais on ne peut pas faire à moins...\n",
        "\n",
        "ça marche, on est bien content !\n",
        "\n",
        "---"
      ]
    },
    {
      "cell_type": "code",
      "metadata": {
        "id": "f0TRz1TM807J"
      },
      "source": [
        ""
      ],
      "execution_count": 23,
      "outputs": []
    },
    {
      "cell_type": "markdown",
      "metadata": {
        "id": "3nXPSyrTC94-"
      },
      "source": [
        "\n",
        "# **2. Type *array* de *numpy***\n",
        "\n",
        "NumPy est une bibliothèque Python dédiée au calcul numérique, notamment à la manipulation de matrices et de tableaux.\n",
        "\n",
        "Elle comporte plusieurs sous-modules qui nous seront également fort utiles ultérieurement.\n",
        "\n",
        "Elle introduit notamment le type ***numpy.array*** (tableaux), et un certain nombre de fonctions pour calculer sur ce nouveau type.\n",
        "\n",
        "Sauf indication contraire, **l'intégralité de ce paragraphe est exigible !**\n"
      ]
    },
    {
      "cell_type": "code",
      "metadata": {
        "id": "u1lpK8VoE8u1"
      },
      "source": [
        "# import du module numpy sous l'alias np\n",
        "\n",
        "import numpy as np # On importe le module numpy\n",
        "                   # On utilisera en préfixe l' \"alias\" np, pour faire savoir que l'on fait appel\n",
        "                   # à une fonctionnalité présente dans ce module\n",
        "                   \n"
      ],
      "execution_count": 24,
      "outputs": []
    },
    {
      "cell_type": "markdown",
      "metadata": {
        "id": "dTin0HFZFIqF"
      },
      "source": [
        "La syntaxe pour créer un *np.array* est la suivante : on crée une liste bi-dimensionnelle, et on la convertit en *np.array* :"
      ]
    },
    {
      "cell_type": "code",
      "metadata": {
        "colab": {
          "base_uri": "https://localhost:8080/"
        },
        "id": "tIwbRfS8FHc6",
        "outputId": "6de86912-21a0-4b9a-9e9c-7df9fe64904e"
      },
      "source": [
        "M = np.array([[0,1,2],[10,11,12]])\n",
        "M"
      ],
      "execution_count": 25,
      "outputs": [
        {
          "output_type": "execute_result",
          "data": {
            "text/plain": [
              "array([[ 0,  1,  2],\n",
              "       [10, 11, 12]])"
            ]
          },
          "metadata": {
            "tags": []
          },
          "execution_count": 25
        }
      ]
    },
    {
      "cell_type": "markdown",
      "metadata": {
        "id": "tUF6yYvWFYEv"
      },
      "source": [
        "... D'abord, en cadeau, *numpy* nous dispose ça de manière matricielle !\n",
        "\n",
        "Mais ce n'est pas tout ! \n",
        "\n",
        "Pour les fonctions de base, c'est du gâteau...\n",
        "\n",
        "## **Accès à un élément particulier :**"
      ]
    },
    {
      "cell_type": "code",
      "metadata": {
        "colab": {
          "base_uri": "https://localhost:8080/"
        },
        "id": "7jEtR3SNGG5n",
        "outputId": "4286852c-f424-487b-a84b-99c603e8484f"
      },
      "source": [
        "M[0,2] # élément de M, sur la ligne n°0 (donc la 1ère) et la colonne n°2 (donc la 3ème)"
      ],
      "execution_count": 26,
      "outputs": [
        {
          "output_type": "execute_result",
          "data": {
            "text/plain": [
              "2"
            ]
          },
          "metadata": {
            "tags": []
          },
          "execution_count": 26
        }
      ]
    },
    {
      "cell_type": "markdown",
      "metadata": {
        "id": "sGY_c4lFH8D_"
      },
      "source": [
        "## **Taille : la fonction *np.shape***"
      ]
    },
    {
      "cell_type": "code",
      "metadata": {
        "colab": {
          "base_uri": "https://localhost:8080/"
        },
        "id": "HNSUMivYIAZW",
        "outputId": "c891ff5a-0631-4363-bc4a-2bb332c24f3d"
      },
      "source": [
        "(nb_lignes , nb_colonnes) = np.shape(M)\n",
        "(nb_lignes , nb_colonnes)"
      ],
      "execution_count": 27,
      "outputs": [
        {
          "output_type": "execute_result",
          "data": {
            "text/plain": [
              "(2, 3)"
            ]
          },
          "metadata": {
            "tags": []
          },
          "execution_count": 27
        }
      ]
    },
    {
      "cell_type": "markdown",
      "metadata": {
        "id": "TSBGho9MG2L9"
      },
      "source": [
        "## **Transposition : la fonction *np.transpose***"
      ]
    },
    {
      "cell_type": "code",
      "metadata": {
        "colab": {
          "base_uri": "https://localhost:8080/"
        },
        "id": "5VTFPY9HFXKz",
        "outputId": "371877e7-1bdb-4cfd-af5f-c647f187353b"
      },
      "source": [
        "T = np.transpose(M)\n",
        "T"
      ],
      "execution_count": 28,
      "outputs": [
        {
          "output_type": "execute_result",
          "data": {
            "text/plain": [
              "array([[ 0, 10],\n",
              "       [ 1, 11],\n",
              "       [ 2, 12]])"
            ]
          },
          "metadata": {
            "tags": []
          },
          "execution_count": 28
        }
      ]
    },
    {
      "cell_type": "markdown",
      "metadata": {
        "id": "tr8ybfXcJTQs"
      },
      "source": [
        "## **Somme de deux matrices** (compatibles en taille pur la somme)"
      ]
    },
    {
      "cell_type": "code",
      "metadata": {
        "colab": {
          "base_uri": "https://localhost:8080/"
        },
        "id": "-vXxhU4JGd19",
        "outputId": "36726620-b640-443d-8d72-bfae43f938d0"
      },
      "source": [
        "M = np.array([[0,1,2],[10,11,12]])\n",
        "N = np.array([[12,11,10],[2,1,0]])\n",
        "M + N                               # tout simplement"
      ],
      "execution_count": 29,
      "outputs": [
        {
          "output_type": "execute_result",
          "data": {
            "text/plain": [
              "array([[12, 12, 12],\n",
              "       [12, 12, 12]])"
            ]
          },
          "metadata": {
            "tags": []
          },
          "execution_count": 29
        }
      ]
    },
    {
      "cell_type": "markdown",
      "metadata": {
        "id": "eq_Rxf-6JjAj"
      },
      "source": [
        "## **Produit d'une matrice par un réel**"
      ]
    },
    {
      "cell_type": "code",
      "metadata": {
        "colab": {
          "base_uri": "https://localhost:8080/"
        },
        "id": "_1jRL8EkJnq8",
        "outputId": "98e57123-9e7c-416a-e93a-7a33220ff4b3"
      },
      "source": [
        "Lambda = -2.                        # flottant\n",
        "M = np.array([[0,1,2],[10,11,12]])  # matrice d'entiers\n",
        "\n",
        "Lambda * M                          # donc résultat : matrice de flottants\n"
      ],
      "execution_count": 30,
      "outputs": [
        {
          "output_type": "execute_result",
          "data": {
            "text/plain": [
              "array([[ -0.,  -2.,  -4.],\n",
              "       [-20., -22., -24.]])"
            ]
          },
          "metadata": {
            "tags": []
          },
          "execution_count": 30
        }
      ]
    },
    {
      "cell_type": "markdown",
      "metadata": {
        "id": "SEpurJISKMCJ"
      },
      "source": [
        "## **Produit de deux matrices : la fonction *np.dot*** (pour deux matrices compatibles pour le produit, non commutatif, faut-il le rappeler ?)"
      ]
    },
    {
      "cell_type": "code",
      "metadata": {
        "colab": {
          "base_uri": "https://localhost:8080/"
        },
        "id": "DjamWiseKPRz",
        "outputId": "f8c3550c-c49b-4f6c-bdee-b588ed2690c2"
      },
      "source": [
        "M = np.array([[0,1,2],[10,11,12]])\n",
        "M"
      ],
      "execution_count": 31,
      "outputs": [
        {
          "output_type": "execute_result",
          "data": {
            "text/plain": [
              "array([[ 0,  1,  2],\n",
              "       [10, 11, 12]])"
            ]
          },
          "metadata": {
            "tags": []
          },
          "execution_count": 31
        }
      ]
    },
    {
      "cell_type": "code",
      "metadata": {
        "colab": {
          "base_uri": "https://localhost:8080/"
        },
        "id": "jnTI7UKqJyXg",
        "outputId": "9fe0fc01-5628-4320-d2f1-c00f17e65374"
      },
      "source": [
        "N = np.transpose(np.array([[12,11,10],[2,1,0]]))\n",
        "N"
      ],
      "execution_count": 32,
      "outputs": [
        {
          "output_type": "execute_result",
          "data": {
            "text/plain": [
              "array([[12,  2],\n",
              "       [11,  1],\n",
              "       [10,  0]])"
            ]
          },
          "metadata": {
            "tags": []
          },
          "execution_count": 32
        }
      ]
    },
    {
      "cell_type": "markdown",
      "metadata": {
        "id": "6v7DW-JnKtMv"
      },
      "source": [
        "**remarque :** M*N fait le produit terme à terme des matrices M et N lorsquelles ont la même taille"
      ]
    },
    {
      "cell_type": "code",
      "metadata": {
        "colab": {
          "base_uri": "https://localhost:8080/"
        },
        "id": "XeQCFSRSKY0v",
        "outputId": "eb94a2fb-ba9e-460e-ef4e-c72839de7fea"
      },
      "source": [
        "np.dot(M,N)"
      ],
      "execution_count": 33,
      "outputs": [
        {
          "output_type": "execute_result",
          "data": {
            "text/plain": [
              "array([[ 31,   1],\n",
              "       [361,  31]])"
            ]
          },
          "metadata": {
            "tags": []
          },
          "execution_count": 33
        }
      ]
    },
    {
      "cell_type": "code",
      "metadata": {
        "colab": {
          "base_uri": "https://localhost:8080/"
        },
        "id": "OTeW5YwnKedS",
        "outputId": "c0c033ed-08d2-4c82-e004-ea343e2a3150"
      },
      "source": [
        "np.dot(N,M)"
      ],
      "execution_count": 34,
      "outputs": [
        {
          "output_type": "execute_result",
          "data": {
            "text/plain": [
              "array([[20, 34, 48],\n",
              "       [10, 22, 34],\n",
              "       [ 0, 10, 20]])"
            ]
          },
          "metadata": {
            "tags": []
          },
          "execution_count": 34
        }
      ]
    },
    {
      "cell_type": "markdown",
      "metadata": {
        "id": "g4y7VpT9NWum"
      },
      "source": [
        "## **Carré et autres puissances d'une matrice carrée** \n",
        "\n",
        "Utiliser une boucle\n",
        "\n",
        "(L'utilisation de M**2 pour M de type np.array donne la matrice des carrés des éléments de M, ce qui n'est pas la définition matricielle du carré de M...)"
      ]
    },
    {
      "cell_type": "code",
      "metadata": {
        "colab": {
          "base_uri": "https://localhost:8080/"
        },
        "id": "VD1u58NtNWCS",
        "outputId": "e63bc4ec-5abb-4040-d2ab-21827af1f402"
      },
      "source": [
        "M = np.array([[1,2],[3,4]])\n",
        "M"
      ],
      "execution_count": 35,
      "outputs": [
        {
          "output_type": "execute_result",
          "data": {
            "text/plain": [
              "array([[1, 2],\n",
              "       [3, 4]])"
            ]
          },
          "metadata": {
            "tags": []
          },
          "execution_count": 35
        }
      ]
    },
    {
      "cell_type": "code",
      "metadata": {
        "colab": {
          "base_uri": "https://localhost:8080/"
        },
        "id": "v5A93xgbRb5h",
        "outputId": "9093c75c-1d05-40fb-8286-373d8c52d4af"
      },
      "source": [
        "M**2"
      ],
      "execution_count": 36,
      "outputs": [
        {
          "output_type": "execute_result",
          "data": {
            "text/plain": [
              "array([[ 1,  4],\n",
              "       [ 9, 16]])"
            ]
          },
          "metadata": {
            "tags": []
          },
          "execution_count": 36
        }
      ]
    },
    {
      "cell_type": "code",
      "metadata": {
        "colab": {
          "base_uri": "https://localhost:8080/"
        },
        "id": "fFj8QGnDKh2_",
        "outputId": "086fce4a-db1d-412f-de3a-489ce83bc96d"
      },
      "source": [
        "# puissance vraie d'une matrice carrée\n",
        "\n",
        "n = 2\n",
        "P = np.eye(2,2) # matrice identité 2x2\n",
        "for k in range(n) :\n",
        "    P = np.dot(P,M)\n",
        "P"
      ],
      "execution_count": 37,
      "outputs": [
        {
          "output_type": "execute_result",
          "data": {
            "text/plain": [
              "array([[ 7., 10.],\n",
              "       [15., 22.]])"
            ]
          },
          "metadata": {
            "tags": []
          },
          "execution_count": 37
        }
      ]
    },
    {
      "cell_type": "markdown",
      "metadata": {
        "id": "6N_imemVP1TR"
      },
      "source": [
        "## **le type *np.matrix***\n",
        "\n",
        "**remarque :** il existe dans numpy un type \"***matrix***\", non exigible, qui permet d'opérer encore plus simplement sur les matrices :\n"
      ]
    },
    {
      "cell_type": "code",
      "metadata": {
        "colab": {
          "base_uri": "https://localhost:8080/"
        },
        "id": "mErzeYxeNt7C",
        "outputId": "88dea0d8-d7f2-4acb-937c-ef06df612499"
      },
      "source": [
        "M = np.matrix([[0,1,2],[10,11,12]])\n",
        "M"
      ],
      "execution_count": 38,
      "outputs": [
        {
          "output_type": "execute_result",
          "data": {
            "text/plain": [
              "matrix([[ 0,  1,  2],\n",
              "        [10, 11, 12]])"
            ]
          },
          "metadata": {
            "tags": []
          },
          "execution_count": 38
        }
      ]
    },
    {
      "cell_type": "code",
      "metadata": {
        "colab": {
          "base_uri": "https://localhost:8080/"
        },
        "id": "-qjfLsslQlab",
        "outputId": "4e14d357-2a75-40e1-892d-ce8a42003a7c"
      },
      "source": [
        "N = np.transpose(np.matrix([[12,11,10],[2,1,0]]))\n",
        "N"
      ],
      "execution_count": 39,
      "outputs": [
        {
          "output_type": "execute_result",
          "data": {
            "text/plain": [
              "matrix([[12,  2],\n",
              "        [11,  1],\n",
              "        [10,  0]])"
            ]
          },
          "metadata": {
            "tags": []
          },
          "execution_count": 39
        }
      ]
    },
    {
      "cell_type": "code",
      "metadata": {
        "colab": {
          "base_uri": "https://localhost:8080/"
        },
        "id": "Ycu-yIIvQwch",
        "outputId": "2f6f83f7-45db-41e2-b90a-e7ebb5bb72e3"
      },
      "source": [
        "M @ N                       # produit de deux matrices numpy"
      ],
      "execution_count": 40,
      "outputs": [
        {
          "output_type": "execute_result",
          "data": {
            "text/plain": [
              "matrix([[ 31,   1],\n",
              "        [361,  31]])"
            ]
          },
          "metadata": {
            "tags": []
          },
          "execution_count": 40
        }
      ]
    },
    {
      "cell_type": "code",
      "metadata": {
        "colab": {
          "base_uri": "https://localhost:8080/"
        },
        "id": "WqUG2hJeQzcS",
        "outputId": "78b68ea3-7076-48cc-94cb-ba71b7c1f7ea"
      },
      "source": [
        "M = np.matrix([[1,2],[3,4]])\n",
        "M**2                        # vrai carré de M"
      ],
      "execution_count": 41,
      "outputs": [
        {
          "output_type": "execute_result",
          "data": {
            "text/plain": [
              "matrix([[ 7, 10],\n",
              "        [15, 22]])"
            ]
          },
          "metadata": {
            "tags": []
          },
          "execution_count": 41
        }
      ]
    },
    {
      "cell_type": "code",
      "metadata": {
        "colab": {
          "base_uri": "https://localhost:8080/"
        },
        "id": "8YNeau8vRASl",
        "outputId": "744eb0d9-d8a5-47b2-a033-7184030066fe"
      },
      "source": [
        "M**(-1) # inverse de M, procédé non exigible, on privilégiera le procédé ci-après..."
      ],
      "execution_count": 42,
      "outputs": [
        {
          "output_type": "execute_result",
          "data": {
            "text/plain": [
              "matrix([[-2. ,  1. ],\n",
              "        [ 1.5, -0.5]])"
            ]
          },
          "metadata": {
            "tags": []
          },
          "execution_count": 42
        }
      ]
    },
    {
      "cell_type": "markdown",
      "metadata": {
        "id": "-bfUSfYHSOqA"
      },
      "source": [
        "## **Puissance d'une matrice carrée et inverse d'une matrice carrée inversible : la fonction *np.linalg.matrix_power* et la fonction *np.linalg.inv***\n",
        "\n",
        "(à connaître !)"
      ]
    },
    {
      "cell_type": "code",
      "metadata": {
        "colab": {
          "base_uri": "https://localhost:8080/"
        },
        "id": "P69AWv0sXPFo",
        "outputId": "90170cd7-501d-4fb1-b2fd-8b243eb7ceb2"
      },
      "source": [
        "M = np.array([[1,2],[3,4]])\n",
        "np.linalg.matrix_power(M,2)"
      ],
      "execution_count": 43,
      "outputs": [
        {
          "output_type": "execute_result",
          "data": {
            "text/plain": [
              "array([[ 7, 10],\n",
              "       [15, 22]])"
            ]
          },
          "metadata": {
            "tags": []
          },
          "execution_count": 43
        }
      ]
    },
    {
      "cell_type": "code",
      "metadata": {
        "colab": {
          "base_uri": "https://localhost:8080/"
        },
        "id": "4opQa7CNSA2g",
        "outputId": "0bc2a725-7eb3-428d-ddb5-4c76c78cecf0"
      },
      "source": [
        "M = np.array([[1,2],[3,4]])\n",
        "np.linalg.inv(M)            # inv figure dans le sous-module \"linalg\" (algèbre linéaire) de numpy"
      ],
      "execution_count": 44,
      "outputs": [
        {
          "output_type": "execute_result",
          "data": {
            "text/plain": [
              "array([[-2. ,  1. ],\n",
              "       [ 1.5, -0.5]])"
            ]
          },
          "metadata": {
            "tags": []
          },
          "execution_count": 44
        }
      ]
    },
    {
      "cell_type": "markdown",
      "metadata": {
        "id": "6M1SaeB_UVi8"
      },
      "source": [
        "## **Quelques matrices particuières pratiques et à connaître**\n",
        "\n",
        "* **Identité**"
      ]
    },
    {
      "cell_type": "code",
      "metadata": {
        "colab": {
          "base_uri": "https://localhost:8080/"
        },
        "id": "AAyfaZU0UgN8",
        "outputId": "ca6cd07e-5bd4-43b3-f207-562da2b9ab60"
      },
      "source": [
        "I = np.eye(3,3)\n",
        "I"
      ],
      "execution_count": 45,
      "outputs": [
        {
          "output_type": "execute_result",
          "data": {
            "text/plain": [
              "array([[1., 0., 0.],\n",
              "       [0., 1., 0.],\n",
              "       [0., 0., 1.]])"
            ]
          },
          "metadata": {
            "tags": []
          },
          "execution_count": 45
        }
      ]
    },
    {
      "cell_type": "markdown",
      "metadata": {
        "id": "HffUHTXiUqH2"
      },
      "source": [
        "* **Matrice nulle**"
      ]
    },
    {
      "cell_type": "code",
      "metadata": {
        "colab": {
          "base_uri": "https://localhost:8080/"
        },
        "id": "E4adKd96Uj92",
        "outputId": "eff820a8-1945-4b3c-e649-a07116a75a7f"
      },
      "source": [
        " Z = np.zeros((3,3)) # Attention : il est indispensable de doubler les parenthèses !!!\n",
        " Z  "
      ],
      "execution_count": 46,
      "outputs": [
        {
          "output_type": "execute_result",
          "data": {
            "text/plain": [
              "array([[0., 0., 0.],\n",
              "       [0., 0., 0.],\n",
              "       [0., 0., 0.]])"
            ]
          },
          "metadata": {
            "tags": []
          },
          "execution_count": 46
        }
      ]
    },
    {
      "cell_type": "markdown",
      "metadata": {
        "id": "yziShGQtVOIZ"
      },
      "source": [
        "* **Matrice de 1**"
      ]
    },
    {
      "cell_type": "code",
      "metadata": {
        "colab": {
          "base_uri": "https://localhost:8080/"
        },
        "id": "v5n5MRoZU9c1",
        "outputId": "8f47273b-289c-49f6-f4d9-9f6a1c6b3812"
      },
      "source": [
        "U = np.ones((3,3))\n",
        "U"
      ],
      "execution_count": 47,
      "outputs": [
        {
          "output_type": "execute_result",
          "data": {
            "text/plain": [
              "array([[1., 1., 1.],\n",
              "       [1., 1., 1.],\n",
              "       [1., 1., 1.]])"
            ]
          },
          "metadata": {
            "tags": []
          },
          "execution_count": 47
        }
      ]
    },
    {
      "cell_type": "markdown",
      "metadata": {
        "id": "rDaYT0qfVcyG"
      },
      "source": [
        "* **Matrice diagonale**"
      ]
    },
    {
      "cell_type": "code",
      "metadata": {
        "colab": {
          "base_uri": "https://localhost:8080/"
        },
        "id": "gfZLKzYMVV9I",
        "outputId": "414b15e4-705c-43d6-d70e-bca71fa925b4"
      },
      "source": [
        "D = np.diag([1,2,3])\n",
        "D"
      ],
      "execution_count": 48,
      "outputs": [
        {
          "output_type": "execute_result",
          "data": {
            "text/plain": [
              "array([[1, 0, 0],\n",
              "       [0, 2, 0],\n",
              "       [0, 0, 3]])"
            ]
          },
          "metadata": {
            "tags": []
          },
          "execution_count": 48
        }
      ]
    },
    {
      "cell_type": "markdown",
      "metadata": {
        "id": "61wWw6QAV3ig"
      },
      "source": [
        "* **Matrice ligne régulièrement espacée entre deux bornes**\n",
        "\n",
        "    (--> ressemble à \"***range(n)***\", mais avec des flottants)"
      ]
    },
    {
      "cell_type": "code",
      "metadata": {
        "id": "rhkYsYkxVkfG"
      },
      "source": [
        "L = np.arange(1,3,0.25)             # vecteur ligne de 1 à 3 avec un pas de 0.25\n",
        "                                    # observer que 1 est inclus et 3 exclu, comme toujours"
      ],
      "execution_count": 49,
      "outputs": []
    },
    {
      "cell_type": "code",
      "metadata": {
        "id": "T6RjnUHtWLvm"
      },
      "source": [
        ""
      ],
      "execution_count": 49,
      "outputs": []
    },
    {
      "cell_type": "markdown",
      "metadata": {
        "id": "-MWS51ApprBZ"
      },
      "source": [
        "# **3. Résolution de systèmes carrés**"
      ]
    },
    {
      "cell_type": "markdown",
      "metadata": {
        "id": "P5jLDV8GqWNe"
      },
      "source": [
        "## **3.1 Résolution par la méthode du pivot de Gauss**"
      ]
    },
    {
      "cell_type": "markdown",
      "metadata": {
        "id": "QjGW1aluqryz"
      },
      "source": [
        "La grande facilité à opérer sur les *arrays* de NumPy permet d'envisager assez simplement les opérations élémentaires du pivot de Gauss !\n",
        "\n",
        "On commence par écrire le système matriciellement :\n",
        "\n",
        "A.X = B\n",
        "\n",
        "où A est la matrice carrée du système, X le vecteur colonne des inconnues et B le vecteur colonne du second membre.\n",
        "\n",
        "On sait que l'on dispose de **trois opérations élémentaires** :\n",
        "\n",
        "* **permutation : permuter deux lignes , $L_i \\leftrightarrow L_j$**\n",
        "\n",
        "        A[[i,j]] = A[[j,i]]\n",
        "\n",
        "* **dilatation : multiplier une ligne par un réel , $L_i \\leftarrow \\lambda *L_i$**\n",
        "\n",
        "        A[i] = Lambda * A[i]\n",
        "\n",
        "* **transvection : ajouter à une ligne le produit d'une autre par un réel  , $L_i \\leftarrow \\ L_i + \\alpha *L_j$**\n",
        "\n",
        "        A[i] = A[i] + Alpha * A[j]\n",
        "\n",
        "(https://www.codecogs.com/latex/eqneditor.php?lang=fr-fr)\n",
        "\n",
        "*Faire agir ces opérations sur la matrice identité pour bien comprendre matriciellement les effets recherchés.*"
      ]
    },
    {
      "cell_type": "code",
      "metadata": {
        "id": "FidmV4rnwSdC"
      },
      "source": [
        ""
      ],
      "execution_count": 49,
      "outputs": []
    },
    {
      "cell_type": "markdown",
      "metadata": {
        "id": "VLuw1g9Zud9U"
      },
      "source": [
        "**1<sup>ère</sup> étape : la \"descente\"**\n",
        "\n",
        "On commence par triangulariser la matrice, ça, c'est toujours possible.\n",
        "\n",
        "**2<sup>ème</sup> étape : la \"remontée\"**\n",
        "\n",
        "Puis, s'il n'y a pas de 0 sur la diagonale, c'est que la matrice est inversible, \n",
        "\n",
        "on finalise donc la diagonalisation de la matrice.\n",
        "\n",
        "**3<sup>ème</sup> étape : la \"remontée\"**\n",
        "\n",
        "La résolution finale du système vient alors rapidement, puisque sa matrice a été diagonalisée."
      ]
    },
    {
      "cell_type": "markdown",
      "metadata": {
        "id": "LFAYLAihxNA8"
      },
      "source": [
        "### **Remarque sur le choix du pivot**\n",
        "\n",
        "Mathématiquement, tous les pivots non nuls se valent, mais dès que l'on introduit des valeurs approchées, ce qui est toujours le cas quand on fait tourner un programme sur une machine...il arrive que les systèmes soient \"mal dimensionnés\", c'est-à-dire que des arrondis successifs pourtant précis entraînent une grosse imprécision sur la solution finale.\n",
        "\n",
        "Voir un exemple ici : \n",
        "\n",
        "https://info-llg.fr/commun-mpsi/pdf/10.pivot.pdf \n",
        "\n",
        "Pour éviter ces effets cataclysmiques, on choisit une variante du pivot de Gauss, dans lequel on fait en sorte de pivoter sur le plus grand des pivots possibles."
      ]
    },
    {
      "cell_type": "markdown",
      "metadata": {
        "id": "F-sNzfdvzAgL"
      },
      "source": [
        "Commenter le programme suivant :"
      ]
    },
    {
      "cell_type": "code",
      "metadata": {
        "id": "mYR2aUQTqVVZ"
      },
      "source": [
        "def recherche_pivot(A, b, j):\n",
        "    p = j\n",
        "    for i in range(j+1, A.shape[0]):\n",
        "        if abs(A[i, j]) > abs(A[p, j]):\n",
        "            p = i\n",
        "    if p != j:\n",
        "        b[[p, j]] = b[[j, p]]\n",
        "        A[[p, j]] = A[[j, p]]\n",
        "\n",
        "def elimination_bas(A, b, j):\n",
        "    for i in range(j+1, A.shape[0]):\n",
        "        b[i] = b[i] - (A[i, j] / A[j, j]) *b[j]\n",
        "        A[i] = A[i] - (A[i, j] / A[j, j]) *A[j]\n",
        "\n",
        "def descente(A, b):\n",
        "    for j in range(A.shape[1] - 1):\n",
        "        recherche_pivot(A, b, j)\n",
        "        elimination_bas(A, b, j)\n",
        "\n",
        "def elimination_haut(A, b, j):\n",
        "    for i in range(j):\n",
        "        b[i] = b[i] - (A[i, j] / A[j, j]) *b[j]\n",
        "\n",
        "def remontee(A, b):\n",
        "    for j in range(A.shape[1] - 1, 0, -1):\n",
        "        elimination_haut(A, b, j)\n",
        "\n",
        "def solve_diagonal(A, b):\n",
        "    for k in range(b.shape[0]):\n",
        "        b[k] = b[k] / A[k, k]\n",
        "    return b\n",
        "\n",
        "def gauss(A, b):\n",
        "    U = A.copy()\n",
        "    v = b.copy()\n",
        "    descente(U, v)\n",
        "    try :\n",
        "        assert  np.linalg.matrix_rank(A) == A.shape[0]\n",
        "        remontee(U, v)\n",
        "        return solve_diagonal(U, v)\n",
        "    except :\n",
        "        print(\"Le système n'admet pas une unique solution, mais aucune ou une infinité\")\n",
        "    "
      ],
      "execution_count": 55,
      "outputs": []
    },
    {
      "cell_type": "markdown",
      "metadata": {
        "id": "TEEHLzE015gB"
      },
      "source": [
        "**1<sup>er</sup> exemple :**\n"
      ]
    },
    {
      "cell_type": "code",
      "metadata": {
        "colab": {
          "base_uri": "https://localhost:8080/"
        },
        "id": "J8-s2We1zrPg",
        "outputId": "f8b1dee8-1b08-4660-fb7e-8365340aa0e8"
      },
      "source": [
        "A = np.array([[1,1,1], [1,-2,1],[2,-1,1]], dtype=float)\n",
        "A"
      ],
      "execution_count": 67,
      "outputs": [
        {
          "output_type": "execute_result",
          "data": {
            "text/plain": [
              "array([[ 1.,  1.,  1.],\n",
              "       [ 1., -2.,  1.],\n",
              "       [ 2., -1.,  1.]])"
            ]
          },
          "metadata": {
            "tags": []
          },
          "execution_count": 67
        }
      ]
    },
    {
      "cell_type": "code",
      "metadata": {
        "colab": {
          "base_uri": "https://localhost:8080/"
        },
        "id": "xT_G6DOxJmNn",
        "outputId": "d3dbedb0-e414-4f3f-cce7-398eb96e9f78"
      },
      "source": [
        "np.linalg.matrix_rank(A) == A.shape[0]\n"
      ],
      "execution_count": 68,
      "outputs": [
        {
          "output_type": "execute_result",
          "data": {
            "text/plain": [
              "True"
            ]
          },
          "metadata": {
            "tags": []
          },
          "execution_count": 68
        }
      ]
    },
    {
      "cell_type": "code",
      "metadata": {
        "id": "wrXfW1pkJl70"
      },
      "source": [
        ""
      ],
      "execution_count": 68,
      "outputs": []
    },
    {
      "cell_type": "code",
      "metadata": {
        "colab": {
          "base_uri": "https://localhost:8080/"
        },
        "id": "7fg38k_k0bF_",
        "outputId": "ca11ee09-9ecd-489e-8874-620a672d929e"
      },
      "source": [
        "b = np.array([[1],[0],[2]], dtype=float)\n",
        "b"
      ],
      "execution_count": 69,
      "outputs": [
        {
          "output_type": "execute_result",
          "data": {
            "text/plain": [
              "array([[1.],\n",
              "       [0.],\n",
              "       [2.]])"
            ]
          },
          "metadata": {
            "tags": []
          },
          "execution_count": 69
        }
      ]
    },
    {
      "cell_type": "code",
      "metadata": {
        "colab": {
          "base_uri": "https://localhost:8080/"
        },
        "id": "5Z1xaz590jGx",
        "outputId": "911c7d6f-aec8-450c-b532-0c1250b60e33"
      },
      "source": [
        "print('Solution approchée du système :')\n",
        "\n",
        "gauss(A,b)"
      ],
      "execution_count": 70,
      "outputs": [
        {
          "output_type": "stream",
          "text": [
            "Solution approchée du système :\n"
          ],
          "name": "stdout"
        },
        {
          "output_type": "execute_result",
          "data": {
            "text/plain": [
              "array([[ 1.66666667],\n",
              "       [ 0.33333333],\n",
              "       [-1.        ]])"
            ]
          },
          "metadata": {
            "tags": []
          },
          "execution_count": 70
        }
      ]
    },
    {
      "cell_type": "code",
      "metadata": {
        "colab": {
          "base_uri": "https://localhost:8080/"
        },
        "id": "UByIcSYkLcgY",
        "outputId": "af446809-2461-4cf4-b1a2-aa448acf70ad"
      },
      "source": [
        "A # La matrice A initiale n'a pas été modifiée"
      ],
      "execution_count": 72,
      "outputs": [
        {
          "output_type": "execute_result",
          "data": {
            "text/plain": [
              "array([[ 1.,  1.,  1.],\n",
              "       [ 1., -2.,  1.],\n",
              "       [ 2., -1.,  1.]])"
            ]
          },
          "metadata": {
            "tags": []
          },
          "execution_count": 72
        }
      ]
    },
    {
      "cell_type": "markdown",
      "metadata": {
        "id": "M5pm6N_i1lOj"
      },
      "source": [
        "\n",
        "\n",
        "**2<sup>ème</sup> exemple : (système mal dimensionné)**"
      ]
    },
    {
      "cell_type": "code",
      "metadata": {
        "colab": {
          "base_uri": "https://localhost:8080/"
        },
        "id": "HzgwXF6N0qHQ",
        "outputId": "c2505ede-9b0f-46e8-f6ba-5d1b064d446c"
      },
      "source": [
        "A = np.array([[0.003,59.14], [5.291,-6.13]], dtype=float)\n",
        "A"
      ],
      "execution_count": 61,
      "outputs": [
        {
          "output_type": "execute_result",
          "data": {
            "text/plain": [
              "array([[ 3.000e-03,  5.914e+01],\n",
              "       [ 5.291e+00, -6.130e+00]])"
            ]
          },
          "metadata": {
            "tags": []
          },
          "execution_count": 61
        }
      ]
    },
    {
      "cell_type": "code",
      "metadata": {
        "colab": {
          "base_uri": "https://localhost:8080/"
        },
        "id": "5_fQJXA02Uxs",
        "outputId": "a0dfed4d-2965-40c2-b435-23dca325af43"
      },
      "source": [
        "b = np.array([[59.17],[46.78]], dtype=float)\n",
        "b"
      ],
      "execution_count": 62,
      "outputs": [
        {
          "output_type": "execute_result",
          "data": {
            "text/plain": [
              "array([[59.17],\n",
              "       [46.78]])"
            ]
          },
          "metadata": {
            "tags": []
          },
          "execution_count": 62
        }
      ]
    },
    {
      "cell_type": "code",
      "metadata": {
        "colab": {
          "base_uri": "https://localhost:8080/"
        },
        "id": "uJjB1z5M2cin",
        "outputId": "0ee17ed5-dcaf-455d-c5d4-9eae7b579031"
      },
      "source": [
        "print('Solution approchée du système :')\n",
        "\n",
        "gauss(A,b)"
      ],
      "execution_count": 63,
      "outputs": [
        {
          "output_type": "stream",
          "text": [
            "Solution approchée du système :\n"
          ],
          "name": "stdout"
        },
        {
          "output_type": "execute_result",
          "data": {
            "text/plain": [
              "array([[10.],\n",
              "       [ 1.]])"
            ]
          },
          "metadata": {
            "tags": []
          },
          "execution_count": 63
        }
      ]
    },
    {
      "cell_type": "markdown",
      "metadata": {
        "id": "wl5jz-pz2j0n"
      },
      "source": [
        "... Vérifier à la main..."
      ]
    },
    {
      "cell_type": "markdown",
      "metadata": {
        "id": "BqFSCgzVHsh5"
      },
      "source": [
        "**3<sup>ème</sup> exemple : (système non inversible)**"
      ]
    },
    {
      "cell_type": "code",
      "metadata": {
        "id": "EauNVPzQ2iNq",
        "colab": {
          "base_uri": "https://localhost:8080/"
        },
        "outputId": "99d3572e-0814-49ce-8027-d7e9e9ce80c7"
      },
      "source": [
        "A = np.array([[1,2], [2,4]], dtype=float)\n",
        "A"
      ],
      "execution_count": 64,
      "outputs": [
        {
          "output_type": "execute_result",
          "data": {
            "text/plain": [
              "array([[1., 2.],\n",
              "       [2., 4.]])"
            ]
          },
          "metadata": {
            "tags": []
          },
          "execution_count": 64
        }
      ]
    },
    {
      "cell_type": "code",
      "metadata": {
        "colab": {
          "base_uri": "https://localhost:8080/"
        },
        "id": "PhVRcoLTH4Pe",
        "outputId": "4d854706-b537-4ce5-a264-e777e671e753"
      },
      "source": [
        "b = np.array([[1],[2]], dtype=float)\n",
        "b"
      ],
      "execution_count": 65,
      "outputs": [
        {
          "output_type": "execute_result",
          "data": {
            "text/plain": [
              "array([[1.],\n",
              "       [2.]])"
            ]
          },
          "metadata": {
            "tags": []
          },
          "execution_count": 65
        }
      ]
    },
    {
      "cell_type": "code",
      "metadata": {
        "colab": {
          "base_uri": "https://localhost:8080/"
        },
        "id": "JAtvVYG-H9d7",
        "outputId": "f80c8096-a0f6-4952-8bf4-d3dd53249ee6"
      },
      "source": [
        "gauss(A,b)"
      ],
      "execution_count": 66,
      "outputs": [
        {
          "output_type": "stream",
          "text": [
            "Le système n'admet pas une unique solution, mais aucune ou une infinité\n"
          ],
          "name": "stdout"
        }
      ]
    },
    {
      "cell_type": "code",
      "metadata": {
        "id": "lrn_FGf8IByd"
      },
      "source": [
        ""
      ],
      "execution_count": null,
      "outputs": []
    }
  ]
}