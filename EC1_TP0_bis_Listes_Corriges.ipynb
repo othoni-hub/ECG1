{
  "nbformat": 4,
  "nbformat_minor": 0,
  "metadata": {
    "colab": {
      "name": "EC1-TP0-bis-Listes-Corriges.ipynb",
      "provenance": [],
      "collapsed_sections": [],
      "toc_visible": true,
      "authorship_tag": "ABX9TyPr7pYOYGNV2Sfh7YJnNZVb",
      "include_colab_link": true
    },
    "kernelspec": {
      "name": "python3",
      "display_name": "Python 3"
    },
    "language_info": {
      "name": "python"
    }
  },
  "cells": [
    {
      "cell_type": "markdown",
      "metadata": {
        "id": "view-in-github",
        "colab_type": "text"
      },
      "source": [
        "<a href=\"https://colab.research.google.com/github/othoni-hub/ECG1/blob/main/EC1_TP0_bis_Listes_Corriges.ipynb\" target=\"_parent\"><img src=\"https://colab.research.google.com/assets/colab-badge.svg\" alt=\"Open In Colab\"/></a>"
      ]
    },
    {
      "cell_type": "markdown",
      "metadata": {
        "id": "sOo4L2gqpgt-"
      },
      "source": [
        "# **CPGE-ECG1** \n",
        "<img src=\"https://drive.google.com/uc?id=12Wo3LubGGT4qOvYFAuLP4CyCuwjKNVuk\" width=\"230\" height=\"150\" align = \"right\"/>\n",
        "\n",
        "## **TP-bis - Notebook : Les listes Python**\n",
        "\n",
        "\n",
        "\n",
        "\n",
        "**O.Thöni - Lycée Saint-Charles Sainte Croix - LE MANS**"
      ]
    },
    {
      "cell_type": "markdown",
      "metadata": {
        "id": "XaZsvtTJ4J6z"
      },
      "source": [
        "## **Exercice 1**\n",
        "\n",
        "1. Commenter le code ci-après.\n",
        "Que contiendront les variables liste_x et liste_y après son exécution ?"
      ]
    },
    {
      "cell_type": "code",
      "metadata": {
        "colab": {
          "base_uri": "https://localhost:8080/",
          "height": 265
        },
        "id": "vkAIN2FN3ro-",
        "outputId": "dbe12bde-cba8-4fcc-9f39-359c71c1dd15"
      },
      "source": [
        "import matplotlib.pyplot as plt\n",
        "\n",
        "def f(x): \n",
        "    '''fonction qui reçoit un flottant x et renvoie son image par une fonction numérique'''\n",
        "    return x ** 2 + x - 4\n",
        "\n",
        "liste_x = [0.1 * n for n in range(-30, 31)] # liste régulièrement espacée de 0.1 en 0.1 entre -3 inclus et 3.1 exclu\n",
        "liste_y = [f(x) for x in liste_x] # liste définie par compréhension des images des valeurs de la liste liste_x par la fonction f\n",
        "\n",
        "plt.plot(liste_x, liste_y) # représentation graphique\n",
        "plt.show()"
      ],
      "execution_count": 11,
      "outputs": [
        {
          "output_type": "display_data",
          "data": {
            "image/png": "[encoded data removed]",
            "text/plain": [
              "<Figure size 432x288 with 1 Axes>"
            ]
          },
          "metadata": {
            "tags": [],
            "needs_background": "light"
          }
        }
      ]
    },
    {
      "cell_type": "code",
      "metadata": {
        "id": "rozNJ-vm1sDB",
        "colab": {
          "base_uri": "https://localhost:8080/"
        },
        "outputId": "83827364-682a-4fda-f03a-e844020d3616"
      },
      "source": [
        "print(liste_x)"
      ],
      "execution_count": 12,
      "outputs": [
        {
          "output_type": "stream",
          "text": [
            "[-3.0, -2.9000000000000004, -2.8000000000000003, -2.7, -2.6, -2.5, -2.4000000000000004, -2.3000000000000003, -2.2, -2.1, -2.0, -1.9000000000000001, -1.8, -1.7000000000000002, -1.6, -1.5, -1.4000000000000001, -1.3, -1.2000000000000002, -1.1, -1.0, -0.9, -0.8, -0.7000000000000001, -0.6000000000000001, -0.5, -0.4, -0.30000000000000004, -0.2, -0.1, 0.0, 0.1, 0.2, 0.30000000000000004, 0.4, 0.5, 0.6000000000000001, 0.7000000000000001, 0.8, 0.9, 1.0, 1.1, 1.2000000000000002, 1.3, 1.4000000000000001, 1.5, 1.6, 1.7000000000000002, 1.8, 1.9000000000000001, 2.0, 2.1, 2.2, 2.3000000000000003, 2.4000000000000004, 2.5, 2.6, 2.7, 2.8000000000000003, 2.9000000000000004, 3.0]\n"
          ],
          "name": "stdout"
        }
      ]
    },
    {
      "cell_type": "code",
      "metadata": {
        "id": "y-Gfp0D-4l96",
        "colab": {
          "base_uri": "https://localhost:8080/"
        },
        "outputId": "4255c95c-967f-4b15-fc1e-0d42c77e1832"
      },
      "source": [
        "print(liste_y)"
      ],
      "execution_count": 13,
      "outputs": [
        {
          "output_type": "stream",
          "text": [
            "[2.0, 1.5100000000000016, 1.040000000000001, 0.5900000000000007, 0.16000000000000014, -0.25, -0.6399999999999988, -1.0099999999999993, -1.3599999999999994, -1.69, -2.0, -2.29, -2.5599999999999996, -2.8099999999999996, -3.0399999999999996, -3.25, -3.4399999999999995, -3.61, -3.76, -3.8899999999999997, -4.0, -4.09, -4.16, -4.21, -4.24, -4.25, -4.24, -4.21, -4.16, -4.09, -4.0, -3.89, -3.76, -3.61, -3.44, -3.25, -3.04, -2.8099999999999996, -2.5599999999999996, -2.29, -2.0, -1.6899999999999995, -1.3599999999999994, -1.0099999999999998, -0.6399999999999997, -0.25, 0.16000000000000014, 0.5900000000000007, 1.04, 1.5100000000000007, 2.0, 2.51, 3.040000000000001, 3.5900000000000016, 4.160000000000002, 4.75, 5.360000000000001, 5.990000000000002, 6.640000000000002, 7.310000000000002, 8.0]\n"
          ],
          "name": "stdout"
        }
      ]
    },
    {
      "cell_type": "markdown",
      "metadata": {
        "id": "uSPLOPwG4u1X"
      },
      "source": [
        "2. Commenter le code ci-après.\n",
        "Que contiendront les variables u et termes après son exécution ?"
      ]
    },
    {
      "cell_type": "code",
      "metadata": {
        "id": "0k7fzfLI486U"
      },
      "source": [
        "def suite(n, u0): \n",
        "    '''calcul des n 1ers termes d'une suite récurrente de la forme u_n+1 = f(u_n), à partir de u0\n",
        "    renvoie le dernier terme calculé et la liste des termes'''\n",
        "    u = u0 \n",
        "    termes = [u0]\n",
        "    for i in range(n):\n",
        "        u = f(u) # f est la fonction définie dans le programme ci-dessus\n",
        "        termes.append(u) # on rajoute à la liste des termes e derner terme calculé\n",
        "    return u,termes\n",
        "\n",
        "u, termes = suite(4,0)"
      ],
      "execution_count": 14,
      "outputs": []
    },
    {
      "cell_type": "code",
      "metadata": {
        "id": "yeP2d7H25X-l",
        "colab": {
          "base_uri": "https://localhost:8080/"
        },
        "outputId": "eeb07a58-7077-4e2b-a9c7-4441ac1edeb4"
      },
      "source": [
        "u"
      ],
      "execution_count": 15,
      "outputs": [
        {
          "output_type": "execute_result",
          "data": {
            "text/plain": [
              "4688"
            ]
          },
          "metadata": {
            "tags": []
          },
          "execution_count": 15
        }
      ]
    },
    {
      "cell_type": "code",
      "metadata": {
        "id": "QFQ6PyMo5Y3q",
        "colab": {
          "base_uri": "https://localhost:8080/"
        },
        "outputId": "14c385ef-a366-4c2f-c0bc-bba6c78e4c76"
      },
      "source": [
        "termes"
      ],
      "execution_count": 16,
      "outputs": [
        {
          "output_type": "execute_result",
          "data": {
            "text/plain": [
              "[0, -4, 8, 68, 4688]"
            ]
          },
          "metadata": {
            "tags": []
          },
          "execution_count": 16
        }
      ]
    },
    {
      "cell_type": "markdown",
      "metadata": {
        "id": "Cj4oK-V861jw"
      },
      "source": [
        "## **Exercice 2**\n",
        "\n",
        "Écrire les commandes pour :\n",
        "1. Constituer la liste L, régulièrement espacée, des flottants compris entre 2 inclus et 6 exclu avec un pas de 0.25\n",
        "2. Constituer les sous-listes L1 et L2 de L, des valeurs respectivement inférieures et supérieures à une valeur entrée par l'utilisateur.\n",
        "3. Fabriquer la liste L3, obtenue en rangeant la liste L dans l'autre sens.\n",
        "4. Trouver dans L la valeur la plus proche de 3.3"
      ]
    },
    {
      "cell_type": "code",
      "metadata": {
        "colab": {
          "base_uri": "https://localhost:8080/"
        },
        "id": "_oRvK8VZVjpe",
        "outputId": "51341a8a-d42d-4309-93c6-83323b3fd28f"
      },
      "source": [
        "# 1.\n",
        "L = []\n",
        "c = 2\n",
        "while c < 6:\n",
        "        L.append(c)\n",
        "        c = c + 0.25\n",
        "\n",
        "print(L)"
      ],
      "execution_count": 18,
      "outputs": [
        {
          "output_type": "stream",
          "text": [
            "[2, 2.25, 2.5, 2.75, 3.0, 3.25, 3.5, 3.75, 4.0, 4.25, 4.5, 4.75, 5.0, 5.25, 5.5, 5.75]\n"
          ],
          "name": "stdout"
        }
      ]
    },
    {
      "cell_type": "code",
      "metadata": {
        "colab": {
          "base_uri": "https://localhost:8080/"
        },
        "id": "OGmfzhoTWaTN",
        "outputId": "3585bed6-39b6-43dd-bf6a-a6ac5fb709e3"
      },
      "source": [
        "# 2.\n",
        "# N = input('Entrer la frontière')\n",
        "N = 5.4\n",
        "L1 = [k for k in L if k<N]\n",
        "print(L1)"
      ],
      "execution_count": 19,
      "outputs": [
        {
          "output_type": "stream",
          "text": [
            "[2, 2.25, 2.5, 2.75, 3.0, 3.25, 3.5, 3.75, 4.0, 4.25, 4.5, 4.75, 5.0, 5.25]\n"
          ],
          "name": "stdout"
        }
      ]
    },
    {
      "cell_type": "code",
      "metadata": {
        "colab": {
          "base_uri": "https://localhost:8080/"
        },
        "id": "4AAc9zhcW1sK",
        "outputId": "645ab527-c4bb-486e-ff7f-def8ed52c7bb"
      },
      "source": [
        "L2 = [k for k in L if k>N]\n",
        "print(L2)"
      ],
      "execution_count": 20,
      "outputs": [
        {
          "output_type": "stream",
          "text": [
            "[5.5, 5.75]\n"
          ],
          "name": "stdout"
        }
      ]
    },
    {
      "cell_type": "code",
      "metadata": {
        "colab": {
          "base_uri": "https://localhost:8080/"
        },
        "id": "jm7hJQLBXCy-",
        "outputId": "40f6a511-6fd6-49c8-cbb4-a7d170264562"
      },
      "source": [
        "L3 = []\n",
        "for k in range(len(L)):    # petite gymnastique sur les indices, à bien comprendre...\n",
        "    L3.append(L[len(L)-1-k])\n",
        "\n",
        "print(L3)"
      ],
      "execution_count": 22,
      "outputs": [
        {
          "output_type": "stream",
          "text": [
            "[5.75, 5.5, 5.25, 5.0, 4.75, 4.5, 4.25, 4.0, 3.75, 3.5, 3.25, 3.0, 2.75, 2.5, 2.25, 2]\n"
          ],
          "name": "stdout"
        }
      ]
    },
    {
      "cell_type": "markdown",
      "metadata": {
        "id": "4SLlLFJPNpnf"
      },
      "source": [
        "**Remarque**\n",
        "\n",
        "Bien sûr, on aurait pu utiliser la méthode de liste L***.reverse()***, qui retourne la liste en place (la liste L est modifiée sans affectation d'une nouvelle liste, déjà implémentée en Python, mais de toutes façons, elle n'est pas à connaître et ç'aurait été beaucoup moins drôle !"
      ]
    },
    {
      "cell_type": "code",
      "metadata": {
        "colab": {
          "base_uri": "https://localhost:8080/"
        },
        "id": "pkRIzfj5OPbL",
        "outputId": "0e203546-a7ae-4f5f-9cf7-d1c4d403783e"
      },
      "source": [
        "# 1.\n",
        "L = []\n",
        "c = 2\n",
        "while c < 6:\n",
        "        L.append(c)\n",
        "        c = c + 0.25\n",
        "\n",
        "print(L)"
      ],
      "execution_count": 60,
      "outputs": [
        {
          "output_type": "stream",
          "text": [
            "[2, 2.25, 2.5, 2.75, 3.0, 3.25, 3.5, 3.75, 4.0, 4.25, 4.5, 4.75, 5.0, 5.25, 5.5, 5.75]\n"
          ],
          "name": "stdout"
        }
      ]
    },
    {
      "cell_type": "code",
      "metadata": {
        "colab": {
          "base_uri": "https://localhost:8080/"
        },
        "id": "hoo7mmjDOMIl",
        "outputId": "dcf7b51d-0c4d-41df-99da-0f2996ebb0cc"
      },
      "source": [
        "L.reverse()\n",
        "print(L)"
      ],
      "execution_count": 64,
      "outputs": [
        {
          "output_type": "stream",
          "text": [
            "[5.75, 5.5, 5.25, 5.0, 4.75, 4.5, 4.25, 4.0, 3.75, 3.5, 3.25, 3.0, 2.75, 2.5, 2.25, 2]\n"
          ],
          "name": "stdout"
        }
      ]
    },
    {
      "cell_type": "markdown",
      "metadata": {
        "id": "3T3Db6FQ9IKK"
      },
      "source": [
        "# **2. Travaux Pratiques : Algorithmes de tris**\n",
        "\n",
        "Ces algorithmes ne sont pas au programme d'ECG en tant que tels, mais sont l'occasion de pratiquer un peu les listes."
      ]
    },
    {
      "cell_type": "markdown",
      "metadata": {
        "id": "AukcW3bB_1fo"
      },
      "source": [
        "## **2.0 Une façon amusante de générer une liste d'entiers classée aléatoirement** \n",
        "\n",
        "(pas à connaître, mais pour la comprendre, décortiquer la ligne 5)\n",
        "\n"
      ]
    },
    {
      "cell_type": "code",
      "metadata": {
        "colab": {
          "base_uri": "https://localhost:8080/"
        },
        "id": "xXM64vqjAC6i",
        "outputId": "034275e1-9d54-451a-c1e1-014f7830f4c0"
      },
      "source": [
        "import numpy as np\n",
        "from numpy import random as rd\n",
        "\n",
        "def generer_liste_vrac(n) :\n",
        "    U = rd.random(9)\n",
        "    L = [sum(U<=U[k]) for k in range(len(U))]\n",
        "    return(L)\n",
        "\n",
        "L = generer_liste_vrac(9)\n",
        "L"
      ],
      "execution_count": 23,
      "outputs": [
        {
          "output_type": "execute_result",
          "data": {
            "text/plain": [
              "[8, 9, 3, 2, 4, 5, 7, 1, 6]"
            ]
          },
          "metadata": {
            "tags": []
          },
          "execution_count": 23
        }
      ]
    },
    {
      "cell_type": "markdown",
      "metadata": {
        "id": "gyoW6ChtYuC9"
      },
      "source": [
        "Décortiquons la ligne n°6"
      ]
    },
    {
      "cell_type": "code",
      "metadata": {
        "colab": {
          "base_uri": "https://localhost:8080/"
        },
        "id": "dOmj1Je-Y2Ok",
        "outputId": "4198c56a-0d24-4e52-976f-620f49261100"
      },
      "source": [
        "U = rd.random(5)\n",
        "U"
      ],
      "execution_count": 24,
      "outputs": [
        {
          "output_type": "execute_result",
          "data": {
            "text/plain": [
              "array([0.13163538, 0.50833671, 0.53788649, 0.54002394, 0.69756847])"
            ]
          },
          "metadata": {
            "tags": []
          },
          "execution_count": 24
        }
      ]
    },
    {
      "cell_type": "code",
      "metadata": {
        "colab": {
          "base_uri": "https://localhost:8080/"
        },
        "id": "73p2HXLGZDbE",
        "outputId": "06337819-be95-48af-ce86-2b8f3609d13d"
      },
      "source": [
        "k = 3\n",
        "U<=U[k]             # Indique pour chaque valeur de U si elle est inférieure ou égale à U[3]"
      ],
      "execution_count": 25,
      "outputs": [
        {
          "output_type": "execute_result",
          "data": {
            "text/plain": [
              "array([ True,  True,  True,  True, False])"
            ]
          },
          "metadata": {
            "tags": []
          },
          "execution_count": 25
        }
      ]
    },
    {
      "cell_type": "code",
      "metadata": {
        "colab": {
          "base_uri": "https://localhost:8080/"
        },
        "id": "mM_m8QdyZccw",
        "outputId": "c833d6ec-d72d-43ed-bd2c-5e067cef4646"
      },
      "source": [
        "sum(U<=U[k])        # compte combien de valeurs dans U sont inférieures ou égales à U[3] (compte les \"True\")"
      ],
      "execution_count": 26,
      "outputs": [
        {
          "output_type": "execute_result",
          "data": {
            "text/plain": [
              "4"
            ]
          },
          "metadata": {
            "tags": []
          },
          "execution_count": 26
        }
      ]
    },
    {
      "cell_type": "code",
      "metadata": {
        "colab": {
          "base_uri": "https://localhost:8080/"
        },
        "id": "jveVYfbAZxBh",
        "outputId": "e4ca441d-029a-42ce-e730-ed7ba1e05978"
      },
      "source": [
        "[sum(U<=U[k]) for k in range(len(U))]   # liste définie par compréhension comptant pour chaque k\n",
        "                                        # le nombre de valeurs de U inférieures ou égales à U[k]"
      ],
      "execution_count": 27,
      "outputs": [
        {
          "output_type": "execute_result",
          "data": {
            "text/plain": [
              "[1, 2, 3, 4, 5]"
            ]
          },
          "metadata": {
            "tags": []
          },
          "execution_count": 27
        }
      ]
    },
    {
      "cell_type": "markdown",
      "metadata": {
        "id": "VT6swWbg9ZX5"
      },
      "source": [
        "## **2.1 Tri par sélection**\n",
        "\n",
        "Observer l'animation suivante :"
      ]
    },
    {
      "cell_type": "code",
      "metadata": {
        "colab": {
          "base_uri": "https://localhost:8080/",
          "height": 624
        },
        "id": "AjfVhWSc6d0i",
        "outputId": "b0edf8c5-9eac-44a0-ec74-6276c0964c10"
      },
      "source": [
        "%%html\n",
        "<iframe src=\"https://www.cahier-nsi.fr/tri_par_selection/\" width=\"900\" height=\"600\"></iframe>"
      ],
      "execution_count": 28,
      "outputs": [
        {
          "output_type": "display_data",
          "data": {
            "text/html": [
              "<iframe src=\"https://www.cahier-nsi.fr/tri_par_selection/\" width=\"900\" height=\"600\"></iframe>"
            ],
            "text/plain": [
              "<IPython.core.display.HTML object>"
            ]
          },
          "metadata": {
            "tags": []
          }
        }
      ]
    },
    {
      "cell_type": "markdown",
      "metadata": {
        "id": "6iQRW5rVDoCw"
      },
      "source": [
        "Exprimer l'idée algorithmique.\n",
        "\n",
        "Implémenter le tri par sélection et le tester sur la liste L ci-dessus.\n",
        "\n",
        "Selon la taille de la liste, comment évolue le temps de calcul de la liste triée ? (on pourra par exemple utiliser un compteur de comparaisons, et noter son comportement quand on augmente la taille $n$ de la liste à trier)\n",
        "\n",
        "Une explication ?"
      ]
    },
    {
      "cell_type": "markdown",
      "metadata": {
        "id": "fAmC4XGDaCFq"
      },
      "source": [
        "**idée algorithmique**\n",
        "\n",
        "* on cherche la plus petite valeur de la liste\n",
        "* on l'échange avec la 1<sup>ère</sup>\n",
        "* et on recommence avec la liste privée du 1<sup>er</sup> élément\n",
        "* jusqu'à ce que la longueur de la liste non triée soit nulle.\n",
        "\n"
      ]
    },
    {
      "cell_type": "markdown",
      "metadata": {
        "id": "rg2Mfy1QdgBc"
      },
      "source": [
        "Chacun des deux premiers points peut faire l'objet d'une fonction spéciale, que l'on va écrire et tester, \n",
        "Puis le programme principal sera constitué d'une boucle faisant appel à ces deux fonctions, sur une liste dont on omettra de proche en roche les premiers éléments."
      ]
    },
    {
      "cell_type": "code",
      "metadata": {
        "id": "T8Cln62lakF7"
      },
      "source": [
        "def plus_petit(Liste) :\n",
        "    minimum = Liste[0] \n",
        "    k = 0\n",
        "    rang_minimum = 0\n",
        "    while k < len(Liste) :\n",
        "        if Liste[k] < minimum :\n",
        "            minimum = Liste[k]\n",
        "            rang_minimum = k\n",
        "        k = k+1\n",
        "    return rang_minimum"
      ],
      "execution_count": 46,
      "outputs": []
    },
    {
      "cell_type": "code",
      "metadata": {
        "colab": {
          "base_uri": "https://localhost:8080/"
        },
        "id": "lxbCSmcubMQU",
        "outputId": "47c94c82-6f9d-4aea-8db7-31e2edc97d8b"
      },
      "source": [
        "L = [2,4,3,5,1]\n",
        "r = plus_petit(L)\n",
        "r"
      ],
      "execution_count": 47,
      "outputs": [
        {
          "output_type": "execute_result",
          "data": {
            "text/plain": [
              "4"
            ]
          },
          "metadata": {
            "tags": []
          },
          "execution_count": 47
        }
      ]
    },
    {
      "cell_type": "code",
      "metadata": {
        "id": "8dj3Ij96bdSV"
      },
      "source": [
        "def echanger(Liste,i,j) :\n",
        "    Liste[i] , Liste[j] = Liste[j] , Liste[i] # affectation multiple possible en Python"
      ],
      "execution_count": 48,
      "outputs": []
    },
    {
      "cell_type": "code",
      "metadata": {
        "colab": {
          "base_uri": "https://localhost:8080/"
        },
        "id": "Dy3n9JWVbz0L",
        "outputId": "2d7802ad-e8ed-4f76-b551-d32c91477211"
      },
      "source": [
        "echanger(L,0,r)\n",
        "L"
      ],
      "execution_count": 49,
      "outputs": [
        {
          "output_type": "execute_result",
          "data": {
            "text/plain": [
              "[1, 4, 3, 5, 2]"
            ]
          },
          "metadata": {
            "tags": []
          },
          "execution_count": 49
        }
      ]
    },
    {
      "cell_type": "code",
      "metadata": {
        "colab": {
          "base_uri": "https://localhost:8080/"
        },
        "id": "w_X5OMPNcR4f",
        "outputId": "26095a06-221d-48c7-cacf-4afee375dc85"
      },
      "source": [
        "r=plus_petit(L[1:])\n",
        "r"
      ],
      "execution_count": 50,
      "outputs": [
        {
          "output_type": "execute_result",
          "data": {
            "text/plain": [
              "3"
            ]
          },
          "metadata": {
            "tags": []
          },
          "execution_count": 50
        }
      ]
    },
    {
      "cell_type": "code",
      "metadata": {
        "colab": {
          "base_uri": "https://localhost:8080/"
        },
        "id": "Myk9GH0wckqq",
        "outputId": "97511ee4-62d9-47fc-d973-066db323049a"
      },
      "source": [
        "echanger(L,1,r+1)\n",
        "L"
      ],
      "execution_count": 51,
      "outputs": [
        {
          "output_type": "execute_result",
          "data": {
            "text/plain": [
              "[1, 2, 3, 5, 4]"
            ]
          },
          "metadata": {
            "tags": []
          },
          "execution_count": 51
        }
      ]
    },
    {
      "cell_type": "markdown",
      "metadata": {
        "id": "JN4fWO2K4huA"
      },
      "source": [
        "Bouclons pour classer l'intégralité de la liste :"
      ]
    },
    {
      "cell_type": "code",
      "metadata": {
        "id": "wG8poMle4llL"
      },
      "source": [
        "def tri_selection(Liste) :\n",
        "    \n",
        "    n = len(L)\n",
        "    for deb in range(n):\n",
        "        r = plus_petit(Liste[deb:])\n",
        "        echanger(Liste,deb,r+deb)\n",
        "        print(Liste)\n"
      ],
      "execution_count": 52,
      "outputs": []
    },
    {
      "cell_type": "code",
      "metadata": {
        "colab": {
          "base_uri": "https://localhost:8080/"
        },
        "id": "HaHTWRWL4gCx",
        "outputId": "6308629b-8866-47bc-85b7-a7f2aece289b"
      },
      "source": [
        "L = generer_liste_vrac(9)\n",
        "L"
      ],
      "execution_count": 53,
      "outputs": [
        {
          "output_type": "execute_result",
          "data": {
            "text/plain": [
              "[3, 7, 2, 5, 6, 9, 4, 1, 8]"
            ]
          },
          "metadata": {
            "tags": []
          },
          "execution_count": 53
        }
      ]
    },
    {
      "cell_type": "code",
      "metadata": {
        "colab": {
          "base_uri": "https://localhost:8080/"
        },
        "id": "uhEbvnsZIwJq",
        "outputId": "3992a6ad-e09d-473f-85cb-5cc25cece054"
      },
      "source": [
        "tri_selection(L)\n",
        "L"
      ],
      "execution_count": 54,
      "outputs": [
        {
          "output_type": "stream",
          "text": [
            "[1, 7, 2, 5, 6, 9, 4, 3, 8]\n",
            "[1, 2, 7, 5, 6, 9, 4, 3, 8]\n",
            "[1, 2, 3, 5, 6, 9, 4, 7, 8]\n",
            "[1, 2, 3, 4, 6, 9, 5, 7, 8]\n",
            "[1, 2, 3, 4, 5, 9, 6, 7, 8]\n",
            "[1, 2, 3, 4, 5, 6, 9, 7, 8]\n",
            "[1, 2, 3, 4, 5, 6, 7, 9, 8]\n",
            "[1, 2, 3, 4, 5, 6, 7, 8, 9]\n",
            "[1, 2, 3, 4, 5, 6, 7, 8, 9]\n"
          ],
          "name": "stdout"
        },
        {
          "output_type": "execute_result",
          "data": {
            "text/plain": [
              "[1, 2, 3, 4, 5, 6, 7, 8, 9]"
            ]
          },
          "metadata": {
            "tags": []
          },
          "execution_count": 54
        }
      ]
    },
    {
      "cell_type": "markdown",
      "metadata": {
        "id": "SDWwEVrEKCYW"
      },
      "source": [
        "**Approche de la notion de complexité en temps** (hors programme)\n",
        "\n",
        "Si $n$ est la longueur de la liste à trier, la fonction tri_selection comprend une boucle dans laquelle on passe $n$ fois.\n",
        "\n",
        "Elle fait appel à la fonction plus_petit, dans laquelle il y a une boucle parcourue au plus $n$ fois.\n",
        "\n",
        "L'ordre de grandeur du temps de parcours est donc de l'ordre de grandeur de $n^2$"
      ]
    },
    {
      "cell_type": "markdown",
      "metadata": {
        "id": "kGJWJlE-KyR2"
      },
      "source": [
        "Voici le programme complet :"
      ]
    },
    {
      "cell_type": "code",
      "metadata": {
        "id": "LTQgYh3oJ934"
      },
      "source": [
        "import numpy as np\n",
        "from numpy import random as rd\n",
        "\n",
        "def generer_liste_vrac(n) :\n",
        "    '''Cette fonction reçoit un entier n et retourne une liste d'entiers tous différents, de 1 à n, en ordre aléatoire'''\n",
        "    U = rd.random(9)\n",
        "    L = [sum(U<=U[k]) for k in range(len(U))]\n",
        "    return(L)\n",
        "\n",
        "\n",
        "def plus_petit(Liste) :\n",
        "    '''Cette fonction reçoit une liste Liste et y trouve son minimum.\n",
        "    Elle retourne le rang rang_minimum de ce minimum dans cette liste'''\n",
        "    minimum = Liste[0] \n",
        "    k = 0\n",
        "    rang_minimum = 0\n",
        "    while k < len(Liste) :\n",
        "        if Liste[k] < minimum :\n",
        "            minimum = Liste[k]\n",
        "            rang_minimum = k\n",
        "        k = k+1\n",
        "    return rang_minimum\n",
        "\n",
        "def echanger(Liste,i,j) :\n",
        "    '''Cette fonction reçoit une liste et deux indices entiers i et j, \n",
        "    et recalcule la liste obtenue en échangeant les termes de rang i et j'''\n",
        "    Liste[i] , Liste[j] = Liste[j] , Liste[i] # affectation multiple possible en Python\n",
        "\n",
        "def tri_selection(Liste) :\n",
        "    '''Cette fonction reçoit une liste et la trie en ordre croissant, en utilsant l'agorithme de tri sélection'''\n",
        "    n = len(L)\n",
        "    for deb in range(n):\n",
        "        r = plus_petit(Liste[deb:]) # on ne traite plus le début de la liste qui contient les éléments déjà rangés\n",
        "        echanger(Liste,deb,r+deb)\n",
        "        print(Liste)"
      ],
      "execution_count": 55,
      "outputs": []
    },
    {
      "cell_type": "code",
      "metadata": {
        "colab": {
          "base_uri": "https://localhost:8080/"
        },
        "id": "GhctV9szLwcx",
        "outputId": "c9f39cda-f1c5-4a67-c3b0-254d49e9c1b4"
      },
      "source": [
        "L = generer_liste_vrac(9)\n",
        "L"
      ],
      "execution_count": 58,
      "outputs": [
        {
          "output_type": "execute_result",
          "data": {
            "text/plain": [
              "[5, 6, 4, 9, 3, 2, 7, 8, 1]"
            ]
          },
          "metadata": {
            "tags": []
          },
          "execution_count": 58
        }
      ]
    },
    {
      "cell_type": "code",
      "metadata": {
        "colab": {
          "base_uri": "https://localhost:8080/"
        },
        "id": "11WneeYKL2Pd",
        "outputId": "39f0b176-2666-4a2f-a109-c6b2fd0799e2"
      },
      "source": [
        "tri_selection(L)"
      ],
      "execution_count": 59,
      "outputs": [
        {
          "output_type": "stream",
          "text": [
            "[1, 6, 4, 9, 3, 2, 7, 8, 5]\n",
            "[1, 2, 4, 9, 3, 6, 7, 8, 5]\n",
            "[1, 2, 3, 9, 4, 6, 7, 8, 5]\n",
            "[1, 2, 3, 4, 9, 6, 7, 8, 5]\n",
            "[1, 2, 3, 4, 5, 6, 7, 8, 9]\n",
            "[1, 2, 3, 4, 5, 6, 7, 8, 9]\n",
            "[1, 2, 3, 4, 5, 6, 7, 8, 9]\n",
            "[1, 2, 3, 4, 5, 6, 7, 8, 9]\n",
            "[1, 2, 3, 4, 5, 6, 7, 8, 9]\n"
          ],
          "name": "stdout"
        }
      ]
    },
    {
      "cell_type": "markdown",
      "metadata": {
        "id": "ffoUwsAVEhzQ"
      },
      "source": [
        "## **2.2 Tri par insertion**\n",
        "\n",
        "Observer l'animation suivante :"
      ]
    },
    {
      "cell_type": "code",
      "metadata": {
        "colab": {
          "base_uri": "https://localhost:8080/",
          "height": 624
        },
        "id": "Yey-Mgjr_oP1",
        "outputId": "991a889c-42e7-4232-b47f-cab11bede5ee"
      },
      "source": [
        "%%html\n",
        "<iframe src=\"https://www.cahier-nsi.fr/tri_par_insertion/\" width=\"900\" height=\"600\"></iframe>"
      ],
      "execution_count": null,
      "outputs": [
        {
          "output_type": "display_data",
          "data": {
            "text/html": [
              "<iframe src=\"https://www.cahier-nsi.fr/tri_par_insertion/\" width=\"900\" height=\"600\"></iframe>"
            ],
            "text/plain": [
              "<IPython.core.display.HTML object>"
            ]
          },
          "metadata": {
            "tags": []
          }
        }
      ]
    },
    {
      "cell_type": "markdown",
      "metadata": {
        "id": "BsYVXysFE47b"
      },
      "source": [
        "Exprimer l'idée algorithmique.\n",
        "\n",
        "Implémenter le tri par sélection et le tester sur la liste L ci-dessus.\n",
        "\n",
        "Ajouter une variable chargée de compter toutes les comparaisons, et essayer de trouver un lien entre la taille de la liste à classer et l'ordre de grandeur de la valeur finale de ce compteur.\n",
        "\n",
        "Une explication ?"
      ]
    },
    {
      "cell_type": "markdown",
      "metadata": {
        "id": "RSSSfkQo3h8G"
      },
      "source": [
        "**idée algorithmique**\n",
        "\n",
        "* Pour chaque valeur de la 2<sup>ème</sup> à la dernière,\n",
        "    * chercher la place où insérer la valeur\n",
        "    * mettre de côté la valeur à insérer\n",
        "    * décaler toute la partie de liste comprise entre la place trouvée et la place précédant la place initiale de la valeur à insérer, en partant de la droite"
      ]
    },
    {
      "cell_type": "code",
      "metadata": {
        "id": "crmlWu4aE2SP"
      },
      "source": [
        "def trouve_rang(Liste,deb):\n",
        "    '''Cette fonction reçoit une liste Liste classée jusqu'au rang deb-1 \n",
        "    et trouve le rang où insérer la valeur de la liste de rang deb'''\n",
        "\n",
        "    r = deb - 1\n",
        "    while r > 0 and Liste[deb]<Liste[r] :\n",
        "        r = r-1\n",
        "    if Liste[deb] > Liste[r]:\n",
        "        return r + 1\n",
        "    else :\n",
        "        return 0"
      ],
      "execution_count": 354,
      "outputs": []
    },
    {
      "cell_type": "code",
      "metadata": {
        "colab": {
          "base_uri": "https://localhost:8080/"
        },
        "id": "oj3t052gRBCs",
        "outputId": "f3c930f1-4ba0-4d21-f350-708543348a75"
      },
      "source": [
        "L = [1,2,5,4,3] # classée jusqu'au rang 2 : [1,2,5]\n",
        "i = trouve_rang(L,3) #  où doit se placer la valeur 4 ? réponse attendue : 2\n",
        "i"
      ],
      "execution_count": 355,
      "outputs": [
        {
          "output_type": "execute_result",
          "data": {
            "text/plain": [
              "2"
            ]
          },
          "metadata": {
            "tags": []
          },
          "execution_count": 355
        }
      ]
    },
    {
      "cell_type": "code",
      "metadata": {
        "id": "W5cbTrQDRUH7"
      },
      "source": [
        "def decale(Liste,i,j) :\n",
        "    '''Cette fonction décale d'un rang vers la droite les termes de la liste Liste entre\n",
        "    les indices i et j'''\n",
        "    for k in range(j,i,-1) :\n",
        "        Liste[k] = Liste[k-1]\n"
      ],
      "execution_count": 356,
      "outputs": []
    },
    {
      "cell_type": "code",
      "metadata": {
        "colab": {
          "base_uri": "https://localhost:8080/"
        },
        "id": "-XnYUDIRSD2k",
        "outputId": "d82198f6-b2e7-4388-d63c-e6e7b9e43c16"
      },
      "source": [
        "L = [1,2,5,4,3]\n",
        "decale(L,1,3) # doit donner [1,2,2,5,3]\n",
        "L"
      ],
      "execution_count": 357,
      "outputs": [
        {
          "output_type": "execute_result",
          "data": {
            "text/plain": [
              "[1, 2, 2, 5, 3]"
            ]
          },
          "metadata": {
            "tags": []
          },
          "execution_count": 357
        }
      ]
    },
    {
      "cell_type": "code",
      "metadata": {
        "id": "QukSNfmfSJDS"
      },
      "source": [
        "def insere(Liste,deb) :\n",
        "    i = trouve_rang(Liste,deb)\n",
        "    # print(i)\n",
        "    aux = Liste[deb]\n",
        "    decale(L,i,deb)\n",
        "    L[i] = aux"
      ],
      "execution_count": 358,
      "outputs": []
    },
    {
      "cell_type": "code",
      "metadata": {
        "colab": {
          "base_uri": "https://localhost:8080/"
        },
        "id": "p8h5_FHMSxD3",
        "outputId": "b342562c-2003-49d5-862a-2feeef5b93d1"
      },
      "source": [
        "L = [1,4,5,2,3]\n",
        "insere(L,3) # doit donner [1,2,4,5,3]\n",
        "L"
      ],
      "execution_count": 359,
      "outputs": [
        {
          "output_type": "execute_result",
          "data": {
            "text/plain": [
              "[1, 2, 4, 5, 3]"
            ]
          },
          "metadata": {
            "tags": []
          },
          "execution_count": 359
        }
      ]
    },
    {
      "cell_type": "code",
      "metadata": {
        "id": "mZC2iW5zUWnA"
      },
      "source": [
        "def tri_insertion(Liste) :\n",
        "    n = len(Liste)\n",
        "    for k in range(1,n):\n",
        "        insere(Liste,k)\n",
        "        print(Liste)\n",
        "\n"
      ],
      "execution_count": 360,
      "outputs": []
    },
    {
      "cell_type": "code",
      "metadata": {
        "colab": {
          "base_uri": "https://localhost:8080/"
        },
        "id": "vepif8lbZs3D",
        "outputId": "c89fde55-2c5b-4247-ace8-4018b5d3273e"
      },
      "source": [
        "L = [3,5,4,2,1]\n",
        "tri_insertion(L)"
      ],
      "execution_count": 363,
      "outputs": [
        {
          "output_type": "stream",
          "text": [
            "[3, 5, 4, 2, 1]\n",
            "[3, 4, 5, 2, 1]\n",
            "[2, 3, 4, 5, 1]\n",
            "[1, 2, 3, 4, 5]\n"
          ],
          "name": "stdout"
        }
      ]
    },
    {
      "cell_type": "markdown",
      "metadata": {
        "id": "E0ar3sBeoAH0"
      },
      "source": [
        "Récapitulons le tout en un seul programme :"
      ]
    },
    {
      "cell_type": "code",
      "metadata": {
        "id": "EBMVdrR7Zw6t"
      },
      "source": [
        "import numpy as np\n",
        "from numpy import random as rd\n",
        "\n",
        "def generer_liste_vrac(n) :\n",
        "    '''Cette fonction reçoit un entier n et retourne une liste d'entiers tous différents, de 1 à n, en ordre aléatoire'''\n",
        "    U = rd.random(9)\n",
        "    L = [sum(U<=U[k]) for k in range(len(U))]\n",
        "    return(L)\n",
        "\n",
        "def trouve_rang(Liste,deb):\n",
        "    '''Cette fonction reçoit une liste Liste classée jusqu'au rang deb-1 \n",
        "    et trouve le rang où insérer la valeur de la liste de rang deb'''\n",
        "\n",
        "    r = deb - 1\n",
        "    while r > 0 and Liste[deb]<Liste[r] :\n",
        "        r = r-1\n",
        "    if Liste[deb] > Liste[r]:\n",
        "        return r + 1\n",
        "    else :\n",
        "        return 0\n",
        "\n",
        "def decale(Liste,i,j) :\n",
        "    '''Cette fonction décale d'un rang vers la droite les termes de la liste Liste entre\n",
        "    les indices i et j'''\n",
        "    for k in range(j,i,-1) :\n",
        "        Liste[k] = Liste[k-1]\n",
        "\n",
        "def insere(Liste,deb) :\n",
        "    '''Cette fonction reçoit une liste Liste triée jusqu'au rand deb - 1, et insère l'élément de rand deb à sa place'''\n",
        "    i = trouve_rang(Liste,deb)\n",
        "    # print(i)\n",
        "    aux = Liste[deb]\n",
        "    decale(L,i,deb)\n",
        "    L[i] = aux\n",
        "\n",
        "\n",
        "def tri_insertion(Liste) :\n",
        "    '''Cette fonction reçoit une liste Liste, et la classe en ordre croissant, en suivant l'agorithme d tri par insertion.'''\n",
        "    n = len(Liste)\n",
        "    for k in range(1,n):\n",
        "        insere(Liste,k)\n",
        "        print(Liste)\n"
      ],
      "execution_count": 364,
      "outputs": []
    },
    {
      "cell_type": "code",
      "metadata": {
        "colab": {
          "base_uri": "https://localhost:8080/"
        },
        "id": "aRAZ7fA4EvxX",
        "outputId": "220d834c-3fc0-44a4-d35f-22f85d8ed8a7"
      },
      "source": [
        "L = generer_liste_vrac(9)\n",
        "L"
      ],
      "execution_count": 365,
      "outputs": [
        {
          "output_type": "execute_result",
          "data": {
            "text/plain": [
              "[6, 2, 7, 5, 1, 8, 9, 4, 3]"
            ]
          },
          "metadata": {
            "tags": []
          },
          "execution_count": 365
        }
      ]
    },
    {
      "cell_type": "code",
      "metadata": {
        "colab": {
          "base_uri": "https://localhost:8080/"
        },
        "id": "NsUXtRK-oahv",
        "outputId": "dceca42c-cd28-4c75-abd1-feaff6afc545"
      },
      "source": [
        "tri_insertion(L)"
      ],
      "execution_count": 366,
      "outputs": [
        {
          "output_type": "stream",
          "text": [
            "[2, 6, 7, 5, 1, 8, 9, 4, 3]\n",
            "[2, 6, 7, 5, 1, 8, 9, 4, 3]\n",
            "[2, 5, 6, 7, 1, 8, 9, 4, 3]\n",
            "[1, 2, 5, 6, 7, 8, 9, 4, 3]\n",
            "[1, 2, 5, 6, 7, 8, 9, 4, 3]\n",
            "[1, 2, 5, 6, 7, 8, 9, 4, 3]\n",
            "[1, 2, 4, 5, 6, 7, 8, 9, 3]\n",
            "[1, 2, 3, 4, 5, 6, 7, 8, 9]\n"
          ],
          "name": "stdout"
        }
      ]
    },
    {
      "cell_type": "code",
      "metadata": {
        "id": "SLoLoEMyodXv"
      },
      "source": [
        ""
      ],
      "execution_count": null,
      "outputs": []
    }
  ]
}