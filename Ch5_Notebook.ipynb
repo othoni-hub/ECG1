{
  "nbformat": 4,
  "nbformat_minor": 0,
  "metadata": {
    "colab": {
      "name": "Ch5-Notebook.ipynb",
      "provenance": [],
      "collapsed_sections": [],
      "authorship_tag": "ABX9TyNdZfySyDybWoGkkVBJ/W2n",
      "include_colab_link": true
    },
    "kernelspec": {
      "name": "python3",
      "display_name": "Python 3"
    },
    "language_info": {
      "name": "python"
    }
  },
  "cells": [
    {
      "cell_type": "markdown",
      "metadata": {
        "id": "view-in-github",
        "colab_type": "text"
      },
      "source": [
        "<a href=\"https://colab.research.google.com/github/othoni-hub/ECG1/blob/main/Ch5_Notebook.ipynb\" target=\"_parent\"><img src=\"https://colab.research.google.com/assets/colab-badge.svg\" alt=\"Open In Colab\"/></a>"
      ]
    },
    {
      "cell_type": "markdown",
      "metadata": {
        "id": "8Z4PwNLZ_mjO"
      },
      "source": [
        "# **CPGE-ECG1** \n",
        "<img src=\"https://drive.google.com/uc?id=12Wo3LubGGT4qOvYFAuLP4CyCuwjKNVuk\" width=\"230\" height=\"150\" align = \"right\"/>\n",
        "\n",
        "## **Ch5 - Notebook : Suites**\n",
        "\n",
        "\n",
        "\n",
        "\n",
        "**O.Thöni - Lycée Saint-Charles Sainte Croix - LE MANS**"
      ]
    },
    {
      "cell_type": "markdown",
      "metadata": {
        "id": "Fs7mlei6Eta8"
      },
      "source": [
        "### 1. Approximations de $\\phi$ ###\n",
        "\n",
        "**<span style=\"color: #D17460\">1Spé - TSpé - TCompl </span>**\n",
        "\n",
        "**_1.a. Par une suite récurrente simple (aisément généralisable à toute suite récurrente du type u<sub>n+1</sub> = f(u<sub>n</sub>) )_**"
      ]
    },
    {
      "cell_type": "code",
      "metadata": {
        "id": "UKzaRLhjEta9",
        "colab": {
          "base_uri": "https://localhost:8080/"
        },
        "outputId": "59bc25af-8895-4327-8b2f-644114bba68e"
      },
      "source": [
        "def f(x):\n",
        "    f = sqrt(x+1)\n",
        "    return f\n",
        "\n",
        "u = 5\n",
        "for k in range (1,10):\n",
        "    u = f(u)\n",
        "    print('u',k,' = ',u,'   précision : 10^',round(log(abs(u - (1+sqrt(5))/2))/log(10)))"
      ],
      "execution_count": null,
      "outputs": [
        {
          "output_type": "stream",
          "text": [
            "u 1  =  2.449489742783178    précision : 10^ 0\n",
            "u 2  =  1.8572802003960462    précision : 10^ -1\n",
            "u 3  =  1.6903491356509892    précision : 10^ -1\n",
            "u 4  =  1.640228379114015    précision : 10^ -2\n",
            "u 5  =  1.624877958221483    précision : 10^ -2\n",
            "u 6  =  1.620147511253677    précision : 10^ -3\n",
            "u 7  =  1.6186869713609475    précision : 10^ -3\n",
            "u 8  =  1.6182357588932916    précision : 10^ -4\n",
            "u 9  =  1.6180963379518822    précision : 10^ -4\n"
          ],
          "name": "stdout"
        }
      ]
    },
    {
      "cell_type": "markdown",
      "metadata": {
        "id": "foHztGRfEtbB"
      },
      "source": [
        "**_Construction graphique des termes de la suite_**"
      ]
    },
    {
      "cell_type": "code",
      "metadata": {
        "id": "KqH4T2_FEtbC",
        "colab": {
          "base_uri": "https://localhost:8080/"
        },
        "outputId": "0cd2c04b-b2ed-4be6-8519-236c8a8a6acc"
      },
      "source": [
        "xx = np.arange(-1,6,0.1)\n",
        "yy = []\n",
        "ii = []\n",
        "for ix in xx :\n",
        "    yy.append(sqrt(ix+1))\n",
        "    ii.append(ix)\n",
        "    \n",
        "p1 = plt.plot(xx,yy,'r',linewidth=1)\n",
        "p2 = plt.plot(xx,ii,'b',linewidth=1)\n",
        "\n",
        "u = 5\n",
        "x = range(5)\n",
        "\n",
        "for k in x :\n",
        "    y = sqrt(u+1)\n",
        "    plt.plot(u,y,'r')\n",
        "    plt.plot([u,y],[y,y],'g',linewidth=1,linestyle = ':')\n",
        "    plt.plot([u,u],[u,y],'g',linewidth=1,linestyle = ':')\n",
        "    u = sqrt(u+1)\n",
        "\n",
        "\n",
        "plt.xlabel('x')\n",
        "plt.ylabel('y')\n",
        "#plt.axis([-1.5,6,0,4])\n",
        "\n",
        "ax = plt.gca() # récupération du paramétrage des axes\n",
        "\n",
        "ax.spines['left'].set_position('zero') # positionnement de l'axe des ordonnées à x = 0\n",
        "ax.spines['right'].set_color('none')\n",
        "ax.spines['bottom'].set_position('zero') # positionnement de l'axe des abscisses à y = 0\n",
        "ax.spines['top'].set_color('none')\n",
        "\n",
        "plt.xlim(-1.5,6.5) # dimensionnement de l'axe des abscisse, celui des ordonnées sera dimensionné automatiquement\n",
        "\n",
        "plt.show()"
      ],
      "execution_count": null,
      "outputs": [
        {
          "output_type": "display_data",
          "data": {
            "image/png": "[encoded data removed]",
            "text/plain": [
              "<Figure size 432x288 with 1 Axes>"
            ]
          },
          "metadata": {
            "tags": []
          }
        }
      ]
    },
    {
      "cell_type": "markdown",
      "metadata": {
        "id": "Ed9Fcu_wEtbG"
      },
      "source": [
        "**_1.b. Par une suite récurrente linéaire d'ordre 2_**\n",
        "\n",
        "**<span style=\"color: #D17460\">TSpé - TCompl : suite récurrente linéaire d'ordre 2</span>**\n",
        "\n",
        "\n",
        "Dans la suite de **Fibonnacci (1170-1240)**, le rapport de deux termes consécutifs tend vers $\\phi$, c'est l'occasion de programmer une telle suite..."
      ]
    },
    {
      "cell_type": "code",
      "metadata": {
        "id": "KkYE8iZ9EtbH",
        "colab": {
          "base_uri": "https://localhost:8080/"
        },
        "outputId": "5437bf00-2df2-4c68-ccba-4dfb021828a4"
      },
      "source": [
        "a = 1\n",
        "b = 1\n",
        "\n",
        "print('F 0 = 1')\n",
        "print('F 1 = 1  , r 1 = 1')\n",
        "for k in range (2,10):\n",
        "    r = b/a\n",
        "    F = a + b\n",
        "    print('F',k,'=',F,'  , r',k,'=',r)\n",
        "    a = b\n",
        "    b = F\n"
      ],
      "execution_count": null,
      "outputs": [
        {
          "output_type": "stream",
          "text": [
            "F 0 = 1\n",
            "F 1 = 1  , r 1 = 1\n",
            "F 2 = 2   , r 2 = 1.0\n",
            "F 3 = 3   , r 3 = 2.0\n",
            "F 4 = 5   , r 4 = 1.5\n",
            "F 5 = 8   , r 5 = 1.6666666666666667\n",
            "F 6 = 13   , r 6 = 1.6\n",
            "F 7 = 21   , r 7 = 1.625\n",
            "F 8 = 34   , r 8 = 1.6153846153846154\n",
            "F 9 = 55   , r 9 = 1.619047619047619\n"
          ],
          "name": "stdout"
        }
      ]
    },
    {
      "cell_type": "markdown",
      "metadata": {
        "id": "IJLDJog2EtbO"
      },
      "source": [
        "**_1.c. seuil_**\n",
        "\n",
        "La suite F <sub>n</sub> étant de sens alterné, oscillant autour de $\\phi$, on peut calculer un seuil pour obtenir une précision cherchée en considérant l'écart entre deux termes consécutifs.\n",
        "\n",
        "\n",
        "**<span style=\"color: #26B260\">Python : boucle *while* pour la recherche de seuil</span>**"
      ]
    },
    {
      "cell_type": "code",
      "metadata": {
        "id": "AanE17Y-EtbQ",
        "colab": {
          "base_uri": "https://localhost:8080/"
        },
        "outputId": "d01a2fa2-72d3-4db5-a99a-d70e9f59b5bd"
      },
      "source": [
        "a = 1\n",
        "b = 1\n",
        "r = b/a\n",
        "old = 2\n",
        "k = 2\n",
        "\n",
        "#nb_decimales = int(input('Entrez la précision cherchée, nombre de chiffres après la virgule : '))\n",
        "nb_decimales = 9\n",
        "\n",
        "while abs(old - r)> 10**(-nb_decimales):\n",
        "    old = r\n",
        "    k = k+1\n",
        "    F = a + b\n",
        "    a = b\n",
        "    b = F\n",
        "    r = b/a\n",
        "    #print(r)\n",
        "    \n",
        "print('À 10^-',nb_decimales,' près, une valeur approchée de Phi est : ',round(r,nb_decimales) , ' obtenue après ',k,' itérations.')\n",
        "# résultat formaté selon la précision cherchée"
      ],
      "execution_count": null,
      "outputs": [
        {
          "output_type": "stream",
          "text": [
            "À 10^- 9  près, une valeur approchée de Phi est :  1.618033989  obtenue après  25  itérations.\n"
          ],
          "name": "stdout"
        }
      ]
    },
    {
      "cell_type": "markdown",
      "metadata": {
        "id": "RFcoYF36EtbZ"
      },
      "source": [
        "**_1.d. Représentation graphique_**"
      ]
    },
    {
      "cell_type": "code",
      "metadata": {
        "id": "lqw5ZdarEtba",
        "colab": {
          "base_uri": "https://localhost:8080/"
        },
        "outputId": "4cfa4ea1-4fbd-4801-b2e1-87e6f315135c"
      },
      "source": [
        "a = 1\n",
        "b = 1\n",
        "r = [1]\n",
        "\n",
        "for k in range (2,11):\n",
        "    r.append(b/a)\n",
        "    F = a + b\n",
        "    a = b\n",
        "    b = F\n",
        "#print(r)\n",
        "\n",
        "x = range(1,11)\n",
        "plt.plot(x,r,'r',marker = \"+\",linestyle = 'None')\n",
        "\n",
        "phi = (1+sqrt(5))/2\n",
        "\n",
        "plt.plot([0,11],[phi,phi],'k',linewidth = 1,linestyle = ':')\n",
        "\n",
        "plt.xlabel('n')\n",
        "plt.ylabel('Fn+1/Fn')\n",
        "plt.axis([0,11,0,2.5])\n",
        "plt.show()\n"
      ],
      "execution_count": null,
      "outputs": [
        {
          "output_type": "display_data",
          "data": {
            "image/png": "[encoded data removed]",
            "text/plain": [
              "<Figure size 432x288 with 1 Axes>"
            ]
          },
          "metadata": {
            "tags": []
          }
        }
      ]
    },
    {
      "cell_type": "markdown",
      "metadata": {
        "id": "J2jTBIWKEtcW"
      },
      "source": [
        "**_2. $\\pi$ à partir de la moyenne arithmético-géométrique de 1 et $\\frac{1}{\\sqrt 2}$_**\n",
        "\n",
        "**<span style=\"color: #D17460\">TSpé - TCompl : moyenne arithmético-géométrique</span>**\n",
        "\n",
        "\n",
        "Cette méthode est très très rapide, car on double le nombre de décimales exactes à chaque itération.\n",
        "\n",
        "Elle permet de programmer deux suites définies par des relations de récurrence entrelacées."
      ]
    },
    {
      "cell_type": "code",
      "metadata": {
        "id": "yBpZ7nGfEtcX",
        "colab": {
          "base_uri": "https://localhost:8080/"
        },
        "outputId": "d8390581-bee8-4d84-f05a-cc6c1ed1f192"
      },
      "source": [
        "x = 1\n",
        "c = 1/4\n",
        "u = 1\n",
        "v = 1 / sqrt(2)\n",
        "n = 5\n",
        "\n",
        "for k in range(1,n+1):\n",
        "    y = u # stockage de l'ancienne valeur de u\n",
        "    u = (u+v)/2 # moyenne arithmétique\n",
        "    v = sqrt(v*y)\n",
        "    c = c - x*(u-y)**2\n",
        "    x = 2*x\n",
        "    p = (u+v)**2/(4*c)\n",
        "    print('Itération n°',k,'valeur approchée de Pi : ',p, '   précision 10^',round(log(abs(p - pi))/log(10)))\n",
        "\n"
      ],
      "execution_count": null,
      "outputs": [
        {
          "output_type": "stream",
          "text": [
            "Itération n° 1 valeur approchée de Pi :  3.1405792505221686    précision 10^ -3\n",
            "Itération n° 2 valeur approchée de Pi :  3.141592646213543    précision 10^ -8\n",
            "Itération n° 3 valeur approchée de Pi :  3.141592653589794    précision 10^ -15\n",
            "Itération n° 4 valeur approchée de Pi :  3.141592653589794    précision 10^ -15\n",
            "Itération n° 5 valeur approchée de Pi :  3.141592653589794    précision 10^ -15\n"
          ],
          "name": "stdout"
        }
      ]
    }
  ]
}