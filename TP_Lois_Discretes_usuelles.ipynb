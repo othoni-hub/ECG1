{
  "nbformat": 4,
  "nbformat_minor": 0,
  "metadata": {
    "kernelspec": {
      "display_name": "Python 3",
      "language": "python",
      "name": "python3"
    },
    "language_info": {
      "codemirror_mode": {
        "name": "ipython",
        "version": 3
      },
      "file_extension": ".py",
      "mimetype": "text/x-python",
      "name": "python",
      "nbconvert_exporter": "python",
      "pygments_lexer": "ipython3",
      "version": "3.7.1"
    },
    "colab": {
      "name": "TP_Lois_Discretes_usuelles.ipynb",
      "provenance": [],
      "include_colab_link": true
    }
  },
  "cells": [
    {
      "cell_type": "markdown",
      "metadata": {
        "id": "view-in-github",
        "colab_type": "text"
      },
      "source": [
        "<a href=\"https://colab.research.google.com/github/othoni-hub/ECG1/blob/main/TP_Lois_Discretes_usuelles.ipynb\" target=\"_parent\"><img src=\"https://colab.research.google.com/assets/colab-badge.svg\" alt=\"Open In Colab\"/></a>"
      ]
    },
    {
      "cell_type": "markdown",
      "metadata": {
        "id": "V8C9Ugp_acB-"
      },
      "source": [
        "# **CPGE-ECG1** \n",
        "\n",
        "<img src=\"https://drive.google.com/uc?id=12Wo3LubGGT4qOvYFAuLP4CyCuwjKNVuk\" width=\"230\" height=\"150\" align = \"right\"/>\n",
        "\n",
        "## **Toutes les lois discrètes usuelles**\n",
        "\n",
        "\n",
        "\n",
        "\n",
        "**O.Thöni**\n",
        "\n",
        "professeur de Mathématiques, CPGE-ECG1, Lycée Saint-Charles Sainte-Croix - LE MANS"
      ]
    },
    {
      "cell_type": "code",
      "metadata": {
        "id": "st8sn24fTFAP"
      },
      "source": [
        "from random import random\n",
        "import matplotlib.pyplot as plt\n",
        "from math import log, exp, pi, sqrt\n"
      ],
      "execution_count": null,
      "outputs": []
    },
    {
      "cell_type": "markdown",
      "metadata": {
        "id": "2G3of1WDTFAU"
      },
      "source": [
        "### 1. Lois usuelles discrètes à valeurs entières\n",
        "\n",
        "L'idée est de ne pas utiliser les fonctions toutes prêtes des modules *Numpy* ou *random*, par exemple...\n",
        "\n",
        "**_1.1. Loi de Bernoulli_**\n"
      ]
    },
    {
      "cell_type": "code",
      "metadata": {
        "id": "BncLoyqWTFAV"
      },
      "source": [
        "def bernoulli(p) :\n",
        "    return int(random() < p)\n",
        "\n",
        "def echantillon_bernoulli(N,p):\n",
        "    echt = []\n",
        "    for k in range(N):\n",
        "        b = bernoulli(p)\n",
        "        echt = echt + [b]\n",
        "    return echt"
      ],
      "execution_count": null,
      "outputs": []
    },
    {
      "cell_type": "code",
      "metadata": {
        "id": "Oyjz6_DgTFAY",
        "colab": {
          "base_uri": "https://localhost:8080/",
          "height": 125
        },
        "outputId": "fa8a80fb-7ccb-47d6-afef-e2e00ca9be27"
      },
      "source": [
        "p = 0.4 # probabilité de succès\n",
        "N = 100 # taille des échantillons\n",
        "\n",
        "# échantillon de B(p)\n",
        "echantillon = [0]*N\n",
        "\n",
        "print('Échantillon de',N, 'tirages selon la loi B(',p,')')\n",
        "echantillon[:] = echantillon_bernoulli(N,p)\n",
        "S = sum(echantillon)\n",
        "print(echantillon)\n",
        "print('Nombre de succès sur',N,'tirages de Bernoulli de probabilité',p,':',sum(echantillon))\n",
        "print(\"Moyenne de l'échantillon :\", S/N)\n",
        "print('Espérance théorique :',p)"
      ],
      "execution_count": null,
      "outputs": [
        {
          "output_type": "stream",
          "text": [
            "Échantillon de 100 tirages selon la loi B( 0.4 )\n",
            "[0, 0, 0, 0, 0, 0, 1, 0, 1, 0, 0, 1, 0, 0, 1, 0, 1, 0, 1, 0, 1, 0, 0, 0, 1, 0, 1, 0, 0, 1, 0, 0, 0, 1, 1, 1, 0, 0, 0, 0, 0, 0, 1, 0, 0, 0, 0, 0, 0, 0, 1, 1, 0, 1, 1, 1, 0, 0, 0, 0, 1, 1, 0, 0, 0, 0, 0, 1, 1, 1, 0, 0, 0, 0, 0, 0, 0, 1, 0, 0, 0, 0, 0, 0, 0, 1, 1, 0, 0, 0, 0, 0, 1, 0, 1, 0, 0, 1, 1, 0]\n",
            "Nombre de succès sur 100 tirages de Bernoulli de probabilité 0.4 : 31\n",
            "Moyenne de l'échantillon : 0.31\n",
            "Espérance théorique : 0.4\n"
          ],
          "name": "stdout"
        }
      ]
    },
    {
      "cell_type": "markdown",
      "metadata": {
        "id": "K1N6HbD_TFAd"
      },
      "source": [
        "**_Diagramme en bâtons_**\n",
        "\n",
        "**<span style=\"color: #26B260\">Python : module *matplotlib.pyplot*, diagrammes en barres</span>**"
      ]
    },
    {
      "cell_type": "code",
      "metadata": {
        "id": "trDG9OPETFAe"
      },
      "source": [
        "def tabuler(X_Omega, echantillon):\n",
        "    card = len(X_Omega)\n",
        "    frequences = [0]*card\n",
        "\n",
        "    for k in echantillon :\n",
        "        if k <= X_Omega[-1]:\n",
        "            frequences[k-X_Omega[0]] = frequences[k-X_Omega[0]] + 1/N\n",
        "    \n",
        "    #print(frequences)\n",
        "    return(frequences)\n"
      ],
      "execution_count": null,
      "outputs": []
    },
    {
      "cell_type": "code",
      "metadata": {
        "id": "t9i8ucOGTFAj"
      },
      "source": [
        "def diagramme_batons(X_Omega,tabule,probabilites):\n",
        "    # tracer les diagrammes en bâtons\n",
        "    plt.grid(True)\n",
        "    largeur = (X_Omega[-1] - X_Omega[0])/100\n",
        "\n",
        "    plt.bar(X_Omega, probabilites, width = 3*largeur, color = 'blue', alpha = 0.3, label = 'Probabilites theoriques')\n",
        "    plt.bar(X_Omega, tabule, width = largeur, color = 'red', alpha = 1, label = 'Simulation')\n",
        "\n",
        "    plt.xlabel('X_Omega')\n",
        "    plt.ylabel('Frequences')\n",
        "    plt.legend()\n",
        "\n",
        "    ax = plt.gca() # récupération du paramétrage des axes\n",
        "\n",
        "    ax.spines['left'].set_position('zero') # positionnement de l'axe des ordonnées à x = 0\n",
        "    ax.spines['right'].set_color('none')\n",
        "    ax.spines['bottom'].set_position('zero') # positionnement de l'axe des abscisses à y = 0\n",
        "    ax.spines['top'].set_color('none')"
      ],
      "execution_count": null,
      "outputs": []
    },
    {
      "cell_type": "code",
      "metadata": {
        "id": "58Uc2nvZTFAm",
        "colab": {
          "base_uri": "https://localhost:8080/",
          "height": 313
        },
        "outputId": "1721b14a-a0ef-41f4-9946-c543f3a7d22c"
      },
      "source": [
        "# diagramme en bâtons loi de Bernoulli\n",
        "X_Omega = [0,1]\n",
        "\n",
        "# loi théorique\n",
        "probabilites = [1-p,p]\n",
        "\n",
        "# tabulation de la simulation\n",
        "frequences = tabuler(X_Omega,echantillon)\n",
        "\n",
        "diagramme_batons(X_Omega, frequences, probabilites)\n",
        "\n",
        "plt.title('Simulation de '+ str(N)+' tirages selon une loi B('+ str(p)+')')\n"
      ],
      "execution_count": null,
      "outputs": [
        {
          "output_type": "execute_result",
          "data": {
            "text/plain": [
              "Text(0.5, 1.0, 'Simulation de 100 tirages selon une loi B(0.4)')"
            ]
          },
          "metadata": {
            "tags": []
          },
          "execution_count": 6
        },
        {
          "output_type": "display_data",
          "data": {
            "image/png": "[encoded data removed]",
            "text/plain": [
              "<Figure size 432x288 with 1 Axes>"
            ]
          },
          "metadata": {
            "tags": []
          }
        }
      ]
    },
    {
      "cell_type": "markdown",
      "metadata": {
        "id": "neAPivazTFAq"
      },
      "source": [
        "**_Représentation des fréquences cumulées et fonction de répartition_**"
      ]
    },
    {
      "cell_type": "code",
      "metadata": {
        "id": "NDEL4zUKTFAr"
      },
      "source": [
        "def trace_fonction_repartition(X_omega, freqC, probaC):\n",
        "    card = len(X_omega)\n",
        "    \n",
        "    plt.plot([X_omega[0]-1, X_Omega[0]],[0,0], color ='blue', linewidth = 8, alpha = 0.3, label = 'Fonction de repartition')\n",
        "    plt.plot([X_Omega[0], X_Omega[0]],[0,probaC[0]], color ='blue', linewidth = 8, alpha = 0.3, label = '')\n",
        "    plt.plot([X_omega[0]-1, X_Omega[0]],[0,0], color ='red', linewidth = 2, label = 'Frequences Cumulées')\n",
        "    plt.plot([X_Omega[0], X_Omega[0]],[0,freqC[0]], color ='red', linewidth = 2, label = '')\n",
        "    \n",
        "    for k in range(card-1):\n",
        "        plt.plot([X_omega[k], X_Omega[k+1]],[probaC[k],probaC[k]], color ='blue', linewidth = 8, alpha = 0.3, label = '')\n",
        "        plt.plot([X_omega[k+1], X_Omega[k+1]],[probaC[k],probaC[k+1]], color ='blue', linewidth = 8, alpha = 0.3, label = '')\n",
        "        plt.plot([X_omega[k], X_Omega[k+1]],[freqC[k],freqC[k]], color ='red', linewidth = 2, label = '')\n",
        "        plt.plot([X_omega[k+1], X_Omega[k+1]],[freqC[k],freqC[k+1]], color ='red', linewidth = 2, label = '')\n",
        "    \n",
        "    plt.plot([X_omega[-1], X_Omega[-1]+1],[1,1], color ='blue', linewidth = 8, alpha = 0.3, label = '')\n",
        "    plt.plot([X_omega[-1], X_Omega[-1]+1],[1,1], color ='red', linewidth = 2, label = '')\n",
        "    \n",
        "    \n",
        "    plt.grid(True)\n",
        "    plt.title('Frequences cumulees et Fonction de répartition')\n",
        "    plt.xlabel('X_Omega')\n",
        "    plt.ylabel('Frequences')\n",
        "    plt.legend()\n",
        "    \n",
        "    plt.axis([X_omega[0] - 1,X_Omega[-1] + 1,0,1]) # dimensions, en unités graphiques, de la fenêtre graphique\n",
        "\n",
        "    ax = plt.gca() # récupération du paramétrage des axes\n",
        "\n",
        "    ax.spines['left'].set_position('zero') # positionnement de l'axe des ordonnées à x = 0\n",
        "    ax.spines['right'].set_color('none')\n",
        "    ax.spines['bottom'].set_position('zero') # positionnement de l'axe des abscisses à y = 0\n",
        "    ax.spines['top'].set_color('none')\n",
        "\n",
        "def cumule(table):\n",
        "    card = len(table)\n",
        "    C = [0]* card\n",
        "    C[0]=table[0]\n",
        "    for k in range(1,card):\n",
        "        C[k] = C[k-1]+table[k]\n",
        "    return C"
      ],
      "execution_count": null,
      "outputs": []
    },
    {
      "cell_type": "code",
      "metadata": {
        "id": "zYI6U3c7TFAu"
      },
      "source": [
        "def repartition() :\n",
        "    freqCum = cumule(frequences)\n",
        "    probaCum = cumule(probabilites)\n",
        "    \n",
        "    trace_fonction_repartition(X_Omega, freqCum, probaCum)"
      ],
      "execution_count": null,
      "outputs": []
    },
    {
      "cell_type": "code",
      "metadata": {
        "id": "NtcqSBBkTFAy",
        "colab": {
          "base_uri": "https://localhost:8080/",
          "height": 296
        },
        "outputId": "99543b27-854f-4fe5-a1d6-b33a79df14c7"
      },
      "source": [
        "repartition()"
      ],
      "execution_count": null,
      "outputs": [
        {
          "output_type": "display_data",
          "data": {
            "image/png": "[encoded data removed]",
            "text/plain": [
              "<Figure size 432x288 with 1 Axes>"
            ]
          },
          "metadata": {
            "tags": []
          }
        }
      ]
    },
    {
      "cell_type": "markdown",
      "metadata": {
        "id": "DzEzN1kFTFA3"
      },
      "source": [
        "**_1.2. Loi binomiale_**\n",
        "\n",
        "On reprend l'idée du nombre de succès dans une répétition indépendante de tirages de Bernouli"
      ]
    },
    {
      "cell_type": "code",
      "metadata": {
        "id": "SEjfX8qYTFA5"
      },
      "source": [
        "def binomiale(n,p):\n",
        "    B = []\n",
        "    for k in range(n):\n",
        "        B.append(bernoulli(p))\n",
        "    return sum(B)\n",
        "\n",
        "def echantillon_binomiale(N,n,p):\n",
        "    echt = []\n",
        "    for k in range(N):\n",
        "        b = binomiale(n,p)\n",
        "        echt = echt + [b]\n",
        "    return echt"
      ],
      "execution_count": null,
      "outputs": []
    },
    {
      "cell_type": "code",
      "metadata": {
        "id": "A5izyEZrTFA8",
        "colab": {
          "base_uri": "https://localhost:8080/",
          "height": 107
        },
        "outputId": "b7b0590e-d2b5-4ff1-f977-50f7184d2ed8"
      },
      "source": [
        "n = 6 # nombre d'expériences de bernoulli\n",
        "p = 0.4 # probabilité de succès\n",
        "N = 100 # taille des échantillons\n",
        "\n",
        "# échantillon de B(n,p)\n",
        "echantillon = [0]*N\n",
        "\n",
        "print('Échantillon de',N, 'tirages selon la loi B(',n,';',p,')')\n",
        "echantillon[:] = echantillon_binomiale(N,n,p)\n",
        "S = sum(echantillon)\n",
        "print(echantillon)\n",
        "\n",
        "print(\"Moyenne de l'échantillon :\", S/N)\n",
        "print('Espérance théorique :',n*p)\n"
      ],
      "execution_count": null,
      "outputs": [
        {
          "output_type": "stream",
          "text": [
            "Échantillon de 100 tirages selon la loi B( 6 ; 0.4 )\n",
            "[3, 3, 2, 2, 2, 3, 2, 1, 2, 1, 3, 3, 2, 5, 3, 2, 2, 2, 3, 2, 4, 2, 3, 2, 1, 3, 3, 4, 3, 4, 1, 1, 5, 2, 1, 2, 4, 3, 1, 3, 2, 4, 2, 2, 1, 2, 2, 3, 2, 4, 3, 1, 4, 3, 4, 2, 1, 3, 3, 3, 5, 4, 3, 4, 1, 2, 5, 2, 3, 3, 3, 1, 3, 3, 3, 6, 2, 3, 2, 3, 4, 4, 2, 2, 3, 4, 1, 1, 4, 2, 3, 1, 2, 2, 3, 4, 4, 3, 3, 1]\n",
            "Moyenne de l'échantillon : 2.65\n",
            "Espérance théorique : 2.4000000000000004\n"
          ],
          "name": "stdout"
        }
      ]
    },
    {
      "cell_type": "code",
      "metadata": {
        "id": "MEAjXJs3TFBA",
        "colab": {
          "base_uri": "https://localhost:8080/",
          "height": 313
        },
        "outputId": "1c2079e4-70e0-4ac2-9be7-e18167b4e419"
      },
      "source": [
        "# diagramme en bâtons loi Binomiale\n",
        "X_Omega = [k for k in range(n+1)]\n",
        "\n",
        "# loi théorique\n",
        "def factorielle(n):\n",
        "    f = 1\n",
        "    for k in range(1,n+1):\n",
        "        f = f * k\n",
        "    return f\n",
        "           \n",
        "def combinaison(k,n):\n",
        "    c = 1\n",
        "    for m in range(n,n-k,-1):\n",
        "        c = c * m\n",
        "    c = int(c / factorielle(k))\n",
        "    return c\n",
        "           \n",
        "           \n",
        "probabilites = [combinaison(k,n)*p**k*(1-p)**(n-k) for k in range(n+1)]\n",
        "\n",
        "\n",
        "# tabulation de la simulation\n",
        "frequences = tabuler(X_Omega,echantillon)\n",
        "\n",
        "diagramme_batons(X_Omega, frequences, probabilites)\n",
        "\n",
        "plt.title('Simulation de '+ str(N)+' tirages selon une loi B('+str(n)+' , '+ str(p)+')')"
      ],
      "execution_count": null,
      "outputs": [
        {
          "output_type": "execute_result",
          "data": {
            "text/plain": [
              "Text(0.5, 1.0, 'Simulation de 100 tirages selon une loi B(6 , 0.4)')"
            ]
          },
          "metadata": {
            "tags": []
          },
          "execution_count": 12
        },
        {
          "output_type": "display_data",
          "data": {
            "image/png": "[encoded data removed]",
            "text/plain": [
              "<Figure size 432x288 with 1 Axes>"
            ]
          },
          "metadata": {
            "tags": []
          }
        }
      ]
    },
    {
      "cell_type": "code",
      "metadata": {
        "id": "79hExkBTTFBD",
        "colab": {
          "base_uri": "https://localhost:8080/",
          "height": 296
        },
        "outputId": "8475aaf7-5074-4bc8-e1c9-40d4a017fe81"
      },
      "source": [
        "repartition()"
      ],
      "execution_count": null,
      "outputs": [
        {
          "output_type": "display_data",
          "data": {
            "image/png": "[encoded data removed]",
            "text/plain": [
              "<Figure size 432x288 with 1 Axes>"
            ]
          },
          "metadata": {
            "tags": []
          }
        }
      ]
    },
    {
      "cell_type": "markdown",
      "metadata": {
        "id": "HrQjqzqyTFBI"
      },
      "source": [
        "**_Remarque :_**\n",
        "\n",
        "Très facilement adaptable pour simulation de tirages dans une urne bicolore. **<span style=\"color: #D17460\">TCompl </span>** "
      ]
    },
    {
      "cell_type": "markdown",
      "metadata": {
        "id": "5Dr0p425TFBJ"
      },
      "source": [
        "**_1.3. Loi uniforme discrète sur [[a ; b]]_**\n",
        "\n",
        "Utiliser la commande *randint* du module *random* serait trop facile...\n"
      ]
    },
    {
      "cell_type": "code",
      "metadata": {
        "id": "iERviYZZTFBK"
      },
      "source": [
        "def uniforme(a,b):\n",
        "    return int(random()*(b-a+1))+a\n",
        "\n",
        "def echantillon_uniforme(N,a,b):\n",
        "    echt = []\n",
        "    for k in range(N):\n",
        "        u = uniforme(a,b)\n",
        "        echt = echt + [u]\n",
        "    return echt"
      ],
      "execution_count": null,
      "outputs": []
    },
    {
      "cell_type": "code",
      "metadata": {
        "id": "UPsx20EeTFBN",
        "colab": {
          "base_uri": "https://localhost:8080/",
          "height": 107
        },
        "outputId": "33172180-796c-4eec-da6f-ffb356431294"
      },
      "source": [
        "a = 2\n",
        "b = 7\n",
        "N = 100\n",
        "\n",
        "# échantillon de U[[a;b]]\n",
        "print('Échantillon de',N, 'tirages selon la loi U([[',a,';',b,']])')\n",
        "\n",
        "echantillon = [0]*N\n",
        "\n",
        "echantillon[:] = echantillon_uniforme(N,a,b)\n",
        "S = sum(echantillon)\n",
        "\n",
        "print(echantillon)\n",
        "print(\"Moyenne de l'échantillon :\",S/N)\n",
        "print('Espérance théorique :',(a+b)/2)"
      ],
      "execution_count": null,
      "outputs": [
        {
          "output_type": "stream",
          "text": [
            "Échantillon de 100 tirages selon la loi U([[ 2 ; 7 ]])\n",
            "[4, 3, 4, 2, 3, 3, 3, 2, 7, 7, 5, 4, 5, 5, 6, 3, 4, 2, 2, 4, 6, 6, 4, 7, 6, 7, 4, 5, 6, 3, 3, 4, 6, 3, 5, 2, 2, 4, 7, 3, 3, 3, 3, 4, 2, 4, 7, 6, 7, 7, 4, 2, 2, 5, 2, 2, 3, 6, 7, 3, 3, 3, 6, 2, 7, 7, 4, 5, 7, 3, 3, 7, 6, 7, 5, 7, 7, 6, 6, 6, 5, 6, 5, 4, 4, 5, 3, 3, 4, 7, 2, 6, 5, 7, 3, 3, 3, 3, 3, 3]\n",
            "Moyenne de l'échantillon : 4.44\n",
            "Espérance théorique : 4.5\n"
          ],
          "name": "stdout"
        }
      ]
    },
    {
      "cell_type": "code",
      "metadata": {
        "id": "1NXXhQcYTFBQ",
        "colab": {
          "base_uri": "https://localhost:8080/",
          "height": 313
        },
        "outputId": "8d9d7b54-49a9-49a1-dc42-940c68946c01"
      },
      "source": [
        "# diagramme en bâtons loi uniforme discrète sur [[a;b]]\n",
        "X_Omega = [k for k in range(a,b+1)]\n",
        "\n",
        "# loi théorique\n",
        "probabilites = [1/(b-a+1) for k in range(a,b+1)]\n",
        "\n",
        "# tabulation de la simulation\n",
        "frequences = tabuler(X_Omega,echantillon)\n",
        "\n",
        "diagramme_batons(X_Omega, frequences, probabilites)\n",
        "\n",
        "plt.title('Simulation de '+ str(N)+' tirages selon une loi U([['+str(a)+' , '+ str(b)+']])')"
      ],
      "execution_count": null,
      "outputs": [
        {
          "output_type": "execute_result",
          "data": {
            "text/plain": [
              "Text(0.5, 1.0, 'Simulation de 100 tirages selon une loi U([[2 , 7]])')"
            ]
          },
          "metadata": {
            "tags": []
          },
          "execution_count": 16
        },
        {
          "output_type": "display_data",
          "data": {
            "image/png": "[encoded data removed]",
            "text/plain": [
              "<Figure size 432x288 with 1 Axes>"
            ]
          },
          "metadata": {
            "tags": []
          }
        }
      ]
    },
    {
      "cell_type": "code",
      "metadata": {
        "id": "y7lCpRYYTFBU",
        "colab": {
          "base_uri": "https://localhost:8080/",
          "height": 296
        },
        "outputId": "9afb7131-357e-4b8d-c30a-00b1e5762a05"
      },
      "source": [
        "repartition()"
      ],
      "execution_count": null,
      "outputs": [
        {
          "output_type": "display_data",
          "data": {
            "image/png": "[encoded data removed]",
            "text/plain": [
              "<Figure size 432x288 with 1 Axes>"
            ]
          },
          "metadata": {
            "tags": []
          }
        }
      ]
    },
    {
      "cell_type": "markdown",
      "metadata": {
        "id": "fEZROvndTFBX"
      },
      "source": [
        "**_1.4. Loi géométrique_**\n",
        "\n",
        "Répétition indépendante de tirages de Bernoulli jusqu'au premier succès..."
      ]
    },
    {
      "cell_type": "code",
      "metadata": {
        "id": "hEAln8OKTFBZ"
      },
      "source": [
        "def geometrique(p):\n",
        "    g = 1\n",
        "    while bernoulli(p)==0:\n",
        "        g = g + 1\n",
        "    return g\n",
        "\n",
        "def echantillon_geometrique(N,p):\n",
        "    echt = []\n",
        "    for k in range(N):\n",
        "        g = geometrique(p)\n",
        "        echt = echt + [g]\n",
        "    return echt"
      ],
      "execution_count": null,
      "outputs": []
    },
    {
      "cell_type": "code",
      "metadata": {
        "id": "pXg4biNRTFBg",
        "colab": {
          "base_uri": "https://localhost:8080/",
          "height": 107
        },
        "outputId": "b6d2e23f-a00b-45d4-8c24-74980dbe8d48"
      },
      "source": [
        "p = 0.4 # probabilité de succès\n",
        "N = 100 # taille des échantillons\n",
        "\n",
        "# échantillon\n",
        "print('Échantillon de',N, 'tirages selon la loi G(',p,')')\n",
        "echantillon = [0]*N\n",
        "\n",
        "echantillon[:] = echantillon_geometrique(N,p)\n",
        "S = sum(echantillon)\n",
        "\n",
        "print(echantillon)\n",
        "print(\"Moyenne de l'échantillon :\",S/N)\n",
        "print('Espérance théorique :',1/p)"
      ],
      "execution_count": null,
      "outputs": [
        {
          "output_type": "stream",
          "text": [
            "Échantillon de 100 tirages selon la loi G( 0.4 )\n",
            "[1, 5, 3, 6, 1, 1, 2, 5, 2, 1, 4, 2, 5, 1, 5, 7, 2, 4, 1, 14, 1, 1, 3, 3, 1, 2, 2, 4, 1, 2, 3, 2, 3, 6, 1, 1, 1, 2, 2, 4, 5, 1, 3, 3, 3, 1, 4, 3, 1, 4, 1, 3, 4, 1, 2, 2, 1, 2, 2, 2, 4, 1, 1, 1, 4, 2, 1, 5, 4, 3, 3, 1, 1, 3, 1, 2, 5, 3, 1, 2, 2, 2, 3, 1, 1, 5, 2, 1, 5, 1, 2, 7, 1, 1, 2, 2, 1, 3, 5, 1]\n",
            "Moyenne de l'échantillon : 2.61\n",
            "Espérance théorique : 2.5\n"
          ],
          "name": "stdout"
        }
      ]
    },
    {
      "cell_type": "code",
      "metadata": {
        "id": "ddFxcpJmTFBm",
        "colab": {
          "base_uri": "https://localhost:8080/",
          "height": 313
        },
        "outputId": "8a889ed1-9063-4eeb-e70f-eb7c8d01845d"
      },
      "source": [
        "# diagramme en bâtons loi géométrique de paramètre p\n",
        "X_Omega = [k for k in range(1,int(4/p)+1)] # l'Univers d'une loi géométrique étant infini, on s'arrête à 4 fois l'espérance\n",
        "\n",
        "# loi théorique\n",
        "probabilites = [(1-p)**(k-1)*p for k in X_Omega]\n",
        "\n",
        "# tabulation de la simulation\n",
        "frequences = tabuler(X_Omega,echantillon)\n",
        "\n",
        "diagramme_batons(X_Omega, frequences, probabilites)\n",
        "\n",
        "plt.title('Simulation de '+ str(N)+' tirages selon une loi G( '+str(p)+' )')"
      ],
      "execution_count": null,
      "outputs": [
        {
          "output_type": "execute_result",
          "data": {
            "text/plain": [
              "Text(0.5, 1.0, 'Simulation de 100 tirages selon une loi G( 0.4 )')"
            ]
          },
          "metadata": {
            "tags": []
          },
          "execution_count": 20
        },
        {
          "output_type": "display_data",
          "data": {
            "image/png": "[encoded data removed]",
            "text/plain": [
              "<Figure size 432x288 with 1 Axes>"
            ]
          },
          "metadata": {
            "tags": []
          }
        }
      ]
    },
    {
      "cell_type": "code",
      "metadata": {
        "id": "4OsCT8j1TFBp",
        "colab": {
          "base_uri": "https://localhost:8080/",
          "height": 296
        },
        "outputId": "f15896c9-3635-49aa-99f0-ccdcf9a7c35f"
      },
      "source": [
        "repartition()"
      ],
      "execution_count": null,
      "outputs": [
        {
          "output_type": "display_data",
          "data": {
            "image/png": "[encoded data removed]",
            "text/plain": [
              "<Figure size 432x288 with 1 Axes>"
            ]
          },
          "metadata": {
            "tags": []
          }
        }
      ]
    },
    {
      "cell_type": "code",
      "metadata": {
        "id": "t-1Q77jlTFCT"
      },
      "source": [
        ""
      ],
      "execution_count": null,
      "outputs": []
    }
  ]
}