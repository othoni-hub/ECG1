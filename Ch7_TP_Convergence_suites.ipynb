{
  "nbformat": 4,
  "nbformat_minor": 0,
  "metadata": {
    "kernelspec": {
      "display_name": "Python 3",
      "language": "python",
      "name": "python3"
    },
    "language_info": {
      "codemirror_mode": {
        "name": "ipython",
        "version": 3
      },
      "file_extension": ".py",
      "mimetype": "text/x-python",
      "name": "python",
      "nbconvert_exporter": "python",
      "pygments_lexer": "ipython3",
      "version": "3.7.1"
    },
    "colab": {
      "name": "Ch7-TP-Convergence_suites.ipynb",
      "provenance": [],
      "include_colab_link": true
    }
  },
  "cells": [
    {
      "cell_type": "markdown",
      "metadata": {
        "id": "view-in-github",
        "colab_type": "text"
      },
      "source": [
        "<a href=\"https://colab.research.google.com/github/othoni-hub/ECG1/blob/main/Ch7_TP_Convergence_suites.ipynb\" target=\"_parent\"><img src=\"https://colab.research.google.com/assets/colab-badge.svg\" alt=\"Open In Colab\"/></a>"
      ]
    },
    {
      "cell_type": "markdown",
      "metadata": {
        "id": "2ia3RUJfT6vF"
      },
      "source": [
        "# **CPGE-ECG1** \n",
        "<img src=\"https://drive.google.com/uc?id=12Wo3LubGGT4qOvYFAuLP4CyCuwjKNVuk\" width=\"230\" height=\"150\" align = \"right\"/>\n",
        "\n",
        "## **Ch7 - Notebook : Convergence d'une suite réelle**\n",
        "\n",
        "\n",
        "\n",
        "\n",
        "**O.Thöni - Lycée Saint-Charles Sainte Croix - LE MANS**"
      ]
    },
    {
      "cell_type": "code",
      "metadata": {
        "id": "_4S9Y8KYEtZy"
      },
      "source": [
        "from math import sqrt, log, pi, e\n",
        "\n",
        "import matplotlib.pyplot as plt\n",
        "import numpy as np"
      ],
      "execution_count": 1,
      "outputs": []
    },
    {
      "cell_type": "markdown",
      "metadata": {
        "id": "Ak1hc9aOEtZ6"
      },
      "source": [
        "## 1. Suites et limites classiques\n",
        "\n",
        "### 1.1. Approximations de e "
      ]
    },
    {
      "cell_type": "markdown",
      "metadata": {
        "id": "Ltq2r3naEtaZ"
      },
      "source": [
        "**_1.1.b. Deux suites adjacentes de type u<sub>n</sub> = f(n) : u<sub>n</sub> = (1+1/n)<sup>n</sup>   ,   v<sub>n</sub> = (1+1/n)<sup>n+1</sup>_**\n",
        "\n",
        "\n",
        "\n",
        "Ces deux suites convergent vers e, l'une en croissant, l'autre en décroissant (suites adjacentes).\n",
        "\n",
        "(cours : voir http://www.panamaths.net/Documents/TS/A3page103.pdf)"
      ]
    },
    {
      "cell_type": "code",
      "metadata": {
        "id": "HkUySQQmEtaa"
      },
      "source": [
        "def f(x):\n",
        "    f = (1+1/x)**x\n",
        "    return f\n",
        "\n",
        "def g(x):\n",
        "    g = (1+1/x)**(x+1)\n",
        "    return g"
      ],
      "execution_count": 2,
      "outputs": []
    },
    {
      "cell_type": "code",
      "metadata": {
        "id": "U9Py0BsqEtae",
        "colab": {
          "base_uri": "https://localhost:8080/"
        },
        "outputId": "b91aebca-1b17-495c-c43b-83f7cc78fab1"
      },
      "source": [
        "print(f(2), '< e <', g(2))"
      ],
      "execution_count": 3,
      "outputs": [
        {
          "output_type": "stream",
          "text": [
            "2.25 < e < 3.375\n"
          ],
          "name": "stdout"
        }
      ]
    },
    {
      "cell_type": "code",
      "metadata": {
        "id": "B0DTafomEtah",
        "colab": {
          "base_uri": "https://localhost:8080/"
        },
        "outputId": "520a1aaa-5b09-482a-8fcd-7e39d2876260"
      },
      "source": [
        "for k in range(1,10):\n",
        "    print('n = ',k,' : ',f(k), '< e <', g(k))"
      ],
      "execution_count": 4,
      "outputs": [
        {
          "output_type": "stream",
          "text": [
            "n =  1  :  2.0 < e < 4.0\n",
            "n =  2  :  2.25 < e < 3.375\n",
            "n =  3  :  2.37037037037037 < e < 3.160493827160493\n",
            "n =  4  :  2.44140625 < e < 3.0517578125\n",
            "n =  5  :  2.4883199999999994 < e < 2.9859839999999993\n",
            "n =  6  :  2.5216263717421135 < e < 2.9418974336991326\n",
            "n =  7  :  2.546499697040712 < e < 2.910285368046528\n",
            "n =  8  :  2.565784513950348 < e < 2.8865075781941414\n",
            "n =  9  :  2.5811747917131984 < e < 2.8679719907924426\n"
          ],
          "name": "stdout"
        }
      ]
    },
    {
      "cell_type": "markdown",
      "metadata": {
        "id": "xgy5wtZLEtal"
      },
      "source": [
        "La convergence étant très lente, calculons seulement les termes dont le rang est une puissance de 10..."
      ]
    },
    {
      "cell_type": "code",
      "metadata": {
        "id": "N534REFzEtam",
        "colab": {
          "base_uri": "https://localhost:8080/"
        },
        "outputId": "16329d70-0c6e-41ee-8ad1-428ebe5aca39"
      },
      "source": [
        "for p in range(0,9):\n",
        "    print('n = 10^',p,' : ',f(10**p), '< e <', g(10**p))"
      ],
      "execution_count": 5,
      "outputs": [
        {
          "output_type": "stream",
          "text": [
            "n = 10^ 0  :  2.0 < e < 4.0\n",
            "n = 10^ 1  :  2.5937424601000023 < e < 2.8531167061100025\n",
            "n = 10^ 2  :  2.7048138294215285 < e < 2.731861967715744\n",
            "n = 10^ 3  :  2.7169239322355936 < e < 2.7196408561678287\n",
            "n = 10^ 4  :  2.7181459268249255 < e < 2.718417741417608\n",
            "n = 10^ 5  :  2.7182682371922975 < e < 2.7182954198746696\n",
            "n = 10^ 6  :  2.7182804690957534 < e < 2.718283187376222\n",
            "n = 10^ 7  :  2.7182816941320818 < e < 2.718281965960251\n",
            "n = 10^ 8  :  2.7182817983473577 < e < 2.7182818255301755\n"
          ],
          "name": "stdout"
        }
      ]
    },
    {
      "cell_type": "markdown",
      "metadata": {
        "id": "NoV3u9JFEtaq"
      },
      "source": [
        "**_seuil_**\n",
        "\n",
        "Les deux suites u et v étant adjacentes, on peut utiliser l'écart entre elles pour déterminer une valeur approchée de la limite à une précision donnée"
      ]
    },
    {
      "cell_type": "code",
      "metadata": {
        "id": "03PIrlmfEtar",
        "colab": {
          "base_uri": "https://localhost:8080/"
        },
        "outputId": "665aecf8-561a-440c-8e5b-e691b37cfa51"
      },
      "source": [
        "#Round = lambda x, n: eval('\"%.' + str(int(n)) + 'f\" % ' + repr(x)) \n",
        "# permet d'afficher les valeurs approchées au bon format, avec des 0 complémentaires si besoin\n",
        "\n",
        "n = 1\n",
        "\n",
        "#nb_decimales = int(input('Entrez la précision cherchée, nombre de chiffres après la virgule : '))\n",
        "nb_decimales = 5\n",
        "\n",
        "u = f(n)\n",
        "v = g(n)\n",
        "while abs(u-v) > 10**(-nb_decimales) :\n",
        "    n = n+1\n",
        "    u = f(n)\n",
        "    v = g(n)\n",
        "print('Pour approcher la limite e des deux suites u et v à 10^-',nb_decimales,' près, il faut calculer ', n, 'termes.')\n",
        "print('On a alors pour valeur approchée par défaut de e : ', round(u,nb_decimales)) # résultat formaté selon la précision cherchée\n"
      ],
      "execution_count": 6,
      "outputs": [
        {
          "output_type": "stream",
          "text": [
            "Pour approcher la limite e des deux suites u et v à 10^- 5  près, il faut calculer  271828 termes.\n",
            "On a alors pour valeur approchée par défaut de e :  2.71828\n"
          ],
          "name": "stdout"
        }
      ]
    },
    {
      "cell_type": "markdown",
      "metadata": {
        "id": "WtB-GfBQEtav"
      },
      "source": [
        "**_Représentation graphique_**"
      ]
    },
    {
      "cell_type": "code",
      "metadata": {
        "id": "qkHgkxT1Etaw",
        "colab": {
          "base_uri": "https://localhost:8080/",
          "height": 283
        },
        "outputId": "36f64a3e-1334-4f2e-b32b-6415551fdc20"
      },
      "source": [
        "x = range(1,11)\n",
        "y1 = []\n",
        "y2 = []\n",
        "\n",
        "for k in x :\n",
        "    y1.append(f(k))\n",
        "    y2.append(g(k))\n",
        "    \n",
        "    \n",
        "#print(y)\n",
        "p1 = plt.plot(x,y1,'r',marker = \"+\",linestyle = 'None')\n",
        "p2 = plt.plot(x,y2,'b',marker = \"+\",linestyle = 'None')\n",
        "plt.plot([0,11],[e,e],'k',linewidth=1,linestyle = ':')\n",
        "\n",
        "plt.xlabel('n')\n",
        "plt.axis([0,11,0,5])\n",
        "plt.show()"
      ],
      "execution_count": 7,
      "outputs": [
        {
          "output_type": "display_data",
          "data": {
            "image/png": "[encoded data removed]",
            "text/plain": [
              "<Figure size 432x288 with 1 Axes>"
            ]
          },
          "metadata": {
            "tags": [],
            "needs_background": "light"
          }
        }
      ]
    },
    {
      "cell_type": "markdown",
      "metadata": {
        "id": "eqEHroItEtaz"
      },
      "source": [
        "### 1.2 Approximations de racine de 2 \n",
        "\n",
        "**_1.2.a. par la méthode de Héron_**\n",
        "\n",
        "Basé sur une suite récurrente : $ u_{n+1} = \\dfrac {1}{2} \\left(u_n + \\dfrac {A}{u_n} \\right)$, l'algorithme de Babylone, ou algorithme de Héron, converge vers la racine carrée de A, quel que soit le premier terme choisi positif.\n",
        "\n",
        "Le démontrer."
      ]
    },
    {
      "cell_type": "markdown",
      "metadata": {
        "id": "ABE_CBDeSIxr"
      },
      "source": [
        "**Programme Python**"
      ]
    },
    {
      "cell_type": "code",
      "metadata": {
        "id": "1xsekNm-Eta1",
        "colab": {
          "base_uri": "https://localhost:8080/"
        },
        "outputId": "d0ed6ded-909b-4746-dad9-dfc90007bda0"
      },
      "source": [
        "def H(A,x):\n",
        "    H = 1/2*(x+A/x)\n",
        "    return H\n",
        "\n",
        "A = 2\n",
        "u = A\n",
        "for k in range (1,10):\n",
        "    u = H(A,u)\n",
        "    print('u',k,' = ',u,'   précision : 10^',round(log(abs(u - sqrt(A)))/log(10)))\n",
        "    # utilisation de la fonction native round (arrondi), de la fonction native abs (valeur absolue)\n",
        "    # utilisation des fonction présentnes dans la bibliothèque \"math\" : log (logarithme népérien) et sqrt (racine carrée)\n",
        "    \n"
      ],
      "execution_count": 8,
      "outputs": [
        {
          "output_type": "stream",
          "text": [
            "u 1  =  1.5    précision : 10^ -1\n",
            "u 2  =  1.4166666666666665    précision : 10^ -3\n",
            "u 3  =  1.4142156862745097    précision : 10^ -6\n",
            "u 4  =  1.4142135623746899    précision : 10^ -12\n",
            "u 5  =  1.414213562373095    précision : 10^ -16\n",
            "u 6  =  1.414213562373095    précision : 10^ -16\n",
            "u 7  =  1.414213562373095    précision : 10^ -16\n",
            "u 8  =  1.414213562373095    précision : 10^ -16\n",
            "u 9  =  1.414213562373095    précision : 10^ -16\n"
          ],
          "name": "stdout"
        }
      ]
    },
    {
      "cell_type": "markdown",
      "metadata": {
        "id": "HtAZlmTNEta4"
      },
      "source": [
        "Les \"limites\" de la machine sont atteintes en très peu d'itérations !!! \n",
        "(La précision des nombres flottants est de l'ordre de $10^{-16}$)"
      ]
    },
    {
      "cell_type": "markdown",
      "metadata": {
        "id": "aMXnVDWjEta6"
      },
      "source": [
        "**_1.2.b. Approximation de racine de 2 par un développement en fraction continue : formule de Lagrange (1736-1813)_**\n",
        "\n",
        "![...](https://drive.google.com/uc?id=1DXQX0DcYkEfZhnlYvSpDXaEwgLQf1snB)"
      ]
    },
    {
      "cell_type": "markdown",
      "metadata": {
        "id": "bBFL_Kj9Eta7"
      },
      "source": [
        "Cette écriture n'est autre que l'écriture sous forme de fraction continue de la suite de l'algorithme de Héron (avec A = 2)"
      ]
    },
    {
      "cell_type": "markdown",
      "metadata": {
        "id": "Fs7mlei6Eta8"
      },
      "source": [
        "### 1.3 Approximations de $\\phi$ ###\n",
        "\n",
        "**_1.3.a. Par une suite récurrente simple (aisément généralisable à toute suite récurrente du type u<sub>n+1</sub> = f(u<sub>n</sub>) )_**"
      ]
    },
    {
      "cell_type": "code",
      "metadata": {
        "id": "UKzaRLhjEta9",
        "colab": {
          "base_uri": "https://localhost:8080/"
        },
        "outputId": "adf01460-a093-41e2-f5d0-61ff0d37107b"
      },
      "source": [
        "def f(x):\n",
        "    f = sqrt(x+1)\n",
        "    return f\n",
        "\n",
        "u = 5\n",
        "for k in range (1,10):\n",
        "    u = f(u)\n",
        "    print('u',k,' = ',u,'   précision : 10^',round(log(abs(u - (1+sqrt(5))/2))/log(10)))"
      ],
      "execution_count": 9,
      "outputs": [
        {
          "output_type": "stream",
          "text": [
            "u 1  =  2.449489742783178    précision : 10^ 0\n",
            "u 2  =  1.8572802003960462    précision : 10^ -1\n",
            "u 3  =  1.6903491356509892    précision : 10^ -1\n",
            "u 4  =  1.640228379114015    précision : 10^ -2\n",
            "u 5  =  1.624877958221483    précision : 10^ -2\n",
            "u 6  =  1.620147511253677    précision : 10^ -3\n",
            "u 7  =  1.6186869713609475    précision : 10^ -3\n",
            "u 8  =  1.6182357588932916    précision : 10^ -4\n",
            "u 9  =  1.6180963379518822    précision : 10^ -4\n"
          ],
          "name": "stdout"
        }
      ]
    },
    {
      "cell_type": "markdown",
      "metadata": {
        "id": "foHztGRfEtbB"
      },
      "source": [
        "**_Construction graphique des termes de la suite_**"
      ]
    },
    {
      "cell_type": "code",
      "metadata": {
        "id": "KqH4T2_FEtbC",
        "colab": {
          "base_uri": "https://localhost:8080/",
          "height": 248
        },
        "outputId": "9c4da2fa-b19f-4283-f234-f55d53fb4524"
      },
      "source": [
        "xx = np.arange(-1,6,0.1)\n",
        "yy = []\n",
        "ii = []\n",
        "for ix in xx :\n",
        "    yy.append(sqrt(ix+1))\n",
        "    ii.append(ix)\n",
        "    \n",
        "p1 = plt.plot(xx,yy,'r',linewidth=1)\n",
        "p2 = plt.plot(xx,ii,'b',linewidth=1)\n",
        "\n",
        "u = 5\n",
        "x = range(5)\n",
        "\n",
        "for k in x :\n",
        "    y = sqrt(u+1)\n",
        "    plt.plot(u,y,'r')\n",
        "    plt.plot([u,y],[y,y],'g',linewidth=1,linestyle = ':')\n",
        "    plt.plot([u,u],[u,y],'g',linewidth=1,linestyle = ':')\n",
        "    u = sqrt(u+1)\n",
        "\n",
        "\n",
        "plt.xlabel('x')\n",
        "plt.ylabel('y')\n",
        "#plt.axis([-1.5,6,0,4])\n",
        "\n",
        "ax = plt.gca() # récupération du paramétrage des axes\n",
        "\n",
        "ax.spines['left'].set_position('zero') # positionnement de l'axe des ordonnées à x = 0\n",
        "ax.spines['right'].set_color('none')\n",
        "ax.spines['bottom'].set_position('zero') # positionnement de l'axe des abscisses à y = 0\n",
        "ax.spines['top'].set_color('none')\n",
        "\n",
        "plt.xlim(-1.5,6.5) # dimensionnement de l'axe des abscisse, celui des ordonnées sera dimensionné automatiquement\n",
        "\n",
        "plt.show()"
      ],
      "execution_count": 10,
      "outputs": [
        {
          "output_type": "display_data",
          "data": {
            "image/png": "[encoded data removed]",
            "text/plain": [
              "<Figure size 432x288 with 1 Axes>"
            ]
          },
          "metadata": {
            "tags": [],
            "needs_background": "light"
          }
        }
      ]
    },
    {
      "cell_type": "markdown",
      "metadata": {
        "id": "Ed9Fcu_wEtbG"
      },
      "source": [
        "**_1.3.b. Par une suite récurrente linéaire d'ordre 2_**\n",
        "\n",
        "Dans la suite de **Fibonnacci (1170-1240)**, le rapport de deux termes consécutifs tend vers $\\phi$, c'est l'occasion de programmer une telle suite..."
      ]
    },
    {
      "cell_type": "code",
      "metadata": {
        "id": "KkYE8iZ9EtbH",
        "colab": {
          "base_uri": "https://localhost:8080/"
        },
        "outputId": "195e9fc8-29c6-4777-c0d2-f685bf11356a"
      },
      "source": [
        "a = 1\n",
        "b = 1\n",
        "\n",
        "print('F 0 = 1')\n",
        "print('F 1 = 1  , r 1 = 1')\n",
        "for k in range (2,10):\n",
        "    r = b/a\n",
        "    F = a + b\n",
        "    print('F',k,'=',F,'  , r',k,'=',r)\n",
        "    a = b\n",
        "    b = F\n"
      ],
      "execution_count": 11,
      "outputs": [
        {
          "output_type": "stream",
          "text": [
            "F 0 = 1\n",
            "F 1 = 1  , r 1 = 1\n",
            "F 2 = 2   , r 2 = 1.0\n",
            "F 3 = 3   , r 3 = 2.0\n",
            "F 4 = 5   , r 4 = 1.5\n",
            "F 5 = 8   , r 5 = 1.6666666666666667\n",
            "F 6 = 13   , r 6 = 1.6\n",
            "F 7 = 21   , r 7 = 1.625\n",
            "F 8 = 34   , r 8 = 1.6153846153846154\n",
            "F 9 = 55   , r 9 = 1.619047619047619\n"
          ],
          "name": "stdout"
        }
      ]
    },
    {
      "cell_type": "markdown",
      "metadata": {
        "id": "IJLDJog2EtbO"
      },
      "source": [
        "**_seuil_**\n",
        "\n",
        "La suite F <sub>n</sub> étant de sens alterné, oscillant autour de $\\phi$, on peut calculer un seuil pour obtenir une précision cherchée en considérant l'écart entre deux termes consécutifs.\n",
        "\n",
        "\n",
        "**<span style=\"color: #26B260\">Python : boucle *while* pour la recherche de seuil</span>**"
      ]
    },
    {
      "cell_type": "code",
      "metadata": {
        "id": "AanE17Y-EtbQ",
        "colab": {
          "base_uri": "https://localhost:8080/"
        },
        "outputId": "788a5c3f-79a6-48f6-a08e-e0a6dd192860"
      },
      "source": [
        "a = 1\n",
        "b = 1\n",
        "r = b/a\n",
        "old = 2\n",
        "k = 2\n",
        "\n",
        "#nb_decimales = int(input('Entrez la précision cherchée, nombre de chiffres après la virgule : '))\n",
        "nb_decimales = 9\n",
        "\n",
        "while abs(old - r)> 10**(-nb_decimales):\n",
        "    old = r\n",
        "    k = k+1\n",
        "    F = a + b\n",
        "    a = b\n",
        "    b = F\n",
        "    r = b/a\n",
        "    #print(r)\n",
        "    \n",
        "print('À 10^-',nb_decimales,' près, une valeur approchée de Phi est : ',round(r,nb_decimales) , ' obtenue après ',k,' itérations.')\n",
        "# résultat formaté selon la précision cherchée"
      ],
      "execution_count": 12,
      "outputs": [
        {
          "output_type": "stream",
          "text": [
            "À 10^- 9  près, une valeur approchée de Phi est :  1.618033989  obtenue après  25  itérations.\n"
          ],
          "name": "stdout"
        }
      ]
    },
    {
      "cell_type": "markdown",
      "metadata": {
        "id": "RFcoYF36EtbZ"
      },
      "source": [
        "**_Représentation graphique_**"
      ]
    },
    {
      "cell_type": "code",
      "metadata": {
        "id": "lqw5ZdarEtba",
        "colab": {
          "base_uri": "https://localhost:8080/",
          "height": 283
        },
        "outputId": "bc4d05a4-b77d-4f42-86f6-7100a5fecc39"
      },
      "source": [
        "a = 1\n",
        "b = 1\n",
        "r = [1]\n",
        "\n",
        "for k in range (2,11):\n",
        "    r.append(b/a)\n",
        "    F = a + b\n",
        "    a = b\n",
        "    b = F\n",
        "#print(r)\n",
        "\n",
        "x = range(1,11)\n",
        "plt.plot(x,r,'r',marker = \"+\",linestyle = 'None')\n",
        "\n",
        "phi = (1+sqrt(5))/2\n",
        "\n",
        "plt.plot([0,11],[phi,phi],'k',linewidth = 1,linestyle = ':')\n",
        "\n",
        "plt.xlabel('n')\n",
        "plt.ylabel('Fn+1/Fn')\n",
        "plt.axis([0,11,0,2.5])\n",
        "plt.show()\n"
      ],
      "execution_count": 13,
      "outputs": [
        {
          "output_type": "display_data",
          "data": {
            "image/png": "[encoded data removed]",
            "text/plain": [
              "<Figure size 432x288 with 1 Axes>"
            ]
          },
          "metadata": {
            "tags": [],
            "needs_background": "light"
          }
        }
      ]
    },
    {
      "cell_type": "markdown",
      "metadata": {
        "id": "X3z0Bin0Etbd"
      },
      "source": [
        "**_Variante_**\n",
        "\n",
        "On obtient une valeur approchée de $\\phi$ par son développement en fraction continue (qui n'est autre que la méthode précédente écrite autrement...)"
      ]
    },
    {
      "cell_type": "code",
      "metadata": {
        "id": "35jAw_hVEtbe"
      },
      "source": [
        "def fc_phi(n):\n",
        "    x = 1\n",
        "    for k in range(n):\n",
        "        x = 1/x\n",
        "        x = x + 1\n",
        "    return x"
      ],
      "execution_count": 14,
      "outputs": []
    },
    {
      "cell_type": "code",
      "metadata": {
        "id": "dXp_OqTPEtbh",
        "colab": {
          "base_uri": "https://localhost:8080/"
        },
        "outputId": "a2cfe2cf-d247-44ae-f8d2-0e7290385866"
      },
      "source": [
        "for k in range(1,11):\n",
        "    print('Après ',k,' itérations, on a pour valeur approchée de Phi : ', fc_phi(k))"
      ],
      "execution_count": 15,
      "outputs": [
        {
          "output_type": "stream",
          "text": [
            "Après  1  itérations, on a pour valeur approchée de Phi :  2.0\n",
            "Après  2  itérations, on a pour valeur approchée de Phi :  1.5\n",
            "Après  3  itérations, on a pour valeur approchée de Phi :  1.6666666666666665\n",
            "Après  4  itérations, on a pour valeur approchée de Phi :  1.6\n",
            "Après  5  itérations, on a pour valeur approchée de Phi :  1.625\n",
            "Après  6  itérations, on a pour valeur approchée de Phi :  1.6153846153846154\n",
            "Après  7  itérations, on a pour valeur approchée de Phi :  1.619047619047619\n",
            "Après  8  itérations, on a pour valeur approchée de Phi :  1.6176470588235294\n",
            "Après  9  itérations, on a pour valeur approchée de Phi :  1.6181818181818182\n",
            "Après  10  itérations, on a pour valeur approchée de Phi :  1.6179775280898876\n"
          ],
          "name": "stdout"
        }
      ]
    },
    {
      "cell_type": "markdown",
      "metadata": {
        "id": "_c3kvo8BEtbl"
      },
      "source": [
        "### 1.4 Convergences vers $\\pi$  ###"
      ]
    },
    {
      "cell_type": "markdown",
      "metadata": {
        "id": "-WeMgssvEtcC"
      },
      "source": [
        "**_1.4.a. La formule de Brouncker (1620-1684) : décomposition en fraction continue_**\n",
        "\n",
        "![...](https://drive.google.com/uc?id=1GjiTAn_kbPovmPHo80hbHW1GLijjz4UR)\n",
        "\n",
        "Le problème est qu'il faudrait connaître le dernier terme (celui des points de suspension) pour pouvoir, littéralement, remonter au premier.\n",
        "\n",
        "Heureusement, Brouncker a démontré que, pour n \"assez grand\", u<sub>n</sub> était environ égal à 2n+1, ainsi, en remplaçant, on est en mesure de calculer une valeur approchée de $\\pi$  (voir ici : http://serge.mehl.free.fr/anx/pi_brouncker.html)\n"
      ]
    },
    {
      "cell_type": "code",
      "metadata": {
        "id": "612IlfTwEtcD"
      },
      "source": [
        "def brouncker(nmax):\n",
        "    u = 2*nmax + 1\n",
        "    for n in range(nmax,0,-1):\n",
        "        u = (2*n+1)**2/(2+u)\n",
        "    u = 1 / (2+u)\n",
        "    va_pi = 4/(1+u)\n",
        "    return va_pi\n"
      ],
      "execution_count": 16,
      "outputs": []
    },
    {
      "cell_type": "code",
      "metadata": {
        "id": "i5bUTpOXEtcG",
        "colab": {
          "base_uri": "https://localhost:8080/"
        },
        "outputId": "edbfba26-2087-4794-b645-e1dd380bb44f"
      },
      "source": [
        "brouncker(10)"
      ],
      "execution_count": 17,
      "outputs": [
        {
          "output_type": "execute_result",
          "data": {
            "text/plain": [
              "3.1414067184965018"
            ]
          },
          "metadata": {
            "tags": []
          },
          "execution_count": 17
        }
      ]
    },
    {
      "cell_type": "code",
      "metadata": {
        "id": "ouWLAUYeEtcJ",
        "colab": {
          "base_uri": "https://localhost:8080/"
        },
        "outputId": "f45a9044-1d14-468d-8ff2-18180a7ed02d"
      },
      "source": [
        "brouncker(100)"
      ],
      "execution_count": 18,
      "outputs": [
        {
          "output_type": "execute_result",
          "data": {
            "text/plain": [
              "3.1415924109719806"
            ]
          },
          "metadata": {
            "tags": []
          },
          "execution_count": 18
        }
      ]
    },
    {
      "cell_type": "code",
      "metadata": {
        "id": "Yn54Jz_oEtcO",
        "colab": {
          "base_uri": "https://localhost:8080/"
        },
        "outputId": "2d7c6d14-7d19-4ac6-9585-142e30ef9a7e"
      },
      "source": [
        "brouncker(1000)"
      ],
      "execution_count": 19,
      "outputs": [
        {
          "output_type": "execute_result",
          "data": {
            "text/plain": [
              "3.141592653340542"
            ]
          },
          "metadata": {
            "tags": []
          },
          "execution_count": 19
        }
      ]
    },
    {
      "cell_type": "code",
      "metadata": {
        "id": "FmwCKYxiEtcT",
        "colab": {
          "base_uri": "https://localhost:8080/"
        },
        "outputId": "c918725e-2fab-4095-d2ce-488f1653755c"
      },
      "source": [
        "brouncker(10000)"
      ],
      "execution_count": 20,
      "outputs": [
        {
          "output_type": "execute_result",
          "data": {
            "text/plain": [
              "3.141592653589543"
            ]
          },
          "metadata": {
            "tags": []
          },
          "execution_count": 20
        }
      ]
    },
    {
      "cell_type": "markdown",
      "metadata": {
        "id": "J2jTBIWKEtcW"
      },
      "source": [
        "**_1.4.b. $\\pi$ à partir de la moyenne arithmético-géométrique de 1 et $\\frac{1}{\\sqrt 2}$_**\n",
        "\n",
        "\n",
        "Cette méthode est très très rapide, car on double le nombre de décimales exactes à chaque itération.\n",
        "\n",
        "Elle permet de programmer deux suites définies par des relations de récurrence entrelacées."
      ]
    },
    {
      "cell_type": "code",
      "metadata": {
        "id": "yBpZ7nGfEtcX",
        "colab": {
          "base_uri": "https://localhost:8080/"
        },
        "outputId": "73178836-6bd0-4529-fc34-c992ea033c65"
      },
      "source": [
        "x = 1\n",
        "c = 1/4\n",
        "u = 1\n",
        "v = 1 / sqrt(2)\n",
        "n = 5\n",
        "\n",
        "for k in range(1,n+1):\n",
        "    y = u # stockage de l'ancienne valeur de u\n",
        "    u = (u+v)/2 # moyenne arithmétique\n",
        "    v = sqrt(v*y)\n",
        "    c = c - x*(u-y)**2\n",
        "    x = 2*x\n",
        "    p = (u+v)**2/(4*c)\n",
        "    print('Itération n°',k,'valeur approchée de Pi : ',p, '   précision 10^',round(log(abs(p - pi))/log(10)))\n",
        "\n"
      ],
      "execution_count": 21,
      "outputs": [
        {
          "output_type": "stream",
          "text": [
            "Itération n° 1 valeur approchée de Pi :  3.1405792505221686    précision 10^ -3\n",
            "Itération n° 2 valeur approchée de Pi :  3.141592646213543    précision 10^ -8\n",
            "Itération n° 3 valeur approchée de Pi :  3.141592653589794    précision 10^ -15\n",
            "Itération n° 4 valeur approchée de Pi :  3.141592653589794    précision 10^ -15\n",
            "Itération n° 5 valeur approchée de Pi :  3.141592653589794    précision 10^ -15\n"
          ],
          "name": "stdout"
        }
      ]
    },
    {
      "cell_type": "markdown",
      "metadata": {
        "id": "OQFZ5VVxEtca"
      },
      "source": [
        "**_1.4.c. Et un petit produit dû à Wallis (1616-1703)_**\n",
        "\n",
        "![...](https://drive.google.com/uc?id=1lMHGGLmn6uvZJJJTS2E4zMd8_hAdSvgs)\n",
        "(pas très rapide, mais bon... on a vu pire...)"
      ]
    },
    {
      "cell_type": "code",
      "metadata": {
        "id": "eka3ZuZ_Etca",
        "colab": {
          "base_uri": "https://localhost:8080/"
        },
        "outputId": "fab516d8-10ef-4929-d1ad-2da4269dda42"
      },
      "source": [
        "P = 1\n",
        "N = 20\n",
        "for n in range(1,N+1):\n",
        "    P = P*(1 + 1/(4*n**2 - 1))\n",
        "    print('Itération n°',n,' : ',2*P)\n"
      ],
      "execution_count": 22,
      "outputs": [
        {
          "output_type": "stream",
          "text": [
            "Itération n° 1  :  2.6666666666666665\n",
            "Itération n° 2  :  2.844444444444444\n",
            "Itération n° 3  :  2.9257142857142853\n",
            "Itération n° 4  :  2.972154195011337\n",
            "Itération n° 5  :  3.0021759545569062\n",
            "Itération n° 6  :  3.0231701920013605\n",
            "Itération n° 7  :  3.038673628883419\n",
            "Itération n° 8  :  3.0505899960555105\n",
            "Itération n° 9  :  3.06003454712689\n",
            "Itération n° 10  :  3.0677038066434985\n",
            "Itération n° 11  :  3.074055160280442\n",
            "Itération n° 12  :  3.0794013431678864\n",
            "Itération n° 13  :  3.083963419231839\n",
            "Itération n° 14  :  3.087902069831113\n",
            "Itération n° 15  :  3.09133688859622\n",
            "Itération n° 16  :  3.0943587232869296\n",
            "Itération n° 17  :  3.09703782174865\n",
            "Itération n° 18  :  3.0994293567461395\n",
            "Itération n° 19  :  3.101577263438271\n",
            "Itération n° 20  :  3.103516961539233\n"
          ],
          "name": "stdout"
        }
      ]
    },
    {
      "cell_type": "code",
      "metadata": {
        "id": "1kgLXXULEtcf"
      },
      "source": [
        "def wallis(N):\n",
        "    P = 1\n",
        "    for n in range(1,N+1):\n",
        "        P = P*(1 + 1/(4*n**2 - 1))\n",
        "    return 2*P\n"
      ],
      "execution_count": 23,
      "outputs": []
    },
    {
      "cell_type": "code",
      "metadata": {
        "id": "4l7mIOX2Etci",
        "colab": {
          "base_uri": "https://localhost:8080/"
        },
        "outputId": "4064497b-2848-4b5d-983f-76f6c1335f4b"
      },
      "source": [
        "wallis(1000)"
      ],
      "execution_count": 24,
      "outputs": [
        {
          "output_type": "execute_result",
          "data": {
            "text/plain": [
              "3.140807746030402"
            ]
          },
          "metadata": {
            "tags": []
          },
          "execution_count": 24
        }
      ]
    },
    {
      "cell_type": "code",
      "metadata": {
        "id": "ohYOWRN-Etcp",
        "colab": {
          "base_uri": "https://localhost:8080/"
        },
        "outputId": "4946173f-abc7-431e-95a2-594f3fced87f"
      },
      "source": [
        "wallis(1000000)"
      ],
      "execution_count": 25,
      "outputs": [
        {
          "output_type": "execute_result",
          "data": {
            "text/plain": [
              "3.141591868192149"
            ]
          },
          "metadata": {
            "tags": []
          },
          "execution_count": 25
        }
      ]
    },
    {
      "cell_type": "markdown",
      "metadata": {
        "id": "cxUpmw6pEtcu"
      },
      "source": [
        "C'est poussif, mais on sent bien qu'on y va..."
      ]
    }
  ]
}