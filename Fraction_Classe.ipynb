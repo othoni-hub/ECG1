{
  "nbformat": 4,
  "nbformat_minor": 0,
  "metadata": {
    "colab": {
      "provenance": [],
      "authorship_tag": "ABX9TyPCSi9dhj+ISEesnsU1jRKv",
      "include_colab_link": true
    },
    "kernelspec": {
      "name": "python3",
      "display_name": "Python 3"
    },
    "language_info": {
      "name": "python"
    }
  },
  "cells": [
    {
      "cell_type": "markdown",
      "metadata": {
        "id": "view-in-github",
        "colab_type": "text"
      },
      "source": [
        "<a href=\"https://colab.research.google.com/github/othoni-hub/ECG1/blob/main/Fraction_Classe.ipynb\" target=\"_parent\"><img src=\"https://colab.research.google.com/assets/colab-badge.svg\" alt=\"Open In Colab\"/></a>"
      ]
    },
    {
      "cell_type": "code",
      "execution_count": null,
      "metadata": {
        "id": "T2O_-j74UAeK"
      },
      "outputs": [],
      "source": []
    },
    {
      "cell_type": "markdown",
      "source": [
        "### **Programmation Orientée Objet : \"méthode\", une fonction qu'un objet s'applique à lui-même**\n",
        "\n",
        "**exemple : classe \"fractions\"**\n",
        "\n"
      ],
      "metadata": {
        "id": "nO5cNgJbG4K-"
      }
    },
    {
      "cell_type": "code",
      "source": [
        "from math import ceil # partie entière +1"
      ],
      "metadata": {
        "id": "prVw5_Uak3cT"
      },
      "execution_count": 1,
      "outputs": []
    },
    {
      "cell_type": "code",
      "source": [
        "# Fonction récursive de calcul du PGCD de deux entiers\n",
        "def pgcd(a,b) :\n",
        "    '''Cette fonction récursive reçoit deux entiers\n",
        "    et retourne leur pgcd, selon l'algorithme d'Euclide des divisions succesives'''\n",
        "    if a == 0 :\n",
        "        return b\n",
        "    else :\n",
        "        return pgcd(b%a, a)"
      ],
      "metadata": {
        "id": "nynDNobIHX2F"
      },
      "execution_count": 2,
      "outputs": []
    },
    {
      "cell_type": "code",
      "source": [
        "pgcd(744,192)"
      ],
      "metadata": {
        "colab": {
          "base_uri": "https://localhost:8080/"
        },
        "id": "IMmX2wAjfXlI",
        "outputId": "724b057d-1c6e-4634-e02b-a59760b6d81c"
      },
      "execution_count": 3,
      "outputs": [
        {
          "output_type": "execute_result",
          "data": {
            "text/plain": [
              "24"
            ]
          },
          "metadata": {},
          "execution_count": 3
        }
      ]
    },
    {
      "cell_type": "code",
      "source": [
        "class fraction :\n",
        "\n",
        "    # Creation d'un objet de type fraction, et des méthodes qui peuvent s'y appliquer\n",
        "    def __init__(self, numerateur, denominateur) :\n",
        "        '''cette méthode permet d'instancier un objet de la classe fraction,\n",
        "        et simplifie systématiquement toute fraction lors de sa création'''\n",
        "        d = pgcd(numerateur, denominateur)\n",
        "        self.top = numerateur // d\n",
        "        self.bottom = denominateur // d\n",
        "        self.valeur = numerateur / denominateur\n",
        "\n",
        "    def __str__(self) :\n",
        "        '''méthode d'écriture d'une fraction, il s'agit d'une méthode dite \"spéciale\", ou \"de surcharge\",\n",
        "        qui va ajouter une fonction supplémentaire à la commande \"print\"'''\n",
        "        if self.bottom == 1 :\n",
        "            return str(self.top)\n",
        "        elif self.top > self.bottom :\n",
        "            return str(self.top) + \"/\" + str(self.bottom) + \" ou \" + str(self.top // self.bottom) + \" + \" + str(fraction(self.top % self.bottom, self.bottom))\n",
        "        else :\n",
        "            return str(self.top) + \"/\" + str(self.bottom)\n",
        "\n",
        "\n",
        "    def multiplie_par(self, n) :\n",
        "        '''Cette méthode multiplie la fraction par un entier'''\n",
        "        return(fraction(n * self.top, self.bottom))\n",
        "\n",
        "    def inverse(self) :\n",
        "        return fraction(self.bottom, self.top)\n",
        "\n",
        "    def multiplie(self, other) :\n",
        "        '''Cette méthode calcule le produit de deux fractions,\n",
        "        elle sera simplement appelée par le bouton \"*\".'''\n",
        "        rtop = self.top * other.top\n",
        "        rbottom = self.bottom * other.bottom\n",
        "        return fraction(rtop, rbottom)\n",
        "\n",
        "    def __mul__(self, other) :\n",
        "        '''Cette méthode spéciale calcule le produit de deux fractions,\n",
        "        elle sera simplement appelée par le bouton \"*\".'''\n",
        "        rtop = self.top * other.top\n",
        "        rbottom = self.bottom * other.bottom\n",
        "        return fraction(rtop, rbottom)\n",
        "\n",
        "    def __add__(self,other) :\n",
        "        '''Cette méthode permet d'additionner deux fractions.\n",
        "        écrite entre __…__, cela permet d'identifier une \"méthode de surchage\"\n",
        "        ou \"méthode spéciale\". On l'appellera simplement par le bouton standard \"+\",\n",
        "        auquel est attribué un statut nouveau, spécialement pour les objets de la classe fraction.'''\n",
        "        rtop = self.top * other.bottom + other.top  * self.bottom\n",
        "        rbottom = self.bottom * other.bottom\n",
        "        return fraction(rtop, rbottom)\n",
        "\n",
        "\n",
        "    def __truediv__(self, other) :\n",
        "        '''Cette méthode spéciale calcule le quotient de deux fractions,\n",
        "        elle sera simplement appelée par le bouton \"/\" .'''\n",
        "        return self * other.inverse()\n",
        "\n",
        "    def __lt__(self, other) :\n",
        "        '''Cette méthode spéciale renvoie un booléen, vrai si la fraction self est inférieure à la fraction other.\n",
        "        Elle est simplement appelée par le bouton \"<\".'''\n",
        "        return self.top * other.bottom < self.bottom * other.top\n",
        "\n",
        "    def __eq__(self, other) :\n",
        "        '''Cette méthode spéciale renvoie un booléen, vrai si la fraction self est égale à la fraction other.\n",
        "        Elle est simplement appelée par le test usuel d'égalité \"==\".'''\n",
        "        return self.top * other.bottom == self.bottom * other.top\n",
        "\n",
        "    def __gt__(self, other) :\n",
        "        '''Cette méthode spéciale renvoie un booléen, vrai si la fraction self est supérieure à la fraction other.\n",
        "        Elle est simplement appelée par le bouton \">\".'''\n",
        "        return self.top * other.bottom > self.bottom * other.top\n",
        "\n",
        "    def egyptienne(self,res = \"\") :\n",
        "        ''' Cette méthode récursive calcule l'écriture égyptienne de la fraction self.\n",
        "            Elle renvoie une chaîne de caractère, obtenue par concaténation des résultats intermédiaires\n",
        "            dans la variable \"res\"\n",
        "        '''\n",
        "        a = self.top\n",
        "        b = self.bottom\n",
        "        if a == 0 :\n",
        "            return res + \"\"\n",
        "        elif a > b :\n",
        "            e = a // b\n",
        "            r = a % b\n",
        "            f = fraction(r,b)\n",
        "            res = str(e) + \" + \"\n",
        "            return  f.egyptienne(res)\n",
        "        else :\n",
        "            entier = ceil(b/a)\n",
        "            f = fraction (a * entier - b, b * entier)\n",
        "            res = res + \"1/\"+ str(entier)\n",
        "            if a * entier - b != 0 :\n",
        "                res = res +  \" + \"\n",
        "            return f.egyptienne(res)\n",
        "\n",
        "\n"
      ],
      "metadata": {
        "id": "k1qqikoqfdxn"
      },
      "execution_count": 20,
      "outputs": []
    },
    {
      "cell_type": "code",
      "source": [
        "f = fraction(21,15) # instanciation d'un objet de la classe fractions\n",
        "f.top # numérateur"
      ],
      "metadata": {
        "colab": {
          "base_uri": "https://localhost:8080/"
        },
        "id": "gU7ZNX1vgNVH",
        "outputId": "ebd40190-4aaf-4c14-f8a8-2d5d394c3a68"
      },
      "execution_count": 5,
      "outputs": [
        {
          "output_type": "execute_result",
          "data": {
            "text/plain": [
              "7"
            ]
          },
          "metadata": {},
          "execution_count": 5
        }
      ]
    },
    {
      "cell_type": "code",
      "source": [
        "f.bottom # dénominateur"
      ],
      "metadata": {
        "colab": {
          "base_uri": "https://localhost:8080/"
        },
        "id": "YT_xAkXRjPc9",
        "outputId": "57e96132-bba0-44ef-d2d6-4b2d0b20abee"
      },
      "execution_count": 6,
      "outputs": [
        {
          "output_type": "execute_result",
          "data": {
            "text/plain": [
              "5"
            ]
          },
          "metadata": {},
          "execution_count": 6
        }
      ]
    },
    {
      "cell_type": "code",
      "source": [
        "f.valeur"
      ],
      "metadata": {
        "colab": {
          "base_uri": "https://localhost:8080/"
        },
        "id": "zG9yd2k7F1QY",
        "outputId": "af6929b5-fb3d-490a-d844-7b1ed0f68477"
      },
      "execution_count": 7,
      "outputs": [
        {
          "output_type": "execute_result",
          "data": {
            "text/plain": [
              "1.4"
            ]
          },
          "metadata": {},
          "execution_count": 7
        }
      ]
    },
    {
      "cell_type": "code",
      "source": [
        "print(f)"
      ],
      "metadata": {
        "colab": {
          "base_uri": "https://localhost:8080/"
        },
        "id": "r1MvnMEnkKMs",
        "outputId": "241e610a-95bf-468d-a62f-1fb3022ab58c"
      },
      "execution_count": 8,
      "outputs": [
        {
          "output_type": "stream",
          "name": "stdout",
          "text": [
            "7/5 ou 1 + 2/5\n"
          ]
        }
      ]
    },
    {
      "cell_type": "code",
      "source": [
        "g = f.multiplie_par(3)\n",
        "print(g)"
      ],
      "metadata": {
        "colab": {
          "base_uri": "https://localhost:8080/"
        },
        "id": "5rrpF6aMkMSX",
        "outputId": "736c5804-7951-4ba2-968e-e9406a0d3c66"
      },
      "execution_count": 9,
      "outputs": [
        {
          "output_type": "stream",
          "name": "stdout",
          "text": [
            "21/5 ou 4 + 1/5\n"
          ]
        }
      ]
    },
    {
      "cell_type": "code",
      "source": [
        "k = f.multiplie(g)\n",
        "print(k)"
      ],
      "metadata": {
        "colab": {
          "base_uri": "https://localhost:8080/"
        },
        "id": "AgqaDVBhxkck",
        "outputId": "3fcc460e-fe7e-423a-a1ba-996e92473789"
      },
      "execution_count": 10,
      "outputs": [
        {
          "output_type": "stream",
          "name": "stdout",
          "text": [
            "147/25 ou 5 + 22/25\n"
          ]
        }
      ]
    },
    {
      "cell_type": "code",
      "source": [
        "k = f * g\n",
        "print(k)"
      ],
      "metadata": {
        "colab": {
          "base_uri": "https://localhost:8080/"
        },
        "id": "Bt5h44RHopj_",
        "outputId": "97489f19-089b-445f-9590-b91b686f3163"
      },
      "execution_count": 11,
      "outputs": [
        {
          "output_type": "stream",
          "name": "stdout",
          "text": [
            "147/25 ou 5 + 22/25\n"
          ]
        }
      ]
    },
    {
      "cell_type": "code",
      "source": [
        "h = f + g # La touche \"+\" permet d'accéder à la méthode spéciale (ou méthode de surcharge) \"\"__add__\"\n",
        "print(h)"
      ],
      "metadata": {
        "colab": {
          "base_uri": "https://localhost:8080/"
        },
        "id": "U-yLh9sAmMzA",
        "outputId": "53372c95-c799-47ba-c88d-699344bdafe9"
      },
      "execution_count": 12,
      "outputs": [
        {
          "output_type": "stream",
          "name": "stdout",
          "text": [
            "28/5 ou 5 + 3/5\n"
          ]
        }
      ]
    },
    {
      "cell_type": "code",
      "source": [
        "l = f.inverse()\n",
        "print(l)"
      ],
      "metadata": {
        "colab": {
          "base_uri": "https://localhost:8080/"
        },
        "id": "kvN5q32_ujen",
        "outputId": "15ceb7ca-c0d6-4f7d-a4d1-969de0113ac0"
      },
      "execution_count": 13,
      "outputs": [
        {
          "output_type": "stream",
          "name": "stdout",
          "text": [
            "5/7\n"
          ]
        }
      ]
    },
    {
      "cell_type": "code",
      "source": [
        "m = f / l\n",
        "print(m)"
      ],
      "metadata": {
        "colab": {
          "base_uri": "https://localhost:8080/"
        },
        "id": "PpIzv7CQvI1_",
        "outputId": "d17a4715-6ed8-479c-c1a5-b42a9610a67f"
      },
      "execution_count": 14,
      "outputs": [
        {
          "output_type": "stream",
          "name": "stdout",
          "text": [
            "49/25 ou 1 + 24/25\n"
          ]
        }
      ]
    },
    {
      "cell_type": "code",
      "source": [
        "f = fraction(5,7)\n",
        "g = fraction(2,3)\n",
        "f<g"
      ],
      "metadata": {
        "id": "qMy6tS_2wQkA",
        "colab": {
          "base_uri": "https://localhost:8080/"
        },
        "outputId": "8f6d6df2-fd89-4521-a50f-ba7a9b57f2c5"
      },
      "execution_count": 15,
      "outputs": [
        {
          "output_type": "execute_result",
          "data": {
            "text/plain": [
              "False"
            ]
          },
          "metadata": {},
          "execution_count": 15
        }
      ]
    },
    {
      "cell_type": "code",
      "source": [
        "f = fraction(5,7)\n",
        "g = fraction(15,20)\n",
        "f==g"
      ],
      "metadata": {
        "colab": {
          "base_uri": "https://localhost:8080/"
        },
        "id": "PmtI7CQj-69Q",
        "outputId": "58f36568-4b5d-4cff-e6c6-6fb4ea31a87a"
      },
      "execution_count": 16,
      "outputs": [
        {
          "output_type": "execute_result",
          "data": {
            "text/plain": [
              "False"
            ]
          },
          "metadata": {},
          "execution_count": 16
        }
      ]
    },
    {
      "cell_type": "code",
      "source": [
        "f = fraction(2,9)\n",
        "print(str(f.top) + \"/\" + str(f.bottom)+\" = \", end = \"\" )\n",
        "print(f.egyptienne())"
      ],
      "metadata": {
        "colab": {
          "base_uri": "https://localhost:8080/"
        },
        "id": "QmrdBMaUkKeA",
        "outputId": "26899b49-cf40-41a6-f910-9147eefa1c0f"
      },
      "execution_count": 17,
      "outputs": [
        {
          "output_type": "stream",
          "name": "stdout",
          "text": [
            "2/9 = 1/5 + 1/45\n"
          ]
        }
      ]
    },
    {
      "cell_type": "code",
      "source": [
        "def ecriture_egyptienne(f) :\n",
        "    '''Fonction d'affichage d'une fraction egyptienne'''\n",
        "    print(str(f.top) + \"/\" + str(f.bottom)+\" = \", end = \"\" )\n",
        "    print(f.egyptienne())"
      ],
      "metadata": {
        "id": "dvIJmvlxkfk_"
      },
      "execution_count": 18,
      "outputs": []
    },
    {
      "cell_type": "code",
      "source": [
        "ecriture_egyptienne(fraction(11,9))"
      ],
      "metadata": {
        "colab": {
          "base_uri": "https://localhost:8080/"
        },
        "id": "ZV7DjrFSyL0v",
        "outputId": "4507996e-9989-4ce2-ba8b-8486e6b12bbc"
      },
      "execution_count": 19,
      "outputs": [
        {
          "output_type": "stream",
          "name": "stdout",
          "text": [
            "11/9 = 1 + 1/5 + 1/45\n"
          ]
        }
      ]
    },
    {
      "cell_type": "code",
      "source": [],
      "metadata": {
        "id": "CiB_eWiB0340"
      },
      "execution_count": 19,
      "outputs": []
    }
  ]
}