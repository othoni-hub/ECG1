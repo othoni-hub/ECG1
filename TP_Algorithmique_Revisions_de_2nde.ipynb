{
  "nbformat": 4,
  "nbformat_minor": 0,
  "metadata": {
    "kernelspec": {
      "display_name": "Python 3",
      "language": "python",
      "name": "python3"
    },
    "language_info": {
      "codemirror_mode": {
        "name": "ipython",
        "version": 3
      },
      "file_extension": ".py",
      "mimetype": "text/x-python",
      "name": "python",
      "nbconvert_exporter": "python",
      "pygments_lexer": "ipython3",
      "version": "3.7.1"
    },
    "colab": {
      "name": "TP Algorithmique - Revisions de 2nde.ipynb",
      "provenance": [],
      "include_colab_link": true
    }
  },
  "cells": [
    {
      "cell_type": "markdown",
      "metadata": {
        "id": "view-in-github",
        "colab_type": "text"
      },
      "source": [
        "<a href=\"https://colab.research.google.com/github/othoni-hub/ECG1/blob/main/TP_Algorithmique_Revisions_de_2nde.ipynb\" target=\"_parent\"><img src=\"https://colab.research.google.com/assets/colab-badge.svg\" alt=\"Open In Colab\"/></a>"
      ]
    },
    {
      "cell_type": "code",
      "metadata": {
        "id": "BHcnTbuGAYa0"
      },
      "source": [
        "# -*- coding: utf-8 -*-"
      ],
      "execution_count": null,
      "outputs": []
    },
    {
      "cell_type": "markdown",
      "metadata": {
        "id": "mB5AVVufAYa7"
      },
      "source": [
        "# TP Python : ALGORITHMIQUE - REVISIONS DE 2nde\n",
        "*********************\n",
        "## Olivier THÖNI\n",
        "\n",
        "## FACULTÉ d'ÉDUCATION UCO\n",
        "*********************\n",
        "*document sous licence Creative Commons - CC : By/NC/SA*"
      ]
    },
    {
      "cell_type": "markdown",
      "metadata": {
        "id": "Zwa6f38cAYa8"
      },
      "source": [
        "## La suite de Syracuse\n",
        "\n",
        "*- Prenez un entier, s'il est pair, divisez-le par 2, sinon, multipliez-le par 3 et ajoutez 1*"
      ]
    },
    {
      "cell_type": "code",
      "metadata": {
        "id": "NZEa1BcGAYa9",
        "outputId": "0ff283e8-0bb5-40a9-f9e7-62f5a0784be1"
      },
      "source": [
        "n = int(input('Entrez un entier n : '))\n",
        "\n",
        "if n%2 == 0 : \n",
        "# Que penser du test if n/2 ==int(n/2) : ?\n",
        "# ou bien encore if n/2 == n//2 : ?\n",
        "    print(n, ' pair.')\n",
        "    n = n//2\n",
        "    \n",
        "else :\n",
        "    print(n, ' impair.')\n",
        "    n = 3*n + 1\n",
        "\n",
        "print('n devient ', n)"
      ],
      "execution_count": null,
      "outputs": [
        {
          "output_type": "stream",
          "text": [
            "Entrez un entier n : 5\n",
            "5  impair.\n",
            "n devient  16\n"
          ],
          "name": "stdout"
        }
      ]
    },
    {
      "cell_type": "markdown",
      "metadata": {
        "id": "_AEJvIoQAYbD"
      },
      "source": [
        "*- Réitérez le procédé de Syracuse jusqu'à obtenir 1. (On fera confiance aux mathématiciens qui n'ont jamais constaté de contre-exemple...)*"
      ]
    },
    {
      "cell_type": "code",
      "metadata": {
        "id": "SGXkVTW2AYbE",
        "outputId": "377c371e-801b-4a60-d2ae-6ab4bbd03bb7"
      },
      "source": [
        "n = int(input('Entrez un entier n : '))\n",
        "print(n, \" \", end = '')\n",
        "\n",
        "while  n != 1 :\n",
        "    if n%2 == 0 :\n",
        "        n = n//2\n",
        "        \n",
        "    else :\n",
        "        n = 3*n + 1\n",
        "\n",
        "    print(n, \" \", end = '')\n"
      ],
      "execution_count": null,
      "outputs": [
        {
          "output_type": "stream",
          "text": [
            "Entrez un entier n : 7\n",
            "7  22  11  34  17  52  26  13  40  20  10  5  16  8  4  2  1  "
          ],
          "name": "stdout"
        }
      ]
    },
    {
      "cell_type": "markdown",
      "metadata": {
        "id": "pT32TOZoAYbI"
      },
      "source": [
        "*- Mesurez le temps de vol, c'est-à-dire le nombre d'états successifs de n de l'état initial jusqu'à 1*"
      ]
    },
    {
      "cell_type": "code",
      "metadata": {
        "id": "OEZO5YO-AYbJ",
        "outputId": "e823411a-651f-4943-eeb0-f5e35efb6f81"
      },
      "source": [
        "n = int(input('Entrez un entier n : '))\n",
        "print(n, \" \", end = '')\n",
        "\n",
        "temps2vol = 1\n",
        "\n",
        "while  n != 1 :\n",
        "    temps2vol = temps2vol + 1\n",
        "    if n%2 == 0 :\n",
        "        n = n//2\n",
        "        \n",
        "    else :\n",
        "        n = 3*n + 1\n",
        "\n",
        "    print(n, \" \", end = '')\n",
        "print()\n",
        "print(\"Temps de vol : \", temps2vol)\n"
      ],
      "execution_count": null,
      "outputs": [
        {
          "output_type": "stream",
          "text": [
            "Entrez un entier n : 7\n",
            "7  22  11  34  17  52  26  13  40  20  10  5  16  8  4  2  1  \n",
            "Temps de vol :  17\n"
          ],
          "name": "stdout"
        }
      ]
    },
    {
      "cell_type": "markdown",
      "metadata": {
        "id": "3orIudZMAYbO"
      },
      "source": [
        "*- Mesurez l'altitude, c'est-à-dire l'entier le plus élevé atteint pendant le \"vol\".*"
      ]
    },
    {
      "cell_type": "code",
      "metadata": {
        "id": "cLhpFhQEAYbP",
        "outputId": "1b28821d-3f80-4b4b-8642-eb6da55b23d2"
      },
      "source": [
        "n = int(input('Entrez un entier n : '))\n",
        "print(n, \" \", end = '')\n",
        "\n",
        "temps2vol = 1\n",
        "altitude = n\n",
        "\n",
        "while  n != 1 :\n",
        "    temps2vol = temps2vol + 1\n",
        "    if n%2 == 0 :\n",
        "        n = n//2\n",
        "        \n",
        "    else :\n",
        "        n = 3*n + 1\n",
        "        if n > altitude :\n",
        "            altitude = n\n",
        "\n",
        "    print(n, \" \", end = '')\n",
        "print()\n",
        "print(\"Temps de vol : \", temps2vol)\n",
        "print(\"Altitude : \", altitude)\n"
      ],
      "execution_count": null,
      "outputs": [
        {
          "output_type": "stream",
          "text": [
            "Entrez un entier n : 7\n",
            "7  22  11  34  17  52  26  13  40  20  10  5  16  8  4  2  1  \n",
            "Temps de vol :  17\n",
            "Altitude :  52\n"
          ],
          "name": "stdout"
        }
      ]
    },
    {
      "cell_type": "markdown",
      "metadata": {
        "id": "lCbRnt6cAYbT"
      },
      "source": [
        "*- Nul n'a jamais trouvé de contre-exemple à la conjecture suivante : \n",
        " \"Quel que soit l'entier choisi au départ, le processus de Syracuse rencontre toujours la valeur 1 !\" \n",
        " Sauriez-vous le prouver pour tous les entiers compris entre 1 et 5000 ? (là encore, question finitude, mieux vaut que la conjecture soit vraie...)"
      ]
    },
    {
      "cell_type": "code",
      "metadata": {
        "id": "jvVX5VT7AYbT",
        "outputId": "f91e717d-78ae-4a3d-af76-0145c10cd5d2"
      },
      "source": [
        "for k in range(1,5001) :\n",
        "    n = k\n",
        "    \n",
        "    while  n != 1 :\n",
        "        if n%2 == 0 :\n",
        "            n = n//2\n",
        "            \n",
        "        else :\n",
        "            n = 3*n + 1\n",
        "    \n",
        "    #print(k, \" v, \", end = '')\n",
        "\n",
        "print()\n",
        "print(\"Terminé, conjecture vérifiée jusqu'à 5000\")"
      ],
      "execution_count": null,
      "outputs": [
        {
          "output_type": "stream",
          "text": [
            "\n",
            "Terminé, conjecture vérifiée jusqu'à 5000\n"
          ],
          "name": "stdout"
        }
      ]
    },
    {
      "cell_type": "markdown",
      "metadata": {
        "id": "qKfLLbZqAYbY"
      },
      "source": [
        "*- Quand on effectue la vérification de la conjecture de 1 à 5000, quel est le record des temps de vol ? Pour quel entier de départ ? \n",
        "Quel est le record des altitudes ? Pour quel entier de départ ?*"
      ]
    },
    {
      "cell_type": "code",
      "metadata": {
        "id": "Bd7wIJZiAYbZ",
        "outputId": "b2405047-1fa3-4eb3-d91e-e5ec106d2e45"
      },
      "source": [
        "record_temps2vol = 1\n",
        "record_altitude = n\n",
        "\n",
        "for k in range(1,5001) :\n",
        "    n = k\n",
        "    temps2vol = 1\n",
        "    altitude = n\n",
        "\n",
        "    while  n != 1 :\n",
        "        temps2vol = temps2vol + 1\n",
        "        if n%2 == 0 :\n",
        "            n = n//2\n",
        "            \n",
        "        else :\n",
        "            n = 3*n + 1\n",
        "            if n > altitude :\n",
        "                altitude = n\n",
        "                \n",
        "    if temps2vol > record_temps2vol :\n",
        "        record_temps2vol = temps2vol\n",
        "        k_record_tdv = k\n",
        "    if altitude > record_altitude :\n",
        "        record_altitude = altitude\n",
        "        k_record_alt = k\n",
        "    \n",
        "    #print(k, \" v, \", end = '')\n",
        "\n",
        "print()\n",
        "print(\"Terminé, conjecture vérifiée jusqu'à 5000\")\n",
        "print(\"Record des temps de vol : \", record_temps2vol, \", pour n = \", k_record_tdv)\n",
        "print(\"Record des altitudes : \", record_altitude, \", pour n = \", k_record_alt)"
      ],
      "execution_count": null,
      "outputs": [
        {
          "output_type": "stream",
          "text": [
            "\n",
            "Terminé, conjecture vérifiée jusqu'à 5000\n",
            "Record des temps de vol :  238 , pour n =  3711\n",
            "Record des altitudes :  8153620 , pour n =  4591\n"
          ],
          "name": "stdout"
        }
      ]
    },
    {
      "cell_type": "code",
      "metadata": {
        "id": "GEfzRfEvAYbd"
      },
      "source": [
        ""
      ],
      "execution_count": null,
      "outputs": []
    }
  ]
}