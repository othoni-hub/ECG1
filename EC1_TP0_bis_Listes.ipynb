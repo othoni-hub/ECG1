{
  "nbformat": 4,
  "nbformat_minor": 0,
  "metadata": {
    "colab": {
      "provenance": [],
      "authorship_tag": "ABX9TyNaksRNd6xcSvOKbOBx+2e1",
      "include_colab_link": true
    },
    "kernelspec": {
      "name": "python3",
      "display_name": "Python 3"
    },
    "language_info": {
      "name": "python"
    }
  },
  "cells": [
    {
      "cell_type": "markdown",
      "metadata": {
        "id": "view-in-github",
        "colab_type": "text"
      },
      "source": [
        "<a href=\"https://colab.research.google.com/github/othoni-hub/ECG1/blob/main/EC1_TP0_bis_Listes.ipynb\" target=\"_parent\"><img src=\"https://colab.research.google.com/assets/colab-badge.svg\" alt=\"Open In Colab\"/></a>"
      ]
    },
    {
      "cell_type": "markdown",
      "metadata": {
        "id": "sOo4L2gqpgt-"
      },
      "source": [
        "# **CPGE-ECG1**\n",
        "<img src=\"https://drive.google.com/uc?id=12Wo3LubGGT4qOvYFAuLP4CyCuwjKNVuk\" width=\"230\" height=\"150\" align = \"right\"/>\n",
        "\n",
        "## **TP-bis - Notebook : Les listes Python**\n",
        "\n",
        "\n",
        "\n",
        "\n",
        "**O.Thöni - Lycée Saint-Charles Sainte Croix - LE MANS**"
      ]
    },
    {
      "cell_type": "markdown",
      "metadata": {
        "id": "jP9nRvsOpr-x"
      },
      "source": [
        "Quelques connaissances sont exigibles sur les listes natives Python.\n",
        "\n",
        "Par **\"liste\"**, on entend avant tout **\"tableau uni-dimensionnel\"**, c'est là que sont les connaissances requises. Cependant, nous irons explorer les listes bi-dimensionnelles, qui peuvent à l'occasion échapper à la vigilance des concepteurs de sujets de concours... et qui nous donneront l'occasion d'apprécier, dans un TP ultérieur, le type \"tableau\" (***\"array***) de la bibliothèque NumPy.\n",
        "\n",
        "**ce qu'il faut retenir du présent NoteBook :**\n",
        "* définition **par une boucle** et définition par **compréhension**\n",
        "* fonction ***range***\n",
        "* commandes ***append*** et ***len***\n",
        "* **recherche séquentielle dans une liste**\n",
        "* commandes ***in, del*** et ***count***\n",
        "* **manipulations élémentaires de listes**"
      ]
    },
    {
      "cell_type": "markdown",
      "metadata": {
        "id": "Z3-a3EfFtOMR"
      },
      "source": [
        "# **1. Généralités**"
      ]
    },
    {
      "cell_type": "markdown",
      "metadata": {
        "id": "PcadlURUr4XJ"
      },
      "source": [
        "**définition**\n",
        "\n",
        "Le type \"liste\" (*list*) est un type construit c'est-à-dire composite de Python, doté de méthodes et de fonctions spéciales, dont certaines sont énumérées ci-dessus.\n",
        "\n",
        "Une variable liste peut contenir des éléments de types différents, simples ou eux-mêmes construits (c'est ce qui permettra de fabriquer des listes de listes.)\n",
        "Une liste est **\"itérable\"**, c'est-à-dire qu'elle peut servir directement pour engendrer une boucle \"pour\"."
      ]
    },
    {
      "cell_type": "markdown",
      "metadata": {
        "id": "bOhHq4iFtGg-"
      },
      "source": [
        "## **Différents modes de génération d'une liste**"
      ]
    },
    {
      "cell_type": "code",
      "metadata": {
        "id": "yFE-SuzC2tYX"
      },
      "source": [],
      "execution_count": null,
      "outputs": []
    },
    {
      "cell_type": "markdown",
      "metadata": {
        "id": "-kkNntyCtv5f"
      },
      "source": [
        "## **définition explicite et accès aux éléments**"
      ]
    },
    {
      "cell_type": "code",
      "metadata": {
        "colab": {
          "base_uri": "https://localhost:8080/"
        },
        "id": "VTv-80ODpeAr",
        "outputId": "fed6f9f6-4a90-48ad-b09e-cf53dcef52de"
      },
      "source": [
        "L = [1,5.,True,\"samedi\"]    # Cette liste contient dans cet ordre\n",
        "                            # un entier, un flottant, un booléen, une chaîne de caractère\n",
        "L"
      ],
      "execution_count": null,
      "outputs": [
        {
          "output_type": "execute_result",
          "data": {
            "text/plain": [
              "[1, 5.0, True, 'samedi']"
            ]
          },
          "metadata": {
            "tags": []
          },
          "execution_count": 20
        }
      ]
    },
    {
      "cell_type": "code",
      "metadata": {
        "id": "SmMVj5iEunJB"
      },
      "source": [],
      "execution_count": null,
      "outputs": []
    },
    {
      "cell_type": "markdown",
      "metadata": {
        "id": "YrXCVMoCuVMJ"
      },
      "source": [
        "L'accès aux éléments se fait par leur **numéro dans la liste, entre crochets sachant que la numérotation commence toujours à 0 !!!**"
      ]
    },
    {
      "cell_type": "code",
      "metadata": {
        "colab": {
          "base_uri": "https://localhost:8080/"
        },
        "id": "HEDYN6Ypt_b9",
        "outputId": "ecfbddb3-fae3-42ae-8014-5ad318430f82"
      },
      "source": [
        "L[0]"
      ],
      "execution_count": null,
      "outputs": [
        {
          "output_type": "execute_result",
          "data": {
            "text/plain": [
              "1"
            ]
          },
          "metadata": {
            "tags": []
          },
          "execution_count": 21
        }
      ]
    },
    {
      "cell_type": "code",
      "metadata": {
        "colab": {
          "base_uri": "https://localhost:8080/"
        },
        "id": "nC0kruGGuwXe",
        "outputId": "88f70ce6-3abb-49e2-8b11-1a35b7a6fa94"
      },
      "source": [
        "type(L[3]) == str # teste si le 4ème élément de la liste est bien une chaîne de caractères"
      ],
      "execution_count": null,
      "outputs": [
        {
          "output_type": "execute_result",
          "data": {
            "text/plain": [
              "True"
            ]
          },
          "metadata": {
            "tags": []
          },
          "execution_count": 22
        }
      ]
    },
    {
      "cell_type": "code",
      "metadata": {
        "colab": {
          "base_uri": "https://localhost:8080/",
          "height": 171
        },
        "id": "WCjcWpifu2lz",
        "outputId": "1db89c1e-ac78-4ce0-d58d-8688ebed87b1"
      },
      "source": [
        "L[4]"
      ],
      "execution_count": null,
      "outputs": [
        {
          "output_type": "error",
          "ename": "IndexError",
          "evalue": "ignored",
          "traceback": [
            "\u001b[0;31m---------------------------------------------------------------------------\u001b[0m",
            "\u001b[0;31mIndexError\u001b[0m                                Traceback (most recent call last)",
            "\u001b[0;32m<ipython-input-23-1eef6b78def1>\u001b[0m in \u001b[0;36m<module>\u001b[0;34m()\u001b[0m\n\u001b[0;32m----> 1\u001b[0;31m \u001b[0mL\u001b[0m\u001b[0;34m[\u001b[0m\u001b[0;36m4\u001b[0m\u001b[0;34m]\u001b[0m\u001b[0;34m\u001b[0m\u001b[0;34m\u001b[0m\u001b[0m\n\u001b[0m",
            "\u001b[0;31mIndexError\u001b[0m: list index out of range"
          ]
        }
      ]
    },
    {
      "cell_type": "markdown",
      "metadata": {
        "id": "AC8dwkIIvE6A"
      },
      "source": [
        "\"- Hey, M'sieur, ça marche pas votre truc !\"\n",
        "\n",
        "\"- Il te dit quoi ?\"\n",
        "\n",
        "\"- Il me dit *'list index out of range'*\"\n",
        "\n",
        "\"- T'as qu'à commencer à numéroter les éléments à 0, <strike>abruti</strike>, donc s'il y en a 4, le dernier porte le numéro 3 !\"\n"
      ]
    },
    {
      "cell_type": "markdown",
      "metadata": {
        "id": "51lnOrbDwSwQ"
      },
      "source": [
        "## **définition par *range( )* d'une liste régulièrement espacée**"
      ]
    },
    {
      "cell_type": "code",
      "metadata": {
        "colab": {
          "base_uri": "https://localhost:8080/"
        },
        "id": "aq4EngGru6Xh",
        "outputId": "7603eac5-a4d2-42c9-9066-20645722fef9"
      },
      "source": [
        "R = range(5)\n",
        "R"
      ],
      "execution_count": null,
      "outputs": [
        {
          "output_type": "execute_result",
          "data": {
            "text/plain": [
              "range(0, 5)"
            ]
          },
          "metadata": {},
          "execution_count": 1
        }
      ]
    },
    {
      "cell_type": "code",
      "metadata": {
        "colab": {
          "base_uri": "https://localhost:8080/"
        },
        "id": "CZTbOl9pwkwr",
        "outputId": "9aa6dffc-ea64-4fab-9d13-34db2348c0dc"
      },
      "source": [
        "0 in range(5)"
      ],
      "execution_count": null,
      "outputs": [
        {
          "output_type": "execute_result",
          "data": {
            "text/plain": [
              "True"
            ]
          },
          "metadata": {
            "tags": []
          },
          "execution_count": 25
        }
      ]
    },
    {
      "cell_type": "code",
      "metadata": {
        "colab": {
          "base_uri": "https://localhost:8080/"
        },
        "id": "Etj_Oh_twwpl",
        "outputId": "14391cae-bd74-4400-d7a7-3c5088c94878"
      },
      "source": [
        "3 in range(5)"
      ],
      "execution_count": null,
      "outputs": [
        {
          "output_type": "execute_result",
          "data": {
            "text/plain": [
              "True"
            ]
          },
          "metadata": {
            "tags": []
          },
          "execution_count": 26
        }
      ]
    },
    {
      "cell_type": "code",
      "metadata": {
        "colab": {
          "base_uri": "https://localhost:8080/"
        },
        "id": "QHey0LS1wyq2",
        "outputId": "81569b7f-746a-4f8e-b746-d2631b8ff153"
      },
      "source": [
        "6 in range(5)"
      ],
      "execution_count": null,
      "outputs": [
        {
          "output_type": "execute_result",
          "data": {
            "text/plain": [
              "False"
            ]
          },
          "metadata": {
            "tags": []
          },
          "execution_count": 27
        }
      ]
    },
    {
      "cell_type": "code",
      "metadata": {
        "colab": {
          "base_uri": "https://localhost:8080/"
        },
        "id": "3oArMaK1w0q2",
        "outputId": "257c9f01-4797-4859-b144-f2ed533ae4ef"
      },
      "source": [
        "5 in range(5)"
      ],
      "execution_count": null,
      "outputs": [
        {
          "output_type": "execute_result",
          "data": {
            "text/plain": [
              "False"
            ]
          },
          "metadata": {
            "tags": []
          },
          "execution_count": 28
        }
      ]
    },
    {
      "cell_type": "markdown",
      "metadata": {
        "id": "tJpHcM_3w3KO"
      },
      "source": [
        "**à retenir :**\n",
        "\n",
        "***range( )*** est un **itérable** : on peut faire tourner une boucle sur ses éléments.\n",
        "\n",
        "***range(5)*** est un objet qui contient **les entiers de 0 inclus à 5 exclu !**\n",
        "\n",
        "Pour tester si un élément figure dans un objet de type construit, on utilise la commande ***in***."
      ]
    },
    {
      "cell_type": "code",
      "metadata": {
        "colab": {
          "base_uri": "https://localhost:8080/"
        },
        "id": "piievEs1w2X4",
        "outputId": "d62a0fe4-d7d5-4ee5-870e-9187866c9ab0"
      },
      "source": [
        "R = range(3,8)\n",
        "for k in R :\n",
        "    print(k, end = \" \")"
      ],
      "execution_count": null,
      "outputs": [
        {
          "output_type": "stream",
          "text": [
            "3 4 5 6 7 "
          ],
          "name": "stdout"
        }
      ]
    },
    {
      "cell_type": "markdown",
      "metadata": {
        "id": "qj1EyRP-xUpL"
      },
      "source": [
        "**à retenir :**\n",
        "\n",
        "***range(3,8)*** est un objet qui contient **les entiers de 3 inclus à 8 exclu !**\n"
      ]
    },
    {
      "cell_type": "code",
      "metadata": {
        "colab": {
          "base_uri": "https://localhost:8080/"
        },
        "id": "ZwuwpmcXxQgU",
        "outputId": "a32ebb62-2c71-4d7a-a718-83ff27c5ec94"
      },
      "source": [
        "R = range(3,18,3)\n",
        "for k in R :\n",
        "    print(k, end = \" \")"
      ],
      "execution_count": null,
      "outputs": [
        {
          "output_type": "stream",
          "text": [
            "3 6 9 12 15 "
          ],
          "name": "stdout"
        }
      ]
    },
    {
      "cell_type": "markdown",
      "metadata": {
        "id": "r9IkJzCXxydB"
      },
      "source": [
        "**à retenir :**\n",
        "\n",
        "***range(3,18,3)*** est un objet qui contient **les entiers de 3 en 3, de 3  inclus à 18 exclu !**\n",
        "\n",
        "Pour convertir un *range* en liste, il faut le demander gentiment :"
      ]
    },
    {
      "cell_type": "code",
      "metadata": {
        "colab": {
          "base_uri": "https://localhost:8080/"
        },
        "id": "i8lLHpQKzETS",
        "outputId": "6eb66da8-7e8f-46da-bceb-80bdd5139d31"
      },
      "source": [
        "type(R)"
      ],
      "execution_count": null,
      "outputs": [
        {
          "output_type": "execute_result",
          "data": {
            "text/plain": [
              "range"
            ]
          },
          "metadata": {
            "tags": []
          },
          "execution_count": 33
        }
      ]
    },
    {
      "cell_type": "code",
      "metadata": {
        "colab": {
          "base_uri": "https://localhost:8080/"
        },
        "id": "TmwSjNKxxuJn",
        "outputId": "93fc52c6-4869-404d-f6d7-6938c00274c0"
      },
      "source": [
        "L = list(range(3,18,3)) # transforme un objet de type range en liste\n",
        "L"
      ],
      "execution_count": null,
      "outputs": [
        {
          "output_type": "execute_result",
          "data": {
            "text/plain": [
              "[3, 6, 9, 12, 15]"
            ]
          },
          "metadata": {
            "tags": []
          },
          "execution_count": 31
        }
      ]
    },
    {
      "cell_type": "code",
      "metadata": {
        "colab": {
          "base_uri": "https://localhost:8080/"
        },
        "id": "jZvsgPeEyIPV",
        "outputId": "bfc00c73-8b87-4db9-f1a9-88a44f7bfacd"
      },
      "source": [
        "type(L)"
      ],
      "execution_count": null,
      "outputs": [
        {
          "output_type": "execute_result",
          "data": {
            "text/plain": [
              "list"
            ]
          },
          "metadata": {
            "tags": []
          },
          "execution_count": 32
        }
      ]
    },
    {
      "cell_type": "markdown",
      "metadata": {
        "id": "jMSXwcn21HWW"
      },
      "source": [
        "## **définition par une boucle basée sur un itérable**"
      ]
    },
    {
      "cell_type": "code",
      "metadata": {
        "colab": {
          "base_uri": "https://localhost:8080/"
        },
        "id": "kPmjl1aCyfJR",
        "outputId": "14832351-0f78-44a2-8015-2b479c0461d7"
      },
      "source": [
        "L = []\n",
        "for k in range(3,18,3) :\n",
        "    L.append(k/10)\n",
        "L"
      ],
      "execution_count": null,
      "outputs": [
        {
          "output_type": "execute_result",
          "data": {
            "text/plain": [
              "[0.3, 0.6, 0.9, 1.2, 1.5]"
            ]
          },
          "metadata": {
            "tags": []
          },
          "execution_count": 36
        }
      ]
    },
    {
      "cell_type": "code",
      "source": [
        "#!pip install metakernel # décommenter pour installer python tutor\n",
        "\n",
        "from metakernel import register_ipython_magics\n",
        "register_ipython_magics()"
      ],
      "metadata": {
        "colab": {
          "base_uri": "https://localhost:8080/"
        },
        "id": "f1erN6MEmY6i",
        "outputId": "f8b19695-a745-4115-83bb-9f595152e333"
      },
      "execution_count": null,
      "outputs": [
        {
          "output_type": "stream",
          "name": "stdout",
          "text": [
            "Collecting metakernel\n",
            "  Downloading metakernel-0.30.1-py3-none-any.whl (217 kB)\n",
            "\u001b[2K     \u001b[90m━━━━━━━━━━━━━━━━━━━━━━━━━━━━━━━━━━━━━━━━\u001b[0m \u001b[32m217.8/217.8 kB\u001b[0m \u001b[31m3.7 MB/s\u001b[0m eta \u001b[36m0:00:00\u001b[0m\n",
            "\u001b[?25hRequirement already satisfied: ipykernel>=5.5.6 in /usr/local/lib/python3.10/dist-packages (from metakernel) (5.5.6)\n",
            "Collecting jedi>=0.18 (from metakernel)\n",
            "  Downloading jedi-0.19.1-py2.py3-none-any.whl (1.6 MB)\n",
            "\u001b[2K     \u001b[90m━━━━━━━━━━━━━━━━━━━━━━━━━━━━━━━━━━━━━━━━\u001b[0m \u001b[32m1.6/1.6 MB\u001b[0m \u001b[31m12.8 MB/s\u001b[0m eta \u001b[36m0:00:00\u001b[0m\n",
            "\u001b[?25hRequirement already satisfied: jupyter-core>=4.9.2 in /usr/local/lib/python3.10/dist-packages (from metakernel) (5.4.0)\n",
            "Requirement already satisfied: pexpect>=4.8 in /usr/local/lib/python3.10/dist-packages (from metakernel) (4.8.0)\n",
            "Requirement already satisfied: ipython-genutils in /usr/local/lib/python3.10/dist-packages (from ipykernel>=5.5.6->metakernel) (0.2.0)\n",
            "Requirement already satisfied: ipython>=5.0.0 in /usr/local/lib/python3.10/dist-packages (from ipykernel>=5.5.6->metakernel) (7.34.0)\n",
            "Requirement already satisfied: traitlets>=4.1.0 in /usr/local/lib/python3.10/dist-packages (from ipykernel>=5.5.6->metakernel) (5.7.1)\n",
            "Requirement already satisfied: jupyter-client in /usr/local/lib/python3.10/dist-packages (from ipykernel>=5.5.6->metakernel) (6.1.12)\n",
            "Requirement already satisfied: tornado>=4.2 in /usr/local/lib/python3.10/dist-packages (from ipykernel>=5.5.6->metakernel) (6.3.2)\n",
            "Requirement already satisfied: parso<0.9.0,>=0.8.3 in /usr/local/lib/python3.10/dist-packages (from jedi>=0.18->metakernel) (0.8.3)\n",
            "Requirement already satisfied: platformdirs>=2.5 in /usr/local/lib/python3.10/dist-packages (from jupyter-core>=4.9.2->metakernel) (3.11.0)\n",
            "Requirement already satisfied: ptyprocess>=0.5 in /usr/local/lib/python3.10/dist-packages (from pexpect>=4.8->metakernel) (0.7.0)\n",
            "Requirement already satisfied: setuptools>=18.5 in /usr/local/lib/python3.10/dist-packages (from ipython>=5.0.0->ipykernel>=5.5.6->metakernel) (67.7.2)\n",
            "Requirement already satisfied: decorator in /usr/local/lib/python3.10/dist-packages (from ipython>=5.0.0->ipykernel>=5.5.6->metakernel) (4.4.2)\n",
            "Requirement already satisfied: pickleshare in /usr/local/lib/python3.10/dist-packages (from ipython>=5.0.0->ipykernel>=5.5.6->metakernel) (0.7.5)\n",
            "Requirement already satisfied: prompt-toolkit!=3.0.0,!=3.0.1,<3.1.0,>=2.0.0 in /usr/local/lib/python3.10/dist-packages (from ipython>=5.0.0->ipykernel>=5.5.6->metakernel) (3.0.39)\n",
            "Requirement already satisfied: pygments in /usr/local/lib/python3.10/dist-packages (from ipython>=5.0.0->ipykernel>=5.5.6->metakernel) (2.16.1)\n",
            "Requirement already satisfied: backcall in /usr/local/lib/python3.10/dist-packages (from ipython>=5.0.0->ipykernel>=5.5.6->metakernel) (0.2.0)\n",
            "Requirement already satisfied: matplotlib-inline in /usr/local/lib/python3.10/dist-packages (from ipython>=5.0.0->ipykernel>=5.5.6->metakernel) (0.1.6)\n",
            "Requirement already satisfied: pyzmq>=13 in /usr/local/lib/python3.10/dist-packages (from jupyter-client->ipykernel>=5.5.6->metakernel) (23.2.1)\n",
            "Requirement already satisfied: python-dateutil>=2.1 in /usr/local/lib/python3.10/dist-packages (from jupyter-client->ipykernel>=5.5.6->metakernel) (2.8.2)\n",
            "Requirement already satisfied: wcwidth in /usr/local/lib/python3.10/dist-packages (from prompt-toolkit!=3.0.0,!=3.0.1,<3.1.0,>=2.0.0->ipython>=5.0.0->ipykernel>=5.5.6->metakernel) (0.2.8)\n",
            "Requirement already satisfied: six>=1.5 in /usr/local/lib/python3.10/dist-packages (from python-dateutil>=2.1->jupyter-client->ipykernel>=5.5.6->metakernel) (1.16.0)\n",
            "Installing collected packages: jedi, metakernel\n",
            "Successfully installed jedi-0.19.1 metakernel-0.30.1\n"
          ]
        }
      ]
    },
    {
      "cell_type": "code",
      "source": [
        "%%tutor\n",
        "L = []\n",
        "for k in range(3,18,3) :\n",
        "    L.append(k/10)"
      ],
      "metadata": {
        "colab": {
          "base_uri": "https://localhost:8080/",
          "height": 522
        },
        "id": "5KR8YCr9mj3e",
        "outputId": "34b200dc-ed4f-4154-9a33-f2e9c98d7f50"
      },
      "execution_count": null,
      "outputs": [
        {
          "output_type": "display_data",
          "data": {
            "text/plain": [
              "<IPython.lib.display.IFrame at 0x7b2aa38bf4f0>"
            ],
            "text/html": [
              "\n",
              "        <iframe\n",
              "            width=\"100%\"\n",
              "            height=\"500\"\n",
              "            src=\"https://pythontutor.com/iframe-embed.html#code=L%20%3D%20%5B%5D%0Afor%20k%20in%20range%283%2C18%2C3%29%20%3A%0A%20%20%20%20L.append%28k/10%29%0A&origin=opt-frontend.js&cumulative=false&heapPrimitives=false&textReferences=false&py=3&rawInputLstJSON=%5B%5D&curInstr=0&codeDivWidth=350&codeDivHeight=400\"\n",
              "            frameborder=\"0\"\n",
              "            allowfullscreen\n",
              "            \n",
              "        ></iframe>\n",
              "        "
            ]
          },
          "metadata": {}
        }
      ]
    },
    {
      "cell_type": "markdown",
      "metadata": {
        "id": "hA7zRWZY12HN"
      },
      "source": [
        "**à retenir :**\n",
        "\n",
        "La **liste vide** s'écrit **[ ]**\n",
        "\n",
        "Pour ajouter un élément \"elt\" à droite d'une liste L, on utilise la \"méthode\" L**.append(**elt**)**\n",
        "\n",
        "(Une méthode est une commande appliquée directement à un objet et qui en change le contenu sans qu'il soit nécessaire de procéder à une réaffectation.)\n",
        "\n"
      ]
    },
    {
      "cell_type": "markdown",
      "metadata": {
        "id": "djlPpL8n3ZQt"
      },
      "source": [
        "## **définition d'une liste par compréhension**\n",
        "\n",
        "Il s'agit d'un procédé un peu particulier qu'on ne  saurait ignorer, car il simplifie le code et sa lecture :\n"
      ]
    },
    {
      "cell_type": "code",
      "metadata": {
        "colab": {
          "base_uri": "https://localhost:8080/"
        },
        "id": "4NsPOzk73llh",
        "outputId": "150a682b-33c6-4276-be0e-5e692eece5c1"
      },
      "source": [
        "L = [k/10 for k in range(3,18,3)]\n",
        "L"
      ],
      "execution_count": null,
      "outputs": [
        {
          "output_type": "execute_result",
          "data": {
            "text/plain": [
              "[0.3, 0.6, 0.9, 1.2, 1.5]"
            ]
          },
          "metadata": {
            "tags": []
          },
          "execution_count": 38
        }
      ]
    },
    {
      "cell_type": "markdown",
      "metadata": {
        "id": "XaZsvtTJ4J6z"
      },
      "source": [
        "## **Exercice 1**\n",
        "\n",
        "1. Commenter le code ci-après.\n",
        "Que contiendront les variables liste_x et liste_y après son exécution ?"
      ]
    },
    {
      "cell_type": "code",
      "metadata": {
        "colab": {
          "base_uri": "https://localhost:8080/",
          "height": 265
        },
        "id": "vkAIN2FN3ro-",
        "outputId": "809eb992-d9a7-48a7-c77d-dcb8f1a175ba"
      },
      "source": [
        "import matplotlib.pyplot as plt\n",
        "\n",
        "def f(x):\n",
        "    return x ** 2 + x - 4\n",
        "\n",
        "liste_x = [0.1 * n for n in range(-30, 31)]\n",
        "liste_y = [f(x) for x in liste_x]\n",
        "\n",
        "plt.plot(liste_x, liste_y)\n",
        "plt.show()"
      ],
      "execution_count": null,
      "outputs": [
        {
          "output_type": "display_data",
          "data": {
            "image/png": "[encoded data removed]",
            "text/plain": [
              "<Figure size 432x288 with 1 Axes>"
            ]
          },
          "metadata": {
            "tags": [],
            "needs_background": "light"
          }
        }
      ]
    },
    {
      "cell_type": "code",
      "metadata": {
        "id": "rozNJ-vm1sDB"
      },
      "source": [
        "liste_x"
      ],
      "execution_count": null,
      "outputs": []
    },
    {
      "cell_type": "code",
      "metadata": {
        "id": "y-Gfp0D-4l96"
      },
      "source": [
        "liste_y"
      ],
      "execution_count": null,
      "outputs": []
    },
    {
      "cell_type": "markdown",
      "metadata": {
        "id": "uSPLOPwG4u1X"
      },
      "source": [
        "2. Commenter le code ci-après.\n",
        "Que contiendront les variables u et termes après son exécution ?"
      ]
    },
    {
      "cell_type": "code",
      "metadata": {
        "id": "0k7fzfLI486U"
      },
      "source": [
        "def suite(n, u0):\n",
        "    u = u0\n",
        "    termes = [u0]\n",
        "    for i in range(n):\n",
        "        u = f(u) # f est la fonction définie dans le programme ci-dessus\n",
        "        termes.append(u)\n",
        "    return u,termes\n",
        "\n",
        "u, termes = suite(4,0)"
      ],
      "execution_count": null,
      "outputs": []
    },
    {
      "cell_type": "code",
      "metadata": {
        "id": "yeP2d7H25X-l"
      },
      "source": [
        "u"
      ],
      "execution_count": null,
      "outputs": []
    },
    {
      "cell_type": "code",
      "metadata": {
        "id": "QFQ6PyMo5Y3q"
      },
      "source": [
        "termes"
      ],
      "execution_count": null,
      "outputs": []
    },
    {
      "cell_type": "markdown",
      "metadata": {
        "id": "Cj4oK-V861jw"
      },
      "source": [
        "## **Exercice 2**\n",
        "\n",
        "Écrire les commandes pour :\n",
        "1. Constituer la liste L, régulièrement espacée, des flottants compris entre 2 inclus et 6 exclu avec un pas de 0.25\n",
        "2. Constituer les sous-listes L1 et L2 de L, des valeurs respectivement inférieures et supérieures à une valeur entrée par l'utilisateur.\n",
        "3. Fabriquer la liste L3, obtenue en rangeant la liste L dans l'autre sens.\n",
        "4. Trouver dans L la valeur la plus proche de 3.3"
      ]
    },
    {
      "cell_type": "markdown",
      "metadata": {
        "id": "3T3Db6FQ9IKK"
      },
      "source": [
        "# **2. Travaux Pratiques : Algorithmes de tris**\n",
        "\n",
        "Ces algorithmes ne sont pas au programme d'ECG en tant que tels, mais sont l'occasion de pratiquer un peu les listes."
      ]
    },
    {
      "cell_type": "markdown",
      "metadata": {
        "id": "AukcW3bB_1fo"
      },
      "source": [
        "## **2.0 Une façon amusante de générer une liste d'entiers classée aléatoirement**\n",
        "\n",
        "(pas à connaître, mais pour la comprendre, décortiquer la ligne 6)\n",
        "\n"
      ]
    },
    {
      "cell_type": "code",
      "metadata": {
        "colab": {
          "base_uri": "https://localhost:8080/"
        },
        "id": "xXM64vqjAC6i",
        "outputId": "b27589d8-0497-402a-ba5c-8ebf63dae5fd"
      },
      "source": [
        "import numpy as np\n",
        "from numpy import random as rd\n",
        "\n",
        "def generer_liste_vrac(n) :\n",
        "    U = rd.random(9)\n",
        "    L = [sum(U<=U[k]) for k in range(len(U))]\n",
        "    return(L)\n",
        "\n",
        "L = generer_liste_vrac(9)\n",
        "L"
      ],
      "execution_count": null,
      "outputs": [
        {
          "output_type": "execute_result",
          "data": {
            "text/plain": [
              "[9, 2, 4, 8, 6, 3, 7, 5, 1]"
            ]
          },
          "metadata": {
            "tags": []
          },
          "execution_count": 91
        }
      ]
    },
    {
      "cell_type": "markdown",
      "metadata": {
        "id": "VT6swWbg9ZX5"
      },
      "source": [
        "## **2.1 Tri par sélection**\n",
        "\n",
        "Observer l'animation suivante :"
      ]
    },
    {
      "cell_type": "code",
      "metadata": {
        "colab": {
          "base_uri": "https://localhost:8080/",
          "height": 624
        },
        "id": "AjfVhWSc6d0i",
        "outputId": "136e002e-f698-468b-f4e1-56ec51370efe"
      },
      "source": [
        "%%html\n",
        "<iframe src=\"https://www.cahier-nsi.fr/tri_par_selection/\" width=\"900\" height=\"600\"></iframe>"
      ],
      "execution_count": null,
      "outputs": [
        {
          "output_type": "display_data",
          "data": {
            "text/html": [
              "<iframe src=\"https://www.cahier-nsi.fr/tri_par_selection/\" width=\"900\" height=\"600\"></iframe>"
            ],
            "text/plain": [
              "<IPython.core.display.HTML object>"
            ]
          },
          "metadata": {
            "tags": []
          }
        }
      ]
    },
    {
      "cell_type": "markdown",
      "metadata": {
        "id": "6iQRW5rVDoCw"
      },
      "source": [
        "Exprimer l'idée algorithmique.\n",
        "\n",
        "Implémenter le tri par sélection et le tester sur la liste L ci-dessus.\n",
        "\n",
        "Ajouter une variable chargée de compter toutes les comparaisons, et essayer de trouver un lien entre la taille de la liste à classer et l'ordre de grandeur de la valeur finale de ce compteur.\n",
        "\n",
        "Une explication ?"
      ]
    },
    {
      "cell_type": "markdown",
      "metadata": {
        "id": "ffoUwsAVEhzQ"
      },
      "source": [
        "## **2.2 Tri par insertion**\n",
        "\n",
        "Observer l'animation suivante :"
      ]
    },
    {
      "cell_type": "code",
      "metadata": {
        "colab": {
          "base_uri": "https://localhost:8080/",
          "height": 624
        },
        "id": "Yey-Mgjr_oP1",
        "outputId": "991a889c-42e7-4232-b47f-cab11bede5ee"
      },
      "source": [
        "%%html\n",
        "<iframe src=\"https://www.cahier-nsi.fr/tri_par_insertion/\" width=\"900\" height=\"600\"></iframe>"
      ],
      "execution_count": null,
      "outputs": [
        {
          "output_type": "display_data",
          "data": {
            "text/html": [
              "<iframe src=\"https://www.cahier-nsi.fr/tri_par_insertion/\" width=\"900\" height=\"600\"></iframe>"
            ],
            "text/plain": [
              "<IPython.core.display.HTML object>"
            ]
          },
          "metadata": {
            "tags": []
          }
        }
      ]
    },
    {
      "cell_type": "code",
      "metadata": {
        "colab": {
          "base_uri": "https://localhost:8080/"
        },
        "id": "aRAZ7fA4EvxX",
        "outputId": "f434da2c-3345-4d17-eeb2-c12c87a4a5e0"
      },
      "source": [
        "L = generer_liste_vrac(9)\n",
        "L"
      ],
      "execution_count": null,
      "outputs": [
        {
          "output_type": "execute_result",
          "data": {
            "text/plain": [
              "[7, 4, 1, 3, 2, 6, 5, 9, 8]"
            ]
          },
          "metadata": {
            "tags": []
          },
          "execution_count": 93
        }
      ]
    },
    {
      "cell_type": "markdown",
      "metadata": {
        "id": "BsYVXysFE47b"
      },
      "source": [
        "Exprimer l'idée algorithmique.\n",
        "\n",
        "Implémenter le tri par sélection et le tester sur la liste L ci-dessus.\n",
        "\n",
        "Ajouter une variable chargée de compter toutes les comparaisons, et essayer de trouver un lien entre la taille de la liste à classer et l'ordre de grandeur de la valeur finale de ce compteur.\n",
        "\n",
        "Une explication ?"
      ]
    },
    {
      "cell_type": "code",
      "metadata": {
        "id": "crmlWu4aE2SP"
      },
      "source": [],
      "execution_count": null,
      "outputs": []
    }
  ]
}