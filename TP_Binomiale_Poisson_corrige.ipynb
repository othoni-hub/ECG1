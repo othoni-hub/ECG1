{
  "nbformat": 4,
  "nbformat_minor": 0,
  "metadata": {
    "colab": {
      "name": "TP-Binomiale-Poisson-corrige.ipynb",
      "provenance": [],
      "authorship_tag": "ABX9TyNaRYR9FIfZ6YnezpH2pLR4",
      "include_colab_link": true
    },
    "kernelspec": {
      "name": "python3",
      "display_name": "Python 3"
    },
    "language_info": {
      "name": "python"
    }
  },
  "cells": [
    {
      "cell_type": "markdown",
      "metadata": {
        "id": "view-in-github",
        "colab_type": "text"
      },
      "source": [
        "<a href=\"https://colab.research.google.com/github/othoni-hub/ECG1/blob/main/TP_Binomiale_Poisson_corrige.ipynb\" target=\"_parent\"><img src=\"https://colab.research.google.com/assets/colab-badge.svg\" alt=\"Open In Colab\"/></a>"
      ]
    },
    {
      "cell_type": "markdown",
      "metadata": {
        "id": "W0ROyAnTWtK0"
      },
      "source": [
        "# **CPGE-ECG1** \n",
        "<img src=\"https://drive.google.com/uc?id=12Wo3LubGGT4qOvYFAuLP4CyCuwjKNVuk\" width=\"230\" height=\"150\" align = \"right\"/>\n",
        "\n",
        "## **Ch16 - Notebook : Lois Discrètes : Corrigé du TP \"Approximation d'une loi binomiale par une loi de Poisson\"**\n",
        "\n",
        "\n",
        "\n",
        "\n",
        "**O.Thöni - Lycée Saint-Charles Sainte Croix - LE MANS**"
      ]
    },
    {
      "cell_type": "markdown",
      "metadata": {
        "id": "9adO6Pv-XHGH"
      },
      "source": [
        "## **1. principe du premier algorithme : un tirage aléatoire selon la loi binomiale B(N,p)**\n",
        "\n",
        "On répète N tirages de Bernoulli, basés sur le principe : \"on tire un nombre au hasard entre 0 et 1, s'il est inférieur à p, c'est un succès\", et on comptabilise les succès\n",
        "\n",
        "## **2. Tableur**\n",
        "### **Formules**\n",
        "\n",
        " * Si X suit une loi B(n,p), $E(X) = np$ et $X(X) = npq$, où $q = 1-p$\n",
        "\n",
        " * Si Y suit une loi de Poisson de paramètre $\\lambda$, $E(Y) = \\lambda$ et $V(Y) = \\lambda$\n",
        "\n",
        "L'écart-type, racine carrée de la variance, permet de mesurer la dispersion d'une variable aléatoire autour de son espérance.\n",
        "\n",
        "### **Comparaison binomiale / Poisson**\n",
        "\n",
        "Si l'on veut comparer une loi binomiale et une loi de Poisson de même espérance, il faut que celle-ci ait pour paramètre : $\\lambda = n p$\n",
        "\n",
        "On constate que plus p est faible (p étant la probabilité de succès dans la loi binomiale), mieux la loi de Poisson de paramètre $\\lambda = n p$ a tendance a bien correspondre à a loi binomiale.\n",
        "Il en est de même dès que n est assez grand.\n",
        "\n",
        "C'est pour cela que la loi de Poisson est surnommée \"loi des événements rares\", car quand p est faible, on a de plus rares succès dans nos tirages de Bernoulli."
      ]
    },
    {
      "cell_type": "markdown",
      "metadata": {
        "id": "c2HwHKTfZr_G"
      },
      "source": [
        "## **3. Traitement dans Python**\n",
        "\n"
      ]
    },
    {
      "cell_type": "markdown",
      "metadata": {
        "id": "8jFq0Ne0auPG"
      },
      "source": [
        "### **Simuler une loi binomiale B(n,p)**\n",
        "\n",
        "On va utiliser la fonction \n",
        "\n",
        "        binomial(n,p,N) \n",
        "\n",
        "de *Numpy.random*"
      ]
    },
    {
      "cell_type": "code",
      "metadata": {
        "colab": {
          "base_uri": "https://localhost:8080/"
        },
        "id": "p0VGV5PJax1D",
        "outputId": "3c1b52a5-3d15-45bc-efce-bf8ec1fbbd33"
      },
      "source": [
        "import numpy.random as rd\n",
        "n=10\n",
        "p=0.7\n",
        "N = 20\n",
        "X = rd.binomial(n,p,N)\n",
        "X"
      ],
      "execution_count": 45,
      "outputs": [
        {
          "output_type": "execute_result",
          "data": {
            "text/plain": [
              "array([ 5,  7,  6,  8,  7,  7,  9,  8,  6,  7,  8,  8,  6,  8,  6,  8,  7,\n",
              "        6, 10, 10])"
            ]
          },
          "metadata": {
            "tags": []
          },
          "execution_count": 45
        }
      ]
    },
    {
      "cell_type": "code",
      "metadata": {
        "colab": {
          "base_uri": "https://localhost:8080/"
        },
        "id": "HtYa0URLbQv4",
        "outputId": "177420dc-b53f-4374-ddff-5d25330e5c69"
      },
      "source": [
        "# Univers-image\n",
        "X_Omega = [k for k in range(n+1)]   # en abscisses, l'univers image : [[0, n]] pour une loi binomiale\n",
        "                                    # défini ici par une liste par compréhension\n",
        "X_Omega"
      ],
      "execution_count": 46,
      "outputs": [
        {
          "output_type": "execute_result",
          "data": {
            "text/plain": [
              "[0, 1, 2, 3, 4, 5, 6, 7, 8, 9, 10]"
            ]
          },
          "metadata": {
            "tags": []
          },
          "execution_count": 46
        }
      ]
    },
    {
      "cell_type": "markdown",
      "metadata": {
        "id": "NZk1XTmTMKLr"
      },
      "source": [
        "### **Tabuler**\n",
        "\n",
        "Commençons par écrire une fonction qui va compter la fréquence d'apparitions (nombre d'apparitions / taille del'échantillon) de chaque valeurs dans l'échantillon obtenu plus haut..."
      ]
    },
    {
      "cell_type": "code",
      "metadata": {
        "id": "-lz7AS_4Jer1"
      },
      "source": [
        "def tabuler(X_Omega, echantillon):\n",
        "    '''Fonction qui reçoit l'univers-image et un échantillon expérimental\n",
        "    et calcule liste des fréquences d'apparition de chaque valeur dans l'échantillon'''\n",
        "\n",
        "    card = len(X_Omega)     #nombre de valeurs dans l'univers-image\n",
        "    frequences = [0]*card   # on crée une liste vide, prête à recevoir les fréquences\n",
        "\n",
        "    for k in echantillon :  # on passe en revue toutes les valeurs dans l'échantillon\n",
        "        if k <= X_Omega[-1]:    # pour certaines lois à univers infini, on prend cette précaution\n",
        "            frequences[k-X_Omega[0]] = frequences[k-X_Omega[0]] + 1/N\n",
        "                                # on augmente la fréquence de la valeur trouvée\n",
        "    \n",
        "    #print(frequences)\n",
        "    return(frequences)"
      ],
      "execution_count": 47,
      "outputs": []
    },
    {
      "cell_type": "code",
      "metadata": {
        "colab": {
          "base_uri": "https://localhost:8080/"
        },
        "id": "1X6T3L9gcFDc",
        "outputId": "d9d74b1f-5a94-4b92-e8fe-2390ee188c75"
      },
      "source": [
        "frequences = tabuler(X_Omega,X)\n",
        "frequences"
      ],
      "execution_count": 48,
      "outputs": [
        {
          "output_type": "execute_result",
          "data": {
            "text/plain": [
              "[0, 0, 0, 0, 0, 0.05, 0.25, 0.25, 0.3, 0.05, 0.1]"
            ]
          },
          "metadata": {
            "tags": []
          },
          "execution_count": 48
        }
      ]
    },
    {
      "cell_type": "markdown",
      "metadata": {
        "id": "Ksb8WNbEcb6V"
      },
      "source": [
        "### **Tracer**"
      ]
    },
    {
      "cell_type": "code",
      "metadata": {
        "id": "lB0GNONcM4zo"
      },
      "source": [
        "def diagramme_batons(X_Omega,tabule):\n",
        "    '''Fonction qui reçoit un univers-image et la liste tabulée des fréquences\n",
        "    et qui trace le diagramme en bâtons correspondant'''\n",
        "    \n",
        "    # tracer les diagrammes en bâtons\n",
        "    plt.grid(True)  # affichage de la grille\n",
        "    largeur = (X_Omega[-1] - X_Omega[0])/100    # on élargit un peu l'intervalle d'affichage, par souci d'esthétique\n",
        "\n",
        "    plt.bar(X_Omega, tabule, width = largeur, color = 'red', alpha = 1, label = 'Simulation')\n",
        "    # La commande bar, de matplotlib.pyplot est exigible dans le programme d'ECG\n",
        "    # mais rien n'est à retenir pour la mise en forme du graphique (axes, titres, etc.)\n",
        "\n",
        "    plt.xlabel('X_Omega')       # nom de l'axe des abscisses\n",
        "    plt.ylabel('Frequences')    # nom de l'axe des ordonnées\n",
        "    plt.legend()\n",
        "\n",
        "    ax = plt.gca()              # récupération du paramétrage des axes\n",
        "\n",
        "    ax.spines['left'].set_position('zero')      # positionnement de l'axe des ordonnées à x = 0\n",
        "    ax.spines['right'].set_color('none')\n",
        "    ax.spines['bottom'].set_position('zero')    # positionnement de l'axe des abscisses à y = 0\n",
        "    ax.spines['top'].set_color('none')"
      ],
      "execution_count": 49,
      "outputs": []
    },
    {
      "cell_type": "code",
      "metadata": {
        "colab": {
          "base_uri": "https://localhost:8080/",
          "height": 314
        },
        "id": "TB-sxqKYNHSo",
        "outputId": "b078b49d-d0ee-4753-ddc3-336e89805aa2"
      },
      "source": [
        "import matplotlib.pyplot as plt\n",
        "# diagramme en bâtons loi Binomiale\n",
        "\n",
        "# tabulation de la simulation\n",
        "frequences = tabuler(X_Omega,X)\n",
        "\n",
        "#représentation\n",
        "diagramme_batons(X_Omega, frequences)\n",
        "\n",
        "plt.title('Simulation de '+ str(N)+' tirages selon une loi B('+str(n)+' , '+ str(p)+')')"
      ],
      "execution_count": 50,
      "outputs": [
        {
          "output_type": "execute_result",
          "data": {
            "text/plain": [
              "Text(0.5, 1.0, 'Simulation de 20 tirages selon une loi B(10 , 0.7)')"
            ]
          },
          "metadata": {
            "tags": []
          },
          "execution_count": 50
        },
        {
          "output_type": "display_data",
          "data": {
            "image/png": "[encoded data removed]",
            "text/plain": [
              "<Figure size 432x288 with 1 Axes>"
            ]
          },
          "metadata": {
            "tags": [],
            "needs_background": "light"
          }
        }
      ]
    },
    {
      "cell_type": "markdown",
      "metadata": {
        "id": "J3fgJqINddvm"
      },
      "source": [
        "### **Loi de Poisson théorique**\n",
        "\n",
        "Rappelons que si Y suit une loi de Poisson de paramètre $\\lambda$, on a : \n",
        "$ X(\\Omega) = [[ 0, + \\infty[[$ et $\\forall k \\in X(\\Omega), P([X=k]) = \\dfrac{\\lambda ^k}{k!} e^{-\\lambda}$"
      ]
    },
    {
      "cell_type": "code",
      "metadata": {
        "id": "ccp2TiT4cuoi"
      },
      "source": [
        "def factorielle(k) :\n",
        "    f = 1\n",
        "    for i in range(1,k+1):\n",
        "        f = f*i\n",
        "    return f"
      ],
      "execution_count": 51,
      "outputs": []
    },
    {
      "cell_type": "code",
      "metadata": {
        "colab": {
          "base_uri": "https://localhost:8080/"
        },
        "id": "JGiXchucfIEv",
        "outputId": "43a890bc-8d22-4ab0-ae85-df0746d0939b"
      },
      "source": [
        "factorielle(5)"
      ],
      "execution_count": 52,
      "outputs": [
        {
          "output_type": "execute_result",
          "data": {
            "text/plain": [
              "120"
            ]
          },
          "metadata": {
            "tags": []
          },
          "execution_count": 52
        }
      ]
    },
    {
      "cell_type": "code",
      "metadata": {
        "id": "PJB05ZHwfJzZ"
      },
      "source": [
        "def proba_Poisson(lam,k) :\n",
        "    from math import exp\n",
        "    P = lam**k / factorielle(k) * exp(-lam)\n",
        "    return P"
      ],
      "execution_count": 53,
      "outputs": []
    },
    {
      "cell_type": "code",
      "metadata": {
        "colab": {
          "base_uri": "https://localhost:8080/"
        },
        "id": "L5pbsaptfm7h",
        "outputId": "c36b6fa9-14b3-4c58-b784-47763a5fa57e"
      },
      "source": [
        "proba_Poisson(1,1) # réponse attendue : 1/e"
      ],
      "execution_count": 54,
      "outputs": [
        {
          "output_type": "execute_result",
          "data": {
            "text/plain": [
              "0.36787944117144233"
            ]
          },
          "metadata": {
            "tags": []
          },
          "execution_count": 54
        }
      ]
    },
    {
      "cell_type": "markdown",
      "metadata": {
        "id": "ZmYbh14Hfwtd"
      },
      "source": [
        "**calcul de la loi de Y, limitée à $X(\\Omega)$**"
      ]
    },
    {
      "cell_type": "code",
      "metadata": {
        "colab": {
          "base_uri": "https://localhost:8080/"
        },
        "id": "5SJjkcwzfpha",
        "outputId": "9ef5965e-3c59-41a5-a173-a634a6868282"
      },
      "source": [
        "lamb = n*p\n",
        "loi = [proba_Poisson(lamb,k) for k in X_Omega]\n",
        "loi"
      ],
      "execution_count": 55,
      "outputs": [
        {
          "output_type": "execute_result",
          "data": {
            "text/plain": [
              "[0.0009118819655545162,\n",
              " 0.006383173758881614,\n",
              " 0.022341108156085646,\n",
              " 0.052129252364199845,\n",
              " 0.09122619163734973,\n",
              " 0.12771666829228961,\n",
              " 0.1490027796743379,\n",
              " 0.1490027796743379,\n",
              " 0.13037743221504566,\n",
              " 0.10140466950059106,\n",
              " 0.07098326865041375]"
            ]
          },
          "metadata": {
            "tags": []
          },
          "execution_count": 55
        }
      ]
    },
    {
      "cell_type": "markdown",
      "metadata": {
        "id": "M8w8m1u8gM2T"
      },
      "source": [
        "**reprise du graphique avec ajout de la loi de Poisson**"
      ]
    },
    {
      "cell_type": "code",
      "metadata": {
        "id": "ITfI0bnQgKml"
      },
      "source": [
        "def diagramme_batons(X_Omega,tabule,probabilites):\n",
        "    # tracer les diagrammes en bâtons\n",
        "    plt.grid(True)\n",
        "    largeur = (X_Omega[-1] - X_Omega[0])/100\n",
        "\n",
        "    \n",
        "    plt.bar(X_Omega, tabule, width = largeur, color = 'red', alpha = 1, label = 'Simulation de loi binomiale')\n",
        "    plt.bar(X_Omega, probabilites, width = 3*largeur, color = 'blue', alpha = 0.3, label = 'Loi de Poisson exacte')\n",
        "\n",
        "    plt.xlabel('X_Omega')\n",
        "    plt.ylabel('Frequences')\n",
        "    plt.legend()\n",
        "\n",
        "    ax = plt.gca() # récupération du paramétrage des axes\n",
        "\n",
        "    ax.spines['left'].set_position('zero') # positionnement de l'axe des ordonnées à x = 0\n",
        "    ax.spines['right'].set_color('none')\n",
        "    ax.spines['bottom'].set_position('zero') # positionnement de l'axe des abscisses à y = 0\n",
        "    ax.spines['top'].set_color('none')"
      ],
      "execution_count": 56,
      "outputs": []
    },
    {
      "cell_type": "code",
      "metadata": {
        "colab": {
          "base_uri": "https://localhost:8080/",
          "height": 314
        },
        "id": "Xq3k7Y6Wgbh0",
        "outputId": "172feaad-f61b-4b90-b402-2838ad054693"
      },
      "source": [
        "diagramme_batons(X_Omega, frequences, loi)\n",
        "\n",
        "plt.title('Simulation de '+ str(N)+' tirages selon une loi B('+str(n)+' , '+ str(p)+')')"
      ],
      "execution_count": 57,
      "outputs": [
        {
          "output_type": "execute_result",
          "data": {
            "text/plain": [
              "Text(0.5, 1.0, 'Simulation de 20 tirages selon une loi B(10 , 0.7)')"
            ]
          },
          "metadata": {
            "tags": []
          },
          "execution_count": 57
        },
        {
          "output_type": "display_data",
          "data": {
            "image/png": "[encoded data removed]",
            "text/plain": [
              "<Figure size 432x288 with 1 Axes>"
            ]
          },
          "metadata": {
            "tags": [],
            "needs_background": "light"
          }
        }
      ]
    },
    {
      "cell_type": "markdown",
      "metadata": {
        "id": "xbX0FNULgyxC"
      },
      "source": [
        "**essai avec p petit**\n"
      ]
    },
    {
      "cell_type": "code",
      "metadata": {
        "colab": {
          "base_uri": "https://localhost:8080/"
        },
        "id": "PMSpV3p_ggwA",
        "outputId": "52ee38db-6631-457c-9d26-796750bf3d2d"
      },
      "source": [
        "n=50\n",
        "p=0.05\n",
        "N = 20\n",
        "X = rd.binomial(n,p,N)\n",
        "X"
      ],
      "execution_count": 58,
      "outputs": [
        {
          "output_type": "execute_result",
          "data": {
            "text/plain": [
              "array([2, 2, 2, 1, 2, 5, 2, 3, 1, 5, 3, 3, 1, 1, 3, 2, 1, 2, 4, 3])"
            ]
          },
          "metadata": {
            "tags": []
          },
          "execution_count": 58
        }
      ]
    },
    {
      "cell_type": "code",
      "metadata": {
        "id": "cLyVEmj-hDak"
      },
      "source": [
        "# Univers-image\n",
        "X_Omega = [k for k in range(n+1)]   # en abscisses, l'univers image : [[0, n]] pour une loi binomiale\n",
        "                                    # défini ici par une liste par compréhension\n",
        "#X_Omega"
      ],
      "execution_count": 59,
      "outputs": []
    },
    {
      "cell_type": "code",
      "metadata": {
        "id": "wriqe71vhKtJ"
      },
      "source": [
        "frequences = tabuler(X_Omega,X)\n",
        "#frequences"
      ],
      "execution_count": 60,
      "outputs": []
    },
    {
      "cell_type": "code",
      "metadata": {
        "id": "Ruz9wgPRhSS2"
      },
      "source": [
        "lamb = n*p\n",
        "loi = [proba_Poisson(lamb,k) for k in X_Omega]\n",
        "#loi"
      ],
      "execution_count": 61,
      "outputs": []
    },
    {
      "cell_type": "code",
      "metadata": {
        "colab": {
          "base_uri": "https://localhost:8080/",
          "height": 314
        },
        "id": "CaFzeNNOhara",
        "outputId": "490f90e6-fada-486b-ebe5-e6343d7287e8"
      },
      "source": [
        "diagramme_batons(X_Omega, frequences, loi)\n",
        "\n",
        "plt.title('Simulation de '+ str(N)+' tirages selon une loi B('+str(n)+' , '+ str(p)+')')\n"
      ],
      "execution_count": 62,
      "outputs": [
        {
          "output_type": "execute_result",
          "data": {
            "text/plain": [
              "Text(0.5, 1.0, 'Simulation de 20 tirages selon une loi B(50 , 0.05)')"
            ]
          },
          "metadata": {
            "tags": []
          },
          "execution_count": 62
        },
        {
          "output_type": "display_data",
          "data": {
            "image/png": "[encoded data removed]",
            "text/plain": [
              "<Figure size 432x288 with 1 Axes>"
            ]
          },
          "metadata": {
            "tags": [],
            "needs_background": "light"
          }
        }
      ]
    },
    {
      "cell_type": "code",
      "metadata": {
        "id": "-xqUeTphhfhm"
      },
      "source": [
        ""
      ],
      "execution_count": null,
      "outputs": []
    }
  ]
}