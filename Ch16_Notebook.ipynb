{
  "nbformat": 4,
  "nbformat_minor": 0,
  "metadata": {
    "colab": {
      "name": "Ch16-Notebook.ipynb",
      "provenance": [],
      "collapsed_sections": [],
      "authorship_tag": "ABX9TyOKq71XdZd7naDW3iMnydhe",
      "include_colab_link": true
    },
    "kernelspec": {
      "name": "python3",
      "display_name": "Python 3"
    },
    "language_info": {
      "name": "python"
    }
  },
  "cells": [
    {
      "cell_type": "markdown",
      "metadata": {
        "id": "view-in-github",
        "colab_type": "text"
      },
      "source": [
        "<a href=\"https://colab.research.google.com/github/othoni-hub/ECG1/blob/main/Ch16_Notebook.ipynb\" target=\"_parent\"><img src=\"https://colab.research.google.com/assets/colab-badge.svg\" alt=\"Open In Colab\"/></a>"
      ]
    },
    {
      "cell_type": "markdown",
      "metadata": {
        "id": "5jOQXNkvLazN"
      },
      "source": [
        "# **CPGE-ECG1** \n",
        "<img src=\"https://drive.google.com/uc?id=12Wo3LubGGT4qOvYFAuLP4CyCuwjKNVuk\" width=\"230\" height=\"150\" align = \"right\"/>\n",
        "\n",
        "## **Ch16 - Notebook : Lois Discrètes**\n",
        "\n",
        "\n",
        "\n",
        "\n",
        "**O.Thöni - Lycée Saint-Charles Sainte Croix - LE MANS**"
      ]
    },
    {
      "cell_type": "markdown",
      "metadata": {
        "id": "TvFcGuAfkyEb"
      },
      "source": [
        "## **1. Simulation de la loi uniforme discrète**\n",
        "Simulation d'un grand nombre de tirages entiers uniformes sur [[a;b]]"
      ]
    },
    {
      "cell_type": "code",
      "metadata": {
        "id": "6Z9t0ho1lFY1"
      },
      "source": [
        "import numpy.random as rd\n",
        "import numpy as np\n",
        "from math import floor"
      ],
      "execution_count": 27,
      "outputs": []
    },
    {
      "cell_type": "markdown",
      "metadata": {
        "id": "zkrwOscvmdvV"
      },
      "source": [
        "**un tirage :**"
      ]
    },
    {
      "cell_type": "code",
      "metadata": {
        "id": "vY-rLRGYLXo2"
      },
      "source": [
        "def uniforme(a,b) :\n",
        "    n = b-a+1       # nombre de valeurs entre a et b, bornes incluses\n",
        "    x = rd.random() # tirage d'un nombre flottant entre 0 et 1\n",
        "    x = x*n         # obtention d'un nombre flottant aléatoire entre 0 et n\n",
        "    x = x+a         # obtention d'un nombre flottant aléatoire entre a et a+n = a+b-a+1=b+1 (b+1 exclu !)\n",
        "    x = floor(x)    # obtention d'un nombre entier aléatoire entre a et b inclus\n",
        "    return x"
      ],
      "execution_count": 28,
      "outputs": []
    },
    {
      "cell_type": "code",
      "metadata": {
        "colab": {
          "base_uri": "https://localhost:8080/"
        },
        "id": "JF7iPilCmLnO",
        "outputId": "d5d206b5-3e25-4b46-b4f9-0d89790811ca"
      },
      "source": [
        "a=2\n",
        "b=8\n",
        "uniforme(a,b)"
      ],
      "execution_count": 29,
      "outputs": [
        {
          "output_type": "execute_result",
          "data": {
            "text/plain": [
              "8"
            ]
          },
          "metadata": {
            "tags": []
          },
          "execution_count": 29
        }
      ]
    },
    {
      "cell_type": "markdown",
      "metadata": {
        "id": "nwjZa6YhmiCU"
      },
      "source": [
        "**N tirages**"
      ]
    },
    {
      "cell_type": "code",
      "metadata": {
        "id": "UzZV2d6ymkwb"
      },
      "source": [
        "def echantillon_uniforme(a,b,N) :\n",
        "    u = []\n",
        "    for i in range(N):\n",
        "        u = u + [uniforme(a,b)]\n",
        "    return u"
      ],
      "execution_count": 30,
      "outputs": []
    },
    {
      "cell_type": "code",
      "metadata": {
        "colab": {
          "base_uri": "https://localhost:8080/"
        },
        "id": "zNlp6YyMm9Zz",
        "outputId": "a2dc50a5-a628-440e-df27-454974de2ce8"
      },
      "source": [
        "N = 20\n",
        "echantillon_uniforme(a,b,N)"
      ],
      "execution_count": 31,
      "outputs": [
        {
          "output_type": "execute_result",
          "data": {
            "text/plain": [
              "[4, 6, 8, 4, 4, 8, 6, 3, 8, 8, 7, 3, 6, 7, 2, 2, 4, 5, 7, 2]"
            ]
          },
          "metadata": {
            "tags": []
          },
          "execution_count": 31
        }
      ]
    },
    {
      "cell_type": "markdown",
      "metadata": {
        "id": "w0b987NJnPPx"
      },
      "source": [
        "**Graphique**"
      ]
    },
    {
      "cell_type": "code",
      "metadata": {
        "id": "ZPbZk1pSnF4M"
      },
      "source": [
        "import matplotlib.pyplot as plt"
      ],
      "execution_count": 32,
      "outputs": []
    },
    {
      "cell_type": "code",
      "metadata": {
        "colab": {
          "base_uri": "https://localhost:8080/",
          "height": 281
        },
        "id": "CySsz0KvnVgh",
        "outputId": "71a90464-ee5c-4561-a18f-940d325f9822"
      },
      "source": [
        "N = 10000\n",
        "a=2\n",
        "b=8\n",
        "U = echantillon_uniforme(a,b,N)           # N tirages entiers uniformément sur [[a;b]]\n",
        "X_Omega = list(range(a,b+1))    # Univers \n",
        "\n",
        "Effectifs = np.array([len([x for x in U if x == i]) for i in X_Omega])  # tabulation des N tirages\n",
        "\n",
        "# diagramme en bâtons des effectifs\n",
        "plt.bar(X_Omega,Effectifs, width = 0.05, color = 'red')\n",
        "plt.title('répartition de '+str(N)+' tirages entiers aléatoires uniformément sur [['+str(a)+';'+str(b)+']]')\n",
        "plt.show()"
      ],
      "execution_count": 33,
      "outputs": [
        {
          "output_type": "display_data",
          "data": {
            "image/png": "[encoded data removed]",
            "text/plain": [
              "<Figure size 432x288 with 1 Axes>"
            ]
          },
          "metadata": {
            "tags": [],
            "needs_background": "light"
          }
        }
      ]
    },
    {
      "cell_type": "code",
      "metadata": {
        "id": "uh3UZM4ZnqQs"
      },
      "source": [
        ""
      ],
      "execution_count": null,
      "outputs": []
    },
    {
      "cell_type": "markdown",
      "metadata": {
        "id": "D9f_BFiT89q-"
      },
      "source": [
        "# ***Révisions du TP0***"
      ]
    },
    {
      "cell_type": "markdown",
      "metadata": {
        "id": "MZDtlY7i2Ou1"
      },
      "source": [
        "## **2. Simulation de la loi de Bernoulli**\n",
        "\n",
        "***(notions travaillées : import d'une bibliothèque, random())***\n"
      ]
    },
    {
      "cell_type": "code",
      "metadata": {
        "id": "ObH-0Gqy3Q0J"
      },
      "source": [
        "import numpy.random as rd"
      ],
      "execution_count": null,
      "outputs": []
    },
    {
      "cell_type": "markdown",
      "metadata": {
        "id": "y81E3f9b_2ta"
      },
      "source": [
        "* **Simulation d'un tirage de Bernoulli**\n",
        "\n",
        "Simuler un tirage de Bernoulli de probabilité p, c'est comme tirer au hasard une fléchette dans l'intervalle [0;1] : on met une marque à l'abscisse \"p\", si la fléchette atterrit à gauche de p, c'est un succès, sinon, c'est un échec :\n",
        "\n",
        "<img src=\"https://drive.google.com/uc?id=14cE2B4wbXHn9SpyDgVlCjG6NJuVFfq1h\" width=\"500\" height=\"200\" align = \"center\"/>\n",
        "\n",
        "Traduire cette idée dans une fonction d'en-tête :\n",
        "\n",
        "    def bernoulli(p) :\n",
        "\n",
        "qui reçoit en entrée la probabilité de succès p, et renvoie 1 si le tirage aléatoire est plus petit que p, 0 sinon."
      ]
    },
    {
      "cell_type": "code",
      "metadata": {
        "id": "c3I3j6n031-x"
      },
      "source": [
        "def bernoulli(p) : \n",
        "    flechette = rd.random()\n",
        "    if flechette < p :\n",
        "        b = 1\n",
        "    else :\n",
        "        b = 0\n",
        "    return b"
      ],
      "execution_count": null,
      "outputs": []
    },
    {
      "cell_type": "code",
      "metadata": {
        "colab": {
          "base_uri": "https://localhost:8080/"
        },
        "id": "gDuyEn4IBMax",
        "outputId": "50b334dc-24b7-4f2f-a308-c7aa0ceeea62"
      },
      "source": [
        "bernoulli(0.7)"
      ],
      "execution_count": null,
      "outputs": [
        {
          "output_type": "execute_result",
          "data": {
            "text/plain": [
              "0"
            ]
          },
          "metadata": {
            "tags": []
          },
          "execution_count": 21
        }
      ]
    },
    {
      "cell_type": "markdown",
      "metadata": {
        "id": "Vx-j4vomBWi9"
      },
      "source": [
        "Remarque : on aurait pu utiliser un raccourci, détaillons cela :"
      ]
    },
    {
      "cell_type": "code",
      "metadata": {
        "colab": {
          "base_uri": "https://localhost:8080/"
        },
        "id": "kpxjr7edBfXW",
        "outputId": "fbb45e0e-37eb-4c10-fb33-b8ffaa2a2fac"
      },
      "source": [
        "p = 0.7         # probabilité de succès\n",
        "r = rd.random() # tirage d'un nombre aléatoire selon la loi uniforme sur [0;1]\n",
        "b = (r < p)     # valeur booléenne : Vrai ou faux\n",
        "print(\"r = \", r)\n",
        "print(\"r < b : \", b)\n",
        "print(\"tirage de Bernoulli : \", b*1) # b*1 transforme la valeur booléenne en 1 pour Vrai (True) et 0 pour Faux (False)"
      ],
      "execution_count": null,
      "outputs": [
        {
          "output_type": "stream",
          "text": [
            "r =  0.40185397258011313\n",
            "r < b :  True\n",
            "tirage de Bernoulli :  1\n"
          ],
          "name": "stdout"
        }
      ]
    },
    {
      "cell_type": "markdown",
      "metadata": {
        "id": "l-KwN_M1Ckm7"
      },
      "source": [
        "ce qui donne, en une seule ligne (**à retenir**) :\n",
        "\n",
        "        (rd.random() < p )*1"
      ]
    },
    {
      "cell_type": "code",
      "metadata": {
        "colab": {
          "base_uri": "https://localhost:8080/"
        },
        "id": "9mtKel7ABP-O",
        "outputId": "9090242d-4dd3-4cf4-c008-0f936a6df42c"
      },
      "source": [
        "print(\"Voici un tirage de Bernoulli : \", (rd.random() < p )*1)"
      ],
      "execution_count": null,
      "outputs": [
        {
          "output_type": "stream",
          "text": [
            "Voici un tirage de Bernoulli :  1\n"
          ],
          "name": "stdout"
        }
      ]
    },
    {
      "cell_type": "markdown",
      "metadata": {
        "id": "GxNQpA1-C7Oq"
      },
      "source": [
        "... mais ce qui est plus facile à écrire est souvent moins facile à lire...\n",
        "\n",
        "Il faut trouver l'équilibre, et surtout, bien commenter ce genre de raccourcis."
      ]
    },
    {
      "cell_type": "markdown",
      "metadata": {
        "id": "2el7S13vEoTv"
      },
      "source": [
        "* **Échantillon de nombres aléatoires selon la loi de Bernoulli :**"
      ]
    },
    {
      "cell_type": "code",
      "metadata": {
        "colab": {
          "base_uri": "https://localhost:8080/"
        },
        "id": "zzoiFYoOFeNK",
        "outputId": "3cabc3b3-7c72-43c9-a909-c19f546f5176"
      },
      "source": [
        "p = 0.7 # probabilité de succès\n",
        "n = 100 # taille de l' échantillon\n",
        "\n",
        "echantillon = []        # on crée un eliste vide, qui va se rempli au fur et à mesue des tirages de Bernoulli\n",
        "# échantillon de B(p)\n",
        "for k in range(n) :     # n répétitions\n",
        "    b = bernoulli(p)    # on fait un tirage de Bernoulli, avec la fonction écrite plus haut\n",
        "    echantillon = echantillon + [b]     # on accole le nouveau résultat à droite de la liste déjà fabriquée\n",
        "\n",
        "print('Échantillon de',n, 'tirages selon la loi B(',p,')')\n",
        "print(echantillon)\n",
        "\n"
      ],
      "execution_count": null,
      "outputs": [
        {
          "output_type": "stream",
          "text": [
            "Échantillon de 100 tirages selon la loi B( 0.7 )\n",
            "[1, 1, 1, 0, 0, 1, 1, 1, 1, 1, 0, 1, 0, 0, 1, 1, 1, 1, 1, 1, 1, 1, 1, 1, 1, 1, 0, 0, 1, 0, 1, 1, 1, 1, 1, 0, 0, 1, 1, 1, 1, 0, 1, 1, 0, 1, 1, 1, 0, 1, 1, 1, 1, 1, 1, 1, 1, 0, 1, 1, 0, 1, 1, 0, 0, 0, 1, 0, 1, 0, 1, 1, 1, 0, 0, 1, 1, 0, 1, 1, 1, 1, 1, 1, 1, 1, 0, 1, 1, 1, 1, 0, 1, 1, 0, 0, 1, 1, 1, 0]\n"
          ],
          "name": "stdout"
        }
      ]
    },
    {
      "cell_type": "markdown",
      "metadata": {
        "id": "WFvkyonHGkSq"
      },
      "source": [
        " Calcul de la moyenne de l'échantillon, et comparaison avec l'espérance attendue :\n",
        " "
      ]
    },
    {
      "cell_type": "code",
      "metadata": {
        "colab": {
          "base_uri": "https://localhost:8080/"
        },
        "id": "Gp2EfSAwGr_e",
        "outputId": "89bf500a-3598-4436-8ff9-fe8932e2bcfa"
      },
      "source": [
        "S = sum(echantillon)\n",
        "\n",
        "print('Nombre de succès sur',n,'tirages de Bernoulli de probabilité',p,':',S)\n",
        "print(\"Moyenne de l'échantillon : \", S/n)\n",
        "print('Espérance théorique : ',p)"
      ],
      "execution_count": null,
      "outputs": [
        {
          "output_type": "stream",
          "text": [
            "Nombre de succès sur 100 tirages de Bernoulli de probabilité 0.7 : 72\n",
            "Moyenne de l'échantillon :  0.72\n",
            "Espérance théorique :  0.7\n"
          ],
          "name": "stdout"
        }
      ]
    },
    {
      "cell_type": "markdown",
      "metadata": {
        "id": "WNY6Kal0HRe0"
      },
      "source": [
        "---"
      ]
    },
    {
      "cell_type": "markdown",
      "metadata": {
        "id": "Ev81SzO2Dw36"
      },
      "source": [
        "## **3. Simulation de la loi binomiale**\n",
        "\n",
        "Que représente la loi binomiale ?\n",
        "\n",
        "### **3.1 Simulation d'un tirage aléatoire selon la loi binomiale**\n",
        "\n",
        "Simuler cela par une fonction d'en-tête :\n",
        "\n",
        "    def binomiale(n,p) :\n",
        "\n",
        "qui reçoit en entrée l'entier n, nombre de répétitions, et le *flottant* (*float* en anglais, décimal) p, probabilité de succès.\n",
        "\n",
        "*Indication : il suffit de reproduire les n tirages de Bernoulli que l'on a effectués ci-dessus et de totaliser le nombe de 1 obtenus (succès)*"
      ]
    },
    {
      "cell_type": "code",
      "metadata": {
        "id": "J8eIidsJC0op"
      },
      "source": [
        "def binomiale(n,p) :\n",
        "    '''Fonction qui reçoit en entrées un entier n et un flottant p\n",
        "    et qui renvoie un tirage aléatoire selon la loi binomiale de paramètres (n,p)'''\n",
        "    echantillon = []        # on crée une liste vide, qui va se remplir au fur et à mesure des tirages de Bernoulli\n",
        "    # échantillon de B(p)\n",
        "    for k in range(n) :     # n répétitions\n",
        "        b = bernoulli(p)    # on fait un tirage de Bernoulli, avec la fonction écrite plus haut\n",
        "        echantillon = echantillon + [b]     # on accole le nouveau résultat à droite de la liste déjà fabriquée\n",
        "\n",
        "    S = sum(echantillon)    # on comptabilise le nombre de succès, c'est un nombre aléatoire selon la loi B(n,p)\n",
        "    return S\n"
      ],
      "execution_count": null,
      "outputs": []
    },
    {
      "cell_type": "code",
      "metadata": {
        "colab": {
          "base_uri": "https://localhost:8080/"
        },
        "id": "h5vOWTH-Ij-3",
        "outputId": "f8ffcae5-daa1-4910-b2c6-6b6cd65ade90"
      },
      "source": [
        "binomiale(100,0.7)"
      ],
      "execution_count": null,
      "outputs": [
        {
          "output_type": "execute_result",
          "data": {
            "text/plain": [
              "72"
            ]
          },
          "metadata": {
            "tags": []
          },
          "execution_count": 27
        }
      ]
    },
    {
      "cell_type": "code",
      "metadata": {
        "id": "2-mEfuiCIn3H"
      },
      "source": [
        ""
      ],
      "execution_count": null,
      "outputs": []
    },
    {
      "cell_type": "markdown",
      "metadata": {
        "id": "XmNdLh45Jerq"
      },
      "source": [
        "### **3.2 Échantillon de nombres aléatoires selon la loi bibomiale :**"
      ]
    },
    {
      "cell_type": "code",
      "metadata": {
        "colab": {
          "base_uri": "https://localhost:8080/"
        },
        "id": "O0QF-q1oJerr",
        "outputId": "967be07f-a65a-42b3-8cce-e11fac75017e"
      },
      "source": [
        "p = 0.7 # probabilité de succès\n",
        "n = 100 # nombre de répétitions pour un tirage binomial\n",
        "N = 200 # taille de l'échantillon de nombres selon la loi binomiale\n",
        "\n",
        "echantillon = []            # on crée une liste vide, qui va se remplir au fur et à mesure des tirages binomiaux\n",
        "\n",
        "# échantillon de N tirages selon B(n,p)\n",
        "for k in range(N) :         # N tirages\n",
        "    b = binomiale(n,p)      # on fait un tirage binomial, avec la fonction écrite plus haut\n",
        "    echantillon = echantillon + [b]     # on accole le nouveau résultat à droite de la liste déjà fabriquée\n",
        "\n",
        "print('Échantillon de',N, 'tirages selon la loi B(', n, ',',p,')')\n",
        "print(echantillon)\n",
        "\n"
      ],
      "execution_count": null,
      "outputs": [
        {
          "output_type": "stream",
          "text": [
            "Échantillon de 200 tirages selon la loi B( 100 , 0.7 )\n",
            "[69, 68, 78, 73, 70, 76, 72, 67, 63, 76, 73, 60, 73, 72, 77, 70, 78, 67, 65, 67, 70, 77, 74, 71, 75, 74, 74, 74, 63, 71, 66, 77, 67, 72, 73, 75, 69, 69, 62, 65, 68, 71, 79, 65, 66, 72, 73, 76, 71, 70, 67, 72, 68, 68, 74, 70, 67, 75, 65, 70, 69, 63, 70, 76, 70, 68, 65, 77, 71, 74, 71, 69, 70, 68, 65, 72, 69, 78, 70, 68, 75, 69, 70, 71, 77, 62, 68, 69, 74, 64, 65, 77, 73, 72, 76, 75, 72, 74, 77, 62, 69, 71, 72, 68, 75, 72, 72, 69, 73, 69, 73, 63, 70, 65, 59, 63, 67, 75, 69, 69, 68, 66, 66, 76, 71, 72, 71, 72, 71, 74, 75, 70, 77, 65, 71, 73, 72, 71, 76, 71, 60, 69, 69, 67, 76, 76, 69, 74, 69, 72, 70, 74, 67, 68, 68, 69, 66, 71, 75, 64, 73, 71, 75, 63, 79, 69, 68, 66, 74, 62, 72, 62, 63, 64, 62, 75, 69, 72, 72, 67, 72, 64, 66, 75, 73, 72, 67, 67, 74, 71, 65, 67, 72, 69, 69, 69, 72, 65, 63, 64]\n"
          ],
          "name": "stdout"
        }
      ]
    },
    {
      "cell_type": "markdown",
      "metadata": {
        "id": "JwpZPIPgJerx"
      },
      "source": [
        " Calcul de la moyenne de l'échantillon, et comparaison avec l'espérance attendue :\n",
        " "
      ]
    },
    {
      "cell_type": "code",
      "metadata": {
        "colab": {
          "base_uri": "https://localhost:8080/"
        },
        "id": "XXHjiqi1Jerz",
        "outputId": "91958369-ccb5-4991-f533-b43c47fd8fb9"
      },
      "source": [
        "S = sum(echantillon)\n",
        "\n",
        "print('Nombre de succès sur',N,'tirages binomiaux B(',n,',',p,'):',S)\n",
        "print(\"Moyenne de l'échantillon : \", S/N)\n",
        "print('Espérance théorique : ',n*p)"
      ],
      "execution_count": null,
      "outputs": [
        {
          "output_type": "stream",
          "text": [
            "Nombre de succès sur 200 tirages binomiaux B( 100 , 0.7 ): 14022\n",
            "Moyenne de l'échantillon :  70.11\n",
            "Espérance théorique :  70.0\n"
          ],
          "name": "stdout"
        }
      ]
    },
    {
      "cell_type": "markdown",
      "metadata": {
        "id": "yXz2CBe1MC4f"
      },
      "source": [
        "### **3.3. Représentation graphique : diagrammes en bâtons**\n",
        "\n",
        "***(notions travaillées : import de la bibliothèque graphique, commande bar)***"
      ]
    },
    {
      "cell_type": "code",
      "metadata": {
        "id": "HrteiCeaNuF2"
      },
      "source": [
        "import matplotlib.pyplot as plt # import de la bibliothèque dédiée aux graphiques"
      ],
      "execution_count": null,
      "outputs": []
    },
    {
      "cell_type": "code",
      "metadata": {
        "id": "VTfUQDnxNGeP"
      },
      "source": [
        "# Univers-image\n",
        "X_Omega = [k for k in range(n+1)]   # en abscisses, l'univers image : [[0, n]] pour une loi binomiale\n",
        "                                    # défini ici par une liste par compréhension"
      ],
      "execution_count": null,
      "outputs": []
    },
    {
      "cell_type": "markdown",
      "metadata": {
        "id": "NZk1XTmTMKLr"
      },
      "source": [
        "### **Tabuler**\n",
        "\n",
        "Commençons par écrire une fonction qui va compter la fréquence d'apparitions (nombre d'apparitions / taille del'échantillon) de chaque valeurs dans l'échantillon obtenu plus haut..."
      ]
    },
    {
      "cell_type": "code",
      "metadata": {
        "id": "-lz7AS_4Jer1"
      },
      "source": [
        "def tabuler(X_Omega, echantillon):\n",
        "    '''Fonction qui reçoit l'univers-image et un échantillon expérimental\n",
        "    et calcule liste des fréquences d'apparition de chaque valeur dans l'échantillon'''\n",
        "\n",
        "    card = len(X_Omega)     #nombre de valeurs dans l'univers-image\n",
        "    frequences = [0]*card   # on crée une liste vide, prête à recevoir les fréquences\n",
        "\n",
        "    for k in echantillon :  # on passe en revue toutes les valeurs dans l'échantillon\n",
        "        if k <= X_Omega[-1]:    # pour certaines lois à univers infini, on prend cette précaution\n",
        "            frequences[k-X_Omega[0]] = frequences[k-X_Omega[0]] + 1/N\n",
        "                                # on augmente la fréquence de la valeur trouvée\n",
        "    \n",
        "    #print(frequences)\n",
        "    return(frequences)"
      ],
      "execution_count": null,
      "outputs": []
    },
    {
      "cell_type": "markdown",
      "metadata": {
        "id": "BUfXhfJVScAU"
      },
      "source": [
        "### **Tracer**"
      ]
    },
    {
      "cell_type": "code",
      "metadata": {
        "id": "lB0GNONcM4zo"
      },
      "source": [
        "def diagramme_batons(X_Omega,tabule):\n",
        "    '''Fonction qui reçoit un univers-image et la liste tabulée des fréquences\n",
        "    et qui trace le diagramme en bâtons correspondant'''\n",
        "\n",
        "    # tracer les diagrammes en bâtons\n",
        "    plt.grid(True)  # affichage de la grille\n",
        "    largeur = (X_Omega[-1] - X_Omega[0])/100    # on élargit un peu l'intervalle d'affichage, par souci d'esthétique\n",
        "\n",
        "    plt.bar(X_Omega, tabule, width = largeur, color = 'red', alpha = 1, label = 'Simulation')\n",
        "    # La commande bar, de matplotlib.pyplot est exigible dans le programme d'ECG\n",
        "    # mais rien n'est à retenir pour la mise en forme du graphique (axes, titres, etc.)\n",
        "\n",
        "    plt.xlabel('X_Omega')       # nom de l'axe des abscisses\n",
        "    plt.ylabel('Frequences')    # nom de l'axe des ordonnées\n",
        "    plt.legend()\n",
        "\n",
        "    ax = plt.gca()              # récupération du paramétrage des axes\n",
        "\n",
        "    ax.spines['left'].set_position('zero')      # positionnement de l'axe des ordonnées à x = 0\n",
        "    ax.spines['right'].set_color('none')\n",
        "    ax.spines['bottom'].set_position('zero')    # positionnement de l'axe des abscisses à y = 0\n",
        "    ax.spines['top'].set_color('none')"
      ],
      "execution_count": null,
      "outputs": []
    },
    {
      "cell_type": "code",
      "metadata": {
        "colab": {
          "base_uri": "https://localhost:8080/",
          "height": 314
        },
        "id": "TB-sxqKYNHSo",
        "outputId": "b6c40147-7bb2-4d49-fd5d-7de4c10daa97"
      },
      "source": [
        "# diagramme en bâtons loi Binomiale\n",
        "\n",
        "# tabulation de la simulation\n",
        "frequences = tabuler(X_Omega,echantillon)\n",
        "\n",
        "#représentation\n",
        "diagramme_batons(X_Omega, frequences)\n",
        "\n",
        "plt.title('Simulation de '+ str(N)+' tirages selon une loi B('+str(n)+' , '+ str(p)+')')"
      ],
      "execution_count": null,
      "outputs": [
        {
          "output_type": "execute_result",
          "data": {
            "text/plain": [
              "Text(0.5, 1.0, 'Simulation de 200 tirages selon une loi B(100 , 0.7)')"
            ]
          },
          "metadata": {
            "tags": []
          },
          "execution_count": 34
        },
        {
          "output_type": "display_data",
          "data": {
            "image/png": "[encoded data removed]",
            "text/plain": [
              "<Figure size 432x288 with 1 Axes>"
            ]
          },
          "metadata": {
            "tags": [],
            "needs_background": "light"
          }
        }
      ]
    },
    {
      "cell_type": "markdown",
      "metadata": {
        "id": "b2NYv9YGPKHE"
      },
      "source": [
        "### **3.4 Comparaison avec la loi théorique**\n",
        "\n",
        "Rappeler la définition de la **combinaison** \"k parmi n\" et son mode de calcul.\n",
        "\n",
        "Rappeler la probabilté P([X=k]) quand X suit une loi binomiale B(n,p)\n"
      ]
    },
    {
      "cell_type": "markdown",
      "metadata": {
        "id": "RmpT3oNLTNxP"
      },
      "source": [
        "*réponses :*\n",
        "* **combinaison** : $ \\binom{N}{k} = \\frac{N!}{k!(N - k)!} $ où N! désigne le produit de tous les entiers de 1 à N, appelé **\"factorielle\"** de N\n",
        "\n",
        "* **probabilité selon la loi binomiale** :\n",
        "\n",
        "    $ X(\\Omega) = [[O,n]] $\n",
        "\n",
        "    et pour tout k dans $ X(\\Omega), P([X=k]) = \\binom{N}{k} . p^k . (1-p)^{n-k} $"
      ]
    },
    {
      "cell_type": "code",
      "metadata": {
        "id": "SG_wnvYDU6h2"
      },
      "source": [
        "# loi théorique\n",
        "def factorielle(n):\n",
        "    f = 1\n",
        "    for k in range(1,n+1):\n",
        "        f = f * k\n",
        "    return f\n",
        "           \n",
        "def combinaison(k,n):\n",
        "    c = 1\n",
        "    for m in range(n,n-k,-1):\n",
        "        c = c * m\n",
        "    c = int(c / factorielle(k))\n",
        "    return c\n",
        "           \n",
        "           \n",
        "probabilites = [combinaison(k,n)*p**k*(1-p)**(n-k) for k in range(n+1)]"
      ],
      "execution_count": null,
      "outputs": []
    },
    {
      "cell_type": "markdown",
      "metadata": {
        "id": "EY-vGt6uU-wL"
      },
      "source": [
        "modification de la fonction d'affichage pour incorporer la loi théorique :"
      ]
    },
    {
      "cell_type": "code",
      "metadata": {
        "id": "keXx1WzNNbuU"
      },
      "source": [
        "def diagramme_batons(X_Omega,tabule,probabilites):\n",
        "    # tracer les diagrammes en bâtons\n",
        "    plt.grid(True)\n",
        "    largeur = (X_Omega[-1] - X_Omega[0])/100\n",
        "\n",
        "    \n",
        "    plt.bar(X_Omega, tabule, width = largeur, color = 'red', alpha = 1, label = 'Simulation')\n",
        "    plt.bar(X_Omega, probabilites, width = 3*largeur, color = 'blue', alpha = 0.3, label = 'Probabilites theoriques')\n",
        "\n",
        "    plt.xlabel('X_Omega')\n",
        "    plt.ylabel('Frequences')\n",
        "    plt.legend()\n",
        "\n",
        "    ax = plt.gca() # récupération du paramétrage des axes\n",
        "\n",
        "    ax.spines['left'].set_position('zero') # positionnement de l'axe des ordonnées à x = 0\n",
        "    ax.spines['right'].set_color('none')\n",
        "    ax.spines['bottom'].set_position('zero') # positionnement de l'axe des abscisses à y = 0\n",
        "    ax.spines['top'].set_color('none')"
      ],
      "execution_count": null,
      "outputs": []
    },
    {
      "cell_type": "code",
      "metadata": {
        "colab": {
          "base_uri": "https://localhost:8080/",
          "height": 314
        },
        "id": "SQfz-XyXVNJG",
        "outputId": "7d66bb7d-bf0f-4aaa-c5d7-1b40637798ee"
      },
      "source": [
        "diagramme_batons(X_Omega, frequences, probabilites)\n",
        "\n",
        "plt.title('Simulation de '+ str(N)+' tirages selon une loi B('+str(n)+' , '+ str(p)+')')"
      ],
      "execution_count": null,
      "outputs": [
        {
          "output_type": "execute_result",
          "data": {
            "text/plain": [
              "Text(0.5, 1.0, 'Simulation de 200 tirages selon une loi B(100 , 0.7)')"
            ]
          },
          "metadata": {
            "tags": []
          },
          "execution_count": 37
        },
        {
          "output_type": "display_data",
          "data": {
            "image/png": "[encoded data removed]",
            "text/plain": [
              "<Figure size 432x288 with 1 Axes>"
            ]
          },
          "metadata": {
            "tags": [],
            "needs_background": "light"
          }
        }
      ]
    },
    {
      "cell_type": "code",
      "metadata": {
        "id": "BSrUxOhZVVjV"
      },
      "source": [
        ""
      ],
      "execution_count": null,
      "outputs": []
    }
  ]
}