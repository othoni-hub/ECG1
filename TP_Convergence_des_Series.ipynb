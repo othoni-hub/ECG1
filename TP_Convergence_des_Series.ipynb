{
  "nbformat": 4,
  "nbformat_minor": 0,
  "metadata": {
    "kernelspec": {
      "display_name": "Python 3",
      "language": "python",
      "name": "python3"
    },
    "language_info": {
      "codemirror_mode": {
        "name": "ipython",
        "version": 3
      },
      "file_extension": ".py",
      "mimetype": "text/x-python",
      "name": "python",
      "nbconvert_exporter": "python",
      "pygments_lexer": "ipython3",
      "version": "3.7.1"
    },
    "colab": {
      "name": "TP_Convergence_des_Series.ipynb",
      "provenance": [],
      "include_colab_link": true
    }
  },
  "cells": [
    {
      "cell_type": "markdown",
      "metadata": {
        "id": "view-in-github",
        "colab_type": "text"
      },
      "source": [
        "<a href=\"https://colab.research.google.com/github/othoni-hub/ECG1/blob/main/TP_Convergence_des_Series.ipynb\" target=\"_parent\"><img src=\"https://colab.research.google.com/assets/colab-badge.svg\" alt=\"Open In Colab\"/></a>"
      ]
    },
    {
      "cell_type": "markdown",
      "metadata": {
        "id": "s1ifq3ZWDwrp"
      },
      "source": [
        "# **CPGE-ECG1** \n",
        "<img src=\"https://drive.google.com/uc?id=12Wo3LubGGT4qOvYFAuLP4CyCuwjKNVuk\" width=\"230\" height=\"150\" align = \"right\"/>\n",
        "\n",
        "## **Ch13 - Notebook : Séries Numériques**\n",
        "\n",
        "\n",
        "\n",
        "\n",
        "**O.Thöni - Lycée Saint-Charles Sainte Croix - LE MANS**"
      ]
    },
    {
      "cell_type": "code",
      "metadata": {
        "id": "_4S9Y8KYEtZy"
      },
      "source": [
        "from math import sqrt, log, pi, e\n",
        "\n",
        "import matplotlib.pyplot as plt\n",
        "import numpy as np"
      ],
      "execution_count": null,
      "outputs": []
    },
    {
      "cell_type": "markdown",
      "metadata": {
        "id": "Ak1hc9aOEtZ6"
      },
      "source": [
        "## 1. Suites et limites classiques\n",
        "\n",
        "### 1.1. Approximations de e \n",
        "\n",
        "**_1.1.a. Somme des inverses des factorielles des premiers entiers_**\n",
        "\n",
        "**<span style=\"color: #D17460\">1Spé - TSpé - TCompl : factorielle, approximation de e</span>**\n",
        "\n",
        "![...](https://drive.google.com/uc?id=1rjn-2giROsTOXDXKF2o9H-9NRpfosiZX)\n"
      ]
    },
    {
      "cell_type": "markdown",
      "metadata": {
        "id": "e7VqeL4LEtZ8"
      },
      "source": [
        "**<span style=\"color: #26B260\">Python : affectation, boucle *for*, instruction *print*</span>**"
      ]
    },
    {
      "cell_type": "code",
      "metadata": {
        "id": "LHXkeotxEtZ-",
        "colab": {
          "base_uri": "https://localhost:8080/",
          "height": 190
        },
        "outputId": "1a3d8b3f-c041-44e1-abd9-948739fbfb4b"
      },
      "source": [
        "facto = 1\n",
        "S = 1\n",
        "N = 10\n",
        "\n",
        "for k in range(1,N+1):\n",
        "    facto = facto * k\n",
        "    S = S + 1/facto\n",
        "    print('Après ',k,' itérations, on a pour valeur approchée de e : ', S)\n",
        "\n",
        "    "
      ],
      "execution_count": null,
      "outputs": [
        {
          "output_type": "stream",
          "text": [
            "Après  1  itérations, on a pour valeur approchée de e :  2.0\n",
            "Après  2  itérations, on a pour valeur approchée de e :  2.5\n",
            "Après  3  itérations, on a pour valeur approchée de e :  2.6666666666666665\n",
            "Après  4  itérations, on a pour valeur approchée de e :  2.708333333333333\n",
            "Après  5  itérations, on a pour valeur approchée de e :  2.7166666666666663\n",
            "Après  6  itérations, on a pour valeur approchée de e :  2.7180555555555554\n",
            "Après  7  itérations, on a pour valeur approchée de e :  2.7182539682539684\n",
            "Après  8  itérations, on a pour valeur approchée de e :  2.71827876984127\n",
            "Après  9  itérations, on a pour valeur approchée de e :  2.7182815255731922\n",
            "Après  10  itérations, on a pour valeur approchée de e :  2.7182818011463845\n"
          ],
          "name": "stdout"
        }
      ]
    },
    {
      "cell_type": "markdown",
      "metadata": {
        "id": "j6xjeLkWEtaI"
      },
      "source": [
        "**_... ou, sous forme de fonction :_**\n",
        "\n",
        "**<span style=\"color: #D17460\">1Spé - TSpé - TExp - TCompl </span>**\n",
        "\n",
        "\n",
        "**<span style=\"color: #26B260\">Python : fonction (définition et appel)</span>**"
      ]
    },
    {
      "cell_type": "code",
      "metadata": {
        "id": "3_Y0Aez0EtaK"
      },
      "source": [
        "def serie_exponentielle(N,x):\n",
        "    facto = 1\n",
        "    puiss_x = 1\n",
        "    S = 1\n",
        "    \n",
        "    for k in range(1,N+1):\n",
        "        facto = facto * k\n",
        "        puiss_x = puiss_x * x\n",
        "        S = S + puiss_x/facto\n",
        "    return S"
      ],
      "execution_count": null,
      "outputs": []
    },
    {
      "cell_type": "code",
      "metadata": {
        "id": "W1jX7bZ0EtaQ",
        "colab": {
          "base_uri": "https://localhost:8080/",
          "height": 34
        },
        "outputId": "9d41de12-6464-448e-ea85-de33280d16af"
      },
      "source": [
        "serie_exponentielle(20,1)"
      ],
      "execution_count": null,
      "outputs": [
        {
          "output_type": "execute_result",
          "data": {
            "text/plain": [
              "2.7182818284590455"
            ]
          },
          "metadata": {
            "tags": []
          },
          "execution_count": 2
        }
      ]
    },
    {
      "cell_type": "markdown",
      "metadata": {
        "id": "ZDDiG4WAEtaU"
      },
      "source": [
        "**_Représentation graphique_**\n",
        "\n",
        "**<span style=\"color: #26B260\">Python : liste, représentation graphique avec matplotlib.pyplot</span>**"
      ]
    },
    {
      "cell_type": "code",
      "metadata": {
        "id": "bRmahhuxEtaV",
        "colab": {
          "base_uri": "https://localhost:8080/",
          "height": 283
        },
        "outputId": "040e2c8d-a826-4182-849f-6d295b0b7c5e"
      },
      "source": [
        "x = range(11) # liste des entiers de 0 à 10\n",
        "y = [] # création d'une liste vide\n",
        "for k in x :  # pour tout k dans la liste x\n",
        "    y.append(serie_exponentielle(k,1)) # on ajoute une valeur au bout de la liste y\n",
        "    \n",
        "    plt.plot(x[k],y[k],'r',marker = \"+\") # affiche le point de coordonnées données dans une fenêtre graphique sous forme d'une croix rouge\n",
        "#print(y)\n",
        "\n",
        "plt.plot([0,12],[e,e],'k',linewidth=1, linestyle = ':') # trace une ligne en pointillés entre les points (0,e) et (11,e)\n",
        "\n",
        "plt.xlabel('n') # titre sur l'axe des abscisses\n",
        "plt.ylabel('S n') # titre sur l'axe des ordonnées\n",
        "plt.axis([0,11,0,3]) # dimensions, en unités graphiques, de la fenêtre graphique\n",
        "plt.show()"
      ],
      "execution_count": null,
      "outputs": [
        {
          "output_type": "display_data",
          "data": {
            "image/png": "[encoded data removed]",
            "text/plain": [
              "<Figure size 432x288 with 1 Axes>"
            ]
          },
          "metadata": {
            "tags": []
          }
        }
      ]
    },
    {
      "cell_type": "markdown",
      "metadata": {
        "id": "_c3kvo8BEtbl"
      },
      "source": [
        "### 1.2 Convergences vers $\\pi$ : sommes de séries ###"
      ]
    },
    {
      "cell_type": "markdown",
      "metadata": {
        "id": "Rx8UnKh2Etbm"
      },
      "source": [
        "D'archimède à Ramanujan, nombreux sont les mathématiciens qui y sont allés de leur petite formule de calcul approché de $\\pi$.\n",
        "\n",
        "On en trouvera quelques unes ici : http://www.pi314.net/sitepdf/methana.PDF \n"
      ]
    },
    {
      "cell_type": "markdown",
      "metadata": {
        "id": "gI0lye-XEtbn"
      },
      "source": [
        "**_1.2.a. La plus simple, celle d'Euler (1707-1783), somme des inverses des carrés des entiers_**\n",
        "\n",
        "**<span style=\"color: #D17460\">1Spé : notion de limite</span>**\n",
        "\n",
        "\n",
        "On sait que cette somme converge vers $ \\frac{\\pi^2}{6}$ "
      ]
    },
    {
      "cell_type": "code",
      "metadata": {
        "id": "hHNDFxfFEtbo",
        "colab": {
          "base_uri": "https://localhost:8080/"
        },
        "outputId": "129059dd-8138-40b7-eb9f-7cec088ed760"
      },
      "source": [
        "from math import *\n",
        "\n",
        "N = 20\n",
        "S = 0\n",
        "\n",
        "for k in range(1,N+1):\n",
        "    S = S + 1/k**2\n",
        "    print('Après ',k,'itérations, on a pour valeur approchée de Pi : ', sqrt(6*S))\n",
        "    \n"
      ],
      "execution_count": null,
      "outputs": [
        {
          "output_type": "stream",
          "text": [
            "Après  1 itérations, on a pour valeur approchée de Pi :  2.449489742783178\n",
            "Après  2 itérations, on a pour valeur approchée de Pi :  2.7386127875258306\n",
            "Après  3 itérations, on a pour valeur approchée de Pi :  2.8577380332470415\n",
            "Après  4 itérations, on a pour valeur approchée de Pi :  2.9226129861250305\n",
            "Après  5 itérations, on a pour valeur approchée de Pi :  2.9633877010385707\n",
            "Après  6 itérations, on a pour valeur approchée de Pi :  2.9913764947484185\n",
            "Après  7 itérations, on a pour valeur approchée de Pi :  3.011773947846214\n",
            "Après  8 itérations, on a pour valeur approchée de Pi :  3.027297856657843\n",
            "Après  9 itérations, on a pour valeur approchée de Pi :  3.0395075895610533\n",
            "Après  10 itérations, on a pour valeur approchée de Pi :  3.04936163598207\n",
            "Après  11 itérations, on a pour valeur approchée de Pi :  3.0574815067075627\n",
            "Après  12 itérations, on a pour valeur approchée de Pi :  3.064287817833928\n",
            "Après  13 itérations, on a pour valeur approchée de Pi :  3.0700753718932203\n",
            "Après  14 itérations, on a pour valeur approchée de Pi :  3.0750569155713614\n",
            "Après  15 itérations, on a pour valeur approchée de Pi :  3.079389826032086\n",
            "Après  16 itérations, on a pour valeur approchée de Pi :  3.0831930203394537\n",
            "Après  17 itérations, on a pour valeur approchée de Pi :  3.086558025753714\n",
            "Après  18 itérations, on a pour valeur approchée de Pi :  3.089556434969781\n",
            "Après  19 itérations, on a pour valeur approchée de Pi :  3.092245052300697\n",
            "Après  20 itérations, on a pour valeur approchée de Pi :  3.094669524113704\n"
          ],
          "name": "stdout"
        }
      ]
    },
    {
      "cell_type": "markdown",
      "metadata": {
        "id": "7fms-gh7Etbr"
      },
      "source": [
        "... vitesse de convergence : lento ma sano..."
      ]
    },
    {
      "cell_type": "markdown",
      "metadata": {
        "id": "07CJEhnqEtbs"
      },
      "source": [
        "**_1.2.b. Formule de Leibnitz : record de lenteur_**\n",
        "\n",
        "$$\\frac{\\pi}{4} =  1-{1\\over 3}+{1\\over 5}-{1\\over 7}+{1\\over 9}-{1\\over 11}+{1\\over 13}-\\cdots = {\\displaystyle \\sum_{k=0}^n \\dfrac{(-1)^k}{2k+1}} $$"
      ]
    },
    {
      "cell_type": "code",
      "metadata": {
        "id": "de8-t9CbEtbx"
      },
      "source": [
        "def S(n):\n",
        "    S = 0\n",
        "    puiss_moins1 = -1\n",
        "    for k in range(n):\n",
        "        puiss_moins1 = puiss_moins1 * (-1)\n",
        "        S = S + puiss_moins1/(2*k+1)\n",
        "    return S\n",
        "  "
      ],
      "execution_count": null,
      "outputs": []
    },
    {
      "cell_type": "code",
      "metadata": {
        "id": "ZBEj-8aKEtb0",
        "colab": {
          "base_uri": "https://localhost:8080/"
        },
        "outputId": "d81cbe13-52e2-4978-ccae-42b5c5151253"
      },
      "source": [
        "4*S(1000)"
      ],
      "execution_count": null,
      "outputs": [
        {
          "output_type": "execute_result",
          "data": {
            "text/plain": [
              "3.140592653839794"
            ]
          },
          "metadata": {
            "tags": []
          },
          "execution_count": 35
        }
      ]
    },
    {
      "cell_type": "code",
      "metadata": {
        "id": "P5LFEu7EEtb2",
        "colab": {
          "base_uri": "https://localhost:8080/"
        },
        "outputId": "a16e96e2-1aa0-42da-9582-59036d48a079"
      },
      "source": [
        "4*S(1000000)"
      ],
      "execution_count": null,
      "outputs": [
        {
          "output_type": "execute_result",
          "data": {
            "text/plain": [
              "3.1415916535897743"
            ]
          },
          "metadata": {
            "tags": []
          },
          "execution_count": 36
        }
      ]
    },
    {
      "cell_type": "markdown",
      "metadata": {
        "id": "pB7fGVloEtb6"
      },
      "source": [
        "**_1.2.c. La formule d'Archimède (-287,-212)_**\n",
        "\n",
        "**<span style=\"color: #D17460\">1Spé : (trigo) approximation de Pi par la méthode d'Archimède </span>**\n",
        "\n",
        "\n",
        "Obtenue par Archimède, de tête bien entendu..., en encadrant un cercle de diamètre 1 (donc de rayon $\\frac{1}{2}$) par des polygones à 3, 6, 12, 24, 48 et 96 côtés, formule généralisée aux polygones à 3x2<sup>n</sup> côtés...\n",
        "\n",
        "Pour de plus amples informations, voir ici : http://serge.mehl.free.fr/anx/Aire_Cercle.html (démonstration à partir de triangles semblables, au passage d'une étape à la suivante)\n",
        "\n",
        "![...](https://drive.google.com/uc?id=1vfFL6WpeKOEafxD-iwSHV_5scEbr3hIf)"
      ]
    },
    {
      "cell_type": "code",
      "metadata": {
        "id": "EmeLyJyYEtb7",
        "colab": {
          "base_uri": "https://localhost:8080/",
          "height": 190
        },
        "outputId": "bcf64051-2768-4b90-81e9-088b9d541bdc"
      },
      "source": [
        "from math import sqrt, log\n",
        "b = sqrt(3)/4 # bras (apothème)\n",
        "c = 1/2 # côté\n",
        "p = 6*c # périmètre intérieur\n",
        "P = p/(2*b) # périmètre extérieur\n",
        "print('Avec des polygones à 6 côtés, on a : ',p , ' < pi < ',P)\n",
        "N = 10\n",
        "\n",
        "for k in range (2,N+1):\n",
        "    b = sqrt(b/4 + 1/8)\n",
        "    p = p/(2*b)\n",
        "    P = 1/(2*b)*p\n",
        "    print('Avec des polygones à ',3*2**k,' côtés, on a : ',p , ' < pi < ',P,'  soit une précision de 10^',round(log(P-p)/log(10)) )\n",
        "    \n",
        "    "
      ],
      "execution_count": null,
      "outputs": [
        {
          "output_type": "stream",
          "text": [
            "Avec des polygones à 6 côtés, on a :  3.0  < pi <  3.464101615137755\n",
            "Avec des polygones à  12  côtés, on a :  3.105828541230249  < pi <  3.215390309173472   soit une précision de 10^ -1\n",
            "Avec des polygones à  24  côtés, on a :  3.132628613281238  < pi <  3.159659942097501   soit une précision de 10^ -2\n",
            "Avec des polygones à  48  côtés, on a :  3.139350203046867  < pi <  3.146086215131435   soit une précision de 10^ -2\n",
            "Avec des polygones à  96  côtés, on a :  3.1410319508905093  < pi <  3.1427145996453683   soit une précision de 10^ -3\n",
            "Avec des polygones à  192  côtés, on a :  3.1414524722854615  < pi <  3.1418730499798233   soit une précision de 10^ -3\n",
            "Avec des polygones à  384  côtés, on a :  3.141557607911857  < pi <  3.1416627470568477   soit une précision de 10^ -4\n",
            "Avec des polygones à  768  côtés, on a :  3.141583892148318  < pi <  3.141610176604689   soit une précision de 10^ -5\n",
            "Avec des polygones à  1536  côtés, on a :  3.14159046322805  < pi <  3.141597034321526   soit une précision de 10^ -5\n",
            "Avec des polygones à  3072  côtés, on a :  3.1415921059992713  < pi <  3.1415937487713514   soit une précision de 10^ -6\n"
          ],
          "name": "stdout"
        }
      ]
    },
    {
      "cell_type": "markdown",
      "metadata": {
        "id": "GwG56J9CEtb-"
      },
      "source": [
        "**_1.2.d. Une somme beaucoup plus rapide : la formule de John Machin (1680-1751)_**\n",
        "$$S_n=4\\displaystyle \\sum_{k=0}^{n} \\dfrac{(-1)^k}{2k+1} \\left( 4\\dfrac{1}{5^{2k+1}}-\\dfrac{1}{{239}^{2k+1}}\\right)$$"
      ]
    },
    {
      "cell_type": "code",
      "metadata": {
        "id": "8fy7CE1hEtb_",
        "colab": {
          "base_uri": "https://localhost:8080/"
        },
        "outputId": "1d97f4e6-275d-4462-c43d-3e0ff1a26d2d"
      },
      "source": [
        "from math import *\n",
        "\n",
        "S = 0\n",
        "N = 10\n",
        "puiss_moins1 = -1\n",
        "puiss_5 = 1/5\n",
        "puiss_239 = 1/239\n",
        "for k in range(N+1):\n",
        "    puiss_moins1 = puiss_moins1 * (-1)\n",
        "    puiss_5 = puiss_5 * 5*5\n",
        "    puiss_239 = puiss_239 * 239 * 239\n",
        "    S = S + puiss_moins1/(2*k+1)*(4/puiss_5 - 1/puiss_239)\n",
        "    print('Après ',k,' itérations, on a pour valeur approchée de Pi : ', 4*S, '   précision 10^',round(log(abs(4*S - pi))/log(10)))\n",
        "\n"
      ],
      "execution_count": null,
      "outputs": [
        {
          "output_type": "stream",
          "text": [
            "Après  0  itérations, on a pour valeur approchée de Pi :  3.18326359832636    précision 10^ -1\n",
            "Après  1  itérations, on a pour valeur approchée de Pi :  3.1405970293260608    précision 10^ -3\n",
            "Après  2  itérations, on a pour valeur approchée de Pi :  3.141621029325035    précision 10^ -5\n",
            "Après  3  itérations, on a pour valeur approchée de Pi :  3.1415917721821778    précision 10^ -6\n",
            "Après  4  itérations, on a pour valeur approchée de Pi :  3.1415926824044    précision 10^ -8\n",
            "Après  5  itérations, on a pour valeur approchée de Pi :  3.141592652615309    précision 10^ -9\n",
            "Après  6  itérations, on a pour valeur approchée de Pi :  3.1415926536235554    précision 10^ -10\n",
            "Après  7  itérations, on a pour valeur approchée de Pi :  3.141592653588603    précision 10^ -12\n",
            "Après  8  itérations, on a pour valeur approchée de Pi :  3.1415926535898366    précision 10^ -13\n",
            "Après  9  itérations, on a pour valeur approchée de Pi :  3.1415926535897927    précision 10^ -15\n",
            "Après  10  itérations, on a pour valeur approchée de Pi :  3.1415926535897944    précision 10^ -15\n"
          ],
          "name": "stdout"
        }
      ]
    },
    {
      "cell_type": "markdown",
      "metadata": {
        "id": "-WeMgssvEtcC"
      },
      "source": [
        "**_1.2.e. La formule de Brouncker (1620-1684) : décomposition en fraction continue_**\n",
        "\n",
        "![...](https://drive.google.com/uc?id=1GjiTAn_kbPovmPHo80hbHW1GLijjz4UR)\n",
        "\n",
        "Le problème est qu'il faudrait connaître le dernier terme (celui des points de suspension) pour pouvoir, littéralement, remonter au premier.\n",
        "\n",
        "Heureusement, Brouncker a démontré que, pour n \"assez grand\", u<sub>n</sub> était environ égal à 2n+1, ainsi, en remplaçant, on est en mesure de calculer une valeur approchée de $\\pi$  (voir ici : http://serge.mehl.free.fr/anx/pi_brouncker.html)\n"
      ]
    },
    {
      "cell_type": "code",
      "metadata": {
        "id": "612IlfTwEtcD"
      },
      "source": [
        "def brouncker(nmax):\n",
        "    u = 2*nmax + 1\n",
        "    for n in range(nmax,0,-1):\n",
        "        u = (2*n+1)**2/(2+u)\n",
        "    u = 1 / (2+u)\n",
        "    va_pi = 4/(1+u)\n",
        "    return va_pi\n"
      ],
      "execution_count": null,
      "outputs": []
    },
    {
      "cell_type": "code",
      "metadata": {
        "id": "i5bUTpOXEtcG",
        "colab": {
          "base_uri": "https://localhost:8080/"
        },
        "outputId": "ac1a77c4-0ba8-48d3-f3ff-4f46116f9b96"
      },
      "source": [
        "brouncker(10)"
      ],
      "execution_count": null,
      "outputs": [
        {
          "output_type": "execute_result",
          "data": {
            "text/plain": [
              "3.1414067184965018"
            ]
          },
          "metadata": {
            "tags": []
          },
          "execution_count": 40
        }
      ]
    },
    {
      "cell_type": "code",
      "metadata": {
        "id": "ouWLAUYeEtcJ",
        "colab": {
          "base_uri": "https://localhost:8080/"
        },
        "outputId": "90afa4e1-9199-455d-be39-332f3efaa112"
      },
      "source": [
        "brouncker(100)"
      ],
      "execution_count": null,
      "outputs": [
        {
          "output_type": "execute_result",
          "data": {
            "text/plain": [
              "3.1415924109719806"
            ]
          },
          "metadata": {
            "tags": []
          },
          "execution_count": 41
        }
      ]
    },
    {
      "cell_type": "code",
      "metadata": {
        "id": "Yn54Jz_oEtcO",
        "colab": {
          "base_uri": "https://localhost:8080/"
        },
        "outputId": "205a387c-cf42-4424-bc15-d38f91354888"
      },
      "source": [
        "brouncker(1000)"
      ],
      "execution_count": null,
      "outputs": [
        {
          "output_type": "execute_result",
          "data": {
            "text/plain": [
              "3.141592653340542"
            ]
          },
          "metadata": {
            "tags": []
          },
          "execution_count": 42
        }
      ]
    },
    {
      "cell_type": "code",
      "metadata": {
        "id": "FmwCKYxiEtcT",
        "colab": {
          "base_uri": "https://localhost:8080/"
        },
        "outputId": "aab4856f-9228-4fb3-feeb-cd1dd865dc30"
      },
      "source": [
        "brouncker(10000)"
      ],
      "execution_count": null,
      "outputs": [
        {
          "output_type": "execute_result",
          "data": {
            "text/plain": [
              "3.141592653589543"
            ]
          },
          "metadata": {
            "tags": []
          },
          "execution_count": 43
        }
      ]
    },
    {
      "cell_type": "markdown",
      "metadata": {
        "id": "OQFZ5VVxEtca"
      },
      "source": [
        "**_1.2.f. Et un petit produit dû à Wallis (1616-1703)_**\n",
        "\n",
        "![...](https://drive.google.com/uc?id=1lMHGGLmn6uvZJJJTS2E4zMd8_hAdSvgs)\n",
        "(pas très rapide, mais bon... on a vu pire...)"
      ]
    },
    {
      "cell_type": "code",
      "metadata": {
        "id": "eka3ZuZ_Etca",
        "colab": {
          "base_uri": "https://localhost:8080/"
        },
        "outputId": "38e73e06-707e-487e-b345-799a5642cec2"
      },
      "source": [
        "P = 1\n",
        "N = 20\n",
        "for n in range(1,N+1):\n",
        "    P = P*(1 + 1/(4*n**2 - 1))\n",
        "    print('Itération n°',n,' : ',2*P)\n"
      ],
      "execution_count": null,
      "outputs": [
        {
          "output_type": "stream",
          "text": [
            "Itération n° 1  :  2.6666666666666665\n",
            "Itération n° 2  :  2.844444444444444\n",
            "Itération n° 3  :  2.9257142857142853\n",
            "Itération n° 4  :  2.972154195011337\n",
            "Itération n° 5  :  3.0021759545569062\n",
            "Itération n° 6  :  3.0231701920013605\n",
            "Itération n° 7  :  3.038673628883419\n",
            "Itération n° 8  :  3.0505899960555105\n",
            "Itération n° 9  :  3.06003454712689\n",
            "Itération n° 10  :  3.0677038066434985\n",
            "Itération n° 11  :  3.074055160280442\n",
            "Itération n° 12  :  3.0794013431678864\n",
            "Itération n° 13  :  3.083963419231839\n",
            "Itération n° 14  :  3.087902069831113\n",
            "Itération n° 15  :  3.09133688859622\n",
            "Itération n° 16  :  3.0943587232869296\n",
            "Itération n° 17  :  3.09703782174865\n",
            "Itération n° 18  :  3.0994293567461395\n",
            "Itération n° 19  :  3.101577263438271\n",
            "Itération n° 20  :  3.103516961539233\n"
          ],
          "name": "stdout"
        }
      ]
    },
    {
      "cell_type": "code",
      "metadata": {
        "id": "1kgLXXULEtcf"
      },
      "source": [
        "def wallis(N):\n",
        "    P = 1\n",
        "    for n in range(1,N+1):\n",
        "        P = P*(1 + 1/(4*n**2 - 1))\n",
        "    return 2*P\n"
      ],
      "execution_count": null,
      "outputs": []
    },
    {
      "cell_type": "code",
      "metadata": {
        "id": "4l7mIOX2Etci",
        "colab": {
          "base_uri": "https://localhost:8080/"
        },
        "outputId": "d4eaed4e-a182-4f2c-9633-977296e31e1c"
      },
      "source": [
        "wallis(1000)"
      ],
      "execution_count": null,
      "outputs": [
        {
          "output_type": "execute_result",
          "data": {
            "text/plain": [
              "3.140807746030402"
            ]
          },
          "metadata": {
            "tags": []
          },
          "execution_count": 47
        }
      ]
    },
    {
      "cell_type": "code",
      "metadata": {
        "id": "ohYOWRN-Etcp",
        "colab": {
          "base_uri": "https://localhost:8080/"
        },
        "outputId": "6dc1bfa6-0d15-492f-b14b-698f63e4429d"
      },
      "source": [
        "wallis(1000000)"
      ],
      "execution_count": null,
      "outputs": [
        {
          "output_type": "execute_result",
          "data": {
            "text/plain": [
              "3.141591868192149"
            ]
          },
          "metadata": {
            "tags": []
          },
          "execution_count": 48
        }
      ]
    },
    {
      "cell_type": "markdown",
      "metadata": {
        "id": "cxUpmw6pEtcu"
      },
      "source": [
        "C'est poussif, mais on sent bien qu'on y va..."
      ]
    },
    {
      "cell_type": "markdown",
      "metadata": {
        "id": "BFvfGrgpEtcv"
      },
      "source": [
        "### 1.3. Approximations de ln(2)\n",
        "\n",
        "**_1.3.a. Par la formule de Mercator (1512 - 1594)_**\n",
        "\n",
        "![...](https://drive.google.com/uc?id=1liuKjC9Cuh9LsM2cL0N5LSn4aQKb6H3b)"
      ]
    },
    {
      "cell_type": "code",
      "metadata": {
        "id": "BFUWah-MEtcy"
      },
      "source": [
        "def mercator(x,n):\n",
        "    S = 0\n",
        "    puiss = -1\n",
        "    for k in range(1,n+1):\n",
        "        puiss = puiss*(-x)\n",
        "        S = S + puiss/k\n",
        "    return S\n",
        "    "
      ],
      "execution_count": null,
      "outputs": []
    },
    {
      "cell_type": "code",
      "metadata": {
        "id": "IP_4BLGSEtc3",
        "colab": {
          "base_uri": "https://localhost:8080/"
        },
        "outputId": "24fc3c9d-40a5-466a-a82c-143112e1d861"
      },
      "source": [
        "for compteur in range(1,11):\n",
        "    print('Après ', compteur, ' itérations, on a pour valeur approchée de ln(2) : ' ,mercator(1,compteur))"
      ],
      "execution_count": null,
      "outputs": [
        {
          "output_type": "stream",
          "text": [
            "Après  1  itérations, on a pour valeur approchée de ln(2) :  1.0\n",
            "Après  2  itérations, on a pour valeur approchée de ln(2) :  0.5\n",
            "Après  3  itérations, on a pour valeur approchée de ln(2) :  0.8333333333333333\n",
            "Après  4  itérations, on a pour valeur approchée de ln(2) :  0.5833333333333333\n",
            "Après  5  itérations, on a pour valeur approchée de ln(2) :  0.7833333333333332\n",
            "Après  6  itérations, on a pour valeur approchée de ln(2) :  0.6166666666666666\n",
            "Après  7  itérations, on a pour valeur approchée de ln(2) :  0.7595238095238095\n",
            "Après  8  itérations, on a pour valeur approchée de ln(2) :  0.6345238095238095\n",
            "Après  9  itérations, on a pour valeur approchée de ln(2) :  0.7456349206349207\n",
            "Après  10  itérations, on a pour valeur approchée de ln(2) :  0.6456349206349207\n"
          ],
          "name": "stdout"
        }
      ]
    },
    {
      "cell_type": "code",
      "metadata": {
        "id": "VYHRYMoHEtc8",
        "colab": {
          "base_uri": "https://localhost:8080/"
        },
        "outputId": "c62c24ed-35b5-44d1-aebc-35af1cb3a862"
      },
      "source": [
        "for c in range(7):\n",
        "    print('Après ', 10**c, ' itérations, on a pour valeur approchée de ln(2) : ' ,mercator(1,10**c))"
      ],
      "execution_count": null,
      "outputs": [
        {
          "output_type": "stream",
          "text": [
            "Après  1  itérations, on a pour valeur approchée de ln(2) :  1.0\n",
            "Après  10  itérations, on a pour valeur approchée de ln(2) :  0.6456349206349207\n",
            "Après  100  itérations, on a pour valeur approchée de ln(2) :  0.688172179310195\n",
            "Après  1000  itérations, on a pour valeur approchée de ln(2) :  0.6926474305598223\n",
            "Après  10000  itérations, on a pour valeur approchée de ln(2) :  0.6930971830599583\n",
            "Après  100000  itérations, on a pour valeur approchée de ln(2) :  0.6931421805849816\n",
            "Après  1000000  itérations, on a pour valeur approchée de ln(2) :  0.6931466805602525\n"
          ],
          "name": "stdout"
        }
      ]
    },
    {
      "cell_type": "markdown",
      "metadata": {
        "id": "a9fYIzPIEtdA"
      },
      "source": [
        "... pas rapide...\n",
        "\n",
        "Accélérons le processus, avec la formule suivante, découlant de la précédente \n",
        "(cf https://fr.wikipedia.org/wiki/Logarithme_naturel)\n",
        "\n",
        "**_1.3.b. Accélération de convergence_**\n",
        "\n",
        "![...](https://drive.google.com/uc?id=1QiysndwXb_pgDlQopzg4KoMWhOluSr8B)"
      ]
    },
    {
      "cell_type": "code",
      "metadata": {
        "id": "SWth25nTEtdD"
      },
      "source": [
        "def mercator_accelere(y,n):\n",
        "    r = (y-1)/(y+1)\n",
        "    S = r\n",
        "    puiss = r\n",
        "    for k in range(1,n+1):\n",
        "        puiss = puiss*r**2\n",
        "        S = S + puiss/(2*k+1)\n",
        "    return 2*S"
      ],
      "execution_count": null,
      "outputs": []
    },
    {
      "cell_type": "code",
      "metadata": {
        "id": "mIIzv0zmEtdH",
        "colab": {
          "base_uri": "https://localhost:8080/"
        },
        "outputId": "ffe8e634-84ac-45fd-da29-5193d94c7859"
      },
      "source": [
        "for compteur in range(1,11):\n",
        "    log_2 = mercator_accelere(2,compteur)\n",
        "    print('Après ', compteur, ' itérations, on a pour valeur approchée de ln(2) : ' ,log_2,', soit ', int(-log (abs(log(2)-log_2))/log(10)),' décimales')"
      ],
      "execution_count": null,
      "outputs": [
        {
          "output_type": "stream",
          "text": [
            "Après  1  itérations, on a pour valeur approchée de ln(2) :  0.691358024691358 , soit  2  décimales\n",
            "Après  2  itérations, on a pour valeur approchée de ln(2) :  0.6930041152263374 , soit  3  décimales\n",
            "Après  3  itérations, on a pour valeur approchée de ln(2) :  0.6931347573322881 , soit  4  décimales\n",
            "Après  4  itérations, on a pour valeur approchée de ln(2) :  0.6931460473908271 , soit  5  décimales\n",
            "Après  5  itérations, on a pour valeur approchée de ln(2) :  0.6931470737597851 , soit  6  décimales\n",
            "Après  6  itérations, on a pour valeur approchée de ln(2) :  0.6931471702560119 , soit  7  décimales\n",
            "Après  7  itérations, on a pour valeur approchée de ln(2) :  0.6931471795482411 , soit  8  décimales\n",
            "Après  8  itérations, on a pour valeur approchée de ln(2) :  0.693147180459244 , soit  9  décimales\n",
            "Après  9  itérations, on a pour valeur approchée de ln(2) :  0.6931471805498115 , soit  10  décimales\n",
            "Après  10  itérations, on a pour valeur approchée de ln(2) :  0.6931471805589162 , soit  11  décimales\n"
          ],
          "name": "stdout"
        }
      ]
    },
    {
      "cell_type": "code",
      "metadata": {
        "id": "_Jk24f8jEtdL",
        "colab": {
          "base_uri": "https://localhost:8080/"
        },
        "outputId": "1c1a8b7b-6ea0-4155-fe93-6542c155870b"
      },
      "source": [
        "log(2)"
      ],
      "execution_count": null,
      "outputs": [
        {
          "output_type": "execute_result",
          "data": {
            "text/plain": [
              "0.6931471805599453"
            ]
          },
          "metadata": {
            "tags": []
          },
          "execution_count": 54
        }
      ]
    },
    {
      "cell_type": "markdown",
      "metadata": {
        "id": "H3yxo2m6EtdN"
      },
      "source": [
        "**_1.3.c. Autre amélioration : celle de Brouncher (voir plus haut pour $\\pi$), d'après Newton (1643 - 1727)_**\n",
        "\n",
        "**<span style=\"color: #D17460\"> TSpé - TCompl  </span>**"
      ]
    },
    {
      "cell_type": "code",
      "metadata": {
        "id": "YaSYmeqWEtdO"
      },
      "source": [
        "def brouncker_ln2(n):\n",
        "    S = 0\n",
        "    for k in range(n):\n",
        "        S = S + 1/((2*k+1)*(2*k+2))\n",
        "    return S"
      ],
      "execution_count": null,
      "outputs": []
    },
    {
      "cell_type": "code",
      "metadata": {
        "id": "Tknwh2F_EtdQ",
        "colab": {
          "base_uri": "https://localhost:8080/"
        },
        "outputId": "38b15507-949a-4bf9-a3fd-aeda3e1fa9f3"
      },
      "source": [
        "for k in range(7):\n",
        "    print('Après ',10**k,' itérations, valeur approchée de ln(2) :', brouncker_ln2(10**k))\n"
      ],
      "execution_count": null,
      "outputs": [
        {
          "output_type": "stream",
          "text": [
            "Après  1  itérations, valeur approchée de ln(2) : 0.5\n",
            "Après  10  itérations, valeur approchée de ln(2) : 0.6687714031754279\n",
            "Après  100  itérations, valeur approchée de ln(2) : 0.6906534304818241\n",
            "Après  1000  itérations, valeur approchée de ln(2) : 0.6928972430599386\n",
            "Après  10000  itérations, valeur approchée de ln(2) : 0.6931221811849473\n",
            "Après  100000  itérations, valeur approchée de ln(2) : 0.6931446805661907\n",
            "Après  1000000  itérations, valeur approchée de ln(2) : 0.6931469305600455\n"
          ],
          "name": "stdout"
        }
      ]
    }
  ]
}