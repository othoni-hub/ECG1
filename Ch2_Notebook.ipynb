{
  "nbformat": 4,
  "nbformat_minor": 0,
  "metadata": {
    "colab": {
      "name": "Ch2_Notebook.ipynb",
      "provenance": [],
      "collapsed_sections": [],
      "authorship_tag": "ABX9TyMSoVP4uXaIF0LD/jYJtvkk",
      "include_colab_link": true
    },
    "kernelspec": {
      "name": "python3",
      "display_name": "Python 3"
    },
    "language_info": {
      "name": "python"
    }
  },
  "cells": [
    {
      "cell_type": "markdown",
      "metadata": {
        "id": "view-in-github",
        "colab_type": "text"
      },
      "source": [
        "<a href=\"https://colab.research.google.com/github/othoni-hub/ECG1/blob/main/Ch2_Notebook.ipynb\" target=\"_parent\"><img src=\"https://colab.research.google.com/assets/colab-badge.svg\" alt=\"Open In Colab\"/></a>"
      ]
    },
    {
      "cell_type": "markdown",
      "metadata": {
        "id": "Gprox7oVPE7W"
      },
      "source": [
        "# **CPGE-ECG1** \n",
        "<img src=\"https://drive.google.com/uc?id=12Wo3LubGGT4qOvYFAuLP4CyCuwjKNVuk\" width=\"230\" height=\"150\" align = \"right\"/>\n",
        "\n",
        "## **Ch2 - Notebook : Fonctions Numériques Usuelles**\n",
        "\n",
        "\n",
        "\n",
        "\n",
        "**O.Thöni - Lycée Saint-Charles Sainte Croix - LE MANS**\n"
      ]
    },
    {
      "cell_type": "markdown",
      "metadata": {
        "id": "cvCd77hKEzAF"
      },
      "source": [
        "\n",
        "* **éléments du programme officiel**\n",
        "\n",
        "Dans ce notebook, sont à reternir :\n",
        "* la définition d'une fonction : \"**def** f**(**x**) :**\"\n",
        "* l'utilisation de modules : \"**import** ... **as** ...\" ou encore \"**from** ... **import** ...\"\n",
        "* dans le module **numpy**, la commande  \"**arange(** ... **,** ... **,** ...**)**\" et la commande  \"**linspace(** ... **,** ... **,** ...**)**\"\n",
        "* dans le module **matplotlib.pyplot**, la commande \"**plot**\", pour réaliser des graphiques, mais pas les commandes permettant de mettre en forme celui-ci.\n",
        "\n",
        "</style>"
      ]
    },
    {
      "cell_type": "markdown",
      "metadata": {
        "id": "ntSOrdlJ_tKV"
      },
      "source": [
        "# **Représentation graphique d'une fonction en Python**\n",
        "\n"
      ]
    },
    {
      "cell_type": "markdown",
      "metadata": {
        "id": "FV6y3g3ACFjN"
      },
      "source": [
        "## **import des bibliothèques pyplot et numpy**\n",
        "\n",
        "Les modules seront utilisés avec un **alias**, un raccourci du nom du module :\n",
        "\n",
        "exemple : \n",
        "\n",
        "    import matplotlib.pyplot as plt  \n",
        "qui permet de lire aisément dans le code d'où proviennent les commandes utilisées : \n",
        "\n",
        "exemple : \n",
        "\n",
        "    plt.plot(...)\n",
        "    \n",
        "signifiera que l'on va chercher la commande **plot** du module dont l'alias est \"plt\"\n",
        "\n",
        "On utilise ici deux module additionnels :\n",
        "\n",
        "* **matplotlib.pyplot** : permet de tracer des représentations graphiques\n",
        "* **numpy** : possède des fonctionnalités permettant d'élargir le concept de liste ***range***, listes d'entiers, à des listes de réels avec ***np.arange***\n",
        "\n",
        "**Remarque :**\n",
        "\n",
        "Ici, de \"**numpy**\", on ne va utiliser QUE la commmande \"**arange**\", on aurait pu procéder ainsi :\n",
        "\n",
        "    from numpy import arange\n",
        "\n",
        "mais ceci a l'inconvénient, quand on utilisera ***arange***, de ne plus flécher de quel module provient cette commande."
      ]
    },
    {
      "cell_type": "code",
      "metadata": {
        "id": "mfJHevMZg7MK"
      },
      "source": [
        "# import des bibiliothèques nécessaires\n",
        "import matplotlib.pyplot as plt     # matplotlib.pyplot permet de réaliser des graphiques\n",
        "import numpy as np                  # numpy est utile ici pour générer des listes régulières de nombres réels dans un intervalle donné\n"
      ],
      "execution_count": null,
      "outputs": []
    },
    {
      "cell_type": "markdown",
      "metadata": {
        "id": "dzHdo5BChOqk"
      },
      "source": [
        "## **Définition de la fonction Python**\n",
        "\n",
        "Fonction mathématique et fonction informatique sont deux notions assez proches : \n",
        "elles mêlent\n",
        "* exprimer une quantité **\"en fonction d' \"**une autre\n",
        "* un bloc **\"dont la fonction est de\"** faire quelque chose\n",
        "\n",
        "\n",
        "---\n",
        "\n",
        "\n",
        "**À retenir :**\n",
        "\n",
        "* **Pour définir une fonction, on emploie la syntaxe suivante,**\n",
        "\n",
        "        def f(x) :\n",
        "\n",
        "(on n'oublie pas les **\":\"**, comme toute structure en Python, ni l'**indentation** tout au long de la structure)\n",
        "\n",
        "* f est le **nom** de la fonction,\n",
        "\n",
        "* x est le **paramètre** de la fonction (il peut y en avoir plusieurs)\n",
        "\n",
        "* **la dernière ligne de la fonction se présente le plus souvent ainsi :**\n",
        "\n",
        "            return y\n",
        "\n",
        "* **L'appel de la fonction se fait dans le programme principal (ou depuis une autre fonction) ainsi, dans une affectation :**\n",
        "        m = f(2.3)\n",
        "\n",
        "* **Les bonnes pratiques voudraient qu'on incorpore à chaque fonction des** ***docstrings*** **: une petite phrase qui a valeur de commentaire (c'est-à-dire qu'elle n'est pas interprétéé par le programme) et d'aide de la fonction, qui explique ce qui rentre, ce qui sort, et ce qui se passe à l'intérieur, c'est un petit plus, non exigible, mais qui vous aidera.**\n",
        "\n",
        "---\n",
        "\n",
        "\n"
      ]
    },
    {
      "cell_type": "code",
      "metadata": {
        "id": "ycqKjLvFlDrY"
      },
      "source": [
        "# Définition de la fonction\n",
        "def f(x):\n",
        "    ''' reçoit en paramètre un réel x et renvoie son image y par une fonction numérique f'''\n",
        "    y = x**3 + x**2 -6*x + 2\n",
        "    return y\n",
        "    "
      ],
      "execution_count": null,
      "outputs": []
    },
    {
      "cell_type": "code",
      "metadata": {
        "colab": {
          "base_uri": "https://localhost:8080/"
        },
        "id": "jZ11eUz3m5WC",
        "outputId": "9ca6831c-128b-4fd8-f4fc-60beb8ccd061"
      },
      "source": [
        "help(f)\n"
      ],
      "execution_count": null,
      "outputs": [
        {
          "output_type": "stream",
          "text": [
            "Help on function f in module __main__:\n",
            "\n",
            "f(x)\n",
            "    reçoit en paramètre un réel x et renvoie son image y par une fonction numérique f\n",
            "\n"
          ],
          "name": "stdout"
        }
      ]
    },
    {
      "cell_type": "code",
      "metadata": {
        "colab": {
          "base_uri": "https://localhost:8080/"
        },
        "id": "rclF8I4JmaMl",
        "outputId": "a6dc22e5-330f-4208-8d8c-8da81edc32f5"
      },
      "source": [
        "f(2.3)"
      ],
      "execution_count": null,
      "outputs": [
        {
          "output_type": "execute_result",
          "data": {
            "text/plain": [
              "5.656999999999998"
            ]
          },
          "metadata": {
            "tags": []
          },
          "execution_count": 4
        }
      ]
    },
    {
      "cell_type": "markdown",
      "metadata": {
        "id": "fy3e91-gnGIa"
      },
      "source": [
        "## **Calcul des images de nombres rangés dans une liste de réels**"
      ]
    },
    {
      "cell_type": "markdown",
      "metadata": {
        "id": "-9EDdLgAzDS-"
      },
      "source": [
        "**À retenir :**\n",
        "\n",
        "**Un premier procédé pour fabriquer une liste de réels régulièrement espacés entre deux bornes est d'utilser le** ***arange*** **de** ***numpy*** **:**\n",
        "\n",
        "    xx = np.arange(-4,3,0.1)\n",
        "\n",
        "**Ceci fabrique une liste de réels (flottants), de -4 (1<sup>er</sup> paramètre), à 3 (2<sup>ème</sup> paramètre), avec un pas de 0.1, (3<sup>ème</sup> paramètre)**"
      ]
    },
    {
      "cell_type": "code",
      "metadata": {
        "id": "fPKKjcztnPs6"
      },
      "source": [
        "# Calcul des coordonnées de points de la Représentation graphique\n",
        "xx = np.arange(-4,3,0.1)    # liste numpy de -4 à 3 avec un pas de 0.1 (les listes natives avec range sont des listes d'entiers)\n",
        "yy = []                     # liste qui va stocker les images des nombres de la liste xx\n",
        "\n",
        "for x in xx :       # Pour chaque valeur x dans la liste xx\n",
        "    yy.append(f(x))     # calcul de l'image de x par f et ajout à la liste des images"
      ],
      "execution_count": null,
      "outputs": []
    },
    {
      "cell_type": "markdown",
      "metadata": {
        "id": "l6jzNgwczS4q"
      },
      "source": [
        "**À retenir :**\n",
        "\n",
        "**Un autre procédé, nécessitant également d'importer le module** ***numpy*** **est d'utiliser la commande native en Python :** ***linspace(...)***\n",
        "\n",
        "    xx = np.linspace(-4,3,71)\n",
        "\n",
        "**Le 1<sup>er</sup> paramètre est la borne inférieure, le 2<sup>ème</sup>, la borne supérieure, et le 3<sup>ème</sup>, le nombre total de valeurs, borne inférieure et borne supérieure incluses.**\n",
        "\n",
        "L'exemple donne la même liste que l'exemple employé pour *arange*."
      ]
    },
    {
      "cell_type": "code",
      "metadata": {
        "id": "26anEyd71McC"
      },
      "source": [
        "# Calcul des coordonnées de points de la Représentation graphique\n",
        "xx = np.linspace(-4,3,71)     # liste numpy de -4 à 3 contenant 71 valeurs, bornes comprises\n",
        "yy = []                       # liste qui va stocker les images des nombres de la liste xx\n",
        "\n",
        "for x in xx :       # Pour chaque valeur x dans la liste xx\n",
        "    yy.append(f(x))     # calcul de l'image de x par f et ajout à la liste des images"
      ],
      "execution_count": null,
      "outputs": []
    },
    {
      "cell_type": "markdown",
      "metadata": {
        "id": "6bFaLQUvniKk"
      },
      "source": [
        "## **Tracé de la représentation graphique**"
      ]
    },
    {
      "cell_type": "code",
      "metadata": {
        "colab": {
          "base_uri": "https://localhost:8080/",
          "height": 284
        },
        "id": "MH4CvlBHnn_J",
        "outputId": "a5d5e729-36c5-4b41-efec-f18a220dcfc9"
      },
      "source": [
        "plt.plot(xx,yy) # représentation graphique de f\n"
      ],
      "execution_count": null,
      "outputs": [
        {
          "output_type": "execute_result",
          "data": {
            "text/plain": [
              "[<matplotlib.lines.Line2D at 0x7f031d1c23d0>]"
            ]
          },
          "metadata": {
            "tags": []
          },
          "execution_count": 7
        },
        {
          "output_type": "display_data",
          "data": {
            "image/png": "[encoded data removed]",
            "text/plain": [
              "<Figure size 432x288 with 1 Axes>"
            ]
          },
          "metadata": {
            "tags": [],
            "needs_background": "light"
          }
        }
      ]
    },
    {
      "cell_type": "markdown",
      "metadata": {
        "id": "0_RMWzVAnzu4"
      },
      "source": [
        "\"- Et c'est tout ?\"\n",
        "\n",
        "\"- Ben oui... ça, c'est le seul truc à connaître...\n",
        "\n",
        "Bon, après, on peut ajouter quelques éléments cosmétiques, mais rien de ce qui suit n'est exigible.\n"
      ]
    },
    {
      "cell_type": "code",
      "metadata": {
        "colab": {
          "base_uri": "https://localhost:8080/",
          "height": 284
        },
        "id": "B2lxgpv4oGWp",
        "outputId": "a525a1f9-19d1-4113-a933-7f7966de9ada"
      },
      "source": [
        "plt.plot(xx,yy,'r',linewidth=0.5) # représentation graphique de f\n"
      ],
      "execution_count": null,
      "outputs": [
        {
          "output_type": "execute_result",
          "data": {
            "text/plain": [
              "[<matplotlib.lines.Line2D at 0x7f0316eb7c90>]"
            ]
          },
          "metadata": {
            "tags": []
          },
          "execution_count": 8
        },
        {
          "output_type": "display_data",
          "data": {
            "image/png": "[encoded data removed]",
            "text/plain": [
              "<Figure size 432x288 with 1 Axes>"
            ]
          },
          "metadata": {
            "tags": [],
            "needs_background": "light"
          }
        }
      ]
    },
    {
      "cell_type": "markdown",
      "metadata": {
        "id": "i6p474b6o1DP"
      },
      "source": [
        "**paramétrage des axes, ajout d'un titre :**\n"
      ]
    },
    {
      "cell_type": "code",
      "metadata": {
        "colab": {
          "base_uri": "https://localhost:8080/",
          "height": 268
        },
        "id": "IyVKxAubo-Lc",
        "outputId": "b78b2fb1-fc87-4348-ac27-7c1478a3ca48"
      },
      "source": [
        "plt.plot(xx,yy,'r',linewidth=0.5) # représentation graphique de f\n",
        "\n",
        "# ajustement des paramètres des axes (centrage, couleur, etc.)\n",
        "ax = plt.gca()\n",
        "ax.spines['left'].set_position('zero')\n",
        "ax.spines['right'].set_color('none')\n",
        "ax.spines['bottom'].set_position('zero')\n",
        "ax.spines['top'].set_color('none')\n",
        "\n",
        "plt.xlim(-5,3)                      # fenêtre d'affichage\n",
        "plt.title('$ y = x^3 + x^2 - 6x + 2 $') # titre du graphique au format LaTeX (encadré par des $)\n",
        "plt.show()"
      ],
      "execution_count": null,
      "outputs": [
        {
          "output_type": "display_data",
          "data": {
            "image/png": "[encoded data removed]",
            "text/plain": [
              "<Figure size 432x288 with 1 Axes>"
            ]
          },
          "metadata": {
            "tags": [],
            "needs_background": "light"
          }
        }
      ]
    },
    {
      "cell_type": "markdown",
      "metadata": {
        "id": "NmmnxNQwCAmr"
      },
      "source": [
        "* **Récapitulatif du code complet**"
      ]
    },
    {
      "cell_type": "code",
      "metadata": {
        "id": "4OC_h7kNO_OT",
        "colab": {
          "base_uri": "https://localhost:8080/",
          "height": 268
        },
        "outputId": "17570c3c-d60e-4d42-de4c-d1e57ac54d7e"
      },
      "source": [
        "# import des bibiliothèques nécessaires\n",
        "import matplotlib.pyplot as plt     # matplotlib.pyplot permet de réaliser des graphiques\n",
        "import numpy as np                  # numpy est utile ici pour générer des listes régulières de nombres réels dans un intervalle donné\n",
        "\n",
        "\n",
        "# Définition de la fonction\n",
        "def f(x):\n",
        "    ''' reçoit en paramètre un réel x et renvoie son image y par une fonction numérique f'''\n",
        "    y = x**3 + x**2 -6*x + 2\n",
        "    return y\n",
        "    \n",
        "# Représentation graphique\n",
        "xx = np.arange(-4,3,0.1)    # liste numpy de -4 à 3 avec un pas de 0.1 (les listes natives avec range sont des listes d'entiers)\n",
        "yy = []                     # liste qui va stocker les images des nombres de la liste xx\n",
        "\n",
        "for x in xx :       # Pour chaque valeur x dans la liste xx\n",
        "    yy.append(f(x))     # calcul de l'image de x par f et ajout à la liste des images\n",
        "    \n",
        "plt.plot(xx,yy,'r',linewidth=1) # représentation graphique de f\n",
        "\n",
        "# ajustement des paramètres des axes (centrage, couleur, etc.)\n",
        "ax = plt.gca()\n",
        "ax.spines['left'].set_position('zero')\n",
        "ax.spines['right'].set_color('none')\n",
        "ax.spines['bottom'].set_position('zero')\n",
        "ax.spines['top'].set_color('none')\n",
        "\n",
        "plt.xlim(-5,3)                      # fenêtre d'affichage\n",
        "plt.title('$ y = x^3 + x^2 - 6x + 2 $') # titre du graphique au format LaTeX (encadré par des $)\n",
        "plt.show()"
      ],
      "execution_count": null,
      "outputs": [
        {
          "output_type": "display_data",
          "data": {
            "image/png": "[encoded data removed]",
            "text/plain": [
              "<Figure size 432x288 with 1 Axes>"
            ]
          },
          "metadata": {
            "tags": [],
            "needs_background": "light"
          }
        }
      ]
    },
    {
      "cell_type": "markdown",
      "metadata": {
        "id": "U9nLLWu2tywR"
      },
      "source": [
        "## **Gestion du domaine de définition de la fonction**\n",
        "\n",
        "Que se passe-t-il si une valeur demandée pour le calcul de la fonction n'est pas dans le domaine de définition de la fonction ?\n",
        "\n",
        "\n",
        "Prenons par exemple la fonction d'expression $ f(x) = \\sqrt {(x-1)(1+x)}$\n",
        "\n",
        "Elle n'est pas définie entre -1 et 1...\n"
      ]
    },
    {
      "cell_type": "code",
      "metadata": {
        "id": "t0mQ9e7MAa3u"
      },
      "source": [
        "from math import sqrt   # la fonction racine carrée ne figure pas nativement dans les fonctions Python,\n",
        "                        # il faut l'importer du module math\n",
        "\n",
        "# Définition de la fonction\n",
        "def f(x):\n",
        "    ''' reçoit en paramètre un réel x et renvoie son image y par une fonction numérique f'''\n",
        "    y = sqrt((x-1)*(1+x))\n",
        "    return y\n",
        "    "
      ],
      "execution_count": null,
      "outputs": []
    },
    {
      "cell_type": "code",
      "metadata": {
        "colab": {
          "base_uri": "https://localhost:8080/",
          "height": 380
        },
        "id": "-J_HXjsXuvkU",
        "outputId": "2dd37a6e-bdff-4b4d-e135-e5e68855d068"
      },
      "source": [
        "# Représentation graphique\n",
        "xx = np.arange(-4,3,0.1)    # liste numpy de -4 à 3 avec un pas de 0.1 (les listes natives avec range sont des listes d'entiers)\n",
        "yy = []                     # liste qui va stocker les images des nombres de la liste xx\n",
        "\n",
        "for x in xx :       # Pour chaque valeur x dans la liste xx\n",
        "    yy.append(f(x))     # calcul de l'image de x par f et ajout à la liste des images\n",
        "    \n",
        "plt.plot(xx,yy,'r',linewidth=1) # représentation graphique de f"
      ],
      "execution_count": null,
      "outputs": [
        {
          "output_type": "error",
          "ename": "ValueError",
          "evalue": "ignored",
          "traceback": [
            "\u001b[0;31m---------------------------------------------------------------------------\u001b[0m",
            "\u001b[0;31mValueError\u001b[0m                                Traceback (most recent call last)",
            "\u001b[0;32m<ipython-input-12-1735798fefa1>\u001b[0m in \u001b[0;36m<module>\u001b[0;34m()\u001b[0m\n\u001b[1;32m      4\u001b[0m \u001b[0;34m\u001b[0m\u001b[0m\n\u001b[1;32m      5\u001b[0m \u001b[0;32mfor\u001b[0m \u001b[0mx\u001b[0m \u001b[0;32min\u001b[0m \u001b[0mxx\u001b[0m \u001b[0;34m:\u001b[0m       \u001b[0;31m# Pour chaque valeur x dans la liste xx\u001b[0m\u001b[0;34m\u001b[0m\u001b[0;34m\u001b[0m\u001b[0m\n\u001b[0;32m----> 6\u001b[0;31m     \u001b[0myy\u001b[0m\u001b[0;34m.\u001b[0m\u001b[0mappend\u001b[0m\u001b[0;34m(\u001b[0m\u001b[0mf\u001b[0m\u001b[0;34m(\u001b[0m\u001b[0mx\u001b[0m\u001b[0;34m)\u001b[0m\u001b[0;34m)\u001b[0m     \u001b[0;31m# calcul de l'image de x par f et ajout à la liste des images\u001b[0m\u001b[0;34m\u001b[0m\u001b[0;34m\u001b[0m\u001b[0m\n\u001b[0m\u001b[1;32m      7\u001b[0m \u001b[0;34m\u001b[0m\u001b[0m\n\u001b[1;32m      8\u001b[0m \u001b[0mplt\u001b[0m\u001b[0;34m.\u001b[0m\u001b[0mplot\u001b[0m\u001b[0;34m(\u001b[0m\u001b[0mxx\u001b[0m\u001b[0;34m,\u001b[0m\u001b[0myy\u001b[0m\u001b[0;34m,\u001b[0m\u001b[0;34m'r'\u001b[0m\u001b[0;34m,\u001b[0m\u001b[0mlinewidth\u001b[0m\u001b[0;34m=\u001b[0m\u001b[0;36m1\u001b[0m\u001b[0;34m)\u001b[0m \u001b[0;31m# représentation graphique de f\u001b[0m\u001b[0;34m\u001b[0m\u001b[0;34m\u001b[0m\u001b[0m\n",
            "\u001b[0;32m<ipython-input-11-72cd20f71926>\u001b[0m in \u001b[0;36mf\u001b[0;34m(x)\u001b[0m\n\u001b[1;32m      5\u001b[0m \u001b[0;32mdef\u001b[0m \u001b[0mf\u001b[0m\u001b[0;34m(\u001b[0m\u001b[0mx\u001b[0m\u001b[0;34m)\u001b[0m\u001b[0;34m:\u001b[0m\u001b[0;34m\u001b[0m\u001b[0;34m\u001b[0m\u001b[0m\n\u001b[1;32m      6\u001b[0m     \u001b[0;34m''' reçoit en paramètre un réel x et renvoie son image y par une fonction numérique f'''\u001b[0m\u001b[0;34m\u001b[0m\u001b[0;34m\u001b[0m\u001b[0m\n\u001b[0;32m----> 7\u001b[0;31m     \u001b[0my\u001b[0m \u001b[0;34m=\u001b[0m \u001b[0msqrt\u001b[0m\u001b[0;34m(\u001b[0m\u001b[0;34m(\u001b[0m\u001b[0mx\u001b[0m\u001b[0;34m-\u001b[0m\u001b[0;36m1\u001b[0m\u001b[0;34m)\u001b[0m\u001b[0;34m*\u001b[0m\u001b[0;34m(\u001b[0m\u001b[0;36m1\u001b[0m\u001b[0;34m+\u001b[0m\u001b[0mx\u001b[0m\u001b[0;34m)\u001b[0m\u001b[0;34m)\u001b[0m\u001b[0;34m\u001b[0m\u001b[0;34m\u001b[0m\u001b[0m\n\u001b[0m\u001b[1;32m      8\u001b[0m     \u001b[0;32mreturn\u001b[0m \u001b[0my\u001b[0m\u001b[0;34m\u001b[0m\u001b[0;34m\u001b[0m\u001b[0m\n\u001b[1;32m      9\u001b[0m \u001b[0;34m\u001b[0m\u001b[0m\n",
            "\u001b[0;31mValueError\u001b[0m: math domain error"
          ]
        }
      ]
    },
    {
      "cell_type": "markdown",
      "metadata": {
        "id": "bBNBUXQQvqBD"
      },
      "source": [
        "Ben oui, on pouvait s'en douter...\n",
        "\n",
        "Pour éviter ce genre d'erreur brutale, on va utiliser le duo **\"try\"** et **\"except\"**"
      ]
    },
    {
      "cell_type": "code",
      "metadata": {
        "id": "-ICF9tBsvi6C"
      },
      "source": [
        "from math import sqrt   # la fonction racine carrée ne figure pas nativement dans les fonctions Python,\n",
        "                        # il faut l'importer du module math\n",
        "\n",
        "# Définition de la fonction\n",
        "def f(x):\n",
        "    ''' reçoit en paramètre un réel x et renvoie son image y par une fonction numérique f'''\n",
        "    try :\n",
        "        y = sqrt((x-1)*(1+x))\n",
        "        return y\n",
        "    except :\n",
        "        return None # Lorsque la fonction rencontre une \"math domain error\", elle ne renvoie rien\n",
        "    "
      ],
      "execution_count": null,
      "outputs": []
    },
    {
      "cell_type": "code",
      "metadata": {
        "colab": {
          "base_uri": "https://localhost:8080/",
          "height": 285
        },
        "id": "HKVJjxTDwggO",
        "outputId": "1003b952-48ca-4293-d870-4db49127afec"
      },
      "source": [
        "# Représentation graphique\n",
        "xx = np.arange(-4,3,0.01)    # liste numpy de -4 à 3 avec un pas de 0.1 (les listes natives avec range sont des listes d'entiers)\n",
        "yy = []                     # liste qui va stocker les images des nombres de la liste xx\n",
        "\n",
        "for x in xx :       # Pour chaque valeur x dans la liste xx\n",
        "    yy.append(f(x))     # calcul de l'image de x par f et ajout à la liste des images\n",
        "    \n",
        "plt.plot(xx,yy,'r',linewidth=1) # représentation graphique de f"
      ],
      "execution_count": null,
      "outputs": [
        {
          "output_type": "execute_result",
          "data": {
            "text/plain": [
              "[<matplotlib.lines.Line2D at 0x7f0316718410>]"
            ]
          },
          "metadata": {
            "tags": []
          },
          "execution_count": 14
        },
        {
          "output_type": "display_data",
          "data": {
            "image/png": "[encoded data removed]",
            "text/plain": [
              "<Figure size 432x288 with 1 Axes>"
            ]
          },
          "metadata": {
            "tags": [],
            "needs_background": "light"
          }
        }
      ]
    },
    {
      "cell_type": "code",
      "metadata": {
        "colab": {
          "base_uri": "https://localhost:8080/",
          "height": 279
        },
        "id": "QrKLn5SuwhcF",
        "outputId": "d37757d6-a26d-4aca-821d-ed53efc486a4"
      },
      "source": [
        "plt.plot(xx,yy,'r',linewidth=1) # représentation graphique de f\n",
        "\n",
        "# ajustement des paramètres des axes (centrage, couleur, etc.)\n",
        "ax = plt.gca()\n",
        "ax.spines['left'].set_position('zero')\n",
        "ax.spines['right'].set_color('none')\n",
        "ax.spines['bottom'].set_position('zero')\n",
        "ax.spines['top'].set_color('none')\n",
        "\n",
        "plt.xlim(-5,3)                      # fenêtre d'affichage\n",
        "plt.title('$ y = \\sqrt{(x-1)(x+1)} $') # titre du graphique au format LaTeX (encadré par des $)\n",
        "plt.show()"
      ],
      "execution_count": null,
      "outputs": [
        {
          "output_type": "display_data",
          "data": {
            "image/png": "[encoded data removed]",
            "text/plain": [
              "<Figure size 432x288 with 1 Axes>"
            ]
          },
          "metadata": {
            "tags": [],
            "needs_background": "light"
          }
        }
      ]
    },
    {
      "cell_type": "markdown",
      "metadata": {
        "id": "tyvL47m7xjfB"
      },
      "source": [
        "## **Fonctions numériques usuelles**\n",
        "\n",
        "Faites-vous une **\"graphothèque\"** avec les fonctions usuelles.\n",
        "\n",
        "Faîtes également des graphiques pour visualiser les croissances comparées, en faisant figurer sur un même dessin les courbes de plusieurs fonctions."
      ]
    },
    {
      "cell_type": "code",
      "metadata": {
        "id": "c_4tS_rqxift"
      },
      "source": [
        ""
      ],
      "execution_count": null,
      "outputs": []
    }
  ]
}