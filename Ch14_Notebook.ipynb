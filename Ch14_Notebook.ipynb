{
  "nbformat": 4,
  "nbformat_minor": 0,
  "metadata": {
    "colab": {
      "name": "Ch14-Notebook.ipynb",
      "provenance": [],
      "collapsed_sections": [],
      "authorship_tag": "ABX9TyMmd09jCWgmq0WQNtM9UVhd",
      "include_colab_link": true
    },
    "kernelspec": {
      "name": "python3",
      "display_name": "Python 3"
    },
    "language_info": {
      "name": "python"
    }
  },
  "cells": [
    {
      "cell_type": "markdown",
      "metadata": {
        "id": "view-in-github",
        "colab_type": "text"
      },
      "source": [
        "<a href=\"https://colab.research.google.com/github/othoni-hub/ECG1/blob/main/Ch14_Notebook.ipynb\" target=\"_parent\"><img src=\"https://colab.research.google.com/assets/colab-badge.svg\" alt=\"Open In Colab\"/></a>"
      ]
    },
    {
      "cell_type": "markdown",
      "metadata": {
        "id": "aVvh6VTxKzV5"
      },
      "source": [
        "# **CPGE-ECG1** \n",
        "<img src=\"https://drive.google.com/uc?id=12Wo3LubGGT4qOvYFAuLP4CyCuwjKNVuk\" width=\"230\" height=\"150\" align = \"right\"/>\n",
        "\n",
        "## **Ch14 - Notebook : Variables Aléatoires**\n",
        "\n",
        "\n",
        "\n",
        "\n",
        "**O.Thöni - Lycée Saint-Charles Sainte Croix - LE MANS**"
      ]
    },
    {
      "cell_type": "markdown",
      "metadata": {
        "id": "9ScrN9uW0AOP"
      },
      "source": [
        "\n",
        "\n",
        "**<span style=\"color: #26B260\">Python : ensembles ('_set_'), dictionnaires (ensemble d'objets de forme clé:valeur)</span>**\n",
        "\n",
        "source : http://revue.sesamath.net/spip.php?article1226 , travail remarquable d'Alain BUSSER\n",
        "\n",
        "Considérons un dé à 20 faces (icosaèdre), que l'on lance, nous allons mettre en place tous les éléments permettant d'étudier la variable aléatoire égale au nombre de diviseurs de la face obtenue.. \n"
      ]
    },
    {
      "cell_type": "code",
      "metadata": {
        "id": "_nUqnKv70AOS"
      },
      "source": [
        "def nombre_diviseurs(n):\n",
        "    return len([d for d in range(1,n+1) if n%d==0])"
      ],
      "execution_count": null,
      "outputs": []
    },
    {
      "cell_type": "markdown",
      "metadata": {
        "id": "JvXs7p2N0AOe"
      },
      "source": [
        "* **Univers :**"
      ]
    },
    {
      "cell_type": "code",
      "metadata": {
        "id": "Ao-ue-Mb0AOh",
        "colab": {
          "base_uri": "https://localhost:8080/",
          "height": 33
        },
        "outputId": "5f85f8b2-6a0b-4dc1-9548-6196226d67fb"
      },
      "source": [
        "U = set(range(1,21)) # Omega : ensemble des faces de dé à  20 faces\n",
        "print(U)\n"
      ],
      "execution_count": null,
      "outputs": [
        {
          "output_type": "stream",
          "text": [
            "{1, 2, 3, 4, 5, 6, 7, 8, 9, 10, 11, 12, 13, 14, 15, 16, 17, 18, 19, 20}\n"
          ],
          "name": "stdout"
        }
      ]
    },
    {
      "cell_type": "code",
      "metadata": {
        "id": "Rsw67FXE_ouZ",
        "colab": {
          "base_uri": "https://localhost:8080/",
          "height": 33
        },
        "outputId": "4bd0af12-30ee-4eee-d3b7-c8212c9acc1b"
      },
      "source": [
        "{1,2,3}=={2,3,1}"
      ],
      "execution_count": null,
      "outputs": [
        {
          "output_type": "execute_result",
          "data": {
            "text/plain": [
              "True"
            ]
          },
          "metadata": {
            "tags": []
          },
          "execution_count": 3
        }
      ]
    },
    {
      "cell_type": "code",
      "metadata": {
        "id": "_PpNGdxrATfu",
        "colab": {
          "base_uri": "https://localhost:8080/",
          "height": 33
        },
        "outputId": "1daa657c-4f66-4772-ece9-b87589ca232b"
      },
      "source": [
        "1*3 in {1,2,3}"
      ],
      "execution_count": null,
      "outputs": [
        {
          "output_type": "execute_result",
          "data": {
            "text/plain": [
              "True"
            ]
          },
          "metadata": {
            "tags": []
          },
          "execution_count": 4
        }
      ]
    },
    {
      "cell_type": "markdown",
      "metadata": {
        "id": "Kyh-C00N0AOs"
      },
      "source": [
        "* **Événements :**"
      ]
    },
    {
      "cell_type": "code",
      "metadata": {
        "id": "OzIarpH_0AOv",
        "colab": {
          "base_uri": "https://localhost:8080/",
          "height": 50
        },
        "outputId": "b6d685f1-7b24-4a6b-9f6c-2af2cd1849b3"
      },
      "source": [
        "A = set(range(2,21,2)) # événement 'la face est paire'\n",
        "print(A)\n",
        "\n",
        "B = set(k for k in U if nombre_diviseurs(k) == 2) # événement : 'la face est un nombre premier'\n",
        "print(B)"
      ],
      "execution_count": null,
      "outputs": [
        {
          "output_type": "stream",
          "text": [
            "{2, 4, 6, 8, 10, 12, 14, 16, 18, 20}\n",
            "{2, 3, 5, 7, 11, 13, 17, 19}\n"
          ],
          "name": "stdout"
        }
      ]
    },
    {
      "cell_type": "markdown",
      "metadata": {
        "id": "IZ82xVA40AO_"
      },
      "source": [
        "* **Intersection et Union, Complémentaire :**"
      ]
    },
    {
      "cell_type": "code",
      "metadata": {
        "id": "HLmRlsV30APG",
        "colab": {
          "base_uri": "https://localhost:8080/",
          "height": 67
        },
        "outputId": "65654908-31a0-431f-c8ea-6ac80f57b5c9"
      },
      "source": [
        "A_ou_B = A.union(B)\n",
        "print(\"Événement : 'La face est un nombre pair ou premier :'\", A_ou_B)\n",
        "\n",
        "A_inter_B = A.intersection(B)\n",
        "print(\"Événement : 'La face est un nombre pair et premier :'\", A_inter_B)\n",
        "\n",
        "A_barre = U.difference(A)\n",
        "print(\"Événement : 'La face est un nombre impair :'\",A_barre )"
      ],
      "execution_count": null,
      "outputs": [
        {
          "output_type": "stream",
          "text": [
            "Événement : 'La face est un nombre pair ou premier :' {2, 3, 4, 5, 6, 7, 8, 10, 11, 12, 13, 14, 16, 17, 18, 19, 20}\n",
            "Événement : 'La face est un nombre pair et premier :' {2}\n",
            "Événement : 'La face est un nombre impair :' {1, 3, 5, 7, 9, 11, 13, 15, 17, 19}\n"
          ],
          "name": "stdout"
        }
      ]
    },
    {
      "cell_type": "code",
      "metadata": {
        "id": "1nXgcfEPCegu",
        "colab": {
          "base_uri": "https://localhost:8080/",
          "height": 33
        },
        "outputId": "6b32b5d9-1675-4a67-af77-8969a9eae387"
      },
      "source": [
        "C = {1,2}\n",
        "D = {1,2}\n",
        "C.difference(D)"
      ],
      "execution_count": null,
      "outputs": [
        {
          "output_type": "execute_result",
          "data": {
            "text/plain": [
              "set()"
            ]
          },
          "metadata": {
            "tags": []
          },
          "execution_count": 35
        }
      ]
    },
    {
      "cell_type": "markdown",
      "metadata": {
        "id": "yvpajGtN0APh"
      },
      "source": [
        "* **Probabilité d'un événement :**"
      ]
    },
    {
      "cell_type": "code",
      "metadata": {
        "id": "PbtBCVd80APm"
      },
      "source": [
        "def P(E):\n",
        "    return len(E)/len(U)"
      ],
      "execution_count": null,
      "outputs": []
    },
    {
      "cell_type": "code",
      "metadata": {
        "id": "_d3uxtsQ0APS",
        "colab": {
          "base_uri": "https://localhost:8080/",
          "height": 33
        },
        "outputId": "89b36a91-2f99-4c87-d908-3fc6f37d6074"
      },
      "source": [
        "P(A.union(B)) == P(A)+P(B) - P(A.intersection(B)) # attention : comparaison risquée de flottants...\n"
      ],
      "execution_count": null,
      "outputs": [
        {
          "output_type": "execute_result",
          "data": {
            "text/plain": [
              "True"
            ]
          },
          "metadata": {
            "tags": []
          },
          "execution_count": 37
        }
      ]
    },
    {
      "cell_type": "code",
      "metadata": {
        "id": "TeyFNLkDFbbE",
        "colab": {
          "base_uri": "https://localhost:8080/",
          "height": 50
        },
        "outputId": "32e005ed-6290-4942-b995-17476628bc2f"
      },
      "source": [
        "print('P(A.union(B)) = ',P(A.union(B)))\n",
        "print('P(A)+P(B) - P(A.intersection(B)) = ',P(A)+P(B) - P(A.intersection(B)))"
      ],
      "execution_count": null,
      "outputs": [
        {
          "output_type": "stream",
          "text": [
            "P(A.union(B)) =  0.85\n",
            "P(A)+P(B) - P(A.intersection(B)) =  0.85\n"
          ],
          "name": "stdout"
        }
      ]
    },
    {
      "cell_type": "code",
      "metadata": {
        "id": "Mmeu5tuo0AQL",
        "colab": {
          "base_uri": "https://localhost:8080/",
          "height": 33
        },
        "outputId": "c0ee33b2-01b8-4975-96f0-80d9d3328813"
      },
      "source": [
        "print(\"La probabilité d'obtenir un nombre premier est :\", P(B))"
      ],
      "execution_count": null,
      "outputs": [
        {
          "output_type": "stream",
          "text": [
            "La probabilité d'obtenir un nombre premier est : 0.4\n"
          ],
          "name": "stdout"
        }
      ]
    },
    {
      "cell_type": "markdown",
      "metadata": {
        "id": "98d5OM0W0AQt"
      },
      "source": [
        "* **Probabilité conditionnelle :**"
      ]
    },
    {
      "cell_type": "code",
      "metadata": {
        "id": "TewBNMzi0AQw"
      },
      "source": [
        "def proba_sachant_que(B,A):\n",
        "    assert len(B)>0\n",
        "    return P(A.intersection(B))/P(B)"
      ],
      "execution_count": null,
      "outputs": []
    },
    {
      "cell_type": "code",
      "metadata": {
        "id": "O4iVOWkV0AQ6",
        "colab": {
          "base_uri": "https://localhost:8080/",
          "height": 33
        },
        "outputId": "d3999505-a65f-4212-ed58-79e51ae564ab"
      },
      "source": [
        "print(\"On obtient une face qui est un nombre premier, la probabilité qu'elle soit paire est :\", proba_sachant_que(B,A))"
      ],
      "execution_count": null,
      "outputs": [
        {
          "output_type": "stream",
          "text": [
            "On obtient une face qui est un nombre premier, la probabilité qu'elle soit paire est : 0.125\n"
          ],
          "name": "stdout"
        }
      ]
    },
    {
      "cell_type": "markdown",
      "metadata": {
        "id": "8ei5VzEW0ARG"
      },
      "source": [
        "* **Variable aléatoire :**\n",
        "\n",
        "On appelle X la variable aléatoire égale au nombre de diviseurs de la face obtenue."
      ]
    },
    {
      "cell_type": "code",
      "metadata": {
        "id": "eUnDx0KK0ARI",
        "colab": {
          "base_uri": "https://localhost:8080/",
          "height": 33
        },
        "outputId": "a8368f22-8019-4f79-ff3e-7119c02fcfc5"
      },
      "source": [
        "X = { n : nombre_diviseurs(n) for n in U } \n",
        "# X(Oméga) : univers sous forme de dictionnaire : la clé est le numero de la face,  \n",
        "# la valeur, son nombre de diviseurs\n",
        "print(X)"
      ],
      "execution_count": null,
      "outputs": [
        {
          "output_type": "stream",
          "text": [
            "{1: 1, 2: 2, 3: 2, 4: 3, 5: 2, 6: 4, 7: 2, 8: 4, 9: 3, 10: 4, 11: 2, 12: 6, 13: 2, 14: 4, 15: 4, 16: 5, 17: 2, 18: 6, 19: 2, 20: 6}\n"
          ],
          "name": "stdout"
        }
      ]
    },
    {
      "cell_type": "code",
      "metadata": {
        "id": "13s4mqVYF5J7",
        "colab": {
          "base_uri": "https://localhost:8080/",
          "height": 33
        },
        "outputId": "29ced90c-af1e-41d2-e077-ee70c657abe5"
      },
      "source": [
        "X.keys()"
      ],
      "execution_count": null,
      "outputs": [
        {
          "output_type": "execute_result",
          "data": {
            "text/plain": [
              "dict_keys([1, 2, 3, 4, 5, 6, 7, 8, 9, 10, 11, 12, 13, 14, 15, 16, 17, 18, 19, 20])"
            ]
          },
          "metadata": {
            "tags": []
          },
          "execution_count": 15
        }
      ]
    },
    {
      "cell_type": "code",
      "metadata": {
        "id": "pqshagoMF-B_",
        "colab": {
          "base_uri": "https://localhost:8080/",
          "height": 33
        },
        "outputId": "66ee8b08-b602-41a1-fe83-7ece00a09f5e"
      },
      "source": [
        "X.values()"
      ],
      "execution_count": null,
      "outputs": [
        {
          "output_type": "execute_result",
          "data": {
            "text/plain": [
              "dict_values([1, 2, 2, 3, 2, 4, 2, 4, 3, 4, 2, 6, 2, 4, 4, 5, 2, 6, 2, 6])"
            ]
          },
          "metadata": {
            "tags": []
          },
          "execution_count": 16
        }
      ]
    },
    {
      "cell_type": "markdown",
      "metadata": {
        "id": "tp6Uilna0ART"
      },
      "source": [
        "* **Loi de la variable aléatoire X :**\n",
        "\n",
        "(c'est à dire X($\\Omega$), puis pour chacun d'eux, on associe sa probabilité)\n",
        "\n",
        "On définit d'abord les événements [X=k]"
      ]
    },
    {
      "cell_type": "code",
      "metadata": {
        "id": "H-Ltryf90ARW"
      },
      "source": [
        "def egal(X,k):\n",
        "    return {x for x in X.keys() if X[x]==k}\n",
        "\n",
        "def loi(X):\n",
        "    return {k : P(egal(X,k)) for k in X.values()}\n",
        "\n"
      ],
      "execution_count": null,
      "outputs": []
    },
    {
      "cell_type": "code",
      "metadata": {
        "id": "9vMI2R6VJVOI"
      },
      "source": [
        ""
      ],
      "execution_count": null,
      "outputs": []
    },
    {
      "cell_type": "code",
      "metadata": {
        "id": "XBLb0nxH0ARj",
        "colab": {
          "base_uri": "https://localhost:8080/",
          "height": 67
        },
        "outputId": "78801cb3-c27e-4bfc-8a3e-89c2eaef1000"
      },
      "source": [
        "loi_X = loi(X)\n",
        "print(loi_X)\n",
        "\n",
        "X_Omega = list(loi_X.keys())\n",
        "#X_Omega[:] = sorted(X_Omega)\n",
        "print('X(Omega) =', X_Omega)\n",
        "\n",
        "probabilites = list(loi_X.values())\n",
        "print('Probabilités respectives :',probabilites)"
      ],
      "execution_count": null,
      "outputs": [
        {
          "output_type": "stream",
          "text": [
            "{1: 0.05, 2: 0.4, 3: 0.1, 4: 0.25, 6: 0.15, 5: 0.05}\n",
            "X(Omega) = [1, 2, 3, 4, 6, 5]\n",
            "Probabilités respectives : [0.05, 0.4, 0.1, 0.25, 0.15, 0.05]\n"
          ],
          "name": "stdout"
        }
      ]
    },
    {
      "cell_type": "markdown",
      "metadata": {
        "id": "5kPcjl4q0ARu"
      },
      "source": [
        "* **Représentation graphique**"
      ]
    },
    {
      "cell_type": "code",
      "metadata": {
        "id": "FtMPby4w0ARx"
      },
      "source": [
        "import matplotlib.pyplot as plt"
      ],
      "execution_count": null,
      "outputs": []
    },
    {
      "cell_type": "code",
      "metadata": {
        "id": "Pj5jCuQ60ASB",
        "colab": {
          "base_uri": "https://localhost:8080/",
          "height": 33
        },
        "outputId": "cb604d5f-56ef-4f8e-fe54-7ee087cc354a"
      },
      "source": [
        "print(X.values())"
      ],
      "execution_count": null,
      "outputs": [
        {
          "output_type": "stream",
          "text": [
            "dict_values([1, 2, 2, 3, 2, 4, 2, 4, 3, 4, 2, 6, 2, 4, 4, 5, 2, 6, 2, 6])\n"
          ],
          "name": "stdout"
        }
      ]
    },
    {
      "cell_type": "code",
      "metadata": {
        "id": "HQ-OTbJY0ASQ",
        "colab": {
          "base_uri": "https://localhost:8080/",
          "height": 315
        },
        "outputId": "3e903c54-6a01-47c1-c9fa-d21571a94a9b"
      },
      "source": [
        "\n",
        "plt.bar(X_Omega,probabilites, width = 0.2, color = 'red', alpha = 0.6)\n",
        "plt.title(\"Loi du nombre de diviseurs des faces d'un de icosaedrique\")\n",
        "plt.xlabel('X($\\Omega$)')\n",
        "plt.ylabel('probabilites')"
      ],
      "execution_count": null,
      "outputs": [
        {
          "output_type": "execute_result",
          "data": {
            "text/plain": [
              "Text(0, 0.5, 'probabilites')"
            ]
          },
          "metadata": {
            "tags": []
          },
          "execution_count": 21
        },
        {
          "output_type": "display_data",
          "data": {
            "image/png": "[encoded data removed]",
            "text/plain": [
              "<Figure size 432x288 with 1 Axes>"
            ]
          },
          "metadata": {
            "tags": [],
            "needs_background": "light"
          }
        }
      ]
    },
    {
      "cell_type": "markdown",
      "metadata": {
        "id": "LRpzmlmj0ASa"
      },
      "source": [
        "* **Fonction de répartition**"
      ]
    },
    {
      "cell_type": "code",
      "metadata": {
        "id": "RW5pGOAI0ASg",
        "colab": {
          "base_uri": "https://localhost:8080/",
          "height": 33
        },
        "outputId": "57db41c4-a347-47b8-e501-a97651e65a3d"
      },
      "source": [
        "def au_plus(X,k):\n",
        "    return {x for x in X.keys() if X[x]<=k}\n",
        "\n",
        "def fRep(X):\n",
        "    return {k:P(au_plus(X,k)) for k in X.values()}\n",
        "\n",
        "print(fRep(X))"
      ],
      "execution_count": null,
      "outputs": [
        {
          "output_type": "stream",
          "text": [
            "{1: 0.05, 2: 0.45, 3: 0.55, 4: 0.8, 6: 1.0, 5: 0.85}\n"
          ],
          "name": "stdout"
        }
      ]
    },
    {
      "cell_type": "markdown",
      "metadata": {
        "id": "KW4fldRi0ASt"
      },
      "source": [
        "* **Éléments caractériques :**\n",
        "\n",
        "  * **Espérance :**\n",
        "  * **Variance :**\n",
        "  * **Écart-type :**"
      ]
    },
    {
      "cell_type": "code",
      "metadata": {
        "id": "gXsz9-SO0ASx"
      },
      "source": [
        "def E(X):\n",
        "    return sum({k*P(egal(X,k)) for k in X.values()})\n",
        "\n",
        "def V(X):\n",
        "    X2 = { k:X[k]**2 for k in X.keys() }\n",
        "    return E(X2)-E(X)**2 # formule de Koenig-Huygens\n",
        "\n",
        "def sigma(X):\n",
        "    from math import sqrt\n",
        "    return sqrt(V(X))"
      ],
      "execution_count": null,
      "outputs": []
    },
    {
      "cell_type": "code",
      "metadata": {
        "id": "UtuKMBCl0AS8",
        "colab": {
          "base_uri": "https://localhost:8080/",
          "height": 67
        },
        "outputId": "7646a248-55e6-454b-a581-086ca1fdc452"
      },
      "source": [
        "print('Espérance de X :',E(X))\n",
        "print('Variance de X :', V(X))\n",
        "print('Écart-type de X :',sigma(X))"
      ],
      "execution_count": null,
      "outputs": [
        {
          "output_type": "stream",
          "text": [
            "Espérance de X : 3.3000000000000003\n",
            "Variance de X : 2.309999999999997\n",
            "Écart-type de X : 1.5198684153570654\n"
          ],
          "name": "stdout"
        }
      ]
    },
    {
      "cell_type": "markdown",
      "metadata": {
        "id": "pdIEZJX70ATI"
      },
      "source": [
        "  * **Quartiles**\n",
        "  \n",
        "  Note : On définira la médiane comme le 2<sup>ème</sup> quartile, valeur de la série à partir de laquelle l'effectif dépasse 50% de la population, ce qui n'est pas la définition enseignée en lycée en France\n",
        "  \n",
        "  * **Intervalle inter-quartiles**  \n",
        "  \n",
        "  * **Deciles**\n",
        "  \n",
        "  Reprenons la fonction de répartition obtenue ci-dessus et classons les valeurs.\n",
        "  Les calculs se font par interpolation linéaire entre les points charnières (Théorème de Thalès)"
      ]
    },
    {
      "cell_type": "code",
      "metadata": {
        "id": "mhyyXoWN0ATL",
        "colab": {
          "base_uri": "https://localhost:8080/",
          "height": 33
        },
        "outputId": "8f2dbe07-858b-44e6-9f27-6c65713fecc2"
      },
      "source": [
        "F = fRep(X)\n",
        "FF = sorted(F.items(), key=lambda t: t[0])\n",
        "print(FF)"
      ],
      "execution_count": null,
      "outputs": [
        {
          "output_type": "stream",
          "text": [
            "[(1, 0.05), (2, 0.45), (3, 0.55), (4, 0.8), (5, 0.85), (6, 1.0)]\n"
          ],
          "name": "stdout"
        }
      ]
    },
    {
      "cell_type": "code",
      "metadata": {
        "id": "tmfsgelK0ATf",
        "colab": {
          "base_uri": "https://localhost:8080/",
          "height": 33
        },
        "outputId": "95992019-18f1-42fc-81a6-bbc81c008efe"
      },
      "source": [
        "k = 0\n",
        "while FF[k][1] < 0.5 :\n",
        "    k = k+1\n",
        "\n",
        "mediane = FF[k-1][0]+(0.5 - FF[k-1][1])/(FF[k][1] - FF[k-1][1])*(FF[k][0]-FF[k-1][0])\n",
        "print('Médiane de la série :',mediane)"
      ],
      "execution_count": null,
      "outputs": [
        {
          "output_type": "stream",
          "text": [
            "Médiane de la série : 2.4999999999999996\n"
          ],
          "name": "stdout"
        }
      ]
    },
    {
      "cell_type": "code",
      "metadata": {
        "id": "WzQHkaf20AT0",
        "colab": {
          "base_uri": "https://localhost:8080/",
          "height": 67
        },
        "outputId": "905ac3ec-0c76-4f4b-e50b-76639d02610b"
      },
      "source": [
        "# Quartiles :\n",
        "quartiles = [0]*3\n",
        "for d in range(1,4):\n",
        "    k = 0\n",
        "    while FF[k][1] < d/4 :\n",
        "        k = k+1\n",
        "\n",
        "    quartiles[d-1] = FF[k-1][0]+(d/4 - FF[k-1][1])/(FF[k][1] - FF[k-1][1])*(FF[k][0]-FF[k-1][0])\n",
        "    print('Q',d,'=',quartiles[d-1])\n"
      ],
      "execution_count": null,
      "outputs": [
        {
          "output_type": "stream",
          "text": [
            "Q 1 = 1.5\n",
            "Q 2 = 2.4999999999999996\n",
            "Q 3 = 3.8\n"
          ],
          "name": "stdout"
        }
      ]
    },
    {
      "cell_type": "code",
      "metadata": {
        "id": "EaoPHyZI0AUL",
        "colab": {
          "base_uri": "https://localhost:8080/",
          "height": 33
        },
        "outputId": "861f4ab8-725e-4672-dde3-46100ba4cb2d"
      },
      "source": [
        "# Intervalle inter-quartiles\n",
        "print(\"50% de la série se situe dans l'intervalle [\", quartiles[0],';',quartiles[2],'].')"
      ],
      "execution_count": null,
      "outputs": [
        {
          "output_type": "stream",
          "text": [
            "50% de la série se situe dans l'intervalle [ 1.5 ; 3.8 ].\n"
          ],
          "name": "stdout"
        }
      ]
    },
    {
      "cell_type": "code",
      "metadata": {
        "id": "Oa7VZakB0AUb",
        "colab": {
          "base_uri": "https://localhost:8080/",
          "height": 167
        },
        "outputId": "b639649d-df58-4fae-82ac-5c6659126272"
      },
      "source": [
        "# Déciles :\n",
        "for d in range(1,10):\n",
        "    k = 0\n",
        "    while FF[k][1] < d/10 :\n",
        "        k = k+1\n",
        "\n",
        "    decile = FF[k-1][0]+(d/10 - FF[k-1][1])/(FF[k][1] - FF[k-1][1])*(FF[k][0]-FF[k-1][0])\n",
        "    print('D',d,'=',decile)\n"
      ],
      "execution_count": null,
      "outputs": [
        {
          "output_type": "stream",
          "text": [
            "D 1 = 1.125\n",
            "D 2 = 1.375\n",
            "D 3 = 1.625\n",
            "D 4 = 1.875\n",
            "D 5 = 2.4999999999999996\n",
            "D 6 = 3.1999999999999997\n",
            "D 7 = 3.5999999999999996\n",
            "D 8 = 4.0\n",
            "D 9 = 5.333333333333334\n"
          ],
          "name": "stdout"
        }
      ]
    },
    {
      "cell_type": "code",
      "metadata": {
        "id": "9DiWvD6kKwDe"
      },
      "source": [
        ""
      ],
      "execution_count": null,
      "outputs": []
    }
  ]
}